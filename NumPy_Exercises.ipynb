{
 "cells": [
  {
   "cell_type": "code",
   "id": "initial_id",
   "metadata": {
    "collapsed": true,
    "ExecuteTime": {
     "end_time": "2025-05-10T08:39:55.522338Z",
     "start_time": "2025-05-10T08:39:55.164608Z"
    }
   },
   "source": [
    "import numpy as np\n",
    "import pandas as pd\n",
    "import matplotlib.pyplot as plt\n",
    "from pandas import DataFrame"
   ],
   "outputs": [],
   "execution_count": 1
  },
  {
   "metadata": {},
   "cell_type": "markdown",
   "source": "## Numpy Data Types and attributes",
   "id": "9a4cb79f2c519e08"
  },
  {
   "metadata": {
    "ExecuteTime": {
     "end_time": "2025-05-10T08:39:55.587349Z",
     "start_time": "2025-05-10T08:39:55.585513Z"
    }
   },
   "cell_type": "code",
   "source": "# NumPy ndarray ... meaning n-dimensional array",
   "id": "7ffc8cd1c63e6438",
   "outputs": [],
   "execution_count": 2
  },
  {
   "metadata": {
    "ExecuteTime": {
     "end_time": "2025-05-10T08:39:55.594344Z",
     "start_time": "2025-05-10T08:39:55.591700Z"
    }
   },
   "cell_type": "code",
   "source": [
    "a1 = np.array([1, 2, 3, 4, 5])\n",
    "a2 = np.array([\n",
    "               [6, 7, 8, 9, 10],\n",
    "               [11,12,13,14,15]\n",
    "              ])\n",
    "print(a1)\n",
    "print(a2)\n",
    "print(a1 + a2)\n",
    "print(a1.dtype)\n",
    "print(type(a2))"
   ],
   "id": "e392195d51e53c17",
   "outputs": [
    {
     "name": "stdout",
     "output_type": "stream",
     "text": [
      "[1 2 3 4 5]\n",
      "[[ 6  7  8  9 10]\n",
      " [11 12 13 14 15]]\n",
      "[[ 7  9 11 13 15]\n",
      " [12 14 16 18 20]]\n",
      "int64\n",
      "<class 'numpy.ndarray'>\n"
     ]
    }
   ],
   "execution_count": 3
  },
  {
   "metadata": {},
   "cell_type": "markdown",
   "source": "## Creating the (2,3,3) matrix",
   "id": "657597d347632f32"
  },
  {
   "metadata": {
    "ExecuteTime": {
     "end_time": "2025-05-10T08:39:55.607423Z",
     "start_time": "2025-05-10T08:39:55.605553Z"
    }
   },
   "cell_type": "code",
   "source": [
    "a3 = np.array([\n",
    "                [[1,2,3],[4,5,6]],\n",
    "                [[7,8,9],[10,11,12]],\n",
    "                [[13,14,15,],[16,17,18]]\n",
    "              ])"
   ],
   "id": "af0f52677f3c5db0",
   "outputs": [],
   "execution_count": 4
  },
  {
   "metadata": {
    "ExecuteTime": {
     "end_time": "2025-05-10T08:39:55.615418Z",
     "start_time": "2025-05-10T08:39:55.613163Z"
    }
   },
   "cell_type": "code",
   "source": "print(a3)",
   "id": "933a04e99022a3a1",
   "outputs": [
    {
     "name": "stdout",
     "output_type": "stream",
     "text": [
      "[[[ 1  2  3]\n",
      "  [ 4  5  6]]\n",
      "\n",
      " [[ 7  8  9]\n",
      "  [10 11 12]]\n",
      "\n",
      " [[13 14 15]\n",
      "  [16 17 18]]]\n"
     ]
    }
   ],
   "execution_count": 5
  },
  {
   "metadata": {
    "ExecuteTime": {
     "end_time": "2025-05-10T08:39:55.624912Z",
     "start_time": "2025-05-10T08:39:55.623073Z"
    }
   },
   "cell_type": "code",
   "source": "print(a3[1][1][2])",
   "id": "7566addca85986d9",
   "outputs": [
    {
     "name": "stdout",
     "output_type": "stream",
     "text": [
      "12\n"
     ]
    }
   ],
   "execution_count": 6
  },
  {
   "metadata": {
    "ExecuteTime": {
     "end_time": "2025-05-10T08:39:55.635083Z",
     "start_time": "2025-05-10T08:39:55.632102Z"
    }
   },
   "cell_type": "code",
   "source": "a3.shape",
   "id": "f2de80f9d4b55239",
   "outputs": [
    {
     "data": {
      "text/plain": [
       "(3, 2, 3)"
      ]
     },
     "execution_count": 7,
     "metadata": {},
     "output_type": "execute_result"
    }
   ],
   "execution_count": 7
  },
  {
   "metadata": {
    "ExecuteTime": {
     "end_time": "2025-05-10T08:39:55.647465Z",
     "start_time": "2025-05-10T08:39:55.644528Z"
    }
   },
   "cell_type": "code",
   "source": "a3.ndim",
   "id": "bcc1c295c28e477",
   "outputs": [
    {
     "data": {
      "text/plain": [
       "3"
      ]
     },
     "execution_count": 8,
     "metadata": {},
     "output_type": "execute_result"
    }
   ],
   "execution_count": 8
  },
  {
   "metadata": {
    "ExecuteTime": {
     "end_time": "2025-05-10T08:39:55.657332Z",
     "start_time": "2025-05-10T08:39:55.654882Z"
    }
   },
   "cell_type": "code",
   "source": "a3.size",
   "id": "43197a381cbe5500",
   "outputs": [
    {
     "data": {
      "text/plain": [
       "18"
      ]
     },
     "execution_count": 9,
     "metadata": {},
     "output_type": "execute_result"
    }
   ],
   "execution_count": 9
  },
  {
   "metadata": {
    "ExecuteTime": {
     "end_time": "2025-05-10T08:39:55.668326Z",
     "start_time": "2025-05-10T08:39:55.666001Z"
    }
   },
   "cell_type": "code",
   "source": "type(a3)",
   "id": "95a37d6c38eb2ff8",
   "outputs": [
    {
     "data": {
      "text/plain": [
       "numpy.ndarray"
      ]
     },
     "execution_count": 10,
     "metadata": {},
     "output_type": "execute_result"
    }
   ],
   "execution_count": 10
  },
  {
   "metadata": {},
   "cell_type": "markdown",
   "source": "## Create a Data Frame from a NumPy Array",
   "id": "4ea73717be142fe8"
  },
  {
   "metadata": {
    "ExecuteTime": {
     "end_time": "2025-05-10T08:39:55.681517Z",
     "start_time": "2025-05-10T08:39:55.676793Z"
    }
   },
   "cell_type": "code",
   "source": [
    "df = pd.DataFrame(a2)\n",
    "df"
   ],
   "id": "70dc85df92d7d805",
   "outputs": [
    {
     "data": {
      "text/plain": [
       "    0   1   2   3   4\n",
       "0   6   7   8   9  10\n",
       "1  11  12  13  14  15"
      ],
      "text/html": [
       "<div>\n",
       "<style scoped>\n",
       "    .dataframe tbody tr th:only-of-type {\n",
       "        vertical-align: middle;\n",
       "    }\n",
       "\n",
       "    .dataframe tbody tr th {\n",
       "        vertical-align: top;\n",
       "    }\n",
       "\n",
       "    .dataframe thead th {\n",
       "        text-align: right;\n",
       "    }\n",
       "</style>\n",
       "<table border=\"1\" class=\"dataframe\">\n",
       "  <thead>\n",
       "    <tr style=\"text-align: right;\">\n",
       "      <th></th>\n",
       "      <th>0</th>\n",
       "      <th>1</th>\n",
       "      <th>2</th>\n",
       "      <th>3</th>\n",
       "      <th>4</th>\n",
       "    </tr>\n",
       "  </thead>\n",
       "  <tbody>\n",
       "    <tr>\n",
       "      <th>0</th>\n",
       "      <td>6</td>\n",
       "      <td>7</td>\n",
       "      <td>8</td>\n",
       "      <td>9</td>\n",
       "      <td>10</td>\n",
       "    </tr>\n",
       "    <tr>\n",
       "      <th>1</th>\n",
       "      <td>11</td>\n",
       "      <td>12</td>\n",
       "      <td>13</td>\n",
       "      <td>14</td>\n",
       "      <td>15</td>\n",
       "    </tr>\n",
       "  </tbody>\n",
       "</table>\n",
       "</div>"
      ]
     },
     "execution_count": 11,
     "metadata": {},
     "output_type": "execute_result"
    }
   ],
   "execution_count": 11
  },
  {
   "metadata": {
    "ExecuteTime": {
     "end_time": "2025-05-10T08:39:55.709008Z",
     "start_time": "2025-05-10T08:39:55.706562Z"
    }
   },
   "cell_type": "code",
   "source": [
    "# populate a numoy array with all 1's - Array is 2x3\n",
    "ones = np.ones((2,3), dtype=int)\n",
    "print(ones)"
   ],
   "id": "93114c07b86251a6",
   "outputs": [
    {
     "name": "stdout",
     "output_type": "stream",
     "text": [
      "[[1 1 1]\n",
      " [1 1 1]]\n"
     ]
    }
   ],
   "execution_count": 12
  },
  {
   "metadata": {
    "ExecuteTime": {
     "end_time": "2025-05-10T08:39:55.739856Z",
     "start_time": "2025-05-10T08:39:55.737492Z"
    }
   },
   "cell_type": "code",
   "source": [
    "# Ensure types is int\n",
    "ones.dtype"
   ],
   "id": "88352672b93dea7c",
   "outputs": [
    {
     "data": {
      "text/plain": [
       "dtype('int64')"
      ]
     },
     "execution_count": 13,
     "metadata": {},
     "output_type": "execute_result"
    }
   ],
   "execution_count": 13
  },
  {
   "metadata": {
    "ExecuteTime": {
     "end_time": "2025-05-10T08:39:55.757764Z",
     "start_time": "2025-05-10T08:39:55.756087Z"
    }
   },
   "cell_type": "code",
   "source": [
    "# Create a pandas DataFrame and populate it with the np array\n",
    "df = pd.DataFrame(ones)"
   ],
   "id": "853419f4e2485605",
   "outputs": [],
   "execution_count": 14
  },
  {
   "metadata": {
    "ExecuteTime": {
     "end_time": "2025-05-10T08:39:55.768717Z",
     "start_time": "2025-05-10T08:39:55.765373Z"
    }
   },
   "cell_type": "code",
   "source": [
    "# View the DataFrame\n",
    "df"
   ],
   "id": "852a0298eb9a9e35",
   "outputs": [
    {
     "data": {
      "text/plain": [
       "   0  1  2\n",
       "0  1  1  1\n",
       "1  1  1  1"
      ],
      "text/html": [
       "<div>\n",
       "<style scoped>\n",
       "    .dataframe tbody tr th:only-of-type {\n",
       "        vertical-align: middle;\n",
       "    }\n",
       "\n",
       "    .dataframe tbody tr th {\n",
       "        vertical-align: top;\n",
       "    }\n",
       "\n",
       "    .dataframe thead th {\n",
       "        text-align: right;\n",
       "    }\n",
       "</style>\n",
       "<table border=\"1\" class=\"dataframe\">\n",
       "  <thead>\n",
       "    <tr style=\"text-align: right;\">\n",
       "      <th></th>\n",
       "      <th>0</th>\n",
       "      <th>1</th>\n",
       "      <th>2</th>\n",
       "    </tr>\n",
       "  </thead>\n",
       "  <tbody>\n",
       "    <tr>\n",
       "      <th>0</th>\n",
       "      <td>1</td>\n",
       "      <td>1</td>\n",
       "      <td>1</td>\n",
       "    </tr>\n",
       "    <tr>\n",
       "      <th>1</th>\n",
       "      <td>1</td>\n",
       "      <td>1</td>\n",
       "      <td>1</td>\n",
       "    </tr>\n",
       "  </tbody>\n",
       "</table>\n",
       "</div>"
      ]
     },
     "execution_count": 15,
     "metadata": {},
     "output_type": "execute_result"
    }
   ],
   "execution_count": 15
  },
  {
   "metadata": {
    "ExecuteTime": {
     "end_time": "2025-05-10T08:39:55.805940Z",
     "start_time": "2025-05-10T08:39:55.803804Z"
    }
   },
   "cell_type": "code",
   "source": [
    "# What data types is the 'ones' array? - numpy.ndarray\n",
    "type(ones)"
   ],
   "id": "45f7ab59397336f",
   "outputs": [
    {
     "data": {
      "text/plain": [
       "numpy.ndarray"
      ]
     },
     "execution_count": 16,
     "metadata": {},
     "output_type": "execute_result"
    }
   ],
   "execution_count": 16
  },
  {
   "metadata": {
    "ExecuteTime": {
     "end_time": "2025-05-10T08:39:55.835985Z",
     "start_time": "2025-05-10T08:39:55.834636Z"
    }
   },
   "cell_type": "code",
   "source": "",
   "id": "9302c8d5ebe9a306",
   "outputs": [],
   "execution_count": null
  }
 ],
 "metadata": {
  "kernelspec": {
   "display_name": "Python 3",
   "language": "python",
   "name": "python3"
  },
  "language_info": {
   "codemirror_mode": {
    "name": "ipython",
    "version": 2
   },
   "file_extension": ".py",
   "mimetype": "text/x-python",
   "name": "python",
   "nbconvert_exporter": "python",
   "pygments_lexer": "ipython2",
   "version": "2.7.6"
  }
 },
 "nbformat": 4,
 "nbformat_minor": 5
}
