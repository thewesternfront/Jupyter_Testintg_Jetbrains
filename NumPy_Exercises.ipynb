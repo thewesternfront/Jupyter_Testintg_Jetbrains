{
 "cells": [
  {
   "cell_type": "code",
   "id": "initial_id",
   "metadata": {
    "collapsed": true,
    "ExecuteTime": {
     "end_time": "2025-04-17T22:16:55.591701Z",
     "start_time": "2025-04-17T22:16:55.588042Z"
    }
   },
   "source": [
    "import numpy as np\n",
    "import pandas as pd\n",
    "import matplotlib.pyplot as plt"
   ],
   "outputs": [],
   "execution_count": 4
  },
  {
   "metadata": {},
   "cell_type": "markdown",
   "source": "## Numpy Data Types and attributes",
   "id": "9a4cb79f2c519e08"
  },
  {
   "metadata": {
    "ExecuteTime": {
     "end_time": "2025-04-17T22:49:28.176592Z",
     "start_time": "2025-04-17T22:49:28.169436Z"
    }
   },
   "cell_type": "code",
   "source": "# NumPy ndarray ... meaning n-dimensional array",
   "id": "7ffc8cd1c63e6438",
   "outputs": [],
   "execution_count": 7
  },
  {
   "metadata": {
    "ExecuteTime": {
     "end_time": "2025-04-17T22:53:55.604697Z",
     "start_time": "2025-04-17T22:53:55.591226Z"
    }
   },
   "cell_type": "code",
   "source": [
    "a1 = np.array([1, 2, 3, 4, 5])\n",
    "a2 = np.array([6, 7, 8, 9, 10])\n",
    "print(a1)\n",
    "print(a2)\n",
    "print(a1 + a2)\n",
    "print(a1.dtype)\n",
    "print(type(a2))"
   ],
   "id": "e392195d51e53c17",
   "outputs": [
    {
     "name": "stdout",
     "output_type": "stream",
     "text": [
      "[1 2 3 4 5]\n",
      "[ 6  7  8  9 10]\n",
      "[ 7  9 11 13 15]\n",
      "int64\n",
      "<class 'numpy.ndarray'>\n"
     ]
    }
   ],
   "execution_count": 9
  },
  {
   "metadata": {},
   "cell_type": "markdown",
   "source": "## Creating the (2,3,3) matrix",
   "id": "657597d347632f32"
  },
  {
   "metadata": {
    "ExecuteTime": {
     "end_time": "2025-04-17T23:04:26.451429Z",
     "start_time": "2025-04-17T23:04:26.447186Z"
    }
   },
   "cell_type": "code",
   "source": [
    "a3 = np.array([\n",
    "                [[1,2,3],[4,5,6]],\n",
    "                [[7,8,9],[10,11,12]],\n",
    "                [[13,14,15,],[16,17,18]]\n",
    "              ])"
   ],
   "id": "af0f52677f3c5db0",
   "outputs": [],
   "execution_count": 11
  },
  {
   "metadata": {
    "ExecuteTime": {
     "end_time": "2025-04-17T23:04:38.641831Z",
     "start_time": "2025-04-17T23:04:38.638286Z"
    }
   },
   "cell_type": "code",
   "source": "print(a3)",
   "id": "933a04e99022a3a1",
   "outputs": [
    {
     "name": "stdout",
     "output_type": "stream",
     "text": [
      "[[[ 1  2  3]\n",
      "  [ 4  5  6]]\n",
      "\n",
      " [[ 7  8  9]\n",
      "  [10 11 12]]\n",
      "\n",
      " [[13 14 15]\n",
      "  [16 17 18]]]\n"
     ]
    }
   ],
   "execution_count": 12
  },
  {
   "metadata": {},
   "cell_type": "code",
   "outputs": [],
   "execution_count": null,
   "source": "",
   "id": "7566addca85986d9"
  }
 ],
 "metadata": {
  "kernelspec": {
   "display_name": "Python 3",
   "language": "python",
   "name": "python3"
  },
  "language_info": {
   "codemirror_mode": {
    "name": "ipython",
    "version": 2
   },
   "file_extension": ".py",
   "mimetype": "text/x-python",
   "name": "python",
   "nbconvert_exporter": "python",
   "pygments_lexer": "ipython2",
   "version": "2.7.6"
  }
 },
 "nbformat": 4,
 "nbformat_minor": 5
}
