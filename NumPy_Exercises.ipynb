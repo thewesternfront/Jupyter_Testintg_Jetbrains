{
 "cells": [
  {
   "cell_type": "code",
   "id": "initial_id",
   "metadata": {
    "collapsed": true,
    "ExecuteTime": {
     "end_time": "2025-04-19T01:33:07.196696Z",
     "start_time": "2025-04-19T01:33:07.183396Z"
    }
   },
   "source": [
    "import numpy as np\n",
    "import pandas as pd\n",
    "import matplotlib.pyplot as plt"
   ],
   "outputs": [],
   "execution_count": 37
  },
  {
   "metadata": {},
   "cell_type": "markdown",
   "source": "## Numpy Data Types and attributes",
   "id": "9a4cb79f2c519e08"
  },
  {
   "metadata": {
    "ExecuteTime": {
     "end_time": "2025-04-19T01:33:07.215535Z",
     "start_time": "2025-04-19T01:33:07.212745Z"
    }
   },
   "cell_type": "code",
   "source": "# NumPy ndarray ... meaning n-dimensional array",
   "id": "7ffc8cd1c63e6438",
   "outputs": [],
   "execution_count": 38
  },
  {
   "metadata": {
    "ExecuteTime": {
     "end_time": "2025-04-19T01:33:07.245512Z",
     "start_time": "2025-04-19T01:33:07.239447Z"
    }
   },
   "cell_type": "code",
   "source": [
    "a1 = np.array([1, 2, 3, 4, 5])\n",
    "a2 = np.array([\n",
    "               [6, 7, 8, 9, 10],\n",
    "               [11,12,13,14,15]\n",
    "              ])\n",
    "print(a1)\n",
    "print(a2)\n",
    "print(a1 + a2)\n",
    "print(a1.dtype)\n",
    "print(type(a2))"
   ],
   "id": "e392195d51e53c17",
   "outputs": [
    {
     "name": "stdout",
     "output_type": "stream",
     "text": [
      "[1 2 3 4 5]\n",
      "[[ 6  7  8  9 10]\n",
      " [11 12 13 14 15]]\n",
      "[[ 7  9 11 13 15]\n",
      " [12 14 16 18 20]]\n",
      "int64\n",
      "<class 'numpy.ndarray'>\n"
     ]
    }
   ],
   "execution_count": 39
  },
  {
   "metadata": {},
   "cell_type": "markdown",
   "source": "## Creating the (2,3,3) matrix",
   "id": "657597d347632f32"
  },
  {
   "metadata": {
    "ExecuteTime": {
     "end_time": "2025-04-19T01:33:07.261996Z",
     "start_time": "2025-04-19T01:33:07.256572Z"
    }
   },
   "cell_type": "code",
   "source": [
    "a3 = np.array([\n",
    "                [[1,2,3],[4,5,6]],\n",
    "                [[7,8,9],[10,11,12]],\n",
    "                [[13,14,15,],[16,17,18]]\n",
    "              ])"
   ],
   "id": "af0f52677f3c5db0",
   "outputs": [],
   "execution_count": 40
  },
  {
   "metadata": {
    "ExecuteTime": {
     "end_time": "2025-04-19T01:33:07.281766Z",
     "start_time": "2025-04-19T01:33:07.276036Z"
    }
   },
   "cell_type": "code",
   "source": "print(a3)",
   "id": "933a04e99022a3a1",
   "outputs": [
    {
     "name": "stdout",
     "output_type": "stream",
     "text": [
      "[[[ 1  2  3]\n",
      "  [ 4  5  6]]\n",
      "\n",
      " [[ 7  8  9]\n",
      "  [10 11 12]]\n",
      "\n",
      " [[13 14 15]\n",
      "  [16 17 18]]]\n"
     ]
    }
   ],
   "execution_count": 41
  },
  {
   "metadata": {
    "ExecuteTime": {
     "end_time": "2025-04-19T01:33:07.304769Z",
     "start_time": "2025-04-19T01:33:07.300062Z"
    }
   },
   "cell_type": "code",
   "source": "print(a3[1][1][2])",
   "id": "7566addca85986d9",
   "outputs": [
    {
     "name": "stdout",
     "output_type": "stream",
     "text": [
      "12\n"
     ]
    }
   ],
   "execution_count": 42
  },
  {
   "metadata": {
    "ExecuteTime": {
     "end_time": "2025-04-19T01:33:07.413460Z",
     "start_time": "2025-04-19T01:33:07.402241Z"
    }
   },
   "cell_type": "code",
   "source": "a3.shape",
   "id": "f2de80f9d4b55239",
   "outputs": [
    {
     "data": {
      "text/plain": [
       "(3, 2, 3)"
      ]
     },
     "execution_count": 43,
     "metadata": {},
     "output_type": "execute_result"
    }
   ],
   "execution_count": 43
  },
  {
   "metadata": {
    "ExecuteTime": {
     "end_time": "2025-04-19T01:33:07.483819Z",
     "start_time": "2025-04-19T01:33:07.467896Z"
    }
   },
   "cell_type": "code",
   "source": "a3.ndim",
   "id": "bcc1c295c28e477",
   "outputs": [
    {
     "data": {
      "text/plain": [
       "3"
      ]
     },
     "execution_count": 44,
     "metadata": {},
     "output_type": "execute_result"
    }
   ],
   "execution_count": 44
  },
  {
   "metadata": {
    "ExecuteTime": {
     "end_time": "2025-04-19T01:33:07.558347Z",
     "start_time": "2025-04-19T01:33:07.547624Z"
    }
   },
   "cell_type": "code",
   "source": "a3.size",
   "id": "43197a381cbe5500",
   "outputs": [
    {
     "data": {
      "text/plain": [
       "18"
      ]
     },
     "execution_count": 45,
     "metadata": {},
     "output_type": "execute_result"
    }
   ],
   "execution_count": 45
  },
  {
   "metadata": {
    "ExecuteTime": {
     "end_time": "2025-04-19T01:33:07.627325Z",
     "start_time": "2025-04-19T01:33:07.620542Z"
    }
   },
   "cell_type": "code",
   "source": "type(a3)",
   "id": "95a37d6c38eb2ff8",
   "outputs": [
    {
     "data": {
      "text/plain": [
       "numpy.ndarray"
      ]
     },
     "execution_count": 46,
     "metadata": {},
     "output_type": "execute_result"
    }
   ],
   "execution_count": 46
  },
  {
   "metadata": {},
   "cell_type": "markdown",
   "source": "## Create a Data Frame from a NumPy Array",
   "id": "4ea73717be142fe8"
  },
  {
   "metadata": {
    "ExecuteTime": {
     "end_time": "2025-04-19T01:33:07.808019Z",
     "start_time": "2025-04-19T01:33:07.801073Z"
    }
   },
   "cell_type": "code",
   "source": [
    "df = pd.DataFrame(a2)\n",
    "df"
   ],
   "id": "70dc85df92d7d805",
   "outputs": [
    {
     "data": {
      "text/plain": [
       "    0   1   2   3   4\n",
       "0   6   7   8   9  10\n",
       "1  11  12  13  14  15"
      ],
      "text/html": [
       "<div>\n",
       "<style scoped>\n",
       "    .dataframe tbody tr th:only-of-type {\n",
       "        vertical-align: middle;\n",
       "    }\n",
       "\n",
       "    .dataframe tbody tr th {\n",
       "        vertical-align: top;\n",
       "    }\n",
       "\n",
       "    .dataframe thead th {\n",
       "        text-align: right;\n",
       "    }\n",
       "</style>\n",
       "<table border=\"1\" class=\"dataframe\">\n",
       "  <thead>\n",
       "    <tr style=\"text-align: right;\">\n",
       "      <th></th>\n",
       "      <th>0</th>\n",
       "      <th>1</th>\n",
       "      <th>2</th>\n",
       "      <th>3</th>\n",
       "      <th>4</th>\n",
       "    </tr>\n",
       "  </thead>\n",
       "  <tbody>\n",
       "    <tr>\n",
       "      <th>0</th>\n",
       "      <td>6</td>\n",
       "      <td>7</td>\n",
       "      <td>8</td>\n",
       "      <td>9</td>\n",
       "      <td>10</td>\n",
       "    </tr>\n",
       "    <tr>\n",
       "      <th>1</th>\n",
       "      <td>11</td>\n",
       "      <td>12</td>\n",
       "      <td>13</td>\n",
       "      <td>14</td>\n",
       "      <td>15</td>\n",
       "    </tr>\n",
       "  </tbody>\n",
       "</table>\n",
       "</div>"
      ]
     },
     "execution_count": 47,
     "metadata": {},
     "output_type": "execute_result"
    }
   ],
   "execution_count": 47
  },
  {
   "metadata": {
    "ExecuteTime": {
     "end_time": "2025-04-19T01:33:07.858538Z",
     "start_time": "2025-04-19T01:33:07.856501Z"
    }
   },
   "cell_type": "code",
   "source": "",
   "id": "93114c07b86251a6",
   "outputs": [],
   "execution_count": null
  }
 ],
 "metadata": {
  "kernelspec": {
   "display_name": "Python 3",
   "language": "python",
   "name": "python3"
  },
  "language_info": {
   "codemirror_mode": {
    "name": "ipython",
    "version": 2
   },
   "file_extension": ".py",
   "mimetype": "text/x-python",
   "name": "python",
   "nbconvert_exporter": "python",
   "pygments_lexer": "ipython2",
   "version": "2.7.6"
  }
 },
 "nbformat": 4,
 "nbformat_minor": 5
}
