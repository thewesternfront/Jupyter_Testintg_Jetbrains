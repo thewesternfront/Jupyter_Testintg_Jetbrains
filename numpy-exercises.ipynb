{
 "cells": [
  {
   "cell_type": "markdown",
   "metadata": {},
   "source": [
    "# NumPy Practice\n",
    "\n",
    "This notebook offers a set of exercises for different tasks with NumPy.\n",
    "\n",
    "It should be noted there may be more than one different way to answer a question or complete an exercise.\n",
    "\n",
    "Exercises are based off (and directly taken from) the quick introduction to NumPy notebook.\n",
    "\n",
    "Different tasks will be detailed by comments or text.\n",
    "\n",
    "For further reference and resources, it's advised to check out the [NumPy documentation](https://numpy.org/devdocs/user/index.html).\n",
    "\n",
    "And if you get stuck, try searching for a question in the following format: \"how to do XYZ with numpy\", where XYZ is the function you want to leverage from NumPy."
   ]
  },
  {
   "cell_type": "code",
   "metadata": {
    "ExecuteTime": {
     "end_time": "2025-09-06T20:55:17.860882Z",
     "start_time": "2025-09-06T20:55:17.814144Z"
    }
   },
   "source": [
    "# Import NumPy as its abbreviation 'np'\n",
    "import numpy as np"
   ],
   "outputs": [],
   "execution_count": 1
  },
  {
   "cell_type": "code",
   "metadata": {
    "ExecuteTime": {
     "end_time": "2025-09-06T20:55:17.914854Z",
     "start_time": "2025-09-06T20:55:17.913246Z"
    }
   },
   "source": [
    "# Create a 1-dimensional NumPy array using np.array()\n",
    "array1d = np.array([1,2,3,4,5])\n",
    "\n",
    "# Create a 2-dimensional NumPy array using np.array()\n",
    "array2d = np.array([[1,2,3],[4,5,6]])\n",
    "\n",
    "# Create a 3-dimensional Numpy array using np.array()\n",
    "array3d = np.array([    [[1,2,3],\n",
    "                        [4,5,6]],\n",
    "\n",
    "                        [[7,8,9],\n",
    "                        [10,11,12]],\n",
    "\n",
    "                        [[13,14,15],\n",
    "                         [16,17,18]]\n",
    "                    ])\n",
    "# Should equal 9\n",
    "print(array3d[1,0,2])\n"
   ],
   "outputs": [
    {
     "name": "stdout",
     "output_type": "stream",
     "text": [
      "9\n"
     ]
    }
   ],
   "execution_count": 2
  },
  {
   "cell_type": "markdown",
   "metadata": {},
   "source": [
    "Now we've you've created 3 different arrays, let's find details about them.\n",
    "\n",
    "Find the shape, number of dimensions, data type, size and type of each array."
   ]
  },
  {
   "cell_type": "code",
   "metadata": {
    "ExecuteTime": {
     "end_time": "2025-09-06T20:55:17.930886Z",
     "start_time": "2025-09-06T20:55:17.928903Z"
    }
   },
   "source": [
    "# Attributes of 1-dimensional array (shape, \n",
    "# number of dimensions, data type, size and type)\n",
    "print(array1d)\n",
    "print(array1d.shape)\n",
    "print(array1d.size)\n",
    "print(array1d.dtype)\n",
    "print(array1d.ndim)"
   ],
   "outputs": [
    {
     "name": "stdout",
     "output_type": "stream",
     "text": [
      "[1 2 3 4 5]\n",
      "(5,)\n",
      "5\n",
      "int64\n",
      "1\n"
     ]
    }
   ],
   "execution_count": 3
  },
  {
   "cell_type": "code",
   "metadata": {
    "ExecuteTime": {
     "end_time": "2025-09-06T20:55:17.977767Z",
     "start_time": "2025-09-06T20:55:17.970495Z"
    }
   },
   "source": [
    "# Attributes of 2-dimensional array\n",
    "print(array2d)\n",
    "print(array2d.shape)\n",
    "print(array2d.size)\n",
    "print(array2d.dtype)\n",
    "print(array2d.ndim)"
   ],
   "outputs": [
    {
     "name": "stdout",
     "output_type": "stream",
     "text": [
      "[[1 2 3]\n",
      " [4 5 6]]\n",
      "(2, 3)\n",
      "6\n",
      "int64\n",
      "2\n"
     ]
    }
   ],
   "execution_count": 4
  },
  {
   "cell_type": "code",
   "metadata": {
    "ExecuteTime": {
     "end_time": "2025-09-06T20:55:17.994450Z",
     "start_time": "2025-09-06T20:55:17.992544Z"
    }
   },
   "source": [
    "# Attributes of 3-dimensional array\n",
    "print(array3d)\n",
    "print(array3d.shape)\n",
    "print(array3d.size)\n",
    "print(array3d.dtype)\n",
    "print(array3d.ndim)"
   ],
   "outputs": [
    {
     "name": "stdout",
     "output_type": "stream",
     "text": [
      "[[[ 1  2  3]\n",
      "  [ 4  5  6]]\n",
      "\n",
      " [[ 7  8  9]\n",
      "  [10 11 12]]\n",
      "\n",
      " [[13 14 15]\n",
      "  [16 17 18]]]\n",
      "(3, 2, 3)\n",
      "18\n",
      "int64\n",
      "3\n"
     ]
    }
   ],
   "execution_count": 5
  },
  {
   "cell_type": "code",
   "metadata": {
    "ExecuteTime": {
     "end_time": "2025-09-06T20:55:18.252364Z",
     "start_time": "2025-09-06T20:55:18.006847Z"
    }
   },
   "source": [
    "# Import pandas and create a DataFrame out of one\n",
    "# of the arrays you've created\n",
    "import pandas as pd\n",
    "MyDataFrame = pd.DataFrame(array2d)\n",
    "MyDataFrame"
   ],
   "outputs": [
    {
     "data": {
      "text/plain": [
       "   0  1  2\n",
       "0  1  2  3\n",
       "1  4  5  6"
      ],
      "text/html": [
       "<div>\n",
       "<style scoped>\n",
       "    .dataframe tbody tr th:only-of-type {\n",
       "        vertical-align: middle;\n",
       "    }\n",
       "\n",
       "    .dataframe tbody tr th {\n",
       "        vertical-align: top;\n",
       "    }\n",
       "\n",
       "    .dataframe thead th {\n",
       "        text-align: right;\n",
       "    }\n",
       "</style>\n",
       "<table border=\"1\" class=\"dataframe\">\n",
       "  <thead>\n",
       "    <tr style=\"text-align: right;\">\n",
       "      <th></th>\n",
       "      <th>0</th>\n",
       "      <th>1</th>\n",
       "      <th>2</th>\n",
       "    </tr>\n",
       "  </thead>\n",
       "  <tbody>\n",
       "    <tr>\n",
       "      <th>0</th>\n",
       "      <td>1</td>\n",
       "      <td>2</td>\n",
       "      <td>3</td>\n",
       "    </tr>\n",
       "    <tr>\n",
       "      <th>1</th>\n",
       "      <td>4</td>\n",
       "      <td>5</td>\n",
       "      <td>6</td>\n",
       "    </tr>\n",
       "  </tbody>\n",
       "</table>\n",
       "</div>"
      ]
     },
     "execution_count": 6,
     "metadata": {},
     "output_type": "execute_result"
    }
   ],
   "execution_count": 6
  },
  {
   "cell_type": "code",
   "metadata": {
    "ExecuteTime": {
     "end_time": "2025-09-06T20:55:18.274357Z",
     "start_time": "2025-09-06T20:55:18.272123Z"
    }
   },
   "source": [
    "# Create an array of shape (10, 2) with only ones\n",
    "ones_matrix = np.ones((10,2), dtype = int)\n",
    "ones_matrix"
   ],
   "outputs": [
    {
     "data": {
      "text/plain": [
       "array([[1, 1],\n",
       "       [1, 1],\n",
       "       [1, 1],\n",
       "       [1, 1],\n",
       "       [1, 1],\n",
       "       [1, 1],\n",
       "       [1, 1],\n",
       "       [1, 1],\n",
       "       [1, 1],\n",
       "       [1, 1]])"
      ]
     },
     "execution_count": 7,
     "metadata": {},
     "output_type": "execute_result"
    }
   ],
   "execution_count": 7
  },
  {
   "cell_type": "code",
   "metadata": {
    "ExecuteTime": {
     "end_time": "2025-09-06T20:55:18.320012Z",
     "start_time": "2025-09-06T20:55:18.318039Z"
    }
   },
   "source": [
    "# Create an array of shape (7, 2, 3) of only zeros\n",
    "ones3darray = np.zeros((7, 2, 3), dtype = int)\n",
    "ones3darray"
   ],
   "outputs": [
    {
     "data": {
      "text/plain": [
       "array([[[0, 0, 0],\n",
       "        [0, 0, 0]],\n",
       "\n",
       "       [[0, 0, 0],\n",
       "        [0, 0, 0]],\n",
       "\n",
       "       [[0, 0, 0],\n",
       "        [0, 0, 0]],\n",
       "\n",
       "       [[0, 0, 0],\n",
       "        [0, 0, 0]],\n",
       "\n",
       "       [[0, 0, 0],\n",
       "        [0, 0, 0]],\n",
       "\n",
       "       [[0, 0, 0],\n",
       "        [0, 0, 0]],\n",
       "\n",
       "       [[0, 0, 0],\n",
       "        [0, 0, 0]]])"
      ]
     },
     "execution_count": 8,
     "metadata": {},
     "output_type": "execute_result"
    }
   ],
   "execution_count": 8
  },
  {
   "cell_type": "code",
   "metadata": {
    "ExecuteTime": {
     "end_time": "2025-09-06T20:55:18.371218Z",
     "start_time": "2025-09-06T20:55:18.368881Z"
    }
   },
   "source": [
    "# Create an array within a range of 0 and 100 with step 3\n",
    "step3array = np.array(range(0,100,3))\n",
    "# here we have beginning with, ending with, and number of steps between\n",
    "step3array"
   ],
   "outputs": [
    {
     "data": {
      "text/plain": [
       "array([ 0,  3,  6,  9, 12, 15, 18, 21, 24, 27, 30, 33, 36, 39, 42, 45, 48,\n",
       "       51, 54, 57, 60, 63, 66, 69, 72, 75, 78, 81, 84, 87, 90, 93, 96, 99])"
      ]
     },
     "execution_count": 9,
     "metadata": {},
     "output_type": "execute_result"
    }
   ],
   "execution_count": 9
  },
  {
   "cell_type": "code",
   "metadata": {
    "ExecuteTime": {
     "end_time": "2025-09-06T20:55:18.399615Z",
     "start_time": "2025-09-06T20:55:18.396369Z"
    }
   },
   "source": [
    "# Create a random array with numbers between 0 and 10 of size (7, 2)\n",
    "randarray01072 = np.random.randint(0,10, size=(7,2))\n",
    "randarray01072"
   ],
   "outputs": [
    {
     "data": {
      "text/plain": [
       "array([[5, 4],\n",
       "       [1, 9],\n",
       "       [5, 8],\n",
       "       [2, 1],\n",
       "       [3, 1],\n",
       "       [2, 4],\n",
       "       [5, 7]])"
      ]
     },
     "execution_count": 10,
     "metadata": {},
     "output_type": "execute_result"
    }
   ],
   "execution_count": 10
  },
  {
   "cell_type": "code",
   "metadata": {
    "ExecuteTime": {
     "end_time": "2025-09-06T20:55:18.439731Z",
     "start_time": "2025-09-06T20:55:18.437283Z"
    }
   },
   "source": [
    "# Create a random array of floats between 0 & 1 of shape (3, 5)\n",
    "randarrayflt = np.random.rand(3,5)\n",
    "randarrayflt"
   ],
   "outputs": [
    {
     "data": {
      "text/plain": [
       "array([[0.65151681, 0.12218706, 0.1212307 , 0.3380415 , 0.54867758],\n",
       "       [0.42405838, 0.13680426, 0.87470694, 0.22171227, 0.25413554],\n",
       "       [0.52378376, 0.9860556 , 0.51374637, 0.23249263, 0.68121607]])"
      ]
     },
     "execution_count": 11,
     "metadata": {},
     "output_type": "execute_result"
    }
   ],
   "execution_count": 11
  },
  {
   "cell_type": "code",
   "metadata": {
    "ExecuteTime": {
     "end_time": "2025-09-06T20:55:18.489322Z",
     "start_time": "2025-09-06T20:55:18.486902Z"
    }
   },
   "source": [
    "# Set the random seed to 42\n",
    "np.random.seed(42)\n",
    "\n",
    "# Create a random array of numbers between 0 & 10 of size (4, 6)\n",
    "randarray4246 = np.random.randint(0,10, size=(4,6))\n",
    "randarray4246"
   ],
   "outputs": [
    {
     "data": {
      "text/plain": [
       "array([[6, 3, 7, 4, 6, 9],\n",
       "       [2, 6, 7, 4, 3, 7],\n",
       "       [7, 2, 5, 4, 1, 7],\n",
       "       [5, 1, 4, 0, 9, 5]])"
      ]
     },
     "execution_count": 12,
     "metadata": {},
     "output_type": "execute_result"
    }
   ],
   "execution_count": 12
  },
  {
   "cell_type": "markdown",
   "metadata": {},
   "source": [
    "Run the cell above again, what happens?\n",
    "\n",
    "Are the numbers in the array different or the same? Why do think this is?"
   ]
  },
  {
   "cell_type": "code",
   "metadata": {
    "ExecuteTime": {
     "end_time": "2025-09-06T20:55:18.542287Z",
     "start_time": "2025-09-06T20:55:18.539715Z"
    }
   },
   "source": [
    "# Create an array of random numbers between 1 & 10 of size (3, 7)\n",
    "# and save it to a variable\n",
    "randarray37 = np.random.randint(1,20, size=(3,7))\n",
    "print(randarray37)\n",
    "\n",
    "# Find the unique numbers in the array you just created\n",
    "np.unique(randarray37)\n"
   ],
   "outputs": [
    {
     "name": "stdout",
     "output_type": "stream",
     "text": [
      "[[12 17 10 16 15 15 19]\n",
      " [12  3  5 19  7  9  7]\n",
      " [18  4 14 18  9  2 15]]\n"
     ]
    },
    {
     "data": {
      "text/plain": [
       "array([ 2,  3,  4,  5,  7,  9, 10, 12, 14, 15, 16, 17, 18, 19])"
      ]
     },
     "execution_count": 13,
     "metadata": {},
     "output_type": "execute_result"
    }
   ],
   "execution_count": 13
  },
  {
   "cell_type": "code",
   "metadata": {
    "ExecuteTime": {
     "end_time": "2025-09-06T20:55:18.591499Z",
     "start_time": "2025-09-06T20:55:18.589693Z"
    }
   },
   "source": [
    "# Find the 0'th index of the latest array you created\n",
    "zeroindex = np.unique(randarray37[0][0])\n",
    "print(zeroindex)"
   ],
   "outputs": [
    {
     "name": "stdout",
     "output_type": "stream",
     "text": [
      "[12]\n"
     ]
    }
   ],
   "execution_count": 14
  },
  {
   "cell_type": "code",
   "metadata": {
    "ExecuteTime": {
     "end_time": "2025-09-06T20:55:18.620392Z",
     "start_time": "2025-09-06T20:55:18.618352Z"
    }
   },
   "source": [
    "# Get the first 2 rows of latest array you created\n",
    "row1 = (randarray37[0])\n",
    "row2 = (randarray37[1])\n",
    "print(row1)\n",
    "print(row2)\n"
   ],
   "outputs": [
    {
     "name": "stdout",
     "output_type": "stream",
     "text": [
      "[12 17 10 16 15 15 19]\n",
      "[12  3  5 19  7  9  7]\n"
     ]
    }
   ],
   "execution_count": 15
  },
  {
   "cell_type": "code",
   "metadata": {
    "ExecuteTime": {
     "end_time": "2025-09-06T20:55:18.642570Z",
     "start_time": "2025-09-06T20:55:18.640813Z"
    }
   },
   "source": [
    "# Get the first 2 values of the first 2 rows of the latest array\n",
    "print(row1[0:2])\n",
    "print(row2[0:2])"
   ],
   "outputs": [
    {
     "name": "stdout",
     "output_type": "stream",
     "text": [
      "[12 17]\n",
      "[12  3]\n"
     ]
    }
   ],
   "execution_count": 16
  },
  {
   "cell_type": "code",
   "metadata": {
    "ExecuteTime": {
     "end_time": "2025-09-06T20:55:18.660130Z",
     "start_time": "2025-09-06T20:55:18.658390Z"
    }
   },
   "source": [
    "# Create a random array of numbers between 0 & 10 and an array of ones\n",
    "# both of size (3, 5), save them both to variables\n",
    "randarray_zero_ten = np.random.randint(0,10, size=(3,5))\n",
    "array_of_ones = np.ones(shape=(3,5), dtype = int)\n"
   ],
   "outputs": [],
   "execution_count": 17
  },
  {
   "cell_type": "code",
   "metadata": {
    "ExecuteTime": {
     "end_time": "2025-09-06T20:55:18.679653Z",
     "start_time": "2025-09-06T20:55:18.677843Z"
    }
   },
   "source": [
    "# Add the two arrays together\n",
    "array_add_together = randarray_zero_ten + array_of_ones\n",
    "print(array_add_together)"
   ],
   "outputs": [
    {
     "name": "stdout",
     "output_type": "stream",
     "text": [
      "[[ 7  8  3  1  4]\n",
      " [ 2  8  4  2  6]\n",
      " [ 6 10  4  6  2]]\n"
     ]
    }
   ],
   "execution_count": 18
  },
  {
   "cell_type": "code",
   "metadata": {
    "ExecuteTime": {
     "end_time": "2025-09-06T20:55:18.700250Z",
     "start_time": "2025-09-06T20:55:18.698948Z"
    }
   },
   "source": [
    "# Create another array of ones of shape (5, 3)\n",
    "array_of_ones_53 = np.ones(shape=(5,3), dtype = int)"
   ],
   "outputs": [],
   "execution_count": 19
  },
  {
   "cell_type": "code",
   "metadata": {
    "ExecuteTime": {
     "end_time": "2025-09-06T20:55:18.718005Z",
     "start_time": "2025-09-06T20:55:18.716665Z"
    }
   },
   "source": [
    "# Try add the array of ones and the other most recent array together\n",
    "# add_together = array_of_ones + array_of_ones_53\n",
    "# print(add_together)\n"
   ],
   "outputs": [],
   "execution_count": 20
  },
  {
   "cell_type": "markdown",
   "metadata": {},
   "source": [
    "When you try the last cell, it produces an error. Why do think this is?\n",
    "the shape is different\n",
    "How would you fix it?\n",
    "reshape one of the arrays"
   ]
  },
  {
   "cell_type": "code",
   "metadata": {
    "ExecuteTime": {
     "end_time": "2025-09-06T20:55:18.733263Z",
     "start_time": "2025-09-06T20:55:18.731944Z"
    }
   },
   "source": [
    "# Create another array of ones of shape (3, 5)\n",
    "array_of_ones_3_5 = np.ones(shape=(3,5), dtype = int)\n"
   ],
   "outputs": [],
   "execution_count": 21
  },
  {
   "cell_type": "code",
   "metadata": {
    "ExecuteTime": {
     "end_time": "2025-09-06T20:55:18.743981Z",
     "start_time": "2025-09-06T20:55:18.742476Z"
    }
   },
   "source": [
    "# Subtract the new array of ones from the other most recent array\n",
    "subtract_array = array_add_together - array_of_ones_3_5\n",
    "print(subtract_array)"
   ],
   "outputs": [
    {
     "name": "stdout",
     "output_type": "stream",
     "text": [
      "[[6 7 2 0 3]\n",
      " [1 7 3 1 5]\n",
      " [5 9 3 5 1]]\n"
     ]
    }
   ],
   "execution_count": 22
  },
  {
   "cell_type": "code",
   "metadata": {
    "ExecuteTime": {
     "end_time": "2025-09-06T20:55:18.767940Z",
     "start_time": "2025-09-06T20:55:18.766380Z"
    }
   },
   "source": [
    "# Multiply the ones array with the latest array\n",
    "tem = subtract_array * array_of_ones_3_5\n",
    "print(tem)"
   ],
   "outputs": [
    {
     "name": "stdout",
     "output_type": "stream",
     "text": [
      "[[6 7 2 0 3]\n",
      " [1 7 3 1 5]\n",
      " [5 9 3 5 1]]\n"
     ]
    }
   ],
   "execution_count": 23
  },
  {
   "cell_type": "code",
   "metadata": {
    "ExecuteTime": {
     "end_time": "2025-09-06T20:55:18.782516Z",
     "start_time": "2025-09-06T20:55:18.780838Z"
    }
   },
   "source": [
    "# Take the latest array to the power of 2 using '**'\n",
    "squared_array = []\n",
    "for number in tem:\n",
    "    squared_array.append(number ** 2)\n",
    "print(squared_array)"
   ],
   "outputs": [
    {
     "name": "stdout",
     "output_type": "stream",
     "text": [
      "[array([36, 49,  4,  0,  9]), array([ 1, 49,  9,  1, 25]), array([25, 81,  9, 25,  1])]\n"
     ]
    }
   ],
   "execution_count": 24
  },
  {
   "cell_type": "code",
   "metadata": {
    "ExecuteTime": {
     "end_time": "2025-09-06T20:55:18.806286Z",
     "start_time": "2025-09-06T20:55:18.804866Z"
    }
   },
   "source": [
    "# Do the same thing with np.square()\n",
    "squared_array2 = np.square(tem)\n",
    "print(squared_array2)\n"
   ],
   "outputs": [
    {
     "name": "stdout",
     "output_type": "stream",
     "text": [
      "[[36 49  4  0  9]\n",
      " [ 1 49  9  1 25]\n",
      " [25 81  9 25  1]]\n"
     ]
    }
   ],
   "execution_count": 25
  },
  {
   "cell_type": "code",
   "metadata": {
    "ExecuteTime": {
     "end_time": "2025-09-06T20:55:18.818866Z",
     "start_time": "2025-09-06T20:55:18.817614Z"
    }
   },
   "source": [
    " # Find the mean of the latest array using np.mean()\n",
    "meanval = np.mean(squared_array2)\n",
    "print(meanval)"
   ],
   "outputs": [
    {
     "name": "stdout",
     "output_type": "stream",
     "text": [
      "21.6\n"
     ]
    }
   ],
   "execution_count": 26
  },
  {
   "cell_type": "code",
   "metadata": {
    "ExecuteTime": {
     "end_time": "2025-09-06T20:56:21.156999Z",
     "start_time": "2025-09-06T20:56:21.143707Z"
    }
   },
   "source": [
    "# Find the maximum of the latest array using np.max()\n",
    "maxval = np.max(squared_array2)\n",
    "print(maxval)"
   ],
   "outputs": [
    {
     "name": "stdout",
     "output_type": "stream",
     "text": [
      "81\n"
     ]
    }
   ],
   "execution_count": 51
  },
  {
   "cell_type": "code",
   "metadata": {
    "ExecuteTime": {
     "end_time": "2025-09-06T21:00:18.638640Z",
     "start_time": "2025-09-06T21:00:18.636216Z"
    }
   },
   "source": [
    "# Find the minimum of the latest array using np.min()\n",
    "minval = np.min(squared_array2)\n",
    "print(minval)"
   ],
   "outputs": [
    {
     "name": "stdout",
     "output_type": "stream",
     "text": [
      "0\n"
     ]
    }
   ],
   "execution_count": 53
  },
  {
   "cell_type": "code",
   "metadata": {
    "ExecuteTime": {
     "end_time": "2025-09-06T21:01:44.090253Z",
     "start_time": "2025-09-06T21:01:44.083551Z"
    }
   },
   "source": [
    "# Find the standard deviation of the latest array\n",
    "stdevarray = np.std(squared_array2)\n",
    "print(stdevarray)"
   ],
   "outputs": [
    {
     "name": "stdout",
     "output_type": "stream",
     "text": [
      "22.8\n"
     ]
    }
   ],
   "execution_count": 54
  },
  {
   "cell_type": "code",
   "metadata": {
    "ExecuteTime": {
     "end_time": "2025-09-06T21:09:42.337807Z",
     "start_time": "2025-09-06T21:09:42.331860Z"
    }
   },
   "source": [
    "# Find the variance of the latest array\n",
    "variance_array = np.var(squared_array2)\n",
    "print(variance_array)"
   ],
   "outputs": [
    {
     "name": "stdout",
     "output_type": "stream",
     "text": [
      "519.84\n"
     ]
    }
   ],
   "execution_count": 61
  },
  {
   "cell_type": "code",
   "metadata": {
    "ExecuteTime": {
     "end_time": "2025-09-06T21:13:38.816239Z",
     "start_time": "2025-09-06T21:13:38.800183Z"
    }
   },
   "source": [
    "# Reshape the latest array to (3, 5, 1)\n",
    "print(np.ndim(squared_array2))\n",
    "print(squared_array2.shape)\n",
    "squared_array3 = squared_array2.reshape(3,5,1)\n",
    "print(np.ndim(squared_array3))\n",
    "print(squared_array3.shape)"
   ],
   "outputs": [
    {
     "name": "stdout",
     "output_type": "stream",
     "text": [
      "3\n",
      "(3, 5, 1)\n",
      "3\n",
      "(3, 5, 1)\n"
     ]
    }
   ],
   "execution_count": 66
  },
  {
   "cell_type": "code",
   "metadata": {
    "ExecuteTime": {
     "end_time": "2025-09-06T21:13:39.511147Z",
     "start_time": "2025-09-06T21:13:39.508094Z"
    }
   },
   "source": [
    "# Transpose the latest array\n",
    "print(squared_array3)\n",
    "transpose_array = np.transpose(squared_array3)\n",
    "# print(squared_array3)\n",
    "print(transpose_array)"
   ],
   "outputs": [
    {
     "name": "stdout",
     "output_type": "stream",
     "text": [
      "[[[36]\n",
      "  [49]\n",
      "  [ 4]\n",
      "  [ 0]\n",
      "  [ 9]]\n",
      "\n",
      " [[ 1]\n",
      "  [49]\n",
      "  [ 9]\n",
      "  [ 1]\n",
      "  [25]]\n",
      "\n",
      " [[25]\n",
      "  [81]\n",
      "  [ 9]\n",
      "  [25]\n",
      "  [ 1]]]\n",
      "[[[36  1 25]\n",
      "  [49 49 81]\n",
      "  [ 4  9  9]\n",
      "  [ 0  1 25]\n",
      "  [ 9 25  1]]]\n"
     ]
    }
   ],
   "execution_count": 67
  },
  {
   "cell_type": "markdown",
   "metadata": {},
   "source": [
    "What does the transpose do?"
   ]
  },
  {
   "cell_type": "code",
   "metadata": {
    "ExecuteTime": {
     "end_time": "2025-09-06T20:55:18.929436Z",
     "start_time": "2025-09-06T20:55:18.927963Z"
    }
   },
   "source": [
    "# Create two arrays of random integers between 0 to 10\n",
    "# one of size (3, 3) the other of size (3, 2)\n"
   ],
   "outputs": [],
   "execution_count": 33
  },
  {
   "cell_type": "code",
   "metadata": {
    "ExecuteTime": {
     "end_time": "2025-09-06T20:55:18.940889Z",
     "start_time": "2025-09-06T20:55:18.939834Z"
    }
   },
   "source": [
    "# Perform a dot product on the two newest arrays you created\n"
   ],
   "outputs": [],
   "execution_count": 34
  },
  {
   "cell_type": "code",
   "metadata": {
    "ExecuteTime": {
     "end_time": "2025-09-06T20:55:18.953203Z",
     "start_time": "2025-09-06T20:55:18.951515Z"
    }
   },
   "source": [
    "# Create two arrays of random integers between 0 to 10\n",
    "# both of size (4, 3)\n"
   ],
   "outputs": [],
   "execution_count": 35
  },
  {
   "cell_type": "code",
   "metadata": {
    "ExecuteTime": {
     "end_time": "2025-09-06T20:55:18.962914Z",
     "start_time": "2025-09-06T20:55:18.961696Z"
    }
   },
   "source": [
    "# Perform a dot product on the two newest arrays you created\n"
   ],
   "outputs": [],
   "execution_count": 36
  },
  {
   "cell_type": "markdown",
   "metadata": {},
   "source": [
    "It doesn't work. How would you fix it?"
   ]
  },
  {
   "cell_type": "code",
   "metadata": {
    "ExecuteTime": {
     "end_time": "2025-09-06T20:55:18.974390Z",
     "start_time": "2025-09-06T20:55:18.972729Z"
    }
   },
   "source": [
    "# Take the latest two arrays, perform a transpose on one of them and then perform \n",
    "# a dot product on them both\n"
   ],
   "outputs": [],
   "execution_count": 37
  },
  {
   "cell_type": "markdown",
   "metadata": {},
   "source": [
    "Notice how performing a transpose allows the dot product to happen.\n",
    "\n",
    "Why is this?\n",
    "\n",
    "Checking out the documentation on [`np.dot()`](https://docs.scipy.org/doc/numpy/reference/generated/numpy.dot.html) may help, as well as reading [Math is Fun's guide on the dot product](https://www.mathsisfun.com/algebra/vectors-dot-product.html).\n",
    "\n",
    "Let's now compare arrays."
   ]
  },
  {
   "cell_type": "code",
   "metadata": {
    "ExecuteTime": {
     "end_time": "2025-09-06T20:55:18.985241Z",
     "start_time": "2025-09-06T20:55:18.983682Z"
    }
   },
   "source": [
    "# Create two arrays of random integers between 0 & 10 of the same shape\n",
    "# and save them to variables\n"
   ],
   "outputs": [],
   "execution_count": 38
  },
  {
   "cell_type": "code",
   "metadata": {
    "ExecuteTime": {
     "end_time": "2025-09-06T20:55:18.995469Z",
     "start_time": "2025-09-06T20:55:18.993980Z"
    }
   },
   "source": [
    "# Compare the two arrays with '>'\n"
   ],
   "outputs": [],
   "execution_count": 39
  },
  {
   "cell_type": "markdown",
   "metadata": {},
   "source": [
    "What happens when you compare the arrays with `>`?"
   ]
  },
  {
   "cell_type": "code",
   "metadata": {
    "ExecuteTime": {
     "end_time": "2025-09-06T20:55:19.006867Z",
     "start_time": "2025-09-06T20:55:19.005497Z"
    }
   },
   "source": [
    "# Compare the two arrays with '>='\n"
   ],
   "outputs": [],
   "execution_count": 40
  },
  {
   "cell_type": "code",
   "metadata": {
    "ExecuteTime": {
     "end_time": "2025-09-06T20:55:19.021602Z",
     "start_time": "2025-09-06T20:55:19.020025Z"
    }
   },
   "source": [
    "# Find which elements of the first array are greater than 7\n"
   ],
   "outputs": [],
   "execution_count": 41
  },
  {
   "cell_type": "code",
   "metadata": {
    "ExecuteTime": {
     "end_time": "2025-09-06T20:55:19.034132Z",
     "start_time": "2025-09-06T20:55:19.031942Z"
    }
   },
   "source": [
    "# Which parts of each array are equal? (try using '==')\n"
   ],
   "outputs": [],
   "execution_count": 42
  },
  {
   "cell_type": "code",
   "metadata": {
    "ExecuteTime": {
     "end_time": "2025-09-06T20:55:19.049234Z",
     "start_time": "2025-09-06T20:55:19.047906Z"
    }
   },
   "source": [
    "# Sort one of the arrays you just created in ascending order\n"
   ],
   "outputs": [],
   "execution_count": 43
  },
  {
   "cell_type": "code",
   "metadata": {
    "ExecuteTime": {
     "end_time": "2025-09-06T20:55:19.061568Z",
     "start_time": "2025-09-06T20:55:19.060085Z"
    }
   },
   "source": [
    "# Sort the indexes of one of the arrays you just created\n"
   ],
   "outputs": [],
   "execution_count": 44
  },
  {
   "cell_type": "code",
   "metadata": {
    "ExecuteTime": {
     "end_time": "2025-09-06T20:55:19.071908Z",
     "start_time": "2025-09-06T20:55:19.070373Z"
    }
   },
   "source": [
    "# Find the index with the maximum value in one of the arrays you've created\n"
   ],
   "outputs": [],
   "execution_count": 45
  },
  {
   "cell_type": "code",
   "metadata": {
    "ExecuteTime": {
     "end_time": "2025-09-06T20:55:19.082336Z",
     "start_time": "2025-09-06T20:55:19.080939Z"
    }
   },
   "source": [
    "# Find the index with the minimum value in one of the arrays you've created\n"
   ],
   "outputs": [],
   "execution_count": 46
  },
  {
   "cell_type": "code",
   "metadata": {
    "ExecuteTime": {
     "end_time": "2025-09-06T20:55:19.093608Z",
     "start_time": "2025-09-06T20:55:19.092198Z"
    }
   },
   "source": [
    "# Find the indexes with the maximum values down the 1st axis (axis=1)\n",
    "# of one of the arrays you created\n"
   ],
   "outputs": [],
   "execution_count": 47
  },
  {
   "cell_type": "code",
   "metadata": {
    "ExecuteTime": {
     "end_time": "2025-09-06T20:55:19.104336Z",
     "start_time": "2025-09-06T20:55:19.102673Z"
    }
   },
   "source": [
    "# Find the indexes with the minimum values across the 0th axis (axis=0)\n",
    "# of one of the arrays you created\n"
   ],
   "outputs": [],
   "execution_count": 48
  },
  {
   "cell_type": "code",
   "metadata": {
    "ExecuteTime": {
     "end_time": "2025-09-06T20:55:19.113957Z",
     "start_time": "2025-09-06T20:55:19.112761Z"
    }
   },
   "source": [
    "# Create an array of normally distributed random numbers\n"
   ],
   "outputs": [],
   "execution_count": 49
  },
  {
   "cell_type": "code",
   "metadata": {
    "ExecuteTime": {
     "end_time": "2025-09-06T20:55:19.126700Z",
     "start_time": "2025-09-06T20:55:19.125220Z"
    }
   },
   "source": [
    "# Create an array with 10 evenly spaced numbers between 1 and 100\n"
   ],
   "outputs": [],
   "execution_count": 50
  },
  {
   "cell_type": "markdown",
   "metadata": {},
   "source": [
    "## Extensions\n",
    "\n",
    "For more exercises, check out the [NumPy quickstart tutorial](https://numpy.org/doc/stable/user/quickstart.html). A good practice would be to read through it and for the parts you find interesting, add them into the end of this notebook.\n",
    "\n",
    "Pay particular attention to the section on broadcasting. And most importantly, get hands-on with the code as much as possible. If in dobut, run the code, see what it does.\n",
    "\n",
    "The next place you could go is the [Stack Overflow page for the top questions and answers for NumPy](https://stackoverflow.com/questions/tagged/numpy?sort=MostVotes&edited=true). Often, you'll find some of the most common and useful NumPy functions here. Don't forget to play around with the filters! You'll likely find something helpful here.\n",
    "\n",
    "Finally, as always, remember, the best way to learn something new is to try it. And try it relentlessly. If you get interested in some kind of NumPy function, asking yourself, \"I wonder if NumPy could do that?\", go and find out."
   ]
  }
 ],
 "metadata": {
  "kernelspec": {
   "display_name": "Python 3",
   "language": "python",
   "name": "python3"
  },
  "language_info": {
   "codemirror_mode": {
    "name": "ipython",
    "version": 3
   },
   "file_extension": ".py",
   "mimetype": "text/x-python",
   "name": "python",
   "nbconvert_exporter": "python",
   "pygments_lexer": "ipython3",
   "version": "3.8.3"
  }
 },
 "nbformat": 4,
 "nbformat_minor": 2
}
