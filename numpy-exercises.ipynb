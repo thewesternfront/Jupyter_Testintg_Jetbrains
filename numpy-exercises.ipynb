{
 "cells": [
  {
   "cell_type": "markdown",
   "metadata": {},
   "source": [
    "# NumPy Practice\n",
    "\n",
    "This notebook offers a set of exercises for different tasks with NumPy.\n",
    "\n",
    "It should be noted there may be more than one different way to answer a question or complete an exercise.\n",
    "\n",
    "Exercises are based off (and directly taken from) the quick introduction to NumPy notebook.\n",
    "\n",
    "Different tasks will be detailed by comments or text.\n",
    "\n",
    "For further reference and resources, it's advised to check out the [NumPy documentation](https://numpy.org/devdocs/user/index.html).\n",
    "\n",
    "And if you get stuck, try searching for a question in the following format: \"how to do XYZ with numpy\", where XYZ is the function you want to leverage from NumPy."
   ]
  },
  {
   "cell_type": "code",
   "metadata": {
    "ExecuteTime": {
     "end_time": "2025-08-29T01:19:46.498716Z",
     "start_time": "2025-08-29T01:19:45.741615Z"
    }
   },
   "source": [
    "# Import NumPy as its abbreviation 'np'\n",
    "import numpy as np"
   ],
   "outputs": [],
   "execution_count": 3
  },
  {
   "cell_type": "code",
   "metadata": {
    "ExecuteTime": {
     "end_time": "2025-08-29T01:19:46.515982Z",
     "start_time": "2025-08-29T01:19:46.511277Z"
    }
   },
   "source": [
    "# Create a 1-dimensional NumPy array using np.array()\n",
    "array1d = np.array([1,2,3,4,5])\n",
    "\n",
    "# Create a 2-dimensional NumPy array using np.array()\n",
    "array2d = np.array([[1,2,3],[4,5,6]])\n",
    "\n",
    "# Create a 3-dimensional Numpy array using np.array()\n",
    "array3d = np.array([    [[1,2,3],\n",
    "                        [4,5,6]],\n",
    "\n",
    "                        [[7,8,9],\n",
    "                        [10,11,12]],\n",
    "\n",
    "                        [[13,14,15],\n",
    "                         [16,17,18]]\n",
    "                    ])\n",
    "# Should equal 9\n",
    "print(array3d[1,0,2])\n"
   ],
   "outputs": [
    {
     "name": "stdout",
     "output_type": "stream",
     "text": [
      "9\n"
     ]
    }
   ],
   "execution_count": 4
  },
  {
   "cell_type": "markdown",
   "metadata": {},
   "source": [
    "Now we've you've created 3 different arrays, let's find details about them.\n",
    "\n",
    "Find the shape, number of dimensions, data type, size and type of each array."
   ]
  },
  {
   "cell_type": "code",
   "metadata": {
    "ExecuteTime": {
     "end_time": "2025-08-29T01:19:46.571515Z",
     "start_time": "2025-08-29T01:19:46.564817Z"
    }
   },
   "source": [
    "# Attributes of 1-dimensional array (shape, \n",
    "# number of dimensions, data type, size and type)\n",
    "print(array1d)\n",
    "print(array1d.shape)\n",
    "print(array1d.size)\n",
    "print(array1d.dtype)\n",
    "print(array1d.ndim)"
   ],
   "outputs": [
    {
     "name": "stdout",
     "output_type": "stream",
     "text": [
      "[1 2 3 4 5]\n",
      "(5,)\n",
      "5\n",
      "int32\n",
      "1\n"
     ]
    }
   ],
   "execution_count": 5
  },
  {
   "cell_type": "code",
   "metadata": {
    "ExecuteTime": {
     "end_time": "2025-08-29T01:19:46.734374Z",
     "start_time": "2025-08-29T01:19:46.729109Z"
    }
   },
   "source": [
    "# Attributes of 2-dimensional array\n",
    "print(array2d)\n",
    "print(array2d.shape)\n",
    "print(array2d.size)\n",
    "print(array2d.dtype)\n",
    "print(array2d.ndim)"
   ],
   "outputs": [
    {
     "name": "stdout",
     "output_type": "stream",
     "text": [
      "[[1 2 3]\n",
      " [4 5 6]]\n",
      "(2, 3)\n",
      "6\n",
      "int32\n",
      "2\n"
     ]
    }
   ],
   "execution_count": 6
  },
  {
   "cell_type": "code",
   "metadata": {
    "ExecuteTime": {
     "end_time": "2025-08-29T01:19:46.884885Z",
     "start_time": "2025-08-29T01:19:46.880180Z"
    }
   },
   "source": [
    "# Attributes of 3-dimensional array\n",
    "print(array3d)\n",
    "print(array3d.shape)\n",
    "print(array3d.size)\n",
    "print(array3d.dtype)\n",
    "print(array3d.ndim)"
   ],
   "outputs": [
    {
     "name": "stdout",
     "output_type": "stream",
     "text": [
      "[[[ 1  2  3]\n",
      "  [ 4  5  6]]\n",
      "\n",
      " [[ 7  8  9]\n",
      "  [10 11 12]]\n",
      "\n",
      " [[13 14 15]\n",
      "  [16 17 18]]]\n",
      "(3, 2, 3)\n",
      "18\n",
      "int32\n",
      "3\n"
     ]
    }
   ],
   "execution_count": 7
  },
  {
   "cell_type": "code",
   "metadata": {
    "ExecuteTime": {
     "end_time": "2025-08-29T01:19:48.615962Z",
     "start_time": "2025-08-29T01:19:46.956971Z"
    }
   },
   "source": [
    "# Import pandas and create a DataFrame out of one\n",
    "# of the arrays you've created\n",
    "import pandas as pd\n",
    "MyDataFrame = pd.DataFrame(array2d)\n",
    "MyDataFrame"
   ],
   "outputs": [
    {
     "data": {
      "text/plain": [
       "   0  1  2\n",
       "0  1  2  3\n",
       "1  4  5  6"
      ],
      "text/html": [
       "<div>\n",
       "<style scoped>\n",
       "    .dataframe tbody tr th:only-of-type {\n",
       "        vertical-align: middle;\n",
       "    }\n",
       "\n",
       "    .dataframe tbody tr th {\n",
       "        vertical-align: top;\n",
       "    }\n",
       "\n",
       "    .dataframe thead th {\n",
       "        text-align: right;\n",
       "    }\n",
       "</style>\n",
       "<table border=\"1\" class=\"dataframe\">\n",
       "  <thead>\n",
       "    <tr style=\"text-align: right;\">\n",
       "      <th></th>\n",
       "      <th>0</th>\n",
       "      <th>1</th>\n",
       "      <th>2</th>\n",
       "    </tr>\n",
       "  </thead>\n",
       "  <tbody>\n",
       "    <tr>\n",
       "      <th>0</th>\n",
       "      <td>1</td>\n",
       "      <td>2</td>\n",
       "      <td>3</td>\n",
       "    </tr>\n",
       "    <tr>\n",
       "      <th>1</th>\n",
       "      <td>4</td>\n",
       "      <td>5</td>\n",
       "      <td>6</td>\n",
       "    </tr>\n",
       "  </tbody>\n",
       "</table>\n",
       "</div>"
      ]
     },
     "execution_count": 8,
     "metadata": {},
     "output_type": "execute_result"
    }
   ],
   "execution_count": 8
  },
  {
   "cell_type": "code",
   "metadata": {
    "ExecuteTime": {
     "end_time": "2025-08-29T01:19:48.696061Z",
     "start_time": "2025-08-29T01:19:48.686749Z"
    }
   },
   "source": [
    "# Create an array of shape (10, 2) with only ones\n",
    "ones_matrix = np.ones((10,2), dtype = int)\n",
    "ones_matrix"
   ],
   "outputs": [
    {
     "data": {
      "text/plain": [
       "array([[1, 1],\n",
       "       [1, 1],\n",
       "       [1, 1],\n",
       "       [1, 1],\n",
       "       [1, 1],\n",
       "       [1, 1],\n",
       "       [1, 1],\n",
       "       [1, 1],\n",
       "       [1, 1],\n",
       "       [1, 1]])"
      ]
     },
     "execution_count": 9,
     "metadata": {},
     "output_type": "execute_result"
    }
   ],
   "execution_count": 9
  },
  {
   "cell_type": "code",
   "metadata": {
    "ExecuteTime": {
     "end_time": "2025-08-29T01:19:48.824272Z",
     "start_time": "2025-08-29T01:19:48.817941Z"
    }
   },
   "source": [
    "# Create an array of shape (7, 2, 3) of only zeros\n",
    "ones3darray = np.zeros((7, 2, 3), dtype = int)\n",
    "ones3darray"
   ],
   "outputs": [
    {
     "data": {
      "text/plain": [
       "array([[[0, 0, 0],\n",
       "        [0, 0, 0]],\n",
       "\n",
       "       [[0, 0, 0],\n",
       "        [0, 0, 0]],\n",
       "\n",
       "       [[0, 0, 0],\n",
       "        [0, 0, 0]],\n",
       "\n",
       "       [[0, 0, 0],\n",
       "        [0, 0, 0]],\n",
       "\n",
       "       [[0, 0, 0],\n",
       "        [0, 0, 0]],\n",
       "\n",
       "       [[0, 0, 0],\n",
       "        [0, 0, 0]],\n",
       "\n",
       "       [[0, 0, 0],\n",
       "        [0, 0, 0]]])"
      ]
     },
     "execution_count": 10,
     "metadata": {},
     "output_type": "execute_result"
    }
   ],
   "execution_count": 10
  },
  {
   "cell_type": "code",
   "metadata": {
    "ExecuteTime": {
     "end_time": "2025-08-29T01:19:49.081626Z",
     "start_time": "2025-08-29T01:19:49.076627Z"
    }
   },
   "source": [
    "# Create an array within a range of 0 and 100 with step 3\n",
    "step3array = np.array(range(0,100,3))\n",
    "# here we have beginning with, ending with, and number of steps between\n",
    "step3array"
   ],
   "outputs": [
    {
     "data": {
      "text/plain": [
       "array([ 0,  3,  6,  9, 12, 15, 18, 21, 24, 27, 30, 33, 36, 39, 42, 45, 48,\n",
       "       51, 54, 57, 60, 63, 66, 69, 72, 75, 78, 81, 84, 87, 90, 93, 96, 99])"
      ]
     },
     "execution_count": 11,
     "metadata": {},
     "output_type": "execute_result"
    }
   ],
   "execution_count": 11
  },
  {
   "cell_type": "code",
   "metadata": {
    "ExecuteTime": {
     "end_time": "2025-08-29T01:19:49.164950Z",
     "start_time": "2025-08-29T01:19:49.159197Z"
    }
   },
   "source": [
    "# Create a random array with numbers between 0 and 10 of size (7, 2)\n",
    "randarray01072 = np.random.randint(0,10, size=(7,2))\n",
    "randarray01072"
   ],
   "outputs": [
    {
     "data": {
      "text/plain": [
       "array([[8, 9],\n",
       "       [7, 0],\n",
       "       [2, 3],\n",
       "       [5, 2],\n",
       "       [5, 4],\n",
       "       [2, 5],\n",
       "       [4, 7]])"
      ]
     },
     "execution_count": 12,
     "metadata": {},
     "output_type": "execute_result"
    }
   ],
   "execution_count": 12
  },
  {
   "cell_type": "code",
   "metadata": {
    "ExecuteTime": {
     "end_time": "2025-08-29T01:19:49.281461Z",
     "start_time": "2025-08-29T01:19:49.272080Z"
    }
   },
   "source": [
    "# Create a random array of floats between 0 & 1 of shape (3, 5)\n",
    "randarrayflt = np.random.rand(3,5)\n",
    "randarrayflt"
   ],
   "outputs": [
    {
     "data": {
      "text/plain": [
       "array([[0.46845478, 0.50996243, 0.33357572, 0.7519881 , 0.43504383],\n",
       "       [0.99131468, 0.24440922, 0.56738653, 0.95697993, 0.13431249],\n",
       "       [0.38980805, 0.23671694, 0.95723248, 0.61683994, 0.74272883]])"
      ]
     },
     "execution_count": 13,
     "metadata": {},
     "output_type": "execute_result"
    }
   ],
   "execution_count": 13
  },
  {
   "cell_type": "code",
   "metadata": {
    "ExecuteTime": {
     "end_time": "2025-08-29T01:19:49.414427Z",
     "start_time": "2025-08-29T01:19:49.407200Z"
    }
   },
   "source": [
    "# Set the random seed to 42\n",
    "np.random.seed(42)\n",
    "\n",
    "# Create a random array of numbers between 0 & 10 of size (4, 6)\n",
    "randarray4246 = np.random.randint(0,10, size=(4,6))\n",
    "randarray4246"
   ],
   "outputs": [
    {
     "data": {
      "text/plain": [
       "array([[6, 3, 7, 4, 6, 9],\n",
       "       [2, 6, 7, 4, 3, 7],\n",
       "       [7, 2, 5, 4, 1, 7],\n",
       "       [5, 1, 4, 0, 9, 5]])"
      ]
     },
     "execution_count": 14,
     "metadata": {},
     "output_type": "execute_result"
    }
   ],
   "execution_count": 14
  },
  {
   "cell_type": "markdown",
   "metadata": {},
   "source": [
    "Run the cell above again, what happens?\n",
    "\n",
    "Are the numbers in the array different or the same? Why do think this is?"
   ]
  },
  {
   "cell_type": "code",
   "metadata": {
    "ExecuteTime": {
     "end_time": "2025-08-29T01:19:49.650105Z",
     "start_time": "2025-08-29T01:19:49.642452Z"
    }
   },
   "source": [
    "# Create an array of random numbers between 1 & 10 of size (3, 7)\n",
    "# and save it to a variable\n",
    "randarray37 = np.random.randint(1,20, size=(3,7))\n",
    "print(randarray37)\n",
    "\n",
    "# Find the unique numbers in the array you just created\n",
    "np.unique(randarray37)\n"
   ],
   "outputs": [
    {
     "name": "stdout",
     "output_type": "stream",
     "text": [
      "[[12 17 10 16 15 15 19]\n",
      " [12  3  5 19  7  9  7]\n",
      " [18  4 14 18  9  2 15]]\n"
     ]
    },
    {
     "data": {
      "text/plain": [
       "array([ 2,  3,  4,  5,  7,  9, 10, 12, 14, 15, 16, 17, 18, 19])"
      ]
     },
     "execution_count": 15,
     "metadata": {},
     "output_type": "execute_result"
    }
   ],
   "execution_count": 15
  },
  {
   "cell_type": "code",
   "metadata": {
    "ExecuteTime": {
     "end_time": "2025-08-29T01:19:49.909073Z",
     "start_time": "2025-08-29T01:19:49.904896Z"
    }
   },
   "source": [
    "# Find the 0'th index of the latest array you created\n",
    "zeroindex = np.unique(randarray37[0][0])\n",
    "print(zeroindex)"
   ],
   "outputs": [
    {
     "name": "stdout",
     "output_type": "stream",
     "text": [
      "[12]\n"
     ]
    }
   ],
   "execution_count": 16
  },
  {
   "cell_type": "code",
   "metadata": {
    "ExecuteTime": {
     "end_time": "2025-08-29T01:19:50.029935Z",
     "start_time": "2025-08-29T01:19:50.026245Z"
    }
   },
   "source": [
    "# Get the first 2 rows of latest array you created\n",
    "row1 = (randarray37[0])\n",
    "row2 = (randarray37[1])\n",
    "print(row1)\n",
    "print(row2)\n"
   ],
   "outputs": [
    {
     "name": "stdout",
     "output_type": "stream",
     "text": [
      "[12 17 10 16 15 15 19]\n",
      "[12  3  5 19  7  9  7]\n"
     ]
    }
   ],
   "execution_count": 17
  },
  {
   "cell_type": "code",
   "metadata": {
    "ExecuteTime": {
     "end_time": "2025-08-29T01:19:50.104381Z",
     "start_time": "2025-08-29T01:19:50.098858Z"
    }
   },
   "source": [
    "# Get the first 2 values of the first 2 rows of the latest array\n",
    "print(row1[0:2])\n",
    "print(row2[0:2])"
   ],
   "outputs": [
    {
     "name": "stdout",
     "output_type": "stream",
     "text": [
      "[12 17]\n",
      "[12  3]\n"
     ]
    }
   ],
   "execution_count": 18
  },
  {
   "cell_type": "code",
   "metadata": {
    "ExecuteTime": {
     "end_time": "2025-08-29T01:39:12.574885Z",
     "start_time": "2025-08-29T01:39:12.568962Z"
    }
   },
   "source": [
    "# Create a random array of numbers between 0 & 10 and an array of ones\n",
    "# both of size (3, 5), save them both to variables\n",
    "randarray_zero_ten = np.random.randint(0,10, size=(3,5))\n",
    "array_of_ones = np.ones(shape=(3,5), dtype = int)\n"
   ],
   "outputs": [],
   "execution_count": 54
  },
  {
   "cell_type": "code",
   "metadata": {
    "ExecuteTime": {
     "end_time": "2025-08-29T01:39:13.382671Z",
     "start_time": "2025-08-29T01:39:13.378097Z"
    }
   },
   "source": [
    "# Add the two arrays together\n",
    "array_add_together = randarray_zero_ten + array_of_ones\n",
    "print(array_add_together)"
   ],
   "outputs": [
    {
     "name": "stdout",
     "output_type": "stream",
     "text": [
      "[[10  2 10  4  8]\n",
      " [ 7  9  8  5  2]\n",
      " [ 5  8 10  9  9]]\n"
     ]
    }
   ],
   "execution_count": 55
  },
  {
   "cell_type": "code",
   "metadata": {
    "ExecuteTime": {
     "end_time": "2025-08-29T01:39:14.375341Z",
     "start_time": "2025-08-29T01:39:14.371156Z"
    }
   },
   "source": [
    "# Create another array of ones of shape (5, 3)\n",
    "array_of_ones_53 = np.ones(shape=(5,3), dtype = int)"
   ],
   "outputs": [],
   "execution_count": 56
  },
  {
   "cell_type": "code",
   "metadata": {
    "ExecuteTime": {
     "end_time": "2025-08-29T01:39:15.220559Z",
     "start_time": "2025-08-29T01:39:15.206471Z"
    }
   },
   "source": [
    "# Try add the array of ones and the other most recent array together\n",
    "add_together = array_of_ones + array_of_ones_53\n",
    "print(add_together)\n"
   ],
   "outputs": [
    {
     "ename": "ValueError",
     "evalue": "operands could not be broadcast together with shapes (3,5) (5,3) ",
     "output_type": "error",
     "traceback": [
      "\u001B[1;31m---------------------------------------------------------------------------\u001B[0m",
      "\u001B[1;31mValueError\u001B[0m                                Traceback (most recent call last)",
      "Cell \u001B[1;32mIn[57], line 2\u001B[0m\n\u001B[0;32m      1\u001B[0m \u001B[38;5;66;03m# Try add the array of ones and the other most recent array together\u001B[39;00m\n\u001B[1;32m----> 2\u001B[0m add_together \u001B[38;5;241m=\u001B[39m \u001B[43marray_of_ones\u001B[49m\u001B[43m \u001B[49m\u001B[38;5;241;43m+\u001B[39;49m\u001B[43m \u001B[49m\u001B[43marray_of_ones_53\u001B[49m\n\u001B[0;32m      3\u001B[0m \u001B[38;5;28mprint\u001B[39m(add_together)\n",
      "\u001B[1;31mValueError\u001B[0m: operands could not be broadcast together with shapes (3,5) (5,3) "
     ]
    }
   ],
   "execution_count": 57
  },
  {
   "cell_type": "markdown",
   "metadata": {},
   "source": [
    "When you try the last cell, it produces an error. Why do think this is?\n",
    "the shape is different\n",
    "How would you fix it?\n",
    "reshape one of the arrays"
   ]
  },
  {
   "cell_type": "code",
   "metadata": {
    "ExecuteTime": {
     "end_time": "2025-08-29T01:41:59.469701Z",
     "start_time": "2025-08-29T01:41:59.464548Z"
    }
   },
   "source": [
    "# Create another array of ones of shape (3, 5)\n",
    "array_of_ones_3_5 = np.ones(shape=(3,5), dtype = int)\n"
   ],
   "outputs": [],
   "execution_count": 59
  },
  {
   "cell_type": "code",
   "metadata": {
    "ExecuteTime": {
     "end_time": "2025-08-29T02:02:53.324784Z",
     "start_time": "2025-08-29T02:02:53.315319Z"
    }
   },
   "source": [
    "# Subtract the new array of ones from the other most recent array\n",
    "subtract_array = array_add_together - array_of_ones_3_5\n",
    "print(subtract_array)"
   ],
   "outputs": [
    {
     "name": "stdout",
     "output_type": "stream",
     "text": [
      "[[9 1 9 3 7]\n",
      " [6 8 7 4 1]\n",
      " [4 7 9 8 8]]\n"
     ]
    }
   ],
   "execution_count": 65
  },
  {
   "cell_type": "code",
   "metadata": {
    "ExecuteTime": {
     "end_time": "2025-08-29T02:02:54.972826Z",
     "start_time": "2025-08-29T02:02:54.962954Z"
    }
   },
   "source": [
    "# Multiply the ones array with the latest array\n",
    "tem = subtract_array * array_of_ones_3_5\n",
    "print(tem)"
   ],
   "outputs": [
    {
     "name": "stdout",
     "output_type": "stream",
     "text": [
      "[[9 1 9 3 7]\n",
      " [6 8 7 4 1]\n",
      " [4 7 9 8 8]]\n"
     ]
    }
   ],
   "execution_count": 66
  },
  {
   "cell_type": "code",
   "metadata": {
    "ExecuteTime": {
     "end_time": "2025-08-29T02:03:52.269876Z",
     "start_time": "2025-08-29T02:03:52.260527Z"
    }
   },
   "source": [
    "# Take the latest array to the power of 2 using '**'\n",
    "squared_array = []\n",
    "for number in tem:\n",
    "    squared_array.append(number ** 2)\n",
    "print(squared_array)"
   ],
   "outputs": [
    {
     "name": "stdout",
     "output_type": "stream",
     "text": [
      "[array([81,  1, 81,  9, 49]), array([36, 64, 49, 16,  1]), array([16, 49, 81, 64, 64])]\n"
     ]
    }
   ],
   "execution_count": 68
  },
  {
   "cell_type": "code",
   "metadata": {
    "ExecuteTime": {
     "end_time": "2025-08-29T02:05:06.888174Z",
     "start_time": "2025-08-29T02:05:06.884712Z"
    }
   },
   "source": [
    "# Do the same thing with np.square()\n",
    "squared_array2 = np.square(tem)\n",
    "print(squared_array2)\n"
   ],
   "outputs": [
    {
     "name": "stdout",
     "output_type": "stream",
     "text": [
      "[[81  1 81  9 49]\n",
      " [36 64 49 16  1]\n",
      " [16 49 81 64 64]]\n"
     ]
    }
   ],
   "execution_count": 69
  },
  {
   "cell_type": "code",
   "metadata": {
    "ExecuteTime": {
     "end_time": "2025-08-29T01:19:50.863044Z",
     "start_time": "2025-08-29T01:19:50.858518Z"
    }
   },
   "source": " # Find the mean of the latest array using np.mean()\n",
   "outputs": [],
   "execution_count": 28
  },
  {
   "cell_type": "code",
   "metadata": {
    "ExecuteTime": {
     "end_time": "2025-08-29T01:19:50.900132Z",
     "start_time": "2025-08-29T01:19:50.896140Z"
    }
   },
   "source": [
    "# Find the maximum of the latest array using np.max()\n"
   ],
   "outputs": [],
   "execution_count": 29
  },
  {
   "cell_type": "code",
   "metadata": {
    "ExecuteTime": {
     "end_time": "2025-08-29T01:19:50.948100Z",
     "start_time": "2025-08-29T01:19:50.943783Z"
    }
   },
   "source": [
    "# Find the minimum of the latest array using np.min()\n"
   ],
   "outputs": [],
   "execution_count": 30
  },
  {
   "cell_type": "code",
   "metadata": {
    "ExecuteTime": {
     "end_time": "2025-08-29T01:19:50.984197Z",
     "start_time": "2025-08-29T01:19:50.980672Z"
    }
   },
   "source": [
    "# Find the standard deviation of the latest array\n"
   ],
   "outputs": [],
   "execution_count": 31
  },
  {
   "cell_type": "code",
   "metadata": {
    "ExecuteTime": {
     "end_time": "2025-08-29T01:19:51.042573Z",
     "start_time": "2025-08-29T01:19:51.038147Z"
    }
   },
   "source": [
    "# Find the variance of the latest array\n"
   ],
   "outputs": [],
   "execution_count": 32
  },
  {
   "cell_type": "code",
   "metadata": {
    "ExecuteTime": {
     "end_time": "2025-08-29T01:19:51.104374Z",
     "start_time": "2025-08-29T01:19:51.095729Z"
    }
   },
   "source": [
    "# Reshape the latest array to (3, 5, 1)\n"
   ],
   "outputs": [],
   "execution_count": 33
  },
  {
   "cell_type": "code",
   "metadata": {
    "ExecuteTime": {
     "end_time": "2025-08-29T01:19:51.147971Z",
     "start_time": "2025-08-29T01:19:51.141451Z"
    }
   },
   "source": [
    "# Transpose the latest array\n"
   ],
   "outputs": [],
   "execution_count": 34
  },
  {
   "cell_type": "markdown",
   "metadata": {},
   "source": [
    "What does the transpose do?"
   ]
  },
  {
   "cell_type": "code",
   "metadata": {
    "ExecuteTime": {
     "end_time": "2025-08-29T01:19:51.174189Z",
     "start_time": "2025-08-29T01:19:51.169276Z"
    }
   },
   "source": [
    "# Create two arrays of random integers between 0 to 10\n",
    "# one of size (3, 3) the other of size (3, 2)\n"
   ],
   "outputs": [],
   "execution_count": 35
  },
  {
   "cell_type": "code",
   "metadata": {
    "ExecuteTime": {
     "end_time": "2025-08-29T01:19:51.215642Z",
     "start_time": "2025-08-29T01:19:51.211218Z"
    }
   },
   "source": [
    "# Perform a dot product on the two newest arrays you created\n"
   ],
   "outputs": [],
   "execution_count": 36
  },
  {
   "cell_type": "code",
   "metadata": {
    "ExecuteTime": {
     "end_time": "2025-08-29T01:19:51.248783Z",
     "start_time": "2025-08-29T01:19:51.245249Z"
    }
   },
   "source": [
    "# Create two arrays of random integers between 0 to 10\n",
    "# both of size (4, 3)\n"
   ],
   "outputs": [],
   "execution_count": 37
  },
  {
   "cell_type": "code",
   "metadata": {
    "ExecuteTime": {
     "end_time": "2025-08-29T01:19:51.273514Z",
     "start_time": "2025-08-29T01:19:51.270014Z"
    }
   },
   "source": [
    "# Perform a dot product on the two newest arrays you created\n"
   ],
   "outputs": [],
   "execution_count": 38
  },
  {
   "cell_type": "markdown",
   "metadata": {},
   "source": [
    "It doesn't work. How would you fix it?"
   ]
  },
  {
   "cell_type": "code",
   "metadata": {
    "ExecuteTime": {
     "end_time": "2025-08-29T01:19:51.303606Z",
     "start_time": "2025-08-29T01:19:51.298966Z"
    }
   },
   "source": [
    "# Take the latest two arrays, perform a transpose on one of them and then perform \n",
    "# a dot product on them both\n"
   ],
   "outputs": [],
   "execution_count": 39
  },
  {
   "cell_type": "markdown",
   "metadata": {},
   "source": [
    "Notice how performing a transpose allows the dot product to happen.\n",
    "\n",
    "Why is this?\n",
    "\n",
    "Checking out the documentation on [`np.dot()`](https://docs.scipy.org/doc/numpy/reference/generated/numpy.dot.html) may help, as well as reading [Math is Fun's guide on the dot product](https://www.mathsisfun.com/algebra/vectors-dot-product.html).\n",
    "\n",
    "Let's now compare arrays."
   ]
  },
  {
   "cell_type": "code",
   "metadata": {
    "ExecuteTime": {
     "end_time": "2025-08-29T01:19:51.331415Z",
     "start_time": "2025-08-29T01:19:51.328187Z"
    }
   },
   "source": [
    "# Create two arrays of random integers between 0 & 10 of the same shape\n",
    "# and save them to variables\n"
   ],
   "outputs": [],
   "execution_count": 40
  },
  {
   "cell_type": "code",
   "metadata": {
    "ExecuteTime": {
     "end_time": "2025-08-29T01:19:51.356758Z",
     "start_time": "2025-08-29T01:19:51.353617Z"
    }
   },
   "source": [
    "# Compare the two arrays with '>'\n"
   ],
   "outputs": [],
   "execution_count": 41
  },
  {
   "cell_type": "markdown",
   "metadata": {},
   "source": [
    "What happens when you compare the arrays with `>`?"
   ]
  },
  {
   "cell_type": "code",
   "metadata": {
    "ExecuteTime": {
     "end_time": "2025-08-29T01:19:51.383425Z",
     "start_time": "2025-08-29T01:19:51.378881Z"
    }
   },
   "source": [
    "# Compare the two arrays with '>='\n"
   ],
   "outputs": [],
   "execution_count": 42
  },
  {
   "cell_type": "code",
   "metadata": {
    "ExecuteTime": {
     "end_time": "2025-08-29T01:19:51.412464Z",
     "start_time": "2025-08-29T01:19:51.407085Z"
    }
   },
   "source": [
    "# Find which elements of the first array are greater than 7\n"
   ],
   "outputs": [],
   "execution_count": 43
  },
  {
   "cell_type": "code",
   "metadata": {
    "ExecuteTime": {
     "end_time": "2025-08-29T01:19:51.447720Z",
     "start_time": "2025-08-29T01:19:51.443362Z"
    }
   },
   "source": [
    "# Which parts of each array are equal? (try using '==')\n"
   ],
   "outputs": [],
   "execution_count": 44
  },
  {
   "cell_type": "code",
   "metadata": {
    "ExecuteTime": {
     "end_time": "2025-08-29T01:19:51.475536Z",
     "start_time": "2025-08-29T01:19:51.472104Z"
    }
   },
   "source": [
    "# Sort one of the arrays you just created in ascending order\n"
   ],
   "outputs": [],
   "execution_count": 45
  },
  {
   "cell_type": "code",
   "metadata": {
    "ExecuteTime": {
     "end_time": "2025-08-29T01:19:51.508389Z",
     "start_time": "2025-08-29T01:19:51.505343Z"
    }
   },
   "source": [
    "# Sort the indexes of one of the arrays you just created\n"
   ],
   "outputs": [],
   "execution_count": 46
  },
  {
   "cell_type": "code",
   "metadata": {
    "ExecuteTime": {
     "end_time": "2025-08-29T01:19:51.540121Z",
     "start_time": "2025-08-29T01:19:51.536509Z"
    }
   },
   "source": [
    "# Find the index with the maximum value in one of the arrays you've created\n"
   ],
   "outputs": [],
   "execution_count": 47
  },
  {
   "cell_type": "code",
   "metadata": {
    "ExecuteTime": {
     "end_time": "2025-08-29T01:19:51.565544Z",
     "start_time": "2025-08-29T01:19:51.562651Z"
    }
   },
   "source": [
    "# Find the index with the minimum value in one of the arrays you've created\n"
   ],
   "outputs": [],
   "execution_count": 48
  },
  {
   "cell_type": "code",
   "metadata": {
    "ExecuteTime": {
     "end_time": "2025-08-29T01:19:51.597997Z",
     "start_time": "2025-08-29T01:19:51.593636Z"
    }
   },
   "source": [
    "# Find the indexes with the maximum values down the 1st axis (axis=1)\n",
    "# of one of the arrays you created\n"
   ],
   "outputs": [],
   "execution_count": 49
  },
  {
   "cell_type": "code",
   "metadata": {
    "ExecuteTime": {
     "end_time": "2025-08-29T01:19:51.622666Z",
     "start_time": "2025-08-29T01:19:51.618768Z"
    }
   },
   "source": [
    "# Find the indexes with the minimum values across the 0th axis (axis=0)\n",
    "# of one of the arrays you created\n"
   ],
   "outputs": [],
   "execution_count": 50
  },
  {
   "cell_type": "code",
   "metadata": {
    "ExecuteTime": {
     "end_time": "2025-08-29T01:19:51.645807Z",
     "start_time": "2025-08-29T01:19:51.642227Z"
    }
   },
   "source": [
    "# Create an array of normally distributed random numbers\n"
   ],
   "outputs": [],
   "execution_count": 51
  },
  {
   "cell_type": "code",
   "metadata": {
    "ExecuteTime": {
     "end_time": "2025-08-29T01:19:51.667265Z",
     "start_time": "2025-08-29T01:19:51.664229Z"
    }
   },
   "source": [
    "# Create an array with 10 evenly spaced numbers between 1 and 100\n"
   ],
   "outputs": [],
   "execution_count": 52
  },
  {
   "cell_type": "markdown",
   "metadata": {},
   "source": [
    "## Extensions\n",
    "\n",
    "For more exercises, check out the [NumPy quickstart tutorial](https://numpy.org/doc/stable/user/quickstart.html). A good practice would be to read through it and for the parts you find interesting, add them into the end of this notebook.\n",
    "\n",
    "Pay particular attention to the section on broadcasting. And most importantly, get hands-on with the code as much as possible. If in dobut, run the code, see what it does.\n",
    "\n",
    "The next place you could go is the [Stack Overflow page for the top questions and answers for NumPy](https://stackoverflow.com/questions/tagged/numpy?sort=MostVotes&edited=true). Often, you'll find some of the most common and useful NumPy functions here. Don't forget to play around with the filters! You'll likely find something helpful here.\n",
    "\n",
    "Finally, as always, remember, the best way to learn something new is to try it. And try it relentlessly. If you get interested in some kind of NumPy function, asking yourself, \"I wonder if NumPy could do that?\", go and find out."
   ]
  }
 ],
 "metadata": {
  "kernelspec": {
   "display_name": "Python 3",
   "language": "python",
   "name": "python3"
  },
  "language_info": {
   "codemirror_mode": {
    "name": "ipython",
    "version": 3
   },
   "file_extension": ".py",
   "mimetype": "text/x-python",
   "name": "python",
   "nbconvert_exporter": "python",
   "pygments_lexer": "ipython3",
   "version": "3.8.3"
  }
 },
 "nbformat": 4,
 "nbformat_minor": 2
}
