{
 "cells": [
  {
   "cell_type": "markdown",
   "metadata": {},
   "source": [
    "# NumPy Practice\n",
    "\n",
    "This notebook offers a set of exercises for different tasks with NumPy.\n",
    "\n",
    "It should be noted there may be more than one different way to answer a question or complete an exercise.\n",
    "\n",
    "Exercises are based off (and directly taken from) the quick introduction to NumPy notebook.\n",
    "\n",
    "Different tasks will be detailed by comments or text.\n",
    "\n",
    "For further reference and resources, it's advised to check out the [NumPy documentation](https://numpy.org/devdocs/user/index.html).\n",
    "\n",
    "And if you get stuck, try searching for a question in the following format: \"how to do XYZ with numpy\", where XYZ is the function you want to leverage from NumPy."
   ]
  },
  {
   "cell_type": "code",
   "metadata": {
    "ExecuteTime": {
     "end_time": "2025-08-07T01:16:49.378931Z",
     "start_time": "2025-08-07T01:16:49.371711Z"
    }
   },
   "source": [
    "# Import NumPy as its abbreviation 'np'\n",
    "import numpy as np"
   ],
   "outputs": [],
   "execution_count": 38
  },
  {
   "cell_type": "code",
   "metadata": {
    "ExecuteTime": {
     "end_time": "2025-08-07T01:16:49.406379Z",
     "start_time": "2025-08-07T01:16:49.403640Z"
    }
   },
   "source": [
    "# Create a 1-dimensional NumPy array using np.array()\n",
    "array1d = np.array([1,2,3,4,5])\n",
    "\n",
    "# Create a 2-dimensional NumPy array using np.array()\n",
    "array2d = np.array([[1,2,3],[4,5,6]])\n",
    "\n",
    "# Create a 3-dimensional Numpy array using np.array()\n",
    "array3d = np.array([    [[1,2,3],\n",
    "                        [4,5,6]],\n",
    "\n",
    "                        [[7,8,9],\n",
    "                        [10,11,12]],\n",
    "\n",
    "                        [[13,14,15],\n",
    "                         [16,17,18]]\n",
    "                    ])\n",
    "# Should equal 9\n",
    "print(array3d[1,0,2])\n"
   ],
   "outputs": [
    {
     "name": "stdout",
     "output_type": "stream",
     "text": [
      "9\n"
     ]
    }
   ],
   "execution_count": 39
  },
  {
   "cell_type": "markdown",
   "metadata": {},
   "source": [
    "Now we've you've created 3 different arrays, let's find details about them.\n",
    "\n",
    "Find the shape, number of dimensions, data type, size and type of each array."
   ]
  },
  {
   "cell_type": "code",
   "metadata": {
    "ExecuteTime": {
     "end_time": "2025-08-07T01:16:49.423188Z",
     "start_time": "2025-08-07T01:16:49.419990Z"
    }
   },
   "source": [
    "# Attributes of 1-dimensional array (shape, \n",
    "# number of dimensions, data type, size and type)\n",
    "print(array1d)\n",
    "print(array1d.shape)\n",
    "print(array1d.size)\n",
    "print(array1d.dtype)\n",
    "print(array1d.ndim)"
   ],
   "outputs": [
    {
     "name": "stdout",
     "output_type": "stream",
     "text": [
      "[1 2 3 4 5]\n",
      "(5,)\n",
      "5\n",
      "int64\n",
      "1\n"
     ]
    }
   ],
   "execution_count": 40
  },
  {
   "cell_type": "code",
   "metadata": {
    "ExecuteTime": {
     "end_time": "2025-08-07T01:16:49.443894Z",
     "start_time": "2025-08-07T01:16:49.441231Z"
    }
   },
   "source": [
    "# Attributes of 2-dimensional array\n",
    "print(array2d)\n",
    "print(array2d.shape)\n",
    "print(array2d.size)\n",
    "print(array2d.dtype)\n",
    "print(array2d.ndim)"
   ],
   "outputs": [
    {
     "name": "stdout",
     "output_type": "stream",
     "text": [
      "[[1 2 3]\n",
      " [4 5 6]]\n",
      "(2, 3)\n",
      "6\n",
      "int64\n",
      "2\n"
     ]
    }
   ],
   "execution_count": 41
  },
  {
   "cell_type": "code",
   "metadata": {
    "ExecuteTime": {
     "end_time": "2025-08-07T01:16:49.455881Z",
     "start_time": "2025-08-07T01:16:49.453608Z"
    }
   },
   "source": [
    "# Attributes of 3-dimensional array\n",
    "print(array3d)\n",
    "print(array3d.shape)\n",
    "print(array3d.size)\n",
    "print(array3d.dtype)\n",
    "print(array3d.ndim)"
   ],
   "outputs": [
    {
     "name": "stdout",
     "output_type": "stream",
     "text": [
      "[[[ 1  2  3]\n",
      "  [ 4  5  6]]\n",
      "\n",
      " [[ 7  8  9]\n",
      "  [10 11 12]]\n",
      "\n",
      " [[13 14 15]\n",
      "  [16 17 18]]]\n",
      "(3, 2, 3)\n",
      "18\n",
      "int64\n",
      "3\n"
     ]
    }
   ],
   "execution_count": 42
  },
  {
   "cell_type": "code",
   "metadata": {
    "ExecuteTime": {
     "end_time": "2025-08-07T01:16:49.473897Z",
     "start_time": "2025-08-07T01:16:49.468660Z"
    }
   },
   "source": [
    "# Import pandas and create a DataFrame out of one\n",
    "# of the arrays you've created\n",
    "import pandas as pd\n",
    "MyDataFrame = pd.DataFrame(array2d)\n",
    "MyDataFrame"
   ],
   "outputs": [
    {
     "data": {
      "text/plain": [
       "   0  1  2\n",
       "0  1  2  3\n",
       "1  4  5  6"
      ],
      "text/html": [
       "<div>\n",
       "<style scoped>\n",
       "    .dataframe tbody tr th:only-of-type {\n",
       "        vertical-align: middle;\n",
       "    }\n",
       "\n",
       "    .dataframe tbody tr th {\n",
       "        vertical-align: top;\n",
       "    }\n",
       "\n",
       "    .dataframe thead th {\n",
       "        text-align: right;\n",
       "    }\n",
       "</style>\n",
       "<table border=\"1\" class=\"dataframe\">\n",
       "  <thead>\n",
       "    <tr style=\"text-align: right;\">\n",
       "      <th></th>\n",
       "      <th>0</th>\n",
       "      <th>1</th>\n",
       "      <th>2</th>\n",
       "    </tr>\n",
       "  </thead>\n",
       "  <tbody>\n",
       "    <tr>\n",
       "      <th>0</th>\n",
       "      <td>1</td>\n",
       "      <td>2</td>\n",
       "      <td>3</td>\n",
       "    </tr>\n",
       "    <tr>\n",
       "      <th>1</th>\n",
       "      <td>4</td>\n",
       "      <td>5</td>\n",
       "      <td>6</td>\n",
       "    </tr>\n",
       "  </tbody>\n",
       "</table>\n",
       "</div>"
      ]
     },
     "execution_count": 43,
     "metadata": {},
     "output_type": "execute_result"
    }
   ],
   "execution_count": 43
  },
  {
   "cell_type": "code",
   "metadata": {
    "ExecuteTime": {
     "end_time": "2025-08-07T01:16:49.511584Z",
     "start_time": "2025-08-07T01:16:49.507684Z"
    }
   },
   "source": [
    "# Create an array of shape (10, 2) with only ones\n",
    "ones_matrix = np.ones((10,2), dtype = int)\n",
    "ones_matrix"
   ],
   "outputs": [
    {
     "data": {
      "text/plain": [
       "array([[1, 1],\n",
       "       [1, 1],\n",
       "       [1, 1],\n",
       "       [1, 1],\n",
       "       [1, 1],\n",
       "       [1, 1],\n",
       "       [1, 1],\n",
       "       [1, 1],\n",
       "       [1, 1],\n",
       "       [1, 1]])"
      ]
     },
     "execution_count": 44,
     "metadata": {},
     "output_type": "execute_result"
    }
   ],
   "execution_count": 44
  },
  {
   "cell_type": "code",
   "metadata": {
    "ExecuteTime": {
     "end_time": "2025-08-07T01:16:49.579440Z",
     "start_time": "2025-08-07T01:16:49.576063Z"
    }
   },
   "source": [
    "# Create an array of shape (7, 2, 3) of only zeros\n",
    "ones3darray = np.zeros((7, 2, 3), dtype = int)\n",
    "ones3darray"
   ],
   "outputs": [
    {
     "data": {
      "text/plain": [
       "array([[[0, 0, 0],\n",
       "        [0, 0, 0]],\n",
       "\n",
       "       [[0, 0, 0],\n",
       "        [0, 0, 0]],\n",
       "\n",
       "       [[0, 0, 0],\n",
       "        [0, 0, 0]],\n",
       "\n",
       "       [[0, 0, 0],\n",
       "        [0, 0, 0]],\n",
       "\n",
       "       [[0, 0, 0],\n",
       "        [0, 0, 0]],\n",
       "\n",
       "       [[0, 0, 0],\n",
       "        [0, 0, 0]],\n",
       "\n",
       "       [[0, 0, 0],\n",
       "        [0, 0, 0]]])"
      ]
     },
     "execution_count": 45,
     "metadata": {},
     "output_type": "execute_result"
    }
   ],
   "execution_count": 45
  },
  {
   "cell_type": "code",
   "metadata": {
    "ExecuteTime": {
     "end_time": "2025-08-07T01:16:49.676647Z",
     "start_time": "2025-08-07T01:16:49.674089Z"
    }
   },
   "source": [
    "# Create an array within a range of 0 and 100 with step 3\n",
    "step3array = np.array(range(0,100,3))\n",
    "# here we have beginning with, ending with, and number of steps between\n",
    "step3array"
   ],
   "outputs": [
    {
     "data": {
      "text/plain": [
       "array([ 0,  3,  6,  9, 12, 15, 18, 21, 24, 27, 30, 33, 36, 39, 42, 45, 48,\n",
       "       51, 54, 57, 60, 63, 66, 69, 72, 75, 78, 81, 84, 87, 90, 93, 96, 99])"
      ]
     },
     "execution_count": 46,
     "metadata": {},
     "output_type": "execute_result"
    }
   ],
   "execution_count": 46
  },
  {
   "cell_type": "code",
   "metadata": {
    "ExecuteTime": {
     "end_time": "2025-08-07T01:16:49.693478Z",
     "start_time": "2025-08-07T01:16:49.689349Z"
    }
   },
   "source": [
    "# Create a random array with numbers between 0 and 10 of size (7, 2)\n",
    "randarray01072 = np.random.randint(0,10, size=(7,2))\n",
    "randarray01072"
   ],
   "outputs": [
    {
     "data": {
      "text/plain": [
       "array([[9, 8],\n",
       "       [4, 5],\n",
       "       [3, 9],\n",
       "       [6, 8],\n",
       "       [6, 0],\n",
       "       [0, 8],\n",
       "       [8, 3]])"
      ]
     },
     "execution_count": 47,
     "metadata": {},
     "output_type": "execute_result"
    }
   ],
   "execution_count": 47
  },
  {
   "cell_type": "code",
   "metadata": {
    "ExecuteTime": {
     "end_time": "2025-08-07T01:16:49.730943Z",
     "start_time": "2025-08-07T01:16:49.727199Z"
    }
   },
   "source": [
    "# Create a random array of floats between 0 & 1 of shape (3, 5)\n",
    "randarrayflt = np.random.rand(3,5)\n",
    "randarrayflt"
   ],
   "outputs": [
    {
     "data": {
      "text/plain": [
       "array([[0.35256886, 0.30478126, 0.16465585, 0.53408942, 0.48482997],\n",
       "       [0.69243603, 0.26941233, 0.24412552, 0.16829104, 0.21876422],\n",
       "       [0.558102  , 0.40383617, 0.06489225, 0.25391541, 0.24687606]])"
      ]
     },
     "execution_count": 48,
     "metadata": {},
     "output_type": "execute_result"
    }
   ],
   "execution_count": 48
  },
  {
   "cell_type": "code",
   "metadata": {
    "ExecuteTime": {
     "end_time": "2025-08-07T01:16:49.792250Z",
     "start_time": "2025-08-07T01:16:49.789333Z"
    }
   },
   "source": [
    "# Set the random seed to 42\n",
    "np.random.seed(42)\n",
    "\n",
    "# Create a random array of numbers between 0 & 10 of size (4, 6)\n",
    "randarray4246 = np.random.randint(0,10, size=(4,6))\n",
    "randarray4246"
   ],
   "outputs": [
    {
     "data": {
      "text/plain": [
       "array([[6, 3, 7, 4, 6, 9],\n",
       "       [2, 6, 7, 4, 3, 7],\n",
       "       [7, 2, 5, 4, 1, 7],\n",
       "       [5, 1, 4, 0, 9, 5]])"
      ]
     },
     "execution_count": 49,
     "metadata": {},
     "output_type": "execute_result"
    }
   ],
   "execution_count": 49
  },
  {
   "cell_type": "markdown",
   "metadata": {},
   "source": [
    "Run the cell above again, what happens?\n",
    "\n",
    "Are the numbers in the array different or the same? Why do think this is?"
   ]
  },
  {
   "cell_type": "code",
   "metadata": {
    "ExecuteTime": {
     "end_time": "2025-08-07T01:16:49.863388Z",
     "start_time": "2025-08-07T01:16:49.859044Z"
    }
   },
   "source": [
    "# Create an array of random numbers between 1 & 10 of size (3, 7)\n",
    "# and save it to a variable\n",
    "randarray37 = np.random.randint(1,20, size=(3,7))\n",
    "print(randarray37)\n",
    "\n",
    "# Find the unique numbers in the array you just created\n",
    "np.unique(randarray37)\n"
   ],
   "outputs": [
    {
     "name": "stdout",
     "output_type": "stream",
     "text": [
      "[[12 17 10 16 15 15 19]\n",
      " [12  3  5 19  7  9  7]\n",
      " [18  4 14 18  9  2 15]]\n"
     ]
    },
    {
     "data": {
      "text/plain": [
       "array([ 2,  3,  4,  5,  7,  9, 10, 12, 14, 15, 16, 17, 18, 19])"
      ]
     },
     "execution_count": 50,
     "metadata": {},
     "output_type": "execute_result"
    }
   ],
   "execution_count": 50
  },
  {
   "cell_type": "code",
   "metadata": {
    "ExecuteTime": {
     "end_time": "2025-08-07T01:16:49.912917Z",
     "start_time": "2025-08-07T01:16:49.910864Z"
    }
   },
   "source": [
    "# Find the 0'th index of the latest array you created\n",
    "zeroindex = np.unique(randarray37[0][0])\n",
    "print(zeroindex)"
   ],
   "outputs": [
    {
     "name": "stdout",
     "output_type": "stream",
     "text": [
      "[12]\n"
     ]
    }
   ],
   "execution_count": 51
  },
  {
   "cell_type": "code",
   "metadata": {
    "ExecuteTime": {
     "end_time": "2025-08-07T01:16:49.931184Z",
     "start_time": "2025-08-07T01:16:49.928746Z"
    }
   },
   "source": [
    "# Get the first 2 rows of latest array you created\n",
    "row1 = (randarray37[0])\n",
    "row2 = (randarray37[1])\n",
    "print(row1)\n",
    "print(row2)\n"
   ],
   "outputs": [
    {
     "name": "stdout",
     "output_type": "stream",
     "text": [
      "[12 17 10 16 15 15 19]\n",
      "[12  3  5 19  7  9  7]\n"
     ]
    }
   ],
   "execution_count": 52
  },
  {
   "cell_type": "code",
   "metadata": {
    "ExecuteTime": {
     "end_time": "2025-08-07T01:16:49.945502Z",
     "start_time": "2025-08-07T01:16:49.943254Z"
    }
   },
   "source": [
    "# Get the first 2 values of the first 2 rows of the latest array\n",
    "print(row1[0:2])\n",
    "print(row2[0:2])"
   ],
   "outputs": [
    {
     "name": "stdout",
     "output_type": "stream",
     "text": [
      "[12 17]\n",
      "[12  3]\n"
     ]
    }
   ],
   "execution_count": 53
  },
  {
   "cell_type": "code",
   "metadata": {
    "ExecuteTime": {
     "end_time": "2025-08-07T01:16:49.955816Z",
     "start_time": "2025-08-07T01:16:49.954172Z"
    }
   },
   "source": [
    "# Create a random array of numbers between 0 & 10 and an array of ones\n",
    "# both of size (3, 5), save them both to variables\n"
   ],
   "outputs": [],
   "execution_count": 54
  },
  {
   "cell_type": "code",
   "metadata": {
    "ExecuteTime": {
     "end_time": "2025-08-07T01:16:49.965697Z",
     "start_time": "2025-08-07T01:16:49.964063Z"
    }
   },
   "source": [
    "# Add the two arrays together\n"
   ],
   "outputs": [],
   "execution_count": 55
  },
  {
   "cell_type": "code",
   "metadata": {
    "ExecuteTime": {
     "end_time": "2025-08-07T01:16:49.974754Z",
     "start_time": "2025-08-07T01:16:49.973362Z"
    }
   },
   "source": [
    "# Create another array of ones of shape (5, 3)\n"
   ],
   "outputs": [],
   "execution_count": 56
  },
  {
   "cell_type": "code",
   "metadata": {
    "ExecuteTime": {
     "end_time": "2025-08-07T01:16:49.983406Z",
     "start_time": "2025-08-07T01:16:49.982196Z"
    }
   },
   "source": [
    "# Try add the array of ones and the other most recent array together\n"
   ],
   "outputs": [],
   "execution_count": 57
  },
  {
   "cell_type": "markdown",
   "metadata": {},
   "source": [
    "When you try the last cell, it produces an error. Why do think this is?\n",
    "\n",
    "How would you fix it?"
   ]
  },
  {
   "cell_type": "code",
   "metadata": {
    "ExecuteTime": {
     "end_time": "2025-08-07T01:16:49.993375Z",
     "start_time": "2025-08-07T01:16:49.991862Z"
    }
   },
   "source": [
    "# Create another array of ones of shape (3, 5)\n"
   ],
   "outputs": [],
   "execution_count": 58
  },
  {
   "cell_type": "code",
   "metadata": {
    "ExecuteTime": {
     "end_time": "2025-08-07T01:16:50.001949Z",
     "start_time": "2025-08-07T01:16:50.000821Z"
    }
   },
   "source": [
    "# Subtract the new array of ones from the other most recent array\n"
   ],
   "outputs": [],
   "execution_count": 59
  },
  {
   "cell_type": "code",
   "metadata": {
    "ExecuteTime": {
     "end_time": "2025-08-07T01:16:50.010571Z",
     "start_time": "2025-08-07T01:16:50.009369Z"
    }
   },
   "source": [
    "# Multiply the ones array with the latest array\n"
   ],
   "outputs": [],
   "execution_count": 60
  },
  {
   "cell_type": "code",
   "metadata": {
    "ExecuteTime": {
     "end_time": "2025-08-07T01:16:50.019800Z",
     "start_time": "2025-08-07T01:16:50.018583Z"
    }
   },
   "source": [
    "# Take the latest array to the power of 2 using '**'\n"
   ],
   "outputs": [],
   "execution_count": 61
  },
  {
   "cell_type": "code",
   "metadata": {
    "ExecuteTime": {
     "end_time": "2025-08-07T01:16:50.029029Z",
     "start_time": "2025-08-07T01:16:50.027621Z"
    }
   },
   "source": [
    "# Do the same thing with np.square()\n"
   ],
   "outputs": [],
   "execution_count": 62
  },
  {
   "cell_type": "code",
   "metadata": {
    "ExecuteTime": {
     "end_time": "2025-08-07T01:16:50.038658Z",
     "start_time": "2025-08-07T01:16:50.037376Z"
    }
   },
   "source": [
    "# Find the mean of the latest array using np.mean()\n"
   ],
   "outputs": [],
   "execution_count": 63
  },
  {
   "cell_type": "code",
   "metadata": {
    "ExecuteTime": {
     "end_time": "2025-08-07T01:16:50.047763Z",
     "start_time": "2025-08-07T01:16:50.046466Z"
    }
   },
   "source": [
    "# Find the maximum of the latest array using np.max()\n"
   ],
   "outputs": [],
   "execution_count": 64
  },
  {
   "cell_type": "code",
   "metadata": {
    "ExecuteTime": {
     "end_time": "2025-08-07T01:16:50.056597Z",
     "start_time": "2025-08-07T01:16:50.055390Z"
    }
   },
   "source": [
    "# Find the minimum of the latest array using np.min()\n"
   ],
   "outputs": [],
   "execution_count": 65
  },
  {
   "cell_type": "code",
   "metadata": {
    "ExecuteTime": {
     "end_time": "2025-08-07T01:16:50.065463Z",
     "start_time": "2025-08-07T01:16:50.064219Z"
    }
   },
   "source": [
    "# Find the standard deviation of the latest array\n"
   ],
   "outputs": [],
   "execution_count": 66
  },
  {
   "cell_type": "code",
   "metadata": {
    "ExecuteTime": {
     "end_time": "2025-08-07T01:16:50.074219Z",
     "start_time": "2025-08-07T01:16:50.072904Z"
    }
   },
   "source": [
    "# Find the variance of the latest array\n"
   ],
   "outputs": [],
   "execution_count": 67
  },
  {
   "cell_type": "code",
   "metadata": {
    "ExecuteTime": {
     "end_time": "2025-08-07T01:16:50.082909Z",
     "start_time": "2025-08-07T01:16:50.081782Z"
    }
   },
   "source": [
    "# Reshape the latest array to (3, 5, 1)\n"
   ],
   "outputs": [],
   "execution_count": 68
  },
  {
   "cell_type": "code",
   "metadata": {
    "ExecuteTime": {
     "end_time": "2025-08-07T01:16:50.093892Z",
     "start_time": "2025-08-07T01:16:50.092200Z"
    }
   },
   "source": [
    "# Transpose the latest array\n"
   ],
   "outputs": [],
   "execution_count": 69
  },
  {
   "cell_type": "markdown",
   "metadata": {},
   "source": [
    "What does the transpose do?"
   ]
  },
  {
   "cell_type": "code",
   "metadata": {
    "ExecuteTime": {
     "end_time": "2025-08-07T01:16:50.104408Z",
     "start_time": "2025-08-07T01:16:50.103072Z"
    }
   },
   "source": [
    "# Create two arrays of random integers between 0 to 10\n",
    "# one of size (3, 3) the other of size (3, 2)\n"
   ],
   "outputs": [],
   "execution_count": 70
  },
  {
   "cell_type": "code",
   "metadata": {
    "ExecuteTime": {
     "end_time": "2025-08-07T01:16:50.115654Z",
     "start_time": "2025-08-07T01:16:50.113811Z"
    }
   },
   "source": [
    "# Perform a dot product on the two newest arrays you created\n"
   ],
   "outputs": [],
   "execution_count": 71
  },
  {
   "cell_type": "code",
   "metadata": {
    "ExecuteTime": {
     "end_time": "2025-08-07T01:16:50.124550Z",
     "start_time": "2025-08-07T01:16:50.123365Z"
    }
   },
   "source": [
    "# Create two arrays of random integers between 0 to 10\n",
    "# both of size (4, 3)\n"
   ],
   "outputs": [],
   "execution_count": 72
  },
  {
   "cell_type": "code",
   "metadata": {
    "ExecuteTime": {
     "end_time": "2025-08-07T01:16:50.133217Z",
     "start_time": "2025-08-07T01:16:50.132180Z"
    }
   },
   "source": [
    "# Perform a dot product on the two newest arrays you created\n"
   ],
   "outputs": [],
   "execution_count": 73
  },
  {
   "cell_type": "markdown",
   "metadata": {},
   "source": [
    "It doesn't work. How would you fix it?"
   ]
  },
  {
   "cell_type": "code",
   "metadata": {
    "ExecuteTime": {
     "end_time": "2025-08-07T01:16:50.142052Z",
     "start_time": "2025-08-07T01:16:50.140778Z"
    }
   },
   "source": [
    "# Take the latest two arrays, perform a transpose on one of them and then perform \n",
    "# a dot product on them both\n"
   ],
   "outputs": [],
   "execution_count": 74
  },
  {
   "cell_type": "markdown",
   "metadata": {},
   "source": [
    "Notice how performing a transpose allows the dot product to happen.\n",
    "\n",
    "Why is this?\n",
    "\n",
    "Checking out the documentation on [`np.dot()`](https://docs.scipy.org/doc/numpy/reference/generated/numpy.dot.html) may help, as well as reading [Math is Fun's guide on the dot product](https://www.mathsisfun.com/algebra/vectors-dot-product.html).\n",
    "\n",
    "Let's now compare arrays."
   ]
  },
  {
   "cell_type": "code",
   "metadata": {
    "ExecuteTime": {
     "end_time": "2025-08-07T01:16:50.150458Z",
     "start_time": "2025-08-07T01:16:50.149305Z"
    }
   },
   "source": [
    "# Create two arrays of random integers between 0 & 10 of the same shape\n",
    "# and save them to variables\n"
   ],
   "outputs": [],
   "execution_count": 75
  },
  {
   "cell_type": "code",
   "metadata": {
    "ExecuteTime": {
     "end_time": "2025-08-07T01:16:50.158965Z",
     "start_time": "2025-08-07T01:16:50.157755Z"
    }
   },
   "source": [
    "# Compare the two arrays with '>'\n"
   ],
   "outputs": [],
   "execution_count": 76
  },
  {
   "cell_type": "markdown",
   "metadata": {},
   "source": [
    "What happens when you compare the arrays with `>`?"
   ]
  },
  {
   "cell_type": "code",
   "metadata": {
    "ExecuteTime": {
     "end_time": "2025-08-07T01:16:50.167176Z",
     "start_time": "2025-08-07T01:16:50.166124Z"
    }
   },
   "source": [
    "# Compare the two arrays with '>='\n"
   ],
   "outputs": [],
   "execution_count": 77
  },
  {
   "cell_type": "code",
   "metadata": {
    "ExecuteTime": {
     "end_time": "2025-08-07T01:16:50.175454Z",
     "start_time": "2025-08-07T01:16:50.174138Z"
    }
   },
   "source": [
    "# Find which elements of the first array are greater than 7\n"
   ],
   "outputs": [],
   "execution_count": 78
  },
  {
   "cell_type": "code",
   "metadata": {
    "ExecuteTime": {
     "end_time": "2025-08-07T01:16:50.183246Z",
     "start_time": "2025-08-07T01:16:50.182085Z"
    }
   },
   "source": [
    "# Which parts of each array are equal? (try using '==')\n"
   ],
   "outputs": [],
   "execution_count": 79
  },
  {
   "cell_type": "code",
   "metadata": {
    "ExecuteTime": {
     "end_time": "2025-08-07T01:16:50.191555Z",
     "start_time": "2025-08-07T01:16:50.190339Z"
    }
   },
   "source": [
    "# Sort one of the arrays you just created in ascending order\n"
   ],
   "outputs": [],
   "execution_count": 80
  },
  {
   "cell_type": "code",
   "metadata": {
    "ExecuteTime": {
     "end_time": "2025-08-07T01:16:50.200614Z",
     "start_time": "2025-08-07T01:16:50.198962Z"
    }
   },
   "source": [
    "# Sort the indexes of one of the arrays you just created\n"
   ],
   "outputs": [],
   "execution_count": 81
  },
  {
   "cell_type": "code",
   "metadata": {
    "ExecuteTime": {
     "end_time": "2025-08-07T01:16:50.209210Z",
     "start_time": "2025-08-07T01:16:50.207957Z"
    }
   },
   "source": [
    "# Find the index with the maximum value in one of the arrays you've created\n"
   ],
   "outputs": [],
   "execution_count": 82
  },
  {
   "cell_type": "code",
   "metadata": {
    "ExecuteTime": {
     "end_time": "2025-08-07T01:16:50.217611Z",
     "start_time": "2025-08-07T01:16:50.216293Z"
    }
   },
   "source": [
    "# Find the index with the minimum value in one of the arrays you've created\n"
   ],
   "outputs": [],
   "execution_count": 83
  },
  {
   "cell_type": "code",
   "metadata": {
    "ExecuteTime": {
     "end_time": "2025-08-07T01:16:50.225838Z",
     "start_time": "2025-08-07T01:16:50.224571Z"
    }
   },
   "source": [
    "# Find the indexes with the maximum values down the 1st axis (axis=1)\n",
    "# of one of the arrays you created\n"
   ],
   "outputs": [],
   "execution_count": 84
  },
  {
   "cell_type": "code",
   "metadata": {
    "ExecuteTime": {
     "end_time": "2025-08-07T01:16:50.234584Z",
     "start_time": "2025-08-07T01:16:50.233289Z"
    }
   },
   "source": [
    "# Find the indexes with the minimum values across the 0th axis (axis=0)\n",
    "# of one of the arrays you created\n"
   ],
   "outputs": [],
   "execution_count": 85
  },
  {
   "cell_type": "code",
   "metadata": {
    "ExecuteTime": {
     "end_time": "2025-08-07T01:16:50.244631Z",
     "start_time": "2025-08-07T01:16:50.243162Z"
    }
   },
   "source": [
    "# Create an array of normally distributed random numbers\n"
   ],
   "outputs": [],
   "execution_count": 86
  },
  {
   "cell_type": "code",
   "metadata": {
    "ExecuteTime": {
     "end_time": "2025-08-07T01:16:50.253934Z",
     "start_time": "2025-08-07T01:16:50.252369Z"
    }
   },
   "source": [
    "# Create an array with 10 evenly spaced numbers between 1 and 100\n"
   ],
   "outputs": [],
   "execution_count": 87
  },
  {
   "cell_type": "markdown",
   "metadata": {},
   "source": [
    "## Extensions\n",
    "\n",
    "For more exercises, check out the [NumPy quickstart tutorial](https://numpy.org/doc/stable/user/quickstart.html). A good practice would be to read through it and for the parts you find interesting, add them into the end of this notebook.\n",
    "\n",
    "Pay particular attention to the section on broadcasting. And most importantly, get hands-on with the code as much as possible. If in dobut, run the code, see what it does.\n",
    "\n",
    "The next place you could go is the [Stack Overflow page for the top questions and answers for NumPy](https://stackoverflow.com/questions/tagged/numpy?sort=MostVotes&edited=true). Often, you'll find some of the most common and useful NumPy functions here. Don't forget to play around with the filters! You'll likely find something helpful here.\n",
    "\n",
    "Finally, as always, remember, the best way to learn something new is to try it. And try it relentlessly. If you get interested in some kind of NumPy function, asking yourself, \"I wonder if NumPy could do that?\", go and find out."
   ]
  }
 ],
 "metadata": {
  "kernelspec": {
   "display_name": "Python 3",
   "language": "python",
   "name": "python3"
  },
  "language_info": {
   "codemirror_mode": {
    "name": "ipython",
    "version": 3
   },
   "file_extension": ".py",
   "mimetype": "text/x-python",
   "name": "python",
   "nbconvert_exporter": "python",
   "pygments_lexer": "ipython3",
   "version": "3.8.3"
  }
 },
 "nbformat": 4,
 "nbformat_minor": 2
}
