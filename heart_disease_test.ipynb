{
 "cells": [
  {
   "cell_type": "markdown",
   "id": "012e363b-4afd-42c8-ae93-3eea2e54e30d",
   "metadata": {},
   "source": [
    "## Heart Disease project\n",
    "This will evaluate patient data to try to detect signs of heaert disease"
   ]
  },
  {
   "cell_type": "code",
   "id": "ea8defc5-8314-45bc-a6ec-b73baeecb160",
   "metadata": {
    "ExecuteTime": {
     "end_time": "2025-07-01T09:02:52.257783Z",
     "start_time": "2025-07-01T09:02:51.275785Z"
    }
   },
   "source": [
    "# Import the necessary libraries\n",
    "import pandas as pd\n",
    "import numpy as np\n",
    "import matplotlib.pyplot as plt\n",
    "import sklearn as skl"
   ],
   "outputs": [],
   "execution_count": 1
  },
  {
   "cell_type": "code",
   "id": "e6ab9535-6e27-461f-8134-d552038a9df3",
   "metadata": {
    "ExecuteTime": {
     "end_time": "2025-07-01T09:02:52.272890Z",
     "start_time": "2025-07-01T09:02:52.265488Z"
    }
   },
   "source": [
    "# Import the CSV file with the patient data\n",
    "df = pd.read_csv(\"heart-disease.csv\")"
   ],
   "outputs": [],
   "execution_count": 2
  },
  {
   "cell_type": "markdown",
   "id": "f151b867-56d5-4871-8880-a4ea57b7d36a",
   "metadata": {},
   "source": [
    "## The following table is a dataframe from pandas showing partial records of patient data\n",
    "variable number of rows"
   ]
  },
  {
   "cell_type": "code",
   "id": "3387ac88-0add-4ec8-996f-e5b2b07b05c3",
   "metadata": {
    "ExecuteTime": {
     "end_time": "2025-07-01T09:02:52.289187Z",
     "start_time": "2025-07-01T09:02:52.279265Z"
    }
   },
   "source": [
    "# Read a specified number of rows from the patient data's data frame\n",
    "df.head(12)"
   ],
   "outputs": [
    {
     "data": {
      "text/plain": [
       "    age  sex  cp  trestbps  chol  fbs  restecg  thalach  exang  oldpeak  \\\n",
       "0    63    1   3       145   233    1        0      150      0      2.3   \n",
       "1    37    1   2       130   250    0        1      187      0      3.5   \n",
       "2    41    0   1       130   204    0        0      172      0      1.4   \n",
       "3    56    1   1       120   236    0        1      178      0      0.8   \n",
       "4    57    0   0       120   354    0        1      163      1      0.6   \n",
       "5    57    1   0       140   192    0        1      148      0      0.4   \n",
       "6    56    0   1       140   294    0        0      153      0      1.3   \n",
       "7    44    1   1       120   263    0        1      173      0      0.0   \n",
       "8    52    1   2       172   199    1        1      162      0      0.5   \n",
       "9    57    1   2       150   168    0        1      174      0      1.6   \n",
       "10   54    1   0       140   239    0        1      160      0      1.2   \n",
       "11   48    0   2       130   275    0        1      139      0      0.2   \n",
       "\n",
       "    slope  ca  thal  target  \n",
       "0       0   0     1       1  \n",
       "1       0   0     2       1  \n",
       "2       2   0     2       1  \n",
       "3       2   0     2       1  \n",
       "4       2   0     2       1  \n",
       "5       1   0     1       1  \n",
       "6       1   0     2       1  \n",
       "7       2   0     3       1  \n",
       "8       2   0     3       1  \n",
       "9       2   0     2       1  \n",
       "10      2   0     2       1  \n",
       "11      2   0     2       1  "
      ],
      "text/html": [
       "<div>\n",
       "<style scoped>\n",
       "    .dataframe tbody tr th:only-of-type {\n",
       "        vertical-align: middle;\n",
       "    }\n",
       "\n",
       "    .dataframe tbody tr th {\n",
       "        vertical-align: top;\n",
       "    }\n",
       "\n",
       "    .dataframe thead th {\n",
       "        text-align: right;\n",
       "    }\n",
       "</style>\n",
       "<table border=\"1\" class=\"dataframe\">\n",
       "  <thead>\n",
       "    <tr style=\"text-align: right;\">\n",
       "      <th></th>\n",
       "      <th>age</th>\n",
       "      <th>sex</th>\n",
       "      <th>cp</th>\n",
       "      <th>trestbps</th>\n",
       "      <th>chol</th>\n",
       "      <th>fbs</th>\n",
       "      <th>restecg</th>\n",
       "      <th>thalach</th>\n",
       "      <th>exang</th>\n",
       "      <th>oldpeak</th>\n",
       "      <th>slope</th>\n",
       "      <th>ca</th>\n",
       "      <th>thal</th>\n",
       "      <th>target</th>\n",
       "    </tr>\n",
       "  </thead>\n",
       "  <tbody>\n",
       "    <tr>\n",
       "      <th>0</th>\n",
       "      <td>63</td>\n",
       "      <td>1</td>\n",
       "      <td>3</td>\n",
       "      <td>145</td>\n",
       "      <td>233</td>\n",
       "      <td>1</td>\n",
       "      <td>0</td>\n",
       "      <td>150</td>\n",
       "      <td>0</td>\n",
       "      <td>2.3</td>\n",
       "      <td>0</td>\n",
       "      <td>0</td>\n",
       "      <td>1</td>\n",
       "      <td>1</td>\n",
       "    </tr>\n",
       "    <tr>\n",
       "      <th>1</th>\n",
       "      <td>37</td>\n",
       "      <td>1</td>\n",
       "      <td>2</td>\n",
       "      <td>130</td>\n",
       "      <td>250</td>\n",
       "      <td>0</td>\n",
       "      <td>1</td>\n",
       "      <td>187</td>\n",
       "      <td>0</td>\n",
       "      <td>3.5</td>\n",
       "      <td>0</td>\n",
       "      <td>0</td>\n",
       "      <td>2</td>\n",
       "      <td>1</td>\n",
       "    </tr>\n",
       "    <tr>\n",
       "      <th>2</th>\n",
       "      <td>41</td>\n",
       "      <td>0</td>\n",
       "      <td>1</td>\n",
       "      <td>130</td>\n",
       "      <td>204</td>\n",
       "      <td>0</td>\n",
       "      <td>0</td>\n",
       "      <td>172</td>\n",
       "      <td>0</td>\n",
       "      <td>1.4</td>\n",
       "      <td>2</td>\n",
       "      <td>0</td>\n",
       "      <td>2</td>\n",
       "      <td>1</td>\n",
       "    </tr>\n",
       "    <tr>\n",
       "      <th>3</th>\n",
       "      <td>56</td>\n",
       "      <td>1</td>\n",
       "      <td>1</td>\n",
       "      <td>120</td>\n",
       "      <td>236</td>\n",
       "      <td>0</td>\n",
       "      <td>1</td>\n",
       "      <td>178</td>\n",
       "      <td>0</td>\n",
       "      <td>0.8</td>\n",
       "      <td>2</td>\n",
       "      <td>0</td>\n",
       "      <td>2</td>\n",
       "      <td>1</td>\n",
       "    </tr>\n",
       "    <tr>\n",
       "      <th>4</th>\n",
       "      <td>57</td>\n",
       "      <td>0</td>\n",
       "      <td>0</td>\n",
       "      <td>120</td>\n",
       "      <td>354</td>\n",
       "      <td>0</td>\n",
       "      <td>1</td>\n",
       "      <td>163</td>\n",
       "      <td>1</td>\n",
       "      <td>0.6</td>\n",
       "      <td>2</td>\n",
       "      <td>0</td>\n",
       "      <td>2</td>\n",
       "      <td>1</td>\n",
       "    </tr>\n",
       "    <tr>\n",
       "      <th>5</th>\n",
       "      <td>57</td>\n",
       "      <td>1</td>\n",
       "      <td>0</td>\n",
       "      <td>140</td>\n",
       "      <td>192</td>\n",
       "      <td>0</td>\n",
       "      <td>1</td>\n",
       "      <td>148</td>\n",
       "      <td>0</td>\n",
       "      <td>0.4</td>\n",
       "      <td>1</td>\n",
       "      <td>0</td>\n",
       "      <td>1</td>\n",
       "      <td>1</td>\n",
       "    </tr>\n",
       "    <tr>\n",
       "      <th>6</th>\n",
       "      <td>56</td>\n",
       "      <td>0</td>\n",
       "      <td>1</td>\n",
       "      <td>140</td>\n",
       "      <td>294</td>\n",
       "      <td>0</td>\n",
       "      <td>0</td>\n",
       "      <td>153</td>\n",
       "      <td>0</td>\n",
       "      <td>1.3</td>\n",
       "      <td>1</td>\n",
       "      <td>0</td>\n",
       "      <td>2</td>\n",
       "      <td>1</td>\n",
       "    </tr>\n",
       "    <tr>\n",
       "      <th>7</th>\n",
       "      <td>44</td>\n",
       "      <td>1</td>\n",
       "      <td>1</td>\n",
       "      <td>120</td>\n",
       "      <td>263</td>\n",
       "      <td>0</td>\n",
       "      <td>1</td>\n",
       "      <td>173</td>\n",
       "      <td>0</td>\n",
       "      <td>0.0</td>\n",
       "      <td>2</td>\n",
       "      <td>0</td>\n",
       "      <td>3</td>\n",
       "      <td>1</td>\n",
       "    </tr>\n",
       "    <tr>\n",
       "      <th>8</th>\n",
       "      <td>52</td>\n",
       "      <td>1</td>\n",
       "      <td>2</td>\n",
       "      <td>172</td>\n",
       "      <td>199</td>\n",
       "      <td>1</td>\n",
       "      <td>1</td>\n",
       "      <td>162</td>\n",
       "      <td>0</td>\n",
       "      <td>0.5</td>\n",
       "      <td>2</td>\n",
       "      <td>0</td>\n",
       "      <td>3</td>\n",
       "      <td>1</td>\n",
       "    </tr>\n",
       "    <tr>\n",
       "      <th>9</th>\n",
       "      <td>57</td>\n",
       "      <td>1</td>\n",
       "      <td>2</td>\n",
       "      <td>150</td>\n",
       "      <td>168</td>\n",
       "      <td>0</td>\n",
       "      <td>1</td>\n",
       "      <td>174</td>\n",
       "      <td>0</td>\n",
       "      <td>1.6</td>\n",
       "      <td>2</td>\n",
       "      <td>0</td>\n",
       "      <td>2</td>\n",
       "      <td>1</td>\n",
       "    </tr>\n",
       "    <tr>\n",
       "      <th>10</th>\n",
       "      <td>54</td>\n",
       "      <td>1</td>\n",
       "      <td>0</td>\n",
       "      <td>140</td>\n",
       "      <td>239</td>\n",
       "      <td>0</td>\n",
       "      <td>1</td>\n",
       "      <td>160</td>\n",
       "      <td>0</td>\n",
       "      <td>1.2</td>\n",
       "      <td>2</td>\n",
       "      <td>0</td>\n",
       "      <td>2</td>\n",
       "      <td>1</td>\n",
       "    </tr>\n",
       "    <tr>\n",
       "      <th>11</th>\n",
       "      <td>48</td>\n",
       "      <td>0</td>\n",
       "      <td>2</td>\n",
       "      <td>130</td>\n",
       "      <td>275</td>\n",
       "      <td>0</td>\n",
       "      <td>1</td>\n",
       "      <td>139</td>\n",
       "      <td>0</td>\n",
       "      <td>0.2</td>\n",
       "      <td>2</td>\n",
       "      <td>0</td>\n",
       "      <td>2</td>\n",
       "      <td>1</td>\n",
       "    </tr>\n",
       "  </tbody>\n",
       "</table>\n",
       "</div>"
      ]
     },
     "execution_count": 3,
     "metadata": {},
     "output_type": "execute_result"
    }
   ],
   "execution_count": 3
  },
  {
   "cell_type": "code",
   "id": "a6a6fda1-c27c-4cac-be6d-dd442a4a0774",
   "metadata": {
    "ExecuteTime": {
     "end_time": "2025-07-01T09:02:53.515418Z",
     "start_time": "2025-07-01T09:02:53.513033Z"
    }
   },
   "source": [],
   "outputs": [],
   "execution_count": null
  },
  {
   "cell_type": "code",
   "id": "a3190499-df64-4c6f-9f60-0ca08f15f35b",
   "metadata": {
    "ExecuteTime": {
     "end_time": "2025-07-01T09:20:32.297639Z",
     "start_time": "2025-07-01T09:20:32.237975Z"
    }
   },
   "source": [
    "df.target.value_counts().plot(kind=\"bar\")"
   ],
   "outputs": [
    {
     "data": {
      "text/plain": [
       "<Axes: xlabel='target'>"
      ]
     },
     "execution_count": 13,
     "metadata": {},
     "output_type": "execute_result"
    },
    {
     "data": {
      "text/plain": [
       "<Figure size 640x480 with 1 Axes>"
      ],
      "image/png": "[encoded data removed]"
     },
     "metadata": {},
     "output_type": "display_data"
    }
   ],
   "execution_count": 13
  },
  {
   "metadata": {},
   "cell_type": "markdown",
   "source": "![](6-step-ml-framework.png)\n",
   "id": "b8ef2bb95d1ace27"
  },
  {
   "metadata": {},
   "cell_type": "markdown",
   "source": "## Plot the 'target'",
   "id": "df190b7dfcbcaeba"
  },
  {
   "metadata": {
    "ExecuteTime": {
     "end_time": "2025-07-01T21:20:53.936793Z",
     "start_time": "2025-07-01T21:20:53.841898Z"
    }
   },
   "cell_type": "code",
   "source": "df.target.value_counts().plot(kind=\"bar\")",
   "id": "969b83672bcda56d",
   "outputs": [
    {
     "data": {
      "text/plain": [
       "<Axes: xlabel='target'>"
      ]
     },
     "execution_count": 17,
     "metadata": {},
     "output_type": "execute_result"
    },
    {
     "data": {
      "text/plain": [
       "<Figure size 640x480 with 1 Axes>"
      ],
      "image/png": "[encoded data removed]"
     },
     "metadata": {},
     "output_type": "display_data"
    }
   ],
   "execution_count": 17
  },
  {
   "metadata": {
    "ExecuteTime": {
     "end_time": "2025-07-01T21:21:09.910160Z",
     "start_time": "2025-07-01T21:21:09.761260Z"
    }
   },
   "cell_type": "code",
   "source": "!ls -la",
   "id": "cdb43122b8aa992f",
   "outputs": [
    {
     "name": "stdout",
     "output_type": "stream",
     "text": [
      "total 1240\r\n",
      "drwxr-xr-x@ 22 cymruclan  staff     704 Jul  1 14:21 \u001B[34m.\u001B[m\u001B[m\r\n",
      "drwxr-xr-x@  7 cymruclan  staff     224 May 20 17:33 \u001B[34m..\u001B[m\u001B[m\r\n",
      "drwxr-xr-x@ 12 cymruclan  staff     384 Jul  1 02:14 \u001B[34m.git\u001B[m\u001B[m\r\n",
      "drwxr-xr-x@  9 cymruclan  staff     288 Jul  1 14:19 \u001B[34m.idea\u001B[m\u001B[m\r\n",
      "drwxr-xr-x@  6 cymruclan  staff     192 May 10 01:31 \u001B[34m.ipynb_checkpoints\u001B[m\u001B[m\r\n",
      "-rw-r--r--@  1 cymruclan  staff  332025 Jun 30 16:43 6-step-ml-framework.png\r\n",
      "-rwxr-xr-x@  1 cymruclan  staff     296 May 10 01:31 \u001B[31mcar_sales_new.csv\u001B[m\u001B[m\r\n",
      "-rwxr-xr-x@  1 cymruclan  staff     296 May 10 01:31 \u001B[31mcar_sales2.csv\u001B[m\u001B[m\r\n",
      "-rwxr-xr-x@  1 cymruclan  staff     287 May 10 01:31 \u001B[31mcar-sales-missing-data.csv\u001B[m\u001B[m\r\n",
      "-rwxr-xr-x@  1 cymruclan  staff     366 May 10 01:31 \u001B[31mcar-sales-new.csv\u001B[m\u001B[m\r\n",
      "-rwxr-xr-x@  1 cymruclan  staff     366 May 10 01:31 \u001B[31mcar-sales.csv\u001B[m\u001B[m\r\n",
      "-rw-r--r--@  1 cymruclan  staff   35688 Jul  1 14:21 heart_disease_test.ipynb\r\n",
      "-rw-r--r--@  1 cymruclan  staff   11328 May 10 01:31 heart-disease 2.csv\r\n",
      "-rw-r--r--@  1 cymruclan  staff   11328 May 10 01:31 heart-disease.csv\r\n",
      "-rw-r--r--@  1 cymruclan  staff   45033 May 10 01:38 jupyter_test.ipynb\r\n",
      "-rw-r--r--@  1 cymruclan  staff     159 May 10 01:31 Main.py\r\n",
      "-rw-r--r--@  1 cymruclan  staff   28374 May 10 01:31 mysample.ipynb\r\n",
      "-rw-r--r--@  1 cymruclan  staff     732 May 10 01:31 num_wheels_road_safety.csv\r\n",
      "-rw-r--r--@  1 cymruclan  staff   11316 May 10 01:40 NumPy_Exercises.ipynb\r\n",
      "-rw-r--r--@  1 cymruclan  staff   44270 May 10 01:31 TroysJupyterNotebook.ipynb\r\n",
      "-rw-r--r--@  1 cymruclan  staff   10845 May 10 01:31 Untitled.ipynb\r\n",
      "-rw-r--r--@  1 cymruclan  staff   62170 May 10 01:31 ViewingAndSelectingDataWithPandas.ipynb\r\n"
     ]
    }
   ],
   "execution_count": 18
  },
  {
   "metadata": {},
   "cell_type": "code",
   "outputs": [],
   "execution_count": null,
   "source": "",
   "id": "1138215a28154c66"
  }
 ],
 "metadata": {
  "kernelspec": {
   "display_name": "Python 3 (ipykernel)",
   "language": "python",
   "name": "python3"
  },
  "language_info": {
   "codemirror_mode": {
    "name": "ipython",
    "version": 3
   },
   "file_extension": ".py",
   "mimetype": "text/x-python",
   "name": "python",
   "nbconvert_exporter": "python",
   "pygments_lexer": "ipython3",
   "version": "3.13.5"
  }
 },
 "nbformat": 4,
 "nbformat_minor": 5
}
