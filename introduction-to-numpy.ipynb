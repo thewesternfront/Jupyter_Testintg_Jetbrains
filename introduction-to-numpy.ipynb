{
 "cells": [
  {
   "cell_type": "code",
   "id": "befd2d4c-270f-4452-be9b-3e5d722f6fb3",
   "metadata": {
    "ExecuteTime": {
     "end_time": "2025-07-19T23:11:45.427168Z",
     "start_time": "2025-07-19T23:11:45.422293Z"
    }
   },
   "source": [
    "import numpy as np\n",
    "from numpy import dtype"
   ],
   "outputs": [],
   "execution_count": 28
  },
  {
   "cell_type": "markdown",
   "id": "a1f7551a-ee77-471e-890c-daf9504c9d1c",
   "metadata": {},
   "source": [
    "## Data Types and Attributes"
   ]
  },
  {
   "metadata": {
    "ExecuteTime": {
     "end_time": "2025-07-19T23:11:45.465975Z",
     "start_time": "2025-07-19T23:11:45.459990Z"
    }
   },
   "cell_type": "code",
   "source": [
    "a1 = np.array([1, 2, 3])\n",
    "type(a1)"
   ],
   "id": "d8b0e988-0ef5-456b-9afb-6277062b36f9",
   "outputs": [
    {
     "data": {
      "text/plain": [
       "numpy.ndarray"
      ]
     },
     "execution_count": 29,
     "metadata": {},
     "output_type": "execute_result"
    }
   ],
   "execution_count": 29
  },
  {
   "metadata": {},
   "cell_type": "markdown",
   "source": "![](IMG_3155.jpg)",
   "id": "87d5c7288cb54dc7"
  },
  {
   "cell_type": "code",
   "id": "cfd66601-6ae3-4b52-93e8-9d77d027e2fd",
   "metadata": {
    "ExecuteTime": {
     "end_time": "2025-07-19T23:11:45.512602Z",
     "start_time": "2025-07-19T23:11:45.507224Z"
    }
   },
   "source": [
    "# 2x3\n",
    "a2 = np.array([[1, 2.0, 3.0],\n",
    "       [4, 5, 6.5]])\n",
    "\n",
    "# 3x3x2 n-dimensional array?\n",
    "a3 = np.array([[[1, 2, 3],\n",
    "        [4, 5, 6],\n",
    "        [7, 8, 9]],\n",
    "       [[10, 11, 12],\n",
    "        [13, 14, 15],\n",
    "        [16, 17, 18]]])"
   ],
   "outputs": [],
   "execution_count": 30
  },
  {
   "metadata": {
    "ExecuteTime": {
     "end_time": "2025-07-19T23:11:45.567052Z",
     "start_time": "2025-07-19T23:11:45.540740Z"
    }
   },
   "cell_type": "code",
   "source": "a2",
   "id": "749a9ededb8b162d",
   "outputs": [
    {
     "data": {
      "text/plain": [
       "array([[1. , 2. , 3. ],\n",
       "       [4. , 5. , 6.5]])"
      ]
     },
     "execution_count": 31,
     "metadata": {},
     "output_type": "execute_result"
    }
   ],
   "execution_count": 31
  },
  {
   "metadata": {
    "ExecuteTime": {
     "end_time": "2025-07-19T23:11:45.591485Z",
     "start_time": "2025-07-19T23:11:45.586097Z"
    }
   },
   "cell_type": "code",
   "source": "a3",
   "id": "12074c463fc5b5a3",
   "outputs": [
    {
     "data": {
      "text/plain": [
       "array([[[ 1,  2,  3],\n",
       "        [ 4,  5,  6],\n",
       "        [ 7,  8,  9]],\n",
       "\n",
       "       [[10, 11, 12],\n",
       "        [13, 14, 15],\n",
       "        [16, 17, 18]]])"
      ]
     },
     "execution_count": 32,
     "metadata": {},
     "output_type": "execute_result"
    }
   ],
   "execution_count": 32
  },
  {
   "metadata": {
    "ExecuteTime": {
     "end_time": "2025-07-19T23:11:47.351396Z",
     "start_time": "2025-07-19T23:11:47.338273Z"
    }
   },
   "cell_type": "code",
   "source": "a1.shape",
   "id": "cd35a1729ecbcb01",
   "outputs": [
    {
     "data": {
      "text/plain": [
       "(3,)"
      ]
     },
     "execution_count": 33,
     "metadata": {},
     "output_type": "execute_result"
    }
   ],
   "execution_count": 33
  },
  {
   "metadata": {
    "ExecuteTime": {
     "end_time": "2025-07-19T23:11:47.445484Z",
     "start_time": "2025-07-19T23:11:47.438417Z"
    }
   },
   "cell_type": "code",
   "source": "a2.shape",
   "id": "ef81f094a6a829b6",
   "outputs": [
    {
     "data": {
      "text/plain": [
       "(2, 3)"
      ]
     },
     "execution_count": 34,
     "metadata": {},
     "output_type": "execute_result"
    }
   ],
   "execution_count": 34
  },
  {
   "metadata": {
    "ExecuteTime": {
     "end_time": "2025-07-19T23:11:47.493388Z",
     "start_time": "2025-07-19T23:11:47.486633Z"
    }
   },
   "cell_type": "code",
   "source": "a3.shape",
   "id": "464249299b8975a2",
   "outputs": [
    {
     "data": {
      "text/plain": [
       "(2, 3, 3)"
      ]
     },
     "execution_count": 35,
     "metadata": {},
     "output_type": "execute_result"
    }
   ],
   "execution_count": 35
  },
  {
   "metadata": {
    "ExecuteTime": {
     "end_time": "2025-07-19T23:14:38.937133Z",
     "start_time": "2025-07-19T23:14:38.930821Z"
    }
   },
   "cell_type": "code",
   "source": [
    "# show the dimensions of hte n-dim arrays\n",
    "a1.ndim, a2.ndim, a3.ndim"
   ],
   "id": "b02fd051350b0e09",
   "outputs": [
    {
     "data": {
      "text/plain": [
       "(1, 2, 3)"
      ]
     },
     "execution_count": 36,
     "metadata": {},
     "output_type": "execute_result"
    }
   ],
   "execution_count": 36
  },
  {
   "metadata": {
    "ExecuteTime": {
     "end_time": "2025-07-19T23:16:40.801868Z",
     "start_time": "2025-07-19T23:16:40.796626Z"
    }
   },
   "cell_type": "code",
   "source": [
    "# Look at the data types dtype\n",
    "a1.dtype, a2.dtype, a3.dtype"
   ],
   "id": "da8007bcbcafb19b",
   "outputs": [
    {
     "data": {
      "text/plain": [
       "(dtype('int32'), dtype('float64'), dtype('int32'))"
      ]
     },
     "execution_count": 37,
     "metadata": {},
     "output_type": "execute_result"
    }
   ],
   "execution_count": 37
  },
  {
   "metadata": {
    "ExecuteTime": {
     "end_time": "2025-07-19T23:18:02.497585Z",
     "start_time": "2025-07-19T23:18:02.483328Z"
    }
   },
   "cell_type": "code",
   "source": "print(a2[1][1])",
   "id": "e52407dbe2eb78f4",
   "outputs": [
    {
     "name": "stdout",
     "output_type": "stream",
     "text": [
      "5.0\n"
     ]
    }
   ],
   "execution_count": 38
  },
  {
   "metadata": {
    "ExecuteTime": {
     "end_time": "2025-07-19T23:19:26.273391Z",
     "start_time": "2025-07-19T23:19:26.254468Z"
    }
   },
   "cell_type": "code",
   "source": [
    "# Show Sizes (number of elements in each n-dim array)\n",
    "a1.size, a2.size, a3.size"
   ],
   "id": "e5074f41b8cc5b7",
   "outputs": [
    {
     "data": {
      "text/plain": [
       "(3, 6, 18)"
      ]
     },
     "execution_count": 39,
     "metadata": {},
     "output_type": "execute_result"
    }
   ],
   "execution_count": 39
  },
  {
   "metadata": {
    "ExecuteTime": {
     "end_time": "2025-07-19T23:20:47.483787Z",
     "start_time": "2025-07-19T23:20:47.478232Z"
    }
   },
   "cell_type": "code",
   "source": "type(a1), type(a2), type(a3)",
   "id": "ac83e8c3e08338d9",
   "outputs": [
    {
     "data": {
      "text/plain": [
       "(numpy.ndarray, numpy.ndarray, numpy.ndarray)"
      ]
     },
     "execution_count": 40,
     "metadata": {},
     "output_type": "execute_result"
    }
   ],
   "execution_count": 40
  },
  {
   "metadata": {},
   "cell_type": "markdown",
   "source": "## Create a Data Frame (pandas) from a Numpy Array (numpy)",
   "id": "daec920fd550c8f1"
  },
  {
   "metadata": {
    "ExecuteTime": {
     "end_time": "2025-07-19T23:29:50.021581Z",
     "start_time": "2025-07-19T23:29:50.016130Z"
    }
   },
   "cell_type": "code",
   "source": [
    "import pandas as pd\n",
    "df = pd.DataFrame(a2)"
   ],
   "id": "610518fdf3f71f56",
   "outputs": [],
   "execution_count": 47
  },
  {
   "metadata": {
    "ExecuteTime": {
     "end_time": "2025-07-19T23:29:50.479291Z",
     "start_time": "2025-07-19T23:29:50.462969Z"
    }
   },
   "cell_type": "code",
   "source": "df",
   "id": "7dfdaa3ed1d3f708",
   "outputs": [
    {
     "data": {
      "text/plain": [
       "        0       1       2\n",
       "0 1.00000 2.00000 3.00000\n",
       "1 4.00000 5.00000 6.50000"
      ],
      "text/html": [
       "<div>\n",
       "<style scoped>\n",
       "    .dataframe tbody tr th:only-of-type {\n",
       "        vertical-align: middle;\n",
       "    }\n",
       "\n",
       "    .dataframe tbody tr th {\n",
       "        vertical-align: top;\n",
       "    }\n",
       "\n",
       "    .dataframe thead th {\n",
       "        text-align: right;\n",
       "    }\n",
       "</style>\n",
       "<table border=\"1\" class=\"dataframe\">\n",
       "  <thead>\n",
       "    <tr style=\"text-align: right;\">\n",
       "      <th></th>\n",
       "      <th>0</th>\n",
       "      <th>1</th>\n",
       "      <th>2</th>\n",
       "    </tr>\n",
       "  </thead>\n",
       "  <tbody>\n",
       "    <tr>\n",
       "      <th>0</th>\n",
       "      <td>1.00000</td>\n",
       "      <td>2.00000</td>\n",
       "      <td>3.00000</td>\n",
       "    </tr>\n",
       "    <tr>\n",
       "      <th>1</th>\n",
       "      <td>4.00000</td>\n",
       "      <td>5.00000</td>\n",
       "      <td>6.50000</td>\n",
       "    </tr>\n",
       "  </tbody>\n",
       "</table>\n",
       "</div>"
      ]
     },
     "execution_count": 48,
     "metadata": {},
     "output_type": "execute_result"
    }
   ],
   "execution_count": 48
  },
  {
   "metadata": {
    "ExecuteTime": {
     "end_time": "2025-07-19T23:34:56.099421Z",
     "start_time": "2025-07-19T23:34:56.083677Z"
    }
   },
   "cell_type": "code",
   "source": "df[2][1]",
   "id": "1d22360ad4644488",
   "outputs": [
    {
     "data": {
      "text/plain": [
       "6.5"
      ]
     },
     "execution_count": 51,
     "metadata": {},
     "output_type": "execute_result"
    }
   ],
   "execution_count": 51
  },
  {
   "metadata": {},
   "cell_type": "markdown",
   "source": "## Machine Learning is = finding patterns in Numpy Arrays",
   "id": "c7d1e9da2ae84384"
  },
  {
   "metadata": {},
   "cell_type": "markdown",
   "source": "## Creating Arrays",
   "id": "8d282187f3aab483"
  },
  {
   "metadata": {
    "ExecuteTime": {
     "end_time": "2025-07-22T21:22:49.481973Z",
     "start_time": "2025-07-22T21:22:49.475860Z"
    }
   },
   "cell_type": "code",
   "source": [
    "import numpy as np\n",
    "sample_array = np.array([1, 2, 3])\n",
    "print(\"the type is: \")\n",
    "type(sample_array)"
   ],
   "id": "18d0b7914d7e1442",
   "outputs": [
    {
     "name": "stdout",
     "output_type": "stream",
     "text": [
      "the type is: \n"
     ]
    },
    {
     "data": {
      "text/plain": [
       "numpy.ndarray"
      ]
     },
     "execution_count": 5,
     "metadata": {},
     "output_type": "execute_result"
    }
   ],
   "execution_count": 5
  },
  {
   "metadata": {
    "ExecuteTime": {
     "end_time": "2025-07-22T21:23:05.823431Z",
     "start_time": "2025-07-22T21:23:05.817873Z"
    }
   },
   "cell_type": "code",
   "source": [
    "print(\"the data type is: \")\n",
    "sample_array.dtype"
   ],
   "id": "ffbd07cf6d8e74bb",
   "outputs": [
    {
     "name": "stdout",
     "output_type": "stream",
     "text": [
      "the data type is: \n"
     ]
    },
    {
     "data": {
      "text/plain": [
       "dtype('int32')"
      ]
     },
     "execution_count": 6,
     "metadata": {},
     "output_type": "execute_result"
    }
   ],
   "execution_count": 6
  },
  {
   "metadata": {
    "ExecuteTime": {
     "end_time": "2025-07-22T21:26:27.204030Z",
     "start_time": "2025-07-22T21:26:27.199174Z"
    }
   },
   "cell_type": "code",
   "source": [
    "# 4x4 array filled with ones\n",
    "ashape = (4, 4)\n",
    "ones = np.ones(ashape)\n",
    "ones"
   ],
   "id": "98550f15c358f64c",
   "outputs": [
    {
     "data": {
      "text/plain": [
       "array([[1., 1., 1., 1.],\n",
       "       [1., 1., 1., 1.],\n",
       "       [1., 1., 1., 1.],\n",
       "       [1., 1., 1., 1.]])"
      ]
     },
     "execution_count": 9,
     "metadata": {},
     "output_type": "execute_result"
    }
   ],
   "execution_count": 9
  },
  {
   "metadata": {
    "ExecuteTime": {
     "end_time": "2025-07-22T21:27:08.366334Z",
     "start_time": "2025-07-22T21:27:08.360733Z"
    }
   },
   "cell_type": "code",
   "source": "ones.dtype",
   "id": "c078a25b9e0ebb9b",
   "outputs": [
    {
     "data": {
      "text/plain": [
       "dtype('float64')"
      ]
     },
     "execution_count": 10,
     "metadata": {},
     "output_type": "execute_result"
    }
   ],
   "execution_count": 10
  },
  {
   "metadata": {
    "ExecuteTime": {
     "end_time": "2025-07-22T21:27:30.562204Z",
     "start_time": "2025-07-22T21:27:30.557279Z"
    }
   },
   "cell_type": "code",
   "source": "type(ones)",
   "id": "6c22e5de7665d85f",
   "outputs": [
    {
     "data": {
      "text/plain": [
       "numpy.ndarray"
      ]
     },
     "execution_count": 11,
     "metadata": {},
     "output_type": "execute_result"
    }
   ],
   "execution_count": 11
  },
  {
   "metadata": {
    "ExecuteTime": {
     "end_time": "2025-07-22T21:28:37.097410Z",
     "start_time": "2025-07-22T21:28:37.092765Z"
    }
   },
   "cell_type": "code",
   "source": [
    "# 4x4 array filled with zeros\n",
    "zeros = np.zeros(ashape)\n",
    "zeros"
   ],
   "id": "35ac8c5a8391e03",
   "outputs": [
    {
     "data": {
      "text/plain": [
       "array([[0., 0., 0., 0.],\n",
       "       [0., 0., 0., 0.],\n",
       "       [0., 0., 0., 0.],\n",
       "       [0., 0., 0., 0.]])"
      ]
     },
     "execution_count": 12,
     "metadata": {},
     "output_type": "execute_result"
    }
   ],
   "execution_count": 12
  },
  {
   "metadata": {
    "ExecuteTime": {
     "end_time": "2025-07-22T21:33:50.433660Z",
     "start_time": "2025-07-22T21:33:50.427227Z"
    }
   },
   "cell_type": "code",
   "source": [
    "# Create array from 0 to 100 - noninclusive - and increment value 5 steps...\n",
    "range_array = np.arange(0, 100, 5, dtype=int)\n",
    "range_array"
   ],
   "id": "6933825aea4fcd2",
   "outputs": [
    {
     "data": {
      "text/plain": [
       "array([ 0,  5, 10, 15, 20, 25, 30, 35, 40, 45, 50, 55, 60, 65, 70, 75, 80,\n",
       "       85, 90, 95])"
      ]
     },
     "execution_count": 13,
     "metadata": {},
     "output_type": "execute_result"
    }
   ],
   "execution_count": 13
  },
  {
   "metadata": {
    "ExecuteTime": {
     "end_time": "2025-07-22T21:38:41.629086Z",
     "start_time": "2025-07-22T21:38:41.623935Z"
    }
   },
   "cell_type": "code",
   "source": [
    "# Random Array with value ranging from 0 to 10 and make it 2-D per (ashape = (4, 4))\n",
    "random_array = np.random.randint(0, 10, size=ashape)\n",
    "random_array"
   ],
   "id": "56d035cd411bb5a",
   "outputs": [
    {
     "data": {
      "text/plain": [
       "array([[1, 0, 2, 3],\n",
       "       [5, 4, 2, 1],\n",
       "       [8, 4, 3, 3],\n",
       "       [3, 8, 1, 1]])"
      ]
     },
     "execution_count": 16,
     "metadata": {},
     "output_type": "execute_result"
    }
   ],
   "execution_count": 16
  },
  {
   "metadata": {
    "ExecuteTime": {
     "end_time": "2025-07-22T21:42:21.809449Z",
     "start_time": "2025-07-22T21:42:21.804175Z"
    }
   },
   "cell_type": "code",
   "source": [
    "# show size nd shape of hte ransom array\n",
    "random_array.dtype"
   ],
   "id": "54803d2c8e3d7792",
   "outputs": [
    {
     "data": {
      "text/plain": [
       "dtype('int32')"
      ]
     },
     "execution_count": 17,
     "metadata": {},
     "output_type": "execute_result"
    }
   ],
   "execution_count": 17
  },
  {
   "metadata": {
    "ExecuteTime": {
     "end_time": "2025-07-22T21:42:27.878724Z",
     "start_time": "2025-07-22T21:42:27.874233Z"
    }
   },
   "cell_type": "code",
   "source": "random_array.shape",
   "id": "8fa29e2b3acef325",
   "outputs": [
    {
     "data": {
      "text/plain": [
       "(4, 4)"
      ]
     },
     "execution_count": 18,
     "metadata": {},
     "output_type": "execute_result"
    }
   ],
   "execution_count": 18
  },
  {
   "metadata": {
    "ExecuteTime": {
     "end_time": "2025-07-22T21:42:46.063603Z",
     "start_time": "2025-07-22T21:42:46.059110Z"
    }
   },
   "cell_type": "code",
   "source": "random_array.size",
   "id": "7a0fc7b8d102e3ea",
   "outputs": [
    {
     "data": {
      "text/plain": [
       "16"
      ]
     },
     "execution_count": 19,
     "metadata": {},
     "output_type": "execute_result"
    }
   ],
   "execution_count": 19
  },
  {
   "metadata": {
    "ExecuteTime": {
     "end_time": "2025-07-22T21:57:04.812388Z",
     "start_time": "2025-07-22T21:57:04.807193Z"
    }
   },
   "cell_type": "code",
   "source": [
    "# random.random will return random floats between 0 and 1 ... I can multiply them all by 100\n",
    "randarray = np.random.random((8, 8))\n",
    "randarray"
   ],
   "id": "7fffe2ceda95410b",
   "outputs": [
    {
     "data": {
      "text/plain": [
       "array([[0.64710436, 0.43969057, 0.15403073, 0.20764544, 0.82805147,\n",
       "        0.96954247, 0.53888481, 0.02339202],\n",
       "       [0.23113225, 0.51241217, 0.70277337, 0.51367115, 0.9109208 ,\n",
       "        0.32206209, 0.41735122, 0.86224433],\n",
       "       [0.9557684 , 0.87537874, 0.69147708, 0.69541492, 0.04351792,\n",
       "        0.38340275, 0.19220591, 0.54700331],\n",
       "       [0.33825021, 0.52136244, 0.30706777, 0.15449439, 0.19268935,\n",
       "        0.63733707, 0.71555142, 0.9065946 ],\n",
       "       [0.84700813, 0.25155885, 0.71782462, 0.73437085, 0.07514032,\n",
       "        0.55997518, 0.34313174, 0.83797591],\n",
       "       [0.55236187, 0.96648372, 0.05631159, 0.39158796, 0.88663604,\n",
       "        0.66873878, 0.46412475, 0.76278919],\n",
       "       [0.40040561, 0.51347932, 0.89135851, 0.43064746, 0.14074463,\n",
       "        0.90934834, 0.03977139, 0.00178086],\n",
       "       [0.72576293, 0.25410853, 0.26182423, 0.68837722, 0.3078024 ,\n",
       "        0.07005148, 0.96867168, 0.70638351]])"
      ]
     },
     "execution_count": 20,
     "metadata": {},
     "output_type": "execute_result"
    }
   ],
   "execution_count": 20
  },
  {
   "metadata": {
    "ExecuteTime": {
     "end_time": "2025-07-22T21:58:24.247721Z",
     "start_time": "2025-07-22T21:58:24.242472Z"
    }
   },
   "cell_type": "code",
   "source": [
    "# Quick way to multiply ALL elements in this 2-D array by a constant (100)\n",
    "randarray100 = randarray * 100\n",
    "randarray100"
   ],
   "id": "61894e1e9c486f00",
   "outputs": [
    {
     "data": {
      "text/plain": [
       "array([[64.71043557, 43.96905678, 15.40307258, 20.76454358, 82.80514739,\n",
       "        96.95424699, 53.88848131,  2.33920236],\n",
       "       [23.11322545, 51.24121721, 70.27733718, 51.36711466, 91.09208038,\n",
       "        32.20620912, 41.73512163, 86.22443256],\n",
       "       [95.57684046, 87.53787367, 69.1477078 , 69.54149177,  4.3517923 ,\n",
       "        38.34027462, 19.22059077, 54.70033095],\n",
       "       [33.82502082, 52.13624427, 30.70677668, 15.44943914, 19.26893543,\n",
       "        63.73370694, 71.55514196, 90.65945968],\n",
       "       [84.7008128 , 25.15588547, 71.78246243, 73.43708511,  7.51403211,\n",
       "        55.99751814, 34.31317409, 83.79759073],\n",
       "       [55.23618676, 96.64837185,  5.63115859, 39.15879601, 88.66360351,\n",
       "        66.8738776 , 46.41247482, 76.27891902],\n",
       "       [40.04056055, 51.34793245, 89.13585066, 43.06474594, 14.07446318,\n",
       "        90.93483386,  3.97713853,  0.17808591],\n",
       "       [72.57629327, 25.41085327, 26.18242328, 68.8377221 , 30.78024028,\n",
       "         7.00514809, 96.86716773, 70.63835119]])"
      ]
     },
     "execution_count": 21,
     "metadata": {},
     "output_type": "execute_result"
    }
   ],
   "execution_count": 21
  },
  {
   "metadata": {},
   "cell_type": "markdown",
   "source": [
    "## Pseudo random numbers are generated ... look into using a seed\n",
    "seed(seed=None)\n",
    "\n",
    "\n",
    "Reseed a legacy MT19937 BitGenerator\n",
    "This is a convenience, legacy function.\n",
    "The best practice is to not reseed a BitGenerator, rather to recreate a new one. This method is here for legacy reasons. This example demonstrates best practice.\n",
    ">>> from numpy.random import MT19937\n",
    ">>> from numpy.random import RandomState, SeedSequence\n",
    ">>> rs = RandomState(MT19937(SeedSequence(123456789)))\n",
    "### Later, you want to restart the stream\n",
    ">>> rs = RandomState(MT19937(SeedSequence(987654321)))"
   ],
   "id": "53db77e09e780c3d"
  },
  {
   "metadata": {
    "ExecuteTime": {
     "end_time": "2025-07-22T22:08:09.142683Z",
     "start_time": "2025-07-22T22:08:09.137696Z"
    }
   },
   "cell_type": "code",
   "source": [
    "np.random.seed()\n",
    "randarray100"
   ],
   "id": "119e2f3e222fee75",
   "outputs": [
    {
     "data": {
      "text/plain": [
       "array([[64.71043557, 43.96905678, 15.40307258, 20.76454358, 82.80514739,\n",
       "        96.95424699, 53.88848131,  2.33920236],\n",
       "       [23.11322545, 51.24121721, 70.27733718, 51.36711466, 91.09208038,\n",
       "        32.20620912, 41.73512163, 86.22443256],\n",
       "       [95.57684046, 87.53787367, 69.1477078 , 69.54149177,  4.3517923 ,\n",
       "        38.34027462, 19.22059077, 54.70033095],\n",
       "       [33.82502082, 52.13624427, 30.70677668, 15.44943914, 19.26893543,\n",
       "        63.73370694, 71.55514196, 90.65945968],\n",
       "       [84.7008128 , 25.15588547, 71.78246243, 73.43708511,  7.51403211,\n",
       "        55.99751814, 34.31317409, 83.79759073],\n",
       "       [55.23618676, 96.64837185,  5.63115859, 39.15879601, 88.66360351,\n",
       "        66.8738776 , 46.41247482, 76.27891902],\n",
       "       [40.04056055, 51.34793245, 89.13585066, 43.06474594, 14.07446318,\n",
       "        90.93483386,  3.97713853,  0.17808591],\n",
       "       [72.57629327, 25.41085327, 26.18242328, 68.8377221 , 30.78024028,\n",
       "         7.00514809, 96.86716773, 70.63835119]])"
      ]
     },
     "execution_count": 27,
     "metadata": {},
     "output_type": "execute_result"
    }
   ],
   "execution_count": 27
  },
  {
   "metadata": {},
   "cell_type": "code",
   "outputs": [],
   "execution_count": null,
   "source": "",
   "id": "724282ad8565d907"
  }
 ],
 "metadata": {
  "kernelspec": {
   "display_name": "Python 3 (ipykernel)",
   "language": "python",
   "name": "python3"
  },
  "language_info": {
   "codemirror_mode": {
    "name": "ipython",
    "version": 3
   },
   "file_extension": ".py",
   "mimetype": "text/x-python",
   "name": "python",
   "nbconvert_exporter": "python",
   "pygments_lexer": "ipython3",
   "version": "3.12.2"
  }
 },
 "nbformat": 4,
 "nbformat_minor": 5
}
