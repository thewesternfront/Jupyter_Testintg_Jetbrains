{
 "cells": [
  {
   "cell_type": "code",
   "execution_count": 70,
   "id": "befd2d4c-270f-4452-be9b-3e5d722f6fb3",
   "metadata": {
    "ExecuteTime": {
     "end_time": "2025-07-26T22:07:52.652204Z",
     "start_time": "2025-07-26T22:07:52.646835Z"
    }
   },
   "outputs": [],
   "source": [
    "import numpy as np\n",
    "from macholib.ptypes import sizeof\n",
    "from numpy import dtype"
   ]
  },
  {
   "cell_type": "markdown",
   "id": "a1f7551a-ee77-471e-890c-daf9504c9d1c",
   "metadata": {},
   "source": [
    "## Data Types and Attributes"
   ]
  },
  {
   "cell_type": "code",
   "execution_count": 71,
   "id": "d8b0e988-0ef5-456b-9afb-6277062b36f9",
   "metadata": {
    "ExecuteTime": {
     "end_time": "2025-07-26T22:07:52.685476Z",
     "start_time": "2025-07-26T22:07:52.680297Z"
    }
   },
   "outputs": [
    {
     "data": {
      "text/plain": [
       "numpy.ndarray"
      ]
     },
     "execution_count": 71,
     "metadata": {},
     "output_type": "execute_result"
    }
   ],
   "source": [
    "a1 = np.array([1, 2, 3])\n",
    "type(a1)"
   ]
  },
  {
   "cell_type": "markdown",
   "id": "87d5c7288cb54dc7",
   "metadata": {},
   "source": [
    "![](IMG_3155.jpg)"
   ]
  },
  {
   "cell_type": "code",
   "execution_count": 72,
   "id": "cfd66601-6ae3-4b52-93e8-9d77d027e2fd",
   "metadata": {
    "ExecuteTime": {
     "end_time": "2025-07-26T22:07:52.744268Z",
     "start_time": "2025-07-26T22:07:52.738454Z"
    }
   },
   "outputs": [],
   "source": [
    "# 2x3\n",
    "a2 = np.array([[1, 2.0, 3.0],\n",
    "       [4, 5, 6.5]])\n",
    "\n",
    "# 3x3x2 n-dimensional array?\n",
    "a3 = np.array([[[1, 2, 3],\n",
    "        [4, 5, 6],\n",
    "        [7, 8, 9]],\n",
    "       [[10, 11, 12],\n",
    "        [13, 14, 15],\n",
    "        [16, 17, 18]]])"
   ]
  },
  {
   "cell_type": "code",
   "execution_count": 73,
   "id": "749a9ededb8b162d",
   "metadata": {
    "ExecuteTime": {
     "end_time": "2025-07-26T22:07:52.793554Z",
     "start_time": "2025-07-26T22:07:52.788125Z"
    }
   },
   "outputs": [
    {
     "data": {
      "text/plain": [
       "array([[1. , 2. , 3. ],\n",
       "       [4. , 5. , 6.5]])"
      ]
     },
     "execution_count": 73,
     "metadata": {},
     "output_type": "execute_result"
    }
   ],
   "source": [
    "a2"
   ]
  },
  {
   "cell_type": "code",
   "execution_count": 74,
   "id": "12074c463fc5b5a3",
   "metadata": {
    "ExecuteTime": {
     "end_time": "2025-07-26T22:07:52.914795Z",
     "start_time": "2025-07-26T22:07:52.906502Z"
    }
   },
   "outputs": [
    {
     "data": {
      "text/plain": [
       "array([[[ 1,  2,  3],\n",
       "        [ 4,  5,  6],\n",
       "        [ 7,  8,  9]],\n",
       "\n",
       "       [[10, 11, 12],\n",
       "        [13, 14, 15],\n",
       "        [16, 17, 18]]])"
      ]
     },
     "execution_count": 74,
     "metadata": {},
     "output_type": "execute_result"
    }
   ],
   "source": [
    "a3"
   ]
  },
  {
   "cell_type": "code",
   "execution_count": 75,
   "id": "cd35a1729ecbcb01",
   "metadata": {
    "ExecuteTime": {
     "end_time": "2025-07-26T22:07:53.025609Z",
     "start_time": "2025-07-26T22:07:53.019835Z"
    }
   },
   "outputs": [
    {
     "data": {
      "text/plain": [
       "(3,)"
      ]
     },
     "execution_count": 75,
     "metadata": {},
     "output_type": "execute_result"
    }
   ],
   "source": [
    "a1.shape"
   ]
  },
  {
   "cell_type": "code",
   "execution_count": 76,
   "id": "ef81f094a6a829b6",
   "metadata": {
    "ExecuteTime": {
     "end_time": "2025-07-26T22:07:53.131373Z",
     "start_time": "2025-07-26T22:07:53.125507Z"
    }
   },
   "outputs": [
    {
     "data": {
      "text/plain": [
       "(2, 3)"
      ]
     },
     "execution_count": 76,
     "metadata": {},
     "output_type": "execute_result"
    }
   ],
   "source": [
    "a2.shape"
   ]
  },
  {
   "cell_type": "code",
   "execution_count": 77,
   "id": "464249299b8975a2",
   "metadata": {
    "ExecuteTime": {
     "end_time": "2025-07-26T22:07:53.206727Z",
     "start_time": "2025-07-26T22:07:53.200066Z"
    }
   },
   "outputs": [
    {
     "data": {
      "text/plain": [
       "(2, 3, 3)"
      ]
     },
     "execution_count": 77,
     "metadata": {},
     "output_type": "execute_result"
    }
   ],
   "source": [
    "a3.shape"
   ]
  },
  {
   "cell_type": "code",
   "execution_count": 78,
   "id": "b02fd051350b0e09",
   "metadata": {
    "ExecuteTime": {
     "end_time": "2025-07-26T22:07:53.291581Z",
     "start_time": "2025-07-26T22:07:53.285668Z"
    }
   },
   "outputs": [
    {
     "data": {
      "text/plain": [
       "(1, 2, 3)"
      ]
     },
     "execution_count": 78,
     "metadata": {},
     "output_type": "execute_result"
    }
   ],
   "source": [
    "# show the dimensions of hte n-dim arrays\n",
    "a1.ndim, a2.ndim, a3.ndim"
   ]
  },
  {
   "cell_type": "code",
   "execution_count": 79,
   "id": "da8007bcbcafb19b",
   "metadata": {
    "ExecuteTime": {
     "end_time": "2025-07-26T22:07:53.381892Z",
     "start_time": "2025-07-26T22:07:53.373914Z"
    }
   },
   "outputs": [
    {
     "data": {
      "text/plain": [
       "(dtype('int32'), dtype('float64'), dtype('int32'))"
      ]
     },
     "execution_count": 79,
     "metadata": {},
     "output_type": "execute_result"
    }
   ],
   "source": [
    "# Look at the data types dtype\n",
    "a1.dtype, a2.dtype, a3.dtype"
   ]
  },
  {
   "cell_type": "code",
   "execution_count": 80,
   "id": "e52407dbe2eb78f4",
   "metadata": {
    "ExecuteTime": {
     "end_time": "2025-07-26T22:07:53.496488Z",
     "start_time": "2025-07-26T22:07:53.491639Z"
    }
   },
   "outputs": [
    {
     "name": "stdout",
     "output_type": "stream",
     "text": [
      "5.0\n"
     ]
    }
   ],
   "source": [
    "print(a2[1][1])"
   ]
  },
  {
   "cell_type": "code",
   "execution_count": 81,
   "id": "e5074f41b8cc5b7",
   "metadata": {
    "ExecuteTime": {
     "end_time": "2025-07-26T22:07:53.605652Z",
     "start_time": "2025-07-26T22:07:53.599334Z"
    }
   },
   "outputs": [
    {
     "data": {
      "text/plain": [
       "(3, 6, 18)"
      ]
     },
     "execution_count": 81,
     "metadata": {},
     "output_type": "execute_result"
    }
   ],
   "source": [
    "# Show Sizes (number of elements in each n-dim array)\n",
    "a1.size, a2.size, a3.size"
   ]
  },
  {
   "cell_type": "code",
   "execution_count": 82,
   "id": "ac83e8c3e08338d9",
   "metadata": {
    "ExecuteTime": {
     "end_time": "2025-07-26T22:07:53.695303Z",
     "start_time": "2025-07-26T22:07:53.690316Z"
    }
   },
   "outputs": [
    {
     "data": {
      "text/plain": [
       "(numpy.ndarray, numpy.ndarray, numpy.ndarray)"
      ]
     },
     "execution_count": 82,
     "metadata": {},
     "output_type": "execute_result"
    }
   ],
   "source": [
    "type(a1), type(a2), type(a3)"
   ]
  },
  {
   "cell_type": "markdown",
   "id": "daec920fd550c8f1",
   "metadata": {},
   "source": [
    "## Create a Data Frame (pandas) from a Numpy Array (numpy)"
   ]
  },
  {
   "cell_type": "code",
   "execution_count": 83,
   "id": "610518fdf3f71f56",
   "metadata": {
    "ExecuteTime": {
     "end_time": "2025-07-26T22:07:53.769142Z",
     "start_time": "2025-07-26T22:07:53.765713Z"
    }
   },
   "outputs": [],
   "source": [
    "import pandas as pd\n",
    "df = pd.DataFrame(a2)"
   ]
  },
  {
   "cell_type": "code",
   "execution_count": 84,
   "id": "7dfdaa3ed1d3f708",
   "metadata": {
    "ExecuteTime": {
     "end_time": "2025-07-26T22:07:53.816101Z",
     "start_time": "2025-07-26T22:07:53.808231Z"
    }
   },
   "outputs": [
    {
     "data": {
      "text/html": [
       "<div>\n",
       "<style scoped>\n",
       "    .dataframe tbody tr th:only-of-type {\n",
       "        vertical-align: middle;\n",
       "    }\n",
       "\n",
       "    .dataframe tbody tr th {\n",
       "        vertical-align: top;\n",
       "    }\n",
       "\n",
       "    .dataframe thead th {\n",
       "        text-align: right;\n",
       "    }\n",
       "</style>\n",
       "<table border=\"1\" class=\"dataframe\">\n",
       "  <thead>\n",
       "    <tr style=\"text-align: right;\">\n",
       "      <th></th>\n",
       "      <th>0</th>\n",
       "      <th>1</th>\n",
       "      <th>2</th>\n",
       "    </tr>\n",
       "  </thead>\n",
       "  <tbody>\n",
       "    <tr>\n",
       "      <th>0</th>\n",
       "      <td>1.0</td>\n",
       "      <td>2.0</td>\n",
       "      <td>3.0</td>\n",
       "    </tr>\n",
       "    <tr>\n",
       "      <th>1</th>\n",
       "      <td>4.0</td>\n",
       "      <td>5.0</td>\n",
       "      <td>6.5</td>\n",
       "    </tr>\n",
       "  </tbody>\n",
       "</table>\n",
       "</div>"
      ],
      "text/plain": [
       "     0    1    2\n",
       "0  1.0  2.0  3.0\n",
       "1  4.0  5.0  6.5"
      ]
     },
     "execution_count": 84,
     "metadata": {},
     "output_type": "execute_result"
    }
   ],
   "source": [
    "df"
   ]
  },
  {
   "cell_type": "code",
   "execution_count": 85,
   "id": "1d22360ad4644488",
   "metadata": {
    "ExecuteTime": {
     "end_time": "2025-07-26T22:07:53.901262Z",
     "start_time": "2025-07-26T22:07:53.894723Z"
    }
   },
   "outputs": [
    {
     "data": {
      "text/plain": [
       "6.5"
      ]
     },
     "execution_count": 85,
     "metadata": {},
     "output_type": "execute_result"
    }
   ],
   "source": [
    "df[2][1]"
   ]
  },
  {
   "cell_type": "markdown",
   "id": "c7d1e9da2ae84384",
   "metadata": {},
   "source": [
    "## Machine Learning is = finding patterns in Numpy Arrays"
   ]
  },
  {
   "cell_type": "markdown",
   "id": "8d282187f3aab483",
   "metadata": {},
   "source": [
    "## Creating Arrays"
   ]
  },
  {
   "cell_type": "code",
   "execution_count": 86,
   "id": "18d0b7914d7e1442",
   "metadata": {
    "ExecuteTime": {
     "end_time": "2025-07-26T22:07:54.017050Z",
     "start_time": "2025-07-26T22:07:54.011737Z"
    }
   },
   "outputs": [
    {
     "name": "stdout",
     "output_type": "stream",
     "text": [
      "the type is: \n"
     ]
    },
    {
     "data": {
      "text/plain": [
       "numpy.ndarray"
      ]
     },
     "execution_count": 86,
     "metadata": {},
     "output_type": "execute_result"
    }
   ],
   "source": [
    "import numpy as np\n",
    "sample_array = np.array([1, 2, 3])\n",
    "print(\"the type is: \")\n",
    "type(sample_array)"
   ]
  },
  {
   "cell_type": "code",
   "execution_count": 87,
   "id": "ffbd07cf6d8e74bb",
   "metadata": {
    "ExecuteTime": {
     "end_time": "2025-07-26T22:07:54.098511Z",
     "start_time": "2025-07-26T22:07:54.093392Z"
    }
   },
   "outputs": [
    {
     "name": "stdout",
     "output_type": "stream",
     "text": [
      "the data type is: \n"
     ]
    },
    {
     "data": {
      "text/plain": [
       "dtype('int32')"
      ]
     },
     "execution_count": 87,
     "metadata": {},
     "output_type": "execute_result"
    }
   ],
   "source": [
    "print(\"the data type is: \")\n",
    "sample_array.dtype"
   ]
  },
  {
   "cell_type": "code",
   "execution_count": 88,
   "id": "98550f15c358f64c",
   "metadata": {
    "ExecuteTime": {
     "end_time": "2025-07-26T22:07:54.164776Z",
     "start_time": "2025-07-26T22:07:54.159378Z"
    }
   },
   "outputs": [
    {
     "data": {
      "text/plain": [
       "array([[1., 1., 1., 1.],\n",
       "       [1., 1., 1., 1.],\n",
       "       [1., 1., 1., 1.],\n",
       "       [1., 1., 1., 1.]])"
      ]
     },
     "execution_count": 88,
     "metadata": {},
     "output_type": "execute_result"
    }
   ],
   "source": [
    "# 4x4 array filled with ones\n",
    "ashape = (4, 4)\n",
    "ones = np.ones(ashape)\n",
    "ones"
   ]
  },
  {
   "cell_type": "code",
   "execution_count": 89,
   "id": "c078a25b9e0ebb9b",
   "metadata": {
    "ExecuteTime": {
     "end_time": "2025-07-26T22:07:54.241142Z",
     "start_time": "2025-07-26T22:07:54.235201Z"
    }
   },
   "outputs": [
    {
     "data": {
      "text/plain": [
       "dtype('float64')"
      ]
     },
     "execution_count": 89,
     "metadata": {},
     "output_type": "execute_result"
    }
   ],
   "source": [
    "ones.dtype"
   ]
  },
  {
   "cell_type": "code",
   "execution_count": 90,
   "id": "6c22e5de7665d85f",
   "metadata": {
    "ExecuteTime": {
     "end_time": "2025-07-26T22:07:54.498077Z",
     "start_time": "2025-07-26T22:07:54.491793Z"
    }
   },
   "outputs": [
    {
     "data": {
      "text/plain": [
       "numpy.ndarray"
      ]
     },
     "execution_count": 90,
     "metadata": {},
     "output_type": "execute_result"
    }
   ],
   "source": [
    "type(ones)"
   ]
  },
  {
   "cell_type": "code",
   "execution_count": 91,
   "id": "35ac8c5a8391e03",
   "metadata": {
    "ExecuteTime": {
     "end_time": "2025-07-26T22:07:54.543924Z",
     "start_time": "2025-07-26T22:07:54.538214Z"
    }
   },
   "outputs": [
    {
     "data": {
      "text/plain": [
       "array([[0., 0., 0., 0.],\n",
       "       [0., 0., 0., 0.],\n",
       "       [0., 0., 0., 0.],\n",
       "       [0., 0., 0., 0.]])"
      ]
     },
     "execution_count": 91,
     "metadata": {},
     "output_type": "execute_result"
    }
   ],
   "source": [
    "# 4x4 array filled with zeros\n",
    "zeros = np.zeros(ashape)\n",
    "zeros"
   ]
  },
  {
   "cell_type": "code",
   "execution_count": 92,
   "id": "6933825aea4fcd2",
   "metadata": {
    "ExecuteTime": {
     "end_time": "2025-07-26T22:07:54.628197Z",
     "start_time": "2025-07-26T22:07:54.621961Z"
    }
   },
   "outputs": [
    {
     "data": {
      "text/plain": [
       "array([ 0,  5, 10, 15, 20, 25, 30, 35, 40, 45, 50, 55, 60, 65, 70, 75, 80,\n",
       "       85, 90, 95])"
      ]
     },
     "execution_count": 92,
     "metadata": {},
     "output_type": "execute_result"
    }
   ],
   "source": [
    "# Create array from 0 to 100 - noninclusive - and increment value 5 steps...\n",
    "range_array = np.arange(0, 100, 5, dtype=int)\n",
    "range_array"
   ]
  },
  {
   "cell_type": "code",
   "execution_count": 93,
   "id": "56d035cd411bb5a",
   "metadata": {
    "ExecuteTime": {
     "end_time": "2025-07-26T22:07:54.706415Z",
     "start_time": "2025-07-26T22:07:54.698497Z"
    }
   },
   "outputs": [
    {
     "data": {
      "text/plain": [
       "array([[9, 5, 7, 5],\n",
       "       [2, 6, 9, 3],\n",
       "       [3, 9, 0, 6],\n",
       "       [2, 3, 1, 8]])"
      ]
     },
     "execution_count": 93,
     "metadata": {},
     "output_type": "execute_result"
    }
   ],
   "source": [
    "# Random Array with value ranging from 0 to 10 and make it 2-D per (ashape = (4, 4))\n",
    "random_array = np.random.randint(0, 10, size=ashape)\n",
    "random_array"
   ]
  },
  {
   "cell_type": "code",
   "execution_count": 94,
   "id": "54803d2c8e3d7792",
   "metadata": {
    "ExecuteTime": {
     "end_time": "2025-07-26T22:07:54.828697Z",
     "start_time": "2025-07-26T22:07:54.823340Z"
    }
   },
   "outputs": [
    {
     "data": {
      "text/plain": [
       "dtype('int32')"
      ]
     },
     "execution_count": 94,
     "metadata": {},
     "output_type": "execute_result"
    }
   ],
   "source": [
    "# show size nd shape of hte ransom array\n",
    "random_array.dtype"
   ]
  },
  {
   "cell_type": "code",
   "execution_count": 95,
   "id": "8fa29e2b3acef325",
   "metadata": {
    "ExecuteTime": {
     "end_time": "2025-07-26T22:07:54.938715Z",
     "start_time": "2025-07-26T22:07:54.933916Z"
    }
   },
   "outputs": [
    {
     "data": {
      "text/plain": [
       "(4, 4)"
      ]
     },
     "execution_count": 95,
     "metadata": {},
     "output_type": "execute_result"
    }
   ],
   "source": [
    "random_array.shape"
   ]
  },
  {
   "cell_type": "code",
   "execution_count": 96,
   "id": "7a0fc7b8d102e3ea",
   "metadata": {
    "ExecuteTime": {
     "end_time": "2025-07-26T22:07:55.046830Z",
     "start_time": "2025-07-26T22:07:55.041332Z"
    }
   },
   "outputs": [
    {
     "data": {
      "text/plain": [
       "16"
      ]
     },
     "execution_count": 96,
     "metadata": {},
     "output_type": "execute_result"
    }
   ],
   "source": [
    "random_array.size"
   ]
  },
  {
   "cell_type": "code",
   "execution_count": 97,
   "id": "7fffe2ceda95410b",
   "metadata": {
    "ExecuteTime": {
     "end_time": "2025-07-26T22:07:55.114758Z",
     "start_time": "2025-07-26T22:07:55.105015Z"
    }
   },
   "outputs": [
    {
     "data": {
      "text/plain": [
       "array([[0.49794007, 0.67941112, 0.65078591, 0.26879524, 0.06732467,\n",
       "        0.77144514, 0.48098413, 0.32920641],\n",
       "       [0.51064106, 0.26362883, 0.31051155, 0.62685344, 0.55744981,\n",
       "        0.31857956, 0.39484322, 0.25797459],\n",
       "       [0.58224112, 0.16162871, 0.59813382, 0.82582358, 0.15639172,\n",
       "        0.73430052, 0.40864343, 0.7786879 ],\n",
       "       [0.80397057, 0.78607144, 0.59228702, 0.6644892 , 0.64656729,\n",
       "        0.42563648, 0.51356833, 0.50125784],\n",
       "       [0.03708381, 0.7081161 , 0.6204306 , 0.77780853, 0.45940947,\n",
       "        0.37980555, 0.2918922 , 0.55722886],\n",
       "       [0.0841636 , 0.63128167, 0.94457049, 0.89123753, 0.87858258,\n",
       "        0.34475163, 0.70310053, 0.5273376 ],\n",
       "       [0.65931696, 0.26829063, 0.60776708, 0.04815737, 0.69550064,\n",
       "        0.29927188, 0.16563555, 0.33225194],\n",
       "       [0.16543775, 0.91463798, 0.28402501, 0.10760726, 0.11700177,\n",
       "        0.7555236 , 0.83889446, 0.03553703]])"
      ]
     },
     "execution_count": 97,
     "metadata": {},
     "output_type": "execute_result"
    }
   ],
   "source": [
    "# random.random will return random floats between 0 and 1 ... I can multiply them all by 100\n",
    "randarray = np.random.random((8, 8))\n",
    "randarray"
   ]
  },
  {
   "cell_type": "code",
   "execution_count": 98,
   "id": "61894e1e9c486f00",
   "metadata": {
    "ExecuteTime": {
     "end_time": "2025-07-26T22:07:55.192322Z",
     "start_time": "2025-07-26T22:07:55.184916Z"
    }
   },
   "outputs": [
    {
     "data": {
      "text/plain": [
       "array([[49.79400733, 67.94111176, 65.07859141, 26.87952387,  6.73246669,\n",
       "        77.14451384, 48.09841323, 32.92064077],\n",
       "       [51.06410562, 26.36288287, 31.051155  , 62.68534377, 55.74498106,\n",
       "        31.85795596, 39.48432209, 25.79745859],\n",
       "       [58.22411233, 16.16287104, 59.81338198, 82.58235773, 15.63917185,\n",
       "        73.43005193, 40.86434321, 77.86879044],\n",
       "       [80.39705676, 78.60714435, 59.22870187, 66.44892028, 64.65672868,\n",
       "        42.5636479 , 51.35683338, 50.12578437],\n",
       "       [ 3.70838109, 70.81160952, 62.04306002, 77.78085346, 45.94094656,\n",
       "        37.98055547, 29.18922036, 55.72288625],\n",
       "       [ 8.41636017, 63.12816691, 94.45704879, 89.12375349, 87.85825798,\n",
       "        34.4751627 , 70.3100532 , 52.73376047],\n",
       "       [65.93169556, 26.82906337, 60.77670794,  4.815737  , 69.55006394,\n",
       "        29.92718777, 16.56355549, 33.22519401],\n",
       "       [16.54377455, 91.4637981 , 28.40250059, 10.76072648, 11.70017702,\n",
       "        75.55235988, 83.88944582,  3.55370267]])"
      ]
     },
     "execution_count": 98,
     "metadata": {},
     "output_type": "execute_result"
    }
   ],
   "source": [
    "# Quick way to multiply ALL elements in this 2-D array by a constant (100)\n",
    "randarray100 = randarray * 100\n",
    "randarray100"
   ]
  },
  {
   "cell_type": "markdown",
   "id": "53db77e09e780c3d",
   "metadata": {},
   "source": [
    "## Pseudo random numbers are generated ... look into using a seed\n",
    "seed(seed=None)\n",
    "\n",
    "\n",
    "Reseed a legacy MT19937 BitGenerator\n",
    "This is a convenience, legacy function.\n",
    "The best practice is to not reseed a BitGenerator, rather to recreate a new one. This method is here for legacy reasons. This example demonstrates best practice.\n",
    ">>> from numpy.random import MT19937\n",
    ">>> from numpy.random import RandomState, SeedSequence\n",
    ">>> rs = RandomState(MT19937(SeedSequence(123456789)))\n",
    "### Later, you want to restart the stream\n",
    ">>> rs = RandomState(MT19937(SeedSequence(987654321)))"
   ]
  },
  {
   "cell_type": "code",
   "execution_count": 99,
   "id": "119e2f3e222fee75",
   "metadata": {
    "ExecuteTime": {
     "end_time": "2025-07-26T22:07:55.312427Z",
     "start_time": "2025-07-26T22:07:55.305183Z"
    }
   },
   "outputs": [
    {
     "data": {
      "text/plain": [
       "array([[49.79400733, 67.94111176, 65.07859141, 26.87952387,  6.73246669,\n",
       "        77.14451384, 48.09841323, 32.92064077],\n",
       "       [51.06410562, 26.36288287, 31.051155  , 62.68534377, 55.74498106,\n",
       "        31.85795596, 39.48432209, 25.79745859],\n",
       "       [58.22411233, 16.16287104, 59.81338198, 82.58235773, 15.63917185,\n",
       "        73.43005193, 40.86434321, 77.86879044],\n",
       "       [80.39705676, 78.60714435, 59.22870187, 66.44892028, 64.65672868,\n",
       "        42.5636479 , 51.35683338, 50.12578437],\n",
       "       [ 3.70838109, 70.81160952, 62.04306002, 77.78085346, 45.94094656,\n",
       "        37.98055547, 29.18922036, 55.72288625],\n",
       "       [ 8.41636017, 63.12816691, 94.45704879, 89.12375349, 87.85825798,\n",
       "        34.4751627 , 70.3100532 , 52.73376047],\n",
       "       [65.93169556, 26.82906337, 60.77670794,  4.815737  , 69.55006394,\n",
       "        29.92718777, 16.56355549, 33.22519401],\n",
       "       [16.54377455, 91.4637981 , 28.40250059, 10.76072648, 11.70017702,\n",
       "        75.55235988, 83.88944582,  3.55370267]])"
      ]
     },
     "execution_count": 99,
     "metadata": {},
     "output_type": "execute_result"
    }
   ],
   "source": [
    "np.random.seed()\n",
    "randarray100"
   ]
  },
  {
   "cell_type": "code",
   "execution_count": 100,
   "id": "724282ad8565d907",
   "metadata": {
    "ExecuteTime": {
     "end_time": "2025-07-26T22:07:55.499178Z",
     "start_time": "2025-07-26T22:07:55.492196Z"
    }
   },
   "outputs": [
    {
     "data": {
      "text/plain": [
       "array([[3, 9, 4],\n",
       "       [6, 7, 2],\n",
       "       [0, 6, 8],\n",
       "       [5, 3, 0],\n",
       "       [6, 6, 0]])"
      ]
     },
     "execution_count": 100,
     "metadata": {},
     "output_type": "execute_result"
    }
   ],
   "source": [
    "# Pseudo random numbers\n",
    "np.random.seed(seed=20)\n",
    "# These all appear as random but if you want reproducible random numbers for the sake of re-creating an issue for instance, you can use a seed()\n",
    "random_array_4 = np.random.randint(10, size=(5, 3))\n",
    "random_array_4\n"
   ]
  },
  {
   "cell_type": "code",
   "execution_count": 101,
   "id": "67c4fbe8e2525c28",
   "metadata": {
    "ExecuteTime": {
     "end_time": "2025-07-26T22:07:55.641095Z",
     "start_time": "2025-07-26T22:07:55.637149Z"
    }
   },
   "outputs": [],
   "source": [
    "#finding unique numbers in an array\n",
    "unique_array = np.unique([1, 2, 3, 4, 5, 1, 1, 2, 2, 44])"
   ]
  },
  {
   "cell_type": "code",
   "execution_count": 102,
   "id": "11b075dd89b6706c",
   "metadata": {
    "ExecuteTime": {
     "end_time": "2025-07-26T22:07:55.759971Z",
     "start_time": "2025-07-26T22:07:55.755466Z"
    }
   },
   "outputs": [
    {
     "data": {
      "text/plain": [
       "array([ 1,  2,  3,  4,  5, 44])"
      ]
     },
     "execution_count": 102,
     "metadata": {},
     "output_type": "execute_result"
    }
   ],
   "source": [
    "# @hen displaying these, it's important to remember that 'unique' is different than 'not a duplicate' ... this takes all numbers and return 1 vale for each, regardless of how many of that particular value are found in the array\n",
    "unique_array"
   ]
  },
  {
   "cell_type": "code",
   "execution_count": 103,
   "id": "bde33b6840b8e480",
   "metadata": {
    "ExecuteTime": {
     "end_time": "2025-07-26T22:07:55.860362Z",
     "start_time": "2025-07-26T22:07:55.854525Z"
    }
   },
   "outputs": [
    {
     "data": {
      "text/plain": [
       "array([0, 2, 3, 4, 5, 6, 7, 8, 9])"
      ]
     },
     "execution_count": 103,
     "metadata": {},
     "output_type": "execute_result"
    }
   ],
   "source": [
    "# Now try unique with the random array of integers\n",
    "unique_rand = np.unique(random_array_4)\n",
    "unique_rand"
   ]
  },
  {
   "cell_type": "code",
   "execution_count": 104,
   "id": "d6941cc8a32fbed2",
   "metadata": {
    "ExecuteTime": {
     "end_time": "2025-07-26T22:07:55.975302Z",
     "start_time": "2025-07-26T22:07:55.969740Z"
    }
   },
   "outputs": [
    {
     "data": {
      "text/plain": [
       "array([[3, 9, 4],\n",
       "       [6, 7, 2],\n",
       "       [0, 6, 8],\n",
       "       [5, 3, 0],\n",
       "       [6, 6, 0]])"
      ]
     },
     "execution_count": 104,
     "metadata": {},
     "output_type": "execute_result"
    }
   ],
   "source": [
    "random_array_4"
   ]
  },
  {
   "cell_type": "markdown",
   "id": "6142f9bf6adb7283",
   "metadata": {},
   "source": [
    "## 3. Viewing Arrays and Matrices"
   ]
  },
  {
   "cell_type": "code",
   "execution_count": 105,
   "id": "72f59db9f51fbe42",
   "metadata": {
    "ExecuteTime": {
     "end_time": "2025-07-26T22:08:57.141518Z",
     "start_time": "2025-07-26T22:08:57.135341Z"
    }
   },
   "outputs": [
    {
     "data": {
      "text/plain": [
       "array([1, 2, 3])"
      ]
     },
     "execution_count": 105,
     "metadata": {},
     "output_type": "execute_result"
    }
   ],
   "source": [
    "a1"
   ]
  },
  {
   "cell_type": "code",
   "execution_count": 106,
   "id": "10b029f1aa4ff8b7",
   "metadata": {
    "ExecuteTime": {
     "end_time": "2025-07-26T22:08:59.137498Z",
     "start_time": "2025-07-26T22:08:59.131935Z"
    }
   },
   "outputs": [
    {
     "data": {
      "text/plain": [
       "array([[1. , 2. , 3. ],\n",
       "       [4. , 5. , 6.5]])"
      ]
     },
     "execution_count": 106,
     "metadata": {},
     "output_type": "execute_result"
    }
   ],
   "source": [
    "a2"
   ]
  },
  {
   "cell_type": "code",
   "execution_count": 110,
   "id": "baead0f84ef244d7",
   "metadata": {
    "ExecuteTime": {
     "end_time": "2025-07-26T22:12:18.146606Z",
     "start_time": "2025-07-26T22:12:18.136863Z"
    }
   },
   "outputs": [
    {
     "name": "stdout",
     "output_type": "stream",
     "text": [
      "[[[ 1  2  3]\n",
      "  [ 4  5  6]\n",
      "  [ 7  8  9]]\n",
      "\n",
      " [[10 11 12]\n",
      "  [13 14 15]\n",
      "  [16 17 18]]]\n"
     ]
    },
    {
     "data": {
      "text/plain": [
       "(2, 3, 3)"
      ]
     },
     "execution_count": 110,
     "metadata": {},
     "output_type": "execute_result"
    }
   ],
   "source": [
    "print(a3) # 2x3x3\n",
    "a3.shape"
   ]
  },
  {
   "cell_type": "code",
   "execution_count": 115,
   "id": "1c3fe47d0e6e8c74",
   "metadata": {
    "ExecuteTime": {
     "end_time": "2025-07-26T22:22:58.697983Z",
     "start_time": "2025-07-26T22:22:58.691793Z"
    }
   },
   "outputs": [
    {
     "name": "stdout",
     "output_type": "stream",
     "text": [
      "Get all of the first elements\n",
      "****\n",
      "1\n",
      "****\n",
      "[1. 2. 3.]\n",
      "****\n",
      "[[1 2 3]\n",
      " [4 5 6]\n",
      " [7 8 9]]\n",
      "****\n"
     ]
    }
   ],
   "source": [
    "print(\"Get all of the first elements\")\n",
    "print(\"****\")\n",
    "print(a1[0])\n",
    "print(\"****\")\n",
    "print(a2[0])\n",
    "print(\"****\")\n",
    "print(a3[0])\n",
    "print(\"****\")"
   ]
  },
  {
   "cell_type": "code",
   "execution_count": 116,
   "id": "7b63952f123e84fa",
   "metadata": {
    "ExecuteTime": {
     "end_time": "2025-07-26T22:27:33.892956Z",
     "start_time": "2025-07-26T22:27:33.886639Z"
    }
   },
   "outputs": [
    {
     "data": {
      "text/plain": [
       "array([[[[9, 5, 7, 5, 2],\n",
       "         [6, 9, 3, 3, 9],\n",
       "         [0, 6, 2, 3, 1],\n",
       "         [8, 0, 2, 7, 6]],\n",
       "\n",
       "        [[6, 8, 2, 1, 3],\n",
       "         [2, 6, 9, 4, 6],\n",
       "         [4, 8, 6, 2, 3],\n",
       "         [1, 5, 2, 1, 8]],\n",
       "\n",
       "        [[2, 4, 4, 8, 6],\n",
       "         [0, 3, 4, 0, 5],\n",
       "         [6, 9, 7, 4, 0],\n",
       "         [6, 1, 9, 6, 7]]],\n",
       "\n",
       "\n",
       "       [[[9, 7, 6, 9, 8],\n",
       "         [8, 2, 2, 1, 5],\n",
       "         [2, 9, 7, 5, 5],\n",
       "         [9, 6, 9, 9, 5]],\n",
       "\n",
       "        [[2, 9, 6, 1, 8],\n",
       "         [1, 0, 8, 5, 0],\n",
       "         [6, 5, 4, 2, 9],\n",
       "         [9, 4, 5, 3, 9]],\n",
       "\n",
       "        [[7, 1, 2, 3, 6],\n",
       "         [5, 4, 4, 1, 8],\n",
       "         [7, 1, 9, 2, 3],\n",
       "         [4, 4, 4, 9, 0]]]])"
      ]
     },
     "execution_count": 116,
     "metadata": {},
     "output_type": "execute_result"
    }
   ],
   "source": [
    "a4 = np.random.randint(10, size=(2, 3, 4, 5))\n",
    "a4"
   ]
  },
  {
   "cell_type": "code",
   "execution_count": 117,
   "id": "d6486ea58af82871",
   "metadata": {
    "ExecuteTime": {
     "end_time": "2025-07-26T22:35:36.661964Z",
     "start_time": "2025-07-26T22:35:36.656472Z"
    }
   },
   "outputs": [
    {
     "data": {
      "text/plain": [
       "((2, 3, 4, 5), 4)"
      ]
     },
     "execution_count": 117,
     "metadata": {},
     "output_type": "execute_result"
    }
   ],
   "source": [
    "a4.shape, a4.ndim"
   ]
  },
  {
   "cell_type": "code",
   "execution_count": 133,
   "id": "a954491ff4d0b09c",
   "metadata": {
    "ExecuteTime": {
     "end_time": "2025-07-26T22:53:12.278084Z",
     "start_time": "2025-07-26T22:53:12.272381Z"
    }
   },
   "outputs": [
    {
     "data": {
      "text/plain": [
       "5"
      ]
     },
     "execution_count": 133,
     "metadata": {},
     "output_type": "execute_result"
    }
   ],
   "source": [
    "a4[1][0][2][4]"
   ]
  },
  {
   "cell_type": "code",
   "execution_count": 122,
   "id": "ac1854b84ba29e17",
   "metadata": {
    "ExecuteTime": {
     "end_time": "2025-07-26T22:46:29.652267Z",
     "start_time": "2025-07-26T22:46:29.634668Z"
    }
   },
   "outputs": [
    {
     "data": {
      "text/plain": [
       "array([[[ 1,  2,  3],\n",
       "        [ 4,  5,  6],\n",
       "        [ 7,  8,  9]],\n",
       "\n",
       "       [[10, 11, 12],\n",
       "        [13, 14, 15],\n",
       "        [16, 17, 18]]])"
      ]
     },
     "execution_count": 122,
     "metadata": {},
     "output_type": "execute_result"
    }
   ],
   "source": [
    "a3"
   ]
  },
  {
   "cell_type": "code",
   "execution_count": 129,
   "id": "e2d45bea6554cf86",
   "metadata": {
    "ExecuteTime": {
     "end_time": "2025-07-26T22:48:48.566542Z",
     "start_time": "2025-07-26T22:48:48.560027Z"
    }
   },
   "outputs": [],
   "source": [
    "a3_split = a3[:2, :3, 2:3]"
   ]
  },
  {
   "cell_type": "code",
   "execution_count": 130,
   "id": "ddb19457b900ab2e",
   "metadata": {
    "ExecuteTime": {
     "end_time": "2025-07-26T22:48:58.173418Z",
     "start_time": "2025-07-26T22:48:58.159581Z"
    }
   },
   "outputs": [
    {
     "name": "stdout",
     "output_type": "stream",
     "text": [
      "[[[ 3]\n",
      "  [ 6]\n",
      "  [ 9]]\n",
      "\n",
      " [[12]\n",
      "  [15]\n",
      "  [18]]]\n"
     ]
    }
   ],
   "source": [
    "print(a3_split)"
   ]
  },
  {
   "cell_type": "markdown",
   "id": "7e179998476042c3",
   "metadata": {},
   "source": [
    "## Manipulating and Comparing arrays"
   ]
  },
  {
   "cell_type": "code",
   "id": "5e38dffa32691bc5",
   "metadata": {
    "ExecuteTime": {
     "end_time": "2025-07-28T21:44:19.054499Z",
     "start_time": "2025-07-28T21:44:19.046807Z"
    }
   },
   "source": [
    "### Arithmetic\n",
    "a1"
   ],
   "outputs": [
    {
     "data": {
      "text/plain": [
       "array([1, 2, 3])"
      ]
     },
     "execution_count": 143,
     "metadata": {},
     "output_type": "execute_result"
    }
   ],
   "execution_count": 143
  },
  {
   "metadata": {
    "ExecuteTime": {
     "end_time": "2025-07-28T21:45:05.800517Z",
     "start_time": "2025-07-28T21:45:05.794948Z"
    }
   },
   "cell_type": "code",
   "source": "ones = np.ones(3)",
   "id": "12efbaeefc04411e",
   "outputs": [],
   "execution_count": 144
  },
  {
   "metadata": {
    "ExecuteTime": {
     "end_time": "2025-07-28T21:45:17.898226Z",
     "start_time": "2025-07-28T21:45:17.894748Z"
    }
   },
   "cell_type": "code",
   "source": "ones",
   "id": "df1403a1992edfed",
   "outputs": [
    {
     "data": {
      "text/plain": [
       "array([1., 1., 1.])"
      ]
     },
     "execution_count": 145,
     "metadata": {},
     "output_type": "execute_result"
    }
   ],
   "execution_count": 145
  },
  {
   "metadata": {
    "ExecuteTime": {
     "end_time": "2025-07-28T21:45:49.498945Z",
     "start_time": "2025-07-28T21:45:49.494824Z"
    }
   },
   "cell_type": "code",
   "source": [
    "# adding and subtracting equal sized arrays\n",
    "result = a1 + ones\n",
    "result"
   ],
   "id": "24fdf26d93a50618",
   "outputs": [
    {
     "data": {
      "text/plain": [
       "array([2., 3., 4.])"
      ]
     },
     "execution_count": 147,
     "metadata": {},
     "output_type": "execute_result"
    }
   ],
   "execution_count": 147
  },
  {
   "metadata": {
    "ExecuteTime": {
     "end_time": "2025-07-28T21:47:38.275760Z",
     "start_time": "2025-07-28T21:47:38.270499Z"
    }
   },
   "cell_type": "code",
   "source": [
    "result = a1 - ones\n",
    "result"
   ],
   "id": "3602edb2775d3d97",
   "outputs": [
    {
     "data": {
      "text/plain": [
       "array([0., 1., 2.])"
      ]
     },
     "execution_count": 149,
     "metadata": {},
     "output_type": "execute_result"
    }
   ],
   "execution_count": 149
  },
  {
   "metadata": {
    "ExecuteTime": {
     "end_time": "2025-07-28T21:51:30.858139Z",
     "start_time": "2025-07-28T21:51:30.855107Z"
    }
   },
   "cell_type": "code",
   "source": [
    "# Look at a2 it is a 2D array with 3 elements, a1 also has 3 elements, so multiplying a1*a2 should take the elements of a1 and multiply them by BOTH roews in a2 (they also have 3 elements)\n",
    "result = a1*a2\n",
    "print(a1)\n",
    "print(a2)\n",
    "print(result)"
   ],
   "id": "7f1a9a0b5ffb0ead",
   "outputs": [
    {
     "name": "stdout",
     "output_type": "stream",
     "text": [
      "[1 2 3]\n",
      "[[1.  2.  3. ]\n",
      " [4.  5.  6.5]]\n",
      "[[ 1.   4.   9. ]\n",
      " [ 4.  10.  19.5]]\n"
     ]
    }
   ],
   "execution_count": 153
  },
  {
   "metadata": {
    "ExecuteTime": {
     "end_time": "2025-07-28T21:58:36.335169Z",
     "start_time": "2025-07-28T21:58:36.331578Z"
    }
   },
   "cell_type": "code",
   "source": [
    "# a1 * a3 is possible because the shape is correct\n",
    "result = a1 * a3\n",
    "print(a1)\n",
    "print(a3)\n",
    "print(result)"
   ],
   "id": "99de71dc99a49323",
   "outputs": [
    {
     "name": "stdout",
     "output_type": "stream",
     "text": [
      "[1 2 3]\n",
      "[[[ 1  2  3]\n",
      "  [ 4  5  6]\n",
      "  [ 7  8  9]]\n",
      "\n",
      " [[10 11 12]\n",
      "  [13 14 15]\n",
      "  [16 17 18]]]\n",
      "[[[ 1  4  9]\n",
      "  [ 4 10 18]\n",
      "  [ 7 16 27]]\n",
      "\n",
      " [[10 22 36]\n",
      "  [13 28 45]\n",
      "  [16 34 54]]]\n"
     ]
    }
   ],
   "execution_count": 155
  },
  {
   "metadata": {
    "ExecuteTime": {
     "end_time": "2025-07-28T22:09:56.143750Z",
     "start_time": "2025-07-28T22:09:56.136488Z"
    }
   },
   "cell_type": "code",
   "source": [
    "# Solving broad casting issues with different shapes of arrays\n",
    "# think on this problem, maybe reshape() an array\n",
    "print(a2)\n",
    "print(a3)"
   ],
   "id": "9dc56c735af2e128",
   "outputs": [
    {
     "name": "stdout",
     "output_type": "stream",
     "text": [
      "[[1.  2.  3. ]\n",
      " [4.  5.  6.5]]\n",
      "[[[ 1  2  3]\n",
      "  [ 4  5  6]\n",
      "  [ 7  8  9]]\n",
      "\n",
      " [[10 11 12]\n",
      "  [13 14 15]\n",
      "  [16 17 18]]]\n"
     ]
    }
   ],
   "execution_count": 156
  },
  {
   "metadata": {
    "ExecuteTime": {
     "end_time": "2025-07-28T22:10:52.352421Z",
     "start_time": "2025-07-28T22:10:52.348804Z"
    }
   },
   "cell_type": "code",
   "source": [
    "print(a2.shape)\n",
    "print(a3.shape)"
   ],
   "id": "dd937c1f7cd71d5a",
   "outputs": [
    {
     "name": "stdout",
     "output_type": "stream",
     "text": [
      "(2, 3)\n",
      "(2, 3, 3)\n"
     ]
    }
   ],
   "execution_count": 157
  },
  {
   "metadata": {
    "ExecuteTime": {
     "end_time": "2025-07-28T22:37:06.253106Z",
     "start_time": "2025-07-28T22:37:06.249027Z"
    }
   },
   "cell_type": "code",
   "source": [
    "reshaped_array = a2[:, np.newaxis] + a3\n",
    "reshaped_array"
   ],
   "id": "81c6a778f02c0ca7",
   "outputs": [
    {
     "data": {
      "text/plain": [
       "array([[[ 2. ,  4. ,  6. ],\n",
       "        [ 5. ,  7. ,  9. ],\n",
       "        [ 8. , 10. , 12. ]],\n",
       "\n",
       "       [[14. , 16. , 18.5],\n",
       "        [17. , 19. , 21.5],\n",
       "        [20. , 22. , 24.5]]])"
      ]
     },
     "execution_count": 165,
     "metadata": {},
     "output_type": "execute_result"
    }
   ],
   "execution_count": 165
  },
  {
   "metadata": {
    "ExecuteTime": {
     "end_time": "2025-07-28T22:39:25.445730Z",
     "start_time": "2025-07-28T22:39:25.442097Z"
    }
   },
   "cell_type": "code",
   "source": [
    "print(\"This is a2 normal\")\n",
    "print(a2)\n",
    "print(\"This is a2 modified\")\n",
    "a2mod = a2[:, np.newaxis]\n",
    "print(a2mod)"
   ],
   "id": "fd7eb98823c6959b",
   "outputs": [
    {
     "name": "stdout",
     "output_type": "stream",
     "text": [
      "This is a2 normal\n",
      "[[1.  2.  3. ]\n",
      " [4.  5.  6.5]]\n",
      "This is a2 modified\n",
      "[[[1.  2.  3. ]]\n",
      "\n",
      " [[4.  5.  6.5]]]\n"
     ]
    }
   ],
   "execution_count": 167
  },
  {
   "metadata": {
    "ExecuteTime": {
     "end_time": "2025-07-28T22:39:56.598197Z",
     "start_time": "2025-07-28T22:39:56.594892Z"
    }
   },
   "cell_type": "code",
   "source": "a2.shape",
   "id": "3efbb13230629748",
   "outputs": [
    {
     "data": {
      "text/plain": [
       "(2, 3)"
      ]
     },
     "execution_count": 169,
     "metadata": {},
     "output_type": "execute_result"
    }
   ],
   "execution_count": 169
  },
  {
   "metadata": {
    "ExecuteTime": {
     "end_time": "2025-07-28T22:40:03.978174Z",
     "start_time": "2025-07-28T22:40:03.974675Z"
    }
   },
   "cell_type": "code",
   "source": "a3.shape",
   "id": "30aed3ed6432e1a1",
   "outputs": [
    {
     "data": {
      "text/plain": [
       "(2, 3, 3)"
      ]
     },
     "execution_count": 170,
     "metadata": {},
     "output_type": "execute_result"
    }
   ],
   "execution_count": 170
  },
  {
   "metadata": {
    "ExecuteTime": {
     "end_time": "2025-07-28T22:40:17.263742Z",
     "start_time": "2025-07-28T22:40:17.261716Z"
    }
   },
   "cell_type": "code",
   "source": "a2mod.shape",
   "id": "d1860a2d5879344b",
   "outputs": [
    {
     "data": {
      "text/plain": [
       "(2, 1, 3)"
      ]
     },
     "execution_count": 171,
     "metadata": {},
     "output_type": "execute_result"
    }
   ],
   "execution_count": 171
  },
  {
   "metadata": {},
   "cell_type": "markdown",
   "source": [
    "### Aggregation\n",
    "Aggregation = performing the same operation on a number of things"
   ],
   "id": "40fa8978fc87b64d"
  },
  {
   "metadata": {
    "ExecuteTime": {
     "end_time": "2025-07-28T23:00:04.794318Z",
     "start_time": "2025-07-28T23:00:04.791224Z"
    }
   },
   "cell_type": "code",
   "source": [
    "listy_list = [1, 2, 3]\n",
    "print(listy_list)\n",
    "print(type(listy_list))\n"
   ],
   "id": "804a88f42ccba82e",
   "outputs": [
    {
     "name": "stdout",
     "output_type": "stream",
     "text": [
      "[1, 2, 3]\n",
      "<class 'list'>\n"
     ]
    }
   ],
   "execution_count": 176
  },
  {
   "metadata": {
    "ExecuteTime": {
     "end_time": "2025-07-28T23:11:21.418595Z",
     "start_time": "2025-07-28T23:11:21.415384Z"
    }
   },
   "cell_type": "code",
   "source": [
    "print(a1)\n",
    "print(listy_list)"
   ],
   "id": "3e8223fcd5164e28",
   "outputs": [
    {
     "name": "stdout",
     "output_type": "stream",
     "text": [
      "[1 2 3]\n",
      "[1, 2, 3]\n"
     ]
    }
   ],
   "execution_count": 182
  },
  {
   "metadata": {},
   "cell_type": "code",
   "outputs": [
    {
     "data": {
      "text/plain": [
       "6"
      ]
     },
     "execution_count": 181,
     "metadata": {},
     "output_type": "execute_result"
    }
   ],
   "execution_count": 181,
   "source": "sum(listy_list)",
   "id": "c20ac4fa1703cc07"
  },
  {
   "metadata": {
    "ExecuteTime": {
     "end_time": "2025-07-28T23:11:55.236503Z",
     "start_time": "2025-07-28T23:11:55.233199Z"
    }
   },
   "cell_type": "code",
   "source": "sum(a1)",
   "id": "abe4f3468cba41a5",
   "outputs": [
    {
     "data": {
      "text/plain": [
       "np.int64(6)"
      ]
     },
     "execution_count": 183,
     "metadata": {},
     "output_type": "execute_result"
    }
   ],
   "execution_count": 183
  },
  {
   "metadata": {
    "ExecuteTime": {
     "end_time": "2025-07-28T23:19:05.585162Z",
     "start_time": "2025-07-28T23:19:05.578669Z"
    }
   },
   "cell_type": "code",
   "source": "np.sum(a1)",
   "id": "c717225dc8441ae4",
   "outputs": [
    {
     "data": {
      "text/plain": [
       "np.int64(6)"
      ]
     },
     "execution_count": 184,
     "metadata": {},
     "output_type": "execute_result"
    }
   ],
   "execution_count": 184
  },
  {
   "metadata": {
    "ExecuteTime": {
     "end_time": "2025-07-28T23:22:52.576167Z",
     "start_time": "2025-07-28T23:22:52.571901Z"
    }
   },
   "cell_type": "code",
   "source": [
    "massive_array = np.random.random(100000)\n",
    "massive_array.size"
   ],
   "id": "44df6bd90ba828e2",
   "outputs": [
    {
     "data": {
      "text/plain": [
       "100000"
      ]
     },
     "execution_count": 186,
     "metadata": {},
     "output_type": "execute_result"
    }
   ],
   "execution_count": 186
  },
  {
   "metadata": {
    "ExecuteTime": {
     "end_time": "2025-07-28T23:23:11.265047Z",
     "start_time": "2025-07-28T23:23:11.261507Z"
    }
   },
   "cell_type": "code",
   "source": "massive_array[:10]",
   "id": "e3c57a203319169f",
   "outputs": [
    {
     "data": {
      "text/plain": [
       "array([0.81773566, 0.45973847, 0.92241181, 0.04216   , 0.46469294,\n",
       "       0.98419577, 0.05974547, 0.1934242 , 0.62818961, 0.09752837])"
      ]
     },
     "execution_count": 187,
     "metadata": {},
     "output_type": "execute_result"
    }
   ],
   "execution_count": 187
  },
  {
   "metadata": {
    "ExecuteTime": {
     "end_time": "2025-07-28T23:24:09.180293Z",
     "start_time": "2025-07-28T23:23:56.387783Z"
    }
   },
   "cell_type": "code",
   "source": [
    "%timeit sum(massive_array)\n",
    "%timeit np.sum(massive_array)"
   ],
   "id": "fe9b63e657019e3",
   "outputs": [
    {
     "name": "stdout",
     "output_type": "stream",
     "text": [
      "2.91 ms ± 100 µs per loop (mean ± std. dev. of 7 runs, 100 loops each)\n",
      "12.8 µs ± 33.4 ns per loop (mean ± std. dev. of 7 runs, 100,000 loops each)\n"
     ]
    }
   ],
   "execution_count": 188
  },
  {
   "metadata": {
    "ExecuteTime": {
     "end_time": "2025-07-28T23:30:06.191375Z",
     "start_time": "2025-07-28T23:30:06.188057Z"
    }
   },
   "cell_type": "code",
   "source": "2910/12.8",
   "id": "64b37a769c1932a0",
   "outputs": [
    {
     "data": {
      "text/plain": [
       "227.34375"
      ]
     },
     "execution_count": 190,
     "metadata": {},
     "output_type": "execute_result"
    }
   ],
   "execution_count": 190
  },
  {
   "metadata": {
    "ExecuteTime": {
     "end_time": "2025-07-28T23:37:58.185722Z",
     "start_time": "2025-07-28T23:37:58.181242Z"
    }
   },
   "cell_type": "code",
   "source": [
    "# So the np.sum is 227 times faster than the regular python sum.\n",
    "# That is why its better to use np.sum on np data and not python sum on np data"
   ],
   "id": "ab23be21542012bb",
   "outputs": [],
   "execution_count": 191
  },
  {
   "metadata": {
    "ExecuteTime": {
     "end_time": "2025-07-28T23:38:07.864191Z",
     "start_time": "2025-07-28T23:38:07.860313Z"
    }
   },
   "cell_type": "code",
   "source": "a2",
   "id": "c921505aaf3fc577",
   "outputs": [
    {
     "data": {
      "text/plain": [
       "array([[1. , 2. , 3. ],\n",
       "       [4. , 5. , 6.5]])"
      ]
     },
     "execution_count": 192,
     "metadata": {},
     "output_type": "execute_result"
    }
   ],
   "execution_count": 192
  },
  {
   "metadata": {
    "ExecuteTime": {
     "end_time": "2025-07-28T23:47:00.243917Z",
     "start_time": "2025-07-28T23:47:00.240996Z"
    }
   },
   "cell_type": "code",
   "source": [
    "print(np.mean(a2))\n",
    "print(21.5 / np.size(a2))"
   ],
   "id": "3878917176ed832d",
   "outputs": [
    {
     "name": "stdout",
     "output_type": "stream",
     "text": [
      "3.5833333333333335\n",
      "3.5833333333333335\n"
     ]
    }
   ],
   "execution_count": 203
  },
  {
   "metadata": {
    "ExecuteTime": {
     "end_time": "2025-07-28T23:59:12.083024Z",
     "start_time": "2025-07-28T23:59:12.078875Z"
    }
   },
   "cell_type": "code",
   "source": [
    "# Statistical Operations\n",
    "# MEAN or AVERAGE\n",
    "print(\"The Mean / average is: \")\n",
    "print(np.mean(a2))\n",
    "\n",
    "# STANDARD DEVIATION = a measure of how spread out a number is from the mean\n",
    "# and is the square root of the variant ... so sqrt(np.var(a2))\n",
    "print(\"The Standard Deviation is: \")\n",
    "print(np.std(a2))\n",
    "\n",
    "# Square root of the variant\n",
    "print(\"The sqrt of the variant is: \")\n",
    "print(np.sqrt(np.var(a2)))\n",
    "\n",
    "# VARIANCE\n",
    "# The measure of the average degree to which each number is different to the mean.\n",
    "# Higher variance = wider range of numbers\n",
    "# Lower variance = lower range of numbers\n",
    "print(\"The Variance is: \")\n",
    "print(np.var(a2))"
   ],
   "id": "7d405ab235013af",
   "outputs": [
    {
     "name": "stdout",
     "output_type": "stream",
     "text": [
      "The Mean / average is: \n",
      "3.5833333333333335\n",
      "The Standard Deviation is: \n",
      "1.8352262954621035\n",
      "The sqrt of the variant is: \n",
      "1.8352262954621035\n",
      "The Variance is: \n",
      "3.368055555555556\n"
     ]
    }
   ],
   "execution_count": 206
  },
  {
   "metadata": {},
   "cell_type": "markdown",
   "source": "## Real World Example of calculating Means and Variances and what they are by definition",
   "id": "fa759c34b53c5046"
  },
  {
   "metadata": {},
   "cell_type": "markdown",
   "source": [
    "## Problem Definition:\n",
    "![](statistics-dogs-graph.gif)\n",
    "\n",
    "To calculate the variance follow these steps:\n",
    "\n",
    "Calculate the Mean (the simple average of the numbers)\n",
    "Then for each number: subtract the Mean and square the result (the squared difference).\n",
    "Then calculate the average of those squared differences. (Why Square?)\n",
    "\n",
    "Example\n",
    "You and your friends have just measured the heights of your dogs (in millimeters):\n",
    "\n",
    "dogs on graph shoulder heights\n",
    "\n",
    "The heights (at the shoulders) are: 600 mm, 470 mm, 170 mm, 430 mm and 300 mm.\n",
    "\n",
    "Find out the Mean, the Variance, and the Standard Deviation."
   ],
   "id": "737bb6e1e1b5c44d"
  },
  {
   "metadata": {
    "ExecuteTime": {
     "end_time": "2025-07-29T01:24:53.200940Z",
     "start_time": "2025-07-29T01:24:53.197814Z"
    }
   },
   "cell_type": "code",
   "source": [
    "# Step 1: Calculate the mean\n",
    "print(\"The dog heights\")\n",
    "dog_heights = np.array([170, 300, 430, 470, 600])\n",
    "print(dog_heights)"
   ],
   "id": "116a585bf33129c7",
   "outputs": [
    {
     "name": "stdout",
     "output_type": "stream",
     "text": [
      "The dog heights\n",
      "[170 300 430 470 600]\n"
     ]
    }
   ],
   "execution_count": 208
  },
  {
   "metadata": {
    "ExecuteTime": {
     "end_time": "2025-07-29T01:54:19.051070Z",
     "start_time": "2025-07-29T01:54:19.038677Z"
    }
   },
   "cell_type": "code",
   "source": [
    "print(\"MEAN The dog heights average / mean\")\n",
    "dog_heights_mean = np.mean(dog_heights)\n",
    "print(dog_heights_mean)"
   ],
   "id": "64fa5760d3c34de4",
   "outputs": [
    {
     "name": "stdout",
     "output_type": "stream",
     "text": [
      "MEAN The dog heights average / mean\n",
      "394.0\n"
     ]
    }
   ],
   "execution_count": 216
  },
  {
   "metadata": {
    "ExecuteTime": {
     "end_time": "2025-07-29T01:54:32.286709Z",
     "start_time": "2025-07-29T01:54:32.283426Z"
    }
   },
   "cell_type": "code",
   "source": [
    "print(\"Now subtract the mean() from each number\")\n",
    "dog_heights_sub_mean = np.subtract(dog_heights, dog_heights_mean)\n",
    "print(dog_heights_sub_mean)"
   ],
   "id": "a56d04e42b80b34c",
   "outputs": [
    {
     "name": "stdout",
     "output_type": "stream",
     "text": [
      "Now subtract the mean() from each number\n",
      "[-224.  -94.   36.   76.  206.]\n"
     ]
    }
   ],
   "execution_count": 217
  },
  {
   "metadata": {
    "ExecuteTime": {
     "end_time": "2025-07-29T01:54:33.620199Z",
     "start_time": "2025-07-29T01:54:33.617016Z"
    }
   },
   "cell_type": "code",
   "source": [
    "print(\"Now square each number in the array\")\n",
    "dog_heights_sub_mean_sqrd = np.square(dog_heights_sub_mean)\n",
    "print(dog_heights_sub_mean_sqrd)"
   ],
   "id": "5aa22ef322dbb466",
   "outputs": [
    {
     "name": "stdout",
     "output_type": "stream",
     "text": [
      "Now square each number in the array\n",
      "[50176.  8836.  1296.  5776. 42436.]\n"
     ]
    }
   ],
   "execution_count": 218
  },
  {
   "metadata": {
    "ExecuteTime": {
     "end_time": "2025-07-29T01:54:35.162805Z",
     "start_time": "2025-07-29T01:54:35.159587Z"
    }
   },
   "cell_type": "code",
   "source": [
    "print(\"VARIANCE = Now take the average/mean of the square array [[dog_heights_sub_mean_sqrd]]\")\n",
    "dog_heights_sub_mean_sqrd_mean = np.mean(dog_heights_sub_mean_sqrd)\n",
    "print(dog_heights_sub_mean_sqrd_mean)"
   ],
   "id": "93ea2aaefa7dfe78",
   "outputs": [
    {
     "name": "stdout",
     "output_type": "stream",
     "text": [
      "VARIANCE = Now take the average/mean of the square array [[dog_heights_sub_mean_sqrd]]\n",
      "21704.0\n"
     ]
    }
   ],
   "execution_count": 219
  },
  {
   "metadata": {
    "ExecuteTime": {
     "end_time": "2025-07-29T01:54:36.467830Z",
     "start_time": "2025-07-29T01:54:36.463956Z"
    }
   },
   "cell_type": "code",
   "source": [
    "print(\"STANDARD DEVIATION Now take the sqrt of the Variance (21704)\")\n",
    "standard_dev = np.sqrt(dog_heights_sub_mean_sqrd_mean)\n",
    "print(standard_dev)"
   ],
   "id": "3767d68681fc6af0",
   "outputs": [
    {
     "name": "stdout",
     "output_type": "stream",
     "text": [
      "STANDARD DEVIATION Now take the sqrt of the Variance (21704)\n",
      "147.32277488562318\n"
     ]
    }
   ],
   "execution_count": 220
  }
 ],
 "metadata": {
  "kernelspec": {
   "display_name": "Python 3 (ipykernel)",
   "language": "python",
   "name": "python3"
  },
  "language_info": {
   "codemirror_mode": {
    "name": "ipython",
    "version": 3
   },
   "file_extension": ".py",
   "mimetype": "text/x-python",
   "name": "python",
   "nbconvert_exporter": "python",
   "pygments_lexer": "ipython3",
   "version": "3.9.6"
  }
 },
 "nbformat": 4,
 "nbformat_minor": 5
}
