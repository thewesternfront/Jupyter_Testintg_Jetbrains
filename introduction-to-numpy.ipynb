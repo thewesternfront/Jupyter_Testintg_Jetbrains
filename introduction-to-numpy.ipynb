{
 "cells": [
  {
   "cell_type": "code",
   "id": "befd2d4c-270f-4452-be9b-3e5d722f6fb3",
   "metadata": {
    "ExecuteTime": {
     "end_time": "2025-07-26T22:07:52.652204Z",
     "start_time": "2025-07-26T22:07:52.646835Z"
    }
   },
   "source": [
    "import numpy as np\n",
    "from numpy import dtype"
   ],
   "outputs": [],
   "execution_count": 70
  },
  {
   "cell_type": "markdown",
   "id": "a1f7551a-ee77-471e-890c-daf9504c9d1c",
   "metadata": {},
   "source": [
    "## Data Types and Attributes"
   ]
  },
  {
   "cell_type": "code",
   "id": "d8b0e988-0ef5-456b-9afb-6277062b36f9",
   "metadata": {
    "ExecuteTime": {
     "end_time": "2025-07-26T22:07:52.685476Z",
     "start_time": "2025-07-26T22:07:52.680297Z"
    }
   },
   "source": [
    "a1 = np.array([1, 2, 3])\n",
    "type(a1)"
   ],
   "outputs": [
    {
     "data": {
      "text/plain": [
       "numpy.ndarray"
      ]
     },
     "execution_count": 71,
     "metadata": {},
     "output_type": "execute_result"
    }
   ],
   "execution_count": 71
  },
  {
   "cell_type": "markdown",
   "id": "87d5c7288cb54dc7",
   "metadata": {},
   "source": [
    "![](IMG_3155.jpg)"
   ]
  },
  {
   "cell_type": "code",
   "id": "cfd66601-6ae3-4b52-93e8-9d77d027e2fd",
   "metadata": {
    "ExecuteTime": {
     "end_time": "2025-07-26T22:07:52.744268Z",
     "start_time": "2025-07-26T22:07:52.738454Z"
    }
   },
   "source": [
    "# 2x3\n",
    "a2 = np.array([[1, 2.0, 3.0],\n",
    "       [4, 5, 6.5]])\n",
    "\n",
    "# 3x3x2 n-dimensional array?\n",
    "a3 = np.array([[[1, 2, 3],\n",
    "        [4, 5, 6],\n",
    "        [7, 8, 9]],\n",
    "       [[10, 11, 12],\n",
    "        [13, 14, 15],\n",
    "        [16, 17, 18]]])"
   ],
   "outputs": [],
   "execution_count": 72
  },
  {
   "cell_type": "code",
   "id": "749a9ededb8b162d",
   "metadata": {
    "ExecuteTime": {
     "end_time": "2025-07-26T22:07:52.793554Z",
     "start_time": "2025-07-26T22:07:52.788125Z"
    }
   },
   "source": [
    "a2"
   ],
   "outputs": [
    {
     "data": {
      "text/plain": [
       "array([[1. , 2. , 3. ],\n",
       "       [4. , 5. , 6.5]])"
      ]
     },
     "execution_count": 73,
     "metadata": {},
     "output_type": "execute_result"
    }
   ],
   "execution_count": 73
  },
  {
   "cell_type": "code",
   "id": "12074c463fc5b5a3",
   "metadata": {
    "ExecuteTime": {
     "end_time": "2025-07-26T22:07:52.914795Z",
     "start_time": "2025-07-26T22:07:52.906502Z"
    }
   },
   "source": [
    "a3"
   ],
   "outputs": [
    {
     "data": {
      "text/plain": [
       "array([[[ 1,  2,  3],\n",
       "        [ 4,  5,  6],\n",
       "        [ 7,  8,  9]],\n",
       "\n",
       "       [[10, 11, 12],\n",
       "        [13, 14, 15],\n",
       "        [16, 17, 18]]])"
      ]
     },
     "execution_count": 74,
     "metadata": {},
     "output_type": "execute_result"
    }
   ],
   "execution_count": 74
  },
  {
   "cell_type": "code",
   "id": "cd35a1729ecbcb01",
   "metadata": {
    "ExecuteTime": {
     "end_time": "2025-07-26T22:07:53.025609Z",
     "start_time": "2025-07-26T22:07:53.019835Z"
    }
   },
   "source": [
    "a1.shape"
   ],
   "outputs": [
    {
     "data": {
      "text/plain": [
       "(3,)"
      ]
     },
     "execution_count": 75,
     "metadata": {},
     "output_type": "execute_result"
    }
   ],
   "execution_count": 75
  },
  {
   "cell_type": "code",
   "id": "ef81f094a6a829b6",
   "metadata": {
    "ExecuteTime": {
     "end_time": "2025-07-26T22:07:53.131373Z",
     "start_time": "2025-07-26T22:07:53.125507Z"
    }
   },
   "source": [
    "a2.shape"
   ],
   "outputs": [
    {
     "data": {
      "text/plain": [
       "(2, 3)"
      ]
     },
     "execution_count": 76,
     "metadata": {},
     "output_type": "execute_result"
    }
   ],
   "execution_count": 76
  },
  {
   "cell_type": "code",
   "id": "464249299b8975a2",
   "metadata": {
    "ExecuteTime": {
     "end_time": "2025-07-26T22:07:53.206727Z",
     "start_time": "2025-07-26T22:07:53.200066Z"
    }
   },
   "source": [
    "a3.shape"
   ],
   "outputs": [
    {
     "data": {
      "text/plain": [
       "(2, 3, 3)"
      ]
     },
     "execution_count": 77,
     "metadata": {},
     "output_type": "execute_result"
    }
   ],
   "execution_count": 77
  },
  {
   "cell_type": "code",
   "id": "b02fd051350b0e09",
   "metadata": {
    "ExecuteTime": {
     "end_time": "2025-07-26T22:07:53.291581Z",
     "start_time": "2025-07-26T22:07:53.285668Z"
    }
   },
   "source": [
    "# show the dimensions of hte n-dim arrays\n",
    "a1.ndim, a2.ndim, a3.ndim"
   ],
   "outputs": [
    {
     "data": {
      "text/plain": [
       "(1, 2, 3)"
      ]
     },
     "execution_count": 78,
     "metadata": {},
     "output_type": "execute_result"
    }
   ],
   "execution_count": 78
  },
  {
   "cell_type": "code",
   "id": "da8007bcbcafb19b",
   "metadata": {
    "ExecuteTime": {
     "end_time": "2025-07-26T22:07:53.381892Z",
     "start_time": "2025-07-26T22:07:53.373914Z"
    }
   },
   "source": [
    "# Look at the data types dtype\n",
    "a1.dtype, a2.dtype, a3.dtype"
   ],
   "outputs": [
    {
     "data": {
      "text/plain": [
       "(dtype('int32'), dtype('float64'), dtype('int32'))"
      ]
     },
     "execution_count": 79,
     "metadata": {},
     "output_type": "execute_result"
    }
   ],
   "execution_count": 79
  },
  {
   "cell_type": "code",
   "id": "e52407dbe2eb78f4",
   "metadata": {
    "ExecuteTime": {
     "end_time": "2025-07-26T22:07:53.496488Z",
     "start_time": "2025-07-26T22:07:53.491639Z"
    }
   },
   "source": [
    "print(a2[1][1])"
   ],
   "outputs": [
    {
     "name": "stdout",
     "output_type": "stream",
     "text": [
      "5.0\n"
     ]
    }
   ],
   "execution_count": 80
  },
  {
   "cell_type": "code",
   "id": "e5074f41b8cc5b7",
   "metadata": {
    "ExecuteTime": {
     "end_time": "2025-07-26T22:07:53.605652Z",
     "start_time": "2025-07-26T22:07:53.599334Z"
    }
   },
   "source": [
    "# Show Sizes (number of elements in each n-dim array)\n",
    "a1.size, a2.size, a3.size"
   ],
   "outputs": [
    {
     "data": {
      "text/plain": [
       "(3, 6, 18)"
      ]
     },
     "execution_count": 81,
     "metadata": {},
     "output_type": "execute_result"
    }
   ],
   "execution_count": 81
  },
  {
   "cell_type": "code",
   "id": "ac83e8c3e08338d9",
   "metadata": {
    "ExecuteTime": {
     "end_time": "2025-07-26T22:07:53.695303Z",
     "start_time": "2025-07-26T22:07:53.690316Z"
    }
   },
   "source": [
    "type(a1), type(a2), type(a3)"
   ],
   "outputs": [
    {
     "data": {
      "text/plain": [
       "(numpy.ndarray, numpy.ndarray, numpy.ndarray)"
      ]
     },
     "execution_count": 82,
     "metadata": {},
     "output_type": "execute_result"
    }
   ],
   "execution_count": 82
  },
  {
   "cell_type": "markdown",
   "id": "daec920fd550c8f1",
   "metadata": {},
   "source": [
    "## Create a Data Frame (pandas) from a Numpy Array (numpy)"
   ]
  },
  {
   "cell_type": "code",
   "id": "610518fdf3f71f56",
   "metadata": {
    "ExecuteTime": {
     "end_time": "2025-07-26T22:07:53.769142Z",
     "start_time": "2025-07-26T22:07:53.765713Z"
    }
   },
   "source": [
    "import pandas as pd\n",
    "df = pd.DataFrame(a2)"
   ],
   "outputs": [],
   "execution_count": 83
  },
  {
   "cell_type": "code",
   "id": "7dfdaa3ed1d3f708",
   "metadata": {
    "ExecuteTime": {
     "end_time": "2025-07-26T22:07:53.816101Z",
     "start_time": "2025-07-26T22:07:53.808231Z"
    }
   },
   "source": [
    "df"
   ],
   "outputs": [
    {
     "data": {
      "text/plain": [
       "     0    1    2\n",
       "0  1.0  2.0  3.0\n",
       "1  4.0  5.0  6.5"
      ],
      "text/html": [
       "<div>\n",
       "<style scoped>\n",
       "    .dataframe tbody tr th:only-of-type {\n",
       "        vertical-align: middle;\n",
       "    }\n",
       "\n",
       "    .dataframe tbody tr th {\n",
       "        vertical-align: top;\n",
       "    }\n",
       "\n",
       "    .dataframe thead th {\n",
       "        text-align: right;\n",
       "    }\n",
       "</style>\n",
       "<table border=\"1\" class=\"dataframe\">\n",
       "  <thead>\n",
       "    <tr style=\"text-align: right;\">\n",
       "      <th></th>\n",
       "      <th>0</th>\n",
       "      <th>1</th>\n",
       "      <th>2</th>\n",
       "    </tr>\n",
       "  </thead>\n",
       "  <tbody>\n",
       "    <tr>\n",
       "      <th>0</th>\n",
       "      <td>1.0</td>\n",
       "      <td>2.0</td>\n",
       "      <td>3.0</td>\n",
       "    </tr>\n",
       "    <tr>\n",
       "      <th>1</th>\n",
       "      <td>4.0</td>\n",
       "      <td>5.0</td>\n",
       "      <td>6.5</td>\n",
       "    </tr>\n",
       "  </tbody>\n",
       "</table>\n",
       "</div>"
      ]
     },
     "execution_count": 84,
     "metadata": {},
     "output_type": "execute_result"
    }
   ],
   "execution_count": 84
  },
  {
   "cell_type": "code",
   "id": "1d22360ad4644488",
   "metadata": {
    "ExecuteTime": {
     "end_time": "2025-07-26T22:07:53.901262Z",
     "start_time": "2025-07-26T22:07:53.894723Z"
    }
   },
   "source": [
    "df[2][1]"
   ],
   "outputs": [
    {
     "data": {
      "text/plain": [
       "6.5"
      ]
     },
     "execution_count": 85,
     "metadata": {},
     "output_type": "execute_result"
    }
   ],
   "execution_count": 85
  },
  {
   "cell_type": "markdown",
   "id": "c7d1e9da2ae84384",
   "metadata": {},
   "source": [
    "## Machine Learning is = finding patterns in Numpy Arrays"
   ]
  },
  {
   "cell_type": "markdown",
   "id": "8d282187f3aab483",
   "metadata": {},
   "source": [
    "## Creating Arrays"
   ]
  },
  {
   "cell_type": "code",
   "id": "18d0b7914d7e1442",
   "metadata": {
    "ExecuteTime": {
     "end_time": "2025-07-26T22:07:54.017050Z",
     "start_time": "2025-07-26T22:07:54.011737Z"
    }
   },
   "source": [
    "import numpy as np\n",
    "sample_array = np.array([1, 2, 3])\n",
    "print(\"the type is: \")\n",
    "type(sample_array)"
   ],
   "outputs": [
    {
     "name": "stdout",
     "output_type": "stream",
     "text": [
      "the type is: \n"
     ]
    },
    {
     "data": {
      "text/plain": [
       "numpy.ndarray"
      ]
     },
     "execution_count": 86,
     "metadata": {},
     "output_type": "execute_result"
    }
   ],
   "execution_count": 86
  },
  {
   "cell_type": "code",
   "id": "ffbd07cf6d8e74bb",
   "metadata": {
    "ExecuteTime": {
     "end_time": "2025-07-26T22:07:54.098511Z",
     "start_time": "2025-07-26T22:07:54.093392Z"
    }
   },
   "source": [
    "print(\"the data type is: \")\n",
    "sample_array.dtype"
   ],
   "outputs": [
    {
     "name": "stdout",
     "output_type": "stream",
     "text": [
      "the data type is: \n"
     ]
    },
    {
     "data": {
      "text/plain": [
       "dtype('int32')"
      ]
     },
     "execution_count": 87,
     "metadata": {},
     "output_type": "execute_result"
    }
   ],
   "execution_count": 87
  },
  {
   "cell_type": "code",
   "id": "98550f15c358f64c",
   "metadata": {
    "ExecuteTime": {
     "end_time": "2025-07-26T22:07:54.164776Z",
     "start_time": "2025-07-26T22:07:54.159378Z"
    }
   },
   "source": [
    "# 4x4 array filled with ones\n",
    "ashape = (4, 4)\n",
    "ones = np.ones(ashape)\n",
    "ones"
   ],
   "outputs": [
    {
     "data": {
      "text/plain": [
       "array([[1., 1., 1., 1.],\n",
       "       [1., 1., 1., 1.],\n",
       "       [1., 1., 1., 1.],\n",
       "       [1., 1., 1., 1.]])"
      ]
     },
     "execution_count": 88,
     "metadata": {},
     "output_type": "execute_result"
    }
   ],
   "execution_count": 88
  },
  {
   "cell_type": "code",
   "id": "c078a25b9e0ebb9b",
   "metadata": {
    "ExecuteTime": {
     "end_time": "2025-07-26T22:07:54.241142Z",
     "start_time": "2025-07-26T22:07:54.235201Z"
    }
   },
   "source": [
    "ones.dtype"
   ],
   "outputs": [
    {
     "data": {
      "text/plain": [
       "dtype('float64')"
      ]
     },
     "execution_count": 89,
     "metadata": {},
     "output_type": "execute_result"
    }
   ],
   "execution_count": 89
  },
  {
   "cell_type": "code",
   "id": "6c22e5de7665d85f",
   "metadata": {
    "ExecuteTime": {
     "end_time": "2025-07-26T22:07:54.498077Z",
     "start_time": "2025-07-26T22:07:54.491793Z"
    }
   },
   "source": [
    "type(ones)"
   ],
   "outputs": [
    {
     "data": {
      "text/plain": [
       "numpy.ndarray"
      ]
     },
     "execution_count": 90,
     "metadata": {},
     "output_type": "execute_result"
    }
   ],
   "execution_count": 90
  },
  {
   "cell_type": "code",
   "id": "35ac8c5a8391e03",
   "metadata": {
    "ExecuteTime": {
     "end_time": "2025-07-26T22:07:54.543924Z",
     "start_time": "2025-07-26T22:07:54.538214Z"
    }
   },
   "source": [
    "# 4x4 array filled with zeros\n",
    "zeros = np.zeros(ashape)\n",
    "zeros"
   ],
   "outputs": [
    {
     "data": {
      "text/plain": [
       "array([[0., 0., 0., 0.],\n",
       "       [0., 0., 0., 0.],\n",
       "       [0., 0., 0., 0.],\n",
       "       [0., 0., 0., 0.]])"
      ]
     },
     "execution_count": 91,
     "metadata": {},
     "output_type": "execute_result"
    }
   ],
   "execution_count": 91
  },
  {
   "cell_type": "code",
   "id": "6933825aea4fcd2",
   "metadata": {
    "ExecuteTime": {
     "end_time": "2025-07-26T22:07:54.628197Z",
     "start_time": "2025-07-26T22:07:54.621961Z"
    }
   },
   "source": [
    "# Create array from 0 to 100 - noninclusive - and increment value 5 steps...\n",
    "range_array = np.arange(0, 100, 5, dtype=int)\n",
    "range_array"
   ],
   "outputs": [
    {
     "data": {
      "text/plain": [
       "array([ 0,  5, 10, 15, 20, 25, 30, 35, 40, 45, 50, 55, 60, 65, 70, 75, 80,\n",
       "       85, 90, 95])"
      ]
     },
     "execution_count": 92,
     "metadata": {},
     "output_type": "execute_result"
    }
   ],
   "execution_count": 92
  },
  {
   "cell_type": "code",
   "id": "56d035cd411bb5a",
   "metadata": {
    "ExecuteTime": {
     "end_time": "2025-07-26T22:07:54.706415Z",
     "start_time": "2025-07-26T22:07:54.698497Z"
    }
   },
   "source": [
    "# Random Array with value ranging from 0 to 10 and make it 2-D per (ashape = (4, 4))\n",
    "random_array = np.random.randint(0, 10, size=ashape)\n",
    "random_array"
   ],
   "outputs": [
    {
     "data": {
      "text/plain": [
       "array([[9, 5, 7, 5],\n",
       "       [2, 6, 9, 3],\n",
       "       [3, 9, 0, 6],\n",
       "       [2, 3, 1, 8]])"
      ]
     },
     "execution_count": 93,
     "metadata": {},
     "output_type": "execute_result"
    }
   ],
   "execution_count": 93
  },
  {
   "cell_type": "code",
   "id": "54803d2c8e3d7792",
   "metadata": {
    "ExecuteTime": {
     "end_time": "2025-07-26T22:07:54.828697Z",
     "start_time": "2025-07-26T22:07:54.823340Z"
    }
   },
   "source": [
    "# show size nd shape of hte ransom array\n",
    "random_array.dtype"
   ],
   "outputs": [
    {
     "data": {
      "text/plain": [
       "dtype('int32')"
      ]
     },
     "execution_count": 94,
     "metadata": {},
     "output_type": "execute_result"
    }
   ],
   "execution_count": 94
  },
  {
   "cell_type": "code",
   "id": "8fa29e2b3acef325",
   "metadata": {
    "ExecuteTime": {
     "end_time": "2025-07-26T22:07:54.938715Z",
     "start_time": "2025-07-26T22:07:54.933916Z"
    }
   },
   "source": [
    "random_array.shape"
   ],
   "outputs": [
    {
     "data": {
      "text/plain": [
       "(4, 4)"
      ]
     },
     "execution_count": 95,
     "metadata": {},
     "output_type": "execute_result"
    }
   ],
   "execution_count": 95
  },
  {
   "cell_type": "code",
   "id": "7a0fc7b8d102e3ea",
   "metadata": {
    "ExecuteTime": {
     "end_time": "2025-07-26T22:07:55.046830Z",
     "start_time": "2025-07-26T22:07:55.041332Z"
    }
   },
   "source": [
    "random_array.size"
   ],
   "outputs": [
    {
     "data": {
      "text/plain": [
       "16"
      ]
     },
     "execution_count": 96,
     "metadata": {},
     "output_type": "execute_result"
    }
   ],
   "execution_count": 96
  },
  {
   "cell_type": "code",
   "id": "7fffe2ceda95410b",
   "metadata": {
    "ExecuteTime": {
     "end_time": "2025-07-26T22:07:55.114758Z",
     "start_time": "2025-07-26T22:07:55.105015Z"
    }
   },
   "source": [
    "# random.random will return random floats between 0 and 1 ... I can multiply them all by 100\n",
    "randarray = np.random.random((8, 8))\n",
    "randarray"
   ],
   "outputs": [
    {
     "data": {
      "text/plain": [
       "array([[0.49794007, 0.67941112, 0.65078591, 0.26879524, 0.06732467,\n",
       "        0.77144514, 0.48098413, 0.32920641],\n",
       "       [0.51064106, 0.26362883, 0.31051155, 0.62685344, 0.55744981,\n",
       "        0.31857956, 0.39484322, 0.25797459],\n",
       "       [0.58224112, 0.16162871, 0.59813382, 0.82582358, 0.15639172,\n",
       "        0.73430052, 0.40864343, 0.7786879 ],\n",
       "       [0.80397057, 0.78607144, 0.59228702, 0.6644892 , 0.64656729,\n",
       "        0.42563648, 0.51356833, 0.50125784],\n",
       "       [0.03708381, 0.7081161 , 0.6204306 , 0.77780853, 0.45940947,\n",
       "        0.37980555, 0.2918922 , 0.55722886],\n",
       "       [0.0841636 , 0.63128167, 0.94457049, 0.89123753, 0.87858258,\n",
       "        0.34475163, 0.70310053, 0.5273376 ],\n",
       "       [0.65931696, 0.26829063, 0.60776708, 0.04815737, 0.69550064,\n",
       "        0.29927188, 0.16563555, 0.33225194],\n",
       "       [0.16543775, 0.91463798, 0.28402501, 0.10760726, 0.11700177,\n",
       "        0.7555236 , 0.83889446, 0.03553703]])"
      ]
     },
     "execution_count": 97,
     "metadata": {},
     "output_type": "execute_result"
    }
   ],
   "execution_count": 97
  },
  {
   "cell_type": "code",
   "id": "61894e1e9c486f00",
   "metadata": {
    "ExecuteTime": {
     "end_time": "2025-07-26T22:07:55.192322Z",
     "start_time": "2025-07-26T22:07:55.184916Z"
    }
   },
   "source": [
    "# Quick way to multiply ALL elements in this 2-D array by a constant (100)\n",
    "randarray100 = randarray * 100\n",
    "randarray100"
   ],
   "outputs": [
    {
     "data": {
      "text/plain": [
       "array([[49.79400733, 67.94111176, 65.07859141, 26.87952387,  6.73246669,\n",
       "        77.14451384, 48.09841323, 32.92064077],\n",
       "       [51.06410562, 26.36288287, 31.051155  , 62.68534377, 55.74498106,\n",
       "        31.85795596, 39.48432209, 25.79745859],\n",
       "       [58.22411233, 16.16287104, 59.81338198, 82.58235773, 15.63917185,\n",
       "        73.43005193, 40.86434321, 77.86879044],\n",
       "       [80.39705676, 78.60714435, 59.22870187, 66.44892028, 64.65672868,\n",
       "        42.5636479 , 51.35683338, 50.12578437],\n",
       "       [ 3.70838109, 70.81160952, 62.04306002, 77.78085346, 45.94094656,\n",
       "        37.98055547, 29.18922036, 55.72288625],\n",
       "       [ 8.41636017, 63.12816691, 94.45704879, 89.12375349, 87.85825798,\n",
       "        34.4751627 , 70.3100532 , 52.73376047],\n",
       "       [65.93169556, 26.82906337, 60.77670794,  4.815737  , 69.55006394,\n",
       "        29.92718777, 16.56355549, 33.22519401],\n",
       "       [16.54377455, 91.4637981 , 28.40250059, 10.76072648, 11.70017702,\n",
       "        75.55235988, 83.88944582,  3.55370267]])"
      ]
     },
     "execution_count": 98,
     "metadata": {},
     "output_type": "execute_result"
    }
   ],
   "execution_count": 98
  },
  {
   "cell_type": "markdown",
   "id": "53db77e09e780c3d",
   "metadata": {},
   "source": [
    "## Pseudo random numbers are generated ... look into using a seed\n",
    "seed(seed=None)\n",
    "\n",
    "\n",
    "Reseed a legacy MT19937 BitGenerator\n",
    "This is a convenience, legacy function.\n",
    "The best practice is to not reseed a BitGenerator, rather to recreate a new one. This method is here for legacy reasons. This example demonstrates best practice.\n",
    ">>> from numpy.random import MT19937\n",
    ">>> from numpy.random import RandomState, SeedSequence\n",
    ">>> rs = RandomState(MT19937(SeedSequence(123456789)))\n",
    "### Later, you want to restart the stream\n",
    ">>> rs = RandomState(MT19937(SeedSequence(987654321)))"
   ]
  },
  {
   "cell_type": "code",
   "id": "119e2f3e222fee75",
   "metadata": {
    "ExecuteTime": {
     "end_time": "2025-07-26T22:07:55.312427Z",
     "start_time": "2025-07-26T22:07:55.305183Z"
    }
   },
   "source": [
    "np.random.seed()\n",
    "randarray100"
   ],
   "outputs": [
    {
     "data": {
      "text/plain": [
       "array([[49.79400733, 67.94111176, 65.07859141, 26.87952387,  6.73246669,\n",
       "        77.14451384, 48.09841323, 32.92064077],\n",
       "       [51.06410562, 26.36288287, 31.051155  , 62.68534377, 55.74498106,\n",
       "        31.85795596, 39.48432209, 25.79745859],\n",
       "       [58.22411233, 16.16287104, 59.81338198, 82.58235773, 15.63917185,\n",
       "        73.43005193, 40.86434321, 77.86879044],\n",
       "       [80.39705676, 78.60714435, 59.22870187, 66.44892028, 64.65672868,\n",
       "        42.5636479 , 51.35683338, 50.12578437],\n",
       "       [ 3.70838109, 70.81160952, 62.04306002, 77.78085346, 45.94094656,\n",
       "        37.98055547, 29.18922036, 55.72288625],\n",
       "       [ 8.41636017, 63.12816691, 94.45704879, 89.12375349, 87.85825798,\n",
       "        34.4751627 , 70.3100532 , 52.73376047],\n",
       "       [65.93169556, 26.82906337, 60.77670794,  4.815737  , 69.55006394,\n",
       "        29.92718777, 16.56355549, 33.22519401],\n",
       "       [16.54377455, 91.4637981 , 28.40250059, 10.76072648, 11.70017702,\n",
       "        75.55235988, 83.88944582,  3.55370267]])"
      ]
     },
     "execution_count": 99,
     "metadata": {},
     "output_type": "execute_result"
    }
   ],
   "execution_count": 99
  },
  {
   "cell_type": "code",
   "id": "724282ad8565d907",
   "metadata": {
    "ExecuteTime": {
     "end_time": "2025-07-26T22:07:55.499178Z",
     "start_time": "2025-07-26T22:07:55.492196Z"
    }
   },
   "source": [
    "# Pseudo random numbers\n",
    "np.random.seed(seed=20)\n",
    "# These all appear as random but if you want reproducible random numbers for the sake of re-creating an issue for instance, you can use a seed()\n",
    "random_array_4 = np.random.randint(10, size=(5, 3))\n",
    "random_array_4\n"
   ],
   "outputs": [
    {
     "data": {
      "text/plain": [
       "array([[3, 9, 4],\n",
       "       [6, 7, 2],\n",
       "       [0, 6, 8],\n",
       "       [5, 3, 0],\n",
       "       [6, 6, 0]])"
      ]
     },
     "execution_count": 100,
     "metadata": {},
     "output_type": "execute_result"
    }
   ],
   "execution_count": 100
  },
  {
   "metadata": {
    "ExecuteTime": {
     "end_time": "2025-07-26T22:07:55.641095Z",
     "start_time": "2025-07-26T22:07:55.637149Z"
    }
   },
   "cell_type": "code",
   "outputs": [],
   "execution_count": 101,
   "source": [
    "#finding unique numbers in an array\n",
    "unique_array = np.unique([1, 2, 3, 4, 5, 1, 1, 2, 2, 44])"
   ],
   "id": "67c4fbe8e2525c28"
  },
  {
   "metadata": {
    "ExecuteTime": {
     "end_time": "2025-07-26T22:07:55.759971Z",
     "start_time": "2025-07-26T22:07:55.755466Z"
    }
   },
   "cell_type": "code",
   "source": [
    "# @hen displaying these, it's important to remember that 'unique' is different than 'not a duplicate' ... this takes all numbers and return 1 vale for each, regardless of how many of that particular value are found in the array\n",
    "unique_array"
   ],
   "id": "11b075dd89b6706c",
   "outputs": [
    {
     "data": {
      "text/plain": [
       "array([ 1,  2,  3,  4,  5, 44])"
      ]
     },
     "execution_count": 102,
     "metadata": {},
     "output_type": "execute_result"
    }
   ],
   "execution_count": 102
  },
  {
   "metadata": {
    "ExecuteTime": {
     "end_time": "2025-07-26T22:07:55.860362Z",
     "start_time": "2025-07-26T22:07:55.854525Z"
    }
   },
   "cell_type": "code",
   "source": [
    "# Now try unique with the random array of integers\n",
    "unique_rand = np.unique(random_array_4)\n",
    "unique_rand"
   ],
   "id": "bde33b6840b8e480",
   "outputs": [
    {
     "data": {
      "text/plain": [
       "array([0, 2, 3, 4, 5, 6, 7, 8, 9])"
      ]
     },
     "execution_count": 103,
     "metadata": {},
     "output_type": "execute_result"
    }
   ],
   "execution_count": 103
  },
  {
   "metadata": {
    "ExecuteTime": {
     "end_time": "2025-07-26T22:07:55.975302Z",
     "start_time": "2025-07-26T22:07:55.969740Z"
    }
   },
   "cell_type": "code",
   "source": "random_array_4",
   "id": "d6941cc8a32fbed2",
   "outputs": [
    {
     "data": {
      "text/plain": [
       "array([[3, 9, 4],\n",
       "       [6, 7, 2],\n",
       "       [0, 6, 8],\n",
       "       [5, 3, 0],\n",
       "       [6, 6, 0]])"
      ]
     },
     "execution_count": 104,
     "metadata": {},
     "output_type": "execute_result"
    }
   ],
   "execution_count": 104
  },
  {
   "metadata": {},
   "cell_type": "markdown",
   "source": "## 3. Viewing Arrays and Matrices",
   "id": "6142f9bf6adb7283"
  },
  {
   "metadata": {
    "ExecuteTime": {
     "end_time": "2025-07-26T22:08:57.141518Z",
     "start_time": "2025-07-26T22:08:57.135341Z"
    }
   },
   "cell_type": "code",
   "source": "a1",
   "id": "72f59db9f51fbe42",
   "outputs": [
    {
     "data": {
      "text/plain": [
       "array([1, 2, 3])"
      ]
     },
     "execution_count": 105,
     "metadata": {},
     "output_type": "execute_result"
    }
   ],
   "execution_count": 105
  },
  {
   "metadata": {
    "ExecuteTime": {
     "end_time": "2025-07-26T22:08:59.137498Z",
     "start_time": "2025-07-26T22:08:59.131935Z"
    }
   },
   "cell_type": "code",
   "source": "a2",
   "id": "10b029f1aa4ff8b7",
   "outputs": [
    {
     "data": {
      "text/plain": [
       "array([[1. , 2. , 3. ],\n",
       "       [4. , 5. , 6.5]])"
      ]
     },
     "execution_count": 106,
     "metadata": {},
     "output_type": "execute_result"
    }
   ],
   "execution_count": 106
  },
  {
   "metadata": {
    "ExecuteTime": {
     "end_time": "2025-07-26T22:12:18.146606Z",
     "start_time": "2025-07-26T22:12:18.136863Z"
    }
   },
   "cell_type": "code",
   "source": [
    "print(a3) # 2x3x3\n",
    "a3.shape"
   ],
   "id": "baead0f84ef244d7",
   "outputs": [
    {
     "name": "stdout",
     "output_type": "stream",
     "text": [
      "[[[ 1  2  3]\n",
      "  [ 4  5  6]\n",
      "  [ 7  8  9]]\n",
      "\n",
      " [[10 11 12]\n",
      "  [13 14 15]\n",
      "  [16 17 18]]]\n"
     ]
    },
    {
     "data": {
      "text/plain": [
       "(2, 3, 3)"
      ]
     },
     "execution_count": 110,
     "metadata": {},
     "output_type": "execute_result"
    }
   ],
   "execution_count": 110
  },
  {
   "metadata": {
    "ExecuteTime": {
     "end_time": "2025-07-26T22:22:58.697983Z",
     "start_time": "2025-07-26T22:22:58.691793Z"
    }
   },
   "cell_type": "code",
   "source": [
    "print(\"Get all of the first elements\")\n",
    "print(\"****\")\n",
    "print(a1[0])\n",
    "print(\"****\")\n",
    "print(a2[0])\n",
    "print(\"****\")\n",
    "print(a3[0])\n",
    "print(\"****\")"
   ],
   "id": "1c3fe47d0e6e8c74",
   "outputs": [
    {
     "name": "stdout",
     "output_type": "stream",
     "text": [
      "Get all of the first elements\n",
      "****\n",
      "1\n",
      "****\n",
      "[1. 2. 3.]\n",
      "****\n",
      "[[1 2 3]\n",
      " [4 5 6]\n",
      " [7 8 9]]\n",
      "****\n"
     ]
    }
   ],
   "execution_count": 115
  },
  {
   "metadata": {
    "ExecuteTime": {
     "end_time": "2025-07-26T22:27:33.892956Z",
     "start_time": "2025-07-26T22:27:33.886639Z"
    }
   },
   "cell_type": "code",
   "source": [
    "a4 = np.random.randint(10, size=(2, 3, 4, 5))\n",
    "a4"
   ],
   "id": "7b63952f123e84fa",
   "outputs": [
    {
     "data": {
      "text/plain": [
       "array([[[[9, 5, 7, 5, 2],\n",
       "         [6, 9, 3, 3, 9],\n",
       "         [0, 6, 2, 3, 1],\n",
       "         [8, 0, 2, 7, 6]],\n",
       "\n",
       "        [[6, 8, 2, 1, 3],\n",
       "         [2, 6, 9, 4, 6],\n",
       "         [4, 8, 6, 2, 3],\n",
       "         [1, 5, 2, 1, 8]],\n",
       "\n",
       "        [[2, 4, 4, 8, 6],\n",
       "         [0, 3, 4, 0, 5],\n",
       "         [6, 9, 7, 4, 0],\n",
       "         [6, 1, 9, 6, 7]]],\n",
       "\n",
       "\n",
       "       [[[9, 7, 6, 9, 8],\n",
       "         [8, 2, 2, 1, 5],\n",
       "         [2, 9, 7, 5, 5],\n",
       "         [9, 6, 9, 9, 5]],\n",
       "\n",
       "        [[2, 9, 6, 1, 8],\n",
       "         [1, 0, 8, 5, 0],\n",
       "         [6, 5, 4, 2, 9],\n",
       "         [9, 4, 5, 3, 9]],\n",
       "\n",
       "        [[7, 1, 2, 3, 6],\n",
       "         [5, 4, 4, 1, 8],\n",
       "         [7, 1, 9, 2, 3],\n",
       "         [4, 4, 4, 9, 0]]]])"
      ]
     },
     "execution_count": 116,
     "metadata": {},
     "output_type": "execute_result"
    }
   ],
   "execution_count": 116
  },
  {
   "metadata": {
    "ExecuteTime": {
     "end_time": "2025-07-26T22:35:36.661964Z",
     "start_time": "2025-07-26T22:35:36.656472Z"
    }
   },
   "cell_type": "code",
   "source": "a4.shape, a4.ndim",
   "id": "d6486ea58af82871",
   "outputs": [
    {
     "data": {
      "text/plain": [
       "((2, 3, 4, 5), 4)"
      ]
     },
     "execution_count": 117,
     "metadata": {},
     "output_type": "execute_result"
    }
   ],
   "execution_count": 117
  },
  {
   "metadata": {
    "ExecuteTime": {
     "end_time": "2025-07-26T22:53:12.278084Z",
     "start_time": "2025-07-26T22:53:12.272381Z"
    }
   },
   "cell_type": "code",
   "source": "a4[1][0][2][4]",
   "id": "a954491ff4d0b09c",
   "outputs": [
    {
     "data": {
      "text/plain": [
       "5"
      ]
     },
     "execution_count": 133,
     "metadata": {},
     "output_type": "execute_result"
    }
   ],
   "execution_count": 133
  },
  {
   "metadata": {
    "ExecuteTime": {
     "end_time": "2025-07-26T22:46:29.652267Z",
     "start_time": "2025-07-26T22:46:29.634668Z"
    }
   },
   "cell_type": "code",
   "source": "a3",
   "id": "ac1854b84ba29e17",
   "outputs": [
    {
     "data": {
      "text/plain": [
       "array([[[ 1,  2,  3],\n",
       "        [ 4,  5,  6],\n",
       "        [ 7,  8,  9]],\n",
       "\n",
       "       [[10, 11, 12],\n",
       "        [13, 14, 15],\n",
       "        [16, 17, 18]]])"
      ]
     },
     "execution_count": 122,
     "metadata": {},
     "output_type": "execute_result"
    }
   ],
   "execution_count": 122
  },
  {
   "metadata": {
    "ExecuteTime": {
     "end_time": "2025-07-26T22:48:48.566542Z",
     "start_time": "2025-07-26T22:48:48.560027Z"
    }
   },
   "cell_type": "code",
   "source": "a3_split = a3[:2, :3, 2:3]",
   "id": "e2d45bea6554cf86",
   "outputs": [],
   "execution_count": 129
  },
  {
   "metadata": {
    "ExecuteTime": {
     "end_time": "2025-07-26T22:48:58.173418Z",
     "start_time": "2025-07-26T22:48:58.159581Z"
    }
   },
   "cell_type": "code",
   "source": "print(a3_split)",
   "id": "ddb19457b900ab2e",
   "outputs": [
    {
     "name": "stdout",
     "output_type": "stream",
     "text": [
      "[[[ 3]\n",
      "  [ 6]\n",
      "  [ 9]]\n",
      "\n",
      " [[12]\n",
      "  [15]\n",
      "  [18]]]\n"
     ]
    }
   ],
   "execution_count": 130
  },
  {
   "metadata": {},
   "cell_type": "markdown",
   "source": "## Manipulating and Comparing arrays",
   "id": "7e179998476042c3"
  },
  {
   "metadata": {},
   "cell_type": "code",
   "outputs": [],
   "execution_count": null,
   "source": "",
   "id": "5e38dffa32691bc5"
  }
 ],
 "metadata": {
  "kernelspec": {
   "display_name": "Python 3 (ipykernel)",
   "language": "python",
   "name": "python3"
  },
  "language_info": {
   "codemirror_mode": {
    "name": "ipython",
    "version": 3
   },
   "file_extension": ".py",
   "mimetype": "text/x-python",
   "name": "python",
   "nbconvert_exporter": "python",
   "pygments_lexer": "ipython3",
   "version": "3.12.2"
  }
 },
 "nbformat": 4,
 "nbformat_minor": 5
}
