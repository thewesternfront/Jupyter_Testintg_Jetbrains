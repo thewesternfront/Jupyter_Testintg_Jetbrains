{
 "cells": [
  {
   "cell_type": "code",
   "id": "befd2d4c-270f-4452-be9b-3e5d722f6fb3",
   "metadata": {
    "ExecuteTime": {
     "end_time": "2025-07-23T20:43:56.682988Z",
     "start_time": "2025-07-23T20:43:55.946481Z"
    }
   },
   "source": [
    "import numpy as np\n",
    "from numpy import dtype"
   ],
   "outputs": [],
   "execution_count": 1
  },
  {
   "cell_type": "markdown",
   "id": "a1f7551a-ee77-471e-890c-daf9504c9d1c",
   "metadata": {},
   "source": [
    "## Data Types and Attributes"
   ]
  },
  {
   "metadata": {
    "ExecuteTime": {
     "end_time": "2025-07-23T20:43:56.704312Z",
     "start_time": "2025-07-23T20:43:56.695808Z"
    }
   },
   "cell_type": "code",
   "source": [
    "a1 = np.array([1, 2, 3])\n",
    "type(a1)"
   ],
   "id": "d8b0e988-0ef5-456b-9afb-6277062b36f9",
   "outputs": [
    {
     "data": {
      "text/plain": [
       "numpy.ndarray"
      ]
     },
     "execution_count": 2,
     "metadata": {},
     "output_type": "execute_result"
    }
   ],
   "execution_count": 2
  },
  {
   "metadata": {},
   "cell_type": "markdown",
   "source": "![](IMG_3155.jpg)",
   "id": "87d5c7288cb54dc7"
  },
  {
   "cell_type": "code",
   "id": "cfd66601-6ae3-4b52-93e8-9d77d027e2fd",
   "metadata": {
    "ExecuteTime": {
     "end_time": "2025-07-23T20:43:57.100068Z",
     "start_time": "2025-07-23T20:43:57.094813Z"
    }
   },
   "source": [
    "# 2x3\n",
    "a2 = np.array([[1, 2.0, 3.0],\n",
    "       [4, 5, 6.5]])\n",
    "\n",
    "# 3x3x2 n-dimensional array?\n",
    "a3 = np.array([[[1, 2, 3],\n",
    "        [4, 5, 6],\n",
    "        [7, 8, 9]],\n",
    "       [[10, 11, 12],\n",
    "        [13, 14, 15],\n",
    "        [16, 17, 18]]])"
   ],
   "outputs": [],
   "execution_count": 3
  },
  {
   "metadata": {
    "ExecuteTime": {
     "end_time": "2025-07-23T20:43:57.124508Z",
     "start_time": "2025-07-23T20:43:57.116625Z"
    }
   },
   "cell_type": "code",
   "source": "a2",
   "id": "749a9ededb8b162d",
   "outputs": [
    {
     "data": {
      "text/plain": [
       "array([[1. , 2. , 3. ],\n",
       "       [4. , 5. , 6.5]])"
      ]
     },
     "execution_count": 4,
     "metadata": {},
     "output_type": "execute_result"
    }
   ],
   "execution_count": 4
  },
  {
   "metadata": {
    "ExecuteTime": {
     "end_time": "2025-07-23T20:43:59.110935Z",
     "start_time": "2025-07-23T20:43:59.103861Z"
    }
   },
   "cell_type": "code",
   "source": "a3",
   "id": "12074c463fc5b5a3",
   "outputs": [
    {
     "data": {
      "text/plain": [
       "array([[[ 1,  2,  3],\n",
       "        [ 4,  5,  6],\n",
       "        [ 7,  8,  9]],\n",
       "\n",
       "       [[10, 11, 12],\n",
       "        [13, 14, 15],\n",
       "        [16, 17, 18]]])"
      ]
     },
     "execution_count": 5,
     "metadata": {},
     "output_type": "execute_result"
    }
   ],
   "execution_count": 5
  },
  {
   "metadata": {
    "ExecuteTime": {
     "end_time": "2025-07-23T20:43:59.226421Z",
     "start_time": "2025-07-23T20:43:59.220741Z"
    }
   },
   "cell_type": "code",
   "source": "a1.shape",
   "id": "cd35a1729ecbcb01",
   "outputs": [
    {
     "data": {
      "text/plain": [
       "(3,)"
      ]
     },
     "execution_count": 6,
     "metadata": {},
     "output_type": "execute_result"
    }
   ],
   "execution_count": 6
  },
  {
   "metadata": {
    "ExecuteTime": {
     "end_time": "2025-07-23T20:43:59.276562Z",
     "start_time": "2025-07-23T20:43:59.271470Z"
    }
   },
   "cell_type": "code",
   "source": "a2.shape",
   "id": "ef81f094a6a829b6",
   "outputs": [
    {
     "data": {
      "text/plain": [
       "(2, 3)"
      ]
     },
     "execution_count": 7,
     "metadata": {},
     "output_type": "execute_result"
    }
   ],
   "execution_count": 7
  },
  {
   "metadata": {
    "ExecuteTime": {
     "end_time": "2025-07-23T20:43:59.347756Z",
     "start_time": "2025-07-23T20:43:59.342684Z"
    }
   },
   "cell_type": "code",
   "source": "a3.shape",
   "id": "464249299b8975a2",
   "outputs": [
    {
     "data": {
      "text/plain": [
       "(2, 3, 3)"
      ]
     },
     "execution_count": 8,
     "metadata": {},
     "output_type": "execute_result"
    }
   ],
   "execution_count": 8
  },
  {
   "metadata": {
    "ExecuteTime": {
     "end_time": "2025-07-23T20:43:59.407515Z",
     "start_time": "2025-07-23T20:43:59.402722Z"
    }
   },
   "cell_type": "code",
   "source": [
    "# show the dimensions of hte n-dim arrays\n",
    "a1.ndim, a2.ndim, a3.ndim"
   ],
   "id": "b02fd051350b0e09",
   "outputs": [
    {
     "data": {
      "text/plain": [
       "(1, 2, 3)"
      ]
     },
     "execution_count": 9,
     "metadata": {},
     "output_type": "execute_result"
    }
   ],
   "execution_count": 9
  },
  {
   "metadata": {
    "ExecuteTime": {
     "end_time": "2025-07-23T20:43:59.469738Z",
     "start_time": "2025-07-23T20:43:59.463649Z"
    }
   },
   "cell_type": "code",
   "source": [
    "# Look at the data types dtype\n",
    "a1.dtype, a2.dtype, a3.dtype"
   ],
   "id": "da8007bcbcafb19b",
   "outputs": [
    {
     "data": {
      "text/plain": [
       "(dtype('int32'), dtype('float64'), dtype('int32'))"
      ]
     },
     "execution_count": 10,
     "metadata": {},
     "output_type": "execute_result"
    }
   ],
   "execution_count": 10
  },
  {
   "metadata": {
    "ExecuteTime": {
     "end_time": "2025-07-23T20:43:59.532769Z",
     "start_time": "2025-07-23T20:43:59.528357Z"
    }
   },
   "cell_type": "code",
   "source": "print(a2[1][1])",
   "id": "e52407dbe2eb78f4",
   "outputs": [
    {
     "name": "stdout",
     "output_type": "stream",
     "text": [
      "5.0\n"
     ]
    }
   ],
   "execution_count": 11
  },
  {
   "metadata": {
    "ExecuteTime": {
     "end_time": "2025-07-23T20:43:59.593206Z",
     "start_time": "2025-07-23T20:43:59.588132Z"
    }
   },
   "cell_type": "code",
   "source": [
    "# Show Sizes (number of elements in each n-dim array)\n",
    "a1.size, a2.size, a3.size"
   ],
   "id": "e5074f41b8cc5b7",
   "outputs": [
    {
     "data": {
      "text/plain": [
       "(3, 6, 18)"
      ]
     },
     "execution_count": 12,
     "metadata": {},
     "output_type": "execute_result"
    }
   ],
   "execution_count": 12
  },
  {
   "metadata": {
    "ExecuteTime": {
     "end_time": "2025-07-23T20:43:59.671318Z",
     "start_time": "2025-07-23T20:43:59.666900Z"
    }
   },
   "cell_type": "code",
   "source": "type(a1), type(a2), type(a3)",
   "id": "ac83e8c3e08338d9",
   "outputs": [
    {
     "data": {
      "text/plain": [
       "(numpy.ndarray, numpy.ndarray, numpy.ndarray)"
      ]
     },
     "execution_count": 13,
     "metadata": {},
     "output_type": "execute_result"
    }
   ],
   "execution_count": 13
  },
  {
   "metadata": {},
   "cell_type": "markdown",
   "source": "## Create a Data Frame (pandas) from a Numpy Array (numpy)",
   "id": "daec920fd550c8f1"
  },
  {
   "metadata": {
    "ExecuteTime": {
     "end_time": "2025-07-23T20:43:59.718050Z",
     "start_time": "2025-07-23T20:43:59.713825Z"
    }
   },
   "cell_type": "code",
   "source": [
    "import pandas as pd\n",
    "df = pd.DataFrame(a2)"
   ],
   "id": "610518fdf3f71f56",
   "outputs": [],
   "execution_count": 14
  },
  {
   "metadata": {
    "ExecuteTime": {
     "end_time": "2025-07-23T20:43:59.754571Z",
     "start_time": "2025-07-23T20:43:59.744265Z"
    }
   },
   "cell_type": "code",
   "source": "df",
   "id": "7dfdaa3ed1d3f708",
   "outputs": [
    {
     "data": {
      "text/plain": [
       "     0    1    2\n",
       "0  1.0  2.0  3.0\n",
       "1  4.0  5.0  6.5"
      ],
      "text/html": [
       "<div>\n",
       "<style scoped>\n",
       "    .dataframe tbody tr th:only-of-type {\n",
       "        vertical-align: middle;\n",
       "    }\n",
       "\n",
       "    .dataframe tbody tr th {\n",
       "        vertical-align: top;\n",
       "    }\n",
       "\n",
       "    .dataframe thead th {\n",
       "        text-align: right;\n",
       "    }\n",
       "</style>\n",
       "<table border=\"1\" class=\"dataframe\">\n",
       "  <thead>\n",
       "    <tr style=\"text-align: right;\">\n",
       "      <th></th>\n",
       "      <th>0</th>\n",
       "      <th>1</th>\n",
       "      <th>2</th>\n",
       "    </tr>\n",
       "  </thead>\n",
       "  <tbody>\n",
       "    <tr>\n",
       "      <th>0</th>\n",
       "      <td>1.0</td>\n",
       "      <td>2.0</td>\n",
       "      <td>3.0</td>\n",
       "    </tr>\n",
       "    <tr>\n",
       "      <th>1</th>\n",
       "      <td>4.0</td>\n",
       "      <td>5.0</td>\n",
       "      <td>6.5</td>\n",
       "    </tr>\n",
       "  </tbody>\n",
       "</table>\n",
       "</div>"
      ]
     },
     "execution_count": 15,
     "metadata": {},
     "output_type": "execute_result"
    }
   ],
   "execution_count": 15
  },
  {
   "metadata": {
    "ExecuteTime": {
     "end_time": "2025-07-23T20:43:59.842624Z",
     "start_time": "2025-07-23T20:43:59.836761Z"
    }
   },
   "cell_type": "code",
   "source": "df[2][1]",
   "id": "1d22360ad4644488",
   "outputs": [
    {
     "data": {
      "text/plain": [
       "6.5"
      ]
     },
     "execution_count": 16,
     "metadata": {},
     "output_type": "execute_result"
    }
   ],
   "execution_count": 16
  },
  {
   "metadata": {},
   "cell_type": "markdown",
   "source": "## Machine Learning is = finding patterns in Numpy Arrays",
   "id": "c7d1e9da2ae84384"
  },
  {
   "metadata": {},
   "cell_type": "markdown",
   "source": "## Creating Arrays",
   "id": "8d282187f3aab483"
  },
  {
   "metadata": {
    "ExecuteTime": {
     "end_time": "2025-07-23T20:43:59.978260Z",
     "start_time": "2025-07-23T20:43:59.971304Z"
    }
   },
   "cell_type": "code",
   "source": [
    "import numpy as np\n",
    "sample_array = np.array([1, 2, 3])\n",
    "print(\"the type is: \")\n",
    "type(sample_array)"
   ],
   "id": "18d0b7914d7e1442",
   "outputs": [
    {
     "name": "stdout",
     "output_type": "stream",
     "text": [
      "the type is: \n"
     ]
    },
    {
     "data": {
      "text/plain": [
       "numpy.ndarray"
      ]
     },
     "execution_count": 17,
     "metadata": {},
     "output_type": "execute_result"
    }
   ],
   "execution_count": 17
  },
  {
   "metadata": {
    "ExecuteTime": {
     "end_time": "2025-07-23T20:44:00.103085Z",
     "start_time": "2025-07-23T20:44:00.097796Z"
    }
   },
   "cell_type": "code",
   "source": [
    "print(\"the data type is: \")\n",
    "sample_array.dtype"
   ],
   "id": "ffbd07cf6d8e74bb",
   "outputs": [
    {
     "name": "stdout",
     "output_type": "stream",
     "text": [
      "the data type is: \n"
     ]
    },
    {
     "data": {
      "text/plain": [
       "dtype('int32')"
      ]
     },
     "execution_count": 18,
     "metadata": {},
     "output_type": "execute_result"
    }
   ],
   "execution_count": 18
  },
  {
   "metadata": {
    "ExecuteTime": {
     "end_time": "2025-07-23T20:44:00.150606Z",
     "start_time": "2025-07-23T20:44:00.145240Z"
    }
   },
   "cell_type": "code",
   "source": [
    "# 4x4 array filled with ones\n",
    "ashape = (4, 4)\n",
    "ones = np.ones(ashape)\n",
    "ones"
   ],
   "id": "98550f15c358f64c",
   "outputs": [
    {
     "data": {
      "text/plain": [
       "array([[1., 1., 1., 1.],\n",
       "       [1., 1., 1., 1.],\n",
       "       [1., 1., 1., 1.],\n",
       "       [1., 1., 1., 1.]])"
      ]
     },
     "execution_count": 19,
     "metadata": {},
     "output_type": "execute_result"
    }
   ],
   "execution_count": 19
  },
  {
   "metadata": {
    "ExecuteTime": {
     "end_time": "2025-07-23T20:44:00.236406Z",
     "start_time": "2025-07-23T20:44:00.231278Z"
    }
   },
   "cell_type": "code",
   "source": "ones.dtype",
   "id": "c078a25b9e0ebb9b",
   "outputs": [
    {
     "data": {
      "text/plain": [
       "dtype('float64')"
      ]
     },
     "execution_count": 20,
     "metadata": {},
     "output_type": "execute_result"
    }
   ],
   "execution_count": 20
  },
  {
   "metadata": {
    "ExecuteTime": {
     "end_time": "2025-07-23T20:44:00.358333Z",
     "start_time": "2025-07-23T20:44:00.353614Z"
    }
   },
   "cell_type": "code",
   "source": "type(ones)",
   "id": "6c22e5de7665d85f",
   "outputs": [
    {
     "data": {
      "text/plain": [
       "numpy.ndarray"
      ]
     },
     "execution_count": 21,
     "metadata": {},
     "output_type": "execute_result"
    }
   ],
   "execution_count": 21
  },
  {
   "metadata": {
    "ExecuteTime": {
     "end_time": "2025-07-23T20:44:00.416926Z",
     "start_time": "2025-07-23T20:44:00.408815Z"
    }
   },
   "cell_type": "code",
   "source": [
    "# 4x4 array filled with zeros\n",
    "zeros = np.zeros(ashape)\n",
    "zeros"
   ],
   "id": "35ac8c5a8391e03",
   "outputs": [
    {
     "data": {
      "text/plain": [
       "array([[0., 0., 0., 0.],\n",
       "       [0., 0., 0., 0.],\n",
       "       [0., 0., 0., 0.],\n",
       "       [0., 0., 0., 0.]])"
      ]
     },
     "execution_count": 22,
     "metadata": {},
     "output_type": "execute_result"
    }
   ],
   "execution_count": 22
  },
  {
   "metadata": {
    "ExecuteTime": {
     "end_time": "2025-07-23T20:44:00.502956Z",
     "start_time": "2025-07-23T20:44:00.498273Z"
    }
   },
   "cell_type": "code",
   "source": [
    "# Create array from 0 to 100 - noninclusive - and increment value 5 steps...\n",
    "range_array = np.arange(0, 100, 5, dtype=int)\n",
    "range_array"
   ],
   "id": "6933825aea4fcd2",
   "outputs": [
    {
     "data": {
      "text/plain": [
       "array([ 0,  5, 10, 15, 20, 25, 30, 35, 40, 45, 50, 55, 60, 65, 70, 75, 80,\n",
       "       85, 90, 95])"
      ]
     },
     "execution_count": 23,
     "metadata": {},
     "output_type": "execute_result"
    }
   ],
   "execution_count": 23
  },
  {
   "metadata": {
    "ExecuteTime": {
     "end_time": "2025-07-23T20:44:00.618968Z",
     "start_time": "2025-07-23T20:44:00.613422Z"
    }
   },
   "cell_type": "code",
   "source": [
    "# Random Array with value ranging from 0 to 10 and make it 2-D per (ashape = (4, 4))\n",
    "random_array = np.random.randint(0, 10, size=ashape)\n",
    "random_array"
   ],
   "id": "56d035cd411bb5a",
   "outputs": [
    {
     "data": {
      "text/plain": [
       "array([[7, 2, 4, 2],\n",
       "       [2, 3, 1, 2],\n",
       "       [2, 2, 3, 2],\n",
       "       [2, 6, 5, 9]])"
      ]
     },
     "execution_count": 24,
     "metadata": {},
     "output_type": "execute_result"
    }
   ],
   "execution_count": 24
  },
  {
   "metadata": {
    "ExecuteTime": {
     "end_time": "2025-07-23T20:44:00.712558Z",
     "start_time": "2025-07-23T20:44:00.707212Z"
    }
   },
   "cell_type": "code",
   "source": [
    "# show size nd shape of hte ransom array\n",
    "random_array.dtype"
   ],
   "id": "54803d2c8e3d7792",
   "outputs": [
    {
     "data": {
      "text/plain": [
       "dtype('int32')"
      ]
     },
     "execution_count": 25,
     "metadata": {},
     "output_type": "execute_result"
    }
   ],
   "execution_count": 25
  },
  {
   "metadata": {
    "ExecuteTime": {
     "end_time": "2025-07-23T20:44:00.803278Z",
     "start_time": "2025-07-23T20:44:00.797702Z"
    }
   },
   "cell_type": "code",
   "source": "random_array.shape",
   "id": "8fa29e2b3acef325",
   "outputs": [
    {
     "data": {
      "text/plain": [
       "(4, 4)"
      ]
     },
     "execution_count": 26,
     "metadata": {},
     "output_type": "execute_result"
    }
   ],
   "execution_count": 26
  },
  {
   "metadata": {
    "ExecuteTime": {
     "end_time": "2025-07-23T20:44:00.909240Z",
     "start_time": "2025-07-23T20:44:00.903984Z"
    }
   },
   "cell_type": "code",
   "source": "random_array.size",
   "id": "7a0fc7b8d102e3ea",
   "outputs": [
    {
     "data": {
      "text/plain": [
       "16"
      ]
     },
     "execution_count": 27,
     "metadata": {},
     "output_type": "execute_result"
    }
   ],
   "execution_count": 27
  },
  {
   "metadata": {
    "ExecuteTime": {
     "end_time": "2025-07-23T20:44:00.992942Z",
     "start_time": "2025-07-23T20:44:00.985973Z"
    }
   },
   "cell_type": "code",
   "source": [
    "# random.random will return random floats between 0 and 1 ... I can multiply them all by 100\n",
    "randarray = np.random.random((8, 8))\n",
    "randarray"
   ],
   "id": "7fffe2ceda95410b",
   "outputs": [
    {
     "data": {
      "text/plain": [
       "array([[0.55738959, 0.461231  , 0.12685155, 0.77892835, 0.22145226,\n",
       "        0.58599679, 0.18044235, 0.5494702 ],\n",
       "       [0.78649683, 0.25711129, 0.34359152, 0.40739734, 0.09680585,\n",
       "        0.39984367, 0.17942937, 0.7465615 ],\n",
       "       [0.42926915, 0.15024414, 0.74276193, 0.11136396, 0.15902124,\n",
       "        0.97302769, 0.16626444, 0.50526823],\n",
       "       [0.88530564, 0.60242656, 0.8412441 , 0.81148903, 0.17378196,\n",
       "        0.25834765, 0.09124348, 0.86727722],\n",
       "       [0.4866519 , 0.41234173, 0.2937803 , 0.69407596, 0.34614874,\n",
       "        0.05577219, 0.74478687, 0.57153423],\n",
       "       [0.20396355, 0.82477408, 0.18829671, 0.66918525, 0.77708479,\n",
       "        0.519547  , 0.5969157 , 0.69850417],\n",
       "       [0.55092407, 0.72256201, 0.23779944, 0.20299603, 0.05566068,\n",
       "        0.68236434, 0.97001965, 0.67450247],\n",
       "       [0.25301309, 0.1314869 , 0.08830362, 0.91460818, 0.18038259,\n",
       "        0.065758  , 0.30698747, 0.77009603]])"
      ]
     },
     "execution_count": 28,
     "metadata": {},
     "output_type": "execute_result"
    }
   ],
   "execution_count": 28
  },
  {
   "metadata": {
    "ExecuteTime": {
     "end_time": "2025-07-23T20:44:01.069401Z",
     "start_time": "2025-07-23T20:44:01.063764Z"
    }
   },
   "cell_type": "code",
   "source": [
    "# Quick way to multiply ALL elements in this 2-D array by a constant (100)\n",
    "randarray100 = randarray * 100\n",
    "randarray100"
   ],
   "id": "61894e1e9c486f00",
   "outputs": [
    {
     "data": {
      "text/plain": [
       "array([[55.73895874, 46.12309957, 12.68515457, 77.89283523, 22.14522636,\n",
       "        58.5996789 , 18.04423502, 54.94701996],\n",
       "       [78.64968252, 25.7111285 , 34.35915152, 40.73973423,  9.68058482,\n",
       "        39.98436728, 17.94293681, 74.65614961],\n",
       "       [42.926915  , 15.02441355, 74.27619316, 11.13639602, 15.90212404,\n",
       "        97.30276946, 16.62644438, 50.5268226 ],\n",
       "       [88.53056375, 60.24265644, 84.12440988, 81.14890303, 17.3781958 ,\n",
       "        25.83476521,  9.12434812, 86.72772233],\n",
       "       [48.66519045, 41.23417261, 29.37803019, 69.40759641, 34.61487388,\n",
       "         5.57721916, 74.47868683, 57.15342256],\n",
       "       [20.39635495, 82.47740841, 18.82967065, 66.91852499, 77.70847949,\n",
       "        51.95470013, 59.69156958, 69.85041662],\n",
       "       [55.09240703, 72.25620097, 23.77994435, 20.2996035 ,  5.56606756,\n",
       "        68.23643405, 97.00196477, 67.45024671],\n",
       "       [25.30130913, 13.14869041,  8.83036174, 91.46081808, 18.03825906,\n",
       "         6.57579984, 30.69874691, 77.0096026 ]])"
      ]
     },
     "execution_count": 29,
     "metadata": {},
     "output_type": "execute_result"
    }
   ],
   "execution_count": 29
  },
  {
   "metadata": {},
   "cell_type": "markdown",
   "source": [
    "## Pseudo random numbers are generated ... look into using a seed\n",
    "seed(seed=None)\n",
    "\n",
    "\n",
    "Reseed a legacy MT19937 BitGenerator\n",
    "This is a convenience, legacy function.\n",
    "The best practice is to not reseed a BitGenerator, rather to recreate a new one. This method is here for legacy reasons. This example demonstrates best practice.\n",
    ">>> from numpy.random import MT19937\n",
    ">>> from numpy.random import RandomState, SeedSequence\n",
    ">>> rs = RandomState(MT19937(SeedSequence(123456789)))\n",
    "### Later, you want to restart the stream\n",
    ">>> rs = RandomState(MT19937(SeedSequence(987654321)))"
   ],
   "id": "53db77e09e780c3d"
  },
  {
   "metadata": {
    "ExecuteTime": {
     "end_time": "2025-07-23T20:44:01.213179Z",
     "start_time": "2025-07-23T20:44:01.205660Z"
    }
   },
   "cell_type": "code",
   "source": [
    "np.random.seed()\n",
    "randarray100"
   ],
   "id": "119e2f3e222fee75",
   "outputs": [
    {
     "data": {
      "text/plain": [
       "array([[55.73895874, 46.12309957, 12.68515457, 77.89283523, 22.14522636,\n",
       "        58.5996789 , 18.04423502, 54.94701996],\n",
       "       [78.64968252, 25.7111285 , 34.35915152, 40.73973423,  9.68058482,\n",
       "        39.98436728, 17.94293681, 74.65614961],\n",
       "       [42.926915  , 15.02441355, 74.27619316, 11.13639602, 15.90212404,\n",
       "        97.30276946, 16.62644438, 50.5268226 ],\n",
       "       [88.53056375, 60.24265644, 84.12440988, 81.14890303, 17.3781958 ,\n",
       "        25.83476521,  9.12434812, 86.72772233],\n",
       "       [48.66519045, 41.23417261, 29.37803019, 69.40759641, 34.61487388,\n",
       "         5.57721916, 74.47868683, 57.15342256],\n",
       "       [20.39635495, 82.47740841, 18.82967065, 66.91852499, 77.70847949,\n",
       "        51.95470013, 59.69156958, 69.85041662],\n",
       "       [55.09240703, 72.25620097, 23.77994435, 20.2996035 ,  5.56606756,\n",
       "        68.23643405, 97.00196477, 67.45024671],\n",
       "       [25.30130913, 13.14869041,  8.83036174, 91.46081808, 18.03825906,\n",
       "         6.57579984, 30.69874691, 77.0096026 ]])"
      ]
     },
     "execution_count": 30,
     "metadata": {},
     "output_type": "execute_result"
    }
   ],
   "execution_count": 30
  },
  {
   "metadata": {
    "ExecuteTime": {
     "end_time": "2025-07-23T20:44:01.329752Z",
     "start_time": "2025-07-23T20:44:01.327143Z"
    }
   },
   "cell_type": "code",
   "source": "",
   "id": "724282ad8565d907",
   "outputs": [],
   "execution_count": null
  }
 ],
 "metadata": {
  "kernelspec": {
   "display_name": "Python 3 (ipykernel)",
   "language": "python",
   "name": "python3"
  },
  "language_info": {
   "codemirror_mode": {
    "name": "ipython",
    "version": 3
   },
   "file_extension": ".py",
   "mimetype": "text/x-python",
   "name": "python",
   "nbconvert_exporter": "python",
   "pygments_lexer": "ipython3",
   "version": "3.12.2"
  }
 },
 "nbformat": 4,
 "nbformat_minor": 5
}
