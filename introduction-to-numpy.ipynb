{
 "cells": [
  {
   "cell_type": "code",
   "id": "36e628157e736fe4",
   "metadata": {
    "ExecuteTime": {
     "end_time": "2025-08-09T22:13:13.988621Z",
     "start_time": "2025-08-09T22:13:13.926683Z"
    }
   },
   "source": [
    "import numpy as np\n",
    "from numpy.ma.core import argmax"
   ],
   "outputs": [],
   "execution_count": 1
  },
  {
   "cell_type": "markdown",
   "id": "284b0270c25aabcf",
   "metadata": {},
   "source": [
    "## Data Types and Attributes"
   ]
  },
  {
   "cell_type": "code",
   "id": "df96542f946a74d3",
   "metadata": {
    "ExecuteTime": {
     "end_time": "2025-08-09T22:13:14.060208Z",
     "start_time": "2025-08-09T22:13:14.057100Z"
    }
   },
   "source": [
    "a1 = np.array([1, 2, 3])\n",
    "type(a1)"
   ],
   "outputs": [
    {
     "data": {
      "text/plain": [
       "numpy.ndarray"
      ]
     },
     "execution_count": 2,
     "metadata": {},
     "output_type": "execute_result"
    }
   ],
   "execution_count": 2
  },
  {
   "cell_type": "markdown",
   "id": "dde9e4bc4e9d18ed",
   "metadata": {},
   "source": [
    "![](IMG_3155.jpg)"
   ]
  },
  {
   "cell_type": "code",
   "id": "2d44026dae157bac",
   "metadata": {
    "ExecuteTime": {
     "end_time": "2025-08-09T22:13:14.085755Z",
     "start_time": "2025-08-09T22:13:14.083625Z"
    }
   },
   "source": [
    "# 2x3\n",
    "a2 = np.array([[1, 2.0, 3.0],\n",
    "       [4, 5, 6.5]])\n",
    "\n",
    "# 3x3x2 n-dimensional array?\n",
    "a3 = np.array([[[1, 2, 3],\n",
    "        [4, 5, 6],\n",
    "        [7, 8, 9]],\n",
    "       [[10, 11, 12],\n",
    "        [13, 14, 15],\n",
    "        [16, 17, 18]]])"
   ],
   "outputs": [],
   "execution_count": 3
  },
  {
   "cell_type": "code",
   "id": "90b1e3cfbc07a5e1",
   "metadata": {
    "ExecuteTime": {
     "end_time": "2025-08-09T22:13:14.102352Z",
     "start_time": "2025-08-09T22:13:14.100036Z"
    }
   },
   "source": [
    "a2"
   ],
   "outputs": [
    {
     "data": {
      "text/plain": [
       "array([[1. , 2. , 3. ],\n",
       "       [4. , 5. , 6.5]])"
      ]
     },
     "execution_count": 4,
     "metadata": {},
     "output_type": "execute_result"
    }
   ],
   "execution_count": 4
  },
  {
   "cell_type": "code",
   "id": "7b67f6285d6ad4dd",
   "metadata": {
    "ExecuteTime": {
     "end_time": "2025-08-09T22:13:14.357263Z",
     "start_time": "2025-08-09T22:13:14.355226Z"
    }
   },
   "source": [
    "a3"
   ],
   "outputs": [
    {
     "data": {
      "text/plain": [
       "array([[[ 1,  2,  3],\n",
       "        [ 4,  5,  6],\n",
       "        [ 7,  8,  9]],\n",
       "\n",
       "       [[10, 11, 12],\n",
       "        [13, 14, 15],\n",
       "        [16, 17, 18]]])"
      ]
     },
     "execution_count": 5,
     "metadata": {},
     "output_type": "execute_result"
    }
   ],
   "execution_count": 5
  },
  {
   "cell_type": "code",
   "id": "eaf48b462cb4e2ba",
   "metadata": {
    "ExecuteTime": {
     "end_time": "2025-08-09T22:13:14.410271Z",
     "start_time": "2025-08-09T22:13:14.407765Z"
    }
   },
   "source": [
    "a1.shape"
   ],
   "outputs": [
    {
     "data": {
      "text/plain": [
       "(3,)"
      ]
     },
     "execution_count": 6,
     "metadata": {},
     "output_type": "execute_result"
    }
   ],
   "execution_count": 6
  },
  {
   "cell_type": "code",
   "id": "83717d5ffb21c964",
   "metadata": {
    "ExecuteTime": {
     "end_time": "2025-08-09T22:13:14.480327Z",
     "start_time": "2025-08-09T22:13:14.478474Z"
    }
   },
   "source": [
    "a2.shape"
   ],
   "outputs": [
    {
     "data": {
      "text/plain": [
       "(2, 3)"
      ]
     },
     "execution_count": 7,
     "metadata": {},
     "output_type": "execute_result"
    }
   ],
   "execution_count": 7
  },
  {
   "cell_type": "code",
   "id": "a22dd3f363b70521",
   "metadata": {
    "ExecuteTime": {
     "end_time": "2025-08-09T22:13:14.501590Z",
     "start_time": "2025-08-09T22:13:14.499733Z"
    }
   },
   "source": [
    "a3.shape"
   ],
   "outputs": [
    {
     "data": {
      "text/plain": [
       "(2, 3, 3)"
      ]
     },
     "execution_count": 8,
     "metadata": {},
     "output_type": "execute_result"
    }
   ],
   "execution_count": 8
  },
  {
   "cell_type": "code",
   "id": "b206e3de48fa3fc",
   "metadata": {
    "ExecuteTime": {
     "end_time": "2025-08-09T22:13:14.521763Z",
     "start_time": "2025-08-09T22:13:14.520065Z"
    }
   },
   "source": [
    "# show the dimensions of hte n-dim arrays\n",
    "a1.ndim, a2.ndim, a3.ndim"
   ],
   "outputs": [
    {
     "data": {
      "text/plain": [
       "(1, 2, 3)"
      ]
     },
     "execution_count": 9,
     "metadata": {},
     "output_type": "execute_result"
    }
   ],
   "execution_count": 9
  },
  {
   "cell_type": "code",
   "id": "734ff042eacf1ed1",
   "metadata": {
    "ExecuteTime": {
     "end_time": "2025-08-09T22:13:14.543910Z",
     "start_time": "2025-08-09T22:13:14.541511Z"
    }
   },
   "source": [
    "# Look at the data types dtype\n",
    "a1.dtype, a2.dtype, a3.dtype"
   ],
   "outputs": [
    {
     "data": {
      "text/plain": [
       "(dtype('int64'), dtype('float64'), dtype('int64'))"
      ]
     },
     "execution_count": 10,
     "metadata": {},
     "output_type": "execute_result"
    }
   ],
   "execution_count": 10
  },
  {
   "cell_type": "code",
   "id": "2296eb4a0f7b126f",
   "metadata": {
    "ExecuteTime": {
     "end_time": "2025-08-09T22:13:14.567546Z",
     "start_time": "2025-08-09T22:13:14.566120Z"
    }
   },
   "source": [
    "print(a2[1][1])"
   ],
   "outputs": [
    {
     "name": "stdout",
     "output_type": "stream",
     "text": [
      "5.0\n"
     ]
    }
   ],
   "execution_count": 11
  },
  {
   "cell_type": "code",
   "id": "e6e0abe464665ef6",
   "metadata": {
    "ExecuteTime": {
     "end_time": "2025-08-09T22:13:14.591954Z",
     "start_time": "2025-08-09T22:13:14.589986Z"
    }
   },
   "source": [
    "# Show Sizes (number of elements in each n-dim array)\n",
    "a1.size, a2.size, a3.size"
   ],
   "outputs": [
    {
     "data": {
      "text/plain": [
       "(3, 6, 18)"
      ]
     },
     "execution_count": 12,
     "metadata": {},
     "output_type": "execute_result"
    }
   ],
   "execution_count": 12
  },
  {
   "cell_type": "code",
   "id": "3dfe4d4cb29b5aa9",
   "metadata": {
    "ExecuteTime": {
     "end_time": "2025-08-09T22:13:14.614986Z",
     "start_time": "2025-08-09T22:13:14.612591Z"
    }
   },
   "source": [
    "type(a1), type(a2), type(a3)"
   ],
   "outputs": [
    {
     "data": {
      "text/plain": [
       "(numpy.ndarray, numpy.ndarray, numpy.ndarray)"
      ]
     },
     "execution_count": 13,
     "metadata": {},
     "output_type": "execute_result"
    }
   ],
   "execution_count": 13
  },
  {
   "cell_type": "markdown",
   "id": "a7108e43ed91307e",
   "metadata": {},
   "source": [
    "## Create a Data Frame (pandas) from a Numpy Array (numpy)"
   ]
  },
  {
   "cell_type": "code",
   "id": "23c6db7d58642794",
   "metadata": {
    "ExecuteTime": {
     "end_time": "2025-08-09T22:13:14.635343Z",
     "start_time": "2025-08-09T22:13:14.633894Z"
    }
   },
   "source": [
    "import pandas as pd\n",
    "df = pd.DataFrame(a2)"
   ],
   "outputs": [],
   "execution_count": 14
  },
  {
   "cell_type": "code",
   "id": "862aa381892993ea",
   "metadata": {
    "ExecuteTime": {
     "end_time": "2025-08-09T22:13:14.662417Z",
     "start_time": "2025-08-09T22:13:14.659953Z"
    }
   },
   "source": [
    "df"
   ],
   "outputs": [
    {
     "data": {
      "text/plain": [
       "     0    1    2\n",
       "0  1.0  2.0  3.0\n",
       "1  4.0  5.0  6.5"
      ],
      "text/html": [
       "<div>\n",
       "<style scoped>\n",
       "    .dataframe tbody tr th:only-of-type {\n",
       "        vertical-align: middle;\n",
       "    }\n",
       "\n",
       "    .dataframe tbody tr th {\n",
       "        vertical-align: top;\n",
       "    }\n",
       "\n",
       "    .dataframe thead th {\n",
       "        text-align: right;\n",
       "    }\n",
       "</style>\n",
       "<table border=\"1\" class=\"dataframe\">\n",
       "  <thead>\n",
       "    <tr style=\"text-align: right;\">\n",
       "      <th></th>\n",
       "      <th>0</th>\n",
       "      <th>1</th>\n",
       "      <th>2</th>\n",
       "    </tr>\n",
       "  </thead>\n",
       "  <tbody>\n",
       "    <tr>\n",
       "      <th>0</th>\n",
       "      <td>1.0</td>\n",
       "      <td>2.0</td>\n",
       "      <td>3.0</td>\n",
       "    </tr>\n",
       "    <tr>\n",
       "      <th>1</th>\n",
       "      <td>4.0</td>\n",
       "      <td>5.0</td>\n",
       "      <td>6.5</td>\n",
       "    </tr>\n",
       "  </tbody>\n",
       "</table>\n",
       "</div>"
      ]
     },
     "execution_count": 15,
     "metadata": {},
     "output_type": "execute_result"
    }
   ],
   "execution_count": 15
  },
  {
   "cell_type": "code",
   "id": "d35880f22a624cad",
   "metadata": {
    "ExecuteTime": {
     "end_time": "2025-08-09T22:13:14.699786Z",
     "start_time": "2025-08-09T22:13:14.697485Z"
    }
   },
   "source": [
    "df[2][1]"
   ],
   "outputs": [
    {
     "data": {
      "text/plain": [
       "np.float64(6.5)"
      ]
     },
     "execution_count": 16,
     "metadata": {},
     "output_type": "execute_result"
    }
   ],
   "execution_count": 16
  },
  {
   "cell_type": "markdown",
   "id": "3658e55d00a71703",
   "metadata": {},
   "source": [
    "## Machine Learning is = finding patterns in Numpy Arrays"
   ]
  },
  {
   "cell_type": "markdown",
   "id": "2703980270bd3565",
   "metadata": {},
   "source": [
    "## Creating Arrays"
   ]
  },
  {
   "cell_type": "code",
   "id": "aaa3cfcb7da04b82",
   "metadata": {
    "ExecuteTime": {
     "end_time": "2025-08-09T22:13:14.762572Z",
     "start_time": "2025-08-09T22:13:14.760012Z"
    }
   },
   "source": [
    "import numpy as np\n",
    "sample_array = np.array([1, 2, 3])\n",
    "print(\"the type is: \")\n",
    "type(sample_array)"
   ],
   "outputs": [
    {
     "name": "stdout",
     "output_type": "stream",
     "text": [
      "the type is: \n"
     ]
    },
    {
     "data": {
      "text/plain": [
       "numpy.ndarray"
      ]
     },
     "execution_count": 17,
     "metadata": {},
     "output_type": "execute_result"
    }
   ],
   "execution_count": 17
  },
  {
   "cell_type": "code",
   "id": "c13a7351b1dc1b58",
   "metadata": {
    "ExecuteTime": {
     "end_time": "2025-08-09T22:13:14.818013Z",
     "start_time": "2025-08-09T22:13:14.815846Z"
    }
   },
   "source": [
    "print(\"the data type is: \")\n",
    "sample_array.dtype"
   ],
   "outputs": [
    {
     "name": "stdout",
     "output_type": "stream",
     "text": [
      "the data type is: \n"
     ]
    },
    {
     "data": {
      "text/plain": [
       "dtype('int64')"
      ]
     },
     "execution_count": 18,
     "metadata": {},
     "output_type": "execute_result"
    }
   ],
   "execution_count": 18
  },
  {
   "cell_type": "code",
   "id": "bb4a57706817304d",
   "metadata": {
    "ExecuteTime": {
     "end_time": "2025-08-09T22:13:14.861529Z",
     "start_time": "2025-08-09T22:13:14.859222Z"
    }
   },
   "source": [
    "# 4x4 array filled with ones\n",
    "ashape = (4, 4)\n",
    "ones = np.ones(ashape)\n",
    "ones"
   ],
   "outputs": [
    {
     "data": {
      "text/plain": [
       "array([[1., 1., 1., 1.],\n",
       "       [1., 1., 1., 1.],\n",
       "       [1., 1., 1., 1.],\n",
       "       [1., 1., 1., 1.]])"
      ]
     },
     "execution_count": 19,
     "metadata": {},
     "output_type": "execute_result"
    }
   ],
   "execution_count": 19
  },
  {
   "cell_type": "code",
   "id": "e73718376cedb00b",
   "metadata": {
    "ExecuteTime": {
     "end_time": "2025-08-09T22:13:14.890344Z",
     "start_time": "2025-08-09T22:13:14.888144Z"
    }
   },
   "source": [
    "ones.dtype"
   ],
   "outputs": [
    {
     "data": {
      "text/plain": [
       "dtype('float64')"
      ]
     },
     "execution_count": 20,
     "metadata": {},
     "output_type": "execute_result"
    }
   ],
   "execution_count": 20
  },
  {
   "cell_type": "code",
   "id": "372497bf816a3d24",
   "metadata": {
    "ExecuteTime": {
     "end_time": "2025-08-09T22:13:14.944158Z",
     "start_time": "2025-08-09T22:13:14.941849Z"
    }
   },
   "source": [
    "type(ones)"
   ],
   "outputs": [
    {
     "data": {
      "text/plain": [
       "numpy.ndarray"
      ]
     },
     "execution_count": 21,
     "metadata": {},
     "output_type": "execute_result"
    }
   ],
   "execution_count": 21
  },
  {
   "cell_type": "code",
   "id": "2d18b70d5aac974b",
   "metadata": {
    "ExecuteTime": {
     "end_time": "2025-08-09T22:13:14.978710Z",
     "start_time": "2025-08-09T22:13:14.976742Z"
    }
   },
   "source": [
    "# 4x4 array filled with zeros\n",
    "zeros = np.zeros(ashape)\n",
    "zeros"
   ],
   "outputs": [
    {
     "data": {
      "text/plain": [
       "array([[0., 0., 0., 0.],\n",
       "       [0., 0., 0., 0.],\n",
       "       [0., 0., 0., 0.],\n",
       "       [0., 0., 0., 0.]])"
      ]
     },
     "execution_count": 22,
     "metadata": {},
     "output_type": "execute_result"
    }
   ],
   "execution_count": 22
  },
  {
   "cell_type": "code",
   "id": "3a59d75bb405c73a",
   "metadata": {
    "ExecuteTime": {
     "end_time": "2025-08-09T22:13:15.050722Z",
     "start_time": "2025-08-09T22:13:15.046828Z"
    }
   },
   "source": [
    "# Create array from 0 to 100 - noninclusive - and increment value 5 steps...\n",
    "range_array = np.arange(0, 100, 5, dtype=int)\n",
    "range_array"
   ],
   "outputs": [
    {
     "data": {
      "text/plain": [
       "array([ 0,  5, 10, 15, 20, 25, 30, 35, 40, 45, 50, 55, 60, 65, 70, 75, 80,\n",
       "       85, 90, 95])"
      ]
     },
     "execution_count": 23,
     "metadata": {},
     "output_type": "execute_result"
    }
   ],
   "execution_count": 23
  },
  {
   "cell_type": "code",
   "id": "8485bda6ff8f83de",
   "metadata": {
    "ExecuteTime": {
     "end_time": "2025-08-09T22:13:15.137040Z",
     "start_time": "2025-08-09T22:13:15.131883Z"
    }
   },
   "source": [
    "# Random Array with value ranging from 0 to 10 and make it 2-D per (ashape = (4, 4))\n",
    "random_array = np.random.randint(0, 10, size=ashape)\n",
    "random_array"
   ],
   "outputs": [
    {
     "data": {
      "text/plain": [
       "array([[0, 2, 3, 3],\n",
       "       [1, 0, 3, 0],\n",
       "       [2, 9, 9, 2],\n",
       "       [1, 7, 6, 8]])"
      ]
     },
     "execution_count": 24,
     "metadata": {},
     "output_type": "execute_result"
    }
   ],
   "execution_count": 24
  },
  {
   "cell_type": "code",
   "id": "131801f490a8c6f9",
   "metadata": {
    "ExecuteTime": {
     "end_time": "2025-08-09T22:13:15.202317Z",
     "start_time": "2025-08-09T22:13:15.197085Z"
    }
   },
   "source": [
    "# show size nd shape of hte ransom array\n",
    "random_array.dtype"
   ],
   "outputs": [
    {
     "data": {
      "text/plain": [
       "dtype('int64')"
      ]
     },
     "execution_count": 25,
     "metadata": {},
     "output_type": "execute_result"
    }
   ],
   "execution_count": 25
  },
  {
   "cell_type": "code",
   "id": "72b0706fa0f7f6eb",
   "metadata": {
    "ExecuteTime": {
     "end_time": "2025-08-09T22:13:15.287760Z",
     "start_time": "2025-08-09T22:13:15.283082Z"
    }
   },
   "source": [
    "random_array.shape"
   ],
   "outputs": [
    {
     "data": {
      "text/plain": [
       "(4, 4)"
      ]
     },
     "execution_count": 26,
     "metadata": {},
     "output_type": "execute_result"
    }
   ],
   "execution_count": 26
  },
  {
   "cell_type": "code",
   "id": "f57dd21bf3eb981c",
   "metadata": {
    "ExecuteTime": {
     "end_time": "2025-08-09T22:13:15.350457Z",
     "start_time": "2025-08-09T22:13:15.348017Z"
    }
   },
   "source": [
    "random_array.size"
   ],
   "outputs": [
    {
     "data": {
      "text/plain": [
       "16"
      ]
     },
     "execution_count": 27,
     "metadata": {},
     "output_type": "execute_result"
    }
   ],
   "execution_count": 27
  },
  {
   "cell_type": "code",
   "id": "82a66b8a85627388",
   "metadata": {
    "ExecuteTime": {
     "end_time": "2025-08-09T22:13:15.395600Z",
     "start_time": "2025-08-09T22:13:15.391820Z"
    }
   },
   "source": [
    "# random.random will return random floats between 0 and 1 ... I can multiply them all by 100\n",
    "randarray = np.random.random((8, 8))\n",
    "randarray"
   ],
   "outputs": [
    {
     "data": {
      "text/plain": [
       "array([[0.22728558, 0.30757271, 0.09053716, 0.48232436, 0.01899234,\n",
       "        0.12977001, 0.54664882, 0.78080808],\n",
       "       [0.44213541, 0.39899063, 0.35094371, 0.52079734, 0.2405841 ,\n",
       "        0.76314474, 0.02017024, 0.89559162],\n",
       "       [0.73741961, 0.7567289 , 0.68149608, 0.99476093, 0.96214561,\n",
       "        0.88100003, 0.77009907, 0.53492994],\n",
       "       [0.3693646 , 0.8441955 , 0.56505088, 0.22215361, 0.4737386 ,\n",
       "        0.13724245, 0.89690147, 0.00395489],\n",
       "       [0.45308231, 0.65498384, 0.40219526, 0.29779263, 0.3611337 ,\n",
       "        0.92298082, 0.26496006, 0.94858711],\n",
       "       [0.10302718, 0.39985516, 0.9918465 , 0.38657927, 0.20496524,\n",
       "        0.02026579, 0.14143176, 0.28880342],\n",
       "       [0.90599485, 0.28659906, 0.60565727, 0.22663301, 0.54261178,\n",
       "        0.75731361, 0.32512759, 0.87729587],\n",
       "       [0.72937979, 0.34937097, 0.57870281, 0.5609822 , 0.68207631,\n",
       "        0.3180929 , 0.87957282, 0.4883446 ]])"
      ]
     },
     "execution_count": 28,
     "metadata": {},
     "output_type": "execute_result"
    }
   ],
   "execution_count": 28
  },
  {
   "cell_type": "code",
   "id": "cbc8efa5c2021136",
   "metadata": {
    "ExecuteTime": {
     "end_time": "2025-08-09T22:13:15.577256Z",
     "start_time": "2025-08-09T22:13:15.570995Z"
    }
   },
   "source": [
    "# Quick way to multiply ALL elements in this 2-D array by a constant (100)\n",
    "randarray100 = randarray * 100\n",
    "randarray100"
   ],
   "outputs": [
    {
     "data": {
      "text/plain": [
       "array([[22.72855821, 30.75727081,  9.05371631, 48.23243595,  1.8992337 ,\n",
       "        12.97700149, 54.66488179, 78.08080766],\n",
       "       [44.21354147, 39.89906286, 35.09437055, 52.07973414, 24.0584102 ,\n",
       "        76.31447406,  2.01702428, 89.5591619 ],\n",
       "       [73.74196065, 75.67288993, 68.14960812, 99.47609276, 96.21456076,\n",
       "        88.10000328, 77.00990714, 53.49299429],\n",
       "       [36.93645984, 84.41954993, 56.5050878 , 22.21536138, 47.37386031,\n",
       "        13.72424492, 89.6901469 ,  0.39548887],\n",
       "       [45.30823148, 65.49838413, 40.21952645, 29.7792629 , 36.11336969,\n",
       "        92.29808192, 26.49600562, 94.85871098],\n",
       "       [10.30271829, 39.98551629, 99.18465032, 38.65792659, 20.49652394,\n",
       "         2.02657942, 14.143176  , 28.88034245],\n",
       "       [90.5994849 , 28.65990599, 60.56572714, 22.66330059, 54.26117827,\n",
       "        75.73136116, 32.51275884, 87.72958673],\n",
       "       [72.93797865, 34.93709742, 57.87028062, 56.09821986, 68.20763057,\n",
       "        31.80929049, 87.95728242, 48.83445976]])"
      ]
     },
     "execution_count": 29,
     "metadata": {},
     "output_type": "execute_result"
    }
   ],
   "execution_count": 29
  },
  {
   "cell_type": "markdown",
   "id": "647915022ecdc456",
   "metadata": {},
   "source": [
    "## Pseudo random numbers are generated ... look into using a seed\n",
    "seed(seed=None)\n",
    "\n",
    "\n",
    "Reseed a legacy MT19937 BitGenerator\n",
    "This is a convenience, legacy function.\n",
    "The best practice is to not reseed a BitGenerator, rather to recreate a new one. This method is here for legacy reasons. This example demonstrates best practice.\n",
    ">>> from numpy.random import MT19937\n",
    ">>> from numpy.random import RandomState, SeedSequence\n",
    ">>> rs = RandomState(MT19937(SeedSequence(123456789)))\n",
    "### Later, you want to restart the stream\n",
    ">>> rs = RandomState(MT19937(SeedSequence(987654321)))"
   ]
  },
  {
   "cell_type": "code",
   "id": "d0939e0de9ba11e",
   "metadata": {
    "ExecuteTime": {
     "end_time": "2025-08-09T22:13:15.664734Z",
     "start_time": "2025-08-09T22:13:15.661129Z"
    }
   },
   "source": [
    "np.random.seed()\n",
    "randarray100"
   ],
   "outputs": [
    {
     "data": {
      "text/plain": [
       "array([[22.72855821, 30.75727081,  9.05371631, 48.23243595,  1.8992337 ,\n",
       "        12.97700149, 54.66488179, 78.08080766],\n",
       "       [44.21354147, 39.89906286, 35.09437055, 52.07973414, 24.0584102 ,\n",
       "        76.31447406,  2.01702428, 89.5591619 ],\n",
       "       [73.74196065, 75.67288993, 68.14960812, 99.47609276, 96.21456076,\n",
       "        88.10000328, 77.00990714, 53.49299429],\n",
       "       [36.93645984, 84.41954993, 56.5050878 , 22.21536138, 47.37386031,\n",
       "        13.72424492, 89.6901469 ,  0.39548887],\n",
       "       [45.30823148, 65.49838413, 40.21952645, 29.7792629 , 36.11336969,\n",
       "        92.29808192, 26.49600562, 94.85871098],\n",
       "       [10.30271829, 39.98551629, 99.18465032, 38.65792659, 20.49652394,\n",
       "         2.02657942, 14.143176  , 28.88034245],\n",
       "       [90.5994849 , 28.65990599, 60.56572714, 22.66330059, 54.26117827,\n",
       "        75.73136116, 32.51275884, 87.72958673],\n",
       "       [72.93797865, 34.93709742, 57.87028062, 56.09821986, 68.20763057,\n",
       "        31.80929049, 87.95728242, 48.83445976]])"
      ]
     },
     "execution_count": 30,
     "metadata": {},
     "output_type": "execute_result"
    }
   ],
   "execution_count": 30
  },
  {
   "cell_type": "code",
   "id": "2b1e51799ce77b9e",
   "metadata": {
    "ExecuteTime": {
     "end_time": "2025-08-09T22:13:15.793753Z",
     "start_time": "2025-08-09T22:13:15.791773Z"
    }
   },
   "source": [
    "# Pseudo random numbers\n",
    "np.random.seed(seed=20)\n",
    "# These all appear as random but if you want reproducible random numbers for the sake of re-creating an issue for instance, you can use a seed()\n",
    "random_array_4 = np.random.randint(10, size=(5, 3))\n",
    "random_array_4\n"
   ],
   "outputs": [
    {
     "data": {
      "text/plain": [
       "array([[3, 9, 4],\n",
       "       [6, 7, 2],\n",
       "       [0, 6, 8],\n",
       "       [5, 3, 0],\n",
       "       [6, 6, 0]])"
      ]
     },
     "execution_count": 31,
     "metadata": {},
     "output_type": "execute_result"
    }
   ],
   "execution_count": 31
  },
  {
   "cell_type": "code",
   "id": "6946def5acc9baad",
   "metadata": {
    "ExecuteTime": {
     "end_time": "2025-08-09T22:13:15.884007Z",
     "start_time": "2025-08-09T22:13:15.882174Z"
    }
   },
   "source": [
    "#finding unique numbers in an array\n",
    "unique_array = np.unique([1, 2, 3, 4, 5, 1, 1, 2, 2, 44])"
   ],
   "outputs": [],
   "execution_count": 32
  },
  {
   "cell_type": "code",
   "id": "5b36337ae5ca140f",
   "metadata": {
    "ExecuteTime": {
     "end_time": "2025-08-09T22:13:15.963780Z",
     "start_time": "2025-08-09T22:13:15.960467Z"
    }
   },
   "source": [
    "# @hen displaying these, it's important to remember that 'unique' is different than 'not a duplicate' ... this takes all numbers and return 1 vale for each, regardless of how many of that particular value are found in the array\n",
    "unique_array"
   ],
   "outputs": [
    {
     "data": {
      "text/plain": [
       "array([ 1,  2,  3,  4,  5, 44])"
      ]
     },
     "execution_count": 33,
     "metadata": {},
     "output_type": "execute_result"
    }
   ],
   "execution_count": 33
  },
  {
   "cell_type": "code",
   "id": "c36b627fbe3915f6",
   "metadata": {
    "ExecuteTime": {
     "end_time": "2025-08-09T22:13:16.021857Z",
     "start_time": "2025-08-09T22:13:16.019692Z"
    }
   },
   "source": [
    "# Now try unique with the random array of integers\n",
    "unique_rand = np.unique(random_array_4)\n",
    "unique_rand"
   ],
   "outputs": [
    {
     "data": {
      "text/plain": [
       "array([0, 2, 3, 4, 5, 6, 7, 8, 9])"
      ]
     },
     "execution_count": 34,
     "metadata": {},
     "output_type": "execute_result"
    }
   ],
   "execution_count": 34
  },
  {
   "cell_type": "code",
   "id": "5b6ef8b51881daa",
   "metadata": {
    "ExecuteTime": {
     "end_time": "2025-08-09T22:13:16.062853Z",
     "start_time": "2025-08-09T22:13:16.060784Z"
    }
   },
   "source": [
    "random_array_4"
   ],
   "outputs": [
    {
     "data": {
      "text/plain": [
       "array([[3, 9, 4],\n",
       "       [6, 7, 2],\n",
       "       [0, 6, 8],\n",
       "       [5, 3, 0],\n",
       "       [6, 6, 0]])"
      ]
     },
     "execution_count": 35,
     "metadata": {},
     "output_type": "execute_result"
    }
   ],
   "execution_count": 35
  },
  {
   "cell_type": "markdown",
   "id": "73fbc29326f53189",
   "metadata": {},
   "source": [
    "## 3. Viewing Arrays and Matrices"
   ]
  },
  {
   "cell_type": "code",
   "id": "d2d6a6cce8fe1ec5",
   "metadata": {
    "ExecuteTime": {
     "end_time": "2025-08-09T22:13:16.126910Z",
     "start_time": "2025-08-09T22:13:16.124735Z"
    }
   },
   "source": [
    "a1"
   ],
   "outputs": [
    {
     "data": {
      "text/plain": [
       "array([1, 2, 3])"
      ]
     },
     "execution_count": 36,
     "metadata": {},
     "output_type": "execute_result"
    }
   ],
   "execution_count": 36
  },
  {
   "cell_type": "code",
   "id": "3e4c4759b2825af4",
   "metadata": {
    "ExecuteTime": {
     "end_time": "2025-08-09T22:13:16.180577Z",
     "start_time": "2025-08-09T22:13:16.178460Z"
    }
   },
   "source": [
    "a2"
   ],
   "outputs": [
    {
     "data": {
      "text/plain": [
       "array([[1. , 2. , 3. ],\n",
       "       [4. , 5. , 6.5]])"
      ]
     },
     "execution_count": 37,
     "metadata": {},
     "output_type": "execute_result"
    }
   ],
   "execution_count": 37
  },
  {
   "cell_type": "code",
   "id": "c316c029d1f54a6",
   "metadata": {
    "ExecuteTime": {
     "end_time": "2025-08-09T22:13:16.256099Z",
     "start_time": "2025-08-09T22:13:16.254313Z"
    }
   },
   "source": [
    "print(a3) # 2x3x3\n",
    "a3.shape"
   ],
   "outputs": [
    {
     "name": "stdout",
     "output_type": "stream",
     "text": [
      "[[[ 1  2  3]\n",
      "  [ 4  5  6]\n",
      "  [ 7  8  9]]\n",
      "\n",
      " [[10 11 12]\n",
      "  [13 14 15]\n",
      "  [16 17 18]]]\n"
     ]
    },
    {
     "data": {
      "text/plain": [
       "(2, 3, 3)"
      ]
     },
     "execution_count": 38,
     "metadata": {},
     "output_type": "execute_result"
    }
   ],
   "execution_count": 38
  },
  {
   "cell_type": "code",
   "id": "523a2b632aecd32",
   "metadata": {
    "ExecuteTime": {
     "end_time": "2025-08-09T22:13:16.334920Z",
     "start_time": "2025-08-09T22:13:16.332904Z"
    }
   },
   "source": [
    "print(\"Get all of the first elements\")\n",
    "print(\"****\")\n",
    "print(a1[0])\n",
    "print(\"****\")\n",
    "print(a2[0])\n",
    "print(\"****\")\n",
    "print(a3[0])\n",
    "print(\"****\")"
   ],
   "outputs": [
    {
     "name": "stdout",
     "output_type": "stream",
     "text": [
      "Get all of the first elements\n",
      "****\n",
      "1\n",
      "****\n",
      "[1. 2. 3.]\n",
      "****\n",
      "[[1 2 3]\n",
      " [4 5 6]\n",
      " [7 8 9]]\n",
      "****\n"
     ]
    }
   ],
   "execution_count": 39
  },
  {
   "cell_type": "code",
   "id": "7012d227567193f6",
   "metadata": {
    "ExecuteTime": {
     "end_time": "2025-08-09T22:13:16.370371Z",
     "start_time": "2025-08-09T22:13:16.368216Z"
    }
   },
   "source": [
    "a4 = np.random.randint(10, size=(2, 3, 4, 5))\n",
    "a4"
   ],
   "outputs": [
    {
     "data": {
      "text/plain": [
       "array([[[[9, 5, 7, 5, 2],\n",
       "         [6, 9, 3, 3, 9],\n",
       "         [0, 6, 2, 3, 1],\n",
       "         [8, 0, 2, 7, 6]],\n",
       "\n",
       "        [[6, 8, 2, 1, 3],\n",
       "         [2, 6, 9, 4, 6],\n",
       "         [4, 8, 6, 2, 3],\n",
       "         [1, 5, 2, 1, 8]],\n",
       "\n",
       "        [[2, 4, 4, 8, 6],\n",
       "         [0, 3, 4, 0, 5],\n",
       "         [6, 9, 7, 4, 0],\n",
       "         [6, 1, 9, 6, 7]]],\n",
       "\n",
       "\n",
       "       [[[9, 7, 6, 9, 8],\n",
       "         [8, 2, 2, 1, 5],\n",
       "         [2, 9, 7, 5, 5],\n",
       "         [9, 6, 9, 9, 5]],\n",
       "\n",
       "        [[2, 9, 6, 1, 8],\n",
       "         [1, 0, 8, 5, 0],\n",
       "         [6, 5, 4, 2, 9],\n",
       "         [9, 4, 5, 3, 9]],\n",
       "\n",
       "        [[7, 1, 2, 3, 6],\n",
       "         [5, 4, 4, 1, 8],\n",
       "         [7, 1, 9, 2, 3],\n",
       "         [4, 4, 4, 9, 0]]]])"
      ]
     },
     "execution_count": 40,
     "metadata": {},
     "output_type": "execute_result"
    }
   ],
   "execution_count": 40
  },
  {
   "cell_type": "code",
   "id": "1a15f880f3b7f004",
   "metadata": {
    "ExecuteTime": {
     "end_time": "2025-08-09T22:13:16.404110Z",
     "start_time": "2025-08-09T22:13:16.402208Z"
    }
   },
   "source": [
    "a4.shape, a4.ndim"
   ],
   "outputs": [
    {
     "data": {
      "text/plain": [
       "((2, 3, 4, 5), 4)"
      ]
     },
     "execution_count": 41,
     "metadata": {},
     "output_type": "execute_result"
    }
   ],
   "execution_count": 41
  },
  {
   "cell_type": "code",
   "id": "eb0036d4e2511b49",
   "metadata": {
    "ExecuteTime": {
     "end_time": "2025-08-09T22:13:16.432683Z",
     "start_time": "2025-08-09T22:13:16.430272Z"
    }
   },
   "source": [
    "a4[1][0][2][4]"
   ],
   "outputs": [
    {
     "data": {
      "text/plain": [
       "np.int64(5)"
      ]
     },
     "execution_count": 42,
     "metadata": {},
     "output_type": "execute_result"
    }
   ],
   "execution_count": 42
  },
  {
   "cell_type": "code",
   "id": "d5f7ba7f3099ddf8",
   "metadata": {
    "ExecuteTime": {
     "end_time": "2025-08-09T22:13:16.460269Z",
     "start_time": "2025-08-09T22:13:16.458315Z"
    }
   },
   "source": [
    "a3"
   ],
   "outputs": [
    {
     "data": {
      "text/plain": [
       "array([[[ 1,  2,  3],\n",
       "        [ 4,  5,  6],\n",
       "        [ 7,  8,  9]],\n",
       "\n",
       "       [[10, 11, 12],\n",
       "        [13, 14, 15],\n",
       "        [16, 17, 18]]])"
      ]
     },
     "execution_count": 43,
     "metadata": {},
     "output_type": "execute_result"
    }
   ],
   "execution_count": 43
  },
  {
   "cell_type": "code",
   "id": "129bdc9e282b401b",
   "metadata": {
    "ExecuteTime": {
     "end_time": "2025-08-09T22:13:16.487336Z",
     "start_time": "2025-08-09T22:13:16.485931Z"
    }
   },
   "source": [
    "a3_split = a3[:2, :3, 2:3]"
   ],
   "outputs": [],
   "execution_count": 44
  },
  {
   "cell_type": "code",
   "id": "eb1ffe7b9e7cf1b",
   "metadata": {
    "ExecuteTime": {
     "end_time": "2025-08-09T22:13:16.510128Z",
     "start_time": "2025-08-09T22:13:16.508537Z"
    }
   },
   "source": [
    "print(a3_split)"
   ],
   "outputs": [
    {
     "name": "stdout",
     "output_type": "stream",
     "text": [
      "[[[ 3]\n",
      "  [ 6]\n",
      "  [ 9]]\n",
      "\n",
      " [[12]\n",
      "  [15]\n",
      "  [18]]]\n"
     ]
    }
   ],
   "execution_count": 45
  },
  {
   "cell_type": "markdown",
   "id": "9001dd78b8991e01",
   "metadata": {},
   "source": [
    "## Manipulating and Comparing arrays"
   ]
  },
  {
   "cell_type": "code",
   "id": "7312ada31df3e341",
   "metadata": {
    "ExecuteTime": {
     "end_time": "2025-08-09T22:13:16.543834Z",
     "start_time": "2025-08-09T22:13:16.541287Z"
    }
   },
   "source": [
    "### Arithmetic\n",
    "a1"
   ],
   "outputs": [
    {
     "data": {
      "text/plain": [
       "array([1, 2, 3])"
      ]
     },
     "execution_count": 46,
     "metadata": {},
     "output_type": "execute_result"
    }
   ],
   "execution_count": 46
  },
  {
   "cell_type": "code",
   "id": "e23fdf1a79c3de86",
   "metadata": {
    "ExecuteTime": {
     "end_time": "2025-08-09T22:13:16.565645Z",
     "start_time": "2025-08-09T22:13:16.564244Z"
    }
   },
   "source": [
    "ones = np.ones(3)"
   ],
   "outputs": [],
   "execution_count": 47
  },
  {
   "cell_type": "code",
   "id": "2ac0ce0260fd4442",
   "metadata": {
    "ExecuteTime": {
     "end_time": "2025-08-09T22:13:16.583935Z",
     "start_time": "2025-08-09T22:13:16.581876Z"
    }
   },
   "source": [
    "ones"
   ],
   "outputs": [
    {
     "data": {
      "text/plain": [
       "array([1., 1., 1.])"
      ]
     },
     "execution_count": 48,
     "metadata": {},
     "output_type": "execute_result"
    }
   ],
   "execution_count": 48
  },
  {
   "cell_type": "code",
   "id": "d4b2568c0cd2b2a",
   "metadata": {
    "ExecuteTime": {
     "end_time": "2025-08-09T22:13:16.606799Z",
     "start_time": "2025-08-09T22:13:16.604872Z"
    }
   },
   "source": [
    "# adding and subtracting equal sized arrays\n",
    "result = a1 + ones\n",
    "result"
   ],
   "outputs": [
    {
     "data": {
      "text/plain": [
       "array([2., 3., 4.])"
      ]
     },
     "execution_count": 49,
     "metadata": {},
     "output_type": "execute_result"
    }
   ],
   "execution_count": 49
  },
  {
   "cell_type": "code",
   "id": "f603a75a8940bd1d",
   "metadata": {
    "ExecuteTime": {
     "end_time": "2025-08-09T22:13:16.626703Z",
     "start_time": "2025-08-09T22:13:16.624735Z"
    }
   },
   "source": [
    "result = a1 - ones\n",
    "result"
   ],
   "outputs": [
    {
     "data": {
      "text/plain": [
       "array([0., 1., 2.])"
      ]
     },
     "execution_count": 50,
     "metadata": {},
     "output_type": "execute_result"
    }
   ],
   "execution_count": 50
  },
  {
   "cell_type": "code",
   "id": "62c20729df7a49c5",
   "metadata": {
    "ExecuteTime": {
     "end_time": "2025-08-09T22:13:16.647899Z",
     "start_time": "2025-08-09T22:13:16.646013Z"
    }
   },
   "source": [
    "# Look at a2 it is a 2D array with 3 elements, a1 also has 3 elements, so multiplying a1*a2 should take the elements of a1 and multiply them by BOTH roews in a2 (they also have 3 elements)\n",
    "result = a1*a2\n",
    "print(a1)\n",
    "print(a2)\n",
    "print(result)"
   ],
   "outputs": [
    {
     "name": "stdout",
     "output_type": "stream",
     "text": [
      "[1 2 3]\n",
      "[[1.  2.  3. ]\n",
      " [4.  5.  6.5]]\n",
      "[[ 1.   4.   9. ]\n",
      " [ 4.  10.  19.5]]\n"
     ]
    }
   ],
   "execution_count": 51
  },
  {
   "cell_type": "code",
   "id": "e6bfef7153d494e0",
   "metadata": {
    "ExecuteTime": {
     "end_time": "2025-08-09T22:13:16.673384Z",
     "start_time": "2025-08-09T22:13:16.671704Z"
    }
   },
   "source": [
    "# a1 * a3 is possible because the shape is correct\n",
    "result = a1 * a3\n",
    "print(a1)\n",
    "print(a3)\n",
    "print(result)"
   ],
   "outputs": [
    {
     "name": "stdout",
     "output_type": "stream",
     "text": [
      "[1 2 3]\n",
      "[[[ 1  2  3]\n",
      "  [ 4  5  6]\n",
      "  [ 7  8  9]]\n",
      "\n",
      " [[10 11 12]\n",
      "  [13 14 15]\n",
      "  [16 17 18]]]\n",
      "[[[ 1  4  9]\n",
      "  [ 4 10 18]\n",
      "  [ 7 16 27]]\n",
      "\n",
      " [[10 22 36]\n",
      "  [13 28 45]\n",
      "  [16 34 54]]]\n"
     ]
    }
   ],
   "execution_count": 52
  },
  {
   "cell_type": "code",
   "id": "401b5038b6e8bd83",
   "metadata": {
    "ExecuteTime": {
     "end_time": "2025-08-09T22:13:16.710760Z",
     "start_time": "2025-08-09T22:13:16.709219Z"
    }
   },
   "source": [
    "# Solving broad casting issues with different shapes of arrays\n",
    "# think on this problem, maybe reshape() an array\n",
    "print(a2)\n",
    "print(a3)"
   ],
   "outputs": [
    {
     "name": "stdout",
     "output_type": "stream",
     "text": [
      "[[1.  2.  3. ]\n",
      " [4.  5.  6.5]]\n",
      "[[[ 1  2  3]\n",
      "  [ 4  5  6]\n",
      "  [ 7  8  9]]\n",
      "\n",
      " [[10 11 12]\n",
      "  [13 14 15]\n",
      "  [16 17 18]]]\n"
     ]
    }
   ],
   "execution_count": 53
  },
  {
   "cell_type": "code",
   "id": "d8e229b9848f644c",
   "metadata": {
    "ExecuteTime": {
     "end_time": "2025-08-09T22:13:16.751499Z",
     "start_time": "2025-08-09T22:13:16.749230Z"
    }
   },
   "source": [
    "print(a2.shape)\n",
    "print(a3.shape)"
   ],
   "outputs": [
    {
     "name": "stdout",
     "output_type": "stream",
     "text": [
      "(2, 3)\n",
      "(2, 3, 3)\n"
     ]
    }
   ],
   "execution_count": 54
  },
  {
   "cell_type": "code",
   "id": "4ef4b97e59f7aa68",
   "metadata": {
    "ExecuteTime": {
     "end_time": "2025-08-09T22:13:16.782028Z",
     "start_time": "2025-08-09T22:13:16.780065Z"
    }
   },
   "source": [
    "reshaped_array = a2[:, np.newaxis] + a3\n",
    "reshaped_array"
   ],
   "outputs": [
    {
     "data": {
      "text/plain": [
       "array([[[ 2. ,  4. ,  6. ],\n",
       "        [ 5. ,  7. ,  9. ],\n",
       "        [ 8. , 10. , 12. ]],\n",
       "\n",
       "       [[14. , 16. , 18.5],\n",
       "        [17. , 19. , 21.5],\n",
       "        [20. , 22. , 24.5]]])"
      ]
     },
     "execution_count": 55,
     "metadata": {},
     "output_type": "execute_result"
    }
   ],
   "execution_count": 55
  },
  {
   "cell_type": "code",
   "id": "d3db6f21053ca5ad",
   "metadata": {
    "ExecuteTime": {
     "end_time": "2025-08-09T22:13:16.803894Z",
     "start_time": "2025-08-09T22:13:16.802099Z"
    }
   },
   "source": [
    "print(\"This is a2 normal\")\n",
    "print(a2)\n",
    "print(\"This is a2 modified\")\n",
    "a2mod = a2[:, np.newaxis]\n",
    "print(a2mod)"
   ],
   "outputs": [
    {
     "name": "stdout",
     "output_type": "stream",
     "text": [
      "This is a2 normal\n",
      "[[1.  2.  3. ]\n",
      " [4.  5.  6.5]]\n",
      "This is a2 modified\n",
      "[[[1.  2.  3. ]]\n",
      "\n",
      " [[4.  5.  6.5]]]\n"
     ]
    }
   ],
   "execution_count": 56
  },
  {
   "cell_type": "code",
   "id": "e073ece787fde6c9",
   "metadata": {
    "ExecuteTime": {
     "end_time": "2025-08-09T22:13:16.822615Z",
     "start_time": "2025-08-09T22:13:16.820890Z"
    }
   },
   "source": [
    "a2.shape"
   ],
   "outputs": [
    {
     "data": {
      "text/plain": [
       "(2, 3)"
      ]
     },
     "execution_count": 57,
     "metadata": {},
     "output_type": "execute_result"
    }
   ],
   "execution_count": 57
  },
  {
   "cell_type": "code",
   "id": "a7b3b7caa41e22b6",
   "metadata": {
    "ExecuteTime": {
     "end_time": "2025-08-09T22:13:16.843864Z",
     "start_time": "2025-08-09T22:13:16.841804Z"
    }
   },
   "source": [
    "a3.shape"
   ],
   "outputs": [
    {
     "data": {
      "text/plain": [
       "(2, 3, 3)"
      ]
     },
     "execution_count": 58,
     "metadata": {},
     "output_type": "execute_result"
    }
   ],
   "execution_count": 58
  },
  {
   "cell_type": "code",
   "id": "f0f951014afcaf2a",
   "metadata": {
    "ExecuteTime": {
     "end_time": "2025-08-09T22:13:16.862301Z",
     "start_time": "2025-08-09T22:13:16.860496Z"
    }
   },
   "source": [
    "a2mod.shape"
   ],
   "outputs": [
    {
     "data": {
      "text/plain": [
       "(2, 1, 3)"
      ]
     },
     "execution_count": 59,
     "metadata": {},
     "output_type": "execute_result"
    }
   ],
   "execution_count": 59
  },
  {
   "cell_type": "markdown",
   "id": "25ab77636bf726b6",
   "metadata": {},
   "source": [
    "### Aggregation\n",
    "Aggregation = performing the same operation on a number of things"
   ]
  },
  {
   "cell_type": "code",
   "id": "d266785043a929eb",
   "metadata": {
    "ExecuteTime": {
     "end_time": "2025-08-09T22:13:16.880891Z",
     "start_time": "2025-08-09T22:13:16.879462Z"
    }
   },
   "source": [
    "listy_list = [1, 2, 3]\n",
    "print(listy_list)\n",
    "print(type(listy_list))\n"
   ],
   "outputs": [
    {
     "name": "stdout",
     "output_type": "stream",
     "text": [
      "[1, 2, 3]\n",
      "<class 'list'>\n"
     ]
    }
   ],
   "execution_count": 60
  },
  {
   "cell_type": "code",
   "id": "fd53c15d698518e0",
   "metadata": {
    "ExecuteTime": {
     "end_time": "2025-08-09T22:13:16.904986Z",
     "start_time": "2025-08-09T22:13:16.903362Z"
    }
   },
   "source": [
    "print(a1)\n",
    "print(listy_list)"
   ],
   "outputs": [
    {
     "name": "stdout",
     "output_type": "stream",
     "text": [
      "[1 2 3]\n",
      "[1, 2, 3]\n"
     ]
    }
   ],
   "execution_count": 61
  },
  {
   "cell_type": "code",
   "id": "72ce77a83f7b7eef",
   "metadata": {
    "ExecuteTime": {
     "end_time": "2025-08-09T22:13:16.923514Z",
     "start_time": "2025-08-09T22:13:16.921708Z"
    }
   },
   "source": [
    "sum(listy_list)"
   ],
   "outputs": [
    {
     "data": {
      "text/plain": [
       "6"
      ]
     },
     "execution_count": 62,
     "metadata": {},
     "output_type": "execute_result"
    }
   ],
   "execution_count": 62
  },
  {
   "cell_type": "code",
   "id": "c8d39e17c86819de",
   "metadata": {
    "ExecuteTime": {
     "end_time": "2025-08-09T22:13:16.944718Z",
     "start_time": "2025-08-09T22:13:16.942939Z"
    }
   },
   "source": [
    "sum(a1)"
   ],
   "outputs": [
    {
     "data": {
      "text/plain": [
       "np.int64(6)"
      ]
     },
     "execution_count": 63,
     "metadata": {},
     "output_type": "execute_result"
    }
   ],
   "execution_count": 63
  },
  {
   "cell_type": "code",
   "id": "fefc2943dd376c4",
   "metadata": {
    "ExecuteTime": {
     "end_time": "2025-08-09T22:13:16.963861Z",
     "start_time": "2025-08-09T22:13:16.962135Z"
    }
   },
   "source": [
    "np.sum(a1)"
   ],
   "outputs": [
    {
     "data": {
      "text/plain": [
       "np.int64(6)"
      ]
     },
     "execution_count": 64,
     "metadata": {},
     "output_type": "execute_result"
    }
   ],
   "execution_count": 64
  },
  {
   "cell_type": "code",
   "id": "a2db6a7c489a40e3",
   "metadata": {
    "ExecuteTime": {
     "end_time": "2025-08-09T22:13:16.983564Z",
     "start_time": "2025-08-09T22:13:16.981634Z"
    }
   },
   "source": [
    "massive_array = np.random.random(100000)\n",
    "massive_array.size"
   ],
   "outputs": [
    {
     "data": {
      "text/plain": [
       "100000"
      ]
     },
     "execution_count": 65,
     "metadata": {},
     "output_type": "execute_result"
    }
   ],
   "execution_count": 65
  },
  {
   "cell_type": "code",
   "id": "8d4d9e8fa1675b24",
   "metadata": {
    "ExecuteTime": {
     "end_time": "2025-08-09T22:13:17.003426Z",
     "start_time": "2025-08-09T22:13:17.001464Z"
    }
   },
   "source": [
    "massive_array[:10]"
   ],
   "outputs": [
    {
     "data": {
      "text/plain": [
       "array([0.08081596, 0.46521234, 0.67711049, 0.007521  , 0.67859914,\n",
       "       0.80201725, 0.97211109, 0.86017942, 0.42101686, 0.89977262])"
      ]
     },
     "execution_count": 66,
     "metadata": {},
     "output_type": "execute_result"
    }
   ],
   "execution_count": 66
  },
  {
   "cell_type": "code",
   "id": "9937e57d1db6979",
   "metadata": {
    "ExecuteTime": {
     "end_time": "2025-08-09T22:13:29.821455Z",
     "start_time": "2025-08-09T22:13:17.030005Z"
    }
   },
   "source": [
    "%timeit sum(massive_array)\n",
    "%timeit np.sum(massive_array)"
   ],
   "outputs": [
    {
     "name": "stdout",
     "output_type": "stream",
     "text": [
      "2.89 ms ± 19.3 μs per loop (mean ± std. dev. of 7 runs, 100 loops each)\n",
      "12.9 μs ± 161 ns per loop (mean ± std. dev. of 7 runs, 100,000 loops each)\n"
     ]
    }
   ],
   "execution_count": 67
  },
  {
   "cell_type": "code",
   "id": "e89f145f1edf4bac",
   "metadata": {
    "ExecuteTime": {
     "end_time": "2025-08-09T22:13:29.834460Z",
     "start_time": "2025-08-09T22:13:29.830095Z"
    }
   },
   "source": [
    "2910/12.8"
   ],
   "outputs": [
    {
     "data": {
      "text/plain": [
       "227.34375"
      ]
     },
     "execution_count": 68,
     "metadata": {},
     "output_type": "execute_result"
    }
   ],
   "execution_count": 68
  },
  {
   "cell_type": "code",
   "id": "3e25a9a3c3801fe8",
   "metadata": {
    "ExecuteTime": {
     "end_time": "2025-08-09T22:13:29.854560Z",
     "start_time": "2025-08-09T22:13:29.852802Z"
    }
   },
   "source": [
    "# So the np.sum is 227 times faster than the regular python sum.\n",
    "# That is why its better to use np.sum on np data and not python sum on np data"
   ],
   "outputs": [],
   "execution_count": 69
  },
  {
   "cell_type": "code",
   "id": "3d1e1a460a66b8df",
   "metadata": {
    "ExecuteTime": {
     "end_time": "2025-08-09T22:13:29.868302Z",
     "start_time": "2025-08-09T22:13:29.866302Z"
    }
   },
   "source": [
    "a2"
   ],
   "outputs": [
    {
     "data": {
      "text/plain": [
       "array([[1. , 2. , 3. ],\n",
       "       [4. , 5. , 6.5]])"
      ]
     },
     "execution_count": 70,
     "metadata": {},
     "output_type": "execute_result"
    }
   ],
   "execution_count": 70
  },
  {
   "cell_type": "code",
   "id": "73f2c7902215e534",
   "metadata": {
    "ExecuteTime": {
     "end_time": "2025-08-09T22:13:29.915609Z",
     "start_time": "2025-08-09T22:13:29.913784Z"
    }
   },
   "source": [
    "print(np.mean(a2))\n",
    "print(21.5 / np.size(a2))"
   ],
   "outputs": [
    {
     "name": "stdout",
     "output_type": "stream",
     "text": [
      "3.5833333333333335\n",
      "3.5833333333333335\n"
     ]
    }
   ],
   "execution_count": 71
  },
  {
   "cell_type": "code",
   "id": "32cace037f8136e",
   "metadata": {
    "ExecuteTime": {
     "end_time": "2025-08-09T22:13:29.960402Z",
     "start_time": "2025-08-09T22:13:29.957384Z"
    }
   },
   "source": [
    "# Statistical Operations\n",
    "# MEAN or AVERAGE\n",
    "print(\"The Mean / average is: \")\n",
    "print(np.mean(a2))\n",
    "\n",
    "# STANDARD DEVIATION = a measure of how spread out a number is from the mean\n",
    "# and is the square root of the variant ... so sqrt(np.var(a2))\n",
    "print(\"The Standard Deviation is: \")\n",
    "print(np.std(a2))\n",
    "\n",
    "# Square root of the variant\n",
    "print(\"The sqrt of the variant is: \")\n",
    "print(np.sqrt(np.var(a2)))\n",
    "\n",
    "# VARIANCE\n",
    "# The measure of the average degree to which each number is different to the mean.\n",
    "# Higher variance = wider range of numbers\n",
    "# Lower variance = lower range of numbers\n",
    "print(\"The Variance is: \")\n",
    "print(np.var(a2))"
   ],
   "outputs": [
    {
     "name": "stdout",
     "output_type": "stream",
     "text": [
      "The Mean / average is: \n",
      "3.5833333333333335\n",
      "The Standard Deviation is: \n",
      "1.8352262954621035\n",
      "The sqrt of the variant is: \n",
      "1.8352262954621035\n",
      "The Variance is: \n",
      "3.368055555555556\n"
     ]
    }
   ],
   "execution_count": 72
  },
  {
   "cell_type": "markdown",
   "id": "a9b6d515aaa8ab6",
   "metadata": {},
   "source": [
    "## Real World Example of calculating Means and Variances and what they are by definition"
   ]
  },
  {
   "cell_type": "markdown",
   "id": "5f0b28b95937c9be",
   "metadata": {},
   "source": [
    "## Problem Definition:\n",
    "![](statistics-dogs-graph.gif)\n",
    "\n",
    "To calculate the variance follow these steps:\n",
    "\n",
    "Calculate the Mean (the simple average of the numbers)\n",
    "\n",
    "Then for each number: subtract the Mean and square the result (the squared difference).\n",
    "\n",
    "Then calculate the average of those squared differences. (Why Square?)\n",
    "\n",
    "Example:\n",
    "You and your friends have just measured the heights of your dogs (in millimeters):\n",
    "\n",
    "dogs on graph shoulder heights\n",
    "\n",
    "The heights (at the shoulders) are: 600 mm, 470 mm, 170 mm, 430 mm and 300 mm.\n",
    "\n",
    "Find out the Mean, the Variance, and the Standard Deviation."
   ]
  },
  {
   "cell_type": "code",
   "id": "ff46388338d10c59",
   "metadata": {
    "ExecuteTime": {
     "end_time": "2025-08-09T22:13:30.282925Z",
     "start_time": "2025-08-09T22:13:30.004451Z"
    }
   },
   "source": [
    "# Het a Histogram of the dog height data\n",
    "import matplotlib.pyplot as plt\n",
    "dog_heights = np.array([170, 300, 430, 470, 600])\n",
    "plt.hist(dog_heights, bins=50)\n",
    "plt.show()"
   ],
   "outputs": [
    {
     "data": {
      "text/plain": [
       "<Figure size 640x480 with 1 Axes>"
      ],
      "image/png": "[encoded data removed]"
     },
     "metadata": {},
     "output_type": "display_data"
    }
   ],
   "execution_count": 73
  },
  {
   "cell_type": "code",
   "id": "a25e5b75883e3a40",
   "metadata": {
    "ExecuteTime": {
     "end_time": "2025-08-09T22:13:30.293461Z",
     "start_time": "2025-08-09T22:13:30.291523Z"
    }
   },
   "source": [
    "# Step 1: Calculate the mean\n",
    "print(\"The dog heights\")\n",
    "dog_heights = np.array([170, 300, 430, 470, 600])\n",
    "print(dog_heights)"
   ],
   "outputs": [
    {
     "name": "stdout",
     "output_type": "stream",
     "text": [
      "The dog heights\n",
      "[170 300 430 470 600]\n"
     ]
    }
   ],
   "execution_count": 74
  },
  {
   "cell_type": "code",
   "id": "94c9e7b0a73c0bfa",
   "metadata": {
    "ExecuteTime": {
     "end_time": "2025-08-09T22:13:30.314062Z",
     "start_time": "2025-08-09T22:13:30.312165Z"
    }
   },
   "source": [
    "print(\"MEAN The dog heights average / mean\")\n",
    "dog_heights_mean = np.mean(dog_heights)\n",
    "print(dog_heights_mean)"
   ],
   "outputs": [
    {
     "name": "stdout",
     "output_type": "stream",
     "text": [
      "MEAN The dog heights average / mean\n",
      "394.0\n"
     ]
    }
   ],
   "execution_count": 75
  },
  {
   "cell_type": "code",
   "id": "e6ed5912d86249ea",
   "metadata": {
    "ExecuteTime": {
     "end_time": "2025-08-09T22:13:30.341115Z",
     "start_time": "2025-08-09T22:13:30.339016Z"
    }
   },
   "source": [
    "print(\"Now subtract the mean() from each number\")\n",
    "dog_heights_sub_mean = np.subtract(dog_heights, dog_heights_mean)\n",
    "print(dog_heights_sub_mean)"
   ],
   "outputs": [
    {
     "name": "stdout",
     "output_type": "stream",
     "text": [
      "Now subtract the mean() from each number\n",
      "[-224.  -94.   36.   76.  206.]\n"
     ]
    }
   ],
   "execution_count": 76
  },
  {
   "cell_type": "code",
   "id": "bf39611ae6e5338e",
   "metadata": {
    "ExecuteTime": {
     "end_time": "2025-08-09T22:13:30.374446Z",
     "start_time": "2025-08-09T22:13:30.372726Z"
    }
   },
   "source": [
    "print(\"Now square each number in the array\")\n",
    "dog_heights_sub_mean_sqrd = np.square(dog_heights_sub_mean)\n",
    "print(dog_heights_sub_mean_sqrd)"
   ],
   "outputs": [
    {
     "name": "stdout",
     "output_type": "stream",
     "text": [
      "Now square each number in the array\n",
      "[50176.  8836.  1296.  5776. 42436.]\n"
     ]
    }
   ],
   "execution_count": 77
  },
  {
   "cell_type": "code",
   "id": "fe3b27a18172eda5",
   "metadata": {
    "ExecuteTime": {
     "end_time": "2025-08-09T22:13:30.396618Z",
     "start_time": "2025-08-09T22:13:30.395054Z"
    }
   },
   "source": [
    "print(\"VARIANCE = Now take the average/mean of the square array [[dog_heights_sub_mean_sqrd]]\")\n",
    "dog_heights_sub_mean_sqrd_mean = np.mean(dog_heights_sub_mean_sqrd)\n",
    "print(dog_heights_sub_mean_sqrd_mean)"
   ],
   "outputs": [
    {
     "name": "stdout",
     "output_type": "stream",
     "text": [
      "VARIANCE = Now take the average/mean of the square array [[dog_heights_sub_mean_sqrd]]\n",
      "21704.0\n"
     ]
    }
   ],
   "execution_count": 78
  },
  {
   "cell_type": "code",
   "id": "a2c2b2d182e7cceb",
   "metadata": {
    "ExecuteTime": {
     "end_time": "2025-08-09T22:13:30.414496Z",
     "start_time": "2025-08-09T22:13:30.412722Z"
    }
   },
   "source": [
    "print(\"STANDARD DEVIATION Now take the sqrt of the Variance (21704)\")\n",
    "standard_dev = np.sqrt(dog_heights_sub_mean_sqrd_mean)\n",
    "print(standard_dev)"
   ],
   "outputs": [
    {
     "name": "stdout",
     "output_type": "stream",
     "text": [
      "STANDARD DEVIATION Now take the sqrt of the Variance (21704)\n",
      "147.32277488562318\n"
     ]
    }
   ],
   "execution_count": 79
  },
  {
   "cell_type": "markdown",
   "id": "f1581a179ee98753",
   "metadata": {},
   "source": [
    "## Demo of Standard Deviation and Variance"
   ]
  },
  {
   "cell_type": "code",
   "id": "47830d3d714f8296",
   "metadata": {
    "ExecuteTime": {
     "end_time": "2025-08-09T22:13:30.432523Z",
     "start_time": "2025-08-09T22:13:30.431131Z"
    }
   },
   "source": [
    "high_var_array = np.array([1, 100, 200, 300, 4000, 5000])\n",
    "low_var_array = np.array([2, 4, 6, 8, 10])"
   ],
   "outputs": [],
   "execution_count": 80
  },
  {
   "cell_type": "code",
   "id": "be605ec46dacd239",
   "metadata": {
    "ExecuteTime": {
     "end_time": "2025-08-09T22:13:30.451648Z",
     "start_time": "2025-08-09T22:13:30.449524Z"
    }
   },
   "source": [
    "# Get the Variance\n",
    "np.var(high_var_array), np.var(low_var_array)"
   ],
   "outputs": [
    {
     "data": {
      "text/plain": [
       "(np.float64(4296133.472222221), np.float64(8.0))"
      ]
     },
     "execution_count": 81,
     "metadata": {},
     "output_type": "execute_result"
    }
   ],
   "execution_count": 81
  },
  {
   "cell_type": "code",
   "id": "2c779480eca2c803",
   "metadata": {
    "ExecuteTime": {
     "end_time": "2025-08-09T22:13:30.472389Z",
     "start_time": "2025-08-09T22:13:30.470138Z"
    }
   },
   "source": [
    "# SQRT of variation is the Standard Deviation\n",
    "np.sqrt(np.var(high_var_array)), np.sqrt(np.var(low_var_array))"
   ],
   "outputs": [
    {
     "data": {
      "text/plain": [
       "(np.float64(2072.711623024829), np.float64(2.8284271247461903))"
      ]
     },
     "execution_count": 82,
     "metadata": {},
     "output_type": "execute_result"
    }
   ],
   "execution_count": 82
  },
  {
   "cell_type": "code",
   "id": "ab6d16377ad572d7",
   "metadata": {
    "ExecuteTime": {
     "end_time": "2025-08-09T22:13:30.490635Z",
     "start_time": "2025-08-09T22:13:30.488675Z"
    }
   },
   "source": [
    "# SQRT'd values above show that they are the same as using the std() function\n",
    "np.std(high_var_array), np.std(low_var_array)"
   ],
   "outputs": [
    {
     "data": {
      "text/plain": [
       "(np.float64(2072.711623024829), np.float64(2.8284271247461903))"
      ]
     },
     "execution_count": 83,
     "metadata": {},
     "output_type": "execute_result"
    }
   ],
   "execution_count": 83
  },
  {
   "cell_type": "code",
   "id": "9d56df86a564fd97",
   "metadata": {
    "ExecuteTime": {
     "end_time": "2025-08-09T22:13:30.509999Z",
     "start_time": "2025-08-09T22:13:30.507997Z"
    }
   },
   "source": [
    "# Get the mean\n",
    "np.mean(high_var_array), np.mean(low_var_array)"
   ],
   "outputs": [
    {
     "data": {
      "text/plain": [
       "(np.float64(1600.1666666666667), np.float64(6.0))"
      ]
     },
     "execution_count": 84,
     "metadata": {},
     "output_type": "execute_result"
    }
   ],
   "execution_count": 84
  },
  {
   "cell_type": "code",
   "id": "757133982f49dc6b",
   "metadata": {
    "ExecuteTime": {
     "end_time": "2025-08-09T22:13:30.556382Z",
     "start_time": "2025-08-09T22:13:30.526752Z"
    }
   },
   "source": [
    "import matplotlib.pyplot as plt\n",
    "plt.hist(high_var_array)\n",
    "plt.show()"
   ],
   "outputs": [
    {
     "data": {
      "text/plain": [
       "<Figure size 640x480 with 1 Axes>"
      ],
      "image/png": "[encoded data removed]"
     },
     "metadata": {},
     "output_type": "display_data"
    }
   ],
   "execution_count": 85
  },
  {
   "cell_type": "code",
   "id": "31f4129b8548f52a",
   "metadata": {
    "ExecuteTime": {
     "end_time": "2025-08-09T22:13:30.595651Z",
     "start_time": "2025-08-09T22:13:30.567524Z"
    }
   },
   "source": [
    "plt.hist(low_var_array, bins=10)\n",
    "plt.show()"
   ],
   "outputs": [
    {
     "data": {
      "text/plain": [
       "<Figure size 640x480 with 1 Axes>"
      ],
      "image/png": "[encoded data removed]"
     },
     "metadata": {},
     "output_type": "display_data"
    }
   ],
   "execution_count": 86
  },
  {
   "cell_type": "markdown",
   "id": "d00583ea0135e362",
   "metadata": {},
   "source": [
    "### Reshaping and Transposing Arrays"
   ]
  },
  {
   "cell_type": "code",
   "id": "f4e90be1b05fdcb4",
   "metadata": {
    "ExecuteTime": {
     "end_time": "2025-08-09T22:13:30.607621Z",
     "start_time": "2025-08-09T22:13:30.606226Z"
    }
   },
   "source": [
    "print(a2)\n",
    "print(a2.shape)"
   ],
   "outputs": [
    {
     "name": "stdout",
     "output_type": "stream",
     "text": [
      "[[1.  2.  3. ]\n",
      " [4.  5.  6.5]]\n",
      "(2, 3)\n"
     ]
    }
   ],
   "execution_count": 87
  },
  {
   "cell_type": "code",
   "id": "ad41c307aaf4e924",
   "metadata": {
    "ExecuteTime": {
     "end_time": "2025-08-09T22:13:30.626400Z",
     "start_time": "2025-08-09T22:13:30.624815Z"
    }
   },
   "source": [
    "print(a3)\n",
    "print(a3.shape)"
   ],
   "outputs": [
    {
     "name": "stdout",
     "output_type": "stream",
     "text": [
      "[[[ 1  2  3]\n",
      "  [ 4  5  6]\n",
      "  [ 7  8  9]]\n",
      "\n",
      " [[10 11 12]\n",
      "  [13 14 15]\n",
      "  [16 17 18]]]\n",
      "(2, 3, 3)\n"
     ]
    }
   ],
   "execution_count": 88
  },
  {
   "cell_type": "code",
   "id": "b206b79b672dab4d",
   "metadata": {
    "ExecuteTime": {
     "end_time": "2025-08-09T22:13:30.649736Z",
     "start_time": "2025-08-09T22:13:30.647612Z"
    }
   },
   "source": [
    "a2r = a2.reshape(2,3,1)\n",
    "print(a2.reshape(2,3,1).shape)\n",
    "print(\"***\\n\" + str(a2) + \"\\n***\")\n",
    "print(\"***\\n\" + str(a2r) + \"\\n***\")"
   ],
   "outputs": [
    {
     "name": "stdout",
     "output_type": "stream",
     "text": [
      "(2, 3, 1)\n",
      "***\n",
      "[[1.  2.  3. ]\n",
      " [4.  5.  6.5]]\n",
      "***\n",
      "***\n",
      "[[[1. ]\n",
      "  [2. ]\n",
      "  [3. ]]\n",
      "\n",
      " [[4. ]\n",
      "  [5. ]\n",
      "  [6.5]]]\n",
      "***\n"
     ]
    }
   ],
   "execution_count": 89
  },
  {
   "cell_type": "code",
   "id": "21a6ddd6b00c3ae0",
   "metadata": {
    "ExecuteTime": {
     "end_time": "2025-08-09T22:13:30.671198Z",
     "start_time": "2025-08-09T22:13:30.668769Z"
    }
   },
   "source": [
    "result = a2r * a3\n",
    "print(\"**** a2r ****\")\n",
    "print(a2r)\n",
    "print(\"**** a3 ****\")\n",
    "print(a3)\n",
    "print(\"**** a2r * a3 ****\")\n",
    "print(result)"
   ],
   "outputs": [
    {
     "name": "stdout",
     "output_type": "stream",
     "text": [
      "**** a2r ****\n",
      "[[[1. ]\n",
      "  [2. ]\n",
      "  [3. ]]\n",
      "\n",
      " [[4. ]\n",
      "  [5. ]\n",
      "  [6.5]]]\n",
      "**** a3 ****\n",
      "[[[ 1  2  3]\n",
      "  [ 4  5  6]\n",
      "  [ 7  8  9]]\n",
      "\n",
      " [[10 11 12]\n",
      "  [13 14 15]\n",
      "  [16 17 18]]]\n",
      "**** a2r * a3 ****\n",
      "[[[  1.    2.    3. ]\n",
      "  [  8.   10.   12. ]\n",
      "  [ 21.   24.   27. ]]\n",
      "\n",
      " [[ 40.   44.   48. ]\n",
      "  [ 65.   70.   75. ]\n",
      "  [104.  110.5 117. ]]]\n"
     ]
    }
   ],
   "execution_count": 90
  },
  {
   "cell_type": "markdown",
   "id": "1a6c17da99b59e1f",
   "metadata": {},
   "source": [
    "## Transposing arrays - switches the axes"
   ]
  },
  {
   "cell_type": "code",
   "id": "39b9236768a52d8",
   "metadata": {
    "ExecuteTime": {
     "end_time": "2025-08-09T22:13:30.686837Z",
     "start_time": "2025-08-09T22:13:30.685200Z"
    }
   },
   "source": [
    "print(a2)\n",
    "print(a2.shape)"
   ],
   "outputs": [
    {
     "name": "stdout",
     "output_type": "stream",
     "text": [
      "[[1.  2.  3. ]\n",
      " [4.  5.  6.5]]\n",
      "(2, 3)\n"
     ]
    }
   ],
   "execution_count": 91
  },
  {
   "cell_type": "code",
   "id": "207d814b6d399fa6",
   "metadata": {
    "ExecuteTime": {
     "end_time": "2025-08-09T22:13:30.708993Z",
     "start_time": "2025-08-09T22:13:30.707520Z"
    }
   },
   "source": [
    "a2tr = a2.T\n",
    "print(a2tr)\n",
    "print(a2tr.shape)"
   ],
   "outputs": [
    {
     "name": "stdout",
     "output_type": "stream",
     "text": [
      "[[1.  4. ]\n",
      " [2.  5. ]\n",
      " [3.  6.5]]\n",
      "(3, 2)\n"
     ]
    }
   ],
   "execution_count": 92
  },
  {
   "cell_type": "code",
   "id": "4b171e2e30cb60ef",
   "metadata": {
    "ExecuteTime": {
     "end_time": "2025-08-09T22:13:30.728877Z",
     "start_time": "2025-08-09T22:13:30.727246Z"
    }
   },
   "source": [
    "# Transpose a 3 dim array\n",
    "print(a3)\n",
    "print(a3.shape)\n",
    "a3tr = a3.T\n",
    "print(a3tr)\n",
    "print(a3tr.shape)"
   ],
   "outputs": [
    {
     "name": "stdout",
     "output_type": "stream",
     "text": [
      "[[[ 1  2  3]\n",
      "  [ 4  5  6]\n",
      "  [ 7  8  9]]\n",
      "\n",
      " [[10 11 12]\n",
      "  [13 14 15]\n",
      "  [16 17 18]]]\n",
      "(2, 3, 3)\n",
      "[[[ 1 10]\n",
      "  [ 4 13]\n",
      "  [ 7 16]]\n",
      "\n",
      " [[ 2 11]\n",
      "  [ 5 14]\n",
      "  [ 8 17]]\n",
      "\n",
      " [[ 3 12]\n",
      "  [ 6 15]\n",
      "  [ 9 18]]]\n",
      "(3, 3, 2)\n"
     ]
    }
   ],
   "execution_count": 93
  },
  {
   "cell_type": "code",
   "id": "e81f26d93955f1d0",
   "metadata": {
    "ExecuteTime": {
     "end_time": "2025-08-09T22:13:30.748675Z",
     "start_time": "2025-08-09T22:13:30.746977Z"
    }
   },
   "source": [
    "## Video #74\n",
    "np.random.seed(seed=0)\n",
    "\n",
    "mat1 = np.random.randint(10, size=(5, 3))\n",
    "mat2 = np.random.randint(10, size=(5, 3))\n",
    "print(mat1)\n",
    "print(mat2)\n",
    "print(mat1.shape)\n",
    "print(mat2.shape)\n"
   ],
   "outputs": [
    {
     "name": "stdout",
     "output_type": "stream",
     "text": [
      "[[5 0 3]\n",
      " [3 7 9]\n",
      " [3 5 2]\n",
      " [4 7 6]\n",
      " [8 8 1]]\n",
      "[[6 7 7]\n",
      " [8 1 5]\n",
      " [9 8 9]\n",
      " [4 3 0]\n",
      " [3 5 0]]\n",
      "(5, 3)\n",
      "(5, 3)\n"
     ]
    }
   ],
   "execution_count": 94
  },
  {
   "cell_type": "code",
   "id": "7ccba5cd4c1c59e4",
   "metadata": {
    "ExecuteTime": {
     "end_time": "2025-08-09T22:13:30.768300Z",
     "start_time": "2025-08-09T22:13:30.766943Z"
    }
   },
   "source": [
    "# Element-wise multiplication (Hadamard product)\n",
    "mulres = mat1*mat2\n",
    "print(mulres)"
   ],
   "outputs": [
    {
     "name": "stdout",
     "output_type": "stream",
     "text": [
      "[[30  0 21]\n",
      " [24  7 45]\n",
      " [27 40 18]\n",
      " [16 21  0]\n",
      " [24 40  0]]\n"
     ]
    }
   ],
   "execution_count": 95
  },
  {
   "cell_type": "markdown",
   "id": "af47f4e70af72cec",
   "metadata": {},
   "source": [
    "## Dot Product"
   ]
  },
  {
   "cell_type": "markdown",
   "id": "b757d0621781ca41",
   "metadata": {},
   "source": [
    "![](dot_product_image.jpg)"
   ]
  },
  {
   "cell_type": "code",
   "id": "e54073293d4e38e3",
   "metadata": {
    "ExecuteTime": {
     "end_time": "2025-08-09T22:13:30.789456Z",
     "start_time": "2025-08-09T22:13:30.787627Z"
    }
   },
   "source": [
    "# Dot Product\n",
    "dp_res = np.dot(mat1, mat2.T)\n",
    "print(dp_res)"
   ],
   "outputs": [
    {
     "name": "stdout",
     "output_type": "stream",
     "text": [
      "[[ 51  55  72  20  15]\n",
      " [130  76 164  33  44]\n",
      " [ 67  39  85  27  34]\n",
      " [115  69 146  37  47]\n",
      " [111  77 145  56  64]]\n"
     ]
    }
   ],
   "execution_count": 96
  },
  {
   "cell_type": "code",
   "id": "b85691369fe6e103",
   "metadata": {
    "ExecuteTime": {
     "end_time": "2025-08-09T22:13:30.807772Z",
     "start_time": "2025-08-09T22:13:30.806256Z"
    }
   },
   "source": [
    "print(mat1)"
   ],
   "outputs": [
    {
     "name": "stdout",
     "output_type": "stream",
     "text": [
      "[[5 0 3]\n",
      " [3 7 9]\n",
      " [3 5 2]\n",
      " [4 7 6]\n",
      " [8 8 1]]\n"
     ]
    }
   ],
   "execution_count": 97
  },
  {
   "cell_type": "code",
   "id": "93e9d5044e7e0262",
   "metadata": {
    "ExecuteTime": {
     "end_time": "2025-08-09T22:13:30.833403Z",
     "start_time": "2025-08-09T22:13:30.831552Z"
    }
   },
   "source": [
    "print(mat2.T)"
   ],
   "outputs": [
    {
     "name": "stdout",
     "output_type": "stream",
     "text": [
      "[[6 8 9 4 3]\n",
      " [7 1 8 3 5]\n",
      " [7 5 9 0 0]]\n"
     ]
    }
   ],
   "execution_count": 98
  },
  {
   "cell_type": "code",
   "id": "ed43d329ee640264",
   "metadata": {
    "ExecuteTime": {
     "end_time": "2025-08-09T22:13:30.861968Z",
     "start_time": "2025-08-09T22:13:30.860519Z"
    }
   },
   "source": [
    "# Notice the inner values of (3) being the same allowing for the multiplication to occur)\n",
    "# two 5x3 matrices so one gets transposed to a 3x5 so we have (5,3) * (3,5)\n",
    "print(mat1.shape, mat2.T.shape)\n",
    "print(dp_res.shape)"
   ],
   "outputs": [
    {
     "name": "stdout",
     "output_type": "stream",
     "text": [
      "(5, 3) (3, 5)\n",
      "(5, 5)\n"
     ]
    }
   ],
   "execution_count": 99
  },
  {
   "cell_type": "markdown",
   "id": "b87741f221c33a6",
   "metadata": {},
   "source": [
    "## Nut Butter Sales - Dot Product"
   ]
  },
  {
   "cell_type": "code",
   "id": "9b4f45fe8cf90744",
   "metadata": {
    "ExecuteTime": {
     "end_time": "2025-08-09T22:13:30.881201Z",
     "start_time": "2025-08-09T22:13:30.879945Z"
    }
   },
   "source": [
    "# So the nut butter sales matrix is 1x3array and 3x3matrix"
   ],
   "outputs": [],
   "execution_count": 100
  },
  {
   "cell_type": "code",
   "id": "287187348a283699",
   "metadata": {
    "ExecuteTime": {
     "end_time": "2025-08-09T22:13:30.896411Z",
     "start_time": "2025-08-09T22:13:30.895030Z"
    }
   },
   "source": [
    "np.random.seed(seed=0)"
   ],
   "outputs": [],
   "execution_count": 101
  },
  {
   "cell_type": "code",
   "id": "bba59fc62915c7af",
   "metadata": {
    "ExecuteTime": {
     "end_time": "2025-08-09T22:13:30.907454Z",
     "start_time": "2025-08-09T22:13:30.905351Z"
    }
   },
   "source": [
    "# Number of jars sold\n",
    "sales_amounts = np.random.randint(20, size=(5, 3))\n",
    "sales_amounts\n"
   ],
   "outputs": [
    {
     "data": {
      "text/plain": [
       "array([[12, 15,  0],\n",
       "       [ 3,  3,  7],\n",
       "       [ 9, 19, 18],\n",
       "       [ 4,  6, 12],\n",
       "       [ 1,  6,  7]])"
      ]
     },
     "execution_count": 102,
     "metadata": {},
     "output_type": "execute_result"
    }
   ],
   "execution_count": 102
  },
  {
   "cell_type": "code",
   "id": "fac3f1523b5c82b6",
   "metadata": {
    "ExecuteTime": {
     "end_time": "2025-08-09T22:13:30.943831Z",
     "start_time": "2025-08-09T22:13:30.939877Z"
    }
   },
   "source": [
    "# Create weekly sales DataFrame\n",
    "weekly_sales = pd.DataFrame(sales_amounts,\n",
    "                            index = [\"Mon\", \"Tues\", \"Wed\", \"Thurs\", \"Fri\"],\n",
    "                            columns = [\"Almond Butter\", \"Peanut Butter\", \"Cashew Butter\"])"
   ],
   "outputs": [],
   "execution_count": 103
  },
  {
   "cell_type": "code",
   "id": "bea626427b095d23",
   "metadata": {
    "ExecuteTime": {
     "end_time": "2025-08-09T22:13:30.973343Z",
     "start_time": "2025-08-09T22:13:30.970717Z"
    }
   },
   "source": [
    "weekly_sales"
   ],
   "outputs": [
    {
     "data": {
      "text/plain": [
       "       Almond Butter  Peanut Butter  Cashew Butter\n",
       "Mon               12             15              0\n",
       "Tues               3              3              7\n",
       "Wed                9             19             18\n",
       "Thurs              4              6             12\n",
       "Fri                1              6              7"
      ],
      "text/html": [
       "<div>\n",
       "<style scoped>\n",
       "    .dataframe tbody tr th:only-of-type {\n",
       "        vertical-align: middle;\n",
       "    }\n",
       "\n",
       "    .dataframe tbody tr th {\n",
       "        vertical-align: top;\n",
       "    }\n",
       "\n",
       "    .dataframe thead th {\n",
       "        text-align: right;\n",
       "    }\n",
       "</style>\n",
       "<table border=\"1\" class=\"dataframe\">\n",
       "  <thead>\n",
       "    <tr style=\"text-align: right;\">\n",
       "      <th></th>\n",
       "      <th>Almond Butter</th>\n",
       "      <th>Peanut Butter</th>\n",
       "      <th>Cashew Butter</th>\n",
       "    </tr>\n",
       "  </thead>\n",
       "  <tbody>\n",
       "    <tr>\n",
       "      <th>Mon</th>\n",
       "      <td>12</td>\n",
       "      <td>15</td>\n",
       "      <td>0</td>\n",
       "    </tr>\n",
       "    <tr>\n",
       "      <th>Tues</th>\n",
       "      <td>3</td>\n",
       "      <td>3</td>\n",
       "      <td>7</td>\n",
       "    </tr>\n",
       "    <tr>\n",
       "      <th>Wed</th>\n",
       "      <td>9</td>\n",
       "      <td>19</td>\n",
       "      <td>18</td>\n",
       "    </tr>\n",
       "    <tr>\n",
       "      <th>Thurs</th>\n",
       "      <td>4</td>\n",
       "      <td>6</td>\n",
       "      <td>12</td>\n",
       "    </tr>\n",
       "    <tr>\n",
       "      <th>Fri</th>\n",
       "      <td>1</td>\n",
       "      <td>6</td>\n",
       "      <td>7</td>\n",
       "    </tr>\n",
       "  </tbody>\n",
       "</table>\n",
       "</div>"
      ]
     },
     "execution_count": 104,
     "metadata": {},
     "output_type": "execute_result"
    }
   ],
   "execution_count": 104
  },
  {
   "cell_type": "code",
   "id": "6b755f549cf8f345",
   "metadata": {
    "ExecuteTime": {
     "end_time": "2025-08-09T22:13:31.009900Z",
     "start_time": "2025-08-09T22:13:31.007820Z"
    }
   },
   "source": [
    "# Create Prices NumpyArray\n",
    "prices = np.array([10, 8, 12])\n",
    "prices"
   ],
   "outputs": [
    {
     "data": {
      "text/plain": [
       "array([10,  8, 12])"
      ]
     },
     "execution_count": 105,
     "metadata": {},
     "output_type": "execute_result"
    }
   ],
   "execution_count": 105
  },
  {
   "cell_type": "code",
   "id": "b37e2110acb2bedf",
   "metadata": {
    "ExecuteTime": {
     "end_time": "2025-08-09T22:13:31.083218Z",
     "start_time": "2025-08-09T22:13:31.080382Z"
    }
   },
   "source": [
    "# Create a Butter Prices Data Frame\n",
    "butter_prices = pd.DataFrame(prices.reshape(1, 3),\n",
    "                             index = [\"Price\"],\n",
    "                             columns = [\"Almond Butter\", \"Peanut Butter\", \"Cashew Butter\"])\n",
    "butter_prices"
   ],
   "outputs": [
    {
     "data": {
      "text/plain": [
       "       Almond Butter  Peanut Butter  Cashew Butter\n",
       "Price             10              8             12"
      ],
      "text/html": [
       "<div>\n",
       "<style scoped>\n",
       "    .dataframe tbody tr th:only-of-type {\n",
       "        vertical-align: middle;\n",
       "    }\n",
       "\n",
       "    .dataframe tbody tr th {\n",
       "        vertical-align: top;\n",
       "    }\n",
       "\n",
       "    .dataframe thead th {\n",
       "        text-align: right;\n",
       "    }\n",
       "</style>\n",
       "<table border=\"1\" class=\"dataframe\">\n",
       "  <thead>\n",
       "    <tr style=\"text-align: right;\">\n",
       "      <th></th>\n",
       "      <th>Almond Butter</th>\n",
       "      <th>Peanut Butter</th>\n",
       "      <th>Cashew Butter</th>\n",
       "    </tr>\n",
       "  </thead>\n",
       "  <tbody>\n",
       "    <tr>\n",
       "      <th>Price</th>\n",
       "      <td>10</td>\n",
       "      <td>8</td>\n",
       "      <td>12</td>\n",
       "    </tr>\n",
       "  </tbody>\n",
       "</table>\n",
       "</div>"
      ]
     },
     "execution_count": 106,
     "metadata": {},
     "output_type": "execute_result"
    }
   ],
   "execution_count": 106
  },
  {
   "cell_type": "code",
   "id": "8c56ab2058baff05",
   "metadata": {
    "ExecuteTime": {
     "end_time": "2025-08-09T22:13:31.151138Z",
     "start_time": "2025-08-09T22:13:31.149175Z"
    }
   },
   "source": [
    "total_sales = prices.dot(sales_amounts.T)\n",
    "total_sales"
   ],
   "outputs": [
    {
     "data": {
      "text/plain": [
       "array([240, 138, 458, 232, 142])"
      ]
     },
     "execution_count": 107,
     "metadata": {},
     "output_type": "execute_result"
    }
   ],
   "execution_count": 107
  },
  {
   "cell_type": "code",
   "id": "870c5386155e3b59",
   "metadata": {
    "ExecuteTime": {
     "end_time": "2025-08-09T22:13:31.219784Z",
     "start_time": "2025-08-09T22:13:31.216804Z"
    }
   },
   "source": [
    "# Create Daily Sales\n",
    "butter_prices"
   ],
   "outputs": [
    {
     "data": {
      "text/plain": [
       "       Almond Butter  Peanut Butter  Cashew Butter\n",
       "Price             10              8             12"
      ],
      "text/html": [
       "<div>\n",
       "<style scoped>\n",
       "    .dataframe tbody tr th:only-of-type {\n",
       "        vertical-align: middle;\n",
       "    }\n",
       "\n",
       "    .dataframe tbody tr th {\n",
       "        vertical-align: top;\n",
       "    }\n",
       "\n",
       "    .dataframe thead th {\n",
       "        text-align: right;\n",
       "    }\n",
       "</style>\n",
       "<table border=\"1\" class=\"dataframe\">\n",
       "  <thead>\n",
       "    <tr style=\"text-align: right;\">\n",
       "      <th></th>\n",
       "      <th>Almond Butter</th>\n",
       "      <th>Peanut Butter</th>\n",
       "      <th>Cashew Butter</th>\n",
       "    </tr>\n",
       "  </thead>\n",
       "  <tbody>\n",
       "    <tr>\n",
       "      <th>Price</th>\n",
       "      <td>10</td>\n",
       "      <td>8</td>\n",
       "      <td>12</td>\n",
       "    </tr>\n",
       "  </tbody>\n",
       "</table>\n",
       "</div>"
      ]
     },
     "execution_count": 108,
     "metadata": {},
     "output_type": "execute_result"
    }
   ],
   "execution_count": 108
  },
  {
   "cell_type": "code",
   "id": "1f722767170d4a5c",
   "metadata": {
    "ExecuteTime": {
     "end_time": "2025-08-09T22:13:31.321547Z",
     "start_time": "2025-08-09T22:13:31.318276Z"
    }
   },
   "source": [
    "weekly_sales"
   ],
   "outputs": [
    {
     "data": {
      "text/plain": [
       "       Almond Butter  Peanut Butter  Cashew Butter\n",
       "Mon               12             15              0\n",
       "Tues               3              3              7\n",
       "Wed                9             19             18\n",
       "Thurs              4              6             12\n",
       "Fri                1              6              7"
      ],
      "text/html": [
       "<div>\n",
       "<style scoped>\n",
       "    .dataframe tbody tr th:only-of-type {\n",
       "        vertical-align: middle;\n",
       "    }\n",
       "\n",
       "    .dataframe tbody tr th {\n",
       "        vertical-align: top;\n",
       "    }\n",
       "\n",
       "    .dataframe thead th {\n",
       "        text-align: right;\n",
       "    }\n",
       "</style>\n",
       "<table border=\"1\" class=\"dataframe\">\n",
       "  <thead>\n",
       "    <tr style=\"text-align: right;\">\n",
       "      <th></th>\n",
       "      <th>Almond Butter</th>\n",
       "      <th>Peanut Butter</th>\n",
       "      <th>Cashew Butter</th>\n",
       "    </tr>\n",
       "  </thead>\n",
       "  <tbody>\n",
       "    <tr>\n",
       "      <th>Mon</th>\n",
       "      <td>12</td>\n",
       "      <td>15</td>\n",
       "      <td>0</td>\n",
       "    </tr>\n",
       "    <tr>\n",
       "      <th>Tues</th>\n",
       "      <td>3</td>\n",
       "      <td>3</td>\n",
       "      <td>7</td>\n",
       "    </tr>\n",
       "    <tr>\n",
       "      <th>Wed</th>\n",
       "      <td>9</td>\n",
       "      <td>19</td>\n",
       "      <td>18</td>\n",
       "    </tr>\n",
       "    <tr>\n",
       "      <th>Thurs</th>\n",
       "      <td>4</td>\n",
       "      <td>6</td>\n",
       "      <td>12</td>\n",
       "    </tr>\n",
       "    <tr>\n",
       "      <th>Fri</th>\n",
       "      <td>1</td>\n",
       "      <td>6</td>\n",
       "      <td>7</td>\n",
       "    </tr>\n",
       "  </tbody>\n",
       "</table>\n",
       "</div>"
      ]
     },
     "execution_count": 109,
     "metadata": {},
     "output_type": "execute_result"
    }
   ],
   "execution_count": 109
  },
  {
   "cell_type": "code",
   "id": "3b17c75d69561a34",
   "metadata": {
    "ExecuteTime": {
     "end_time": "2025-08-09T22:13:31.360555Z",
     "start_time": "2025-08-09T22:13:31.357361Z"
    }
   },
   "source": [
    "daily_sales = butter_prices.dot(weekly_sales.T)\n",
    "daily_sales"
   ],
   "outputs": [
    {
     "data": {
      "text/plain": [
       "       Mon  Tues  Wed  Thurs  Fri\n",
       "Price  240   138  458    232  142"
      ],
      "text/html": [
       "<div>\n",
       "<style scoped>\n",
       "    .dataframe tbody tr th:only-of-type {\n",
       "        vertical-align: middle;\n",
       "    }\n",
       "\n",
       "    .dataframe tbody tr th {\n",
       "        vertical-align: top;\n",
       "    }\n",
       "\n",
       "    .dataframe thead th {\n",
       "        text-align: right;\n",
       "    }\n",
       "</style>\n",
       "<table border=\"1\" class=\"dataframe\">\n",
       "  <thead>\n",
       "    <tr style=\"text-align: right;\">\n",
       "      <th></th>\n",
       "      <th>Mon</th>\n",
       "      <th>Tues</th>\n",
       "      <th>Wed</th>\n",
       "      <th>Thurs</th>\n",
       "      <th>Fri</th>\n",
       "    </tr>\n",
       "  </thead>\n",
       "  <tbody>\n",
       "    <tr>\n",
       "      <th>Price</th>\n",
       "      <td>240</td>\n",
       "      <td>138</td>\n",
       "      <td>458</td>\n",
       "      <td>232</td>\n",
       "      <td>142</td>\n",
       "    </tr>\n",
       "  </tbody>\n",
       "</table>\n",
       "</div>"
      ]
     },
     "execution_count": 110,
     "metadata": {},
     "output_type": "execute_result"
    }
   ],
   "execution_count": 110
  },
  {
   "cell_type": "code",
   "id": "fa2f639064430b83",
   "metadata": {
    "ExecuteTime": {
     "end_time": "2025-08-09T22:13:31.435587Z",
     "start_time": "2025-08-09T22:13:31.432234Z"
    }
   },
   "source": [
    "# have to re shape the data frame\n",
    "weekly_sales[\"Total ($)\"] = daily_sales.T\n",
    "weekly_sales"
   ],
   "outputs": [
    {
     "data": {
      "text/plain": [
       "       Almond Butter  Peanut Butter  Cashew Butter  Total ($)\n",
       "Mon               12             15              0        240\n",
       "Tues               3              3              7        138\n",
       "Wed                9             19             18        458\n",
       "Thurs              4              6             12        232\n",
       "Fri                1              6              7        142"
      ],
      "text/html": [
       "<div>\n",
       "<style scoped>\n",
       "    .dataframe tbody tr th:only-of-type {\n",
       "        vertical-align: middle;\n",
       "    }\n",
       "\n",
       "    .dataframe tbody tr th {\n",
       "        vertical-align: top;\n",
       "    }\n",
       "\n",
       "    .dataframe thead th {\n",
       "        text-align: right;\n",
       "    }\n",
       "</style>\n",
       "<table border=\"1\" class=\"dataframe\">\n",
       "  <thead>\n",
       "    <tr style=\"text-align: right;\">\n",
       "      <th></th>\n",
       "      <th>Almond Butter</th>\n",
       "      <th>Peanut Butter</th>\n",
       "      <th>Cashew Butter</th>\n",
       "      <th>Total ($)</th>\n",
       "    </tr>\n",
       "  </thead>\n",
       "  <tbody>\n",
       "    <tr>\n",
       "      <th>Mon</th>\n",
       "      <td>12</td>\n",
       "      <td>15</td>\n",
       "      <td>0</td>\n",
       "      <td>240</td>\n",
       "    </tr>\n",
       "    <tr>\n",
       "      <th>Tues</th>\n",
       "      <td>3</td>\n",
       "      <td>3</td>\n",
       "      <td>7</td>\n",
       "      <td>138</td>\n",
       "    </tr>\n",
       "    <tr>\n",
       "      <th>Wed</th>\n",
       "      <td>9</td>\n",
       "      <td>19</td>\n",
       "      <td>18</td>\n",
       "      <td>458</td>\n",
       "    </tr>\n",
       "    <tr>\n",
       "      <th>Thurs</th>\n",
       "      <td>4</td>\n",
       "      <td>6</td>\n",
       "      <td>12</td>\n",
       "      <td>232</td>\n",
       "    </tr>\n",
       "    <tr>\n",
       "      <th>Fri</th>\n",
       "      <td>1</td>\n",
       "      <td>6</td>\n",
       "      <td>7</td>\n",
       "      <td>142</td>\n",
       "    </tr>\n",
       "  </tbody>\n",
       "</table>\n",
       "</div>"
      ]
     },
     "execution_count": 111,
     "metadata": {},
     "output_type": "execute_result"
    }
   ],
   "execution_count": 111
  },
  {
   "cell_type": "code",
   "id": "de2a3626eb9c26d",
   "metadata": {
    "ExecuteTime": {
     "end_time": "2025-08-09T22:13:31.513623Z",
     "start_time": "2025-08-09T22:13:31.511326Z"
    }
   },
   "source": [
    "butter_prices"
   ],
   "outputs": [
    {
     "data": {
      "text/plain": [
       "       Almond Butter  Peanut Butter  Cashew Butter\n",
       "Price             10              8             12"
      ],
      "text/html": [
       "<div>\n",
       "<style scoped>\n",
       "    .dataframe tbody tr th:only-of-type {\n",
       "        vertical-align: middle;\n",
       "    }\n",
       "\n",
       "    .dataframe tbody tr th {\n",
       "        vertical-align: top;\n",
       "    }\n",
       "\n",
       "    .dataframe thead th {\n",
       "        text-align: right;\n",
       "    }\n",
       "</style>\n",
       "<table border=\"1\" class=\"dataframe\">\n",
       "  <thead>\n",
       "    <tr style=\"text-align: right;\">\n",
       "      <th></th>\n",
       "      <th>Almond Butter</th>\n",
       "      <th>Peanut Butter</th>\n",
       "      <th>Cashew Butter</th>\n",
       "    </tr>\n",
       "  </thead>\n",
       "  <tbody>\n",
       "    <tr>\n",
       "      <th>Price</th>\n",
       "      <td>10</td>\n",
       "      <td>8</td>\n",
       "      <td>12</td>\n",
       "    </tr>\n",
       "  </tbody>\n",
       "</table>\n",
       "</div>"
      ]
     },
     "execution_count": 112,
     "metadata": {},
     "output_type": "execute_result"
    }
   ],
   "execution_count": 112
  },
  {
   "cell_type": "markdown",
   "id": "59a679668c4119ca",
   "metadata": {},
   "source": [
    "## My Practice and solutions"
   ]
  },
  {
   "cell_type": "code",
   "id": "2e93d97d668b1563",
   "metadata": {
    "ExecuteTime": {
     "end_time": "2025-08-09T22:13:31.582243Z",
     "start_time": "2025-08-09T22:13:31.579159Z"
    }
   },
   "source": [
    "# 1) Create a Data Frame of random numbers that is shape (5,3)\n",
    "# This will represent the number of sales of each type of butter (3 types) over the 5 days of a business week M-F\n",
    "\n",
    "butter_sales_amounts = pd.DataFrame(np.random.randint(2,20,size=(5, 3)), index = [\"Mon\", \"Tues\", \"Wed\", \"Thurs\", \"Fri\"], columns = [\"Almond Butter\", \"Peanut Butter\", \"Cashew Butter\"])\n",
    "butter_sales_amounts"
   ],
   "outputs": [
    {
     "data": {
      "text/plain": [
       "       Almond Butter  Peanut Butter  Cashew Butter\n",
       "Mon               16             19              7\n",
       "Tues              15             10             11\n",
       "Wed               18              7             17\n",
       "Thurs             17              2              5\n",
       "Fri               19             16              9"
      ],
      "text/html": [
       "<div>\n",
       "<style scoped>\n",
       "    .dataframe tbody tr th:only-of-type {\n",
       "        vertical-align: middle;\n",
       "    }\n",
       "\n",
       "    .dataframe tbody tr th {\n",
       "        vertical-align: top;\n",
       "    }\n",
       "\n",
       "    .dataframe thead th {\n",
       "        text-align: right;\n",
       "    }\n",
       "</style>\n",
       "<table border=\"1\" class=\"dataframe\">\n",
       "  <thead>\n",
       "    <tr style=\"text-align: right;\">\n",
       "      <th></th>\n",
       "      <th>Almond Butter</th>\n",
       "      <th>Peanut Butter</th>\n",
       "      <th>Cashew Butter</th>\n",
       "    </tr>\n",
       "  </thead>\n",
       "  <tbody>\n",
       "    <tr>\n",
       "      <th>Mon</th>\n",
       "      <td>16</td>\n",
       "      <td>19</td>\n",
       "      <td>7</td>\n",
       "    </tr>\n",
       "    <tr>\n",
       "      <th>Tues</th>\n",
       "      <td>15</td>\n",
       "      <td>10</td>\n",
       "      <td>11</td>\n",
       "    </tr>\n",
       "    <tr>\n",
       "      <th>Wed</th>\n",
       "      <td>18</td>\n",
       "      <td>7</td>\n",
       "      <td>17</td>\n",
       "    </tr>\n",
       "    <tr>\n",
       "      <th>Thurs</th>\n",
       "      <td>17</td>\n",
       "      <td>2</td>\n",
       "      <td>5</td>\n",
       "    </tr>\n",
       "    <tr>\n",
       "      <th>Fri</th>\n",
       "      <td>19</td>\n",
       "      <td>16</td>\n",
       "      <td>9</td>\n",
       "    </tr>\n",
       "  </tbody>\n",
       "</table>\n",
       "</div>"
      ]
     },
     "execution_count": 113,
     "metadata": {},
     "output_type": "execute_result"
    }
   ],
   "execution_count": 113
  },
  {
   "cell_type": "code",
   "id": "4eab7cdfa1649cba",
   "metadata": {
    "ExecuteTime": {
     "end_time": "2025-08-09T22:13:31.651382Z",
     "start_time": "2025-08-09T22:13:31.648696Z"
    }
   },
   "source": [
    "butter_prices = [10, 8, 12]\n",
    "butter_prices"
   ],
   "outputs": [
    {
     "data": {
      "text/plain": [
       "[10, 8, 12]"
      ]
     },
     "execution_count": 114,
     "metadata": {},
     "output_type": "execute_result"
    }
   ],
   "execution_count": 114
  },
  {
   "cell_type": "code",
   "id": "e53dd6877c9194c",
   "metadata": {
    "ExecuteTime": {
     "end_time": "2025-08-09T22:13:31.711824Z",
     "start_time": "2025-08-09T22:13:31.708857Z"
    }
   },
   "source": [
    "# Make 'weekly_sales' a DataFrame so i can add the column title \"Total ($)\"\n",
    "weekly_sales = pd.DataFrame(butter_sales_amounts.dot(butter_prices), columns = [\"Total Sales\"])\n",
    "weekly_sales"
   ],
   "outputs": [
    {
     "data": {
      "text/plain": [
       "       Total Sales\n",
       "Mon            396\n",
       "Tues           362\n",
       "Wed            440\n",
       "Thurs          246\n",
       "Fri            426"
      ],
      "text/html": [
       "<div>\n",
       "<style scoped>\n",
       "    .dataframe tbody tr th:only-of-type {\n",
       "        vertical-align: middle;\n",
       "    }\n",
       "\n",
       "    .dataframe tbody tr th {\n",
       "        vertical-align: top;\n",
       "    }\n",
       "\n",
       "    .dataframe thead th {\n",
       "        text-align: right;\n",
       "    }\n",
       "</style>\n",
       "<table border=\"1\" class=\"dataframe\">\n",
       "  <thead>\n",
       "    <tr style=\"text-align: right;\">\n",
       "      <th></th>\n",
       "      <th>Total Sales</th>\n",
       "    </tr>\n",
       "  </thead>\n",
       "  <tbody>\n",
       "    <tr>\n",
       "      <th>Mon</th>\n",
       "      <td>396</td>\n",
       "    </tr>\n",
       "    <tr>\n",
       "      <th>Tues</th>\n",
       "      <td>362</td>\n",
       "    </tr>\n",
       "    <tr>\n",
       "      <th>Wed</th>\n",
       "      <td>440</td>\n",
       "    </tr>\n",
       "    <tr>\n",
       "      <th>Thurs</th>\n",
       "      <td>246</td>\n",
       "    </tr>\n",
       "    <tr>\n",
       "      <th>Fri</th>\n",
       "      <td>426</td>\n",
       "    </tr>\n",
       "  </tbody>\n",
       "</table>\n",
       "</div>"
      ]
     },
     "execution_count": 115,
     "metadata": {},
     "output_type": "execute_result"
    }
   ],
   "execution_count": 115
  },
  {
   "cell_type": "code",
   "id": "c797b2af0ff064f1",
   "metadata": {
    "ExecuteTime": {
     "end_time": "2025-08-09T22:13:31.766555Z",
     "start_time": "2025-08-09T22:13:31.764631Z"
    }
   },
   "source": [
    "butter_sales_amounts[\"Total in ($)\"] = weekly_sales"
   ],
   "outputs": [],
   "execution_count": 116
  },
  {
   "cell_type": "code",
   "id": "da4449dd59e5a7bd",
   "metadata": {
    "ExecuteTime": {
     "end_time": "2025-08-09T22:13:31.811946Z",
     "start_time": "2025-08-09T22:13:31.808504Z"
    }
   },
   "source": [
    "butter_sales_amounts"
   ],
   "outputs": [
    {
     "data": {
      "text/plain": [
       "       Almond Butter  Peanut Butter  Cashew Butter  Total in ($)\n",
       "Mon               16             19              7           396\n",
       "Tues              15             10             11           362\n",
       "Wed               18              7             17           440\n",
       "Thurs             17              2              5           246\n",
       "Fri               19             16              9           426"
      ],
      "text/html": [
       "<div>\n",
       "<style scoped>\n",
       "    .dataframe tbody tr th:only-of-type {\n",
       "        vertical-align: middle;\n",
       "    }\n",
       "\n",
       "    .dataframe tbody tr th {\n",
       "        vertical-align: top;\n",
       "    }\n",
       "\n",
       "    .dataframe thead th {\n",
       "        text-align: right;\n",
       "    }\n",
       "</style>\n",
       "<table border=\"1\" class=\"dataframe\">\n",
       "  <thead>\n",
       "    <tr style=\"text-align: right;\">\n",
       "      <th></th>\n",
       "      <th>Almond Butter</th>\n",
       "      <th>Peanut Butter</th>\n",
       "      <th>Cashew Butter</th>\n",
       "      <th>Total in ($)</th>\n",
       "    </tr>\n",
       "  </thead>\n",
       "  <tbody>\n",
       "    <tr>\n",
       "      <th>Mon</th>\n",
       "      <td>16</td>\n",
       "      <td>19</td>\n",
       "      <td>7</td>\n",
       "      <td>396</td>\n",
       "    </tr>\n",
       "    <tr>\n",
       "      <th>Tues</th>\n",
       "      <td>15</td>\n",
       "      <td>10</td>\n",
       "      <td>11</td>\n",
       "      <td>362</td>\n",
       "    </tr>\n",
       "    <tr>\n",
       "      <th>Wed</th>\n",
       "      <td>18</td>\n",
       "      <td>7</td>\n",
       "      <td>17</td>\n",
       "      <td>440</td>\n",
       "    </tr>\n",
       "    <tr>\n",
       "      <th>Thurs</th>\n",
       "      <td>17</td>\n",
       "      <td>2</td>\n",
       "      <td>5</td>\n",
       "      <td>246</td>\n",
       "    </tr>\n",
       "    <tr>\n",
       "      <th>Fri</th>\n",
       "      <td>19</td>\n",
       "      <td>16</td>\n",
       "      <td>9</td>\n",
       "      <td>426</td>\n",
       "    </tr>\n",
       "  </tbody>\n",
       "</table>\n",
       "</div>"
      ]
     },
     "execution_count": 117,
     "metadata": {},
     "output_type": "execute_result"
    }
   ],
   "execution_count": 117
  },
  {
   "cell_type": "markdown",
   "id": "9fc316e506dadaa9",
   "metadata": {},
   "source": [
    "## Comparison Operators"
   ]
  },
  {
   "cell_type": "code",
   "id": "b00af7daa74ed9",
   "metadata": {
    "ExecuteTime": {
     "end_time": "2025-08-09T22:13:31.863235Z",
     "start_time": "2025-08-09T22:13:31.861210Z"
    }
   },
   "source": [
    "a1"
   ],
   "outputs": [
    {
     "data": {
      "text/plain": [
       "array([1, 2, 3])"
      ]
     },
     "execution_count": 118,
     "metadata": {},
     "output_type": "execute_result"
    }
   ],
   "execution_count": 118
  },
  {
   "cell_type": "code",
   "id": "6ac1f0777d245b6",
   "metadata": {
    "ExecuteTime": {
     "end_time": "2025-08-09T22:13:31.925557Z",
     "start_time": "2025-08-09T22:13:31.923470Z"
    }
   },
   "source": [
    "a2"
   ],
   "outputs": [
    {
     "data": {
      "text/plain": [
       "array([[1. , 2. , 3. ],\n",
       "       [4. , 5. , 6.5]])"
      ]
     },
     "execution_count": 119,
     "metadata": {},
     "output_type": "execute_result"
    }
   ],
   "execution_count": 119
  },
  {
   "cell_type": "code",
   "id": "d2af7e2728e69497",
   "metadata": {
    "ExecuteTime": {
     "end_time": "2025-08-09T22:13:31.988164Z",
     "start_time": "2025-08-09T22:13:31.985509Z"
    }
   },
   "source": [
    "a1 > a2"
   ],
   "outputs": [
    {
     "data": {
      "text/plain": [
       "array([[False, False, False],\n",
       "       [False, False, False]])"
      ]
     },
     "execution_count": 120,
     "metadata": {},
     "output_type": "execute_result"
    }
   ],
   "execution_count": 120
  },
  {
   "cell_type": "code",
   "id": "4765249818d00f3b",
   "metadata": {
    "ExecuteTime": {
     "end_time": "2025-08-09T22:13:32.105350Z",
     "start_time": "2025-08-09T22:13:32.101224Z"
    }
   },
   "source": [
    "bool_array = a1 > a2\n",
    "bool_array"
   ],
   "outputs": [
    {
     "data": {
      "text/plain": [
       "array([[False, False, False],\n",
       "       [False, False, False]])"
      ]
     },
     "execution_count": 121,
     "metadata": {},
     "output_type": "execute_result"
    }
   ],
   "execution_count": 121
  },
  {
   "cell_type": "code",
   "id": "6feedac4a99f966b",
   "metadata": {
    "ExecuteTime": {
     "end_time": "2025-08-09T22:13:32.183205Z",
     "start_time": "2025-08-09T22:13:32.180708Z"
    }
   },
   "source": [
    "type(bool_array),bool_array.dtype"
   ],
   "outputs": [
    {
     "data": {
      "text/plain": [
       "(numpy.ndarray, dtype('bool'))"
      ]
     },
     "execution_count": 122,
     "metadata": {},
     "output_type": "execute_result"
    }
   ],
   "execution_count": 122
  },
  {
   "cell_type": "code",
   "id": "58f3ad909e7e368d",
   "metadata": {
    "ExecuteTime": {
     "end_time": "2025-08-09T22:13:32.240145Z",
     "start_time": "2025-08-09T22:13:32.237800Z"
    }
   },
   "source": [
    "a1D = np.array([5, 6, 7, 8])\n",
    "a2D = pd.DataFrame(np.array([[1, 2, 3, 4],\n",
    "                             [5, 6, 7, 8]]))"
   ],
   "outputs": [],
   "execution_count": 123
  },
  {
   "cell_type": "code",
   "id": "56e55e3ab14aed13",
   "metadata": {
    "ExecuteTime": {
     "end_time": "2025-08-09T22:13:32.267320Z",
     "start_time": "2025-08-09T22:13:32.263240Z"
    }
   },
   "source": [
    "a1D == a2D"
   ],
   "outputs": [
    {
     "data": {
      "text/plain": [
       "       0      1      2      3\n",
       "0  False  False  False  False\n",
       "1   True   True   True   True"
      ],
      "text/html": [
       "<div>\n",
       "<style scoped>\n",
       "    .dataframe tbody tr th:only-of-type {\n",
       "        vertical-align: middle;\n",
       "    }\n",
       "\n",
       "    .dataframe tbody tr th {\n",
       "        vertical-align: top;\n",
       "    }\n",
       "\n",
       "    .dataframe thead th {\n",
       "        text-align: right;\n",
       "    }\n",
       "</style>\n",
       "<table border=\"1\" class=\"dataframe\">\n",
       "  <thead>\n",
       "    <tr style=\"text-align: right;\">\n",
       "      <th></th>\n",
       "      <th>0</th>\n",
       "      <th>1</th>\n",
       "      <th>2</th>\n",
       "      <th>3</th>\n",
       "    </tr>\n",
       "  </thead>\n",
       "  <tbody>\n",
       "    <tr>\n",
       "      <th>0</th>\n",
       "      <td>False</td>\n",
       "      <td>False</td>\n",
       "      <td>False</td>\n",
       "      <td>False</td>\n",
       "    </tr>\n",
       "    <tr>\n",
       "      <th>1</th>\n",
       "      <td>True</td>\n",
       "      <td>True</td>\n",
       "      <td>True</td>\n",
       "      <td>True</td>\n",
       "    </tr>\n",
       "  </tbody>\n",
       "</table>\n",
       "</div>"
      ]
     },
     "execution_count": 124,
     "metadata": {},
     "output_type": "execute_result"
    }
   ],
   "execution_count": 124
  },
  {
   "cell_type": "markdown",
   "id": "946a2bbe81513d93",
   "metadata": {},
   "source": [
    "## 5. Sorting Arrays"
   ]
  },
  {
   "cell_type": "code",
   "id": "5ae011b2044b9bff",
   "metadata": {
    "ExecuteTime": {
     "end_time": "2025-08-09T22:13:32.309177Z",
     "start_time": "2025-08-09T22:13:32.306500Z"
    }
   },
   "source": [
    "rand_array = np.random.randint(10, size=(3, 5))\n",
    "rand_array"
   ],
   "outputs": [
    {
     "data": {
      "text/plain": [
       "array([[0, 1, 9, 9, 0],\n",
       "       [4, 7, 3, 2, 7],\n",
       "       [2, 0, 0, 4, 5]])"
      ]
     },
     "execution_count": 125,
     "metadata": {},
     "output_type": "execute_result"
    }
   ],
   "execution_count": 125
  },
  {
   "cell_type": "code",
   "id": "c61af76f51a6f301",
   "metadata": {
    "ExecuteTime": {
     "end_time": "2025-08-09T22:13:32.401883Z",
     "start_time": "2025-08-09T22:13:32.398637Z"
    }
   },
   "source": [
    "rand_array_sorted = np.sort(rand_array)\n",
    "rand_array_sorted\n",
    "# Notice that this sorts each axis individually and does not sort the entire matrix as a single unit but as 3 units of 5 elements"
   ],
   "outputs": [
    {
     "data": {
      "text/plain": [
       "array([[0, 0, 1, 9, 9],\n",
       "       [2, 3, 4, 7, 7],\n",
       "       [0, 0, 2, 4, 5]])"
      ]
     },
     "execution_count": 126,
     "metadata": {},
     "output_type": "execute_result"
    }
   ],
   "execution_count": 126
  },
  {
   "cell_type": "code",
   "id": "cd1972065c806862",
   "metadata": {
    "ExecuteTime": {
     "end_time": "2025-08-09T22:13:32.515661Z",
     "start_time": "2025-08-09T22:13:32.512446Z"
    }
   },
   "source": [
    "# Now we can also sort the indexes\n",
    "np.argsort(rand_array_sorted)"
   ],
   "outputs": [
    {
     "data": {
      "text/plain": [
       "array([[0, 1, 2, 3, 4],\n",
       "       [0, 1, 2, 3, 4],\n",
       "       [0, 1, 2, 3, 4]])"
      ]
     },
     "execution_count": 127,
     "metadata": {},
     "output_type": "execute_result"
    }
   ],
   "execution_count": 127
  },
  {
   "cell_type": "code",
   "id": "42e218669c5c4103",
   "metadata": {
    "ExecuteTime": {
     "end_time": "2025-08-09T22:13:32.625435Z",
     "start_time": "2025-08-09T22:13:32.623522Z"
    }
   },
   "source": [
    "print(rand_array)\n",
    "# Notice that the function behaves differently than the examples given in the lecture ... According to experimentation and GitHub case I found, the syntax should NOT be: np.argsort(rand_array) .... this fails, you need to use np.argsort(np.argsort(rand_array))\n",
    "print(np.argsort(np.argsort(rand_array)))"
   ],
   "outputs": [
    {
     "name": "stdout",
     "output_type": "stream",
     "text": [
      "[[0 1 9 9 0]\n",
      " [4 7 3 2 7]\n",
      " [2 0 0 4 5]]\n",
      "[[0 2 3 4 1]\n",
      " [2 3 1 0 4]\n",
      " [2 0 1 3 4]]\n"
     ]
    }
   ],
   "execution_count": 128
  },
  {
   "cell_type": "code",
   "id": "cdb063680d45a509",
   "metadata": {
    "ExecuteTime": {
     "end_time": "2025-08-09T22:13:32.664343Z",
     "start_time": "2025-08-09T22:13:32.662040Z"
    }
   },
   "source": [
    "test1 = np.array([2, 3, 1, 4])\n",
    "test2 = np.argsort(np.argsort(test1))\n",
    "test1, test2"
   ],
   "outputs": [
    {
     "data": {
      "text/plain": [
       "(array([2, 3, 1, 4]), array([1, 2, 0, 3]))"
      ]
     },
     "execution_count": 129,
     "metadata": {},
     "output_type": "execute_result"
    }
   ],
   "execution_count": 129
  },
  {
   "cell_type": "code",
   "id": "5500e718da7d375a",
   "metadata": {
    "ExecuteTime": {
     "end_time": "2025-08-09T22:13:32.694538Z",
     "start_time": "2025-08-09T22:13:32.692954Z"
    }
   },
   "source": [
    "print(np.argmin(test1))"
   ],
   "outputs": [
    {
     "name": "stdout",
     "output_type": "stream",
     "text": [
      "2\n"
     ]
    }
   ],
   "execution_count": 130
  },
  {
   "cell_type": "code",
   "id": "4bafc2f706e1bc2c",
   "metadata": {
    "ExecuteTime": {
     "end_time": "2025-08-09T22:13:32.714978Z",
     "start_time": "2025-08-09T22:13:32.713207Z"
    }
   },
   "source": [
    "print(np.argmax(test1))"
   ],
   "outputs": [
    {
     "name": "stdout",
     "output_type": "stream",
     "text": [
      "3\n"
     ]
    }
   ],
   "execution_count": 131
  },
  {
   "cell_type": "code",
   "id": "3d0c6306518ece1e",
   "metadata": {
    "ExecuteTime": {
     "end_time": "2025-08-09T22:13:32.739499Z",
     "start_time": "2025-08-09T22:13:32.737839Z"
    }
   },
   "source": [
    "print(rand_array)\n",
    "print(np.argmax(rand_array))"
   ],
   "outputs": [
    {
     "name": "stdout",
     "output_type": "stream",
     "text": [
      "[[0 1 9 9 0]\n",
      " [4 7 3 2 7]\n",
      " [2 0 0 4 5]]\n",
      "2\n"
     ]
    }
   ],
   "execution_count": 132
  },
  {
   "cell_type": "code",
   "id": "f43eb0fe7e2575b9",
   "metadata": {
    "ExecuteTime": {
     "end_time": "2025-08-09T22:13:32.762179Z",
     "start_time": "2025-08-09T22:13:32.759636Z"
    }
   },
   "source": [
    "print(rand_array)\n",
    "print(np.argmin(rand_array, axis = 1))"
   ],
   "outputs": [
    {
     "name": "stdout",
     "output_type": "stream",
     "text": [
      "[[0 1 9 9 0]\n",
      " [4 7 3 2 7]\n",
      " [2 0 0 4 5]]\n",
      "[0 3 1]\n"
     ]
    }
   ],
   "execution_count": 133
  },
  {
   "cell_type": "code",
   "id": "a708e5661755d212",
   "metadata": {
    "ExecuteTime": {
     "end_time": "2025-08-09T22:13:32.782938Z",
     "start_time": "2025-08-09T22:13:32.780827Z"
    }
   },
   "source": [
    "print(rand_array)\n",
    "print(np.argmin(rand_array, axis = 0))"
   ],
   "outputs": [
    {
     "name": "stdout",
     "output_type": "stream",
     "text": [
      "[[0 1 9 9 0]\n",
      " [4 7 3 2 7]\n",
      " [2 0 0 4 5]]\n",
      "[0 2 2 1 0]\n"
     ]
    }
   ],
   "execution_count": 134
  },
  {
   "cell_type": "code",
   "id": "cd72455be5f5687f",
   "metadata": {
    "ExecuteTime": {
     "end_time": "2025-08-09T22:13:32.799505Z",
     "start_time": "2025-08-09T22:13:32.798139Z"
    }
   },
   "source": [
    "# AXIS 0 = columns\n",
    "# AXIS 1 = rows"
   ],
   "outputs": [],
   "execution_count": 135
  },
  {
   "cell_type": "markdown",
   "id": "4e7fced0a7586bbc",
   "metadata": {},
   "source": [
    "## Reading an image into a numpy array"
   ]
  },
  {
   "cell_type": "markdown",
   "id": "a1edad8276d1bfea",
   "metadata": {},
   "source": [
    "<img src=\"panda.png\"/>"
   ]
  },
  {
   "cell_type": "code",
   "id": "ee0a2449f73b5444",
   "metadata": {
    "ExecuteTime": {
     "end_time": "2025-08-09T22:13:32.935626Z",
     "start_time": "2025-08-09T22:13:32.814456Z"
    }
   },
   "source": [
    "from matplotlib.image import imread\n",
    "panda = imread('panda.png')\n",
    "print(type(panda))"
   ],
   "outputs": [
    {
     "name": "stdout",
     "output_type": "stream",
     "text": [
      "<class 'numpy.ndarray'>\n"
     ]
    }
   ],
   "execution_count": 136
  },
  {
   "cell_type": "code",
   "id": "b3ddb12365222461",
   "metadata": {
    "ExecuteTime": {
     "end_time": "2025-08-09T22:13:32.965249Z",
     "start_time": "2025-08-09T22:13:32.962294Z"
    }
   },
   "source": [
    "panda.size"
   ],
   "outputs": [
    {
     "data": {
      "text/plain": [
       "24465000"
      ]
     },
     "execution_count": 137,
     "metadata": {},
     "output_type": "execute_result"
    }
   ],
   "execution_count": 137
  },
  {
   "cell_type": "code",
   "id": "f764d4d6e25dcc38",
   "metadata": {
    "ExecuteTime": {
     "end_time": "2025-08-09T22:13:33.007356Z",
     "start_time": "2025-08-09T22:13:33.005063Z"
    }
   },
   "source": [
    "panda.shape"
   ],
   "outputs": [
    {
     "data": {
      "text/plain": [
       "(2330, 3500, 3)"
      ]
     },
     "execution_count": 138,
     "metadata": {},
     "output_type": "execute_result"
    }
   ],
   "execution_count": 138
  },
  {
   "cell_type": "code",
   "id": "4b072117d3ce4427",
   "metadata": {
    "ExecuteTime": {
     "end_time": "2025-08-09T22:13:33.042721Z",
     "start_time": "2025-08-09T22:13:33.040806Z"
    }
   },
   "source": [
    "panda.ndim"
   ],
   "outputs": [
    {
     "data": {
      "text/plain": [
       "3"
      ]
     },
     "execution_count": 139,
     "metadata": {},
     "output_type": "execute_result"
    }
   ],
   "execution_count": 139
  },
  {
   "cell_type": "code",
   "id": "3ff9f258eb902a46",
   "metadata": {
    "ExecuteTime": {
     "end_time": "2025-08-09T22:13:33.076674Z",
     "start_time": "2025-08-09T22:13:33.074514Z"
    }
   },
   "source": [
    "panda[:1]"
   ],
   "outputs": [
    {
     "data": {
      "text/plain": [
       "array([[[0.05490196, 0.10588235, 0.06666667],\n",
       "        [0.05490196, 0.10588235, 0.06666667],\n",
       "        [0.05490196, 0.10588235, 0.06666667],\n",
       "        ...,\n",
       "        [0.16470589, 0.12941177, 0.09411765],\n",
       "        [0.16470589, 0.12941177, 0.09411765],\n",
       "        [0.16470589, 0.12941177, 0.09411765]]],\n",
       "      shape=(1, 3500, 3), dtype=float32)"
      ]
     },
     "execution_count": 140,
     "metadata": {},
     "output_type": "execute_result"
    }
   ],
   "execution_count": 140
  },
  {
   "cell_type": "code",
   "id": "cb05cd825445a7f6",
   "metadata": {
    "ExecuteTime": {
     "end_time": "2025-08-09T22:13:33.101524Z",
     "start_time": "2025-08-09T22:13:33.098429Z"
    }
   },
   "source": [
    "simple_photo = imread('red.png')\n",
    "print(type(simple_photo))\n",
    "simple_photo.shape"
   ],
   "outputs": [
    {
     "name": "stdout",
     "output_type": "stream",
     "text": [
      "<class 'numpy.ndarray'>\n"
     ]
    },
    {
     "data": {
      "text/plain": [
       "(200, 200, 4)"
      ]
     },
     "execution_count": 141,
     "metadata": {},
     "output_type": "execute_result"
    }
   ],
   "execution_count": 141
  },
  {
   "cell_type": "code",
   "id": "aa93fcbcdbe74638",
   "metadata": {
    "ExecuteTime": {
     "end_time": "2025-08-09T22:13:33.119990Z",
     "start_time": "2025-08-09T22:13:33.117862Z"
    }
   },
   "source": [
    "simple_photo.ndim"
   ],
   "outputs": [
    {
     "data": {
      "text/plain": [
       "3"
      ]
     },
     "execution_count": 142,
     "metadata": {},
     "output_type": "execute_result"
    }
   ],
   "execution_count": 142
  },
  {
   "cell_type": "code",
   "id": "c6085c82f6cbcbc1",
   "metadata": {
    "ExecuteTime": {
     "end_time": "2025-08-09T22:13:33.140970Z",
     "start_time": "2025-08-09T22:13:33.138370Z"
    }
   },
   "source": [
    "simple_photo[:4]"
   ],
   "outputs": [
    {
     "data": {
      "text/plain": [
       "array([[[0.9843137 , 0.00784314, 0.02745098, 1.        ],\n",
       "        [0.9843137 , 0.00784314, 0.02745098, 1.        ],\n",
       "        [0.9843137 , 0.00784314, 0.02745098, 1.        ],\n",
       "        ...,\n",
       "        [0.9843137 , 0.00784314, 0.02745098, 1.        ],\n",
       "        [0.9843137 , 0.00784314, 0.02745098, 1.        ],\n",
       "        [0.9843137 , 0.00784314, 0.02745098, 1.        ]],\n",
       "\n",
       "       [[0.9843137 , 0.00784314, 0.02745098, 1.        ],\n",
       "        [0.9843137 , 0.00784314, 0.02745098, 1.        ],\n",
       "        [0.9843137 , 0.00784314, 0.02745098, 1.        ],\n",
       "        ...,\n",
       "        [0.9843137 , 0.00784314, 0.02745098, 1.        ],\n",
       "        [0.9843137 , 0.00784314, 0.02745098, 1.        ],\n",
       "        [0.9843137 , 0.00784314, 0.02745098, 1.        ]],\n",
       "\n",
       "       [[0.9843137 , 0.00784314, 0.02745098, 1.        ],\n",
       "        [0.9843137 , 0.00784314, 0.02745098, 1.        ],\n",
       "        [0.9843137 , 0.00784314, 0.02745098, 1.        ],\n",
       "        ...,\n",
       "        [0.9843137 , 0.00784314, 0.02745098, 1.        ],\n",
       "        [0.9843137 , 0.00784314, 0.02745098, 1.        ],\n",
       "        [0.9843137 , 0.00784314, 0.02745098, 1.        ]],\n",
       "\n",
       "       [[0.9843137 , 0.00784314, 0.02745098, 1.        ],\n",
       "        [0.9843137 , 0.00784314, 0.02745098, 1.        ],\n",
       "        [0.9843137 , 0.00784314, 0.02745098, 1.        ],\n",
       "        ...,\n",
       "        [0.9843137 , 0.00784314, 0.02745098, 1.        ],\n",
       "        [0.9843137 , 0.00784314, 0.02745098, 1.        ],\n",
       "        [0.9843137 , 0.00784314, 0.02745098, 1.        ]]],\n",
       "      shape=(4, 200, 4), dtype=float32)"
      ]
     },
     "execution_count": 143,
     "metadata": {},
     "output_type": "execute_result"
    }
   ],
   "execution_count": 143
  },
  {
   "cell_type": "markdown",
   "id": "9552aae8613802b8",
   "metadata": {},
   "source": [
    "<img src=\"red.png\"/>"
   ]
  },
  {
   "cell_type": "code",
   "id": "1b402143e3ae5675",
   "metadata": {
    "ExecuteTime": {
     "end_time": "2025-08-09T22:13:33.162973Z",
     "start_time": "2025-08-09T22:13:33.161926Z"
    }
   },
   "source": [],
   "outputs": [],
   "execution_count": null
  }
 ],
 "metadata": {
  "kernelspec": {
   "display_name": "Python 3 (ipykernel)",
   "language": "python",
   "name": "python3"
  },
  "language_info": {
   "codemirror_mode": {
    "name": "ipython",
    "version": 3
   },
   "file_extension": ".py",
   "mimetype": "text/x-python",
   "name": "python",
   "nbconvert_exporter": "python",
   "pygments_lexer": "ipython3",
   "version": "3.9.6"
  }
 },
 "nbformat": 4,
 "nbformat_minor": 5
}
