{
 "cells": [
  {
   "cell_type": "code",
   "id": "befd2d4c-270f-4452-be9b-3e5d722f6fb3",
   "metadata": {
    "ExecuteTime": {
     "end_time": "2025-08-02T07:11:16.868924Z",
     "start_time": "2025-08-02T07:11:16.864430Z"
    }
   },
   "source": "import numpy as np",
   "outputs": [],
   "execution_count": 199
  },
  {
   "cell_type": "markdown",
   "id": "a1f7551a-ee77-471e-890c-daf9504c9d1c",
   "metadata": {},
   "source": [
    "## Data Types and Attributes"
   ]
  },
  {
   "cell_type": "code",
   "id": "d8b0e988-0ef5-456b-9afb-6277062b36f9",
   "metadata": {
    "ExecuteTime": {
     "end_time": "2025-08-02T07:11:16.914342Z",
     "start_time": "2025-08-02T07:11:16.905541Z"
    }
   },
   "source": [
    "a1 = np.array([1, 2, 3])\n",
    "type(a1)"
   ],
   "outputs": [
    {
     "data": {
      "text/plain": [
       "numpy.ndarray"
      ]
     },
     "execution_count": 200,
     "metadata": {},
     "output_type": "execute_result"
    }
   ],
   "execution_count": 200
  },
  {
   "cell_type": "markdown",
   "id": "87d5c7288cb54dc7",
   "metadata": {},
   "source": [
    "![](IMG_3155.jpg)"
   ]
  },
  {
   "cell_type": "code",
   "id": "cfd66601-6ae3-4b52-93e8-9d77d027e2fd",
   "metadata": {
    "ExecuteTime": {
     "end_time": "2025-08-02T07:11:16.968008Z",
     "start_time": "2025-08-02T07:11:16.962636Z"
    }
   },
   "source": [
    "# 2x3\n",
    "a2 = np.array([[1, 2.0, 3.0],\n",
    "       [4, 5, 6.5]])\n",
    "\n",
    "# 3x3x2 n-dimensional array?\n",
    "a3 = np.array([[[1, 2, 3],\n",
    "        [4, 5, 6],\n",
    "        [7, 8, 9]],\n",
    "       [[10, 11, 12],\n",
    "        [13, 14, 15],\n",
    "        [16, 17, 18]]])"
   ],
   "outputs": [],
   "execution_count": 201
  },
  {
   "cell_type": "code",
   "id": "749a9ededb8b162d",
   "metadata": {
    "ExecuteTime": {
     "end_time": "2025-08-02T07:11:17.015075Z",
     "start_time": "2025-08-02T07:11:17.008904Z"
    }
   },
   "source": [
    "a2"
   ],
   "outputs": [
    {
     "data": {
      "text/plain": [
       "array([[1. , 2. , 3. ],\n",
       "       [4. , 5. , 6.5]])"
      ]
     },
     "execution_count": 202,
     "metadata": {},
     "output_type": "execute_result"
    }
   ],
   "execution_count": 202
  },
  {
   "cell_type": "code",
   "id": "12074c463fc5b5a3",
   "metadata": {
    "ExecuteTime": {
     "end_time": "2025-08-02T07:11:17.106924Z",
     "start_time": "2025-08-02T07:11:17.100275Z"
    }
   },
   "source": [
    "a3"
   ],
   "outputs": [
    {
     "data": {
      "text/plain": [
       "array([[[ 1,  2,  3],\n",
       "        [ 4,  5,  6],\n",
       "        [ 7,  8,  9]],\n",
       "\n",
       "       [[10, 11, 12],\n",
       "        [13, 14, 15],\n",
       "        [16, 17, 18]]])"
      ]
     },
     "execution_count": 203,
     "metadata": {},
     "output_type": "execute_result"
    }
   ],
   "execution_count": 203
  },
  {
   "cell_type": "code",
   "id": "cd35a1729ecbcb01",
   "metadata": {
    "ExecuteTime": {
     "end_time": "2025-08-02T07:11:17.188950Z",
     "start_time": "2025-08-02T07:11:17.183449Z"
    }
   },
   "source": [
    "a1.shape"
   ],
   "outputs": [
    {
     "data": {
      "text/plain": [
       "(3,)"
      ]
     },
     "execution_count": 204,
     "metadata": {},
     "output_type": "execute_result"
    }
   ],
   "execution_count": 204
  },
  {
   "cell_type": "code",
   "id": "ef81f094a6a829b6",
   "metadata": {
    "ExecuteTime": {
     "end_time": "2025-08-02T07:11:17.305073Z",
     "start_time": "2025-08-02T07:11:17.300769Z"
    }
   },
   "source": [
    "a2.shape"
   ],
   "outputs": [
    {
     "data": {
      "text/plain": [
       "(2, 3)"
      ]
     },
     "execution_count": 205,
     "metadata": {},
     "output_type": "execute_result"
    }
   ],
   "execution_count": 205
  },
  {
   "cell_type": "code",
   "id": "464249299b8975a2",
   "metadata": {
    "ExecuteTime": {
     "end_time": "2025-08-02T07:11:17.357232Z",
     "start_time": "2025-08-02T07:11:17.352370Z"
    }
   },
   "source": [
    "a3.shape"
   ],
   "outputs": [
    {
     "data": {
      "text/plain": [
       "(2, 3, 3)"
      ]
     },
     "execution_count": 206,
     "metadata": {},
     "output_type": "execute_result"
    }
   ],
   "execution_count": 206
  },
  {
   "cell_type": "code",
   "id": "b02fd051350b0e09",
   "metadata": {
    "ExecuteTime": {
     "end_time": "2025-08-02T07:11:17.431414Z",
     "start_time": "2025-08-02T07:11:17.426524Z"
    }
   },
   "source": [
    "# show the dimensions of hte n-dim arrays\n",
    "a1.ndim, a2.ndim, a3.ndim"
   ],
   "outputs": [
    {
     "data": {
      "text/plain": [
       "(1, 2, 3)"
      ]
     },
     "execution_count": 207,
     "metadata": {},
     "output_type": "execute_result"
    }
   ],
   "execution_count": 207
  },
  {
   "cell_type": "code",
   "id": "da8007bcbcafb19b",
   "metadata": {
    "ExecuteTime": {
     "end_time": "2025-08-02T07:11:17.515615Z",
     "start_time": "2025-08-02T07:11:17.508995Z"
    }
   },
   "source": [
    "# Look at the data types dtype\n",
    "a1.dtype, a2.dtype, a3.dtype"
   ],
   "outputs": [
    {
     "data": {
      "text/plain": [
       "(dtype('int32'), dtype('float64'), dtype('int32'))"
      ]
     },
     "execution_count": 208,
     "metadata": {},
     "output_type": "execute_result"
    }
   ],
   "execution_count": 208
  },
  {
   "cell_type": "code",
   "id": "e52407dbe2eb78f4",
   "metadata": {
    "ExecuteTime": {
     "end_time": "2025-08-02T07:11:17.614278Z",
     "start_time": "2025-08-02T07:11:17.609255Z"
    }
   },
   "source": [
    "print(a2[1][1])"
   ],
   "outputs": [
    {
     "name": "stdout",
     "output_type": "stream",
     "text": [
      "5.0\n"
     ]
    }
   ],
   "execution_count": 209
  },
  {
   "cell_type": "code",
   "id": "e5074f41b8cc5b7",
   "metadata": {
    "ExecuteTime": {
     "end_time": "2025-08-02T07:11:17.700948Z",
     "start_time": "2025-08-02T07:11:17.694893Z"
    }
   },
   "source": [
    "# Show Sizes (number of elements in each n-dim array)\n",
    "a1.size, a2.size, a3.size"
   ],
   "outputs": [
    {
     "data": {
      "text/plain": [
       "(3, 6, 18)"
      ]
     },
     "execution_count": 210,
     "metadata": {},
     "output_type": "execute_result"
    }
   ],
   "execution_count": 210
  },
  {
   "cell_type": "code",
   "id": "ac83e8c3e08338d9",
   "metadata": {
    "ExecuteTime": {
     "end_time": "2025-08-02T07:11:17.775100Z",
     "start_time": "2025-08-02T07:11:17.770113Z"
    }
   },
   "source": [
    "type(a1), type(a2), type(a3)"
   ],
   "outputs": [
    {
     "data": {
      "text/plain": [
       "(numpy.ndarray, numpy.ndarray, numpy.ndarray)"
      ]
     },
     "execution_count": 211,
     "metadata": {},
     "output_type": "execute_result"
    }
   ],
   "execution_count": 211
  },
  {
   "cell_type": "markdown",
   "id": "daec920fd550c8f1",
   "metadata": {},
   "source": [
    "## Create a Data Frame (pandas) from a Numpy Array (numpy)"
   ]
  },
  {
   "cell_type": "code",
   "id": "610518fdf3f71f56",
   "metadata": {
    "ExecuteTime": {
     "end_time": "2025-08-02T07:11:17.849383Z",
     "start_time": "2025-08-02T07:11:17.844832Z"
    }
   },
   "source": [
    "import pandas as pd\n",
    "df = pd.DataFrame(a2)"
   ],
   "outputs": [],
   "execution_count": 212
  },
  {
   "cell_type": "code",
   "id": "7dfdaa3ed1d3f708",
   "metadata": {
    "ExecuteTime": {
     "end_time": "2025-08-02T07:11:17.895853Z",
     "start_time": "2025-08-02T07:11:17.883696Z"
    }
   },
   "source": [
    "df"
   ],
   "outputs": [
    {
     "data": {
      "text/plain": [
       "     0    1    2\n",
       "0  1.0  2.0  3.0\n",
       "1  4.0  5.0  6.5"
      ],
      "text/html": [
       "<div>\n",
       "<style scoped>\n",
       "    .dataframe tbody tr th:only-of-type {\n",
       "        vertical-align: middle;\n",
       "    }\n",
       "\n",
       "    .dataframe tbody tr th {\n",
       "        vertical-align: top;\n",
       "    }\n",
       "\n",
       "    .dataframe thead th {\n",
       "        text-align: right;\n",
       "    }\n",
       "</style>\n",
       "<table border=\"1\" class=\"dataframe\">\n",
       "  <thead>\n",
       "    <tr style=\"text-align: right;\">\n",
       "      <th></th>\n",
       "      <th>0</th>\n",
       "      <th>1</th>\n",
       "      <th>2</th>\n",
       "    </tr>\n",
       "  </thead>\n",
       "  <tbody>\n",
       "    <tr>\n",
       "      <th>0</th>\n",
       "      <td>1.0</td>\n",
       "      <td>2.0</td>\n",
       "      <td>3.0</td>\n",
       "    </tr>\n",
       "    <tr>\n",
       "      <th>1</th>\n",
       "      <td>4.0</td>\n",
       "      <td>5.0</td>\n",
       "      <td>6.5</td>\n",
       "    </tr>\n",
       "  </tbody>\n",
       "</table>\n",
       "</div>"
      ]
     },
     "execution_count": 213,
     "metadata": {},
     "output_type": "execute_result"
    }
   ],
   "execution_count": 213
  },
  {
   "cell_type": "code",
   "id": "1d22360ad4644488",
   "metadata": {
    "ExecuteTime": {
     "end_time": "2025-08-02T07:11:18.008296Z",
     "start_time": "2025-08-02T07:11:18.001267Z"
    }
   },
   "source": [
    "df[2][1]"
   ],
   "outputs": [
    {
     "data": {
      "text/plain": [
       "6.5"
      ]
     },
     "execution_count": 214,
     "metadata": {},
     "output_type": "execute_result"
    }
   ],
   "execution_count": 214
  },
  {
   "cell_type": "markdown",
   "id": "c7d1e9da2ae84384",
   "metadata": {},
   "source": [
    "## Machine Learning is = finding patterns in Numpy Arrays"
   ]
  },
  {
   "cell_type": "markdown",
   "id": "8d282187f3aab483",
   "metadata": {},
   "source": [
    "## Creating Arrays"
   ]
  },
  {
   "cell_type": "code",
   "id": "18d0b7914d7e1442",
   "metadata": {
    "ExecuteTime": {
     "end_time": "2025-08-02T07:11:18.198341Z",
     "start_time": "2025-08-02T07:11:18.192889Z"
    }
   },
   "source": [
    "import numpy as np\n",
    "sample_array = np.array([1, 2, 3])\n",
    "print(\"the type is: \")\n",
    "type(sample_array)"
   ],
   "outputs": [
    {
     "name": "stdout",
     "output_type": "stream",
     "text": [
      "the type is: \n"
     ]
    },
    {
     "data": {
      "text/plain": [
       "numpy.ndarray"
      ]
     },
     "execution_count": 215,
     "metadata": {},
     "output_type": "execute_result"
    }
   ],
   "execution_count": 215
  },
  {
   "cell_type": "code",
   "id": "ffbd07cf6d8e74bb",
   "metadata": {
    "ExecuteTime": {
     "end_time": "2025-08-02T07:11:18.347307Z",
     "start_time": "2025-08-02T07:11:18.342700Z"
    }
   },
   "source": [
    "print(\"the data type is: \")\n",
    "sample_array.dtype"
   ],
   "outputs": [
    {
     "name": "stdout",
     "output_type": "stream",
     "text": [
      "the data type is: \n"
     ]
    },
    {
     "data": {
      "text/plain": [
       "dtype('int32')"
      ]
     },
     "execution_count": 216,
     "metadata": {},
     "output_type": "execute_result"
    }
   ],
   "execution_count": 216
  },
  {
   "cell_type": "code",
   "id": "98550f15c358f64c",
   "metadata": {
    "ExecuteTime": {
     "end_time": "2025-08-02T07:11:18.430076Z",
     "start_time": "2025-08-02T07:11:18.424324Z"
    }
   },
   "source": [
    "# 4x4 array filled with ones\n",
    "ashape = (4, 4)\n",
    "ones = np.ones(ashape)\n",
    "ones"
   ],
   "outputs": [
    {
     "data": {
      "text/plain": [
       "array([[1., 1., 1., 1.],\n",
       "       [1., 1., 1., 1.],\n",
       "       [1., 1., 1., 1.],\n",
       "       [1., 1., 1., 1.]])"
      ]
     },
     "execution_count": 217,
     "metadata": {},
     "output_type": "execute_result"
    }
   ],
   "execution_count": 217
  },
  {
   "cell_type": "code",
   "id": "c078a25b9e0ebb9b",
   "metadata": {
    "ExecuteTime": {
     "end_time": "2025-08-02T07:11:18.526820Z",
     "start_time": "2025-08-02T07:11:18.514826Z"
    }
   },
   "source": [
    "ones.dtype"
   ],
   "outputs": [
    {
     "data": {
      "text/plain": [
       "dtype('float64')"
      ]
     },
     "execution_count": 218,
     "metadata": {},
     "output_type": "execute_result"
    }
   ],
   "execution_count": 218
  },
  {
   "cell_type": "code",
   "id": "6c22e5de7665d85f",
   "metadata": {
    "ExecuteTime": {
     "end_time": "2025-08-02T07:11:18.687253Z",
     "start_time": "2025-08-02T07:11:18.682376Z"
    }
   },
   "source": [
    "type(ones)"
   ],
   "outputs": [
    {
     "data": {
      "text/plain": [
       "numpy.ndarray"
      ]
     },
     "execution_count": 219,
     "metadata": {},
     "output_type": "execute_result"
    }
   ],
   "execution_count": 219
  },
  {
   "cell_type": "code",
   "id": "35ac8c5a8391e03",
   "metadata": {
    "ExecuteTime": {
     "end_time": "2025-08-02T07:11:18.795127Z",
     "start_time": "2025-08-02T07:11:18.789047Z"
    }
   },
   "source": [
    "# 4x4 array filled with zeros\n",
    "zeros = np.zeros(ashape)\n",
    "zeros"
   ],
   "outputs": [
    {
     "data": {
      "text/plain": [
       "array([[0., 0., 0., 0.],\n",
       "       [0., 0., 0., 0.],\n",
       "       [0., 0., 0., 0.],\n",
       "       [0., 0., 0., 0.]])"
      ]
     },
     "execution_count": 220,
     "metadata": {},
     "output_type": "execute_result"
    }
   ],
   "execution_count": 220
  },
  {
   "cell_type": "code",
   "id": "6933825aea4fcd2",
   "metadata": {
    "ExecuteTime": {
     "end_time": "2025-08-02T07:11:18.889038Z",
     "start_time": "2025-08-02T07:11:18.882776Z"
    }
   },
   "source": [
    "# Create array from 0 to 100 - noninclusive - and increment value 5 steps...\n",
    "range_array = np.arange(0, 100, 5, dtype=int)\n",
    "range_array"
   ],
   "outputs": [
    {
     "data": {
      "text/plain": [
       "array([ 0,  5, 10, 15, 20, 25, 30, 35, 40, 45, 50, 55, 60, 65, 70, 75, 80,\n",
       "       85, 90, 95])"
      ]
     },
     "execution_count": 221,
     "metadata": {},
     "output_type": "execute_result"
    }
   ],
   "execution_count": 221
  },
  {
   "cell_type": "code",
   "id": "56d035cd411bb5a",
   "metadata": {
    "ExecuteTime": {
     "end_time": "2025-08-02T07:11:18.965801Z",
     "start_time": "2025-08-02T07:11:18.960380Z"
    }
   },
   "source": [
    "# Random Array with value ranging from 0 to 10 and make it 2-D per (ashape = (4, 4))\n",
    "random_array = np.random.randint(0, 10, size=ashape)\n",
    "random_array"
   ],
   "outputs": [
    {
     "data": {
      "text/plain": [
       "array([[2, 3, 8, 1],\n",
       "       [3, 3, 3, 7],\n",
       "       [0, 1, 9, 9],\n",
       "       [0, 4, 7, 3]])"
      ]
     },
     "execution_count": 222,
     "metadata": {},
     "output_type": "execute_result"
    }
   ],
   "execution_count": 222
  },
  {
   "cell_type": "code",
   "id": "54803d2c8e3d7792",
   "metadata": {
    "ExecuteTime": {
     "end_time": "2025-08-02T07:11:19.204517Z",
     "start_time": "2025-08-02T07:11:19.196765Z"
    }
   },
   "source": [
    "# show size nd shape of hte ransom array\n",
    "random_array.dtype"
   ],
   "outputs": [
    {
     "data": {
      "text/plain": [
       "dtype('int32')"
      ]
     },
     "execution_count": 223,
     "metadata": {},
     "output_type": "execute_result"
    }
   ],
   "execution_count": 223
  },
  {
   "cell_type": "code",
   "id": "8fa29e2b3acef325",
   "metadata": {
    "ExecuteTime": {
     "end_time": "2025-08-02T07:11:19.292721Z",
     "start_time": "2025-08-02T07:11:19.287665Z"
    }
   },
   "source": [
    "random_array.shape"
   ],
   "outputs": [
    {
     "data": {
      "text/plain": [
       "(4, 4)"
      ]
     },
     "execution_count": 224,
     "metadata": {},
     "output_type": "execute_result"
    }
   ],
   "execution_count": 224
  },
  {
   "cell_type": "code",
   "id": "7a0fc7b8d102e3ea",
   "metadata": {
    "ExecuteTime": {
     "end_time": "2025-08-02T07:11:19.408957Z",
     "start_time": "2025-08-02T07:11:19.403215Z"
    }
   },
   "source": [
    "random_array.size"
   ],
   "outputs": [
    {
     "data": {
      "text/plain": [
       "16"
      ]
     },
     "execution_count": 225,
     "metadata": {},
     "output_type": "execute_result"
    }
   ],
   "execution_count": 225
  },
  {
   "cell_type": "code",
   "id": "7fffe2ceda95410b",
   "metadata": {
    "ExecuteTime": {
     "end_time": "2025-08-02T07:11:19.496109Z",
     "start_time": "2025-08-02T07:11:19.490480Z"
    }
   },
   "source": [
    "# random.random will return random floats between 0 and 1 ... I can multiply them all by 100\n",
    "randarray = np.random.random((8, 8))\n",
    "randarray"
   ],
   "outputs": [
    {
     "data": {
      "text/plain": [
       "array([[0.18633234, 0.73691818, 0.21655035, 0.13521817, 0.32414101,\n",
       "        0.14967487, 0.22232139, 0.38648898],\n",
       "       [0.90259848, 0.44994999, 0.61306346, 0.90234858, 0.09928035,\n",
       "        0.96980907, 0.65314004, 0.17090959],\n",
       "       [0.35815217, 0.75068614, 0.60783067, 0.32504723, 0.03842543,\n",
       "        0.63427406, 0.95894927, 0.65279032],\n",
       "       [0.63505887, 0.99529957, 0.58185033, 0.41436859, 0.4746975 ,\n",
       "        0.6235101 , 0.33800761, 0.67475232],\n",
       "       [0.31720174, 0.77834548, 0.94957105, 0.66252687, 0.01357164,\n",
       "        0.6228461 , 0.67365963, 0.971945  ],\n",
       "       [0.87819347, 0.50962438, 0.05571469, 0.45115921, 0.01998767,\n",
       "        0.44171092, 0.97958673, 0.35944446],\n",
       "       [0.48089353, 0.68866118, 0.88047589, 0.91823547, 0.21682214,\n",
       "        0.56518887, 0.86510256, 0.50896896],\n",
       "       [0.91672295, 0.92115761, 0.08311249, 0.27771856, 0.0093567 ,\n",
       "        0.84234208, 0.64717414, 0.84138612]])"
      ]
     },
     "execution_count": 226,
     "metadata": {},
     "output_type": "execute_result"
    }
   ],
   "execution_count": 226
  },
  {
   "cell_type": "code",
   "id": "61894e1e9c486f00",
   "metadata": {
    "ExecuteTime": {
     "end_time": "2025-08-02T07:11:19.589921Z",
     "start_time": "2025-08-02T07:11:19.581080Z"
    }
   },
   "source": [
    "# Quick way to multiply ALL elements in this 2-D array by a constant (100)\n",
    "randarray100 = randarray * 100\n",
    "randarray100"
   ],
   "outputs": [
    {
     "data": {
      "text/plain": [
       "array([[18.63323433, 73.69181771, 21.65503544, 13.52181734, 32.41410078,\n",
       "        14.96748672, 22.23213883, 38.64889811],\n",
       "       [90.25984755, 44.99499899, 61.30634579, 90.23485832,  9.92803504,\n",
       "        96.98090677, 65.31400358, 17.09095851],\n",
       "       [35.8152167 , 75.06861412, 60.78306687, 32.5047229 ,  3.84254265,\n",
       "        63.4274058 , 95.89492686, 65.2790317 ],\n",
       "       [63.50588736, 99.52995677, 58.18503294, 41.43685882, 47.46975023,\n",
       "        62.35101011, 33.80076148, 67.47523223],\n",
       "       [31.72017421, 77.8345482 , 94.95710535, 66.2526867 ,  1.35716356,\n",
       "        62.28460955, 67.36596308, 97.19450025],\n",
       "       [87.81934713, 50.96243767,  5.57146937, 45.11592145,  1.99876654,\n",
       "        44.17109212, 97.95867288, 35.9444464 ],\n",
       "       [48.08935308, 68.86611828, 88.04758893, 91.82354664, 21.68221376,\n",
       "        56.51888666, 86.51025613, 50.89689607],\n",
       "       [91.6722954 , 92.11576102,  8.31124926, 27.77185613,  0.93567049,\n",
       "        84.23420797, 64.71741402, 84.13861192]])"
      ]
     },
     "execution_count": 227,
     "metadata": {},
     "output_type": "execute_result"
    }
   ],
   "execution_count": 227
  },
  {
   "cell_type": "markdown",
   "id": "53db77e09e780c3d",
   "metadata": {},
   "source": [
    "## Pseudo random numbers are generated ... look into using a seed\n",
    "seed(seed=None)\n",
    "\n",
    "\n",
    "Reseed a legacy MT19937 BitGenerator\n",
    "This is a convenience, legacy function.\n",
    "The best practice is to not reseed a BitGenerator, rather to recreate a new one. This method is here for legacy reasons. This example demonstrates best practice.\n",
    ">>> from numpy.random import MT19937\n",
    ">>> from numpy.random import RandomState, SeedSequence\n",
    ">>> rs = RandomState(MT19937(SeedSequence(123456789)))\n",
    "### Later, you want to restart the stream\n",
    ">>> rs = RandomState(MT19937(SeedSequence(987654321)))"
   ]
  },
  {
   "cell_type": "code",
   "id": "119e2f3e222fee75",
   "metadata": {
    "ExecuteTime": {
     "end_time": "2025-08-02T07:11:19.744487Z",
     "start_time": "2025-08-02T07:11:19.738429Z"
    }
   },
   "source": [
    "np.random.seed()\n",
    "randarray100"
   ],
   "outputs": [
    {
     "data": {
      "text/plain": [
       "array([[18.63323433, 73.69181771, 21.65503544, 13.52181734, 32.41410078,\n",
       "        14.96748672, 22.23213883, 38.64889811],\n",
       "       [90.25984755, 44.99499899, 61.30634579, 90.23485832,  9.92803504,\n",
       "        96.98090677, 65.31400358, 17.09095851],\n",
       "       [35.8152167 , 75.06861412, 60.78306687, 32.5047229 ,  3.84254265,\n",
       "        63.4274058 , 95.89492686, 65.2790317 ],\n",
       "       [63.50588736, 99.52995677, 58.18503294, 41.43685882, 47.46975023,\n",
       "        62.35101011, 33.80076148, 67.47523223],\n",
       "       [31.72017421, 77.8345482 , 94.95710535, 66.2526867 ,  1.35716356,\n",
       "        62.28460955, 67.36596308, 97.19450025],\n",
       "       [87.81934713, 50.96243767,  5.57146937, 45.11592145,  1.99876654,\n",
       "        44.17109212, 97.95867288, 35.9444464 ],\n",
       "       [48.08935308, 68.86611828, 88.04758893, 91.82354664, 21.68221376,\n",
       "        56.51888666, 86.51025613, 50.89689607],\n",
       "       [91.6722954 , 92.11576102,  8.31124926, 27.77185613,  0.93567049,\n",
       "        84.23420797, 64.71741402, 84.13861192]])"
      ]
     },
     "execution_count": 228,
     "metadata": {},
     "output_type": "execute_result"
    }
   ],
   "execution_count": 228
  },
  {
   "cell_type": "code",
   "id": "724282ad8565d907",
   "metadata": {
    "ExecuteTime": {
     "end_time": "2025-08-02T07:11:19.933398Z",
     "start_time": "2025-08-02T07:11:19.927334Z"
    }
   },
   "source": [
    "# Pseudo random numbers\n",
    "np.random.seed(seed=20)\n",
    "# These all appear as random but if you want reproducible random numbers for the sake of re-creating an issue for instance, you can use a seed()\n",
    "random_array_4 = np.random.randint(10, size=(5, 3))\n",
    "random_array_4\n"
   ],
   "outputs": [
    {
     "data": {
      "text/plain": [
       "array([[3, 9, 4],\n",
       "       [6, 7, 2],\n",
       "       [0, 6, 8],\n",
       "       [5, 3, 0],\n",
       "       [6, 6, 0]])"
      ]
     },
     "execution_count": 229,
     "metadata": {},
     "output_type": "execute_result"
    }
   ],
   "execution_count": 229
  },
  {
   "cell_type": "code",
   "id": "67c4fbe8e2525c28",
   "metadata": {
    "ExecuteTime": {
     "end_time": "2025-08-02T07:11:20.124815Z",
     "start_time": "2025-08-02T07:11:20.119590Z"
    }
   },
   "source": [
    "#finding unique numbers in an array\n",
    "unique_array = np.unique([1, 2, 3, 4, 5, 1, 1, 2, 2, 44])"
   ],
   "outputs": [],
   "execution_count": 230
  },
  {
   "cell_type": "code",
   "id": "11b075dd89b6706c",
   "metadata": {
    "ExecuteTime": {
     "end_time": "2025-08-02T07:11:20.275829Z",
     "start_time": "2025-08-02T07:11:20.269091Z"
    }
   },
   "source": [
    "# @hen displaying these, it's important to remember that 'unique' is different than 'not a duplicate' ... this takes all numbers and return 1 vale for each, regardless of how many of that particular value are found in the array\n",
    "unique_array"
   ],
   "outputs": [
    {
     "data": {
      "text/plain": [
       "array([ 1,  2,  3,  4,  5, 44])"
      ]
     },
     "execution_count": 231,
     "metadata": {},
     "output_type": "execute_result"
    }
   ],
   "execution_count": 231
  },
  {
   "cell_type": "code",
   "id": "bde33b6840b8e480",
   "metadata": {
    "ExecuteTime": {
     "end_time": "2025-08-02T07:11:20.419791Z",
     "start_time": "2025-08-02T07:11:20.413446Z"
    }
   },
   "source": [
    "# Now try unique with the random array of integers\n",
    "unique_rand = np.unique(random_array_4)\n",
    "unique_rand"
   ],
   "outputs": [
    {
     "data": {
      "text/plain": [
       "array([0, 2, 3, 4, 5, 6, 7, 8, 9])"
      ]
     },
     "execution_count": 232,
     "metadata": {},
     "output_type": "execute_result"
    }
   ],
   "execution_count": 232
  },
  {
   "cell_type": "code",
   "id": "d6941cc8a32fbed2",
   "metadata": {
    "ExecuteTime": {
     "end_time": "2025-08-02T07:11:20.491370Z",
     "start_time": "2025-08-02T07:11:20.486093Z"
    }
   },
   "source": [
    "random_array_4"
   ],
   "outputs": [
    {
     "data": {
      "text/plain": [
       "array([[3, 9, 4],\n",
       "       [6, 7, 2],\n",
       "       [0, 6, 8],\n",
       "       [5, 3, 0],\n",
       "       [6, 6, 0]])"
      ]
     },
     "execution_count": 233,
     "metadata": {},
     "output_type": "execute_result"
    }
   ],
   "execution_count": 233
  },
  {
   "cell_type": "markdown",
   "id": "6142f9bf6adb7283",
   "metadata": {},
   "source": [
    "## 3. Viewing Arrays and Matrices"
   ]
  },
  {
   "cell_type": "code",
   "id": "72f59db9f51fbe42",
   "metadata": {
    "ExecuteTime": {
     "end_time": "2025-08-02T07:11:20.637226Z",
     "start_time": "2025-08-02T07:11:20.629624Z"
    }
   },
   "source": [
    "a1"
   ],
   "outputs": [
    {
     "data": {
      "text/plain": [
       "array([1, 2, 3])"
      ]
     },
     "execution_count": 234,
     "metadata": {},
     "output_type": "execute_result"
    }
   ],
   "execution_count": 234
  },
  {
   "cell_type": "code",
   "id": "10b029f1aa4ff8b7",
   "metadata": {
    "ExecuteTime": {
     "end_time": "2025-08-02T07:11:20.756941Z",
     "start_time": "2025-08-02T07:11:20.751884Z"
    }
   },
   "source": [
    "a2"
   ],
   "outputs": [
    {
     "data": {
      "text/plain": [
       "array([[1. , 2. , 3. ],\n",
       "       [4. , 5. , 6.5]])"
      ]
     },
     "execution_count": 235,
     "metadata": {},
     "output_type": "execute_result"
    }
   ],
   "execution_count": 235
  },
  {
   "cell_type": "code",
   "id": "baead0f84ef244d7",
   "metadata": {
    "ExecuteTime": {
     "end_time": "2025-08-02T07:11:20.881358Z",
     "start_time": "2025-08-02T07:11:20.874946Z"
    }
   },
   "source": [
    "print(a3) # 2x3x3\n",
    "a3.shape"
   ],
   "outputs": [
    {
     "name": "stdout",
     "output_type": "stream",
     "text": [
      "[[[ 1  2  3]\n",
      "  [ 4  5  6]\n",
      "  [ 7  8  9]]\n",
      "\n",
      " [[10 11 12]\n",
      "  [13 14 15]\n",
      "  [16 17 18]]]\n"
     ]
    },
    {
     "data": {
      "text/plain": [
       "(2, 3, 3)"
      ]
     },
     "execution_count": 236,
     "metadata": {},
     "output_type": "execute_result"
    }
   ],
   "execution_count": 236
  },
  {
   "cell_type": "code",
   "id": "1c3fe47d0e6e8c74",
   "metadata": {
    "ExecuteTime": {
     "end_time": "2025-08-02T07:11:20.986664Z",
     "start_time": "2025-08-02T07:11:20.982507Z"
    }
   },
   "source": [
    "print(\"Get all of the first elements\")\n",
    "print(\"****\")\n",
    "print(a1[0])\n",
    "print(\"****\")\n",
    "print(a2[0])\n",
    "print(\"****\")\n",
    "print(a3[0])\n",
    "print(\"****\")"
   ],
   "outputs": [
    {
     "name": "stdout",
     "output_type": "stream",
     "text": [
      "Get all of the first elements\n",
      "****\n",
      "1\n",
      "****\n",
      "[1. 2. 3.]\n",
      "****\n",
      "[[1 2 3]\n",
      " [4 5 6]\n",
      " [7 8 9]]\n",
      "****\n"
     ]
    }
   ],
   "execution_count": 237
  },
  {
   "cell_type": "code",
   "id": "7b63952f123e84fa",
   "metadata": {
    "ExecuteTime": {
     "end_time": "2025-08-02T07:11:21.091577Z",
     "start_time": "2025-08-02T07:11:21.086960Z"
    }
   },
   "source": [
    "a4 = np.random.randint(10, size=(2, 3, 4, 5))\n",
    "a4"
   ],
   "outputs": [
    {
     "data": {
      "text/plain": [
       "array([[[[9, 5, 7, 5, 2],\n",
       "         [6, 9, 3, 3, 9],\n",
       "         [0, 6, 2, 3, 1],\n",
       "         [8, 0, 2, 7, 6]],\n",
       "\n",
       "        [[6, 8, 2, 1, 3],\n",
       "         [2, 6, 9, 4, 6],\n",
       "         [4, 8, 6, 2, 3],\n",
       "         [1, 5, 2, 1, 8]],\n",
       "\n",
       "        [[2, 4, 4, 8, 6],\n",
       "         [0, 3, 4, 0, 5],\n",
       "         [6, 9, 7, 4, 0],\n",
       "         [6, 1, 9, 6, 7]]],\n",
       "\n",
       "\n",
       "       [[[9, 7, 6, 9, 8],\n",
       "         [8, 2, 2, 1, 5],\n",
       "         [2, 9, 7, 5, 5],\n",
       "         [9, 6, 9, 9, 5]],\n",
       "\n",
       "        [[2, 9, 6, 1, 8],\n",
       "         [1, 0, 8, 5, 0],\n",
       "         [6, 5, 4, 2, 9],\n",
       "         [9, 4, 5, 3, 9]],\n",
       "\n",
       "        [[7, 1, 2, 3, 6],\n",
       "         [5, 4, 4, 1, 8],\n",
       "         [7, 1, 9, 2, 3],\n",
       "         [4, 4, 4, 9, 0]]]])"
      ]
     },
     "execution_count": 238,
     "metadata": {},
     "output_type": "execute_result"
    }
   ],
   "execution_count": 238
  },
  {
   "cell_type": "code",
   "id": "d6486ea58af82871",
   "metadata": {
    "ExecuteTime": {
     "end_time": "2025-08-02T07:11:21.188226Z",
     "start_time": "2025-08-02T07:11:21.182282Z"
    }
   },
   "source": [
    "a4.shape, a4.ndim"
   ],
   "outputs": [
    {
     "data": {
      "text/plain": [
       "((2, 3, 4, 5), 4)"
      ]
     },
     "execution_count": 239,
     "metadata": {},
     "output_type": "execute_result"
    }
   ],
   "execution_count": 239
  },
  {
   "cell_type": "code",
   "id": "a954491ff4d0b09c",
   "metadata": {
    "ExecuteTime": {
     "end_time": "2025-08-02T07:11:21.254995Z",
     "start_time": "2025-08-02T07:11:21.251071Z"
    }
   },
   "source": [
    "a4[1][0][2][4]"
   ],
   "outputs": [
    {
     "data": {
      "text/plain": [
       "5"
      ]
     },
     "execution_count": 240,
     "metadata": {},
     "output_type": "execute_result"
    }
   ],
   "execution_count": 240
  },
  {
   "cell_type": "code",
   "id": "ac1854b84ba29e17",
   "metadata": {
    "ExecuteTime": {
     "end_time": "2025-08-02T07:11:21.319254Z",
     "start_time": "2025-08-02T07:11:21.314359Z"
    }
   },
   "source": [
    "a3"
   ],
   "outputs": [
    {
     "data": {
      "text/plain": [
       "array([[[ 1,  2,  3],\n",
       "        [ 4,  5,  6],\n",
       "        [ 7,  8,  9]],\n",
       "\n",
       "       [[10, 11, 12],\n",
       "        [13, 14, 15],\n",
       "        [16, 17, 18]]])"
      ]
     },
     "execution_count": 241,
     "metadata": {},
     "output_type": "execute_result"
    }
   ],
   "execution_count": 241
  },
  {
   "cell_type": "code",
   "id": "e2d45bea6554cf86",
   "metadata": {
    "ExecuteTime": {
     "end_time": "2025-08-02T07:11:21.388268Z",
     "start_time": "2025-08-02T07:11:21.385140Z"
    }
   },
   "source": [
    "a3_split = a3[:2, :3, 2:3]"
   ],
   "outputs": [],
   "execution_count": 242
  },
  {
   "cell_type": "code",
   "id": "ddb19457b900ab2e",
   "metadata": {
    "ExecuteTime": {
     "end_time": "2025-08-02T07:11:21.437056Z",
     "start_time": "2025-08-02T07:11:21.432021Z"
    }
   },
   "source": [
    "print(a3_split)"
   ],
   "outputs": [
    {
     "name": "stdout",
     "output_type": "stream",
     "text": [
      "[[[ 3]\n",
      "  [ 6]\n",
      "  [ 9]]\n",
      "\n",
      " [[12]\n",
      "  [15]\n",
      "  [18]]]\n"
     ]
    }
   ],
   "execution_count": 243
  },
  {
   "cell_type": "markdown",
   "id": "7e179998476042c3",
   "metadata": {},
   "source": [
    "## Manipulating and Comparing arrays"
   ]
  },
  {
   "cell_type": "code",
   "id": "5e38dffa32691bc5",
   "metadata": {
    "ExecuteTime": {
     "end_time": "2025-08-02T07:11:21.491025Z",
     "start_time": "2025-08-02T07:11:21.486257Z"
    }
   },
   "source": [
    "### Arithmetic\n",
    "a1"
   ],
   "outputs": [
    {
     "data": {
      "text/plain": [
       "array([1, 2, 3])"
      ]
     },
     "execution_count": 244,
     "metadata": {},
     "output_type": "execute_result"
    }
   ],
   "execution_count": 244
  },
  {
   "cell_type": "code",
   "id": "12efbaeefc04411e",
   "metadata": {
    "ExecuteTime": {
     "end_time": "2025-08-02T07:11:21.548972Z",
     "start_time": "2025-08-02T07:11:21.545754Z"
    }
   },
   "source": [
    "ones = np.ones(3)"
   ],
   "outputs": [],
   "execution_count": 245
  },
  {
   "cell_type": "code",
   "id": "df1403a1992edfed",
   "metadata": {
    "ExecuteTime": {
     "end_time": "2025-08-02T07:11:21.586369Z",
     "start_time": "2025-08-02T07:11:21.581992Z"
    }
   },
   "source": [
    "ones"
   ],
   "outputs": [
    {
     "data": {
      "text/plain": [
       "array([1., 1., 1.])"
      ]
     },
     "execution_count": 246,
     "metadata": {},
     "output_type": "execute_result"
    }
   ],
   "execution_count": 246
  },
  {
   "cell_type": "code",
   "id": "24fdf26d93a50618",
   "metadata": {
    "ExecuteTime": {
     "end_time": "2025-08-02T07:11:21.645040Z",
     "start_time": "2025-08-02T07:11:21.640091Z"
    }
   },
   "source": [
    "# adding and subtracting equal sized arrays\n",
    "result = a1 + ones\n",
    "result"
   ],
   "outputs": [
    {
     "data": {
      "text/plain": [
       "array([2., 3., 4.])"
      ]
     },
     "execution_count": 247,
     "metadata": {},
     "output_type": "execute_result"
    }
   ],
   "execution_count": 247
  },
  {
   "cell_type": "code",
   "id": "3602edb2775d3d97",
   "metadata": {
    "ExecuteTime": {
     "end_time": "2025-08-02T07:11:21.694739Z",
     "start_time": "2025-08-02T07:11:21.690092Z"
    }
   },
   "source": [
    "result = a1 - ones\n",
    "result"
   ],
   "outputs": [
    {
     "data": {
      "text/plain": [
       "array([0., 1., 2.])"
      ]
     },
     "execution_count": 248,
     "metadata": {},
     "output_type": "execute_result"
    }
   ],
   "execution_count": 248
  },
  {
   "cell_type": "code",
   "id": "7f1a9a0b5ffb0ead",
   "metadata": {
    "ExecuteTime": {
     "end_time": "2025-08-02T07:11:21.759723Z",
     "start_time": "2025-08-02T07:11:21.753865Z"
    }
   },
   "source": [
    "# Look at a2 it is a 2D array with 3 elements, a1 also has 3 elements, so multiplying a1*a2 should take the elements of a1 and multiply them by BOTH roews in a2 (they also have 3 elements)\n",
    "result = a1*a2\n",
    "print(a1)\n",
    "print(a2)\n",
    "print(result)"
   ],
   "outputs": [
    {
     "name": "stdout",
     "output_type": "stream",
     "text": [
      "[1 2 3]\n",
      "[[1.  2.  3. ]\n",
      " [4.  5.  6.5]]\n",
      "[[ 1.   4.   9. ]\n",
      " [ 4.  10.  19.5]]\n"
     ]
    }
   ],
   "execution_count": 249
  },
  {
   "cell_type": "code",
   "id": "99de71dc99a49323",
   "metadata": {
    "ExecuteTime": {
     "end_time": "2025-08-02T07:11:21.829351Z",
     "start_time": "2025-08-02T07:11:21.823905Z"
    }
   },
   "source": [
    "# a1 * a3 is possible because the shape is correct\n",
    "result = a1 * a3\n",
    "print(a1)\n",
    "print(a3)\n",
    "print(result)"
   ],
   "outputs": [
    {
     "name": "stdout",
     "output_type": "stream",
     "text": [
      "[1 2 3]\n",
      "[[[ 1  2  3]\n",
      "  [ 4  5  6]\n",
      "  [ 7  8  9]]\n",
      "\n",
      " [[10 11 12]\n",
      "  [13 14 15]\n",
      "  [16 17 18]]]\n",
      "[[[ 1  4  9]\n",
      "  [ 4 10 18]\n",
      "  [ 7 16 27]]\n",
      "\n",
      " [[10 22 36]\n",
      "  [13 28 45]\n",
      "  [16 34 54]]]\n"
     ]
    }
   ],
   "execution_count": 250
  },
  {
   "cell_type": "code",
   "id": "9dc56c735af2e128",
   "metadata": {
    "ExecuteTime": {
     "end_time": "2025-08-02T07:11:21.887923Z",
     "start_time": "2025-08-02T07:11:21.883564Z"
    }
   },
   "source": [
    "# Solving broad casting issues with different shapes of arrays\n",
    "# think on this problem, maybe reshape() an array\n",
    "print(a2)\n",
    "print(a3)"
   ],
   "outputs": [
    {
     "name": "stdout",
     "output_type": "stream",
     "text": [
      "[[1.  2.  3. ]\n",
      " [4.  5.  6.5]]\n",
      "[[[ 1  2  3]\n",
      "  [ 4  5  6]\n",
      "  [ 7  8  9]]\n",
      "\n",
      " [[10 11 12]\n",
      "  [13 14 15]\n",
      "  [16 17 18]]]\n"
     ]
    }
   ],
   "execution_count": 251
  },
  {
   "cell_type": "code",
   "id": "dd937c1f7cd71d5a",
   "metadata": {
    "ExecuteTime": {
     "end_time": "2025-08-02T07:11:21.927648Z",
     "start_time": "2025-08-02T07:11:21.924737Z"
    }
   },
   "source": [
    "print(a2.shape)\n",
    "print(a3.shape)"
   ],
   "outputs": [
    {
     "name": "stdout",
     "output_type": "stream",
     "text": [
      "(2, 3)\n",
      "(2, 3, 3)\n"
     ]
    }
   ],
   "execution_count": 252
  },
  {
   "cell_type": "code",
   "id": "81c6a778f02c0ca7",
   "metadata": {
    "ExecuteTime": {
     "end_time": "2025-08-02T07:11:21.977116Z",
     "start_time": "2025-08-02T07:11:21.971982Z"
    }
   },
   "source": [
    "reshaped_array = a2[:, np.newaxis] + a3\n",
    "reshaped_array"
   ],
   "outputs": [
    {
     "data": {
      "text/plain": [
       "array([[[ 2. ,  4. ,  6. ],\n",
       "        [ 5. ,  7. ,  9. ],\n",
       "        [ 8. , 10. , 12. ]],\n",
       "\n",
       "       [[14. , 16. , 18.5],\n",
       "        [17. , 19. , 21.5],\n",
       "        [20. , 22. , 24.5]]])"
      ]
     },
     "execution_count": 253,
     "metadata": {},
     "output_type": "execute_result"
    }
   ],
   "execution_count": 253
  },
  {
   "cell_type": "code",
   "id": "fd7eb98823c6959b",
   "metadata": {
    "ExecuteTime": {
     "end_time": "2025-08-02T07:11:22.021125Z",
     "start_time": "2025-08-02T07:11:22.015869Z"
    }
   },
   "source": [
    "print(\"This is a2 normal\")\n",
    "print(a2)\n",
    "print(\"This is a2 modified\")\n",
    "a2mod = a2[:, np.newaxis]\n",
    "print(a2mod)"
   ],
   "outputs": [
    {
     "name": "stdout",
     "output_type": "stream",
     "text": [
      "This is a2 normal\n",
      "[[1.  2.  3. ]\n",
      " [4.  5.  6.5]]\n",
      "This is a2 modified\n",
      "[[[1.  2.  3. ]]\n",
      "\n",
      " [[4.  5.  6.5]]]\n"
     ]
    }
   ],
   "execution_count": 254
  },
  {
   "cell_type": "code",
   "id": "3efbb13230629748",
   "metadata": {
    "ExecuteTime": {
     "end_time": "2025-08-02T07:11:22.069583Z",
     "start_time": "2025-08-02T07:11:22.063789Z"
    }
   },
   "source": [
    "a2.shape"
   ],
   "outputs": [
    {
     "data": {
      "text/plain": [
       "(2, 3)"
      ]
     },
     "execution_count": 255,
     "metadata": {},
     "output_type": "execute_result"
    }
   ],
   "execution_count": 255
  },
  {
   "cell_type": "code",
   "id": "30aed3ed6432e1a1",
   "metadata": {
    "ExecuteTime": {
     "end_time": "2025-08-02T07:11:22.124384Z",
     "start_time": "2025-08-02T07:11:22.118872Z"
    }
   },
   "source": [
    "a3.shape"
   ],
   "outputs": [
    {
     "data": {
      "text/plain": [
       "(2, 3, 3)"
      ]
     },
     "execution_count": 256,
     "metadata": {},
     "output_type": "execute_result"
    }
   ],
   "execution_count": 256
  },
  {
   "cell_type": "code",
   "id": "d1860a2d5879344b",
   "metadata": {
    "ExecuteTime": {
     "end_time": "2025-08-02T07:11:22.180789Z",
     "start_time": "2025-08-02T07:11:22.175021Z"
    }
   },
   "source": [
    "a2mod.shape"
   ],
   "outputs": [
    {
     "data": {
      "text/plain": [
       "(2, 1, 3)"
      ]
     },
     "execution_count": 257,
     "metadata": {},
     "output_type": "execute_result"
    }
   ],
   "execution_count": 257
  },
  {
   "cell_type": "markdown",
   "id": "40fa8978fc87b64d",
   "metadata": {},
   "source": [
    "### Aggregation\n",
    "Aggregation = performing the same operation on a number of things"
   ]
  },
  {
   "cell_type": "code",
   "id": "804a88f42ccba82e",
   "metadata": {
    "ExecuteTime": {
     "end_time": "2025-08-02T07:11:22.222744Z",
     "start_time": "2025-08-02T07:11:22.217190Z"
    }
   },
   "source": [
    "listy_list = [1, 2, 3]\n",
    "print(listy_list)\n",
    "print(type(listy_list))\n"
   ],
   "outputs": [
    {
     "name": "stdout",
     "output_type": "stream",
     "text": [
      "[1, 2, 3]\n",
      "<class 'list'>\n"
     ]
    }
   ],
   "execution_count": 258
  },
  {
   "cell_type": "code",
   "id": "3e8223fcd5164e28",
   "metadata": {
    "ExecuteTime": {
     "end_time": "2025-08-02T07:11:22.299097Z",
     "start_time": "2025-08-02T07:11:22.295818Z"
    }
   },
   "source": [
    "print(a1)\n",
    "print(listy_list)"
   ],
   "outputs": [
    {
     "name": "stdout",
     "output_type": "stream",
     "text": [
      "[1 2 3]\n",
      "[1, 2, 3]\n"
     ]
    }
   ],
   "execution_count": 259
  },
  {
   "cell_type": "code",
   "id": "c20ac4fa1703cc07",
   "metadata": {
    "ExecuteTime": {
     "end_time": "2025-08-02T07:11:22.355087Z",
     "start_time": "2025-08-02T07:11:22.349353Z"
    }
   },
   "source": [
    "sum(listy_list)"
   ],
   "outputs": [
    {
     "data": {
      "text/plain": [
       "6"
      ]
     },
     "execution_count": 260,
     "metadata": {},
     "output_type": "execute_result"
    }
   ],
   "execution_count": 260
  },
  {
   "cell_type": "code",
   "id": "abe4f3468cba41a5",
   "metadata": {
    "ExecuteTime": {
     "end_time": "2025-08-02T07:11:22.408188Z",
     "start_time": "2025-08-02T07:11:22.403706Z"
    }
   },
   "source": [
    "sum(a1)"
   ],
   "outputs": [
    {
     "data": {
      "text/plain": [
       "6"
      ]
     },
     "execution_count": 261,
     "metadata": {},
     "output_type": "execute_result"
    }
   ],
   "execution_count": 261
  },
  {
   "cell_type": "code",
   "id": "c717225dc8441ae4",
   "metadata": {
    "ExecuteTime": {
     "end_time": "2025-08-02T07:11:22.465668Z",
     "start_time": "2025-08-02T07:11:22.459688Z"
    }
   },
   "source": [
    "np.sum(a1)"
   ],
   "outputs": [
    {
     "data": {
      "text/plain": [
       "6"
      ]
     },
     "execution_count": 262,
     "metadata": {},
     "output_type": "execute_result"
    }
   ],
   "execution_count": 262
  },
  {
   "cell_type": "code",
   "id": "44df6bd90ba828e2",
   "metadata": {
    "ExecuteTime": {
     "end_time": "2025-08-02T07:11:22.527399Z",
     "start_time": "2025-08-02T07:11:22.521472Z"
    }
   },
   "source": [
    "massive_array = np.random.random(100000)\n",
    "massive_array.size"
   ],
   "outputs": [
    {
     "data": {
      "text/plain": [
       "100000"
      ]
     },
     "execution_count": 263,
     "metadata": {},
     "output_type": "execute_result"
    }
   ],
   "execution_count": 263
  },
  {
   "cell_type": "code",
   "id": "e3c57a203319169f",
   "metadata": {
    "ExecuteTime": {
     "end_time": "2025-08-02T07:11:22.584317Z",
     "start_time": "2025-08-02T07:11:22.578071Z"
    }
   },
   "source": [
    "massive_array[:10]"
   ],
   "outputs": [
    {
     "data": {
      "text/plain": [
       "array([0.08081596, 0.46521234, 0.67711049, 0.007521  , 0.67859914,\n",
       "       0.80201725, 0.97211109, 0.86017942, 0.42101686, 0.89977262])"
      ]
     },
     "execution_count": 264,
     "metadata": {},
     "output_type": "execute_result"
    }
   ],
   "execution_count": 264
  },
  {
   "cell_type": "code",
   "id": "fe9b63e657019e3",
   "metadata": {
    "ExecuteTime": {
     "end_time": "2025-08-02T07:11:31.013683Z",
     "start_time": "2025-08-02T07:11:22.638356Z"
    }
   },
   "source": [
    "%timeit sum(massive_array)\n",
    "%timeit np.sum(massive_array)"
   ],
   "outputs": [
    {
     "name": "stdout",
     "output_type": "stream",
     "text": [
      "6.29 ms ± 319 μs per loop (mean ± std. dev. of 7 runs, 100 loops each)\n",
      "39.8 μs ± 4.95 μs per loop (mean ± std. dev. of 7 runs, 10,000 loops each)\n"
     ]
    }
   ],
   "execution_count": 265
  },
  {
   "cell_type": "code",
   "id": "64b37a769c1932a0",
   "metadata": {
    "ExecuteTime": {
     "end_time": "2025-08-02T07:11:31.040089Z",
     "start_time": "2025-08-02T07:11:31.035438Z"
    }
   },
   "source": [
    "2910/12.8"
   ],
   "outputs": [
    {
     "data": {
      "text/plain": [
       "227.34375"
      ]
     },
     "execution_count": 266,
     "metadata": {},
     "output_type": "execute_result"
    }
   ],
   "execution_count": 266
  },
  {
   "cell_type": "code",
   "id": "ab23be21542012bb",
   "metadata": {
    "ExecuteTime": {
     "end_time": "2025-08-02T07:11:31.072551Z",
     "start_time": "2025-08-02T07:11:31.069196Z"
    }
   },
   "source": [
    "# So the np.sum is 227 times faster than the regular python sum.\n",
    "# That is why its better to use np.sum on np data and not python sum on np data"
   ],
   "outputs": [],
   "execution_count": 267
  },
  {
   "cell_type": "code",
   "id": "c921505aaf3fc577",
   "metadata": {
    "ExecuteTime": {
     "end_time": "2025-08-02T07:11:31.112887Z",
     "start_time": "2025-08-02T07:11:31.107286Z"
    }
   },
   "source": [
    "a2"
   ],
   "outputs": [
    {
     "data": {
      "text/plain": [
       "array([[1. , 2. , 3. ],\n",
       "       [4. , 5. , 6.5]])"
      ]
     },
     "execution_count": 268,
     "metadata": {},
     "output_type": "execute_result"
    }
   ],
   "execution_count": 268
  },
  {
   "cell_type": "code",
   "id": "3878917176ed832d",
   "metadata": {
    "ExecuteTime": {
     "end_time": "2025-08-02T07:11:31.194888Z",
     "start_time": "2025-08-02T07:11:31.189878Z"
    }
   },
   "source": [
    "print(np.mean(a2))\n",
    "print(21.5 / np.size(a2))"
   ],
   "outputs": [
    {
     "name": "stdout",
     "output_type": "stream",
     "text": [
      "3.5833333333333335\n",
      "3.5833333333333335\n"
     ]
    }
   ],
   "execution_count": 269
  },
  {
   "cell_type": "code",
   "id": "7d405ab235013af",
   "metadata": {
    "ExecuteTime": {
     "end_time": "2025-08-02T07:11:31.271190Z",
     "start_time": "2025-08-02T07:11:31.263527Z"
    }
   },
   "source": [
    "# Statistical Operations\n",
    "# MEAN or AVERAGE\n",
    "print(\"The Mean / average is: \")\n",
    "print(np.mean(a2))\n",
    "\n",
    "# STANDARD DEVIATION = a measure of how spread out a number is from the mean\n",
    "# and is the square root of the variant ... so sqrt(np.var(a2))\n",
    "print(\"The Standard Deviation is: \")\n",
    "print(np.std(a2))\n",
    "\n",
    "# Square root of the variant\n",
    "print(\"The sqrt of the variant is: \")\n",
    "print(np.sqrt(np.var(a2)))\n",
    "\n",
    "# VARIANCE\n",
    "# The measure of the average degree to which each number is different to the mean.\n",
    "# Higher variance = wider range of numbers\n",
    "# Lower variance = lower range of numbers\n",
    "print(\"The Variance is: \")\n",
    "print(np.var(a2))"
   ],
   "outputs": [
    {
     "name": "stdout",
     "output_type": "stream",
     "text": [
      "The Mean / average is: \n",
      "3.5833333333333335\n",
      "The Standard Deviation is: \n",
      "1.8352262954621035\n",
      "The sqrt of the variant is: \n",
      "1.8352262954621035\n",
      "The Variance is: \n",
      "3.368055555555556\n"
     ]
    }
   ],
   "execution_count": 270
  },
  {
   "cell_type": "markdown",
   "id": "fa759c34b53c5046",
   "metadata": {},
   "source": [
    "## Real World Example of calculating Means and Variances and what they are by definition"
   ]
  },
  {
   "cell_type": "markdown",
   "id": "737bb6e1e1b5c44d",
   "metadata": {},
   "source": [
    "## Problem Definition:\n",
    "![](statistics-dogs-graph.gif)\n",
    "\n",
    "To calculate the variance follow these steps:\n",
    "\n",
    "Calculate the Mean (the simple average of the numbers)\n",
    "\n",
    "Then for each number: subtract the Mean and square the result (the squared difference).\n",
    "\n",
    "Then calculate the average of those squared differences. (Why Square?)\n",
    "\n",
    "Example:\n",
    "You and your friends have just measured the heights of your dogs (in millimeters):\n",
    "\n",
    "dogs on graph shoulder heights\n",
    "\n",
    "The heights (at the shoulders) are: 600 mm, 470 mm, 170 mm, 430 mm and 300 mm.\n",
    "\n",
    "Find out the Mean, the Variance, and the Standard Deviation."
   ]
  },
  {
   "cell_type": "code",
   "id": "116a585bf33129c7",
   "metadata": {
    "ExecuteTime": {
     "end_time": "2025-08-02T07:11:31.494295Z",
     "start_time": "2025-08-02T07:11:31.354135Z"
    }
   },
   "source": [
    "# Het a Histogram of the dog height data\n",
    "import matplotlib.pyplot as plt\n",
    "dog_heights = np.array([170, 300, 430, 470, 600])\n",
    "plt.hist(dog_heights, bins=50)\n",
    "plt.show()"
   ],
   "outputs": [
    {
     "data": {
      "text/plain": [
       "<Figure size 640x480 with 1 Axes>"
      ],
      "image/png": "[encoded data removed]"
     },
     "metadata": {},
     "output_type": "display_data"
    }
   ],
   "execution_count": 271
  },
  {
   "metadata": {
    "ExecuteTime": {
     "end_time": "2025-08-02T07:11:31.549953Z",
     "start_time": "2025-08-02T07:11:31.544248Z"
    }
   },
   "cell_type": "code",
   "source": [
    "# Step 1: Calculate the mean\n",
    "print(\"The dog heights\")\n",
    "dog_heights = np.array([170, 300, 430, 470, 600])\n",
    "print(dog_heights)"
   ],
   "id": "a80dfeb0e595b6f4",
   "outputs": [
    {
     "name": "stdout",
     "output_type": "stream",
     "text": [
      "The dog heights\n",
      "[170 300 430 470 600]\n"
     ]
    }
   ],
   "execution_count": 272
  },
  {
   "cell_type": "code",
   "id": "64fa5760d3c34de4",
   "metadata": {
    "ExecuteTime": {
     "end_time": "2025-08-02T07:11:31.618652Z",
     "start_time": "2025-08-02T07:11:31.605665Z"
    }
   },
   "source": [
    "print(\"MEAN The dog heights average / mean\")\n",
    "dog_heights_mean = np.mean(dog_heights)\n",
    "print(dog_heights_mean)"
   ],
   "outputs": [
    {
     "name": "stdout",
     "output_type": "stream",
     "text": [
      "MEAN The dog heights average / mean\n",
      "394.0\n"
     ]
    }
   ],
   "execution_count": 273
  },
  {
   "cell_type": "code",
   "id": "a56d04e42b80b34c",
   "metadata": {
    "ExecuteTime": {
     "end_time": "2025-08-02T07:11:31.705799Z",
     "start_time": "2025-08-02T07:11:31.700348Z"
    }
   },
   "source": [
    "print(\"Now subtract the mean() from each number\")\n",
    "dog_heights_sub_mean = np.subtract(dog_heights, dog_heights_mean)\n",
    "print(dog_heights_sub_mean)"
   ],
   "outputs": [
    {
     "name": "stdout",
     "output_type": "stream",
     "text": [
      "Now subtract the mean() from each number\n",
      "[-224.  -94.   36.   76.  206.]\n"
     ]
    }
   ],
   "execution_count": 274
  },
  {
   "cell_type": "code",
   "id": "5aa22ef322dbb466",
   "metadata": {
    "ExecuteTime": {
     "end_time": "2025-08-02T07:11:31.829473Z",
     "start_time": "2025-08-02T07:11:31.822975Z"
    }
   },
   "source": [
    "print(\"Now square each number in the array\")\n",
    "dog_heights_sub_mean_sqrd = np.square(dog_heights_sub_mean)\n",
    "print(dog_heights_sub_mean_sqrd)"
   ],
   "outputs": [
    {
     "name": "stdout",
     "output_type": "stream",
     "text": [
      "Now square each number in the array\n",
      "[50176.  8836.  1296.  5776. 42436.]\n"
     ]
    }
   ],
   "execution_count": 275
  },
  {
   "cell_type": "code",
   "id": "93ea2aaefa7dfe78",
   "metadata": {
    "ExecuteTime": {
     "end_time": "2025-08-02T07:11:31.936500Z",
     "start_time": "2025-08-02T07:11:31.929973Z"
    }
   },
   "source": [
    "print(\"VARIANCE = Now take the average/mean of the square array [[dog_heights_sub_mean_sqrd]]\")\n",
    "dog_heights_sub_mean_sqrd_mean = np.mean(dog_heights_sub_mean_sqrd)\n",
    "print(dog_heights_sub_mean_sqrd_mean)"
   ],
   "outputs": [
    {
     "name": "stdout",
     "output_type": "stream",
     "text": [
      "VARIANCE = Now take the average/mean of the square array [[dog_heights_sub_mean_sqrd]]\n",
      "21704.0\n"
     ]
    }
   ],
   "execution_count": 276
  },
  {
   "cell_type": "code",
   "id": "3767d68681fc6af0",
   "metadata": {
    "ExecuteTime": {
     "end_time": "2025-08-02T07:11:32.078075Z",
     "start_time": "2025-08-02T07:11:32.072120Z"
    }
   },
   "source": [
    "print(\"STANDARD DEVIATION Now take the sqrt of the Variance (21704)\")\n",
    "standard_dev = np.sqrt(dog_heights_sub_mean_sqrd_mean)\n",
    "print(standard_dev)"
   ],
   "outputs": [
    {
     "name": "stdout",
     "output_type": "stream",
     "text": [
      "STANDARD DEVIATION Now take the sqrt of the Variance (21704)\n",
      "147.32277488562318\n"
     ]
    }
   ],
   "execution_count": 277
  },
  {
   "metadata": {},
   "cell_type": "markdown",
   "source": "## Demo of Standard Deviation and Variance",
   "id": "455dd708d30eb38e"
  },
  {
   "metadata": {
    "ExecuteTime": {
     "end_time": "2025-08-02T07:11:32.166848Z",
     "start_time": "2025-08-02T07:11:32.162506Z"
    }
   },
   "cell_type": "code",
   "source": [
    "high_var_array = np.array([1, 100, 200, 300, 4000, 5000])\n",
    "low_var_array = np.array([2, 4, 6, 8, 10])"
   ],
   "id": "a966ab7a4254ce4a",
   "outputs": [],
   "execution_count": 278
  },
  {
   "metadata": {
    "ExecuteTime": {
     "end_time": "2025-08-02T07:11:32.216475Z",
     "start_time": "2025-08-02T07:11:32.211168Z"
    }
   },
   "cell_type": "code",
   "source": [
    "# Get the Variance\n",
    "np.var(high_var_array), np.var(low_var_array)"
   ],
   "id": "fe6d63c3fbf5ec7d",
   "outputs": [
    {
     "data": {
      "text/plain": [
       "(4296133.472222221, 8.0)"
      ]
     },
     "execution_count": 279,
     "metadata": {},
     "output_type": "execute_result"
    }
   ],
   "execution_count": 279
  },
  {
   "metadata": {
    "ExecuteTime": {
     "end_time": "2025-08-02T07:11:32.274850Z",
     "start_time": "2025-08-02T07:11:32.269056Z"
    }
   },
   "cell_type": "code",
   "source": [
    "# SQRT of variation is the Standard Deviation\n",
    "np.sqrt(np.var(high_var_array)), np.sqrt(np.var(low_var_array))"
   ],
   "id": "e7e48613afc6e5d6",
   "outputs": [
    {
     "data": {
      "text/plain": [
       "(2072.711623024829, 2.8284271247461903)"
      ]
     },
     "execution_count": 280,
     "metadata": {},
     "output_type": "execute_result"
    }
   ],
   "execution_count": 280
  },
  {
   "metadata": {
    "ExecuteTime": {
     "end_time": "2025-08-02T07:11:32.330108Z",
     "start_time": "2025-08-02T07:11:32.324877Z"
    }
   },
   "cell_type": "code",
   "source": [
    "# SQRT'd values above show that they are the same as using the std() function\n",
    "np.std(high_var_array), np.std(low_var_array)"
   ],
   "id": "719f0b57e3b4df7b",
   "outputs": [
    {
     "data": {
      "text/plain": [
       "(2072.711623024829, 2.8284271247461903)"
      ]
     },
     "execution_count": 281,
     "metadata": {},
     "output_type": "execute_result"
    }
   ],
   "execution_count": 281
  },
  {
   "metadata": {
    "ExecuteTime": {
     "end_time": "2025-08-02T07:11:32.379189Z",
     "start_time": "2025-08-02T07:11:32.372269Z"
    }
   },
   "cell_type": "code",
   "source": [
    "# Get the mean\n",
    "np.mean(high_var_array), np.mean(low_var_array)"
   ],
   "id": "8262e87be49897cd",
   "outputs": [
    {
     "data": {
      "text/plain": [
       "(1600.1666666666667, 6.0)"
      ]
     },
     "execution_count": 282,
     "metadata": {},
     "output_type": "execute_result"
    }
   ],
   "execution_count": 282
  },
  {
   "metadata": {
    "ExecuteTime": {
     "end_time": "2025-08-02T07:11:32.754796Z",
     "start_time": "2025-08-02T07:11:32.542380Z"
    }
   },
   "cell_type": "code",
   "source": [
    "import matplotlib.pyplot as plt\n",
    "plt.hist(high_var_array)\n",
    "plt.show()"
   ],
   "id": "1d581ffbf6def952",
   "outputs": [
    {
     "data": {
      "text/plain": [
       "<Figure size 640x480 with 1 Axes>"
      ],
      "image/png": "[encoded data removed]"
     },
     "metadata": {},
     "output_type": "display_data"
    }
   ],
   "execution_count": 283
  },
  {
   "metadata": {
    "ExecuteTime": {
     "end_time": "2025-08-02T07:11:32.931057Z",
     "start_time": "2025-08-02T07:11:32.787277Z"
    }
   },
   "cell_type": "code",
   "source": [
    "plt.hist(low_var_array, bins=10)\n",
    "plt.show()"
   ],
   "id": "a5fc1aa03b693c95",
   "outputs": [
    {
     "data": {
      "text/plain": [
       "<Figure size 640x480 with 1 Axes>"
      ],
      "image/png": "[encoded data removed]"
     },
     "metadata": {},
     "output_type": "display_data"
    }
   ],
   "execution_count": 284
  },
  {
   "metadata": {},
   "cell_type": "markdown",
   "source": "### Reshaping and Transposing Arrays",
   "id": "b4701807e81e1fd4"
  },
  {
   "metadata": {
    "ExecuteTime": {
     "end_time": "2025-08-02T07:11:32.975356Z",
     "start_time": "2025-08-02T07:11:32.969197Z"
    }
   },
   "cell_type": "code",
   "source": [
    "print(a2)\n",
    "print(a2.shape)"
   ],
   "id": "947f94ac52caa412",
   "outputs": [
    {
     "name": "stdout",
     "output_type": "stream",
     "text": [
      "[[1.  2.  3. ]\n",
      " [4.  5.  6.5]]\n",
      "(2, 3)\n"
     ]
    }
   ],
   "execution_count": 285
  },
  {
   "metadata": {
    "ExecuteTime": {
     "end_time": "2025-08-02T07:11:33.011540Z",
     "start_time": "2025-08-02T07:11:33.006296Z"
    }
   },
   "cell_type": "code",
   "source": [
    "print(a3)\n",
    "print(a3.shape)"
   ],
   "id": "f9818251aaf38981",
   "outputs": [
    {
     "name": "stdout",
     "output_type": "stream",
     "text": [
      "[[[ 1  2  3]\n",
      "  [ 4  5  6]\n",
      "  [ 7  8  9]]\n",
      "\n",
      " [[10 11 12]\n",
      "  [13 14 15]\n",
      "  [16 17 18]]]\n",
      "(2, 3, 3)\n"
     ]
    }
   ],
   "execution_count": 286
  },
  {
   "metadata": {
    "ExecuteTime": {
     "end_time": "2025-08-02T07:11:33.058248Z",
     "start_time": "2025-08-02T07:11:33.053849Z"
    }
   },
   "cell_type": "code",
   "source": [
    "a2r = a2.reshape(2,3,1)\n",
    "print(a2.reshape(2,3,1).shape)\n",
    "print(\"***\\n\" + str(a2) + \"\\n***\")\n",
    "print(\"***\\n\" + str(a2r) + \"\\n***\")"
   ],
   "id": "fcb70be7996c60dc",
   "outputs": [
    {
     "name": "stdout",
     "output_type": "stream",
     "text": [
      "(2, 3, 1)\n",
      "***\n",
      "[[1.  2.  3. ]\n",
      " [4.  5.  6.5]]\n",
      "***\n",
      "***\n",
      "[[[1. ]\n",
      "  [2. ]\n",
      "  [3. ]]\n",
      "\n",
      " [[4. ]\n",
      "  [5. ]\n",
      "  [6.5]]]\n",
      "***\n"
     ]
    }
   ],
   "execution_count": 287
  },
  {
   "metadata": {
    "ExecuteTime": {
     "end_time": "2025-08-02T07:11:33.101963Z",
     "start_time": "2025-08-02T07:11:33.094529Z"
    }
   },
   "cell_type": "code",
   "source": [
    "result = a2r * a3\n",
    "print(\"**** a2r ****\")\n",
    "print(a2r)\n",
    "print(\"**** a3 ****\")\n",
    "print(a3)\n",
    "print(\"**** a2r * a3 ****\")\n",
    "print(result)"
   ],
   "id": "65ea06b54426b5bd",
   "outputs": [
    {
     "name": "stdout",
     "output_type": "stream",
     "text": [
      "**** a2r ****\n",
      "[[[1. ]\n",
      "  [2. ]\n",
      "  [3. ]]\n",
      "\n",
      " [[4. ]\n",
      "  [5. ]\n",
      "  [6.5]]]\n",
      "**** a3 ****\n",
      "[[[ 1  2  3]\n",
      "  [ 4  5  6]\n",
      "  [ 7  8  9]]\n",
      "\n",
      " [[10 11 12]\n",
      "  [13 14 15]\n",
      "  [16 17 18]]]\n",
      "**** a2r * a3 ****\n",
      "[[[  1.    2.    3. ]\n",
      "  [  8.   10.   12. ]\n",
      "  [ 21.   24.   27. ]]\n",
      "\n",
      " [[ 40.   44.   48. ]\n",
      "  [ 65.   70.   75. ]\n",
      "  [104.  110.5 117. ]]]\n"
     ]
    }
   ],
   "execution_count": 288
  },
  {
   "metadata": {},
   "cell_type": "markdown",
   "source": "## Transposing arrays - switches the axes",
   "id": "71ae58c35f4680c2"
  },
  {
   "metadata": {
    "ExecuteTime": {
     "end_time": "2025-08-02T07:11:33.145741Z",
     "start_time": "2025-08-02T07:11:33.141628Z"
    }
   },
   "cell_type": "code",
   "source": [
    "print(a2)\n",
    "print(a2.shape)"
   ],
   "id": "4d0dbd1aedd5dcfd",
   "outputs": [
    {
     "name": "stdout",
     "output_type": "stream",
     "text": [
      "[[1.  2.  3. ]\n",
      " [4.  5.  6.5]]\n",
      "(2, 3)\n"
     ]
    }
   ],
   "execution_count": 289
  },
  {
   "metadata": {
    "ExecuteTime": {
     "end_time": "2025-08-02T07:11:33.206710Z",
     "start_time": "2025-08-02T07:11:33.202669Z"
    }
   },
   "cell_type": "code",
   "source": [
    "a2tr = a2.T\n",
    "print(a2tr)\n",
    "print(a2tr.shape)"
   ],
   "id": "ac7116955d5c823f",
   "outputs": [
    {
     "name": "stdout",
     "output_type": "stream",
     "text": [
      "[[1.  4. ]\n",
      " [2.  5. ]\n",
      " [3.  6.5]]\n",
      "(3, 2)\n"
     ]
    }
   ],
   "execution_count": 290
  },
  {
   "metadata": {
    "ExecuteTime": {
     "end_time": "2025-08-02T07:11:33.271378Z",
     "start_time": "2025-08-02T07:11:33.267034Z"
    }
   },
   "cell_type": "code",
   "source": [
    "# Transpose a 3 dim array\n",
    "print(a3)\n",
    "print(a3.shape)\n",
    "a3tr = a3.T\n",
    "print(a3tr)\n",
    "print(a3tr.shape)"
   ],
   "id": "e98caaf598db974",
   "outputs": [
    {
     "name": "stdout",
     "output_type": "stream",
     "text": [
      "[[[ 1  2  3]\n",
      "  [ 4  5  6]\n",
      "  [ 7  8  9]]\n",
      "\n",
      " [[10 11 12]\n",
      "  [13 14 15]\n",
      "  [16 17 18]]]\n",
      "(2, 3, 3)\n",
      "[[[ 1 10]\n",
      "  [ 4 13]\n",
      "  [ 7 16]]\n",
      "\n",
      " [[ 2 11]\n",
      "  [ 5 14]\n",
      "  [ 8 17]]\n",
      "\n",
      " [[ 3 12]\n",
      "  [ 6 15]\n",
      "  [ 9 18]]]\n",
      "(3, 3, 2)\n"
     ]
    }
   ],
   "execution_count": 291
  },
  {
   "metadata": {
    "ExecuteTime": {
     "end_time": "2025-08-02T07:11:33.339240Z",
     "start_time": "2025-08-02T07:11:33.332299Z"
    }
   },
   "cell_type": "code",
   "source": [
    "## Video #74\n",
    "np.random.seed(seed=0)\n",
    "\n",
    "mat1 = np.random.randint(10, size=(5, 3))\n",
    "mat2 = np.random.randint(10, size=(5, 3))\n",
    "print(mat1)\n",
    "print(mat2)\n",
    "print(mat1.shape)\n",
    "print(mat2.shape)\n"
   ],
   "id": "647e5d6295b1c50d",
   "outputs": [
    {
     "name": "stdout",
     "output_type": "stream",
     "text": [
      "[[5 0 3]\n",
      " [3 7 9]\n",
      " [3 5 2]\n",
      " [4 7 6]\n",
      " [8 8 1]]\n",
      "[[6 7 7]\n",
      " [8 1 5]\n",
      " [9 8 9]\n",
      " [4 3 0]\n",
      " [3 5 0]]\n",
      "(5, 3)\n",
      "(5, 3)\n"
     ]
    }
   ],
   "execution_count": 292
  },
  {
   "metadata": {
    "ExecuteTime": {
     "end_time": "2025-08-02T07:11:33.401063Z",
     "start_time": "2025-08-02T07:11:33.395556Z"
    }
   },
   "cell_type": "code",
   "source": [
    "# Element-wise multiplication (Hadamard product)\n",
    "mulres = mat1*mat2\n",
    "print(mulres)"
   ],
   "id": "8dc714b9bbbb01af",
   "outputs": [
    {
     "name": "stdout",
     "output_type": "stream",
     "text": [
      "[[30  0 21]\n",
      " [24  7 45]\n",
      " [27 40 18]\n",
      " [16 21  0]\n",
      " [24 40  0]]\n"
     ]
    }
   ],
   "execution_count": 293
  },
  {
   "metadata": {},
   "cell_type": "markdown",
   "source": "## Dot Product",
   "id": "489415f2f99a552f"
  },
  {
   "metadata": {},
   "cell_type": "markdown",
   "source": "![](dot_product_image.jpg)",
   "id": "c31834608659681f"
  },
  {
   "metadata": {
    "ExecuteTime": {
     "end_time": "2025-08-02T07:11:33.452288Z",
     "start_time": "2025-08-02T07:11:33.447498Z"
    }
   },
   "cell_type": "code",
   "source": [
    "# Dot Product\n",
    "dp_res = np.dot(mat1, mat2.T)\n",
    "print(dp_res)"
   ],
   "id": "273e8c1d51f6439e",
   "outputs": [
    {
     "name": "stdout",
     "output_type": "stream",
     "text": [
      "[[ 51  55  72  20  15]\n",
      " [130  76 164  33  44]\n",
      " [ 67  39  85  27  34]\n",
      " [115  69 146  37  47]\n",
      " [111  77 145  56  64]]\n"
     ]
    }
   ],
   "execution_count": 294
  },
  {
   "metadata": {
    "ExecuteTime": {
     "end_time": "2025-08-02T07:11:33.486063Z",
     "start_time": "2025-08-02T07:11:33.482144Z"
    }
   },
   "cell_type": "code",
   "source": "print(mat1)",
   "id": "372d906ca5990d65",
   "outputs": [
    {
     "name": "stdout",
     "output_type": "stream",
     "text": [
      "[[5 0 3]\n",
      " [3 7 9]\n",
      " [3 5 2]\n",
      " [4 7 6]\n",
      " [8 8 1]]\n"
     ]
    }
   ],
   "execution_count": 295
  },
  {
   "metadata": {
    "ExecuteTime": {
     "end_time": "2025-08-02T07:11:33.517096Z",
     "start_time": "2025-08-02T07:11:33.512200Z"
    }
   },
   "cell_type": "code",
   "source": "print(mat2.T)",
   "id": "a64ec75f32a12744",
   "outputs": [
    {
     "name": "stdout",
     "output_type": "stream",
     "text": [
      "[[6 8 9 4 3]\n",
      " [7 1 8 3 5]\n",
      " [7 5 9 0 0]]\n"
     ]
    }
   ],
   "execution_count": 296
  },
  {
   "metadata": {
    "ExecuteTime": {
     "end_time": "2025-08-02T07:11:33.550161Z",
     "start_time": "2025-08-02T07:11:33.545934Z"
    }
   },
   "cell_type": "code",
   "source": [
    "# Notice the inner values of (3) being the same allowing for the multiplication to occur)\n",
    "# two 5x3 matrices so one gets transposed to a 3x5 so we have (5,3) * (3,5)\n",
    "print(mat1.shape, mat2.T.shape)\n",
    "print(dp_res.shape)"
   ],
   "id": "124152be9307f8c2",
   "outputs": [
    {
     "name": "stdout",
     "output_type": "stream",
     "text": [
      "(5, 3) (3, 5)\n",
      "(5, 5)\n"
     ]
    }
   ],
   "execution_count": 297
  },
  {
   "metadata": {},
   "cell_type": "markdown",
   "source": "## Nut Butter Sales - Dot Product",
   "id": "12c6197a870a9977"
  },
  {
   "metadata": {
    "ExecuteTime": {
     "end_time": "2025-08-03T20:20:45.251042Z",
     "start_time": "2025-08-03T20:20:45.246508Z"
    }
   },
   "cell_type": "code",
   "source": "# So the nut butter sales matrix is 1x3array and 3x3matrix",
   "id": "a62c5662687de322",
   "outputs": [],
   "execution_count": 299
  },
  {
   "metadata": {
    "ExecuteTime": {
     "end_time": "2025-08-03T20:22:39.769462Z",
     "start_time": "2025-08-03T20:22:39.753656Z"
    }
   },
   "cell_type": "code",
   "source": "np.random.seed(seed=0)",
   "id": "75d81e95782de939",
   "outputs": [],
   "execution_count": 300
  },
  {
   "metadata": {
    "ExecuteTime": {
     "end_time": "2025-08-03T20:24:39.102236Z",
     "start_time": "2025-08-03T20:24:39.088933Z"
    }
   },
   "cell_type": "code",
   "source": [
    "# Number of jars sold\n",
    "sales_amounts = np.random.randint(20, size=(5, 3))\n",
    "sales_amounts\n"
   ],
   "id": "81eaefca3cc92066",
   "outputs": [
    {
     "data": {
      "text/plain": [
       "array([[14, 17,  5],\n",
       "       [13,  8,  9],\n",
       "       [19, 16, 19],\n",
       "       [ 5, 15, 15],\n",
       "       [ 0, 18,  3]])"
      ]
     },
     "execution_count": 302,
     "metadata": {},
     "output_type": "execute_result"
    }
   ],
   "execution_count": 302
  },
  {
   "metadata": {
    "ExecuteTime": {
     "end_time": "2025-08-03T20:29:14.397814Z",
     "start_time": "2025-08-03T20:29:14.390734Z"
    }
   },
   "cell_type": "code",
   "source": [
    "# Create weekly sales DataFrame\n",
    "weekly_sales = pd.DataFrame(sales_amounts,\n",
    "                            index = [\"Mon\", \"Tues\", \"Wed\", \"Thurs\", \"Fri\"],\n",
    "                            columns = [\"Almond Butter\", \"Peanut Butter\", \"Cashew Butter\"])"
   ],
   "id": "2c908527a86e68aa",
   "outputs": [],
   "execution_count": 305
  },
  {
   "metadata": {
    "ExecuteTime": {
     "end_time": "2025-08-03T20:41:51.777266Z",
     "start_time": "2025-08-03T20:41:51.769075Z"
    }
   },
   "cell_type": "code",
   "source": "weekly_sales",
   "id": "2096a4e193db1433",
   "outputs": [
    {
     "data": {
      "text/plain": [
       "       Almond Butter  Peanut Butter  Cashew Butter\n",
       "Mon               14             17              5\n",
       "Tues              13              8              9\n",
       "Wed               19             16             19\n",
       "Thurs              5             15             15\n",
       "Fri                0             18              3"
      ],
      "text/html": [
       "<div>\n",
       "<style scoped>\n",
       "    .dataframe tbody tr th:only-of-type {\n",
       "        vertical-align: middle;\n",
       "    }\n",
       "\n",
       "    .dataframe tbody tr th {\n",
       "        vertical-align: top;\n",
       "    }\n",
       "\n",
       "    .dataframe thead th {\n",
       "        text-align: right;\n",
       "    }\n",
       "</style>\n",
       "<table border=\"1\" class=\"dataframe\">\n",
       "  <thead>\n",
       "    <tr style=\"text-align: right;\">\n",
       "      <th></th>\n",
       "      <th>Almond Butter</th>\n",
       "      <th>Peanut Butter</th>\n",
       "      <th>Cashew Butter</th>\n",
       "    </tr>\n",
       "  </thead>\n",
       "  <tbody>\n",
       "    <tr>\n",
       "      <th>Mon</th>\n",
       "      <td>14</td>\n",
       "      <td>17</td>\n",
       "      <td>5</td>\n",
       "    </tr>\n",
       "    <tr>\n",
       "      <th>Tues</th>\n",
       "      <td>13</td>\n",
       "      <td>8</td>\n",
       "      <td>9</td>\n",
       "    </tr>\n",
       "    <tr>\n",
       "      <th>Wed</th>\n",
       "      <td>19</td>\n",
       "      <td>16</td>\n",
       "      <td>19</td>\n",
       "    </tr>\n",
       "    <tr>\n",
       "      <th>Thurs</th>\n",
       "      <td>5</td>\n",
       "      <td>15</td>\n",
       "      <td>15</td>\n",
       "    </tr>\n",
       "    <tr>\n",
       "      <th>Fri</th>\n",
       "      <td>0</td>\n",
       "      <td>18</td>\n",
       "      <td>3</td>\n",
       "    </tr>\n",
       "  </tbody>\n",
       "</table>\n",
       "</div>"
      ]
     },
     "execution_count": 309,
     "metadata": {},
     "output_type": "execute_result"
    }
   ],
   "execution_count": 309
  },
  {
   "metadata": {
    "ExecuteTime": {
     "end_time": "2025-08-03T20:41:52.831072Z",
     "start_time": "2025-08-03T20:41:52.824034Z"
    }
   },
   "cell_type": "code",
   "source": [
    "# Create Prices NumpyArray\n",
    "prices = np.array([10, 8, 12])\n",
    "prices"
   ],
   "id": "2dc03ed73be27f60",
   "outputs": [
    {
     "data": {
      "text/plain": [
       "array([10,  8, 12])"
      ]
     },
     "execution_count": 310,
     "metadata": {},
     "output_type": "execute_result"
    }
   ],
   "execution_count": 310
  },
  {
   "metadata": {
    "ExecuteTime": {
     "end_time": "2025-08-03T20:45:06.123306Z",
     "start_time": "2025-08-03T20:45:06.112669Z"
    }
   },
   "cell_type": "code",
   "source": [
    "# Create a Butter Prices Data Frame\n",
    "butter_prices = pd.DataFrame(prices.reshape(1, 3),\n",
    "                             index = [\"Price\"],\n",
    "                             columns = [\"Almond Butter\", \"Peanut Butter\", \"Cashew Butter\"])\n",
    "butter_prices"
   ],
   "id": "5a7413e36e372109",
   "outputs": [
    {
     "data": {
      "text/plain": [
       "       Almond Butter  Peanut Butter  Cashew Butter\n",
       "Price             10              8             12"
      ],
      "text/html": [
       "<div>\n",
       "<style scoped>\n",
       "    .dataframe tbody tr th:only-of-type {\n",
       "        vertical-align: middle;\n",
       "    }\n",
       "\n",
       "    .dataframe tbody tr th {\n",
       "        vertical-align: top;\n",
       "    }\n",
       "\n",
       "    .dataframe thead th {\n",
       "        text-align: right;\n",
       "    }\n",
       "</style>\n",
       "<table border=\"1\" class=\"dataframe\">\n",
       "  <thead>\n",
       "    <tr style=\"text-align: right;\">\n",
       "      <th></th>\n",
       "      <th>Almond Butter</th>\n",
       "      <th>Peanut Butter</th>\n",
       "      <th>Cashew Butter</th>\n",
       "    </tr>\n",
       "  </thead>\n",
       "  <tbody>\n",
       "    <tr>\n",
       "      <th>Price</th>\n",
       "      <td>10</td>\n",
       "      <td>8</td>\n",
       "      <td>12</td>\n",
       "    </tr>\n",
       "  </tbody>\n",
       "</table>\n",
       "</div>"
      ]
     },
     "execution_count": 314,
     "metadata": {},
     "output_type": "execute_result"
    }
   ],
   "execution_count": 314
  },
  {
   "metadata": {
    "ExecuteTime": {
     "end_time": "2025-08-03T20:46:10.055205Z",
     "start_time": "2025-08-03T20:46:10.040596Z"
    }
   },
   "cell_type": "code",
   "source": [
    "total_sales = prices.dot(sales_amounts.T)\n",
    "total_sales"
   ],
   "id": "7cd170811d3cbdba",
   "outputs": [
    {
     "data": {
      "text/plain": [
       "array([336, 302, 546, 350, 180])"
      ]
     },
     "execution_count": 317,
     "metadata": {},
     "output_type": "execute_result"
    }
   ],
   "execution_count": 317
  },
  {
   "metadata": {
    "ExecuteTime": {
     "end_time": "2025-08-03T20:47:20.792478Z",
     "start_time": "2025-08-03T20:47:20.784107Z"
    }
   },
   "cell_type": "code",
   "source": [
    "# Create Daily Sales\n",
    "butter_prices"
   ],
   "id": "87b2c3884fc3fa72",
   "outputs": [
    {
     "data": {
      "text/plain": [
       "       Almond Butter  Peanut Butter  Cashew Butter\n",
       "Price             10              8             12"
      ],
      "text/html": [
       "<div>\n",
       "<style scoped>\n",
       "    .dataframe tbody tr th:only-of-type {\n",
       "        vertical-align: middle;\n",
       "    }\n",
       "\n",
       "    .dataframe tbody tr th {\n",
       "        vertical-align: top;\n",
       "    }\n",
       "\n",
       "    .dataframe thead th {\n",
       "        text-align: right;\n",
       "    }\n",
       "</style>\n",
       "<table border=\"1\" class=\"dataframe\">\n",
       "  <thead>\n",
       "    <tr style=\"text-align: right;\">\n",
       "      <th></th>\n",
       "      <th>Almond Butter</th>\n",
       "      <th>Peanut Butter</th>\n",
       "      <th>Cashew Butter</th>\n",
       "    </tr>\n",
       "  </thead>\n",
       "  <tbody>\n",
       "    <tr>\n",
       "      <th>Price</th>\n",
       "      <td>10</td>\n",
       "      <td>8</td>\n",
       "      <td>12</td>\n",
       "    </tr>\n",
       "  </tbody>\n",
       "</table>\n",
       "</div>"
      ]
     },
     "execution_count": 318,
     "metadata": {},
     "output_type": "execute_result"
    }
   ],
   "execution_count": 318
  },
  {
   "metadata": {
    "ExecuteTime": {
     "end_time": "2025-08-03T20:47:27.859893Z",
     "start_time": "2025-08-03T20:47:27.849363Z"
    }
   },
   "cell_type": "code",
   "source": "weekly_sales",
   "id": "154bd23df32c12e2",
   "outputs": [
    {
     "data": {
      "text/plain": [
       "       Almond Butter  Peanut Butter  Cashew Butter\n",
       "Mon               14             17              5\n",
       "Tues              13              8              9\n",
       "Wed               19             16             19\n",
       "Thurs              5             15             15\n",
       "Fri                0             18              3"
      ],
      "text/html": [
       "<div>\n",
       "<style scoped>\n",
       "    .dataframe tbody tr th:only-of-type {\n",
       "        vertical-align: middle;\n",
       "    }\n",
       "\n",
       "    .dataframe tbody tr th {\n",
       "        vertical-align: top;\n",
       "    }\n",
       "\n",
       "    .dataframe thead th {\n",
       "        text-align: right;\n",
       "    }\n",
       "</style>\n",
       "<table border=\"1\" class=\"dataframe\">\n",
       "  <thead>\n",
       "    <tr style=\"text-align: right;\">\n",
       "      <th></th>\n",
       "      <th>Almond Butter</th>\n",
       "      <th>Peanut Butter</th>\n",
       "      <th>Cashew Butter</th>\n",
       "    </tr>\n",
       "  </thead>\n",
       "  <tbody>\n",
       "    <tr>\n",
       "      <th>Mon</th>\n",
       "      <td>14</td>\n",
       "      <td>17</td>\n",
       "      <td>5</td>\n",
       "    </tr>\n",
       "    <tr>\n",
       "      <th>Tues</th>\n",
       "      <td>13</td>\n",
       "      <td>8</td>\n",
       "      <td>9</td>\n",
       "    </tr>\n",
       "    <tr>\n",
       "      <th>Wed</th>\n",
       "      <td>19</td>\n",
       "      <td>16</td>\n",
       "      <td>19</td>\n",
       "    </tr>\n",
       "    <tr>\n",
       "      <th>Thurs</th>\n",
       "      <td>5</td>\n",
       "      <td>15</td>\n",
       "      <td>15</td>\n",
       "    </tr>\n",
       "    <tr>\n",
       "      <th>Fri</th>\n",
       "      <td>0</td>\n",
       "      <td>18</td>\n",
       "      <td>3</td>\n",
       "    </tr>\n",
       "  </tbody>\n",
       "</table>\n",
       "</div>"
      ]
     },
     "execution_count": 319,
     "metadata": {},
     "output_type": "execute_result"
    }
   ],
   "execution_count": 319
  },
  {
   "metadata": {
    "ExecuteTime": {
     "end_time": "2025-08-03T20:49:00.065451Z",
     "start_time": "2025-08-03T20:49:00.050490Z"
    }
   },
   "cell_type": "code",
   "source": [
    "daily_sales = butter_prices.dot(weekly_sales.T)\n",
    "daily_sales"
   ],
   "id": "4fd1c5fe01c93507",
   "outputs": [
    {
     "data": {
      "text/plain": [
       "       Mon  Tues  Wed  Thurs  Fri\n",
       "Price  336   302  546    350  180"
      ],
      "text/html": [
       "<div>\n",
       "<style scoped>\n",
       "    .dataframe tbody tr th:only-of-type {\n",
       "        vertical-align: middle;\n",
       "    }\n",
       "\n",
       "    .dataframe tbody tr th {\n",
       "        vertical-align: top;\n",
       "    }\n",
       "\n",
       "    .dataframe thead th {\n",
       "        text-align: right;\n",
       "    }\n",
       "</style>\n",
       "<table border=\"1\" class=\"dataframe\">\n",
       "  <thead>\n",
       "    <tr style=\"text-align: right;\">\n",
       "      <th></th>\n",
       "      <th>Mon</th>\n",
       "      <th>Tues</th>\n",
       "      <th>Wed</th>\n",
       "      <th>Thurs</th>\n",
       "      <th>Fri</th>\n",
       "    </tr>\n",
       "  </thead>\n",
       "  <tbody>\n",
       "    <tr>\n",
       "      <th>Price</th>\n",
       "      <td>336</td>\n",
       "      <td>302</td>\n",
       "      <td>546</td>\n",
       "      <td>350</td>\n",
       "      <td>180</td>\n",
       "    </tr>\n",
       "  </tbody>\n",
       "</table>\n",
       "</div>"
      ]
     },
     "execution_count": 320,
     "metadata": {},
     "output_type": "execute_result"
    }
   ],
   "execution_count": 320
  },
  {
   "metadata": {
    "ExecuteTime": {
     "end_time": "2025-08-03T20:53:19.389877Z",
     "start_time": "2025-08-03T20:53:19.379738Z"
    }
   },
   "cell_type": "code",
   "source": [
    "# have to re shape the data frame\n",
    "weekly_sales[\"Total ($)\"] = daily_sales.T\n",
    "weekly_sales"
   ],
   "id": "8972594ec70abb27",
   "outputs": [
    {
     "data": {
      "text/plain": [
       "       Almond Butter  Peanut Butter  Cashew Butter  Total ($)\n",
       "Mon               14             17              5        336\n",
       "Tues              13              8              9        302\n",
       "Wed               19             16             19        546\n",
       "Thurs              5             15             15        350\n",
       "Fri                0             18              3        180"
      ],
      "text/html": [
       "<div>\n",
       "<style scoped>\n",
       "    .dataframe tbody tr th:only-of-type {\n",
       "        vertical-align: middle;\n",
       "    }\n",
       "\n",
       "    .dataframe tbody tr th {\n",
       "        vertical-align: top;\n",
       "    }\n",
       "\n",
       "    .dataframe thead th {\n",
       "        text-align: right;\n",
       "    }\n",
       "</style>\n",
       "<table border=\"1\" class=\"dataframe\">\n",
       "  <thead>\n",
       "    <tr style=\"text-align: right;\">\n",
       "      <th></th>\n",
       "      <th>Almond Butter</th>\n",
       "      <th>Peanut Butter</th>\n",
       "      <th>Cashew Butter</th>\n",
       "      <th>Total ($)</th>\n",
       "    </tr>\n",
       "  </thead>\n",
       "  <tbody>\n",
       "    <tr>\n",
       "      <th>Mon</th>\n",
       "      <td>14</td>\n",
       "      <td>17</td>\n",
       "      <td>5</td>\n",
       "      <td>336</td>\n",
       "    </tr>\n",
       "    <tr>\n",
       "      <th>Tues</th>\n",
       "      <td>13</td>\n",
       "      <td>8</td>\n",
       "      <td>9</td>\n",
       "      <td>302</td>\n",
       "    </tr>\n",
       "    <tr>\n",
       "      <th>Wed</th>\n",
       "      <td>19</td>\n",
       "      <td>16</td>\n",
       "      <td>19</td>\n",
       "      <td>546</td>\n",
       "    </tr>\n",
       "    <tr>\n",
       "      <th>Thurs</th>\n",
       "      <td>5</td>\n",
       "      <td>15</td>\n",
       "      <td>15</td>\n",
       "      <td>350</td>\n",
       "    </tr>\n",
       "    <tr>\n",
       "      <th>Fri</th>\n",
       "      <td>0</td>\n",
       "      <td>18</td>\n",
       "      <td>3</td>\n",
       "      <td>180</td>\n",
       "    </tr>\n",
       "  </tbody>\n",
       "</table>\n",
       "</div>"
      ]
     },
     "execution_count": 321,
     "metadata": {},
     "output_type": "execute_result"
    }
   ],
   "execution_count": 321
  },
  {
   "metadata": {
    "ExecuteTime": {
     "end_time": "2025-08-03T20:53:46.798930Z",
     "start_time": "2025-08-03T20:53:46.791598Z"
    }
   },
   "cell_type": "code",
   "source": "butter_prices",
   "id": "e68eadac9a689a94",
   "outputs": [
    {
     "data": {
      "text/plain": [
       "       Almond Butter  Peanut Butter  Cashew Butter\n",
       "Price             10              8             12"
      ],
      "text/html": [
       "<div>\n",
       "<style scoped>\n",
       "    .dataframe tbody tr th:only-of-type {\n",
       "        vertical-align: middle;\n",
       "    }\n",
       "\n",
       "    .dataframe tbody tr th {\n",
       "        vertical-align: top;\n",
       "    }\n",
       "\n",
       "    .dataframe thead th {\n",
       "        text-align: right;\n",
       "    }\n",
       "</style>\n",
       "<table border=\"1\" class=\"dataframe\">\n",
       "  <thead>\n",
       "    <tr style=\"text-align: right;\">\n",
       "      <th></th>\n",
       "      <th>Almond Butter</th>\n",
       "      <th>Peanut Butter</th>\n",
       "      <th>Cashew Butter</th>\n",
       "    </tr>\n",
       "  </thead>\n",
       "  <tbody>\n",
       "    <tr>\n",
       "      <th>Price</th>\n",
       "      <td>10</td>\n",
       "      <td>8</td>\n",
       "      <td>12</td>\n",
       "    </tr>\n",
       "  </tbody>\n",
       "</table>\n",
       "</div>"
      ]
     },
     "execution_count": 322,
     "metadata": {},
     "output_type": "execute_result"
    }
   ],
   "execution_count": 322
  },
  {
   "metadata": {},
   "cell_type": "code",
   "outputs": [],
   "execution_count": null,
   "source": "",
   "id": "cf03097154eec3b7"
  }
 ],
 "metadata": {
  "kernelspec": {
   "display_name": "Python 3 (ipykernel)",
   "language": "python",
   "name": "python3"
  },
  "language_info": {
   "codemirror_mode": {
    "name": "ipython",
    "version": 3
   },
   "file_extension": ".py",
   "mimetype": "text/x-python",
   "name": "python",
   "nbconvert_exporter": "python",
   "pygments_lexer": "ipython3",
   "version": "3.12.2"
  }
 },
 "nbformat": 4,
 "nbformat_minor": 5
}
