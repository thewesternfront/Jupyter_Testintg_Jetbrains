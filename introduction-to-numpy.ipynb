{
 "cells": [
  {
   "cell_type": "code",
   "execution_count": 183,
   "id": "36e628157e736fe4",
   "metadata": {
    "ExecuteTime": {
     "end_time": "2025-08-04T23:19:59.387595Z",
     "start_time": "2025-08-04T23:19:59.383850Z"
    }
   },
   "outputs": [],
   "source": [
    "import numpy as np\n",
    "from numpy.ma.core import argmax"
   ]
  },
  {
   "cell_type": "markdown",
   "id": "284b0270c25aabcf",
   "metadata": {},
   "source": [
    "## Data Types and Attributes"
   ]
  },
  {
   "cell_type": "code",
   "execution_count": 184,
   "id": "df96542f946a74d3",
   "metadata": {
    "ExecuteTime": {
     "end_time": "2025-08-04T23:19:59.411973Z",
     "start_time": "2025-08-04T23:19:59.409082Z"
    }
   },
   "outputs": [
    {
     "data": {
      "text/plain": [
       "numpy.ndarray"
      ]
     },
     "execution_count": 184,
     "metadata": {},
     "output_type": "execute_result"
    }
   ],
   "source": [
    "a1 = np.array([1, 2, 3])\n",
    "type(a1)"
   ]
  },
  {
   "cell_type": "markdown",
   "id": "dde9e4bc4e9d18ed",
   "metadata": {},
   "source": [
    "![](IMG_3155.jpg)"
   ]
  },
  {
   "cell_type": "code",
   "execution_count": 185,
   "id": "2d44026dae157bac",
   "metadata": {
    "ExecuteTime": {
     "end_time": "2025-08-04T23:19:59.425378Z",
     "start_time": "2025-08-04T23:19:59.423321Z"
    }
   },
   "outputs": [],
   "source": [
    "# 2x3\n",
    "a2 = np.array([[1, 2.0, 3.0],\n",
    "       [4, 5, 6.5]])\n",
    "\n",
    "# 3x3x2 n-dimensional array?\n",
    "a3 = np.array([[[1, 2, 3],\n",
    "        [4, 5, 6],\n",
    "        [7, 8, 9]],\n",
    "       [[10, 11, 12],\n",
    "        [13, 14, 15],\n",
    "        [16, 17, 18]]])"
   ]
  },
  {
   "cell_type": "code",
   "execution_count": 186,
   "id": "90b1e3cfbc07a5e1",
   "metadata": {
    "ExecuteTime": {
     "end_time": "2025-08-04T23:19:59.443525Z",
     "start_time": "2025-08-04T23:19:59.440742Z"
    }
   },
   "outputs": [
    {
     "data": {
      "text/plain": [
       "array([[1. , 2. , 3. ],\n",
       "       [4. , 5. , 6.5]])"
      ]
     },
     "execution_count": 186,
     "metadata": {},
     "output_type": "execute_result"
    }
   ],
   "source": [
    "a2"
   ]
  },
  {
   "cell_type": "code",
   "execution_count": 187,
   "id": "7b67f6285d6ad4dd",
   "metadata": {
    "ExecuteTime": {
     "end_time": "2025-08-04T23:19:59.530344Z",
     "start_time": "2025-08-04T23:19:59.527398Z"
    }
   },
   "outputs": [
    {
     "data": {
      "text/plain": [
       "array([[[ 1,  2,  3],\n",
       "        [ 4,  5,  6],\n",
       "        [ 7,  8,  9]],\n",
       "\n",
       "       [[10, 11, 12],\n",
       "        [13, 14, 15],\n",
       "        [16, 17, 18]]])"
      ]
     },
     "execution_count": 187,
     "metadata": {},
     "output_type": "execute_result"
    }
   ],
   "source": [
    "a3"
   ]
  },
  {
   "cell_type": "code",
   "execution_count": 188,
   "id": "eaf48b462cb4e2ba",
   "metadata": {
    "ExecuteTime": {
     "end_time": "2025-08-04T23:19:59.573145Z",
     "start_time": "2025-08-04T23:19:59.570796Z"
    }
   },
   "outputs": [
    {
     "data": {
      "text/plain": [
       "(3,)"
      ]
     },
     "execution_count": 188,
     "metadata": {},
     "output_type": "execute_result"
    }
   ],
   "source": [
    "a1.shape"
   ]
  },
  {
   "cell_type": "code",
   "execution_count": 189,
   "id": "83717d5ffb21c964",
   "metadata": {
    "ExecuteTime": {
     "end_time": "2025-08-04T23:19:59.602855Z",
     "start_time": "2025-08-04T23:19:59.600534Z"
    }
   },
   "outputs": [
    {
     "data": {
      "text/plain": [
       "(2, 3)"
      ]
     },
     "execution_count": 189,
     "metadata": {},
     "output_type": "execute_result"
    }
   ],
   "source": [
    "a2.shape"
   ]
  },
  {
   "cell_type": "code",
   "execution_count": 190,
   "id": "a22dd3f363b70521",
   "metadata": {
    "ExecuteTime": {
     "end_time": "2025-08-04T23:19:59.622321Z",
     "start_time": "2025-08-04T23:19:59.620404Z"
    }
   },
   "outputs": [
    {
     "data": {
      "text/plain": [
       "(2, 3, 3)"
      ]
     },
     "execution_count": 190,
     "metadata": {},
     "output_type": "execute_result"
    }
   ],
   "source": [
    "a3.shape"
   ]
  },
  {
   "cell_type": "code",
   "execution_count": 191,
   "id": "b206e3de48fa3fc",
   "metadata": {
    "ExecuteTime": {
     "end_time": "2025-08-04T23:19:59.640184Z",
     "start_time": "2025-08-04T23:19:59.637865Z"
    }
   },
   "outputs": [
    {
     "data": {
      "text/plain": [
       "(1, 2, 3)"
      ]
     },
     "execution_count": 191,
     "metadata": {},
     "output_type": "execute_result"
    }
   ],
   "source": [
    "# show the dimensions of hte n-dim arrays\n",
    "a1.ndim, a2.ndim, a3.ndim"
   ]
  },
  {
   "cell_type": "code",
   "execution_count": 192,
   "id": "734ff042eacf1ed1",
   "metadata": {
    "ExecuteTime": {
     "end_time": "2025-08-04T23:19:59.656143Z",
     "start_time": "2025-08-04T23:19:59.653322Z"
    }
   },
   "outputs": [
    {
     "data": {
      "text/plain": [
       "(dtype('int64'), dtype('float64'), dtype('int64'))"
      ]
     },
     "execution_count": 192,
     "metadata": {},
     "output_type": "execute_result"
    }
   ],
   "source": [
    "# Look at the data types dtype\n",
    "a1.dtype, a2.dtype, a3.dtype"
   ]
  },
  {
   "cell_type": "code",
   "execution_count": 193,
   "id": "2296eb4a0f7b126f",
   "metadata": {
    "ExecuteTime": {
     "end_time": "2025-08-04T23:19:59.674247Z",
     "start_time": "2025-08-04T23:19:59.672566Z"
    }
   },
   "outputs": [
    {
     "name": "stdout",
     "output_type": "stream",
     "text": [
      "5.0\n"
     ]
    }
   ],
   "source": [
    "print(a2[1][1])"
   ]
  },
  {
   "cell_type": "code",
   "execution_count": 194,
   "id": "e6e0abe464665ef6",
   "metadata": {
    "ExecuteTime": {
     "end_time": "2025-08-04T23:19:59.696102Z",
     "start_time": "2025-08-04T23:19:59.694002Z"
    }
   },
   "outputs": [
    {
     "data": {
      "text/plain": [
       "(3, 6, 18)"
      ]
     },
     "execution_count": 194,
     "metadata": {},
     "output_type": "execute_result"
    }
   ],
   "source": [
    "# Show Sizes (number of elements in each n-dim array)\n",
    "a1.size, a2.size, a3.size"
   ]
  },
  {
   "cell_type": "code",
   "execution_count": 195,
   "id": "3dfe4d4cb29b5aa9",
   "metadata": {
    "ExecuteTime": {
     "end_time": "2025-08-04T23:19:59.714237Z",
     "start_time": "2025-08-04T23:19:59.712Z"
    }
   },
   "outputs": [
    {
     "data": {
      "text/plain": [
       "(numpy.ndarray, numpy.ndarray, numpy.ndarray)"
      ]
     },
     "execution_count": 195,
     "metadata": {},
     "output_type": "execute_result"
    }
   ],
   "source": [
    "type(a1), type(a2), type(a3)"
   ]
  },
  {
   "cell_type": "markdown",
   "id": "a7108e43ed91307e",
   "metadata": {},
   "source": [
    "## Create a Data Frame (pandas) from a Numpy Array (numpy)"
   ]
  },
  {
   "cell_type": "code",
   "execution_count": 196,
   "id": "23c6db7d58642794",
   "metadata": {
    "ExecuteTime": {
     "end_time": "2025-08-04T23:19:59.726041Z",
     "start_time": "2025-08-04T23:19:59.724549Z"
    }
   },
   "outputs": [],
   "source": [
    "import pandas as pd\n",
    "df = pd.DataFrame(a2)"
   ]
  },
  {
   "cell_type": "code",
   "execution_count": 197,
   "id": "862aa381892993ea",
   "metadata": {
    "ExecuteTime": {
     "end_time": "2025-08-04T23:19:59.741435Z",
     "start_time": "2025-08-04T23:19:59.738579Z"
    }
   },
   "outputs": [
    {
     "data": {
      "text/html": [
       "<div>\n",
       "<style scoped>\n",
       "    .dataframe tbody tr th:only-of-type {\n",
       "        vertical-align: middle;\n",
       "    }\n",
       "\n",
       "    .dataframe tbody tr th {\n",
       "        vertical-align: top;\n",
       "    }\n",
       "\n",
       "    .dataframe thead th {\n",
       "        text-align: right;\n",
       "    }\n",
       "</style>\n",
       "<table border=\"1\" class=\"dataframe\">\n",
       "  <thead>\n",
       "    <tr style=\"text-align: right;\">\n",
       "      <th></th>\n",
       "      <th>0</th>\n",
       "      <th>1</th>\n",
       "      <th>2</th>\n",
       "    </tr>\n",
       "  </thead>\n",
       "  <tbody>\n",
       "    <tr>\n",
       "      <th>0</th>\n",
       "      <td>1</td>\n",
       "      <td>2</td>\n",
       "      <td>3</td>\n",
       "    </tr>\n",
       "    <tr>\n",
       "      <th>1</th>\n",
       "      <td>4</td>\n",
       "      <td>5</td>\n",
       "      <td>6</td>\n",
       "    </tr>\n",
       "  </tbody>\n",
       "</table>\n",
       "</div>"
      ],
      "text/plain": [
       "   0  1  2\n",
       "0  1  2  3\n",
       "1  4  5  6"
      ]
     },
     "execution_count": 197,
     "metadata": {},
     "output_type": "execute_result"
    }
   ],
   "source": [
    "df"
   ]
  },
  {
   "cell_type": "code",
   "execution_count": 198,
   "id": "d35880f22a624cad",
   "metadata": {
    "ExecuteTime": {
     "end_time": "2025-08-04T23:19:59.779707Z",
     "start_time": "2025-08-04T23:19:59.776900Z"
    }
   },
   "outputs": [
    {
     "data": {
      "text/plain": [
       "np.float64(6.5)"
      ]
     },
     "execution_count": 198,
     "metadata": {},
     "output_type": "execute_result"
    }
   ],
   "source": [
    "df[2][1]"
   ]
  },
  {
   "cell_type": "markdown",
   "id": "3658e55d00a71703",
   "metadata": {},
   "source": [
    "## Machine Learning is = finding patterns in Numpy Arrays"
   ]
  },
  {
   "cell_type": "markdown",
   "id": "2703980270bd3565",
   "metadata": {},
   "source": [
    "## Creating Arrays"
   ]
  },
  {
   "cell_type": "code",
   "execution_count": 199,
   "id": "aaa3cfcb7da04b82",
   "metadata": {
    "ExecuteTime": {
     "end_time": "2025-08-04T23:19:59.820125Z",
     "start_time": "2025-08-04T23:19:59.817465Z"
    }
   },
   "outputs": [
    {
     "name": "stdout",
     "output_type": "stream",
     "text": [
      "the type is: \n"
     ]
    },
    {
     "data": {
      "text/plain": [
       "numpy.ndarray"
      ]
     },
     "execution_count": 199,
     "metadata": {},
     "output_type": "execute_result"
    }
   ],
   "source": [
    "import numpy as np\n",
    "sample_array = np.array([1, 2, 3])\n",
    "print(\"the type is: \")\n",
    "type(sample_array)"
   ]
  },
  {
   "cell_type": "code",
   "execution_count": 200,
   "id": "c13a7351b1dc1b58",
   "metadata": {
    "ExecuteTime": {
     "end_time": "2025-08-04T23:19:59.845504Z",
     "start_time": "2025-08-04T23:19:59.843371Z"
    }
   },
   "outputs": [
    {
     "name": "stdout",
     "output_type": "stream",
     "text": [
      "the data type is: \n"
     ]
    },
    {
     "data": {
      "text/plain": [
       "dtype('int64')"
      ]
     },
     "execution_count": 200,
     "metadata": {},
     "output_type": "execute_result"
    }
   ],
   "source": [
    "print(\"the data type is: \")\n",
    "sample_array.dtype"
   ]
  },
  {
   "cell_type": "code",
   "execution_count": 201,
   "id": "bb4a57706817304d",
   "metadata": {
    "ExecuteTime": {
     "end_time": "2025-08-04T23:19:59.874182Z",
     "start_time": "2025-08-04T23:19:59.870127Z"
    }
   },
   "outputs": [
    {
     "data": {
      "text/plain": [
       "array([[1., 1., 1., 1.],\n",
       "       [1., 1., 1., 1.],\n",
       "       [1., 1., 1., 1.],\n",
       "       [1., 1., 1., 1.]])"
      ]
     },
     "execution_count": 201,
     "metadata": {},
     "output_type": "execute_result"
    }
   ],
   "source": [
    "# 4x4 array filled with ones\n",
    "ashape = (4, 4)\n",
    "ones = np.ones(ashape)\n",
    "ones"
   ]
  },
  {
   "cell_type": "code",
   "execution_count": 202,
   "id": "e73718376cedb00b",
   "metadata": {
    "ExecuteTime": {
     "end_time": "2025-08-04T23:19:59.930284Z",
     "start_time": "2025-08-04T23:19:59.927072Z"
    }
   },
   "outputs": [
    {
     "data": {
      "text/plain": [
       "dtype('float64')"
      ]
     },
     "execution_count": 202,
     "metadata": {},
     "output_type": "execute_result"
    }
   ],
   "source": [
    "ones.dtype"
   ]
  },
  {
   "cell_type": "code",
   "execution_count": 203,
   "id": "372497bf816a3d24",
   "metadata": {
    "ExecuteTime": {
     "end_time": "2025-08-04T23:19:59.971853Z",
     "start_time": "2025-08-04T23:19:59.969539Z"
    }
   },
   "outputs": [
    {
     "data": {
      "text/plain": [
       "numpy.ndarray"
      ]
     },
     "execution_count": 203,
     "metadata": {},
     "output_type": "execute_result"
    }
   ],
   "source": [
    "type(ones)"
   ]
  },
  {
   "cell_type": "code",
   "execution_count": 204,
   "id": "2d18b70d5aac974b",
   "metadata": {
    "ExecuteTime": {
     "end_time": "2025-08-04T23:19:59.996438Z",
     "start_time": "2025-08-04T23:19:59.994428Z"
    }
   },
   "outputs": [
    {
     "data": {
      "text/plain": [
       "array([[0., 0., 0., 0.],\n",
       "       [0., 0., 0., 0.],\n",
       "       [0., 0., 0., 0.],\n",
       "       [0., 0., 0., 0.]])"
      ]
     },
     "execution_count": 204,
     "metadata": {},
     "output_type": "execute_result"
    }
   ],
   "source": [
    "# 4x4 array filled with zeros\n",
    "zeros = np.zeros(ashape)\n",
    "zeros"
   ]
  },
  {
   "cell_type": "code",
   "execution_count": 205,
   "id": "3a59d75bb405c73a",
   "metadata": {
    "ExecuteTime": {
     "end_time": "2025-08-04T23:20:00.035265Z",
     "start_time": "2025-08-04T23:20:00.032877Z"
    }
   },
   "outputs": [
    {
     "data": {
      "text/plain": [
       "array([ 0,  5, 10, 15, 20, 25, 30, 35, 40, 45, 50, 55, 60, 65, 70, 75, 80,\n",
       "       85, 90, 95])"
      ]
     },
     "execution_count": 205,
     "metadata": {},
     "output_type": "execute_result"
    }
   ],
   "source": [
    "# Create array from 0 to 100 - noninclusive - and increment value 5 steps...\n",
    "range_array = np.arange(0, 100, 5, dtype=int)\n",
    "range_array"
   ]
  },
  {
   "cell_type": "code",
   "execution_count": 206,
   "id": "8485bda6ff8f83de",
   "metadata": {
    "ExecuteTime": {
     "end_time": "2025-08-04T23:20:00.076561Z",
     "start_time": "2025-08-04T23:20:00.073891Z"
    }
   },
   "outputs": [
    {
     "data": {
      "text/plain": [
       "array([[3, 3, 2, 3],\n",
       "       [4, 1, 2, 9],\n",
       "       [1, 4, 6, 8],\n",
       "       [2, 3, 0, 0]])"
      ]
     },
     "execution_count": 206,
     "metadata": {},
     "output_type": "execute_result"
    }
   ],
   "source": [
    "# Random Array with value ranging from 0 to 10 and make it 2-D per (ashape = (4, 4))\n",
    "random_array = np.random.randint(0, 10, size=ashape)\n",
    "random_array"
   ]
  },
  {
   "cell_type": "code",
   "execution_count": 207,
   "id": "131801f490a8c6f9",
   "metadata": {
    "ExecuteTime": {
     "end_time": "2025-08-04T23:20:00.123492Z",
     "start_time": "2025-08-04T23:20:00.120877Z"
    }
   },
   "outputs": [
    {
     "data": {
      "text/plain": [
       "dtype('int64')"
      ]
     },
     "execution_count": 207,
     "metadata": {},
     "output_type": "execute_result"
    }
   ],
   "source": [
    "# show size nd shape of hte ransom array\n",
    "random_array.dtype"
   ]
  },
  {
   "cell_type": "code",
   "execution_count": 208,
   "id": "72b0706fa0f7f6eb",
   "metadata": {
    "ExecuteTime": {
     "end_time": "2025-08-04T23:20:00.191917Z",
     "start_time": "2025-08-04T23:20:00.190020Z"
    }
   },
   "outputs": [
    {
     "data": {
      "text/plain": [
       "(4, 4)"
      ]
     },
     "execution_count": 208,
     "metadata": {},
     "output_type": "execute_result"
    }
   ],
   "source": [
    "random_array.shape"
   ]
  },
  {
   "cell_type": "code",
   "execution_count": 209,
   "id": "f57dd21bf3eb981c",
   "metadata": {
    "ExecuteTime": {
     "end_time": "2025-08-04T23:20:00.215372Z",
     "start_time": "2025-08-04T23:20:00.213330Z"
    }
   },
   "outputs": [
    {
     "data": {
      "text/plain": [
       "16"
      ]
     },
     "execution_count": 209,
     "metadata": {},
     "output_type": "execute_result"
    }
   ],
   "source": [
    "random_array.size"
   ]
  },
  {
   "cell_type": "code",
   "execution_count": 210,
   "id": "82a66b8a85627388",
   "metadata": {
    "ExecuteTime": {
     "end_time": "2025-08-04T23:20:00.236570Z",
     "start_time": "2025-08-04T23:20:00.233518Z"
    }
   },
   "outputs": [
    {
     "data": {
      "text/plain": [
       "array([[0.84138612, 0.26473016, 0.39782075, 0.55282148, 0.16494046,\n",
       "        0.36980809, 0.14644176, 0.56961841],\n",
       "       [0.70373728, 0.28847644, 0.43328806, 0.75610669, 0.39609828,\n",
       "        0.89603839, 0.63892108, 0.89155444],\n",
       "       [0.68005557, 0.44919774, 0.97857093, 0.11620191, 0.7670237 ,\n",
       "        0.41182014, 0.67543908, 0.24979628],\n",
       "       [0.31321833, 0.96541622, 0.58846509, 0.65966841, 0.53320625,\n",
       "        0.23053302, 0.39486929, 0.61880856],\n",
       "       [0.47486752, 0.47013219, 0.71607453, 0.287991  , 0.38346223,\n",
       "        0.74916984, 0.87845219, 0.10286336],\n",
       "       [0.09237389, 0.35404666, 0.55181626, 0.03362509, 0.96896177,\n",
       "        0.32099724, 0.22126269, 0.1412639 ],\n",
       "       [0.09725993, 0.98404224, 0.26034093, 0.53702252, 0.44792617,\n",
       "        0.09956909, 0.35231166, 0.46924917],\n",
       "       [0.84114013, 0.90464774, 0.03755938, 0.50831545, 0.16684751,\n",
       "        0.77905102, 0.8649333 , 0.41139672]])"
      ]
     },
     "execution_count": 210,
     "metadata": {},
     "output_type": "execute_result"
    }
   ],
   "source": [
    "# random.random will return random floats between 0 and 1 ... I can multiply them all by 100\n",
    "randarray = np.random.random((8, 8))\n",
    "randarray"
   ]
  },
  {
   "cell_type": "code",
   "execution_count": 211,
   "id": "cbc8efa5c2021136",
   "metadata": {
    "ExecuteTime": {
     "end_time": "2025-08-04T23:20:00.281242Z",
     "start_time": "2025-08-04T23:20:00.278615Z"
    }
   },
   "outputs": [
    {
     "data": {
      "text/plain": [
       "array([[84.13861192, 26.47301643, 39.78207528, 55.28214799, 16.49404602,\n",
       "        36.98080927, 14.64417627, 56.96184059],\n",
       "       [70.37372793, 28.8476437 , 43.3288062 , 75.61066939, 39.60982754,\n",
       "        89.60383875, 63.89210762, 89.15544372],\n",
       "       [68.00555695, 44.91977382, 97.85709284, 11.62019096, 76.70237036,\n",
       "        41.1820139 , 67.54390812, 24.97962757],\n",
       "       [31.32183319, 96.54162205, 58.84650851, 65.96684121, 53.32062539,\n",
       "        23.05330235, 39.48692935, 61.88085646],\n",
       "       [47.48675154, 47.01321893, 71.60745312, 28.79910044, 38.3462225 ,\n",
       "        74.91698372, 87.84521903, 10.28633587],\n",
       "       [ 9.23738895, 35.40466621, 55.18162591,  3.36250935, 96.89617653,\n",
       "        32.09972414, 22.12626852, 14.12639049],\n",
       "       [ 9.72599271, 98.40422414, 26.03409276, 53.70225214, 44.79261719,\n",
       "         9.95690891, 35.23116612, 46.9249174 ],\n",
       "       [84.11401298, 90.46477442,  3.75593838, 50.83154486, 16.6847513 ,\n",
       "        77.90510196, 86.49332956, 41.13967238]])"
      ]
     },
     "execution_count": 211,
     "metadata": {},
     "output_type": "execute_result"
    }
   ],
   "source": [
    "# Quick way to multiply ALL elements in this 2-D array by a constant (100)\n",
    "randarray100 = randarray * 100\n",
    "randarray100"
   ]
  },
  {
   "cell_type": "markdown",
   "id": "647915022ecdc456",
   "metadata": {},
   "source": [
    "## Pseudo random numbers are generated ... look into using a seed\n",
    "seed(seed=None)\n",
    "\n",
    "\n",
    "Reseed a legacy MT19937 BitGenerator\n",
    "This is a convenience, legacy function.\n",
    "The best practice is to not reseed a BitGenerator, rather to recreate a new one. This method is here for legacy reasons. This example demonstrates best practice.\n",
    ">>> from numpy.random import MT19937\n",
    ">>> from numpy.random import RandomState, SeedSequence\n",
    ">>> rs = RandomState(MT19937(SeedSequence(123456789)))\n",
    "### Later, you want to restart the stream\n",
    ">>> rs = RandomState(MT19937(SeedSequence(987654321)))"
   ]
  },
  {
   "cell_type": "code",
   "execution_count": 212,
   "id": "d0939e0de9ba11e",
   "metadata": {
    "ExecuteTime": {
     "end_time": "2025-08-04T23:20:00.347738Z",
     "start_time": "2025-08-04T23:20:00.344714Z"
    }
   },
   "outputs": [
    {
     "data": {
      "text/plain": [
       "array([[84.13861192, 26.47301643, 39.78207528, 55.28214799, 16.49404602,\n",
       "        36.98080927, 14.64417627, 56.96184059],\n",
       "       [70.37372793, 28.8476437 , 43.3288062 , 75.61066939, 39.60982754,\n",
       "        89.60383875, 63.89210762, 89.15544372],\n",
       "       [68.00555695, 44.91977382, 97.85709284, 11.62019096, 76.70237036,\n",
       "        41.1820139 , 67.54390812, 24.97962757],\n",
       "       [31.32183319, 96.54162205, 58.84650851, 65.96684121, 53.32062539,\n",
       "        23.05330235, 39.48692935, 61.88085646],\n",
       "       [47.48675154, 47.01321893, 71.60745312, 28.79910044, 38.3462225 ,\n",
       "        74.91698372, 87.84521903, 10.28633587],\n",
       "       [ 9.23738895, 35.40466621, 55.18162591,  3.36250935, 96.89617653,\n",
       "        32.09972414, 22.12626852, 14.12639049],\n",
       "       [ 9.72599271, 98.40422414, 26.03409276, 53.70225214, 44.79261719,\n",
       "         9.95690891, 35.23116612, 46.9249174 ],\n",
       "       [84.11401298, 90.46477442,  3.75593838, 50.83154486, 16.6847513 ,\n",
       "        77.90510196, 86.49332956, 41.13967238]])"
      ]
     },
     "execution_count": 212,
     "metadata": {},
     "output_type": "execute_result"
    }
   ],
   "source": [
    "np.random.seed()\n",
    "randarray100"
   ]
  },
  {
   "cell_type": "code",
   "execution_count": 213,
   "id": "2b1e51799ce77b9e",
   "metadata": {
    "ExecuteTime": {
     "end_time": "2025-08-04T23:20:00.421493Z",
     "start_time": "2025-08-04T23:20:00.419119Z"
    }
   },
   "outputs": [
    {
     "data": {
      "text/plain": [
       "array([[3, 9, 4],\n",
       "       [6, 7, 2],\n",
       "       [0, 6, 8],\n",
       "       [5, 3, 0],\n",
       "       [6, 6, 0]])"
      ]
     },
     "execution_count": 213,
     "metadata": {},
     "output_type": "execute_result"
    }
   ],
   "source": [
    "# Pseudo random numbers\n",
    "np.random.seed(seed=20)\n",
    "# These all appear as random but if you want reproducible random numbers for the sake of re-creating an issue for instance, you can use a seed()\n",
    "random_array_4 = np.random.randint(10, size=(5, 3))\n",
    "random_array_4\n"
   ]
  },
  {
   "cell_type": "code",
   "execution_count": 214,
   "id": "6946def5acc9baad",
   "metadata": {
    "ExecuteTime": {
     "end_time": "2025-08-04T23:20:00.497863Z",
     "start_time": "2025-08-04T23:20:00.496307Z"
    }
   },
   "outputs": [],
   "source": [
    "#finding unique numbers in an array\n",
    "unique_array = np.unique([1, 2, 3, 4, 5, 1, 1, 2, 2, 44])"
   ]
  },
  {
   "cell_type": "code",
   "execution_count": 215,
   "id": "5b36337ae5ca140f",
   "metadata": {
    "ExecuteTime": {
     "end_time": "2025-08-04T23:20:00.568686Z",
     "start_time": "2025-08-04T23:20:00.566704Z"
    }
   },
   "outputs": [
    {
     "data": {
      "text/plain": [
       "array([ 1,  2,  3,  4,  5, 44])"
      ]
     },
     "execution_count": 215,
     "metadata": {},
     "output_type": "execute_result"
    }
   ],
   "source": [
    "# @hen displaying these, it's important to remember that 'unique' is different than 'not a duplicate' ... this takes all numbers and return 1 vale for each, regardless of how many of that particular value are found in the array\n",
    "unique_array"
   ]
  },
  {
   "cell_type": "code",
   "execution_count": 216,
   "id": "c36b627fbe3915f6",
   "metadata": {
    "ExecuteTime": {
     "end_time": "2025-08-04T23:20:00.597369Z",
     "start_time": "2025-08-04T23:20:00.594427Z"
    }
   },
   "outputs": [
    {
     "data": {
      "text/plain": [
       "array([0, 2, 3, 4, 5, 6, 7, 8, 9])"
      ]
     },
     "execution_count": 216,
     "metadata": {},
     "output_type": "execute_result"
    }
   ],
   "source": [
    "# Now try unique with the random array of integers\n",
    "unique_rand = np.unique(random_array_4)\n",
    "unique_rand"
   ]
  },
  {
   "cell_type": "code",
   "execution_count": 217,
   "id": "5b6ef8b51881daa",
   "metadata": {
    "ExecuteTime": {
     "end_time": "2025-08-04T23:20:00.619198Z",
     "start_time": "2025-08-04T23:20:00.616765Z"
    }
   },
   "outputs": [
    {
     "data": {
      "text/plain": [
       "array([[3, 9, 4],\n",
       "       [6, 7, 2],\n",
       "       [0, 6, 8],\n",
       "       [5, 3, 0],\n",
       "       [6, 6, 0]])"
      ]
     },
     "execution_count": 217,
     "metadata": {},
     "output_type": "execute_result"
    }
   ],
   "source": [
    "random_array_4"
   ]
  },
  {
   "cell_type": "markdown",
   "id": "73fbc29326f53189",
   "metadata": {},
   "source": [
    "## 3. Viewing Arrays and Matrices"
   ]
  },
  {
   "cell_type": "code",
   "execution_count": 218,
   "id": "d2d6a6cce8fe1ec5",
   "metadata": {
    "ExecuteTime": {
     "end_time": "2025-08-04T23:20:00.660712Z",
     "start_time": "2025-08-04T23:20:00.658756Z"
    }
   },
   "outputs": [
    {
     "data": {
      "text/plain": [
       "array([1, 2, 3])"
      ]
     },
     "execution_count": 218,
     "metadata": {},
     "output_type": "execute_result"
    }
   ],
   "source": [
    "a1"
   ]
  },
  {
   "cell_type": "code",
   "execution_count": 219,
   "id": "3e4c4759b2825af4",
   "metadata": {
    "ExecuteTime": {
     "end_time": "2025-08-04T23:20:00.698277Z",
     "start_time": "2025-08-04T23:20:00.695875Z"
    }
   },
   "outputs": [
    {
     "data": {
      "text/plain": [
       "array([[1. , 2. , 3. ],\n",
       "       [4. , 5. , 6.5]])"
      ]
     },
     "execution_count": 219,
     "metadata": {},
     "output_type": "execute_result"
    }
   ],
   "source": [
    "a2"
   ]
  },
  {
   "cell_type": "code",
   "execution_count": 220,
   "id": "c316c029d1f54a6",
   "metadata": {
    "ExecuteTime": {
     "end_time": "2025-08-04T23:20:00.751800Z",
     "start_time": "2025-08-04T23:20:00.749684Z"
    }
   },
   "outputs": [
    {
     "name": "stdout",
     "output_type": "stream",
     "text": [
      "[[[ 1  2  3]\n",
      "  [ 4  5  6]\n",
      "  [ 7  8  9]]\n",
      "\n",
      " [[10 11 12]\n",
      "  [13 14 15]\n",
      "  [16 17 18]]]\n"
     ]
    },
    {
     "data": {
      "text/plain": [
       "(2, 3, 3)"
      ]
     },
     "execution_count": 220,
     "metadata": {},
     "output_type": "execute_result"
    }
   ],
   "source": [
    "print(a3) # 2x3x3\n",
    "a3.shape"
   ]
  },
  {
   "cell_type": "code",
   "execution_count": 221,
   "id": "523a2b632aecd32",
   "metadata": {
    "ExecuteTime": {
     "end_time": "2025-08-04T23:20:00.791593Z",
     "start_time": "2025-08-04T23:20:00.789190Z"
    }
   },
   "outputs": [
    {
     "name": "stdout",
     "output_type": "stream",
     "text": [
      "Get all of the first elements\n",
      "****\n",
      "1\n",
      "****\n",
      "[1. 2. 3.]\n",
      "****\n",
      "[[1 2 3]\n",
      " [4 5 6]\n",
      " [7 8 9]]\n",
      "****\n"
     ]
    }
   ],
   "source": [
    "print(\"Get all of the first elements\")\n",
    "print(\"****\")\n",
    "print(a1[0])\n",
    "print(\"****\")\n",
    "print(a2[0])\n",
    "print(\"****\")\n",
    "print(a3[0])\n",
    "print(\"****\")"
   ]
  },
  {
   "cell_type": "code",
   "execution_count": 222,
   "id": "7012d227567193f6",
   "metadata": {
    "ExecuteTime": {
     "end_time": "2025-08-04T23:20:00.815042Z",
     "start_time": "2025-08-04T23:20:00.812868Z"
    }
   },
   "outputs": [
    {
     "data": {
      "text/plain": [
       "array([[[[9, 5, 7, 5, 2],\n",
       "         [6, 9, 3, 3, 9],\n",
       "         [0, 6, 2, 3, 1],\n",
       "         [8, 0, 2, 7, 6]],\n",
       "\n",
       "        [[6, 8, 2, 1, 3],\n",
       "         [2, 6, 9, 4, 6],\n",
       "         [4, 8, 6, 2, 3],\n",
       "         [1, 5, 2, 1, 8]],\n",
       "\n",
       "        [[2, 4, 4, 8, 6],\n",
       "         [0, 3, 4, 0, 5],\n",
       "         [6, 9, 7, 4, 0],\n",
       "         [6, 1, 9, 6, 7]]],\n",
       "\n",
       "\n",
       "       [[[9, 7, 6, 9, 8],\n",
       "         [8, 2, 2, 1, 5],\n",
       "         [2, 9, 7, 5, 5],\n",
       "         [9, 6, 9, 9, 5]],\n",
       "\n",
       "        [[2, 9, 6, 1, 8],\n",
       "         [1, 0, 8, 5, 0],\n",
       "         [6, 5, 4, 2, 9],\n",
       "         [9, 4, 5, 3, 9]],\n",
       "\n",
       "        [[7, 1, 2, 3, 6],\n",
       "         [5, 4, 4, 1, 8],\n",
       "         [7, 1, 9, 2, 3],\n",
       "         [4, 4, 4, 9, 0]]]])"
      ]
     },
     "execution_count": 222,
     "metadata": {},
     "output_type": "execute_result"
    }
   ],
   "source": [
    "a4 = np.random.randint(10, size=(2, 3, 4, 5))\n",
    "a4"
   ]
  },
  {
   "cell_type": "code",
   "execution_count": 223,
   "id": "1a15f880f3b7f004",
   "metadata": {
    "ExecuteTime": {
     "end_time": "2025-08-04T23:20:00.831721Z",
     "start_time": "2025-08-04T23:20:00.829873Z"
    }
   },
   "outputs": [
    {
     "data": {
      "text/plain": [
       "((2, 3, 4, 5), 4)"
      ]
     },
     "execution_count": 223,
     "metadata": {},
     "output_type": "execute_result"
    }
   ],
   "source": [
    "a4.shape, a4.ndim"
   ]
  },
  {
   "cell_type": "code",
   "execution_count": 224,
   "id": "eb0036d4e2511b49",
   "metadata": {
    "ExecuteTime": {
     "end_time": "2025-08-04T23:20:00.849664Z",
     "start_time": "2025-08-04T23:20:00.847468Z"
    }
   },
   "outputs": [
    {
     "data": {
      "text/plain": [
       "np.int64(5)"
      ]
     },
     "execution_count": 224,
     "metadata": {},
     "output_type": "execute_result"
    }
   ],
   "source": [
    "a4[1][0][2][4]"
   ]
  },
  {
   "cell_type": "code",
   "execution_count": 225,
   "id": "d5f7ba7f3099ddf8",
   "metadata": {
    "ExecuteTime": {
     "end_time": "2025-08-04T23:20:00.862947Z",
     "start_time": "2025-08-04T23:20:00.860758Z"
    }
   },
   "outputs": [
    {
     "data": {
      "text/plain": [
       "array([[[ 1,  2,  3],\n",
       "        [ 4,  5,  6],\n",
       "        [ 7,  8,  9]],\n",
       "\n",
       "       [[10, 11, 12],\n",
       "        [13, 14, 15],\n",
       "        [16, 17, 18]]])"
      ]
     },
     "execution_count": 225,
     "metadata": {},
     "output_type": "execute_result"
    }
   ],
   "source": [
    "a3"
   ]
  },
  {
   "cell_type": "code",
   "execution_count": 226,
   "id": "129bdc9e282b401b",
   "metadata": {
    "ExecuteTime": {
     "end_time": "2025-08-04T23:20:00.880049Z",
     "start_time": "2025-08-04T23:20:00.878176Z"
    }
   },
   "outputs": [],
   "source": [
    "a3_split = a3[:2, :3, 2:3]"
   ]
  },
  {
   "cell_type": "code",
   "execution_count": 227,
   "id": "eb1ffe7b9e7cf1b",
   "metadata": {
    "ExecuteTime": {
     "end_time": "2025-08-04T23:20:00.895647Z",
     "start_time": "2025-08-04T23:20:00.893759Z"
    }
   },
   "outputs": [
    {
     "name": "stdout",
     "output_type": "stream",
     "text": [
      "[[[ 3]\n",
      "  [ 6]\n",
      "  [ 9]]\n",
      "\n",
      " [[12]\n",
      "  [15]\n",
      "  [18]]]\n"
     ]
    }
   ],
   "source": [
    "print(a3_split)"
   ]
  },
  {
   "cell_type": "markdown",
   "id": "9001dd78b8991e01",
   "metadata": {},
   "source": [
    "## Manipulating and Comparing arrays"
   ]
  },
  {
   "cell_type": "code",
   "execution_count": 228,
   "id": "7312ada31df3e341",
   "metadata": {
    "ExecuteTime": {
     "end_time": "2025-08-04T23:20:00.911126Z",
     "start_time": "2025-08-04T23:20:00.908419Z"
    }
   },
   "outputs": [
    {
     "data": {
      "text/plain": [
       "array([1, 2, 3])"
      ]
     },
     "execution_count": 228,
     "metadata": {},
     "output_type": "execute_result"
    }
   ],
   "source": [
    "### Arithmetic\n",
    "a1"
   ]
  },
  {
   "cell_type": "code",
   "execution_count": 229,
   "id": "e23fdf1a79c3de86",
   "metadata": {
    "ExecuteTime": {
     "end_time": "2025-08-04T23:20:00.926747Z",
     "start_time": "2025-08-04T23:20:00.925333Z"
    }
   },
   "outputs": [],
   "source": [
    "ones = np.ones(3)"
   ]
  },
  {
   "cell_type": "code",
   "execution_count": 230,
   "id": "2ac0ce0260fd4442",
   "metadata": {
    "ExecuteTime": {
     "end_time": "2025-08-04T23:20:00.942179Z",
     "start_time": "2025-08-04T23:20:00.940236Z"
    }
   },
   "outputs": [
    {
     "data": {
      "text/plain": [
       "array([1., 1., 1.])"
      ]
     },
     "execution_count": 230,
     "metadata": {},
     "output_type": "execute_result"
    }
   ],
   "source": [
    "ones"
   ]
  },
  {
   "cell_type": "code",
   "execution_count": 231,
   "id": "d4b2568c0cd2b2a",
   "metadata": {
    "ExecuteTime": {
     "end_time": "2025-08-04T23:20:00.958416Z",
     "start_time": "2025-08-04T23:20:00.956285Z"
    }
   },
   "outputs": [
    {
     "data": {
      "text/plain": [
       "array([2., 3., 4.])"
      ]
     },
     "execution_count": 231,
     "metadata": {},
     "output_type": "execute_result"
    }
   ],
   "source": [
    "# adding and subtracting equal sized arrays\n",
    "result = a1 + ones\n",
    "result"
   ]
  },
  {
   "cell_type": "code",
   "execution_count": 232,
   "id": "f603a75a8940bd1d",
   "metadata": {
    "ExecuteTime": {
     "end_time": "2025-08-04T23:20:00.975697Z",
     "start_time": "2025-08-04T23:20:00.973087Z"
    }
   },
   "outputs": [
    {
     "data": {
      "text/plain": [
       "array([0., 1., 2.])"
      ]
     },
     "execution_count": 232,
     "metadata": {},
     "output_type": "execute_result"
    }
   ],
   "source": [
    "result = a1 - ones\n",
    "result"
   ]
  },
  {
   "cell_type": "code",
   "execution_count": 233,
   "id": "62c20729df7a49c5",
   "metadata": {
    "ExecuteTime": {
     "end_time": "2025-08-04T23:20:00.995474Z",
     "start_time": "2025-08-04T23:20:00.993398Z"
    }
   },
   "outputs": [
    {
     "name": "stdout",
     "output_type": "stream",
     "text": [
      "[1 2 3]\n",
      "[[1.  2.  3. ]\n",
      " [4.  5.  6.5]]\n",
      "[[ 1.   4.   9. ]\n",
      " [ 4.  10.  19.5]]\n"
     ]
    }
   ],
   "source": [
    "# Look at a2 it is a 2D array with 3 elements, a1 also has 3 elements, so multiplying a1*a2 should take the elements of a1 and multiply them by BOTH roews in a2 (they also have 3 elements)\n",
    "result = a1*a2\n",
    "print(a1)\n",
    "print(a2)\n",
    "print(result)"
   ]
  },
  {
   "cell_type": "code",
   "execution_count": 234,
   "id": "e6bfef7153d494e0",
   "metadata": {
    "ExecuteTime": {
     "end_time": "2025-08-04T23:20:01.013054Z",
     "start_time": "2025-08-04T23:20:01.011054Z"
    }
   },
   "outputs": [
    {
     "name": "stdout",
     "output_type": "stream",
     "text": [
      "[1 2 3]\n",
      "[[[ 1  2  3]\n",
      "  [ 4  5  6]\n",
      "  [ 7  8  9]]\n",
      "\n",
      " [[10 11 12]\n",
      "  [13 14 15]\n",
      "  [16 17 18]]]\n",
      "[[[ 1  4  9]\n",
      "  [ 4 10 18]\n",
      "  [ 7 16 27]]\n",
      "\n",
      " [[10 22 36]\n",
      "  [13 28 45]\n",
      "  [16 34 54]]]\n"
     ]
    }
   ],
   "source": [
    "# a1 * a3 is possible because the shape is correct\n",
    "result = a1 * a3\n",
    "print(a1)\n",
    "print(a3)\n",
    "print(result)"
   ]
  },
  {
   "cell_type": "code",
   "execution_count": 235,
   "id": "401b5038b6e8bd83",
   "metadata": {
    "ExecuteTime": {
     "end_time": "2025-08-04T23:20:01.030672Z",
     "start_time": "2025-08-04T23:20:01.028343Z"
    }
   },
   "outputs": [
    {
     "name": "stdout",
     "output_type": "stream",
     "text": [
      "[[1.  2.  3. ]\n",
      " [4.  5.  6.5]]\n",
      "[[[ 1  2  3]\n",
      "  [ 4  5  6]\n",
      "  [ 7  8  9]]\n",
      "\n",
      " [[10 11 12]\n",
      "  [13 14 15]\n",
      "  [16 17 18]]]\n"
     ]
    }
   ],
   "source": [
    "# Solving broad casting issues with different shapes of arrays\n",
    "# think on this problem, maybe reshape() an array\n",
    "print(a2)\n",
    "print(a3)"
   ]
  },
  {
   "cell_type": "code",
   "execution_count": 236,
   "id": "d8e229b9848f644c",
   "metadata": {
    "ExecuteTime": {
     "end_time": "2025-08-04T23:20:01.046806Z",
     "start_time": "2025-08-04T23:20:01.044912Z"
    }
   },
   "outputs": [
    {
     "name": "stdout",
     "output_type": "stream",
     "text": [
      "(2, 3)\n",
      "(2, 3, 3)\n"
     ]
    }
   ],
   "source": [
    "print(a2.shape)\n",
    "print(a3.shape)"
   ]
  },
  {
   "cell_type": "code",
   "execution_count": 237,
   "id": "4ef4b97e59f7aa68",
   "metadata": {
    "ExecuteTime": {
     "end_time": "2025-08-04T23:20:01.063164Z",
     "start_time": "2025-08-04T23:20:01.060429Z"
    }
   },
   "outputs": [
    {
     "data": {
      "text/plain": [
       "array([[[ 2. ,  4. ,  6. ],\n",
       "        [ 5. ,  7. ,  9. ],\n",
       "        [ 8. , 10. , 12. ]],\n",
       "\n",
       "       [[14. , 16. , 18.5],\n",
       "        [17. , 19. , 21.5],\n",
       "        [20. , 22. , 24.5]]])"
      ]
     },
     "execution_count": 237,
     "metadata": {},
     "output_type": "execute_result"
    }
   ],
   "source": [
    "reshaped_array = a2[:, np.newaxis] + a3\n",
    "reshaped_array"
   ]
  },
  {
   "cell_type": "code",
   "execution_count": 238,
   "id": "d3db6f21053ca5ad",
   "metadata": {
    "ExecuteTime": {
     "end_time": "2025-08-04T23:20:01.080464Z",
     "start_time": "2025-08-04T23:20:01.078580Z"
    }
   },
   "outputs": [
    {
     "name": "stdout",
     "output_type": "stream",
     "text": [
      "This is a2 normal\n",
      "[[1.  2.  3. ]\n",
      " [4.  5.  6.5]]\n",
      "This is a2 modified\n",
      "[[[1.  2.  3. ]]\n",
      "\n",
      " [[4.  5.  6.5]]]\n"
     ]
    }
   ],
   "source": [
    "print(\"This is a2 normal\")\n",
    "print(a2)\n",
    "print(\"This is a2 modified\")\n",
    "a2mod = a2[:, np.newaxis]\n",
    "print(a2mod)"
   ]
  },
  {
   "cell_type": "code",
   "execution_count": 239,
   "id": "e073ece787fde6c9",
   "metadata": {
    "ExecuteTime": {
     "end_time": "2025-08-04T23:20:01.092700Z",
     "start_time": "2025-08-04T23:20:01.090813Z"
    }
   },
   "outputs": [
    {
     "data": {
      "text/plain": [
       "(2, 3)"
      ]
     },
     "execution_count": 239,
     "metadata": {},
     "output_type": "execute_result"
    }
   ],
   "source": [
    "a2.shape"
   ]
  },
  {
   "cell_type": "code",
   "execution_count": 240,
   "id": "a7b3b7caa41e22b6",
   "metadata": {
    "ExecuteTime": {
     "end_time": "2025-08-04T23:20:01.110138Z",
     "start_time": "2025-08-04T23:20:01.108220Z"
    }
   },
   "outputs": [
    {
     "data": {
      "text/plain": [
       "(2, 3, 3)"
      ]
     },
     "execution_count": 240,
     "metadata": {},
     "output_type": "execute_result"
    }
   ],
   "source": [
    "a3.shape"
   ]
  },
  {
   "cell_type": "code",
   "execution_count": 241,
   "id": "f0f951014afcaf2a",
   "metadata": {
    "ExecuteTime": {
     "end_time": "2025-08-04T23:20:01.126109Z",
     "start_time": "2025-08-04T23:20:01.124216Z"
    }
   },
   "outputs": [
    {
     "data": {
      "text/plain": [
       "(2, 1, 3)"
      ]
     },
     "execution_count": 241,
     "metadata": {},
     "output_type": "execute_result"
    }
   ],
   "source": [
    "a2mod.shape"
   ]
  },
  {
   "cell_type": "markdown",
   "id": "25ab77636bf726b6",
   "metadata": {},
   "source": [
    "### Aggregation\n",
    "Aggregation = performing the same operation on a number of things"
   ]
  },
  {
   "cell_type": "code",
   "execution_count": 242,
   "id": "d266785043a929eb",
   "metadata": {
    "ExecuteTime": {
     "end_time": "2025-08-04T23:20:01.138359Z",
     "start_time": "2025-08-04T23:20:01.136736Z"
    }
   },
   "outputs": [
    {
     "name": "stdout",
     "output_type": "stream",
     "text": [
      "[1, 2, 3]\n",
      "<class 'list'>\n"
     ]
    }
   ],
   "source": [
    "listy_list = [1, 2, 3]\n",
    "print(listy_list)\n",
    "print(type(listy_list))\n"
   ]
  },
  {
   "cell_type": "code",
   "execution_count": 243,
   "id": "fd53c15d698518e0",
   "metadata": {
    "ExecuteTime": {
     "end_time": "2025-08-04T23:20:01.157336Z",
     "start_time": "2025-08-04T23:20:01.155343Z"
    }
   },
   "outputs": [
    {
     "name": "stdout",
     "output_type": "stream",
     "text": [
      "[1 2 3]\n",
      "[1, 2, 3]\n"
     ]
    }
   ],
   "source": [
    "print(a1)\n",
    "print(listy_list)"
   ]
  },
  {
   "cell_type": "code",
   "execution_count": 244,
   "id": "72ce77a83f7b7eef",
   "metadata": {
    "ExecuteTime": {
     "end_time": "2025-08-04T23:20:01.170674Z",
     "start_time": "2025-08-04T23:20:01.168414Z"
    }
   },
   "outputs": [
    {
     "data": {
      "text/plain": [
       "6"
      ]
     },
     "execution_count": 244,
     "metadata": {},
     "output_type": "execute_result"
    }
   ],
   "source": [
    "sum(listy_list)"
   ]
  },
  {
   "cell_type": "code",
   "execution_count": 245,
   "id": "c8d39e17c86819de",
   "metadata": {
    "ExecuteTime": {
     "end_time": "2025-08-04T23:20:01.190745Z",
     "start_time": "2025-08-04T23:20:01.188855Z"
    }
   },
   "outputs": [
    {
     "data": {
      "text/plain": [
       "np.int64(6)"
      ]
     },
     "execution_count": 245,
     "metadata": {},
     "output_type": "execute_result"
    }
   ],
   "source": [
    "sum(a1)"
   ]
  },
  {
   "cell_type": "code",
   "execution_count": 246,
   "id": "fefc2943dd376c4",
   "metadata": {
    "ExecuteTime": {
     "end_time": "2025-08-04T23:20:01.207821Z",
     "start_time": "2025-08-04T23:20:01.205604Z"
    }
   },
   "outputs": [
    {
     "data": {
      "text/plain": [
       "np.int64(6)"
      ]
     },
     "execution_count": 246,
     "metadata": {},
     "output_type": "execute_result"
    }
   ],
   "source": [
    "np.sum(a1)"
   ]
  },
  {
   "cell_type": "code",
   "execution_count": 247,
   "id": "a2db6a7c489a40e3",
   "metadata": {
    "ExecuteTime": {
     "end_time": "2025-08-04T23:20:01.223638Z",
     "start_time": "2025-08-04T23:20:01.221513Z"
    }
   },
   "outputs": [
    {
     "data": {
      "text/plain": [
       "100000"
      ]
     },
     "execution_count": 247,
     "metadata": {},
     "output_type": "execute_result"
    }
   ],
   "source": [
    "massive_array = np.random.random(100000)\n",
    "massive_array.size"
   ]
  },
  {
   "cell_type": "code",
   "execution_count": 248,
   "id": "8d4d9e8fa1675b24",
   "metadata": {
    "ExecuteTime": {
     "end_time": "2025-08-04T23:20:01.238295Z",
     "start_time": "2025-08-04T23:20:01.236157Z"
    }
   },
   "outputs": [
    {
     "data": {
      "text/plain": [
       "array([0.08081596, 0.46521234, 0.67711049, 0.007521  , 0.67859914,\n",
       "       0.80201725, 0.97211109, 0.86017942, 0.42101686, 0.89977262])"
      ]
     },
     "execution_count": 248,
     "metadata": {},
     "output_type": "execute_result"
    }
   ],
   "source": [
    "massive_array[:10]"
   ]
  },
  {
   "cell_type": "code",
   "execution_count": 249,
   "id": "9937e57d1db6979",
   "metadata": {
    "ExecuteTime": {
     "end_time": "2025-08-04T23:20:14.124160Z",
     "start_time": "2025-08-04T23:20:01.253988Z"
    }
   },
   "outputs": [
    {
     "name": "stdout",
     "output_type": "stream",
     "text": [
      "3.08 ms ± 8.81 µs per loop (mean ± std. dev. of 7 runs, 100 loops each)\n",
      "12.8 µs ± 15.2 ns per loop (mean ± std. dev. of 7 runs, 100,000 loops each)\n"
     ]
    }
   ],
   "source": [
    "%timeit sum(massive_array)\n",
    "%timeit np.sum(massive_array)"
   ]
  },
  {
   "cell_type": "code",
   "execution_count": 250,
   "id": "e89f145f1edf4bac",
   "metadata": {
    "ExecuteTime": {
     "end_time": "2025-08-04T23:20:14.140888Z",
     "start_time": "2025-08-04T23:20:14.138769Z"
    }
   },
   "outputs": [
    {
     "data": {
      "text/plain": [
       "227.34375"
      ]
     },
     "execution_count": 250,
     "metadata": {},
     "output_type": "execute_result"
    }
   ],
   "source": [
    "2910/12.8"
   ]
  },
  {
   "cell_type": "code",
   "execution_count": 251,
   "id": "3e25a9a3c3801fe8",
   "metadata": {
    "ExecuteTime": {
     "end_time": "2025-08-04T23:20:14.153936Z",
     "start_time": "2025-08-04T23:20:14.152470Z"
    }
   },
   "outputs": [],
   "source": [
    "# So the np.sum is 227 times faster than the regular python sum.\n",
    "# That is why its better to use np.sum on np data and not python sum on np data"
   ]
  },
  {
   "cell_type": "code",
   "execution_count": 252,
   "id": "3d1e1a460a66b8df",
   "metadata": {
    "ExecuteTime": {
     "end_time": "2025-08-04T23:20:14.170083Z",
     "start_time": "2025-08-04T23:20:14.167527Z"
    }
   },
   "outputs": [
    {
     "data": {
      "text/plain": [
       "array([[1. , 2. , 3. ],\n",
       "       [4. , 5. , 6.5]])"
      ]
     },
     "execution_count": 252,
     "metadata": {},
     "output_type": "execute_result"
    }
   ],
   "source": [
    "a2"
   ]
  },
  {
   "cell_type": "code",
   "execution_count": 253,
   "id": "73f2c7902215e534",
   "metadata": {
    "ExecuteTime": {
     "end_time": "2025-08-04T23:20:14.207709Z",
     "start_time": "2025-08-04T23:20:14.206084Z"
    }
   },
   "outputs": [
    {
     "name": "stdout",
     "output_type": "stream",
     "text": [
      "3.5833333333333335\n",
      "3.5833333333333335\n"
     ]
    }
   ],
   "source": [
    "print(np.mean(a2))\n",
    "print(21.5 / np.size(a2))"
   ]
  },
  {
   "cell_type": "code",
   "execution_count": 254,
   "id": "32cace037f8136e",
   "metadata": {
    "ExecuteTime": {
     "end_time": "2025-08-04T23:20:14.246114Z",
     "start_time": "2025-08-04T23:20:14.244189Z"
    }
   },
   "outputs": [
    {
     "name": "stdout",
     "output_type": "stream",
     "text": [
      "The Mean / average is: \n",
      "3.5833333333333335\n",
      "The Standard Deviation is: \n",
      "1.8352262954621035\n",
      "The sqrt of the variant is: \n",
      "1.8352262954621035\n",
      "The Variance is: \n",
      "3.368055555555556\n"
     ]
    }
   ],
   "source": [
    "# Statistical Operations\n",
    "# MEAN or AVERAGE\n",
    "print(\"The Mean / average is: \")\n",
    "print(np.mean(a2))\n",
    "\n",
    "# STANDARD DEVIATION = a measure of how spread out a number is from the mean\n",
    "# and is the square root of the variant ... so sqrt(np.var(a2))\n",
    "print(\"The Standard Deviation is: \")\n",
    "print(np.std(a2))\n",
    "\n",
    "# Square root of the variant\n",
    "print(\"The sqrt of the variant is: \")\n",
    "print(np.sqrt(np.var(a2)))\n",
    "\n",
    "# VARIANCE\n",
    "# The measure of the average degree to which each number is different to the mean.\n",
    "# Higher variance = wider range of numbers\n",
    "# Lower variance = lower range of numbers\n",
    "print(\"The Variance is: \")\n",
    "print(np.var(a2))"
   ]
  },
  {
   "cell_type": "markdown",
   "id": "a9b6d515aaa8ab6",
   "metadata": {},
   "source": [
    "## Real World Example of calculating Means and Variances and what they are by definition"
   ]
  },
  {
   "cell_type": "markdown",
   "id": "5f0b28b95937c9be",
   "metadata": {},
   "source": [
    "## Problem Definition:\n",
    "![](statistics-dogs-graph.gif)\n",
    "\n",
    "To calculate the variance follow these steps:\n",
    "\n",
    "Calculate the Mean (the simple average of the numbers)\n",
    "\n",
    "Then for each number: subtract the Mean and square the result (the squared difference).\n",
    "\n",
    "Then calculate the average of those squared differences. (Why Square?)\n",
    "\n",
    "Example:\n",
    "You and your friends have just measured the heights of your dogs (in millimeters):\n",
    "\n",
    "dogs on graph shoulder heights\n",
    "\n",
    "The heights (at the shoulders) are: 600 mm, 470 mm, 170 mm, 430 mm and 300 mm.\n",
    "\n",
    "Find out the Mean, the Variance, and the Standard Deviation."
   ]
  },
  {
   "cell_type": "code",
   "execution_count": 255,
   "id": "ff46388338d10c59",
   "metadata": {
    "ExecuteTime": {
     "end_time": "2025-08-04T23:20:14.310441Z",
     "start_time": "2025-08-04T23:20:14.269227Z"
    }
   },
   "outputs": [
    {
     "data": {
      "image/png": "[encoded data removed]",
      "text/plain": [
       "<Figure size 640x480 with 1 Axes>"
      ]
     },
     "metadata": {},
     "output_type": "display_data"
    }
   ],
   "source": [
    "# Het a Histogram of the dog height data\n",
    "import matplotlib.pyplot as plt\n",
    "dog_heights = np.array([170, 300, 430, 470, 600])\n",
    "plt.hist(dog_heights, bins=50)\n",
    "plt.show()"
   ]
  },
  {
   "cell_type": "code",
   "execution_count": 256,
   "id": "a25e5b75883e3a40",
   "metadata": {
    "ExecuteTime": {
     "end_time": "2025-08-04T23:20:14.331041Z",
     "start_time": "2025-08-04T23:20:14.329165Z"
    }
   },
   "outputs": [
    {
     "name": "stdout",
     "output_type": "stream",
     "text": [
      "The dog heights\n",
      "[170 300 430 470 600]\n"
     ]
    }
   ],
   "source": [
    "# Step 1: Calculate the mean\n",
    "print(\"The dog heights\")\n",
    "dog_heights = np.array([170, 300, 430, 470, 600])\n",
    "print(dog_heights)"
   ]
  },
  {
   "cell_type": "code",
   "execution_count": 257,
   "id": "94c9e7b0a73c0bfa",
   "metadata": {
    "ExecuteTime": {
     "end_time": "2025-08-04T23:20:14.348051Z",
     "start_time": "2025-08-04T23:20:14.346499Z"
    }
   },
   "outputs": [
    {
     "name": "stdout",
     "output_type": "stream",
     "text": [
      "MEAN The dog heights average / mean\n",
      "394.0\n"
     ]
    }
   ],
   "source": [
    "print(\"MEAN The dog heights average / mean\")\n",
    "dog_heights_mean = np.mean(dog_heights)\n",
    "print(dog_heights_mean)"
   ]
  },
  {
   "cell_type": "code",
   "execution_count": 258,
   "id": "e6ed5912d86249ea",
   "metadata": {
    "ExecuteTime": {
     "end_time": "2025-08-04T23:20:14.363426Z",
     "start_time": "2025-08-04T23:20:14.361648Z"
    }
   },
   "outputs": [
    {
     "name": "stdout",
     "output_type": "stream",
     "text": [
      "Now subtract the mean() from each number\n",
      "[-224.  -94.   36.   76.  206.]\n"
     ]
    }
   ],
   "source": [
    "print(\"Now subtract the mean() from each number\")\n",
    "dog_heights_sub_mean = np.subtract(dog_heights, dog_heights_mean)\n",
    "print(dog_heights_sub_mean)"
   ]
  },
  {
   "cell_type": "code",
   "execution_count": 259,
   "id": "bf39611ae6e5338e",
   "metadata": {
    "ExecuteTime": {
     "end_time": "2025-08-04T23:20:14.376309Z",
     "start_time": "2025-08-04T23:20:14.374678Z"
    }
   },
   "outputs": [
    {
     "name": "stdout",
     "output_type": "stream",
     "text": [
      "Now square each number in the array\n",
      "[50176.  8836.  1296.  5776. 42436.]\n"
     ]
    }
   ],
   "source": [
    "print(\"Now square each number in the array\")\n",
    "dog_heights_sub_mean_sqrd = np.square(dog_heights_sub_mean)\n",
    "print(dog_heights_sub_mean_sqrd)"
   ]
  },
  {
   "cell_type": "code",
   "execution_count": 260,
   "id": "fe3b27a18172eda5",
   "metadata": {
    "ExecuteTime": {
     "end_time": "2025-08-04T23:20:14.390996Z",
     "start_time": "2025-08-04T23:20:14.389414Z"
    }
   },
   "outputs": [
    {
     "name": "stdout",
     "output_type": "stream",
     "text": [
      "VARIANCE = Now take the average/mean of the square array [[dog_heights_sub_mean_sqrd]]\n",
      "21704.0\n"
     ]
    }
   ],
   "source": [
    "print(\"VARIANCE = Now take the average/mean of the square array [[dog_heights_sub_mean_sqrd]]\")\n",
    "dog_heights_sub_mean_sqrd_mean = np.mean(dog_heights_sub_mean_sqrd)\n",
    "print(dog_heights_sub_mean_sqrd_mean)"
   ]
  },
  {
   "cell_type": "code",
   "execution_count": 261,
   "id": "a2c2b2d182e7cceb",
   "metadata": {
    "ExecuteTime": {
     "end_time": "2025-08-04T23:20:14.405759Z",
     "start_time": "2025-08-04T23:20:14.403998Z"
    }
   },
   "outputs": [
    {
     "name": "stdout",
     "output_type": "stream",
     "text": [
      "STANDARD DEVIATION Now take the sqrt of the Variance (21704)\n",
      "147.32277488562318\n"
     ]
    }
   ],
   "source": [
    "print(\"STANDARD DEVIATION Now take the sqrt of the Variance (21704)\")\n",
    "standard_dev = np.sqrt(dog_heights_sub_mean_sqrd_mean)\n",
    "print(standard_dev)"
   ]
  },
  {
   "cell_type": "markdown",
   "id": "f1581a179ee98753",
   "metadata": {},
   "source": [
    "## Demo of Standard Deviation and Variance"
   ]
  },
  {
   "cell_type": "code",
   "execution_count": 262,
   "id": "47830d3d714f8296",
   "metadata": {
    "ExecuteTime": {
     "end_time": "2025-08-04T23:20:14.420784Z",
     "start_time": "2025-08-04T23:20:14.419038Z"
    }
   },
   "outputs": [],
   "source": [
    "high_var_array = np.array([1, 100, 200, 300, 4000, 5000])\n",
    "low_var_array = np.array([2, 4, 6, 8, 10])"
   ]
  },
  {
   "cell_type": "code",
   "execution_count": 263,
   "id": "be605ec46dacd239",
   "metadata": {
    "ExecuteTime": {
     "end_time": "2025-08-04T23:20:14.436124Z",
     "start_time": "2025-08-04T23:20:14.433910Z"
    }
   },
   "outputs": [
    {
     "data": {
      "text/plain": [
       "(np.float64(4296133.472222221), np.float64(8.0))"
      ]
     },
     "execution_count": 263,
     "metadata": {},
     "output_type": "execute_result"
    }
   ],
   "source": [
    "# Get the Variance\n",
    "np.var(high_var_array), np.var(low_var_array)"
   ]
  },
  {
   "cell_type": "code",
   "execution_count": 264,
   "id": "2c779480eca2c803",
   "metadata": {
    "ExecuteTime": {
     "end_time": "2025-08-04T23:20:14.453548Z",
     "start_time": "2025-08-04T23:20:14.451742Z"
    }
   },
   "outputs": [
    {
     "data": {
      "text/plain": [
       "(np.float64(2072.711623024829), np.float64(2.8284271247461903))"
      ]
     },
     "execution_count": 264,
     "metadata": {},
     "output_type": "execute_result"
    }
   ],
   "source": [
    "# SQRT of variation is the Standard Deviation\n",
    "np.sqrt(np.var(high_var_array)), np.sqrt(np.var(low_var_array))"
   ]
  },
  {
   "cell_type": "code",
   "execution_count": 265,
   "id": "ab6d16377ad572d7",
   "metadata": {
    "ExecuteTime": {
     "end_time": "2025-08-04T23:20:14.472946Z",
     "start_time": "2025-08-04T23:20:14.470750Z"
    }
   },
   "outputs": [
    {
     "data": {
      "text/plain": [
       "(np.float64(2072.711623024829), np.float64(2.8284271247461903))"
      ]
     },
     "execution_count": 265,
     "metadata": {},
     "output_type": "execute_result"
    }
   ],
   "source": [
    "# SQRT'd values above show that they are the same as using the std() function\n",
    "np.std(high_var_array), np.std(low_var_array)"
   ]
  },
  {
   "cell_type": "code",
   "execution_count": 266,
   "id": "9d56df86a564fd97",
   "metadata": {
    "ExecuteTime": {
     "end_time": "2025-08-04T23:20:14.486022Z",
     "start_time": "2025-08-04T23:20:14.484060Z"
    }
   },
   "outputs": [
    {
     "data": {
      "text/plain": [
       "(np.float64(1600.1666666666667), np.float64(6.0))"
      ]
     },
     "execution_count": 266,
     "metadata": {},
     "output_type": "execute_result"
    }
   ],
   "source": [
    "# Get the mean\n",
    "np.mean(high_var_array), np.mean(low_var_array)"
   ]
  },
  {
   "cell_type": "code",
   "execution_count": 267,
   "id": "757133982f49dc6b",
   "metadata": {
    "ExecuteTime": {
     "end_time": "2025-08-04T23:20:14.534401Z",
     "start_time": "2025-08-04T23:20:14.499254Z"
    }
   },
   "outputs": [
    {
     "data": {
      "image/png": "[encoded data removed]",
      "text/plain": [
       "<Figure size 640x480 with 1 Axes>"
      ]
     },
     "metadata": {},
     "output_type": "display_data"
    }
   ],
   "source": [
    "import matplotlib.pyplot as plt\n",
    "plt.hist(high_var_array)\n",
    "plt.show()"
   ]
  },
  {
   "cell_type": "code",
   "execution_count": 268,
   "id": "31f4129b8548f52a",
   "metadata": {
    "ExecuteTime": {
     "end_time": "2025-08-04T23:20:14.584095Z",
     "start_time": "2025-08-04T23:20:14.551698Z"
    }
   },
   "outputs": [
    {
     "data": {
      "image/png": "[encoded data removed]",
      "text/plain": [
       "<Figure size 640x480 with 1 Axes>"
      ]
     },
     "metadata": {},
     "output_type": "display_data"
    }
   ],
   "source": [
    "plt.hist(low_var_array, bins=10)\n",
    "plt.show()"
   ]
  },
  {
   "cell_type": "markdown",
   "id": "d00583ea0135e362",
   "metadata": {},
   "source": [
    "### Reshaping and Transposing Arrays"
   ]
  },
  {
   "cell_type": "code",
   "execution_count": 269,
   "id": "f4e90be1b05fdcb4",
   "metadata": {
    "ExecuteTime": {
     "end_time": "2025-08-04T23:20:14.601823Z",
     "start_time": "2025-08-04T23:20:14.599913Z"
    }
   },
   "outputs": [
    {
     "name": "stdout",
     "output_type": "stream",
     "text": [
      "[[1.  2.  3. ]\n",
      " [4.  5.  6.5]]\n",
      "(2, 3)\n"
     ]
    }
   ],
   "source": [
    "print(a2)\n",
    "print(a2.shape)"
   ]
  },
  {
   "cell_type": "code",
   "execution_count": 270,
   "id": "ad41c307aaf4e924",
   "metadata": {
    "ExecuteTime": {
     "end_time": "2025-08-04T23:20:14.618921Z",
     "start_time": "2025-08-04T23:20:14.617027Z"
    }
   },
   "outputs": [
    {
     "name": "stdout",
     "output_type": "stream",
     "text": [
      "[[[ 1  2  3]\n",
      "  [ 4  5  6]\n",
      "  [ 7  8  9]]\n",
      "\n",
      " [[10 11 12]\n",
      "  [13 14 15]\n",
      "  [16 17 18]]]\n",
      "(2, 3, 3)\n"
     ]
    }
   ],
   "source": [
    "print(a3)\n",
    "print(a3.shape)"
   ]
  },
  {
   "cell_type": "code",
   "execution_count": 271,
   "id": "b206b79b672dab4d",
   "metadata": {
    "ExecuteTime": {
     "end_time": "2025-08-04T23:20:14.635147Z",
     "start_time": "2025-08-04T23:20:14.632658Z"
    }
   },
   "outputs": [
    {
     "name": "stdout",
     "output_type": "stream",
     "text": [
      "(2, 3, 1)\n",
      "***\n",
      "[[1.  2.  3. ]\n",
      " [4.  5.  6.5]]\n",
      "***\n",
      "***\n",
      "[[[1. ]\n",
      "  [2. ]\n",
      "  [3. ]]\n",
      "\n",
      " [[4. ]\n",
      "  [5. ]\n",
      "  [6.5]]]\n",
      "***\n"
     ]
    }
   ],
   "source": [
    "a2r = a2.reshape(2,3,1)\n",
    "print(a2.reshape(2,3,1).shape)\n",
    "print(\"***\\n\" + str(a2) + \"\\n***\")\n",
    "print(\"***\\n\" + str(a2r) + \"\\n***\")"
   ]
  },
  {
   "cell_type": "code",
   "execution_count": 272,
   "id": "21a6ddd6b00c3ae0",
   "metadata": {
    "ExecuteTime": {
     "end_time": "2025-08-04T23:20:14.652520Z",
     "start_time": "2025-08-04T23:20:14.650073Z"
    }
   },
   "outputs": [
    {
     "name": "stdout",
     "output_type": "stream",
     "text": [
      "**** a2r ****\n",
      "[[[1. ]\n",
      "  [2. ]\n",
      "  [3. ]]\n",
      "\n",
      " [[4. ]\n",
      "  [5. ]\n",
      "  [6.5]]]\n",
      "**** a3 ****\n",
      "[[[ 1  2  3]\n",
      "  [ 4  5  6]\n",
      "  [ 7  8  9]]\n",
      "\n",
      " [[10 11 12]\n",
      "  [13 14 15]\n",
      "  [16 17 18]]]\n",
      "**** a2r * a3 ****\n",
      "[[[  1.    2.    3. ]\n",
      "  [  8.   10.   12. ]\n",
      "  [ 21.   24.   27. ]]\n",
      "\n",
      " [[ 40.   44.   48. ]\n",
      "  [ 65.   70.   75. ]\n",
      "  [104.  110.5 117. ]]]\n"
     ]
    }
   ],
   "source": [
    "result = a2r * a3\n",
    "print(\"**** a2r ****\")\n",
    "print(a2r)\n",
    "print(\"**** a3 ****\")\n",
    "print(a3)\n",
    "print(\"**** a2r * a3 ****\")\n",
    "print(result)"
   ]
  },
  {
   "cell_type": "markdown",
   "id": "1a6c17da99b59e1f",
   "metadata": {},
   "source": [
    "## Transposing arrays - switches the axes"
   ]
  },
  {
   "cell_type": "code",
   "execution_count": 273,
   "id": "39b9236768a52d8",
   "metadata": {
    "ExecuteTime": {
     "end_time": "2025-08-04T23:20:14.666220Z",
     "start_time": "2025-08-04T23:20:14.664759Z"
    }
   },
   "outputs": [
    {
     "name": "stdout",
     "output_type": "stream",
     "text": [
      "[[1.  2.  3. ]\n",
      " [4.  5.  6.5]]\n",
      "(2, 3)\n"
     ]
    }
   ],
   "source": [
    "print(a2)\n",
    "print(a2.shape)"
   ]
  },
  {
   "cell_type": "code",
   "execution_count": 274,
   "id": "207d814b6d399fa6",
   "metadata": {
    "ExecuteTime": {
     "end_time": "2025-08-04T23:20:14.684138Z",
     "start_time": "2025-08-04T23:20:14.682401Z"
    }
   },
   "outputs": [
    {
     "name": "stdout",
     "output_type": "stream",
     "text": [
      "[[1.  4. ]\n",
      " [2.  5. ]\n",
      " [3.  6.5]]\n",
      "(3, 2)\n"
     ]
    }
   ],
   "source": [
    "a2tr = a2.T\n",
    "print(a2tr)\n",
    "print(a2tr.shape)"
   ]
  },
  {
   "cell_type": "code",
   "execution_count": 275,
   "id": "4b171e2e30cb60ef",
   "metadata": {
    "ExecuteTime": {
     "end_time": "2025-08-04T23:20:14.700127Z",
     "start_time": "2025-08-04T23:20:14.697988Z"
    }
   },
   "outputs": [
    {
     "name": "stdout",
     "output_type": "stream",
     "text": [
      "[[[ 1  2  3]\n",
      "  [ 4  5  6]\n",
      "  [ 7  8  9]]\n",
      "\n",
      " [[10 11 12]\n",
      "  [13 14 15]\n",
      "  [16 17 18]]]\n",
      "(2, 3, 3)\n",
      "[[[ 1 10]\n",
      "  [ 4 13]\n",
      "  [ 7 16]]\n",
      "\n",
      " [[ 2 11]\n",
      "  [ 5 14]\n",
      "  [ 8 17]]\n",
      "\n",
      " [[ 3 12]\n",
      "  [ 6 15]\n",
      "  [ 9 18]]]\n",
      "(3, 3, 2)\n"
     ]
    }
   ],
   "source": [
    "# Transpose a 3 dim array\n",
    "print(a3)\n",
    "print(a3.shape)\n",
    "a3tr = a3.T\n",
    "print(a3tr)\n",
    "print(a3tr.shape)"
   ]
  },
  {
   "cell_type": "code",
   "execution_count": 276,
   "id": "e81f26d93955f1d0",
   "metadata": {
    "ExecuteTime": {
     "end_time": "2025-08-04T23:20:14.718151Z",
     "start_time": "2025-08-04T23:20:14.715650Z"
    }
   },
   "outputs": [
    {
     "name": "stdout",
     "output_type": "stream",
     "text": [
      "[[5 0 3]\n",
      " [3 7 9]\n",
      " [3 5 2]\n",
      " [4 7 6]\n",
      " [8 8 1]]\n",
      "[[6 7 7]\n",
      " [8 1 5]\n",
      " [9 8 9]\n",
      " [4 3 0]\n",
      " [3 5 0]]\n",
      "(5, 3)\n",
      "(5, 3)\n"
     ]
    }
   ],
   "source": [
    "## Video #74\n",
    "np.random.seed(seed=0)\n",
    "\n",
    "mat1 = np.random.randint(10, size=(5, 3))\n",
    "mat2 = np.random.randint(10, size=(5, 3))\n",
    "print(mat1)\n",
    "print(mat2)\n",
    "print(mat1.shape)\n",
    "print(mat2.shape)\n"
   ]
  },
  {
   "cell_type": "code",
   "execution_count": 277,
   "id": "7ccba5cd4c1c59e4",
   "metadata": {
    "ExecuteTime": {
     "end_time": "2025-08-04T23:20:14.734300Z",
     "start_time": "2025-08-04T23:20:14.732386Z"
    }
   },
   "outputs": [
    {
     "name": "stdout",
     "output_type": "stream",
     "text": [
      "[[30  0 21]\n",
      " [24  7 45]\n",
      " [27 40 18]\n",
      " [16 21  0]\n",
      " [24 40  0]]\n"
     ]
    }
   ],
   "source": [
    "# Element-wise multiplication (Hadamard product)\n",
    "mulres = mat1*mat2\n",
    "print(mulres)"
   ]
  },
  {
   "cell_type": "markdown",
   "id": "af47f4e70af72cec",
   "metadata": {},
   "source": [
    "## Dot Product"
   ]
  },
  {
   "cell_type": "markdown",
   "id": "b757d0621781ca41",
   "metadata": {},
   "source": [
    "![](dot_product_image.jpg)"
   ]
  },
  {
   "cell_type": "code",
   "execution_count": 278,
   "id": "e54073293d4e38e3",
   "metadata": {
    "ExecuteTime": {
     "end_time": "2025-08-04T23:20:14.749875Z",
     "start_time": "2025-08-04T23:20:14.748137Z"
    }
   },
   "outputs": [
    {
     "name": "stdout",
     "output_type": "stream",
     "text": [
      "[[ 51  55  72  20  15]\n",
      " [130  76 164  33  44]\n",
      " [ 67  39  85  27  34]\n",
      " [115  69 146  37  47]\n",
      " [111  77 145  56  64]]\n"
     ]
    }
   ],
   "source": [
    "# Dot Product\n",
    "dp_res = np.dot(mat1, mat2.T)\n",
    "print(dp_res)"
   ]
  },
  {
   "cell_type": "code",
   "execution_count": 279,
   "id": "b85691369fe6e103",
   "metadata": {
    "ExecuteTime": {
     "end_time": "2025-08-04T23:20:14.765132Z",
     "start_time": "2025-08-04T23:20:14.763625Z"
    }
   },
   "outputs": [
    {
     "name": "stdout",
     "output_type": "stream",
     "text": [
      "[[5 0 3]\n",
      " [3 7 9]\n",
      " [3 5 2]\n",
      " [4 7 6]\n",
      " [8 8 1]]\n"
     ]
    }
   ],
   "source": [
    "print(mat1)"
   ]
  },
  {
   "cell_type": "code",
   "execution_count": 280,
   "id": "93e9d5044e7e0262",
   "metadata": {
    "ExecuteTime": {
     "end_time": "2025-08-04T23:20:14.778895Z",
     "start_time": "2025-08-04T23:20:14.776486Z"
    }
   },
   "outputs": [
    {
     "name": "stdout",
     "output_type": "stream",
     "text": [
      "[[6 8 9 4 3]\n",
      " [7 1 8 3 5]\n",
      " [7 5 9 0 0]]\n"
     ]
    }
   ],
   "source": [
    "print(mat2.T)"
   ]
  },
  {
   "cell_type": "code",
   "execution_count": 281,
   "id": "ed43d329ee640264",
   "metadata": {
    "ExecuteTime": {
     "end_time": "2025-08-04T23:20:14.794408Z",
     "start_time": "2025-08-04T23:20:14.792853Z"
    }
   },
   "outputs": [
    {
     "name": "stdout",
     "output_type": "stream",
     "text": [
      "(5, 3) (3, 5)\n",
      "(5, 5)\n"
     ]
    }
   ],
   "source": [
    "# Notice the inner values of (3) being the same allowing for the multiplication to occur)\n",
    "# two 5x3 matrices so one gets transposed to a 3x5 so we have (5,3) * (3,5)\n",
    "print(mat1.shape, mat2.T.shape)\n",
    "print(dp_res.shape)"
   ]
  },
  {
   "cell_type": "markdown",
   "id": "b87741f221c33a6",
   "metadata": {},
   "source": [
    "## Nut Butter Sales - Dot Product"
   ]
  },
  {
   "cell_type": "code",
   "execution_count": 282,
   "id": "9b4f45fe8cf90744",
   "metadata": {
    "ExecuteTime": {
     "end_time": "2025-08-04T23:20:14.812383Z",
     "start_time": "2025-08-04T23:20:14.810823Z"
    }
   },
   "outputs": [],
   "source": [
    "# So the nut butter sales matrix is 1x3array and 3x3matrix"
   ]
  },
  {
   "cell_type": "code",
   "execution_count": 283,
   "id": "287187348a283699",
   "metadata": {
    "ExecuteTime": {
     "end_time": "2025-08-04T23:20:14.827870Z",
     "start_time": "2025-08-04T23:20:14.826424Z"
    }
   },
   "outputs": [],
   "source": [
    "np.random.seed(seed=0)"
   ]
  },
  {
   "cell_type": "code",
   "execution_count": 284,
   "id": "bba59fc62915c7af",
   "metadata": {
    "ExecuteTime": {
     "end_time": "2025-08-04T23:20:14.841140Z",
     "start_time": "2025-08-04T23:20:14.838625Z"
    }
   },
   "outputs": [
    {
     "data": {
      "text/plain": [
       "array([[12, 15,  0],\n",
       "       [ 3,  3,  7],\n",
       "       [ 9, 19, 18],\n",
       "       [ 4,  6, 12],\n",
       "       [ 1,  6,  7]])"
      ]
     },
     "execution_count": 284,
     "metadata": {},
     "output_type": "execute_result"
    }
   ],
   "source": [
    "# Number of jars sold\n",
    "sales_amounts = np.random.randint(20, size=(5, 3))\n",
    "sales_amounts\n"
   ]
  },
  {
   "cell_type": "code",
   "execution_count": 285,
   "id": "fac3f1523b5c82b6",
   "metadata": {
    "ExecuteTime": {
     "end_time": "2025-08-04T23:20:14.902558Z",
     "start_time": "2025-08-04T23:20:14.900924Z"
    }
   },
   "outputs": [],
   "source": [
    "# Create weekly sales DataFrame\n",
    "weekly_sales = pd.DataFrame(sales_amounts,\n",
    "                            index = [\"Mon\", \"Tues\", \"Wed\", \"Thurs\", \"Fri\"],\n",
    "                            columns = [\"Almond Butter\", \"Peanut Butter\", \"Cashew Butter\"])"
   ]
  },
  {
   "cell_type": "code",
   "execution_count": 286,
   "id": "bea626427b095d23",
   "metadata": {
    "ExecuteTime": {
     "end_time": "2025-08-04T23:20:14.940310Z",
     "start_time": "2025-08-04T23:20:14.937365Z"
    }
   },
   "outputs": [
    {
     "data": {
      "text/html": [
       "<div>\n",
       "<style scoped>\n",
       "    .dataframe tbody tr th:only-of-type {\n",
       "        vertical-align: middle;\n",
       "    }\n",
       "\n",
       "    .dataframe tbody tr th {\n",
       "        vertical-align: top;\n",
       "    }\n",
       "\n",
       "    .dataframe thead th {\n",
       "        text-align: right;\n",
       "    }\n",
       "</style>\n",
       "<table border=\"1\" class=\"dataframe\">\n",
       "  <thead>\n",
       "    <tr style=\"text-align: right;\">\n",
       "      <th></th>\n",
       "      <th>Almond Butter</th>\n",
       "      <th>Peanut Butter</th>\n",
       "      <th>Cashew Butter</th>\n",
       "    </tr>\n",
       "  </thead>\n",
       "  <tbody>\n",
       "    <tr>\n",
       "      <th>Mon</th>\n",
       "      <td>12</td>\n",
       "      <td>15</td>\n",
       "      <td>0</td>\n",
       "    </tr>\n",
       "    <tr>\n",
       "      <th>Tues</th>\n",
       "      <td>3</td>\n",
       "      <td>3</td>\n",
       "      <td>7</td>\n",
       "    </tr>\n",
       "    <tr>\n",
       "      <th>Wed</th>\n",
       "      <td>9</td>\n",
       "      <td>19</td>\n",
       "      <td>18</td>\n",
       "    </tr>\n",
       "    <tr>\n",
       "      <th>Thurs</th>\n",
       "      <td>4</td>\n",
       "      <td>6</td>\n",
       "      <td>12</td>\n",
       "    </tr>\n",
       "    <tr>\n",
       "      <th>Fri</th>\n",
       "      <td>1</td>\n",
       "      <td>6</td>\n",
       "      <td>7</td>\n",
       "    </tr>\n",
       "  </tbody>\n",
       "</table>\n",
       "</div>"
      ],
      "text/plain": [
       "       Almond Butter  Peanut Butter  Cashew Butter\n",
       "Mon               12             15              0\n",
       "Tues               3              3              7\n",
       "Wed                9             19             18\n",
       "Thurs              4              6             12\n",
       "Fri                1              6              7"
      ]
     },
     "execution_count": 286,
     "metadata": {},
     "output_type": "execute_result"
    }
   ],
   "source": [
    "weekly_sales"
   ]
  },
  {
   "cell_type": "code",
   "execution_count": 287,
   "id": "6b755f549cf8f345",
   "metadata": {
    "ExecuteTime": {
     "end_time": "2025-08-04T23:20:14.981456Z",
     "start_time": "2025-08-04T23:20:14.979428Z"
    }
   },
   "outputs": [
    {
     "data": {
      "text/plain": [
       "array([10,  8, 12])"
      ]
     },
     "execution_count": 287,
     "metadata": {},
     "output_type": "execute_result"
    }
   ],
   "source": [
    "# Create Prices NumpyArray\n",
    "prices = np.array([10, 8, 12])\n",
    "prices"
   ]
  },
  {
   "cell_type": "code",
   "execution_count": 288,
   "id": "b37e2110acb2bedf",
   "metadata": {
    "ExecuteTime": {
     "end_time": "2025-08-04T23:20:15.021007Z",
     "start_time": "2025-08-04T23:20:15.017741Z"
    }
   },
   "outputs": [
    {
     "data": {
      "text/html": [
       "<div>\n",
       "<style scoped>\n",
       "    .dataframe tbody tr th:only-of-type {\n",
       "        vertical-align: middle;\n",
       "    }\n",
       "\n",
       "    .dataframe tbody tr th {\n",
       "        vertical-align: top;\n",
       "    }\n",
       "\n",
       "    .dataframe thead th {\n",
       "        text-align: right;\n",
       "    }\n",
       "</style>\n",
       "<table border=\"1\" class=\"dataframe\">\n",
       "  <thead>\n",
       "    <tr style=\"text-align: right;\">\n",
       "      <th></th>\n",
       "      <th>Almond Butter</th>\n",
       "      <th>Peanut Butter</th>\n",
       "      <th>Cashew Butter</th>\n",
       "    </tr>\n",
       "  </thead>\n",
       "  <tbody>\n",
       "    <tr>\n",
       "      <th>Price</th>\n",
       "      <td>10</td>\n",
       "      <td>8</td>\n",
       "      <td>12</td>\n",
       "    </tr>\n",
       "  </tbody>\n",
       "</table>\n",
       "</div>"
      ],
      "text/plain": [
       "       Almond Butter  Peanut Butter  Cashew Butter\n",
       "Price             10              8             12"
      ]
     },
     "execution_count": 288,
     "metadata": {},
     "output_type": "execute_result"
    }
   ],
   "source": [
    "# Create a Butter Prices Data Frame\n",
    "butter_prices = pd.DataFrame(prices.reshape(1, 3),\n",
    "                             index = [\"Price\"],\n",
    "                             columns = [\"Almond Butter\", \"Peanut Butter\", \"Cashew Butter\"])\n",
    "butter_prices"
   ]
  },
  {
   "cell_type": "code",
   "execution_count": 289,
   "id": "8c56ab2058baff05",
   "metadata": {
    "ExecuteTime": {
     "end_time": "2025-08-04T23:20:15.063014Z",
     "start_time": "2025-08-04T23:20:15.061038Z"
    }
   },
   "outputs": [
    {
     "data": {
      "text/plain": [
       "array([240, 138, 458, 232, 142])"
      ]
     },
     "execution_count": 289,
     "metadata": {},
     "output_type": "execute_result"
    }
   ],
   "source": [
    "total_sales = prices.dot(sales_amounts.T)\n",
    "total_sales"
   ]
  },
  {
   "cell_type": "code",
   "execution_count": 290,
   "id": "870c5386155e3b59",
   "metadata": {
    "ExecuteTime": {
     "end_time": "2025-08-04T23:20:15.103142Z",
     "start_time": "2025-08-04T23:20:15.100510Z"
    }
   },
   "outputs": [
    {
     "data": {
      "text/html": [
       "<div>\n",
       "<style scoped>\n",
       "    .dataframe tbody tr th:only-of-type {\n",
       "        vertical-align: middle;\n",
       "    }\n",
       "\n",
       "    .dataframe tbody tr th {\n",
       "        vertical-align: top;\n",
       "    }\n",
       "\n",
       "    .dataframe thead th {\n",
       "        text-align: right;\n",
       "    }\n",
       "</style>\n",
       "<table border=\"1\" class=\"dataframe\">\n",
       "  <thead>\n",
       "    <tr style=\"text-align: right;\">\n",
       "      <th></th>\n",
       "      <th>Almond Butter</th>\n",
       "      <th>Peanut Butter</th>\n",
       "      <th>Cashew Butter</th>\n",
       "    </tr>\n",
       "  </thead>\n",
       "  <tbody>\n",
       "    <tr>\n",
       "      <th>Price</th>\n",
       "      <td>10</td>\n",
       "      <td>8</td>\n",
       "      <td>12</td>\n",
       "    </tr>\n",
       "  </tbody>\n",
       "</table>\n",
       "</div>"
      ],
      "text/plain": [
       "       Almond Butter  Peanut Butter  Cashew Butter\n",
       "Price             10              8             12"
      ]
     },
     "execution_count": 290,
     "metadata": {},
     "output_type": "execute_result"
    }
   ],
   "source": [
    "# Create Daily Sales\n",
    "butter_prices"
   ]
  },
  {
   "cell_type": "code",
   "execution_count": 291,
   "id": "1f722767170d4a5c",
   "metadata": {
    "ExecuteTime": {
     "end_time": "2025-08-04T23:20:15.146273Z",
     "start_time": "2025-08-04T23:20:15.143492Z"
    }
   },
   "outputs": [
    {
     "data": {
      "text/html": [
       "<div>\n",
       "<style scoped>\n",
       "    .dataframe tbody tr th:only-of-type {\n",
       "        vertical-align: middle;\n",
       "    }\n",
       "\n",
       "    .dataframe tbody tr th {\n",
       "        vertical-align: top;\n",
       "    }\n",
       "\n",
       "    .dataframe thead th {\n",
       "        text-align: right;\n",
       "    }\n",
       "</style>\n",
       "<table border=\"1\" class=\"dataframe\">\n",
       "  <thead>\n",
       "    <tr style=\"text-align: right;\">\n",
       "      <th></th>\n",
       "      <th>Almond Butter</th>\n",
       "      <th>Peanut Butter</th>\n",
       "      <th>Cashew Butter</th>\n",
       "    </tr>\n",
       "  </thead>\n",
       "  <tbody>\n",
       "    <tr>\n",
       "      <th>Mon</th>\n",
       "      <td>12</td>\n",
       "      <td>15</td>\n",
       "      <td>0</td>\n",
       "    </tr>\n",
       "    <tr>\n",
       "      <th>Tues</th>\n",
       "      <td>3</td>\n",
       "      <td>3</td>\n",
       "      <td>7</td>\n",
       "    </tr>\n",
       "    <tr>\n",
       "      <th>Wed</th>\n",
       "      <td>9</td>\n",
       "      <td>19</td>\n",
       "      <td>18</td>\n",
       "    </tr>\n",
       "    <tr>\n",
       "      <th>Thurs</th>\n",
       "      <td>4</td>\n",
       "      <td>6</td>\n",
       "      <td>12</td>\n",
       "    </tr>\n",
       "    <tr>\n",
       "      <th>Fri</th>\n",
       "      <td>1</td>\n",
       "      <td>6</td>\n",
       "      <td>7</td>\n",
       "    </tr>\n",
       "  </tbody>\n",
       "</table>\n",
       "</div>"
      ],
      "text/plain": [
       "       Almond Butter  Peanut Butter  Cashew Butter\n",
       "Mon               12             15              0\n",
       "Tues               3              3              7\n",
       "Wed                9             19             18\n",
       "Thurs              4              6             12\n",
       "Fri                1              6              7"
      ]
     },
     "execution_count": 291,
     "metadata": {},
     "output_type": "execute_result"
    }
   ],
   "source": [
    "weekly_sales"
   ]
  },
  {
   "cell_type": "code",
   "execution_count": 292,
   "id": "3b17c75d69561a34",
   "metadata": {
    "ExecuteTime": {
     "end_time": "2025-08-04T23:20:15.202878Z",
     "start_time": "2025-08-04T23:20:15.199537Z"
    }
   },
   "outputs": [
    {
     "data": {
      "text/html": [
       "<div>\n",
       "<style scoped>\n",
       "    .dataframe tbody tr th:only-of-type {\n",
       "        vertical-align: middle;\n",
       "    }\n",
       "\n",
       "    .dataframe tbody tr th {\n",
       "        vertical-align: top;\n",
       "    }\n",
       "\n",
       "    .dataframe thead th {\n",
       "        text-align: right;\n",
       "    }\n",
       "</style>\n",
       "<table border=\"1\" class=\"dataframe\">\n",
       "  <thead>\n",
       "    <tr style=\"text-align: right;\">\n",
       "      <th></th>\n",
       "      <th>Mon</th>\n",
       "      <th>Tues</th>\n",
       "      <th>Wed</th>\n",
       "      <th>Thurs</th>\n",
       "      <th>Fri</th>\n",
       "    </tr>\n",
       "  </thead>\n",
       "  <tbody>\n",
       "    <tr>\n",
       "      <th>Price</th>\n",
       "      <td>240</td>\n",
       "      <td>138</td>\n",
       "      <td>458</td>\n",
       "      <td>232</td>\n",
       "      <td>142</td>\n",
       "    </tr>\n",
       "  </tbody>\n",
       "</table>\n",
       "</div>"
      ],
      "text/plain": [
       "       Mon  Tues  Wed  Thurs  Fri\n",
       "Price  240   138  458    232  142"
      ]
     },
     "execution_count": 292,
     "metadata": {},
     "output_type": "execute_result"
    }
   ],
   "source": [
    "daily_sales = butter_prices.dot(weekly_sales.T)\n",
    "daily_sales"
   ]
  },
  {
   "cell_type": "code",
   "execution_count": 293,
   "id": "fa2f639064430b83",
   "metadata": {
    "ExecuteTime": {
     "end_time": "2025-08-04T23:20:15.267575Z",
     "start_time": "2025-08-04T23:20:15.264066Z"
    }
   },
   "outputs": [
    {
     "data": {
      "text/html": [
       "<div>\n",
       "<style scoped>\n",
       "    .dataframe tbody tr th:only-of-type {\n",
       "        vertical-align: middle;\n",
       "    }\n",
       "\n",
       "    .dataframe tbody tr th {\n",
       "        vertical-align: top;\n",
       "    }\n",
       "\n",
       "    .dataframe thead th {\n",
       "        text-align: right;\n",
       "    }\n",
       "</style>\n",
       "<table border=\"1\" class=\"dataframe\">\n",
       "  <thead>\n",
       "    <tr style=\"text-align: right;\">\n",
       "      <th></th>\n",
       "      <th>Almond Butter</th>\n",
       "      <th>Peanut Butter</th>\n",
       "      <th>Cashew Butter</th>\n",
       "      <th>Total ($)</th>\n",
       "    </tr>\n",
       "  </thead>\n",
       "  <tbody>\n",
       "    <tr>\n",
       "      <th>Mon</th>\n",
       "      <td>12</td>\n",
       "      <td>15</td>\n",
       "      <td>0</td>\n",
       "      <td>240</td>\n",
       "    </tr>\n",
       "    <tr>\n",
       "      <th>Tues</th>\n",
       "      <td>3</td>\n",
       "      <td>3</td>\n",
       "      <td>7</td>\n",
       "      <td>138</td>\n",
       "    </tr>\n",
       "    <tr>\n",
       "      <th>Wed</th>\n",
       "      <td>9</td>\n",
       "      <td>19</td>\n",
       "      <td>18</td>\n",
       "      <td>458</td>\n",
       "    </tr>\n",
       "    <tr>\n",
       "      <th>Thurs</th>\n",
       "      <td>4</td>\n",
       "      <td>6</td>\n",
       "      <td>12</td>\n",
       "      <td>232</td>\n",
       "    </tr>\n",
       "    <tr>\n",
       "      <th>Fri</th>\n",
       "      <td>1</td>\n",
       "      <td>6</td>\n",
       "      <td>7</td>\n",
       "      <td>142</td>\n",
       "    </tr>\n",
       "  </tbody>\n",
       "</table>\n",
       "</div>"
      ],
      "text/plain": [
       "       Almond Butter  Peanut Butter  Cashew Butter  Total ($)\n",
       "Mon               12             15              0        240\n",
       "Tues               3              3              7        138\n",
       "Wed                9             19             18        458\n",
       "Thurs              4              6             12        232\n",
       "Fri                1              6              7        142"
      ]
     },
     "execution_count": 293,
     "metadata": {},
     "output_type": "execute_result"
    }
   ],
   "source": [
    "# have to re shape the data frame\n",
    "weekly_sales[\"Total ($)\"] = daily_sales.T\n",
    "weekly_sales"
   ]
  },
  {
   "cell_type": "code",
   "execution_count": 294,
   "id": "de2a3626eb9c26d",
   "metadata": {
    "ExecuteTime": {
     "end_time": "2025-08-04T23:20:15.333884Z",
     "start_time": "2025-08-04T23:20:15.330561Z"
    }
   },
   "outputs": [
    {
     "data": {
      "text/html": [
       "<div>\n",
       "<style scoped>\n",
       "    .dataframe tbody tr th:only-of-type {\n",
       "        vertical-align: middle;\n",
       "    }\n",
       "\n",
       "    .dataframe tbody tr th {\n",
       "        vertical-align: top;\n",
       "    }\n",
       "\n",
       "    .dataframe thead th {\n",
       "        text-align: right;\n",
       "    }\n",
       "</style>\n",
       "<table border=\"1\" class=\"dataframe\">\n",
       "  <thead>\n",
       "    <tr style=\"text-align: right;\">\n",
       "      <th></th>\n",
       "      <th>Almond Butter</th>\n",
       "      <th>Peanut Butter</th>\n",
       "      <th>Cashew Butter</th>\n",
       "    </tr>\n",
       "  </thead>\n",
       "  <tbody>\n",
       "    <tr>\n",
       "      <th>Price</th>\n",
       "      <td>10</td>\n",
       "      <td>8</td>\n",
       "      <td>12</td>\n",
       "    </tr>\n",
       "  </tbody>\n",
       "</table>\n",
       "</div>"
      ],
      "text/plain": [
       "       Almond Butter  Peanut Butter  Cashew Butter\n",
       "Price             10              8             12"
      ]
     },
     "execution_count": 294,
     "metadata": {},
     "output_type": "execute_result"
    }
   ],
   "source": [
    "butter_prices"
   ]
  },
  {
   "cell_type": "markdown",
   "id": "59a679668c4119ca",
   "metadata": {},
   "source": [
    "## My Practice and solutions"
   ]
  },
  {
   "cell_type": "code",
   "execution_count": 295,
   "id": "2e93d97d668b1563",
   "metadata": {
    "ExecuteTime": {
     "end_time": "2025-08-04T23:20:15.400424Z",
     "start_time": "2025-08-04T23:20:15.397186Z"
    }
   },
   "outputs": [
    {
     "data": {
      "text/html": [
       "<div>\n",
       "<style scoped>\n",
       "    .dataframe tbody tr th:only-of-type {\n",
       "        vertical-align: middle;\n",
       "    }\n",
       "\n",
       "    .dataframe tbody tr th {\n",
       "        vertical-align: top;\n",
       "    }\n",
       "\n",
       "    .dataframe thead th {\n",
       "        text-align: right;\n",
       "    }\n",
       "</style>\n",
       "<table border=\"1\" class=\"dataframe\">\n",
       "  <thead>\n",
       "    <tr style=\"text-align: right;\">\n",
       "      <th></th>\n",
       "      <th>Almond Butter</th>\n",
       "      <th>Peanut Butter</th>\n",
       "      <th>Cashew Butter</th>\n",
       "    </tr>\n",
       "  </thead>\n",
       "  <tbody>\n",
       "    <tr>\n",
       "      <th>Mon</th>\n",
       "      <td>16</td>\n",
       "      <td>19</td>\n",
       "      <td>7</td>\n",
       "    </tr>\n",
       "    <tr>\n",
       "      <th>Tues</th>\n",
       "      <td>15</td>\n",
       "      <td>10</td>\n",
       "      <td>11</td>\n",
       "    </tr>\n",
       "    <tr>\n",
       "      <th>Wed</th>\n",
       "      <td>18</td>\n",
       "      <td>7</td>\n",
       "      <td>17</td>\n",
       "    </tr>\n",
       "    <tr>\n",
       "      <th>Thurs</th>\n",
       "      <td>17</td>\n",
       "      <td>2</td>\n",
       "      <td>5</td>\n",
       "    </tr>\n",
       "    <tr>\n",
       "      <th>Fri</th>\n",
       "      <td>19</td>\n",
       "      <td>16</td>\n",
       "      <td>9</td>\n",
       "    </tr>\n",
       "  </tbody>\n",
       "</table>\n",
       "</div>"
      ],
      "text/plain": [
       "       Almond Butter  Peanut Butter  Cashew Butter\n",
       "Mon               16             19              7\n",
       "Tues              15             10             11\n",
       "Wed               18              7             17\n",
       "Thurs             17              2              5\n",
       "Fri               19             16              9"
      ]
     },
     "execution_count": 295,
     "metadata": {},
     "output_type": "execute_result"
    }
   ],
   "source": [
    "# 1) Create a Data Frame of random numbers that is shape (5,3)\n",
    "# This will represent the number of sales of each type of butter (3 types) over the 5 days of a business week M-F\n",
    "\n",
    "butter_sales_amounts = pd.DataFrame(np.random.randint(2,20,size=(5, 3)), index = [\"Mon\", \"Tues\", \"Wed\", \"Thurs\", \"Fri\"], columns = [\"Almond Butter\", \"Peanut Butter\", \"Cashew Butter\"])\n",
    "butter_sales_amounts"
   ]
  },
  {
   "cell_type": "code",
   "execution_count": 296,
   "id": "4eab7cdfa1649cba",
   "metadata": {
    "ExecuteTime": {
     "end_time": "2025-08-04T23:20:15.461924Z",
     "start_time": "2025-08-04T23:20:15.459956Z"
    }
   },
   "outputs": [
    {
     "data": {
      "text/plain": [
       "[10, 8, 12]"
      ]
     },
     "execution_count": 296,
     "metadata": {},
     "output_type": "execute_result"
    }
   ],
   "source": [
    "butter_prices = [10, 8, 12]\n",
    "butter_prices"
   ]
  },
  {
   "cell_type": "code",
   "execution_count": 297,
   "id": "e53dd6877c9194c",
   "metadata": {
    "ExecuteTime": {
     "end_time": "2025-08-04T23:20:15.530291Z",
     "start_time": "2025-08-04T23:20:15.527726Z"
    }
   },
   "outputs": [
    {
     "data": {
      "text/html": [
       "<div>\n",
       "<style scoped>\n",
       "    .dataframe tbody tr th:only-of-type {\n",
       "        vertical-align: middle;\n",
       "    }\n",
       "\n",
       "    .dataframe tbody tr th {\n",
       "        vertical-align: top;\n",
       "    }\n",
       "\n",
       "    .dataframe thead th {\n",
       "        text-align: right;\n",
       "    }\n",
       "</style>\n",
       "<table border=\"1\" class=\"dataframe\">\n",
       "  <thead>\n",
       "    <tr style=\"text-align: right;\">\n",
       "      <th></th>\n",
       "      <th>Total Sales</th>\n",
       "    </tr>\n",
       "  </thead>\n",
       "  <tbody>\n",
       "    <tr>\n",
       "      <th>Mon</th>\n",
       "      <td>396</td>\n",
       "    </tr>\n",
       "    <tr>\n",
       "      <th>Tues</th>\n",
       "      <td>362</td>\n",
       "    </tr>\n",
       "    <tr>\n",
       "      <th>Wed</th>\n",
       "      <td>440</td>\n",
       "    </tr>\n",
       "    <tr>\n",
       "      <th>Thurs</th>\n",
       "      <td>246</td>\n",
       "    </tr>\n",
       "    <tr>\n",
       "      <th>Fri</th>\n",
       "      <td>426</td>\n",
       "    </tr>\n",
       "  </tbody>\n",
       "</table>\n",
       "</div>"
      ],
      "text/plain": [
       "       Total Sales\n",
       "Mon            396\n",
       "Tues           362\n",
       "Wed            440\n",
       "Thurs          246\n",
       "Fri            426"
      ]
     },
     "execution_count": 297,
     "metadata": {},
     "output_type": "execute_result"
    }
   ],
   "source": [
    "# Make 'weekly_sales' a DataFrame so i can add the column title \"Total ($)\"\n",
    "weekly_sales = pd.DataFrame(butter_sales_amounts.dot(butter_prices), columns = [\"Total Sales\"])\n",
    "weekly_sales"
   ]
  },
  {
   "cell_type": "code",
   "execution_count": 298,
   "id": "c797b2af0ff064f1",
   "metadata": {
    "ExecuteTime": {
     "end_time": "2025-08-04T23:20:15.578281Z",
     "start_time": "2025-08-04T23:20:15.576517Z"
    }
   },
   "outputs": [],
   "source": [
    "butter_sales_amounts[\"Total in ($)\"] = weekly_sales"
   ]
  },
  {
   "cell_type": "code",
   "execution_count": 299,
   "id": "da4449dd59e5a7bd",
   "metadata": {
    "ExecuteTime": {
     "end_time": "2025-08-04T23:20:15.615267Z",
     "start_time": "2025-08-04T23:20:15.612423Z"
    }
   },
   "outputs": [
    {
     "data": {
      "text/html": [
       "<div>\n",
       "<style scoped>\n",
       "    .dataframe tbody tr th:only-of-type {\n",
       "        vertical-align: middle;\n",
       "    }\n",
       "\n",
       "    .dataframe tbody tr th {\n",
       "        vertical-align: top;\n",
       "    }\n",
       "\n",
       "    .dataframe thead th {\n",
       "        text-align: right;\n",
       "    }\n",
       "</style>\n",
       "<table border=\"1\" class=\"dataframe\">\n",
       "  <thead>\n",
       "    <tr style=\"text-align: right;\">\n",
       "      <th></th>\n",
       "      <th>Almond Butter</th>\n",
       "      <th>Peanut Butter</th>\n",
       "      <th>Cashew Butter</th>\n",
       "      <th>Total in ($)</th>\n",
       "    </tr>\n",
       "  </thead>\n",
       "  <tbody>\n",
       "    <tr>\n",
       "      <th>Mon</th>\n",
       "      <td>16</td>\n",
       "      <td>19</td>\n",
       "      <td>7</td>\n",
       "      <td>396</td>\n",
       "    </tr>\n",
       "    <tr>\n",
       "      <th>Tues</th>\n",
       "      <td>15</td>\n",
       "      <td>10</td>\n",
       "      <td>11</td>\n",
       "      <td>362</td>\n",
       "    </tr>\n",
       "    <tr>\n",
       "      <th>Wed</th>\n",
       "      <td>18</td>\n",
       "      <td>7</td>\n",
       "      <td>17</td>\n",
       "      <td>440</td>\n",
       "    </tr>\n",
       "    <tr>\n",
       "      <th>Thurs</th>\n",
       "      <td>17</td>\n",
       "      <td>2</td>\n",
       "      <td>5</td>\n",
       "      <td>246</td>\n",
       "    </tr>\n",
       "    <tr>\n",
       "      <th>Fri</th>\n",
       "      <td>19</td>\n",
       "      <td>16</td>\n",
       "      <td>9</td>\n",
       "      <td>426</td>\n",
       "    </tr>\n",
       "  </tbody>\n",
       "</table>\n",
       "</div>"
      ],
      "text/plain": [
       "       Almond Butter  Peanut Butter  Cashew Butter  Total in ($)\n",
       "Mon               16             19              7           396\n",
       "Tues              15             10             11           362\n",
       "Wed               18              7             17           440\n",
       "Thurs             17              2              5           246\n",
       "Fri               19             16              9           426"
      ]
     },
     "execution_count": 299,
     "metadata": {},
     "output_type": "execute_result"
    }
   ],
   "source": [
    "butter_sales_amounts"
   ]
  },
  {
   "cell_type": "markdown",
   "id": "9fc316e506dadaa9",
   "metadata": {},
   "source": [
    "## Comparison Operators"
   ]
  },
  {
   "cell_type": "code",
   "execution_count": 300,
   "id": "b00af7daa74ed9",
   "metadata": {
    "ExecuteTime": {
     "end_time": "2025-08-04T23:20:15.657771Z",
     "start_time": "2025-08-04T23:20:15.655914Z"
    }
   },
   "outputs": [
    {
     "data": {
      "text/plain": [
       "array([1, 2, 3])"
      ]
     },
     "execution_count": 300,
     "metadata": {},
     "output_type": "execute_result"
    }
   ],
   "source": [
    "a1"
   ]
  },
  {
   "cell_type": "code",
   "execution_count": 301,
   "id": "6ac1f0777d245b6",
   "metadata": {
    "ExecuteTime": {
     "end_time": "2025-08-04T23:20:15.695446Z",
     "start_time": "2025-08-04T23:20:15.693216Z"
    }
   },
   "outputs": [
    {
     "data": {
      "text/plain": [
       "array([[1. , 2. , 3. ],\n",
       "       [4. , 5. , 6.5]])"
      ]
     },
     "execution_count": 301,
     "metadata": {},
     "output_type": "execute_result"
    }
   ],
   "source": [
    "a2"
   ]
  },
  {
   "cell_type": "code",
   "execution_count": 302,
   "id": "d2af7e2728e69497",
   "metadata": {
    "ExecuteTime": {
     "end_time": "2025-08-04T23:20:15.745239Z",
     "start_time": "2025-08-04T23:20:15.743236Z"
    }
   },
   "outputs": [
    {
     "data": {
      "text/plain": [
       "array([[False, False, False],\n",
       "       [False, False, False]])"
      ]
     },
     "execution_count": 302,
     "metadata": {},
     "output_type": "execute_result"
    }
   ],
   "source": [
    "a1 > a2"
   ]
  },
  {
   "cell_type": "code",
   "execution_count": 303,
   "id": "4765249818d00f3b",
   "metadata": {
    "ExecuteTime": {
     "end_time": "2025-08-04T23:20:15.808878Z",
     "start_time": "2025-08-04T23:20:15.805835Z"
    }
   },
   "outputs": [
    {
     "data": {
      "text/plain": [
       "array([[False, False, False],\n",
       "       [False, False, False]])"
      ]
     },
     "execution_count": 303,
     "metadata": {},
     "output_type": "execute_result"
    }
   ],
   "source": [
    "bool_array = a1 > a2\n",
    "bool_array"
   ]
  },
  {
   "cell_type": "code",
   "execution_count": 304,
   "id": "6feedac4a99f966b",
   "metadata": {
    "ExecuteTime": {
     "end_time": "2025-08-04T23:20:15.882898Z",
     "start_time": "2025-08-04T23:20:15.880753Z"
    }
   },
   "outputs": [
    {
     "data": {
      "text/plain": [
       "(numpy.ndarray, dtype('bool'))"
      ]
     },
     "execution_count": 304,
     "metadata": {},
     "output_type": "execute_result"
    }
   ],
   "source": [
    "type(bool_array),bool_array.dtype"
   ]
  },
  {
   "cell_type": "code",
   "execution_count": 305,
   "id": "58f3ad909e7e368d",
   "metadata": {
    "ExecuteTime": {
     "end_time": "2025-08-04T23:20:15.935653Z",
     "start_time": "2025-08-04T23:20:15.933960Z"
    }
   },
   "outputs": [],
   "source": [
    "a1D = np.array([5, 6, 7, 8])\n",
    "a2D = pd.DataFrame(np.array([[1, 2, 3, 4],\n",
    "                             [5, 6, 7, 8]]))"
   ]
  },
  {
   "cell_type": "code",
   "execution_count": 306,
   "id": "56e55e3ab14aed13",
   "metadata": {
    "ExecuteTime": {
     "end_time": "2025-08-04T23:20:15.955247Z",
     "start_time": "2025-08-04T23:20:15.952227Z"
    }
   },
   "outputs": [
    {
     "data": {
      "text/html": [
       "<div>\n",
       "<style scoped>\n",
       "    .dataframe tbody tr th:only-of-type {\n",
       "        vertical-align: middle;\n",
       "    }\n",
       "\n",
       "    .dataframe tbody tr th {\n",
       "        vertical-align: top;\n",
       "    }\n",
       "\n",
       "    .dataframe thead th {\n",
       "        text-align: right;\n",
       "    }\n",
       "</style>\n",
       "<table border=\"1\" class=\"dataframe\">\n",
       "  <thead>\n",
       "    <tr style=\"text-align: right;\">\n",
       "      <th></th>\n",
       "      <th>0</th>\n",
       "      <th>1</th>\n",
       "      <th>2</th>\n",
       "      <th>3</th>\n",
       "    </tr>\n",
       "  </thead>\n",
       "  <tbody>\n",
       "    <tr>\n",
       "      <th>0</th>\n",
       "      <td>False</td>\n",
       "      <td>False</td>\n",
       "      <td>False</td>\n",
       "      <td>False</td>\n",
       "    </tr>\n",
       "    <tr>\n",
       "      <th>1</th>\n",
       "      <td>True</td>\n",
       "      <td>True</td>\n",
       "      <td>True</td>\n",
       "      <td>True</td>\n",
       "    </tr>\n",
       "  </tbody>\n",
       "</table>\n",
       "</div>"
      ],
      "text/plain": [
       "       0      1      2      3\n",
       "0  False  False  False  False\n",
       "1   True   True   True   True"
      ]
     },
     "execution_count": 306,
     "metadata": {},
     "output_type": "execute_result"
    }
   ],
   "source": [
    "a1D == a2D"
   ]
  },
  {
   "cell_type": "markdown",
   "id": "946a2bbe81513d93",
   "metadata": {},
   "source": [
    "## 5. Sorting Arrays"
   ]
  },
  {
   "cell_type": "code",
   "execution_count": 307,
   "id": "5ae011b2044b9bff",
   "metadata": {
    "ExecuteTime": {
     "end_time": "2025-08-04T23:20:16.016761Z",
     "start_time": "2025-08-04T23:20:16.014294Z"
    }
   },
   "outputs": [
    {
     "data": {
      "text/plain": [
       "array([[0, 1, 9, 9, 0],\n",
       "       [4, 7, 3, 2, 7],\n",
       "       [2, 0, 0, 4, 5]])"
      ]
     },
     "execution_count": 307,
     "metadata": {},
     "output_type": "execute_result"
    }
   ],
   "source": [
    "rand_array = np.random.randint(10, size=(3, 5))\n",
    "rand_array"
   ]
  },
  {
   "cell_type": "code",
   "execution_count": 308,
   "id": "c61af76f51a6f301",
   "metadata": {
    "ExecuteTime": {
     "end_time": "2025-08-04T23:20:16.077522Z",
     "start_time": "2025-08-04T23:20:16.075419Z"
    }
   },
   "outputs": [
    {
     "data": {
      "text/plain": [
       "array([[0, 0, 1, 9, 9],\n",
       "       [2, 3, 4, 7, 7],\n",
       "       [0, 0, 2, 4, 5]])"
      ]
     },
     "execution_count": 308,
     "metadata": {},
     "output_type": "execute_result"
    }
   ],
   "source": [
    "rand_array_sorted = np.sort(rand_array)\n",
    "rand_array_sorted\n",
    "# Notice that this sorts each axis individually and does not sort the entire matrix as a single unit but as 3 units of 5 elements"
   ]
  },
  {
   "cell_type": "code",
   "execution_count": 309,
   "id": "cd1972065c806862",
   "metadata": {
    "ExecuteTime": {
     "end_time": "2025-08-04T23:20:16.145024Z",
     "start_time": "2025-08-04T23:20:16.142893Z"
    }
   },
   "outputs": [
    {
     "data": {
      "text/plain": [
       "array([[0, 1, 2, 3, 4],\n",
       "       [0, 1, 2, 3, 4],\n",
       "       [0, 1, 2, 3, 4]])"
      ]
     },
     "execution_count": 309,
     "metadata": {},
     "output_type": "execute_result"
    }
   ],
   "source": [
    "# Now we can also sort the indexes\n",
    "np.argsort(rand_array_sorted)"
   ]
  },
  {
   "cell_type": "code",
   "execution_count": 310,
   "id": "42e218669c5c4103",
   "metadata": {
    "ExecuteTime": {
     "end_time": "2025-08-04T23:20:16.231812Z",
     "start_time": "2025-08-04T23:20:16.229296Z"
    }
   },
   "outputs": [
    {
     "name": "stdout",
     "output_type": "stream",
     "text": [
      "[[0 1 9 9 0]\n",
      " [4 7 3 2 7]\n",
      " [2 0 0 4 5]]\n",
      "[[0 2 3 4 1]\n",
      " [2 3 1 0 4]\n",
      " [2 0 1 3 4]]\n"
     ]
    }
   ],
   "source": [
    "print(rand_array)\n",
    "# Notice that the function behaves differently than the examples given in the lecture ... According to experimentation and GitHub case I found, the syntax should NOT be: np.argsort(rand_array) .... this fails, you need to use np.argsort(np.argsort(rand_array))\n",
    "print(np.argsort(np.argsort(rand_array)))"
   ]
  },
  {
   "cell_type": "code",
   "execution_count": 311,
   "id": "cdb063680d45a509",
   "metadata": {
    "ExecuteTime": {
     "end_time": "2025-08-04T23:20:16.291730Z",
     "start_time": "2025-08-04T23:20:16.289143Z"
    }
   },
   "outputs": [
    {
     "data": {
      "text/plain": [
       "(array([2, 3, 1, 4]), array([1, 2, 0, 3]))"
      ]
     },
     "execution_count": 311,
     "metadata": {},
     "output_type": "execute_result"
    }
   ],
   "source": [
    "test1 = np.array([2, 3, 1, 4])\n",
    "test2 = np.argsort(np.argsort(test1))\n",
    "test1, test2"
   ]
  },
  {
   "cell_type": "code",
   "execution_count": 312,
   "id": "5500e718da7d375a",
   "metadata": {
    "ExecuteTime": {
     "end_time": "2025-08-04T23:20:16.344733Z",
     "start_time": "2025-08-04T23:20:16.341609Z"
    }
   },
   "outputs": [
    {
     "name": "stdout",
     "output_type": "stream",
     "text": [
      "2\n"
     ]
    }
   ],
   "source": [
    "print(np.argmin(test1))"
   ]
  },
  {
   "cell_type": "code",
   "execution_count": 313,
   "id": "4bafc2f706e1bc2c",
   "metadata": {
    "ExecuteTime": {
     "end_time": "2025-08-04T23:20:16.383973Z",
     "start_time": "2025-08-04T23:20:16.380709Z"
    }
   },
   "outputs": [
    {
     "name": "stdout",
     "output_type": "stream",
     "text": [
      "3\n"
     ]
    }
   ],
   "source": [
    "print(np.argmax(test1))"
   ]
  },
  {
   "cell_type": "code",
   "execution_count": 314,
   "id": "3d0c6306518ece1e",
   "metadata": {
    "ExecuteTime": {
     "end_time": "2025-08-04T23:20:16.410596Z",
     "start_time": "2025-08-04T23:20:16.408550Z"
    }
   },
   "outputs": [
    {
     "name": "stdout",
     "output_type": "stream",
     "text": [
      "[[0 1 9 9 0]\n",
      " [4 7 3 2 7]\n",
      " [2 0 0 4 5]]\n",
      "2\n"
     ]
    }
   ],
   "source": [
    "print(rand_array)\n",
    "print(np.argmax(rand_array))"
   ]
  },
  {
   "cell_type": "code",
   "execution_count": 315,
   "id": "f43eb0fe7e2575b9",
   "metadata": {
    "ExecuteTime": {
     "end_time": "2025-08-04T23:20:16.433105Z",
     "start_time": "2025-08-04T23:20:16.430987Z"
    }
   },
   "outputs": [
    {
     "name": "stdout",
     "output_type": "stream",
     "text": [
      "[[0 1 9 9 0]\n",
      " [4 7 3 2 7]\n",
      " [2 0 0 4 5]]\n",
      "[0 3 1]\n"
     ]
    }
   ],
   "source": [
    "print(rand_array)\n",
    "print(np.argmin(rand_array, axis = 1))"
   ]
  },
  {
   "cell_type": "code",
   "execution_count": 316,
   "id": "a708e5661755d212",
   "metadata": {
    "ExecuteTime": {
     "end_time": "2025-08-04T23:20:16.452769Z",
     "start_time": "2025-08-04T23:20:16.450784Z"
    }
   },
   "outputs": [
    {
     "name": "stdout",
     "output_type": "stream",
     "text": [
      "[[0 1 9 9 0]\n",
      " [4 7 3 2 7]\n",
      " [2 0 0 4 5]]\n",
      "[0 2 2 1 0]\n"
     ]
    }
   ],
   "source": [
    "print(rand_array)\n",
    "print(np.argmin(rand_array, axis = 0))"
   ]
  },
  {
   "cell_type": "code",
   "execution_count": 317,
   "id": "cd72455be5f5687f",
   "metadata": {
    "ExecuteTime": {
     "end_time": "2025-08-04T23:54:29.175588Z",
     "start_time": "2025-08-04T23:54:29.169055Z"
    }
   },
   "outputs": [],
   "source": [
    "# AXIS 0 = columns\n",
    "# AXIS 1 = rows"
   ]
  },
  {
   "cell_type": "markdown",
   "id": "4e7fced0a7586bbc",
   "metadata": {},
   "source": [
    "## Reading an image into a numpy array"
   ]
  },
  {
   "cell_type": "markdown",
   "id": "a1edad8276d1bfea",
   "metadata": {},
   "source": [
    "<img src=\"panda.png\"/>"
   ]
  },
  {
   "cell_type": "code",
   "execution_count": 324,
   "id": "ee0a2449f73b5444",
   "metadata": {
    "ExecuteTime": {
     "end_time": "2025-08-05T00:00:31.120412Z",
     "start_time": "2025-08-05T00:00:30.992680Z"
    }
   },
   "outputs": [
    {
     "name": "stdout",
     "output_type": "stream",
     "text": [
      "<class 'numpy.ndarray'>\n"
     ]
    }
   ],
   "source": [
    "from matplotlib.image import imread\n",
    "panda = imread('panda.png')\n",
    "print(type(panda))"
   ]
  },
  {
   "cell_type": "code",
   "execution_count": 325,
   "id": "b3ddb12365222461",
   "metadata": {
    "ExecuteTime": {
     "end_time": "2025-08-05T00:02:43.889358Z",
     "start_time": "2025-08-05T00:02:43.883149Z"
    }
   },
   "outputs": [
    {
     "data": {
      "text/plain": [
       "24465000"
      ]
     },
     "execution_count": 325,
     "metadata": {},
     "output_type": "execute_result"
    }
   ],
   "source": [
    "panda.size"
   ]
  },
  {
   "cell_type": "code",
   "execution_count": 326,
   "id": "f764d4d6e25dcc38",
   "metadata": {
    "ExecuteTime": {
     "end_time": "2025-08-05T00:02:48.242208Z",
     "start_time": "2025-08-05T00:02:48.239008Z"
    }
   },
   "outputs": [
    {
     "data": {
      "text/plain": [
       "(2330, 3500, 3)"
      ]
     },
     "execution_count": 326,
     "metadata": {},
     "output_type": "execute_result"
    }
   ],
   "source": [
    "panda.shape"
   ]
  },
  {
   "cell_type": "code",
   "execution_count": 327,
   "id": "4b072117d3ce4427",
   "metadata": {
    "ExecuteTime": {
     "end_time": "2025-08-05T00:02:52.674135Z",
     "start_time": "2025-08-05T00:02:52.671666Z"
    }
   },
   "outputs": [
    {
     "data": {
      "text/plain": [
       "3"
      ]
     },
     "execution_count": 327,
     "metadata": {},
     "output_type": "execute_result"
    }
   ],
   "source": [
    "panda.ndim"
   ]
  },
  {
   "cell_type": "code",
   "execution_count": 330,
   "id": "3ff9f258eb902a46",
   "metadata": {
    "ExecuteTime": {
     "end_time": "2025-08-05T00:04:44.273649Z",
     "start_time": "2025-08-05T00:04:44.267825Z"
    }
   },
   "outputs": [
    {
     "data": {
      "text/plain": [
       "array([[[0.05490196, 0.10588235, 0.06666667],\n",
       "        [0.05490196, 0.10588235, 0.06666667],\n",
       "        [0.05490196, 0.10588235, 0.06666667],\n",
       "        ...,\n",
       "        [0.16470589, 0.12941177, 0.09411765],\n",
       "        [0.16470589, 0.12941177, 0.09411765],\n",
       "        [0.16470589, 0.12941177, 0.09411765]]], dtype=float32)"
      ]
     },
     "execution_count": 330,
     "metadata": {},
     "output_type": "execute_result"
    }
   ],
   "source": [
    "panda[:1]"
   ]
  },
  {
   "cell_type": "code",
   "execution_count": 337,
   "id": "cb05cd825445a7f6",
   "metadata": {
    "ExecuteTime": {
     "end_time": "2025-08-05T04:33:55.614914Z",
     "start_time": "2025-08-05T04:33:55.604383Z"
    }
   },
   "outputs": [
    {
     "name": "stdout",
     "output_type": "stream",
     "text": [
      "<class 'numpy.ndarray'>\n"
     ]
    },
    {
     "data": {
      "text/plain": [
       "(200, 200, 4)"
      ]
     },
     "execution_count": 337,
     "metadata": {},
     "output_type": "execute_result"
    }
   ],
   "source": [
    "simple_photo = imread('red.png')\n",
    "print(type(simple_photo))\n",
    "simple_photo.shape"
   ]
  },
  {
   "cell_type": "code",
   "execution_count": 338,
   "id": "aa93fcbcdbe74638",
   "metadata": {
    "ExecuteTime": {
     "end_time": "2025-08-05T04:33:56.500361Z",
     "start_time": "2025-08-05T04:33:56.496868Z"
    }
   },
   "outputs": [
    {
     "data": {
      "text/plain": [
       "3"
      ]
     },
     "execution_count": 338,
     "metadata": {},
     "output_type": "execute_result"
    }
   ],
   "source": [
    "simple_photo.ndim"
   ]
  },
  {
   "cell_type": "code",
   "execution_count": 340,
   "id": "c6085c82f6cbcbc1",
   "metadata": {
    "ExecuteTime": {
     "end_time": "2025-08-05T04:34:08.651701Z",
     "start_time": "2025-08-05T04:34:08.647629Z"
    }
   },
   "outputs": [
    {
     "data": {
      "text/plain": [
       "array([[[0.9843137 , 0.00784314, 0.02745098, 1.        ],\n",
       "        [0.9843137 , 0.00784314, 0.02745098, 1.        ],\n",
       "        [0.9843137 , 0.00784314, 0.02745098, 1.        ],\n",
       "        ...,\n",
       "        [0.9843137 , 0.00784314, 0.02745098, 1.        ],\n",
       "        [0.9843137 , 0.00784314, 0.02745098, 1.        ],\n",
       "        [0.9843137 , 0.00784314, 0.02745098, 1.        ]],\n",
       "\n",
       "       [[0.9843137 , 0.00784314, 0.02745098, 1.        ],\n",
       "        [0.9843137 , 0.00784314, 0.02745098, 1.        ],\n",
       "        [0.9843137 , 0.00784314, 0.02745098, 1.        ],\n",
       "        ...,\n",
       "        [0.9843137 , 0.00784314, 0.02745098, 1.        ],\n",
       "        [0.9843137 , 0.00784314, 0.02745098, 1.        ],\n",
       "        [0.9843137 , 0.00784314, 0.02745098, 1.        ]],\n",
       "\n",
       "       [[0.9843137 , 0.00784314, 0.02745098, 1.        ],\n",
       "        [0.9843137 , 0.00784314, 0.02745098, 1.        ],\n",
       "        [0.9843137 , 0.00784314, 0.02745098, 1.        ],\n",
       "        ...,\n",
       "        [0.9843137 , 0.00784314, 0.02745098, 1.        ],\n",
       "        [0.9843137 , 0.00784314, 0.02745098, 1.        ],\n",
       "        [0.9843137 , 0.00784314, 0.02745098, 1.        ]],\n",
       "\n",
       "       [[0.9843137 , 0.00784314, 0.02745098, 1.        ],\n",
       "        [0.9843137 , 0.00784314, 0.02745098, 1.        ],\n",
       "        [0.9843137 , 0.00784314, 0.02745098, 1.        ],\n",
       "        ...,\n",
       "        [0.9843137 , 0.00784314, 0.02745098, 1.        ],\n",
       "        [0.9843137 , 0.00784314, 0.02745098, 1.        ],\n",
       "        [0.9843137 , 0.00784314, 0.02745098, 1.        ]]], dtype=float32)"
      ]
     },
     "execution_count": 340,
     "metadata": {},
     "output_type": "execute_result"
    }
   ],
   "source": [
    "simple_photo[:4]"
   ]
  },
  {
   "cell_type": "markdown",
   "id": "9552aae8613802b8",
   "metadata": {},
   "source": [
    "<img src=\"red.png\"/>"
   ]
  },
  {
   "cell_type": "code",
   "execution_count": null,
   "id": "1b402143e3ae5675",
   "metadata": {},
   "outputs": [],
   "source": []
  }
 ],
 "metadata": {
  "kernelspec": {
   "display_name": "Python 3 (ipykernel)",
   "language": "python",
   "name": "python3"
  },
  "language_info": {
   "codemirror_mode": {
    "name": "ipython",
    "version": 3
   },
   "file_extension": ".py",
   "mimetype": "text/x-python",
   "name": "python",
   "nbconvert_exporter": "python",
   "pygments_lexer": "ipython3",
   "version": "3.9.6"
  }
 },
 "nbformat": 4,
 "nbformat_minor": 5
}
