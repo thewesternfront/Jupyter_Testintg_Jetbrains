{
 "cells": [
  {
   "cell_type": "code",
   "execution_count": 515,
   "id": "befd2d4c-270f-4452-be9b-3e5d722f6fb3",
   "metadata": {
    "ExecuteTime": {
     "end_time": "2025-07-31T23:13:03.243584Z",
     "start_time": "2025-07-31T23:13:03.241298Z"
    }
   },
   "outputs": [],
   "source": [
    "import numpy as np"
   ]
  },
  {
   "cell_type": "markdown",
   "id": "a1f7551a-ee77-471e-890c-daf9504c9d1c",
   "metadata": {},
   "source": [
    "## Data Types and Attributes"
   ]
  },
  {
   "cell_type": "code",
   "execution_count": 516,
   "id": "d8b0e988-0ef5-456b-9afb-6277062b36f9",
   "metadata": {
    "ExecuteTime": {
     "end_time": "2025-07-31T23:13:03.257208Z",
     "start_time": "2025-07-31T23:13:03.254468Z"
    }
   },
   "outputs": [
    {
     "data": {
      "text/plain": [
       "numpy.ndarray"
      ]
     },
     "execution_count": 516,
     "metadata": {},
     "output_type": "execute_result"
    }
   ],
   "source": [
    "a1 = np.array([1, 2, 3])\n",
    "type(a1)"
   ]
  },
  {
   "cell_type": "markdown",
   "id": "87d5c7288cb54dc7",
   "metadata": {},
   "source": [
    "![](IMG_3155.jpg)"
   ]
  },
  {
   "cell_type": "code",
   "execution_count": 517,
   "id": "cfd66601-6ae3-4b52-93e8-9d77d027e2fd",
   "metadata": {
    "ExecuteTime": {
     "end_time": "2025-07-31T23:13:03.284483Z",
     "start_time": "2025-07-31T23:13:03.282124Z"
    }
   },
   "outputs": [],
   "source": [
    "# 2x3\n",
    "a2 = np.array([[1, 2.0, 3.0],\n",
    "       [4, 5, 6.5]])\n",
    "\n",
    "# 3x3x2 n-dimensional array?\n",
    "a3 = np.array([[[1, 2, 3],\n",
    "        [4, 5, 6],\n",
    "        [7, 8, 9]],\n",
    "       [[10, 11, 12],\n",
    "        [13, 14, 15],\n",
    "        [16, 17, 18]]])"
   ]
  },
  {
   "cell_type": "code",
   "execution_count": 518,
   "id": "749a9ededb8b162d",
   "metadata": {
    "ExecuteTime": {
     "end_time": "2025-07-31T23:13:03.302648Z",
     "start_time": "2025-07-31T23:13:03.300373Z"
    }
   },
   "outputs": [
    {
     "data": {
      "text/plain": [
       "array([[1. , 2. , 3. ],\n",
       "       [4. , 5. , 6.5]])"
      ]
     },
     "execution_count": 518,
     "metadata": {},
     "output_type": "execute_result"
    }
   ],
   "source": [
    "a2"
   ]
  },
  {
   "cell_type": "code",
   "execution_count": 519,
   "id": "12074c463fc5b5a3",
   "metadata": {
    "ExecuteTime": {
     "end_time": "2025-07-31T23:13:03.357464Z",
     "start_time": "2025-07-31T23:13:03.353772Z"
    }
   },
   "outputs": [
    {
     "data": {
      "text/plain": [
       "array([[[ 1,  2,  3],\n",
       "        [ 4,  5,  6],\n",
       "        [ 7,  8,  9]],\n",
       "\n",
       "       [[10, 11, 12],\n",
       "        [13, 14, 15],\n",
       "        [16, 17, 18]]])"
      ]
     },
     "execution_count": 519,
     "metadata": {},
     "output_type": "execute_result"
    }
   ],
   "source": [
    "a3"
   ]
  },
  {
   "cell_type": "code",
   "execution_count": 520,
   "id": "cd35a1729ecbcb01",
   "metadata": {
    "ExecuteTime": {
     "end_time": "2025-07-31T23:13:03.402866Z",
     "start_time": "2025-07-31T23:13:03.400438Z"
    }
   },
   "outputs": [
    {
     "data": {
      "text/plain": [
       "(3,)"
      ]
     },
     "execution_count": 520,
     "metadata": {},
     "output_type": "execute_result"
    }
   ],
   "source": [
    "a1.shape"
   ]
  },
  {
   "cell_type": "code",
   "execution_count": 521,
   "id": "ef81f094a6a829b6",
   "metadata": {
    "ExecuteTime": {
     "end_time": "2025-07-31T23:13:03.438492Z",
     "start_time": "2025-07-31T23:13:03.436123Z"
    }
   },
   "outputs": [
    {
     "data": {
      "text/plain": [
       "(2, 3)"
      ]
     },
     "execution_count": 521,
     "metadata": {},
     "output_type": "execute_result"
    }
   ],
   "source": [
    "a2.shape"
   ]
  },
  {
   "cell_type": "code",
   "execution_count": 522,
   "id": "464249299b8975a2",
   "metadata": {
    "ExecuteTime": {
     "end_time": "2025-07-31T23:13:03.464720Z",
     "start_time": "2025-07-31T23:13:03.462644Z"
    }
   },
   "outputs": [
    {
     "data": {
      "text/plain": [
       "(2, 3, 3)"
      ]
     },
     "execution_count": 522,
     "metadata": {},
     "output_type": "execute_result"
    }
   ],
   "source": [
    "a3.shape"
   ]
  },
  {
   "cell_type": "code",
   "execution_count": 523,
   "id": "b02fd051350b0e09",
   "metadata": {
    "ExecuteTime": {
     "end_time": "2025-07-31T23:13:03.482832Z",
     "start_time": "2025-07-31T23:13:03.480594Z"
    }
   },
   "outputs": [
    {
     "data": {
      "text/plain": [
       "(1, 2, 3)"
      ]
     },
     "execution_count": 523,
     "metadata": {},
     "output_type": "execute_result"
    }
   ],
   "source": [
    "# show the dimensions of hte n-dim arrays\n",
    "a1.ndim, a2.ndim, a3.ndim"
   ]
  },
  {
   "cell_type": "code",
   "execution_count": 524,
   "id": "da8007bcbcafb19b",
   "metadata": {
    "ExecuteTime": {
     "end_time": "2025-07-31T23:13:03.504477Z",
     "start_time": "2025-07-31T23:13:03.502156Z"
    }
   },
   "outputs": [
    {
     "data": {
      "text/plain": [
       "(dtype('int64'), dtype('float64'), dtype('int64'))"
      ]
     },
     "execution_count": 524,
     "metadata": {},
     "output_type": "execute_result"
    }
   ],
   "source": [
    "# Look at the data types dtype\n",
    "a1.dtype, a2.dtype, a3.dtype"
   ]
  },
  {
   "cell_type": "code",
   "execution_count": 525,
   "id": "e52407dbe2eb78f4",
   "metadata": {
    "ExecuteTime": {
     "end_time": "2025-07-31T23:13:03.524224Z",
     "start_time": "2025-07-31T23:13:03.522555Z"
    }
   },
   "outputs": [
    {
     "name": "stdout",
     "output_type": "stream",
     "text": [
      "5.0\n"
     ]
    }
   ],
   "source": [
    "print(a2[1][1])"
   ]
  },
  {
   "cell_type": "code",
   "execution_count": 526,
   "id": "e5074f41b8cc5b7",
   "metadata": {
    "ExecuteTime": {
     "end_time": "2025-07-31T23:13:03.552090Z",
     "start_time": "2025-07-31T23:13:03.549899Z"
    }
   },
   "outputs": [
    {
     "data": {
      "text/plain": [
       "(3, 6, 18)"
      ]
     },
     "execution_count": 526,
     "metadata": {},
     "output_type": "execute_result"
    }
   ],
   "source": [
    "# Show Sizes (number of elements in each n-dim array)\n",
    "a1.size, a2.size, a3.size"
   ]
  },
  {
   "cell_type": "code",
   "execution_count": 527,
   "id": "ac83e8c3e08338d9",
   "metadata": {
    "ExecuteTime": {
     "end_time": "2025-07-31T23:13:03.574760Z",
     "start_time": "2025-07-31T23:13:03.572451Z"
    }
   },
   "outputs": [
    {
     "data": {
      "text/plain": [
       "(numpy.ndarray, numpy.ndarray, numpy.ndarray)"
      ]
     },
     "execution_count": 527,
     "metadata": {},
     "output_type": "execute_result"
    }
   ],
   "source": [
    "type(a1), type(a2), type(a3)"
   ]
  },
  {
   "cell_type": "markdown",
   "id": "daec920fd550c8f1",
   "metadata": {},
   "source": [
    "## Create a Data Frame (pandas) from a Numpy Array (numpy)"
   ]
  },
  {
   "cell_type": "code",
   "execution_count": 528,
   "id": "610518fdf3f71f56",
   "metadata": {
    "ExecuteTime": {
     "end_time": "2025-07-31T23:13:03.595647Z",
     "start_time": "2025-07-31T23:13:03.593726Z"
    }
   },
   "outputs": [],
   "source": [
    "import pandas as pd\n",
    "df = pd.DataFrame(a2)"
   ]
  },
  {
   "cell_type": "code",
   "execution_count": 529,
   "id": "7dfdaa3ed1d3f708",
   "metadata": {
    "ExecuteTime": {
     "end_time": "2025-07-31T23:13:03.609634Z",
     "start_time": "2025-07-31T23:13:03.606502Z"
    }
   },
   "outputs": [
    {
     "data": {
      "text/html": [
       "<div>\n",
       "<style scoped>\n",
       "    .dataframe tbody tr th:only-of-type {\n",
       "        vertical-align: middle;\n",
       "    }\n",
       "\n",
       "    .dataframe tbody tr th {\n",
       "        vertical-align: top;\n",
       "    }\n",
       "\n",
       "    .dataframe thead th {\n",
       "        text-align: right;\n",
       "    }\n",
       "</style>\n",
       "<table border=\"1\" class=\"dataframe\">\n",
       "  <thead>\n",
       "    <tr style=\"text-align: right;\">\n",
       "      <th></th>\n",
       "      <th>0</th>\n",
       "      <th>1</th>\n",
       "      <th>2</th>\n",
       "    </tr>\n",
       "  </thead>\n",
       "  <tbody>\n",
       "    <tr>\n",
       "      <th>0</th>\n",
       "      <td>1.0</td>\n",
       "      <td>2.0</td>\n",
       "      <td>3.0</td>\n",
       "    </tr>\n",
       "    <tr>\n",
       "      <th>1</th>\n",
       "      <td>4.0</td>\n",
       "      <td>5.0</td>\n",
       "      <td>6.5</td>\n",
       "    </tr>\n",
       "  </tbody>\n",
       "</table>\n",
       "</div>"
      ],
      "text/plain": [
       "     0    1    2\n",
       "0  1.0  2.0  3.0\n",
       "1  4.0  5.0  6.5"
      ]
     },
     "execution_count": 529,
     "metadata": {},
     "output_type": "execute_result"
    }
   ],
   "source": [
    "df"
   ]
  },
  {
   "cell_type": "code",
   "execution_count": 530,
   "id": "1d22360ad4644488",
   "metadata": {
    "ExecuteTime": {
     "end_time": "2025-07-31T23:13:03.693846Z",
     "start_time": "2025-07-31T23:13:03.691714Z"
    }
   },
   "outputs": [
    {
     "data": {
      "text/plain": [
       "np.float64(6.5)"
      ]
     },
     "execution_count": 530,
     "metadata": {},
     "output_type": "execute_result"
    }
   ],
   "source": [
    "df[2][1]"
   ]
  },
  {
   "cell_type": "markdown",
   "id": "c7d1e9da2ae84384",
   "metadata": {},
   "source": [
    "## Machine Learning is = finding patterns in Numpy Arrays"
   ]
  },
  {
   "cell_type": "markdown",
   "id": "8d282187f3aab483",
   "metadata": {},
   "source": [
    "## Creating Arrays"
   ]
  },
  {
   "cell_type": "code",
   "execution_count": 531,
   "id": "18d0b7914d7e1442",
   "metadata": {
    "ExecuteTime": {
     "end_time": "2025-07-31T23:13:03.728449Z",
     "start_time": "2025-07-31T23:13:03.725582Z"
    }
   },
   "outputs": [
    {
     "name": "stdout",
     "output_type": "stream",
     "text": [
      "the type is: \n"
     ]
    },
    {
     "data": {
      "text/plain": [
       "numpy.ndarray"
      ]
     },
     "execution_count": 531,
     "metadata": {},
     "output_type": "execute_result"
    }
   ],
   "source": [
    "import numpy as np\n",
    "sample_array = np.array([1, 2, 3])\n",
    "print(\"the type is: \")\n",
    "type(sample_array)"
   ]
  },
  {
   "cell_type": "code",
   "execution_count": 532,
   "id": "ffbd07cf6d8e74bb",
   "metadata": {
    "ExecuteTime": {
     "end_time": "2025-07-31T23:13:03.753263Z",
     "start_time": "2025-07-31T23:13:03.750954Z"
    }
   },
   "outputs": [
    {
     "name": "stdout",
     "output_type": "stream",
     "text": [
      "the data type is: \n"
     ]
    },
    {
     "data": {
      "text/plain": [
       "dtype('int64')"
      ]
     },
     "execution_count": 532,
     "metadata": {},
     "output_type": "execute_result"
    }
   ],
   "source": [
    "print(\"the data type is: \")\n",
    "sample_array.dtype"
   ]
  },
  {
   "cell_type": "code",
   "execution_count": 533,
   "id": "98550f15c358f64c",
   "metadata": {
    "ExecuteTime": {
     "end_time": "2025-07-31T23:13:03.784666Z",
     "start_time": "2025-07-31T23:13:03.782546Z"
    }
   },
   "outputs": [
    {
     "data": {
      "text/plain": [
       "array([[1., 1., 1., 1.],\n",
       "       [1., 1., 1., 1.],\n",
       "       [1., 1., 1., 1.],\n",
       "       [1., 1., 1., 1.]])"
      ]
     },
     "execution_count": 533,
     "metadata": {},
     "output_type": "execute_result"
    }
   ],
   "source": [
    "# 4x4 array filled with ones\n",
    "ashape = (4, 4)\n",
    "ones = np.ones(ashape)\n",
    "ones"
   ]
  },
  {
   "cell_type": "code",
   "execution_count": 534,
   "id": "c078a25b9e0ebb9b",
   "metadata": {
    "ExecuteTime": {
     "end_time": "2025-07-31T23:13:03.832021Z",
     "start_time": "2025-07-31T23:13:03.829676Z"
    }
   },
   "outputs": [
    {
     "data": {
      "text/plain": [
       "dtype('float64')"
      ]
     },
     "execution_count": 534,
     "metadata": {},
     "output_type": "execute_result"
    }
   ],
   "source": [
    "ones.dtype"
   ]
  },
  {
   "cell_type": "code",
   "execution_count": 535,
   "id": "6c22e5de7665d85f",
   "metadata": {
    "ExecuteTime": {
     "end_time": "2025-07-31T23:13:03.873096Z",
     "start_time": "2025-07-31T23:13:03.870522Z"
    }
   },
   "outputs": [
    {
     "data": {
      "text/plain": [
       "numpy.ndarray"
      ]
     },
     "execution_count": 535,
     "metadata": {},
     "output_type": "execute_result"
    }
   ],
   "source": [
    "type(ones)"
   ]
  },
  {
   "cell_type": "code",
   "execution_count": 536,
   "id": "35ac8c5a8391e03",
   "metadata": {
    "ExecuteTime": {
     "end_time": "2025-07-31T23:13:03.901182Z",
     "start_time": "2025-07-31T23:13:03.899079Z"
    }
   },
   "outputs": [
    {
     "data": {
      "text/plain": [
       "array([[0., 0., 0., 0.],\n",
       "       [0., 0., 0., 0.],\n",
       "       [0., 0., 0., 0.],\n",
       "       [0., 0., 0., 0.]])"
      ]
     },
     "execution_count": 536,
     "metadata": {},
     "output_type": "execute_result"
    }
   ],
   "source": [
    "# 4x4 array filled with zeros\n",
    "zeros = np.zeros(ashape)\n",
    "zeros"
   ]
  },
  {
   "cell_type": "code",
   "execution_count": 537,
   "id": "6933825aea4fcd2",
   "metadata": {
    "ExecuteTime": {
     "end_time": "2025-07-31T23:13:03.957881Z",
     "start_time": "2025-07-31T23:13:03.955076Z"
    }
   },
   "outputs": [
    {
     "data": {
      "text/plain": [
       "array([ 0,  5, 10, 15, 20, 25, 30, 35, 40, 45, 50, 55, 60, 65, 70, 75, 80,\n",
       "       85, 90, 95])"
      ]
     },
     "execution_count": 537,
     "metadata": {},
     "output_type": "execute_result"
    }
   ],
   "source": [
    "# Create array from 0 to 100 - noninclusive - and increment value 5 steps...\n",
    "range_array = np.arange(0, 100, 5, dtype=int)\n",
    "range_array"
   ]
  },
  {
   "cell_type": "code",
   "execution_count": 538,
   "id": "56d035cd411bb5a",
   "metadata": {
    "ExecuteTime": {
     "end_time": "2025-07-31T23:13:03.998115Z",
     "start_time": "2025-07-31T23:13:03.994597Z"
    }
   },
   "outputs": [
    {
     "data": {
      "text/plain": [
       "array([[2, 3, 8, 1],\n",
       "       [3, 3, 3, 7],\n",
       "       [0, 1, 9, 9],\n",
       "       [0, 4, 7, 3]])"
      ]
     },
     "execution_count": 538,
     "metadata": {},
     "output_type": "execute_result"
    }
   ],
   "source": [
    "# Random Array with value ranging from 0 to 10 and make it 2-D per (ashape = (4, 4))\n",
    "random_array = np.random.randint(0, 10, size=ashape)\n",
    "random_array"
   ]
  },
  {
   "cell_type": "code",
   "execution_count": 539,
   "id": "54803d2c8e3d7792",
   "metadata": {
    "ExecuteTime": {
     "end_time": "2025-07-31T23:13:04.049334Z",
     "start_time": "2025-07-31T23:13:04.046583Z"
    }
   },
   "outputs": [
    {
     "data": {
      "text/plain": [
       "dtype('int64')"
      ]
     },
     "execution_count": 539,
     "metadata": {},
     "output_type": "execute_result"
    }
   ],
   "source": [
    "# show size nd shape of hte ransom array\n",
    "random_array.dtype"
   ]
  },
  {
   "cell_type": "code",
   "execution_count": 540,
   "id": "8fa29e2b3acef325",
   "metadata": {
    "ExecuteTime": {
     "end_time": "2025-07-31T23:13:04.090440Z",
     "start_time": "2025-07-31T23:13:04.087906Z"
    }
   },
   "outputs": [
    {
     "data": {
      "text/plain": [
       "(4, 4)"
      ]
     },
     "execution_count": 540,
     "metadata": {},
     "output_type": "execute_result"
    }
   ],
   "source": [
    "random_array.shape"
   ]
  },
  {
   "cell_type": "code",
   "execution_count": 541,
   "id": "7a0fc7b8d102e3ea",
   "metadata": {
    "ExecuteTime": {
     "end_time": "2025-07-31T23:13:04.112960Z",
     "start_time": "2025-07-31T23:13:04.110831Z"
    }
   },
   "outputs": [
    {
     "data": {
      "text/plain": [
       "16"
      ]
     },
     "execution_count": 541,
     "metadata": {},
     "output_type": "execute_result"
    }
   ],
   "source": [
    "random_array.size"
   ]
  },
  {
   "cell_type": "code",
   "execution_count": 542,
   "id": "7fffe2ceda95410b",
   "metadata": {
    "ExecuteTime": {
     "end_time": "2025-07-31T23:13:04.139470Z",
     "start_time": "2025-07-31T23:13:04.136684Z"
    }
   },
   "outputs": [
    {
     "data": {
      "text/plain": [
       "array([[0.18633234, 0.73691818, 0.21655035, 0.13521817, 0.32414101,\n",
       "        0.14967487, 0.22232139, 0.38648898],\n",
       "       [0.90259848, 0.44994999, 0.61306346, 0.90234858, 0.09928035,\n",
       "        0.96980907, 0.65314004, 0.17090959],\n",
       "       [0.35815217, 0.75068614, 0.60783067, 0.32504723, 0.03842543,\n",
       "        0.63427406, 0.95894927, 0.65279032],\n",
       "       [0.63505887, 0.99529957, 0.58185033, 0.41436859, 0.4746975 ,\n",
       "        0.6235101 , 0.33800761, 0.67475232],\n",
       "       [0.31720174, 0.77834548, 0.94957105, 0.66252687, 0.01357164,\n",
       "        0.6228461 , 0.67365963, 0.971945  ],\n",
       "       [0.87819347, 0.50962438, 0.05571469, 0.45115921, 0.01998767,\n",
       "        0.44171092, 0.97958673, 0.35944446],\n",
       "       [0.48089353, 0.68866118, 0.88047589, 0.91823547, 0.21682214,\n",
       "        0.56518887, 0.86510256, 0.50896896],\n",
       "       [0.91672295, 0.92115761, 0.08311249, 0.27771856, 0.0093567 ,\n",
       "        0.84234208, 0.64717414, 0.84138612]])"
      ]
     },
     "execution_count": 542,
     "metadata": {},
     "output_type": "execute_result"
    }
   ],
   "source": [
    "# random.random will return random floats between 0 and 1 ... I can multiply them all by 100\n",
    "randarray = np.random.random((8, 8))\n",
    "randarray"
   ]
  },
  {
   "cell_type": "code",
   "execution_count": 543,
   "id": "61894e1e9c486f00",
   "metadata": {
    "ExecuteTime": {
     "end_time": "2025-07-31T23:13:04.200974Z",
     "start_time": "2025-07-31T23:13:04.198058Z"
    }
   },
   "outputs": [
    {
     "data": {
      "text/plain": [
       "array([[18.63323433, 73.69181771, 21.65503544, 13.52181734, 32.41410078,\n",
       "        14.96748672, 22.23213883, 38.64889811],\n",
       "       [90.25984755, 44.99499899, 61.30634579, 90.23485832,  9.92803504,\n",
       "        96.98090677, 65.31400358, 17.09095851],\n",
       "       [35.8152167 , 75.06861412, 60.78306687, 32.5047229 ,  3.84254265,\n",
       "        63.4274058 , 95.89492686, 65.2790317 ],\n",
       "       [63.50588736, 99.52995677, 58.18503294, 41.43685882, 47.46975023,\n",
       "        62.35101011, 33.80076148, 67.47523223],\n",
       "       [31.72017421, 77.8345482 , 94.95710535, 66.2526867 ,  1.35716356,\n",
       "        62.28460955, 67.36596308, 97.19450025],\n",
       "       [87.81934713, 50.96243767,  5.57146937, 45.11592145,  1.99876654,\n",
       "        44.17109212, 97.95867288, 35.9444464 ],\n",
       "       [48.08935308, 68.86611828, 88.04758893, 91.82354664, 21.68221376,\n",
       "        56.51888666, 86.51025613, 50.89689607],\n",
       "       [91.6722954 , 92.11576102,  8.31124926, 27.77185613,  0.93567049,\n",
       "        84.23420797, 64.71741402, 84.13861192]])"
      ]
     },
     "execution_count": 543,
     "metadata": {},
     "output_type": "execute_result"
    }
   ],
   "source": [
    "# Quick way to multiply ALL elements in this 2-D array by a constant (100)\n",
    "randarray100 = randarray * 100\n",
    "randarray100"
   ]
  },
  {
   "cell_type": "markdown",
   "id": "53db77e09e780c3d",
   "metadata": {},
   "source": [
    "## Pseudo random numbers are generated ... look into using a seed\n",
    "seed(seed=None)\n",
    "\n",
    "\n",
    "Reseed a legacy MT19937 BitGenerator\n",
    "This is a convenience, legacy function.\n",
    "The best practice is to not reseed a BitGenerator, rather to recreate a new one. This method is here for legacy reasons. This example demonstrates best practice.\n",
    ">>> from numpy.random import MT19937\n",
    ">>> from numpy.random import RandomState, SeedSequence\n",
    ">>> rs = RandomState(MT19937(SeedSequence(123456789)))\n",
    "### Later, you want to restart the stream\n",
    ">>> rs = RandomState(MT19937(SeedSequence(987654321)))"
   ]
  },
  {
   "cell_type": "code",
   "execution_count": 544,
   "id": "119e2f3e222fee75",
   "metadata": {
    "ExecuteTime": {
     "end_time": "2025-07-31T23:13:04.281908Z",
     "start_time": "2025-07-31T23:13:04.279283Z"
    }
   },
   "outputs": [
    {
     "data": {
      "text/plain": [
       "array([[18.63323433, 73.69181771, 21.65503544, 13.52181734, 32.41410078,\n",
       "        14.96748672, 22.23213883, 38.64889811],\n",
       "       [90.25984755, 44.99499899, 61.30634579, 90.23485832,  9.92803504,\n",
       "        96.98090677, 65.31400358, 17.09095851],\n",
       "       [35.8152167 , 75.06861412, 60.78306687, 32.5047229 ,  3.84254265,\n",
       "        63.4274058 , 95.89492686, 65.2790317 ],\n",
       "       [63.50588736, 99.52995677, 58.18503294, 41.43685882, 47.46975023,\n",
       "        62.35101011, 33.80076148, 67.47523223],\n",
       "       [31.72017421, 77.8345482 , 94.95710535, 66.2526867 ,  1.35716356,\n",
       "        62.28460955, 67.36596308, 97.19450025],\n",
       "       [87.81934713, 50.96243767,  5.57146937, 45.11592145,  1.99876654,\n",
       "        44.17109212, 97.95867288, 35.9444464 ],\n",
       "       [48.08935308, 68.86611828, 88.04758893, 91.82354664, 21.68221376,\n",
       "        56.51888666, 86.51025613, 50.89689607],\n",
       "       [91.6722954 , 92.11576102,  8.31124926, 27.77185613,  0.93567049,\n",
       "        84.23420797, 64.71741402, 84.13861192]])"
      ]
     },
     "execution_count": 544,
     "metadata": {},
     "output_type": "execute_result"
    }
   ],
   "source": [
    "np.random.seed()\n",
    "randarray100"
   ]
  },
  {
   "cell_type": "code",
   "execution_count": 545,
   "id": "724282ad8565d907",
   "metadata": {
    "ExecuteTime": {
     "end_time": "2025-07-31T23:13:04.365037Z",
     "start_time": "2025-07-31T23:13:04.361901Z"
    }
   },
   "outputs": [
    {
     "data": {
      "text/plain": [
       "array([[3, 9, 4],\n",
       "       [6, 7, 2],\n",
       "       [0, 6, 8],\n",
       "       [5, 3, 0],\n",
       "       [6, 6, 0]])"
      ]
     },
     "execution_count": 545,
     "metadata": {},
     "output_type": "execute_result"
    }
   ],
   "source": [
    "# Pseudo random numbers\n",
    "np.random.seed(seed=20)\n",
    "# These all appear as random but if you want reproducible random numbers for the sake of re-creating an issue for instance, you can use a seed()\n",
    "random_array_4 = np.random.randint(10, size=(5, 3))\n",
    "random_array_4\n"
   ]
  },
  {
   "cell_type": "code",
   "execution_count": 546,
   "id": "67c4fbe8e2525c28",
   "metadata": {
    "ExecuteTime": {
     "end_time": "2025-07-31T23:13:04.441789Z",
     "start_time": "2025-07-31T23:13:04.439420Z"
    }
   },
   "outputs": [],
   "source": [
    "#finding unique numbers in an array\n",
    "unique_array = np.unique([1, 2, 3, 4, 5, 1, 1, 2, 2, 44])"
   ]
  },
  {
   "cell_type": "code",
   "execution_count": 547,
   "id": "11b075dd89b6706c",
   "metadata": {
    "ExecuteTime": {
     "end_time": "2025-07-31T23:13:04.490925Z",
     "start_time": "2025-07-31T23:13:04.488458Z"
    }
   },
   "outputs": [
    {
     "data": {
      "text/plain": [
       "array([ 1,  2,  3,  4,  5, 44])"
      ]
     },
     "execution_count": 547,
     "metadata": {},
     "output_type": "execute_result"
    }
   ],
   "source": [
    "# @hen displaying these, it's important to remember that 'unique' is different than 'not a duplicate' ... this takes all numbers and return 1 vale for each, regardless of how many of that particular value are found in the array\n",
    "unique_array"
   ]
  },
  {
   "cell_type": "code",
   "execution_count": 548,
   "id": "bde33b6840b8e480",
   "metadata": {
    "ExecuteTime": {
     "end_time": "2025-07-31T23:13:04.510288Z",
     "start_time": "2025-07-31T23:13:04.508016Z"
    }
   },
   "outputs": [
    {
     "data": {
      "text/plain": [
       "array([0, 2, 3, 4, 5, 6, 7, 8, 9])"
      ]
     },
     "execution_count": 548,
     "metadata": {},
     "output_type": "execute_result"
    }
   ],
   "source": [
    "# Now try unique with the random array of integers\n",
    "unique_rand = np.unique(random_array_4)\n",
    "unique_rand"
   ]
  },
  {
   "cell_type": "code",
   "execution_count": 549,
   "id": "d6941cc8a32fbed2",
   "metadata": {
    "ExecuteTime": {
     "end_time": "2025-07-31T23:13:04.537438Z",
     "start_time": "2025-07-31T23:13:04.535180Z"
    }
   },
   "outputs": [
    {
     "data": {
      "text/plain": [
       "array([[3, 9, 4],\n",
       "       [6, 7, 2],\n",
       "       [0, 6, 8],\n",
       "       [5, 3, 0],\n",
       "       [6, 6, 0]])"
      ]
     },
     "execution_count": 549,
     "metadata": {},
     "output_type": "execute_result"
    }
   ],
   "source": [
    "random_array_4"
   ]
  },
  {
   "cell_type": "markdown",
   "id": "6142f9bf6adb7283",
   "metadata": {},
   "source": [
    "## 3. Viewing Arrays and Matrices"
   ]
  },
  {
   "cell_type": "code",
   "execution_count": 550,
   "id": "72f59db9f51fbe42",
   "metadata": {
    "ExecuteTime": {
     "end_time": "2025-07-31T23:13:04.587798Z",
     "start_time": "2025-07-31T23:13:04.585354Z"
    }
   },
   "outputs": [
    {
     "data": {
      "text/plain": [
       "array([1, 2, 3])"
      ]
     },
     "execution_count": 550,
     "metadata": {},
     "output_type": "execute_result"
    }
   ],
   "source": [
    "a1"
   ]
  },
  {
   "cell_type": "code",
   "execution_count": 551,
   "id": "10b029f1aa4ff8b7",
   "metadata": {
    "ExecuteTime": {
     "end_time": "2025-07-31T23:13:04.626063Z",
     "start_time": "2025-07-31T23:13:04.623789Z"
    }
   },
   "outputs": [
    {
     "data": {
      "text/plain": [
       "array([[1. , 2. , 3. ],\n",
       "       [4. , 5. , 6.5]])"
      ]
     },
     "execution_count": 551,
     "metadata": {},
     "output_type": "execute_result"
    }
   ],
   "source": [
    "a2"
   ]
  },
  {
   "cell_type": "code",
   "execution_count": 552,
   "id": "baead0f84ef244d7",
   "metadata": {
    "ExecuteTime": {
     "end_time": "2025-07-31T23:13:04.672009Z",
     "start_time": "2025-07-31T23:13:04.669732Z"
    }
   },
   "outputs": [
    {
     "name": "stdout",
     "output_type": "stream",
     "text": [
      "[[[ 1  2  3]\n",
      "  [ 4  5  6]\n",
      "  [ 7  8  9]]\n",
      "\n",
      " [[10 11 12]\n",
      "  [13 14 15]\n",
      "  [16 17 18]]]\n"
     ]
    },
    {
     "data": {
      "text/plain": [
       "(2, 3, 3)"
      ]
     },
     "execution_count": 552,
     "metadata": {},
     "output_type": "execute_result"
    }
   ],
   "source": [
    "print(a3) # 2x3x3\n",
    "a3.shape"
   ]
  },
  {
   "cell_type": "code",
   "execution_count": 553,
   "id": "1c3fe47d0e6e8c74",
   "metadata": {
    "ExecuteTime": {
     "end_time": "2025-07-31T23:13:04.736866Z",
     "start_time": "2025-07-31T23:13:04.735009Z"
    }
   },
   "outputs": [
    {
     "name": "stdout",
     "output_type": "stream",
     "text": [
      "Get all of the first elements\n",
      "****\n",
      "1\n",
      "****\n",
      "[1. 2. 3.]\n",
      "****\n",
      "[[1 2 3]\n",
      " [4 5 6]\n",
      " [7 8 9]]\n",
      "****\n"
     ]
    }
   ],
   "source": [
    "print(\"Get all of the first elements\")\n",
    "print(\"****\")\n",
    "print(a1[0])\n",
    "print(\"****\")\n",
    "print(a2[0])\n",
    "print(\"****\")\n",
    "print(a3[0])\n",
    "print(\"****\")"
   ]
  },
  {
   "cell_type": "code",
   "execution_count": 554,
   "id": "7b63952f123e84fa",
   "metadata": {
    "ExecuteTime": {
     "end_time": "2025-07-31T23:13:04.757425Z",
     "start_time": "2025-07-31T23:13:04.754705Z"
    }
   },
   "outputs": [
    {
     "data": {
      "text/plain": [
       "array([[[[9, 5, 7, 5, 2],\n",
       "         [6, 9, 3, 3, 9],\n",
       "         [0, 6, 2, 3, 1],\n",
       "         [8, 0, 2, 7, 6]],\n",
       "\n",
       "        [[6, 8, 2, 1, 3],\n",
       "         [2, 6, 9, 4, 6],\n",
       "         [4, 8, 6, 2, 3],\n",
       "         [1, 5, 2, 1, 8]],\n",
       "\n",
       "        [[2, 4, 4, 8, 6],\n",
       "         [0, 3, 4, 0, 5],\n",
       "         [6, 9, 7, 4, 0],\n",
       "         [6, 1, 9, 6, 7]]],\n",
       "\n",
       "\n",
       "       [[[9, 7, 6, 9, 8],\n",
       "         [8, 2, 2, 1, 5],\n",
       "         [2, 9, 7, 5, 5],\n",
       "         [9, 6, 9, 9, 5]],\n",
       "\n",
       "        [[2, 9, 6, 1, 8],\n",
       "         [1, 0, 8, 5, 0],\n",
       "         [6, 5, 4, 2, 9],\n",
       "         [9, 4, 5, 3, 9]],\n",
       "\n",
       "        [[7, 1, 2, 3, 6],\n",
       "         [5, 4, 4, 1, 8],\n",
       "         [7, 1, 9, 2, 3],\n",
       "         [4, 4, 4, 9, 0]]]])"
      ]
     },
     "execution_count": 554,
     "metadata": {},
     "output_type": "execute_result"
    }
   ],
   "source": [
    "a4 = np.random.randint(10, size=(2, 3, 4, 5))\n",
    "a4"
   ]
  },
  {
   "cell_type": "code",
   "execution_count": 555,
   "id": "d6486ea58af82871",
   "metadata": {
    "ExecuteTime": {
     "end_time": "2025-07-31T23:13:04.776126Z",
     "start_time": "2025-07-31T23:13:04.773639Z"
    }
   },
   "outputs": [
    {
     "data": {
      "text/plain": [
       "((2, 3, 4, 5), 4)"
      ]
     },
     "execution_count": 555,
     "metadata": {},
     "output_type": "execute_result"
    }
   ],
   "source": [
    "a4.shape, a4.ndim"
   ]
  },
  {
   "cell_type": "code",
   "execution_count": 556,
   "id": "a954491ff4d0b09c",
   "metadata": {
    "ExecuteTime": {
     "end_time": "2025-07-31T23:13:04.797741Z",
     "start_time": "2025-07-31T23:13:04.795654Z"
    }
   },
   "outputs": [
    {
     "data": {
      "text/plain": [
       "np.int64(5)"
      ]
     },
     "execution_count": 556,
     "metadata": {},
     "output_type": "execute_result"
    }
   ],
   "source": [
    "a4[1][0][2][4]"
   ]
  },
  {
   "cell_type": "code",
   "execution_count": 557,
   "id": "ac1854b84ba29e17",
   "metadata": {
    "ExecuteTime": {
     "end_time": "2025-07-31T23:13:04.821729Z",
     "start_time": "2025-07-31T23:13:04.819310Z"
    }
   },
   "outputs": [
    {
     "data": {
      "text/plain": [
       "array([[[ 1,  2,  3],\n",
       "        [ 4,  5,  6],\n",
       "        [ 7,  8,  9]],\n",
       "\n",
       "       [[10, 11, 12],\n",
       "        [13, 14, 15],\n",
       "        [16, 17, 18]]])"
      ]
     },
     "execution_count": 557,
     "metadata": {},
     "output_type": "execute_result"
    }
   ],
   "source": [
    "a3"
   ]
  },
  {
   "cell_type": "code",
   "execution_count": 558,
   "id": "e2d45bea6554cf86",
   "metadata": {
    "ExecuteTime": {
     "end_time": "2025-07-31T23:13:04.846465Z",
     "start_time": "2025-07-31T23:13:04.844626Z"
    }
   },
   "outputs": [],
   "source": [
    "a3_split = a3[:2, :3, 2:3]"
   ]
  },
  {
   "cell_type": "code",
   "execution_count": 559,
   "id": "ddb19457b900ab2e",
   "metadata": {
    "ExecuteTime": {
     "end_time": "2025-07-31T23:13:04.858434Z",
     "start_time": "2025-07-31T23:13:04.856765Z"
    }
   },
   "outputs": [
    {
     "name": "stdout",
     "output_type": "stream",
     "text": [
      "[[[ 3]\n",
      "  [ 6]\n",
      "  [ 9]]\n",
      "\n",
      " [[12]\n",
      "  [15]\n",
      "  [18]]]\n"
     ]
    }
   ],
   "source": [
    "print(a3_split)"
   ]
  },
  {
   "cell_type": "markdown",
   "id": "7e179998476042c3",
   "metadata": {},
   "source": [
    "## Manipulating and Comparing arrays"
   ]
  },
  {
   "cell_type": "code",
   "execution_count": 560,
   "id": "5e38dffa32691bc5",
   "metadata": {
    "ExecuteTime": {
     "end_time": "2025-07-31T23:13:04.879474Z",
     "start_time": "2025-07-31T23:13:04.877212Z"
    }
   },
   "outputs": [
    {
     "data": {
      "text/plain": [
       "array([1, 2, 3])"
      ]
     },
     "execution_count": 560,
     "metadata": {},
     "output_type": "execute_result"
    }
   ],
   "source": [
    "### Arithmetic\n",
    "a1"
   ]
  },
  {
   "cell_type": "code",
   "execution_count": 561,
   "id": "12efbaeefc04411e",
   "metadata": {
    "ExecuteTime": {
     "end_time": "2025-07-31T23:13:04.898012Z",
     "start_time": "2025-07-31T23:13:04.896003Z"
    }
   },
   "outputs": [],
   "source": [
    "ones = np.ones(3)"
   ]
  },
  {
   "cell_type": "code",
   "execution_count": 562,
   "id": "df1403a1992edfed",
   "metadata": {
    "ExecuteTime": {
     "end_time": "2025-07-31T23:13:04.913414Z",
     "start_time": "2025-07-31T23:13:04.911139Z"
    }
   },
   "outputs": [
    {
     "data": {
      "text/plain": [
       "array([1., 1., 1.])"
      ]
     },
     "execution_count": 562,
     "metadata": {},
     "output_type": "execute_result"
    }
   ],
   "source": [
    "ones"
   ]
  },
  {
   "cell_type": "code",
   "execution_count": 563,
   "id": "24fdf26d93a50618",
   "metadata": {
    "ExecuteTime": {
     "end_time": "2025-07-31T23:13:04.933293Z",
     "start_time": "2025-07-31T23:13:04.931159Z"
    }
   },
   "outputs": [
    {
     "data": {
      "text/plain": [
       "array([2., 3., 4.])"
      ]
     },
     "execution_count": 563,
     "metadata": {},
     "output_type": "execute_result"
    }
   ],
   "source": [
    "# adding and subtracting equal sized arrays\n",
    "result = a1 + ones\n",
    "result"
   ]
  },
  {
   "cell_type": "code",
   "execution_count": 564,
   "id": "3602edb2775d3d97",
   "metadata": {
    "ExecuteTime": {
     "end_time": "2025-07-31T23:13:04.945161Z",
     "start_time": "2025-07-31T23:13:04.943045Z"
    }
   },
   "outputs": [
    {
     "data": {
      "text/plain": [
       "array([0., 1., 2.])"
      ]
     },
     "execution_count": 564,
     "metadata": {},
     "output_type": "execute_result"
    }
   ],
   "source": [
    "result = a1 - ones\n",
    "result"
   ]
  },
  {
   "cell_type": "code",
   "execution_count": 565,
   "id": "7f1a9a0b5ffb0ead",
   "metadata": {
    "ExecuteTime": {
     "end_time": "2025-07-31T23:13:04.959344Z",
     "start_time": "2025-07-31T23:13:04.957053Z"
    }
   },
   "outputs": [
    {
     "name": "stdout",
     "output_type": "stream",
     "text": [
      "[1 2 3]\n",
      "[[1.  2.  3. ]\n",
      " [4.  5.  6.5]]\n",
      "[[ 1.   4.   9. ]\n",
      " [ 4.  10.  19.5]]\n"
     ]
    }
   ],
   "source": [
    "# Look at a2 it is a 2D array with 3 elements, a1 also has 3 elements, so multiplying a1*a2 should take the elements of a1 and multiply them by BOTH roews in a2 (they also have 3 elements)\n",
    "result = a1*a2\n",
    "print(a1)\n",
    "print(a2)\n",
    "print(result)"
   ]
  },
  {
   "cell_type": "code",
   "execution_count": 566,
   "id": "99de71dc99a49323",
   "metadata": {
    "ExecuteTime": {
     "end_time": "2025-07-31T23:13:04.978714Z",
     "start_time": "2025-07-31T23:13:04.976964Z"
    }
   },
   "outputs": [
    {
     "name": "stdout",
     "output_type": "stream",
     "text": [
      "[1 2 3]\n",
      "[[[ 1  2  3]\n",
      "  [ 4  5  6]\n",
      "  [ 7  8  9]]\n",
      "\n",
      " [[10 11 12]\n",
      "  [13 14 15]\n",
      "  [16 17 18]]]\n",
      "[[[ 1  4  9]\n",
      "  [ 4 10 18]\n",
      "  [ 7 16 27]]\n",
      "\n",
      " [[10 22 36]\n",
      "  [13 28 45]\n",
      "  [16 34 54]]]\n"
     ]
    }
   ],
   "source": [
    "# a1 * a3 is possible because the shape is correct\n",
    "result = a1 * a3\n",
    "print(a1)\n",
    "print(a3)\n",
    "print(result)"
   ]
  },
  {
   "cell_type": "code",
   "execution_count": 567,
   "id": "9dc56c735af2e128",
   "metadata": {
    "ExecuteTime": {
     "end_time": "2025-07-31T23:13:04.995034Z",
     "start_time": "2025-07-31T23:13:04.993229Z"
    }
   },
   "outputs": [
    {
     "name": "stdout",
     "output_type": "stream",
     "text": [
      "[[1.  2.  3. ]\n",
      " [4.  5.  6.5]]\n",
      "[[[ 1  2  3]\n",
      "  [ 4  5  6]\n",
      "  [ 7  8  9]]\n",
      "\n",
      " [[10 11 12]\n",
      "  [13 14 15]\n",
      "  [16 17 18]]]\n"
     ]
    }
   ],
   "source": [
    "# Solving broad casting issues with different shapes of arrays\n",
    "# think on this problem, maybe reshape() an array\n",
    "print(a2)\n",
    "print(a3)"
   ]
  },
  {
   "cell_type": "code",
   "execution_count": 568,
   "id": "dd937c1f7cd71d5a",
   "metadata": {
    "ExecuteTime": {
     "end_time": "2025-07-31T23:13:05.018390Z",
     "start_time": "2025-07-31T23:13:05.016350Z"
    }
   },
   "outputs": [
    {
     "name": "stdout",
     "output_type": "stream",
     "text": [
      "(2, 3)\n",
      "(2, 3, 3)\n"
     ]
    }
   ],
   "source": [
    "print(a2.shape)\n",
    "print(a3.shape)"
   ]
  },
  {
   "cell_type": "code",
   "execution_count": 569,
   "id": "81c6a778f02c0ca7",
   "metadata": {
    "ExecuteTime": {
     "end_time": "2025-07-31T23:13:05.033692Z",
     "start_time": "2025-07-31T23:13:05.031041Z"
    }
   },
   "outputs": [
    {
     "data": {
      "text/plain": [
       "array([[[ 2. ,  4. ,  6. ],\n",
       "        [ 5. ,  7. ,  9. ],\n",
       "        [ 8. , 10. , 12. ]],\n",
       "\n",
       "       [[14. , 16. , 18.5],\n",
       "        [17. , 19. , 21.5],\n",
       "        [20. , 22. , 24.5]]])"
      ]
     },
     "execution_count": 569,
     "metadata": {},
     "output_type": "execute_result"
    }
   ],
   "source": [
    "reshaped_array = a2[:, np.newaxis] + a3\n",
    "reshaped_array"
   ]
  },
  {
   "cell_type": "code",
   "execution_count": 570,
   "id": "fd7eb98823c6959b",
   "metadata": {
    "ExecuteTime": {
     "end_time": "2025-07-31T23:13:05.046852Z",
     "start_time": "2025-07-31T23:13:05.044584Z"
    }
   },
   "outputs": [
    {
     "name": "stdout",
     "output_type": "stream",
     "text": [
      "This is a2 normal\n",
      "[[1.  2.  3. ]\n",
      " [4.  5.  6.5]]\n",
      "This is a2 modified\n",
      "[[[1.  2.  3. ]]\n",
      "\n",
      " [[4.  5.  6.5]]]\n"
     ]
    }
   ],
   "source": [
    "print(\"This is a2 normal\")\n",
    "print(a2)\n",
    "print(\"This is a2 modified\")\n",
    "a2mod = a2[:, np.newaxis]\n",
    "print(a2mod)"
   ]
  },
  {
   "cell_type": "code",
   "execution_count": 571,
   "id": "3efbb13230629748",
   "metadata": {
    "ExecuteTime": {
     "end_time": "2025-07-31T23:13:05.059126Z",
     "start_time": "2025-07-31T23:13:05.056892Z"
    }
   },
   "outputs": [
    {
     "data": {
      "text/plain": [
       "(2, 3)"
      ]
     },
     "execution_count": 571,
     "metadata": {},
     "output_type": "execute_result"
    }
   ],
   "source": [
    "a2.shape"
   ]
  },
  {
   "cell_type": "code",
   "execution_count": 572,
   "id": "30aed3ed6432e1a1",
   "metadata": {
    "ExecuteTime": {
     "end_time": "2025-07-31T23:13:05.073311Z",
     "start_time": "2025-07-31T23:13:05.071138Z"
    }
   },
   "outputs": [
    {
     "data": {
      "text/plain": [
       "(2, 3, 3)"
      ]
     },
     "execution_count": 572,
     "metadata": {},
     "output_type": "execute_result"
    }
   ],
   "source": [
    "a3.shape"
   ]
  },
  {
   "cell_type": "code",
   "execution_count": 573,
   "id": "d1860a2d5879344b",
   "metadata": {
    "ExecuteTime": {
     "end_time": "2025-07-31T23:13:05.085806Z",
     "start_time": "2025-07-31T23:13:05.083816Z"
    }
   },
   "outputs": [
    {
     "data": {
      "text/plain": [
       "(2, 1, 3)"
      ]
     },
     "execution_count": 573,
     "metadata": {},
     "output_type": "execute_result"
    }
   ],
   "source": [
    "a2mod.shape"
   ]
  },
  {
   "cell_type": "markdown",
   "id": "40fa8978fc87b64d",
   "metadata": {},
   "source": [
    "### Aggregation\n",
    "Aggregation = performing the same operation on a number of things"
   ]
  },
  {
   "cell_type": "code",
   "execution_count": 574,
   "id": "804a88f42ccba82e",
   "metadata": {
    "ExecuteTime": {
     "end_time": "2025-07-31T23:13:05.098151Z",
     "start_time": "2025-07-31T23:13:05.096371Z"
    }
   },
   "outputs": [
    {
     "name": "stdout",
     "output_type": "stream",
     "text": [
      "[1, 2, 3]\n",
      "<class 'list'>\n"
     ]
    }
   ],
   "source": [
    "listy_list = [1, 2, 3]\n",
    "print(listy_list)\n",
    "print(type(listy_list))\n"
   ]
  },
  {
   "cell_type": "code",
   "execution_count": 575,
   "id": "3e8223fcd5164e28",
   "metadata": {
    "ExecuteTime": {
     "end_time": "2025-07-31T23:13:05.113102Z",
     "start_time": "2025-07-31T23:13:05.111110Z"
    }
   },
   "outputs": [
    {
     "name": "stdout",
     "output_type": "stream",
     "text": [
      "[1 2 3]\n",
      "[1, 2, 3]\n"
     ]
    }
   ],
   "source": [
    "print(a1)\n",
    "print(listy_list)"
   ]
  },
  {
   "cell_type": "code",
   "execution_count": 576,
   "id": "c20ac4fa1703cc07",
   "metadata": {
    "ExecuteTime": {
     "end_time": "2025-07-31T23:13:05.124973Z",
     "start_time": "2025-07-31T23:13:05.122884Z"
    }
   },
   "outputs": [
    {
     "data": {
      "text/plain": [
       "6"
      ]
     },
     "execution_count": 576,
     "metadata": {},
     "output_type": "execute_result"
    }
   ],
   "source": [
    "sum(listy_list)"
   ]
  },
  {
   "cell_type": "code",
   "execution_count": 577,
   "id": "abe4f3468cba41a5",
   "metadata": {
    "ExecuteTime": {
     "end_time": "2025-07-31T23:13:05.140339Z",
     "start_time": "2025-07-31T23:13:05.138453Z"
    }
   },
   "outputs": [
    {
     "data": {
      "text/plain": [
       "np.int64(6)"
      ]
     },
     "execution_count": 577,
     "metadata": {},
     "output_type": "execute_result"
    }
   ],
   "source": [
    "sum(a1)"
   ]
  },
  {
   "cell_type": "code",
   "execution_count": 578,
   "id": "c717225dc8441ae4",
   "metadata": {
    "ExecuteTime": {
     "end_time": "2025-07-31T23:13:05.154829Z",
     "start_time": "2025-07-31T23:13:05.152572Z"
    }
   },
   "outputs": [
    {
     "data": {
      "text/plain": [
       "np.int64(6)"
      ]
     },
     "execution_count": 578,
     "metadata": {},
     "output_type": "execute_result"
    }
   ],
   "source": [
    "np.sum(a1)"
   ]
  },
  {
   "cell_type": "code",
   "execution_count": 579,
   "id": "44df6bd90ba828e2",
   "metadata": {
    "ExecuteTime": {
     "end_time": "2025-07-31T23:13:05.167537Z",
     "start_time": "2025-07-31T23:13:05.165228Z"
    }
   },
   "outputs": [
    {
     "data": {
      "text/plain": [
       "100000"
      ]
     },
     "execution_count": 579,
     "metadata": {},
     "output_type": "execute_result"
    }
   ],
   "source": [
    "massive_array = np.random.random(100000)\n",
    "massive_array.size"
   ]
  },
  {
   "cell_type": "code",
   "execution_count": 580,
   "id": "e3c57a203319169f",
   "metadata": {
    "ExecuteTime": {
     "end_time": "2025-07-31T23:13:05.179196Z",
     "start_time": "2025-07-31T23:13:05.177099Z"
    }
   },
   "outputs": [
    {
     "data": {
      "text/plain": [
       "array([0.08081596, 0.46521234, 0.67711049, 0.007521  , 0.67859914,\n",
       "       0.80201725, 0.97211109, 0.86017942, 0.42101686, 0.89977262])"
      ]
     },
     "execution_count": 580,
     "metadata": {},
     "output_type": "execute_result"
    }
   ],
   "source": [
    "massive_array[:10]"
   ]
  },
  {
   "cell_type": "code",
   "execution_count": 581,
   "id": "fe9b63e657019e3",
   "metadata": {
    "ExecuteTime": {
     "end_time": "2025-07-31T23:13:18.008444Z",
     "start_time": "2025-07-31T23:13:05.191320Z"
    }
   },
   "outputs": [
    {
     "name": "stdout",
     "output_type": "stream",
     "text": [
      "2.87 ms ± 13.2 µs per loop (mean ± std. dev. of 7 runs, 100 loops each)\n",
      "12.9 µs ± 99 ns per loop (mean ± std. dev. of 7 runs, 100,000 loops each)\n"
     ]
    }
   ],
   "source": [
    "%timeit sum(massive_array)\n",
    "%timeit np.sum(massive_array)"
   ]
  },
  {
   "cell_type": "code",
   "execution_count": 582,
   "id": "64b37a769c1932a0",
   "metadata": {
    "ExecuteTime": {
     "end_time": "2025-07-31T23:13:18.017574Z",
     "start_time": "2025-07-31T23:13:18.014743Z"
    }
   },
   "outputs": [
    {
     "data": {
      "text/plain": [
       "227.34375"
      ]
     },
     "execution_count": 582,
     "metadata": {},
     "output_type": "execute_result"
    }
   ],
   "source": [
    "2910/12.8"
   ]
  },
  {
   "cell_type": "code",
   "execution_count": 583,
   "id": "ab23be21542012bb",
   "metadata": {
    "ExecuteTime": {
     "end_time": "2025-07-31T23:13:18.047399Z",
     "start_time": "2025-07-31T23:13:18.046121Z"
    }
   },
   "outputs": [],
   "source": [
    "# So the np.sum is 227 times faster than the regular python sum.\n",
    "# That is why its better to use np.sum on np data and not python sum on np data"
   ]
  },
  {
   "cell_type": "code",
   "execution_count": 584,
   "id": "c921505aaf3fc577",
   "metadata": {
    "ExecuteTime": {
     "end_time": "2025-07-31T23:13:18.061774Z",
     "start_time": "2025-07-31T23:13:18.059660Z"
    }
   },
   "outputs": [
    {
     "data": {
      "text/plain": [
       "array([[1. , 2. , 3. ],\n",
       "       [4. , 5. , 6.5]])"
      ]
     },
     "execution_count": 584,
     "metadata": {},
     "output_type": "execute_result"
    }
   ],
   "source": [
    "a2"
   ]
  },
  {
   "cell_type": "code",
   "execution_count": 585,
   "id": "3878917176ed832d",
   "metadata": {
    "ExecuteTime": {
     "end_time": "2025-07-31T23:13:18.097283Z",
     "start_time": "2025-07-31T23:13:18.094653Z"
    }
   },
   "outputs": [
    {
     "name": "stdout",
     "output_type": "stream",
     "text": [
      "3.5833333333333335\n",
      "3.5833333333333335\n"
     ]
    }
   ],
   "source": [
    "print(np.mean(a2))\n",
    "print(21.5 / np.size(a2))"
   ]
  },
  {
   "cell_type": "code",
   "execution_count": 586,
   "id": "7d405ab235013af",
   "metadata": {
    "ExecuteTime": {
     "end_time": "2025-07-31T23:13:18.133840Z",
     "start_time": "2025-07-31T23:13:18.131820Z"
    }
   },
   "outputs": [
    {
     "name": "stdout",
     "output_type": "stream",
     "text": [
      "The Mean / average is: \n",
      "3.5833333333333335\n",
      "The Standard Deviation is: \n",
      "1.8352262954621035\n",
      "The sqrt of the variant is: \n",
      "1.8352262954621035\n",
      "The Variance is: \n",
      "3.368055555555556\n"
     ]
    }
   ],
   "source": [
    "# Statistical Operations\n",
    "# MEAN or AVERAGE\n",
    "print(\"The Mean / average is: \")\n",
    "print(np.mean(a2))\n",
    "\n",
    "# STANDARD DEVIATION = a measure of how spread out a number is from the mean\n",
    "# and is the square root of the variant ... so sqrt(np.var(a2))\n",
    "print(\"The Standard Deviation is: \")\n",
    "print(np.std(a2))\n",
    "\n",
    "# Square root of the variant\n",
    "print(\"The sqrt of the variant is: \")\n",
    "print(np.sqrt(np.var(a2)))\n",
    "\n",
    "# VARIANCE\n",
    "# The measure of the average degree to which each number is different to the mean.\n",
    "# Higher variance = wider range of numbers\n",
    "# Lower variance = lower range of numbers\n",
    "print(\"The Variance is: \")\n",
    "print(np.var(a2))"
   ]
  },
  {
   "cell_type": "markdown",
   "id": "fa759c34b53c5046",
   "metadata": {},
   "source": [
    "## Real World Example of calculating Means and Variances and what they are by definition"
   ]
  },
  {
   "cell_type": "markdown",
   "id": "737bb6e1e1b5c44d",
   "metadata": {},
   "source": [
    "## Problem Definition:\n",
    "![](statistics-dogs-graph.gif)\n",
    "\n",
    "To calculate the variance follow these steps:\n",
    "\n",
    "Calculate the Mean (the simple average of the numbers)\n",
    "\n",
    "Then for each number: subtract the Mean and square the result (the squared difference).\n",
    "\n",
    "Then calculate the average of those squared differences. (Why Square?)\n",
    "\n",
    "Example:\n",
    "You and your friends have just measured the heights of your dogs (in millimeters):\n",
    "\n",
    "dogs on graph shoulder heights\n",
    "\n",
    "The heights (at the shoulders) are: 600 mm, 470 mm, 170 mm, 430 mm and 300 mm.\n",
    "\n",
    "Find out the Mean, the Variance, and the Standard Deviation."
   ]
  },
  {
   "cell_type": "code",
   "execution_count": 587,
   "id": "116a585bf33129c7",
   "metadata": {
    "ExecuteTime": {
     "end_time": "2025-07-31T23:13:18.202503Z",
     "start_time": "2025-07-31T23:13:18.148585Z"
    }
   },
   "outputs": [
    {
     "data": {
      "image/png": "[encoded data removed]",
      "text/plain": [
       "<Figure size 640x480 with 1 Axes>"
      ]
     },
     "metadata": {},
     "output_type": "display_data"
    }
   ],
   "source": [
    "# Het a Histogram of the dog height data\n",
    "import matplotlib.pyplot as plt\n",
    "dog_heights = np.array([170, 300, 430, 470, 600])\n",
    "plt.hist(dog_heights, bins=50)\n",
    "plt.show()"
   ]
  },
  {
   "cell_type": "code",
   "execution_count": 588,
   "id": "a80dfeb0e595b6f4",
   "metadata": {
    "ExecuteTime": {
     "end_time": "2025-07-31T23:13:18.222880Z",
     "start_time": "2025-07-31T23:13:18.219583Z"
    }
   },
   "outputs": [
    {
     "name": "stdout",
     "output_type": "stream",
     "text": [
      "The dog heights\n",
      "[170 300 430 470 600]\n"
     ]
    }
   ],
   "source": [
    "# Step 1: Calculate the mean\n",
    "print(\"The dog heights\")\n",
    "dog_heights = np.array([170, 300, 430, 470, 600])\n",
    "print(dog_heights)"
   ]
  },
  {
   "cell_type": "code",
   "execution_count": 589,
   "id": "64fa5760d3c34de4",
   "metadata": {
    "ExecuteTime": {
     "end_time": "2025-07-31T23:13:18.235726Z",
     "start_time": "2025-07-31T23:13:18.234119Z"
    }
   },
   "outputs": [
    {
     "name": "stdout",
     "output_type": "stream",
     "text": [
      "MEAN The dog heights average / mean\n",
      "394.0\n"
     ]
    }
   ],
   "source": [
    "print(\"MEAN The dog heights average / mean\")\n",
    "dog_heights_mean = np.mean(dog_heights)\n",
    "print(dog_heights_mean)"
   ]
  },
  {
   "cell_type": "code",
   "execution_count": 590,
   "id": "a56d04e42b80b34c",
   "metadata": {
    "ExecuteTime": {
     "end_time": "2025-07-31T23:13:18.247946Z",
     "start_time": "2025-07-31T23:13:18.245968Z"
    }
   },
   "outputs": [
    {
     "name": "stdout",
     "output_type": "stream",
     "text": [
      "Now subtract the mean() from each number\n",
      "[-224.  -94.   36.   76.  206.]\n"
     ]
    }
   ],
   "source": [
    "print(\"Now subtract the mean() from each number\")\n",
    "dog_heights_sub_mean = np.subtract(dog_heights, dog_heights_mean)\n",
    "print(dog_heights_sub_mean)"
   ]
  },
  {
   "cell_type": "code",
   "execution_count": 591,
   "id": "5aa22ef322dbb466",
   "metadata": {
    "ExecuteTime": {
     "end_time": "2025-07-31T23:13:18.263617Z",
     "start_time": "2025-07-31T23:13:18.262067Z"
    }
   },
   "outputs": [
    {
     "name": "stdout",
     "output_type": "stream",
     "text": [
      "Now square each number in the array\n",
      "[50176.  8836.  1296.  5776. 42436.]\n"
     ]
    }
   ],
   "source": [
    "print(\"Now square each number in the array\")\n",
    "dog_heights_sub_mean_sqrd = np.square(dog_heights_sub_mean)\n",
    "print(dog_heights_sub_mean_sqrd)"
   ]
  },
  {
   "cell_type": "code",
   "execution_count": 592,
   "id": "93ea2aaefa7dfe78",
   "metadata": {
    "ExecuteTime": {
     "end_time": "2025-07-31T23:13:18.274633Z",
     "start_time": "2025-07-31T23:13:18.273041Z"
    }
   },
   "outputs": [
    {
     "name": "stdout",
     "output_type": "stream",
     "text": [
      "VARIANCE = Now take the average/mean of the square array [[dog_heights_sub_mean_sqrd]]\n",
      "21704.0\n"
     ]
    }
   ],
   "source": [
    "print(\"VARIANCE = Now take the average/mean of the square array [[dog_heights_sub_mean_sqrd]]\")\n",
    "dog_heights_sub_mean_sqrd_mean = np.mean(dog_heights_sub_mean_sqrd)\n",
    "print(dog_heights_sub_mean_sqrd_mean)"
   ]
  },
  {
   "cell_type": "code",
   "execution_count": 593,
   "id": "3767d68681fc6af0",
   "metadata": {
    "ExecuteTime": {
     "end_time": "2025-07-31T23:13:18.285240Z",
     "start_time": "2025-07-31T23:13:18.283620Z"
    }
   },
   "outputs": [
    {
     "name": "stdout",
     "output_type": "stream",
     "text": [
      "STANDARD DEVIATION Now take the sqrt of the Variance (21704)\n",
      "147.32277488562318\n"
     ]
    }
   ],
   "source": [
    "print(\"STANDARD DEVIATION Now take the sqrt of the Variance (21704)\")\n",
    "standard_dev = np.sqrt(dog_heights_sub_mean_sqrd_mean)\n",
    "print(standard_dev)"
   ]
  },
  {
   "cell_type": "markdown",
   "id": "455dd708d30eb38e",
   "metadata": {},
   "source": [
    "## Demo of Standard Deviation and Variance"
   ]
  },
  {
   "cell_type": "code",
   "execution_count": 594,
   "id": "a966ab7a4254ce4a",
   "metadata": {
    "ExecuteTime": {
     "end_time": "2025-07-31T23:13:18.296143Z",
     "start_time": "2025-07-31T23:13:18.294669Z"
    }
   },
   "outputs": [],
   "source": [
    "high_var_array = np.array([1, 100, 200, 300, 4000, 5000])\n",
    "low_var_array = np.array([2, 4, 6, 8, 10])"
   ]
  },
  {
   "cell_type": "code",
   "execution_count": 595,
   "id": "fe6d63c3fbf5ec7d",
   "metadata": {
    "ExecuteTime": {
     "end_time": "2025-07-31T23:13:18.307961Z",
     "start_time": "2025-07-31T23:13:18.306044Z"
    }
   },
   "outputs": [
    {
     "data": {
      "text/plain": [
       "(np.float64(4296133.472222221), np.float64(8.0))"
      ]
     },
     "execution_count": 595,
     "metadata": {},
     "output_type": "execute_result"
    }
   ],
   "source": [
    "# Get the Variance\n",
    "np.var(high_var_array), np.var(low_var_array)"
   ]
  },
  {
   "cell_type": "code",
   "execution_count": 596,
   "id": "e7e48613afc6e5d6",
   "metadata": {
    "ExecuteTime": {
     "end_time": "2025-07-31T23:13:18.319199Z",
     "start_time": "2025-07-31T23:13:18.317325Z"
    }
   },
   "outputs": [
    {
     "data": {
      "text/plain": [
       "(np.float64(2072.711623024829), np.float64(2.8284271247461903))"
      ]
     },
     "execution_count": 596,
     "metadata": {},
     "output_type": "execute_result"
    }
   ],
   "source": [
    "# SQRT of variation is the Standard Deviation\n",
    "np.sqrt(np.var(high_var_array)), np.sqrt(np.var(low_var_array))"
   ]
  },
  {
   "cell_type": "code",
   "execution_count": 597,
   "id": "719f0b57e3b4df7b",
   "metadata": {
    "ExecuteTime": {
     "end_time": "2025-07-31T23:13:18.330008Z",
     "start_time": "2025-07-31T23:13:18.328191Z"
    }
   },
   "outputs": [
    {
     "data": {
      "text/plain": [
       "(np.float64(2072.711623024829), np.float64(2.8284271247461903))"
      ]
     },
     "execution_count": 597,
     "metadata": {},
     "output_type": "execute_result"
    }
   ],
   "source": [
    "# SQRT'd values above show that they are the same as using the std() function\n",
    "np.std(high_var_array), np.std(low_var_array)"
   ]
  },
  {
   "cell_type": "code",
   "execution_count": 598,
   "id": "8262e87be49897cd",
   "metadata": {
    "ExecuteTime": {
     "end_time": "2025-07-31T23:13:18.341176Z",
     "start_time": "2025-07-31T23:13:18.339207Z"
    }
   },
   "outputs": [
    {
     "data": {
      "text/plain": [
       "(np.float64(1600.1666666666667), np.float64(6.0))"
      ]
     },
     "execution_count": 598,
     "metadata": {},
     "output_type": "execute_result"
    }
   ],
   "source": [
    "# Get the mean\n",
    "np.mean(high_var_array), np.mean(low_var_array)"
   ]
  },
  {
   "cell_type": "code",
   "execution_count": 599,
   "id": "1d581ffbf6def952",
   "metadata": {
    "ExecuteTime": {
     "end_time": "2025-07-31T23:13:18.381317Z",
     "start_time": "2025-07-31T23:13:18.349962Z"
    }
   },
   "outputs": [
    {
     "data": {
      "image/png": "[encoded data removed]",
      "text/plain": [
       "<Figure size 640x480 with 1 Axes>"
      ]
     },
     "metadata": {},
     "output_type": "display_data"
    }
   ],
   "source": [
    "import matplotlib.pyplot as plt\n",
    "plt.hist(high_var_array)\n",
    "plt.show()"
   ]
  },
  {
   "cell_type": "code",
   "execution_count": 600,
   "id": "a5fc1aa03b693c95",
   "metadata": {
    "ExecuteTime": {
     "end_time": "2025-07-31T23:13:18.415313Z",
     "start_time": "2025-07-31T23:13:18.384847Z"
    }
   },
   "outputs": [
    {
     "data": {
      "image/png": "[encoded data removed]",
      "text/plain": [
       "<Figure size 640x480 with 1 Axes>"
      ]
     },
     "metadata": {},
     "output_type": "display_data"
    }
   ],
   "source": [
    "plt.hist(low_var_array, bins=10)\n",
    "plt.show()"
   ]
  },
  {
   "cell_type": "markdown",
   "id": "b4701807e81e1fd4",
   "metadata": {},
   "source": [
    "### Reshaping and Transposing Arrays"
   ]
  },
  {
   "cell_type": "code",
   "execution_count": 601,
   "id": "947f94ac52caa412",
   "metadata": {
    "ExecuteTime": {
     "end_time": "2025-07-31T23:13:18.430261Z",
     "start_time": "2025-07-31T23:13:18.428233Z"
    }
   },
   "outputs": [
    {
     "name": "stdout",
     "output_type": "stream",
     "text": [
      "[[1.  2.  3. ]\n",
      " [4.  5.  6.5]]\n",
      "(2, 3)\n"
     ]
    }
   ],
   "source": [
    "print(a2)\n",
    "print(a2.shape)"
   ]
  },
  {
   "cell_type": "code",
   "execution_count": 602,
   "id": "f9818251aaf38981",
   "metadata": {
    "ExecuteTime": {
     "end_time": "2025-07-31T23:13:18.447538Z",
     "start_time": "2025-07-31T23:13:18.442247Z"
    }
   },
   "outputs": [
    {
     "name": "stdout",
     "output_type": "stream",
     "text": [
      "[[[ 1  2  3]\n",
      "  [ 4  5  6]\n",
      "  [ 7  8  9]]\n",
      "\n",
      " [[10 11 12]\n",
      "  [13 14 15]\n",
      "  [16 17 18]]]\n",
      "(2, 3, 3)\n"
     ]
    }
   ],
   "source": [
    "print(a3)\n",
    "print(a3.shape)"
   ]
  },
  {
   "cell_type": "code",
   "execution_count": 603,
   "id": "fcb70be7996c60dc",
   "metadata": {
    "ExecuteTime": {
     "end_time": "2025-07-31T23:13:18.471801Z",
     "start_time": "2025-07-31T23:13:18.469703Z"
    }
   },
   "outputs": [
    {
     "name": "stdout",
     "output_type": "stream",
     "text": [
      "(2, 3, 1)\n",
      "***\n",
      "[[1.  2.  3. ]\n",
      " [4.  5.  6.5]]\n",
      "***\n",
      "***\n",
      "[[[1. ]\n",
      "  [2. ]\n",
      "  [3. ]]\n",
      "\n",
      " [[4. ]\n",
      "  [5. ]\n",
      "  [6.5]]]\n",
      "***\n"
     ]
    }
   ],
   "source": [
    "a2r = a2.reshape(2,3,1)\n",
    "print(a2.reshape(2,3,1).shape)\n",
    "print(\"***\\n\" + str(a2) + \"\\n***\")\n",
    "print(\"***\\n\" + str(a2r) + \"\\n***\")"
   ]
  },
  {
   "cell_type": "code",
   "execution_count": 604,
   "id": "65ea06b54426b5bd",
   "metadata": {
    "ExecuteTime": {
     "end_time": "2025-07-31T23:13:18.478722Z",
     "start_time": "2025-07-31T23:13:18.475882Z"
    }
   },
   "outputs": [
    {
     "name": "stdout",
     "output_type": "stream",
     "text": [
      "**** a2r ****\n",
      "[[[1. ]\n",
      "  [2. ]\n",
      "  [3. ]]\n",
      "\n",
      " [[4. ]\n",
      "  [5. ]\n",
      "  [6.5]]]\n",
      "**** a3 ****\n",
      "[[[ 1  2  3]\n",
      "  [ 4  5  6]\n",
      "  [ 7  8  9]]\n",
      "\n",
      " [[10 11 12]\n",
      "  [13 14 15]\n",
      "  [16 17 18]]]\n",
      "**** a2r * a3 ****\n",
      "[[[  1.    2.    3. ]\n",
      "  [  8.   10.   12. ]\n",
      "  [ 21.   24.   27. ]]\n",
      "\n",
      " [[ 40.   44.   48. ]\n",
      "  [ 65.   70.   75. ]\n",
      "  [104.  110.5 117. ]]]\n"
     ]
    }
   ],
   "source": [
    "result = a2r * a3\n",
    "print(\"**** a2r ****\")\n",
    "print(a2r)\n",
    "print(\"**** a3 ****\")\n",
    "print(a3)\n",
    "print(\"**** a2r * a3 ****\")\n",
    "print(result)"
   ]
  },
  {
   "cell_type": "markdown",
   "id": "71ae58c35f4680c2",
   "metadata": {},
   "source": [
    "## Transposing arrays - switches the axes"
   ]
  },
  {
   "cell_type": "code",
   "execution_count": 605,
   "id": "4d0dbd1aedd5dcfd",
   "metadata": {
    "ExecuteTime": {
     "end_time": "2025-07-31T23:13:18.498408Z",
     "start_time": "2025-07-31T23:13:18.496376Z"
    }
   },
   "outputs": [
    {
     "name": "stdout",
     "output_type": "stream",
     "text": [
      "[[1.  2.  3. ]\n",
      " [4.  5.  6.5]]\n",
      "(2, 3)\n"
     ]
    }
   ],
   "source": [
    "print(a2)\n",
    "print(a2.shape)"
   ]
  },
  {
   "cell_type": "code",
   "execution_count": 606,
   "id": "ac7116955d5c823f",
   "metadata": {
    "ExecuteTime": {
     "end_time": "2025-07-31T23:13:18.527148Z",
     "start_time": "2025-07-31T23:13:18.516747Z"
    }
   },
   "outputs": [
    {
     "name": "stdout",
     "output_type": "stream",
     "text": [
      "[[1.  4. ]\n",
      " [2.  5. ]\n",
      " [3.  6.5]]\n",
      "(3, 2)\n"
     ]
    }
   ],
   "source": [
    "a2tr = a2.T\n",
    "print(a2tr)\n",
    "print(a2tr.shape)"
   ]
  },
  {
   "cell_type": "code",
   "execution_count": 607,
   "id": "e98caaf598db974",
   "metadata": {
    "ExecuteTime": {
     "end_time": "2025-07-31T23:13:18.546098Z",
     "start_time": "2025-07-31T23:13:18.544050Z"
    }
   },
   "outputs": [
    {
     "name": "stdout",
     "output_type": "stream",
     "text": [
      "[[[ 1  2  3]\n",
      "  [ 4  5  6]\n",
      "  [ 7  8  9]]\n",
      "\n",
      " [[10 11 12]\n",
      "  [13 14 15]\n",
      "  [16 17 18]]]\n",
      "(2, 3, 3)\n",
      "[[[ 1 10]\n",
      "  [ 4 13]\n",
      "  [ 7 16]]\n",
      "\n",
      " [[ 2 11]\n",
      "  [ 5 14]\n",
      "  [ 8 17]]\n",
      "\n",
      " [[ 3 12]\n",
      "  [ 6 15]\n",
      "  [ 9 18]]]\n",
      "(3, 3, 2)\n"
     ]
    }
   ],
   "source": [
    "# Transpose a 3 dim array\n",
    "print(a3)\n",
    "print(a3.shape)\n",
    "a3tr = a3.T\n",
    "print(a3tr)\n",
    "print(a3tr.shape)"
   ]
  },
  {
   "cell_type": "code",
   "execution_count": 608,
   "id": "647e5d6295b1c50d",
   "metadata": {
    "ExecuteTime": {
     "end_time": "2025-07-31T23:13:18.561337Z",
     "start_time": "2025-07-31T23:13:18.558752Z"
    }
   },
   "outputs": [
    {
     "name": "stdout",
     "output_type": "stream",
     "text": [
      "[[5 0 3]\n",
      " [3 7 9]\n",
      " [3 5 2]\n",
      " [4 7 6]\n",
      " [8 8 1]]\n",
      "[[6 7 7]\n",
      " [8 1 5]\n",
      " [9 8 9]\n",
      " [4 3 0]\n",
      " [3 5 0]]\n",
      "(5, 3)\n",
      "(5, 3)\n"
     ]
    }
   ],
   "source": [
    "## Video #74\n",
    "np.random.seed(seed=0)\n",
    "\n",
    "mat1 = np.random.randint(10, size=(5, 3))\n",
    "mat2 = np.random.randint(10, size=(5, 3))\n",
    "print(mat1)\n",
    "print(mat2)\n",
    "print(mat1.shape)\n",
    "print(mat2.shape)\n"
   ]
  },
  {
   "cell_type": "code",
   "execution_count": 609,
   "id": "8dc714b9bbbb01af",
   "metadata": {
    "ExecuteTime": {
     "end_time": "2025-07-31T23:13:18.574901Z",
     "start_time": "2025-07-31T23:13:18.572905Z"
    }
   },
   "outputs": [
    {
     "name": "stdout",
     "output_type": "stream",
     "text": [
      "[[30  0 21]\n",
      " [24  7 45]\n",
      " [27 40 18]\n",
      " [16 21  0]\n",
      " [24 40  0]]\n"
     ]
    }
   ],
   "source": [
    "# Element-wise multiplication (Hadamard product)\n",
    "mulres = mat1*mat2\n",
    "print(mulres)"
   ]
  },
  {
   "cell_type": "markdown",
   "id": "489415f2f99a552f",
   "metadata": {},
   "source": [
    "## Dot Product"
   ]
  },
  {
   "cell_type": "markdown",
   "id": "c31834608659681f",
   "metadata": {},
   "source": [
    "![](dot_product_image.jpg)"
   ]
  },
  {
   "cell_type": "code",
   "execution_count": 615,
   "id": "273e8c1d51f6439e",
   "metadata": {
    "ExecuteTime": {
     "end_time": "2025-07-31T23:16:21.427464Z",
     "start_time": "2025-07-31T23:16:21.419356Z"
    }
   },
   "outputs": [
    {
     "name": "stdout",
     "output_type": "stream",
     "text": [
      "[[ 51  55  72  20  15]\n",
      " [130  76 164  33  44]\n",
      " [ 67  39  85  27  34]\n",
      " [115  69 146  37  47]\n",
      " [111  77 145  56  64]]\n"
     ]
    }
   ],
   "source": [
    "# Dot Product\n",
    "dp_res = np.dot(mat1, mat2.T)\n",
    "print(dp_res)"
   ]
  },
  {
   "cell_type": "code",
   "execution_count": 618,
   "id": "372d906ca5990d65",
   "metadata": {
    "ExecuteTime": {
     "end_time": "2025-07-31T23:19:17.130048Z",
     "start_time": "2025-07-31T23:19:17.122974Z"
    }
   },
   "outputs": [
    {
     "name": "stdout",
     "output_type": "stream",
     "text": [
      "[[5 0 3]\n",
      " [3 7 9]\n",
      " [3 5 2]\n",
      " [4 7 6]\n",
      " [8 8 1]]\n"
     ]
    }
   ],
   "source": [
    "print(mat1)"
   ]
  },
  {
   "cell_type": "code",
   "execution_count": 619,
   "id": "a64ec75f32a12744",
   "metadata": {
    "ExecuteTime": {
     "end_time": "2025-07-31T23:19:29.403014Z",
     "start_time": "2025-07-31T23:19:29.400177Z"
    }
   },
   "outputs": [
    {
     "name": "stdout",
     "output_type": "stream",
     "text": [
      "[[6 8 9 4 3]\n",
      " [7 1 8 3 5]\n",
      " [7 5 9 0 0]]\n"
     ]
    }
   ],
   "source": [
    "print(mat2.T)"
   ]
  },
  {
   "cell_type": "code",
   "execution_count": 622,
   "id": "124152be9307f8c2",
   "metadata": {
    "ExecuteTime": {
     "end_time": "2025-08-01T00:03:22.479977Z",
     "start_time": "2025-08-01T00:03:22.472063Z"
    }
   },
   "outputs": [
    {
     "name": "stdout",
     "output_type": "stream",
     "text": [
      "(5, 3) (3, 5)\n",
      "(5, 5)\n"
     ]
    }
   ],
   "source": [
    "# Notice the inner values of (3) being the same allowing for the multiplication to occur)\n",
    "# two 5x3 matrices so one gets transposed to a 3x5 so we have (5,3) * (3,5)\n",
    "print(mat1.shape, mat2.T.shape)\n",
    "print(dp_res.shape)"
   ]
  },
  {
   "cell_type": "code",
   "execution_count": null,
   "id": "a994a25930c38e37",
   "metadata": {},
   "outputs": [],
   "source": []
  }
 ],
 "metadata": {
  "kernelspec": {
   "display_name": "Python 3 (ipykernel)",
   "language": "python",
   "name": "python3"
  },
  "language_info": {
   "codemirror_mode": {
    "name": "ipython",
    "version": 3
   },
   "file_extension": ".py",
   "mimetype": "text/x-python",
   "name": "python",
   "nbconvert_exporter": "python",
   "pygments_lexer": "ipython3",
   "version": "3.9.6"
  }
 },
 "nbformat": 4,
 "nbformat_minor": 5
}
