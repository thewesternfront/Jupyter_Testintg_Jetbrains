{
 "cells": [
  {
   "cell_type": "code",
   "id": "befd2d4c-270f-4452-be9b-3e5d722f6fb3",
   "metadata": {
    "ExecuteTime": {
     "end_time": "2025-07-30T23:19:36.333591Z",
     "start_time": "2025-07-30T23:19:36.330278Z"
    }
   },
   "source": "import numpy as np",
   "outputs": [],
   "execution_count": 33
  },
  {
   "cell_type": "markdown",
   "id": "a1f7551a-ee77-471e-890c-daf9504c9d1c",
   "metadata": {},
   "source": [
    "## Data Types and Attributes"
   ]
  },
  {
   "cell_type": "code",
   "id": "d8b0e988-0ef5-456b-9afb-6277062b36f9",
   "metadata": {
    "ExecuteTime": {
     "end_time": "2025-07-30T23:19:36.360153Z",
     "start_time": "2025-07-30T23:19:36.355070Z"
    }
   },
   "source": [
    "a1 = np.array([1, 2, 3])\n",
    "type(a1)"
   ],
   "outputs": [
    {
     "data": {
      "text/plain": [
       "numpy.ndarray"
      ]
     },
     "execution_count": 34,
     "metadata": {},
     "output_type": "execute_result"
    }
   ],
   "execution_count": 34
  },
  {
   "cell_type": "markdown",
   "id": "87d5c7288cb54dc7",
   "metadata": {},
   "source": [
    "![](IMG_3155.jpg)"
   ]
  },
  {
   "cell_type": "code",
   "id": "cfd66601-6ae3-4b52-93e8-9d77d027e2fd",
   "metadata": {
    "ExecuteTime": {
     "end_time": "2025-07-30T23:19:36.416399Z",
     "start_time": "2025-07-30T23:19:36.412194Z"
    }
   },
   "source": [
    "# 2x3\n",
    "a2 = np.array([[1, 2.0, 3.0],\n",
    "       [4, 5, 6.5]])\n",
    "\n",
    "# 3x3x2 n-dimensional array?\n",
    "a3 = np.array([[[1, 2, 3],\n",
    "        [4, 5, 6],\n",
    "        [7, 8, 9]],\n",
    "       [[10, 11, 12],\n",
    "        [13, 14, 15],\n",
    "        [16, 17, 18]]])"
   ],
   "outputs": [],
   "execution_count": 35
  },
  {
   "cell_type": "code",
   "id": "749a9ededb8b162d",
   "metadata": {
    "ExecuteTime": {
     "end_time": "2025-07-30T23:19:36.446574Z",
     "start_time": "2025-07-30T23:19:36.441021Z"
    }
   },
   "source": [
    "a2"
   ],
   "outputs": [
    {
     "data": {
      "text/plain": [
       "array([[1. , 2. , 3. ],\n",
       "       [4. , 5. , 6.5]])"
      ]
     },
     "execution_count": 36,
     "metadata": {},
     "output_type": "execute_result"
    }
   ],
   "execution_count": 36
  },
  {
   "cell_type": "code",
   "id": "12074c463fc5b5a3",
   "metadata": {
    "ExecuteTime": {
     "end_time": "2025-07-30T23:19:38.440353Z",
     "start_time": "2025-07-30T23:19:38.431991Z"
    }
   },
   "source": [
    "a3"
   ],
   "outputs": [
    {
     "data": {
      "text/plain": [
       "array([[[ 1,  2,  3],\n",
       "        [ 4,  5,  6],\n",
       "        [ 7,  8,  9]],\n",
       "\n",
       "       [[10, 11, 12],\n",
       "        [13, 14, 15],\n",
       "        [16, 17, 18]]])"
      ]
     },
     "execution_count": 37,
     "metadata": {},
     "output_type": "execute_result"
    }
   ],
   "execution_count": 37
  },
  {
   "cell_type": "code",
   "id": "cd35a1729ecbcb01",
   "metadata": {
    "ExecuteTime": {
     "end_time": "2025-07-30T23:19:38.581917Z",
     "start_time": "2025-07-30T23:19:38.576123Z"
    }
   },
   "source": [
    "a1.shape"
   ],
   "outputs": [
    {
     "data": {
      "text/plain": [
       "(3,)"
      ]
     },
     "execution_count": 38,
     "metadata": {},
     "output_type": "execute_result"
    }
   ],
   "execution_count": 38
  },
  {
   "cell_type": "code",
   "id": "ef81f094a6a829b6",
   "metadata": {
    "ExecuteTime": {
     "end_time": "2025-07-30T23:19:38.639820Z",
     "start_time": "2025-07-30T23:19:38.632558Z"
    }
   },
   "source": [
    "a2.shape"
   ],
   "outputs": [
    {
     "data": {
      "text/plain": [
       "(2, 3)"
      ]
     },
     "execution_count": 39,
     "metadata": {},
     "output_type": "execute_result"
    }
   ],
   "execution_count": 39
  },
  {
   "cell_type": "code",
   "id": "464249299b8975a2",
   "metadata": {
    "ExecuteTime": {
     "end_time": "2025-07-30T23:19:38.690081Z",
     "start_time": "2025-07-30T23:19:38.683444Z"
    }
   },
   "source": [
    "a3.shape"
   ],
   "outputs": [
    {
     "data": {
      "text/plain": [
       "(2, 3, 3)"
      ]
     },
     "execution_count": 40,
     "metadata": {},
     "output_type": "execute_result"
    }
   ],
   "execution_count": 40
  },
  {
   "cell_type": "code",
   "id": "b02fd051350b0e09",
   "metadata": {
    "ExecuteTime": {
     "end_time": "2025-07-30T23:19:38.734900Z",
     "start_time": "2025-07-30T23:19:38.728724Z"
    }
   },
   "source": [
    "# show the dimensions of hte n-dim arrays\n",
    "a1.ndim, a2.ndim, a3.ndim"
   ],
   "outputs": [
    {
     "data": {
      "text/plain": [
       "(1, 2, 3)"
      ]
     },
     "execution_count": 41,
     "metadata": {},
     "output_type": "execute_result"
    }
   ],
   "execution_count": 41
  },
  {
   "cell_type": "code",
   "id": "da8007bcbcafb19b",
   "metadata": {
    "ExecuteTime": {
     "end_time": "2025-07-30T23:19:38.770841Z",
     "start_time": "2025-07-30T23:19:38.764670Z"
    }
   },
   "source": [
    "# Look at the data types dtype\n",
    "a1.dtype, a2.dtype, a3.dtype"
   ],
   "outputs": [
    {
     "data": {
      "text/plain": [
       "(dtype('int32'), dtype('float64'), dtype('int32'))"
      ]
     },
     "execution_count": 42,
     "metadata": {},
     "output_type": "execute_result"
    }
   ],
   "execution_count": 42
  },
  {
   "cell_type": "code",
   "id": "e52407dbe2eb78f4",
   "metadata": {
    "ExecuteTime": {
     "end_time": "2025-07-30T23:19:38.813201Z",
     "start_time": "2025-07-30T23:19:38.808460Z"
    }
   },
   "source": [
    "print(a2[1][1])"
   ],
   "outputs": [
    {
     "name": "stdout",
     "output_type": "stream",
     "text": [
      "5.0\n"
     ]
    }
   ],
   "execution_count": 43
  },
  {
   "cell_type": "code",
   "id": "e5074f41b8cc5b7",
   "metadata": {
    "ExecuteTime": {
     "end_time": "2025-07-30T23:19:38.840311Z",
     "start_time": "2025-07-30T23:19:38.834678Z"
    }
   },
   "source": [
    "# Show Sizes (number of elements in each n-dim array)\n",
    "a1.size, a2.size, a3.size"
   ],
   "outputs": [
    {
     "data": {
      "text/plain": [
       "(3, 6, 18)"
      ]
     },
     "execution_count": 44,
     "metadata": {},
     "output_type": "execute_result"
    }
   ],
   "execution_count": 44
  },
  {
   "cell_type": "code",
   "id": "ac83e8c3e08338d9",
   "metadata": {
    "ExecuteTime": {
     "end_time": "2025-07-30T23:19:38.888131Z",
     "start_time": "2025-07-30T23:19:38.880621Z"
    }
   },
   "source": [
    "type(a1), type(a2), type(a3)"
   ],
   "outputs": [
    {
     "data": {
      "text/plain": [
       "(numpy.ndarray, numpy.ndarray, numpy.ndarray)"
      ]
     },
     "execution_count": 45,
     "metadata": {},
     "output_type": "execute_result"
    }
   ],
   "execution_count": 45
  },
  {
   "cell_type": "markdown",
   "id": "daec920fd550c8f1",
   "metadata": {},
   "source": [
    "## Create a Data Frame (pandas) from a Numpy Array (numpy)"
   ]
  },
  {
   "cell_type": "code",
   "id": "610518fdf3f71f56",
   "metadata": {
    "ExecuteTime": {
     "end_time": "2025-07-30T23:19:38.946718Z",
     "start_time": "2025-07-30T23:19:38.943348Z"
    }
   },
   "source": [
    "import pandas as pd\n",
    "df = pd.DataFrame(a2)"
   ],
   "outputs": [],
   "execution_count": 46
  },
  {
   "cell_type": "code",
   "id": "7dfdaa3ed1d3f708",
   "metadata": {
    "ExecuteTime": {
     "end_time": "2025-07-30T23:19:38.992817Z",
     "start_time": "2025-07-30T23:19:38.984285Z"
    }
   },
   "source": [
    "df"
   ],
   "outputs": [
    {
     "data": {
      "text/plain": [
       "     0    1    2\n",
       "0  1.0  2.0  3.0\n",
       "1  4.0  5.0  6.5"
      ],
      "text/html": [
       "<div>\n",
       "<style scoped>\n",
       "    .dataframe tbody tr th:only-of-type {\n",
       "        vertical-align: middle;\n",
       "    }\n",
       "\n",
       "    .dataframe tbody tr th {\n",
       "        vertical-align: top;\n",
       "    }\n",
       "\n",
       "    .dataframe thead th {\n",
       "        text-align: right;\n",
       "    }\n",
       "</style>\n",
       "<table border=\"1\" class=\"dataframe\">\n",
       "  <thead>\n",
       "    <tr style=\"text-align: right;\">\n",
       "      <th></th>\n",
       "      <th>0</th>\n",
       "      <th>1</th>\n",
       "      <th>2</th>\n",
       "    </tr>\n",
       "  </thead>\n",
       "  <tbody>\n",
       "    <tr>\n",
       "      <th>0</th>\n",
       "      <td>1.0</td>\n",
       "      <td>2.0</td>\n",
       "      <td>3.0</td>\n",
       "    </tr>\n",
       "    <tr>\n",
       "      <th>1</th>\n",
       "      <td>4.0</td>\n",
       "      <td>5.0</td>\n",
       "      <td>6.5</td>\n",
       "    </tr>\n",
       "  </tbody>\n",
       "</table>\n",
       "</div>"
      ]
     },
     "execution_count": 47,
     "metadata": {},
     "output_type": "execute_result"
    }
   ],
   "execution_count": 47
  },
  {
   "cell_type": "code",
   "id": "1d22360ad4644488",
   "metadata": {
    "ExecuteTime": {
     "end_time": "2025-07-30T23:19:39.122647Z",
     "start_time": "2025-07-30T23:19:39.115665Z"
    }
   },
   "source": [
    "df[2][1]"
   ],
   "outputs": [
    {
     "data": {
      "text/plain": [
       "6.5"
      ]
     },
     "execution_count": 48,
     "metadata": {},
     "output_type": "execute_result"
    }
   ],
   "execution_count": 48
  },
  {
   "cell_type": "markdown",
   "id": "c7d1e9da2ae84384",
   "metadata": {},
   "source": [
    "## Machine Learning is = finding patterns in Numpy Arrays"
   ]
  },
  {
   "cell_type": "markdown",
   "id": "8d282187f3aab483",
   "metadata": {},
   "source": [
    "## Creating Arrays"
   ]
  },
  {
   "cell_type": "code",
   "id": "18d0b7914d7e1442",
   "metadata": {
    "ExecuteTime": {
     "end_time": "2025-07-30T23:19:39.209047Z",
     "start_time": "2025-07-30T23:19:39.199257Z"
    }
   },
   "source": [
    "import numpy as np\n",
    "sample_array = np.array([1, 2, 3])\n",
    "print(\"the type is: \")\n",
    "type(sample_array)"
   ],
   "outputs": [
    {
     "name": "stdout",
     "output_type": "stream",
     "text": [
      "the type is: \n"
     ]
    },
    {
     "data": {
      "text/plain": [
       "numpy.ndarray"
      ]
     },
     "execution_count": 49,
     "metadata": {},
     "output_type": "execute_result"
    }
   ],
   "execution_count": 49
  },
  {
   "cell_type": "code",
   "id": "ffbd07cf6d8e74bb",
   "metadata": {
    "ExecuteTime": {
     "end_time": "2025-07-30T23:19:39.327030Z",
     "start_time": "2025-07-30T23:19:39.319887Z"
    }
   },
   "source": [
    "print(\"the data type is: \")\n",
    "sample_array.dtype"
   ],
   "outputs": [
    {
     "name": "stdout",
     "output_type": "stream",
     "text": [
      "the data type is: \n"
     ]
    },
    {
     "data": {
      "text/plain": [
       "dtype('int32')"
      ]
     },
     "execution_count": 50,
     "metadata": {},
     "output_type": "execute_result"
    }
   ],
   "execution_count": 50
  },
  {
   "cell_type": "code",
   "id": "98550f15c358f64c",
   "metadata": {
    "ExecuteTime": {
     "end_time": "2025-07-30T23:19:39.377269Z",
     "start_time": "2025-07-30T23:19:39.370703Z"
    }
   },
   "source": [
    "# 4x4 array filled with ones\n",
    "ashape = (4, 4)\n",
    "ones = np.ones(ashape)\n",
    "ones"
   ],
   "outputs": [
    {
     "data": {
      "text/plain": [
       "array([[1., 1., 1., 1.],\n",
       "       [1., 1., 1., 1.],\n",
       "       [1., 1., 1., 1.],\n",
       "       [1., 1., 1., 1.]])"
      ]
     },
     "execution_count": 51,
     "metadata": {},
     "output_type": "execute_result"
    }
   ],
   "execution_count": 51
  },
  {
   "cell_type": "code",
   "id": "c078a25b9e0ebb9b",
   "metadata": {
    "ExecuteTime": {
     "end_time": "2025-07-30T23:19:39.456287Z",
     "start_time": "2025-07-30T23:19:39.448538Z"
    }
   },
   "source": [
    "ones.dtype"
   ],
   "outputs": [
    {
     "data": {
      "text/plain": [
       "dtype('float64')"
      ]
     },
     "execution_count": 52,
     "metadata": {},
     "output_type": "execute_result"
    }
   ],
   "execution_count": 52
  },
  {
   "cell_type": "code",
   "id": "6c22e5de7665d85f",
   "metadata": {
    "ExecuteTime": {
     "end_time": "2025-07-30T23:19:39.555114Z",
     "start_time": "2025-07-30T23:19:39.549336Z"
    }
   },
   "source": [
    "type(ones)"
   ],
   "outputs": [
    {
     "data": {
      "text/plain": [
       "numpy.ndarray"
      ]
     },
     "execution_count": 53,
     "metadata": {},
     "output_type": "execute_result"
    }
   ],
   "execution_count": 53
  },
  {
   "cell_type": "code",
   "id": "35ac8c5a8391e03",
   "metadata": {
    "ExecuteTime": {
     "end_time": "2025-07-30T23:19:39.642125Z",
     "start_time": "2025-07-30T23:19:39.636129Z"
    }
   },
   "source": [
    "# 4x4 array filled with zeros\n",
    "zeros = np.zeros(ashape)\n",
    "zeros"
   ],
   "outputs": [
    {
     "data": {
      "text/plain": [
       "array([[0., 0., 0., 0.],\n",
       "       [0., 0., 0., 0.],\n",
       "       [0., 0., 0., 0.],\n",
       "       [0., 0., 0., 0.]])"
      ]
     },
     "execution_count": 54,
     "metadata": {},
     "output_type": "execute_result"
    }
   ],
   "execution_count": 54
  },
  {
   "cell_type": "code",
   "id": "6933825aea4fcd2",
   "metadata": {
    "ExecuteTime": {
     "end_time": "2025-07-30T23:19:39.732086Z",
     "start_time": "2025-07-30T23:19:39.726022Z"
    }
   },
   "source": [
    "# Create array from 0 to 100 - noninclusive - and increment value 5 steps...\n",
    "range_array = np.arange(0, 100, 5, dtype=int)\n",
    "range_array"
   ],
   "outputs": [
    {
     "data": {
      "text/plain": [
       "array([ 0,  5, 10, 15, 20, 25, 30, 35, 40, 45, 50, 55, 60, 65, 70, 75, 80,\n",
       "       85, 90, 95])"
      ]
     },
     "execution_count": 55,
     "metadata": {},
     "output_type": "execute_result"
    }
   ],
   "execution_count": 55
  },
  {
   "cell_type": "code",
   "id": "56d035cd411bb5a",
   "metadata": {
    "ExecuteTime": {
     "end_time": "2025-07-30T23:19:39.850210Z",
     "start_time": "2025-07-30T23:19:39.842999Z"
    }
   },
   "source": [
    "# Random Array with value ranging from 0 to 10 and make it 2-D per (ashape = (4, 4))\n",
    "random_array = np.random.randint(0, 10, size=ashape)\n",
    "random_array"
   ],
   "outputs": [
    {
     "data": {
      "text/plain": [
       "array([[5, 0, 2, 7],\n",
       "       [0, 1, 4, 4],\n",
       "       [3, 3, 6, 2],\n",
       "       [1, 1, 4, 6]])"
      ]
     },
     "execution_count": 56,
     "metadata": {},
     "output_type": "execute_result"
    }
   ],
   "execution_count": 56
  },
  {
   "cell_type": "code",
   "id": "54803d2c8e3d7792",
   "metadata": {
    "ExecuteTime": {
     "end_time": "2025-07-30T23:19:39.937334Z",
     "start_time": "2025-07-30T23:19:39.930165Z"
    }
   },
   "source": [
    "# show size nd shape of hte ransom array\n",
    "random_array.dtype"
   ],
   "outputs": [
    {
     "data": {
      "text/plain": [
       "dtype('int32')"
      ]
     },
     "execution_count": 57,
     "metadata": {},
     "output_type": "execute_result"
    }
   ],
   "execution_count": 57
  },
  {
   "cell_type": "code",
   "id": "8fa29e2b3acef325",
   "metadata": {
    "ExecuteTime": {
     "end_time": "2025-07-30T23:19:40.061452Z",
     "start_time": "2025-07-30T23:19:40.055470Z"
    }
   },
   "source": [
    "random_array.shape"
   ],
   "outputs": [
    {
     "data": {
      "text/plain": [
       "(4, 4)"
      ]
     },
     "execution_count": 58,
     "metadata": {},
     "output_type": "execute_result"
    }
   ],
   "execution_count": 58
  },
  {
   "cell_type": "code",
   "id": "7a0fc7b8d102e3ea",
   "metadata": {
    "ExecuteTime": {
     "end_time": "2025-07-30T23:19:40.147809Z",
     "start_time": "2025-07-30T23:19:40.143442Z"
    }
   },
   "source": [
    "random_array.size"
   ],
   "outputs": [
    {
     "data": {
      "text/plain": [
       "16"
      ]
     },
     "execution_count": 59,
     "metadata": {},
     "output_type": "execute_result"
    }
   ],
   "execution_count": 59
  },
  {
   "cell_type": "code",
   "id": "7fffe2ceda95410b",
   "metadata": {
    "ExecuteTime": {
     "end_time": "2025-07-30T23:19:40.219613Z",
     "start_time": "2025-07-30T23:19:40.210002Z"
    }
   },
   "source": [
    "# random.random will return random floats between 0 and 1 ... I can multiply them all by 100\n",
    "randarray = np.random.random((8, 8))\n",
    "randarray"
   ],
   "outputs": [
    {
     "data": {
      "text/plain": [
       "array([[0.01357105, 0.79719621, 0.41778153, 0.51983994, 0.78189584,\n",
       "        0.94267429, 0.78585131, 0.85383013],\n",
       "       [0.1372089 , 0.42417685, 0.21425374, 0.20701512, 0.7090222 ,\n",
       "        0.74805847, 0.74482639, 0.74689045],\n",
       "       [0.99003173, 0.80545606, 0.79413599, 0.69367983, 0.76324183,\n",
       "        0.64059305, 0.40141561, 0.49980905],\n",
       "       [0.53513014, 0.07105236, 0.04642501, 0.50134764, 0.74327624,\n",
       "        0.64896139, 0.04451263, 0.94797247],\n",
       "       [0.71950075, 0.47516323, 0.68743187, 0.77929042, 0.08058777,\n",
       "        0.89057908, 0.6105369 , 0.47203695],\n",
       "       [0.10883929, 0.70550695, 0.73441764, 0.32675948, 0.50316598,\n",
       "        0.30927303, 0.50508298, 0.01404208],\n",
       "       [0.15474264, 0.37254786, 0.08770541, 0.98881753, 0.7127199 ,\n",
       "        0.01218682, 0.55783091, 0.08063789],\n",
       "       [0.20900915, 0.48905412, 0.76726441, 0.16474451, 0.43220825,\n",
       "        0.70822901, 0.94606229, 0.46054383]])"
      ]
     },
     "execution_count": 60,
     "metadata": {},
     "output_type": "execute_result"
    }
   ],
   "execution_count": 60
  },
  {
   "cell_type": "code",
   "id": "61894e1e9c486f00",
   "metadata": {
    "ExecuteTime": {
     "end_time": "2025-07-30T23:19:40.290518Z",
     "start_time": "2025-07-30T23:19:40.284225Z"
    }
   },
   "source": [
    "# Quick way to multiply ALL elements in this 2-D array by a constant (100)\n",
    "randarray100 = randarray * 100\n",
    "randarray100"
   ],
   "outputs": [
    {
     "data": {
      "text/plain": [
       "array([[ 1.3571049 , 79.71962075, 41.77815288, 51.98399381, 78.18958366,\n",
       "        94.26742927, 78.58513059, 85.38301296],\n",
       "       [13.72088979, 42.4176852 , 21.42537374, 20.70151201, 70.90222026,\n",
       "        74.80584662, 74.48263883, 74.68904503],\n",
       "       [99.00317283, 80.54560601, 79.41359887, 69.3679834 , 76.32418265,\n",
       "        64.05930487, 40.14156133, 49.98090522],\n",
       "       [53.51301355,  7.1052359 ,  4.64250144, 50.13476414, 74.32762372,\n",
       "        64.89613852,  4.45126287, 94.79724708],\n",
       "       [71.95007538, 47.51632287, 68.74318712, 77.92904214,  8.05877696,\n",
       "        89.05790804, 61.05368988, 47.20369539],\n",
       "       [10.8839291 , 70.55069486, 73.44176354, 32.67594755, 50.3165976 ,\n",
       "        30.92730261, 50.50829844,  1.40420768],\n",
       "       [15.47426437, 37.25478558,  8.77054105, 98.88175298, 71.27199006,\n",
       "         1.21868173, 55.78309126,  8.06378918],\n",
       "       [20.90091519, 48.90541218, 76.72644073, 16.47445133, 43.22082537,\n",
       "        70.8229006 , 94.6062292 , 46.05438337]])"
      ]
     },
     "execution_count": 61,
     "metadata": {},
     "output_type": "execute_result"
    }
   ],
   "execution_count": 61
  },
  {
   "cell_type": "markdown",
   "id": "53db77e09e780c3d",
   "metadata": {},
   "source": [
    "## Pseudo random numbers are generated ... look into using a seed\n",
    "seed(seed=None)\n",
    "\n",
    "\n",
    "Reseed a legacy MT19937 BitGenerator\n",
    "This is a convenience, legacy function.\n",
    "The best practice is to not reseed a BitGenerator, rather to recreate a new one. This method is here for legacy reasons. This example demonstrates best practice.\n",
    ">>> from numpy.random import MT19937\n",
    ">>> from numpy.random import RandomState, SeedSequence\n",
    ">>> rs = RandomState(MT19937(SeedSequence(123456789)))\n",
    "### Later, you want to restart the stream\n",
    ">>> rs = RandomState(MT19937(SeedSequence(987654321)))"
   ]
  },
  {
   "cell_type": "code",
   "id": "119e2f3e222fee75",
   "metadata": {
    "ExecuteTime": {
     "end_time": "2025-07-30T23:19:40.435634Z",
     "start_time": "2025-07-30T23:19:40.427351Z"
    }
   },
   "source": [
    "np.random.seed()\n",
    "randarray100"
   ],
   "outputs": [
    {
     "data": {
      "text/plain": [
       "array([[ 1.3571049 , 79.71962075, 41.77815288, 51.98399381, 78.18958366,\n",
       "        94.26742927, 78.58513059, 85.38301296],\n",
       "       [13.72088979, 42.4176852 , 21.42537374, 20.70151201, 70.90222026,\n",
       "        74.80584662, 74.48263883, 74.68904503],\n",
       "       [99.00317283, 80.54560601, 79.41359887, 69.3679834 , 76.32418265,\n",
       "        64.05930487, 40.14156133, 49.98090522],\n",
       "       [53.51301355,  7.1052359 ,  4.64250144, 50.13476414, 74.32762372,\n",
       "        64.89613852,  4.45126287, 94.79724708],\n",
       "       [71.95007538, 47.51632287, 68.74318712, 77.92904214,  8.05877696,\n",
       "        89.05790804, 61.05368988, 47.20369539],\n",
       "       [10.8839291 , 70.55069486, 73.44176354, 32.67594755, 50.3165976 ,\n",
       "        30.92730261, 50.50829844,  1.40420768],\n",
       "       [15.47426437, 37.25478558,  8.77054105, 98.88175298, 71.27199006,\n",
       "         1.21868173, 55.78309126,  8.06378918],\n",
       "       [20.90091519, 48.90541218, 76.72644073, 16.47445133, 43.22082537,\n",
       "        70.8229006 , 94.6062292 , 46.05438337]])"
      ]
     },
     "execution_count": 62,
     "metadata": {},
     "output_type": "execute_result"
    }
   ],
   "execution_count": 62
  },
  {
   "cell_type": "code",
   "id": "724282ad8565d907",
   "metadata": {
    "ExecuteTime": {
     "end_time": "2025-07-30T23:19:40.616749Z",
     "start_time": "2025-07-30T23:19:40.611293Z"
    }
   },
   "source": [
    "# Pseudo random numbers\n",
    "np.random.seed(seed=20)\n",
    "# These all appear as random but if you want reproducible random numbers for the sake of re-creating an issue for instance, you can use a seed()\n",
    "random_array_4 = np.random.randint(10, size=(5, 3))\n",
    "random_array_4\n"
   ],
   "outputs": [
    {
     "data": {
      "text/plain": [
       "array([[3, 9, 4],\n",
       "       [6, 7, 2],\n",
       "       [0, 6, 8],\n",
       "       [5, 3, 0],\n",
       "       [6, 6, 0]])"
      ]
     },
     "execution_count": 63,
     "metadata": {},
     "output_type": "execute_result"
    }
   ],
   "execution_count": 63
  },
  {
   "cell_type": "code",
   "id": "67c4fbe8e2525c28",
   "metadata": {
    "ExecuteTime": {
     "end_time": "2025-07-30T23:19:40.796904Z",
     "start_time": "2025-07-30T23:19:40.790444Z"
    }
   },
   "source": [
    "#finding unique numbers in an array\n",
    "unique_array = np.unique([1, 2, 3, 4, 5, 1, 1, 2, 2, 44])"
   ],
   "outputs": [],
   "execution_count": 64
  },
  {
   "cell_type": "code",
   "id": "11b075dd89b6706c",
   "metadata": {
    "ExecuteTime": {
     "end_time": "2025-07-30T23:19:40.939827Z",
     "start_time": "2025-07-30T23:19:40.933516Z"
    }
   },
   "source": [
    "# @hen displaying these, it's important to remember that 'unique' is different than 'not a duplicate' ... this takes all numbers and return 1 vale for each, regardless of how many of that particular value are found in the array\n",
    "unique_array"
   ],
   "outputs": [
    {
     "data": {
      "text/plain": [
       "array([ 1,  2,  3,  4,  5, 44])"
      ]
     },
     "execution_count": 65,
     "metadata": {},
     "output_type": "execute_result"
    }
   ],
   "execution_count": 65
  },
  {
   "cell_type": "code",
   "id": "bde33b6840b8e480",
   "metadata": {
    "ExecuteTime": {
     "end_time": "2025-07-30T23:19:41.046300Z",
     "start_time": "2025-07-30T23:19:41.040050Z"
    }
   },
   "source": [
    "# Now try unique with the random array of integers\n",
    "unique_rand = np.unique(random_array_4)\n",
    "unique_rand"
   ],
   "outputs": [
    {
     "data": {
      "text/plain": [
       "array([0, 2, 3, 4, 5, 6, 7, 8, 9])"
      ]
     },
     "execution_count": 66,
     "metadata": {},
     "output_type": "execute_result"
    }
   ],
   "execution_count": 66
  },
  {
   "cell_type": "code",
   "id": "d6941cc8a32fbed2",
   "metadata": {
    "ExecuteTime": {
     "end_time": "2025-07-30T23:19:41.100151Z",
     "start_time": "2025-07-30T23:19:41.095731Z"
    }
   },
   "source": [
    "random_array_4"
   ],
   "outputs": [
    {
     "data": {
      "text/plain": [
       "array([[3, 9, 4],\n",
       "       [6, 7, 2],\n",
       "       [0, 6, 8],\n",
       "       [5, 3, 0],\n",
       "       [6, 6, 0]])"
      ]
     },
     "execution_count": 67,
     "metadata": {},
     "output_type": "execute_result"
    }
   ],
   "execution_count": 67
  },
  {
   "cell_type": "markdown",
   "id": "6142f9bf6adb7283",
   "metadata": {},
   "source": [
    "## 3. Viewing Arrays and Matrices"
   ]
  },
  {
   "cell_type": "code",
   "id": "72f59db9f51fbe42",
   "metadata": {
    "ExecuteTime": {
     "end_time": "2025-07-30T23:19:41.177290Z",
     "start_time": "2025-07-30T23:19:41.171449Z"
    }
   },
   "source": [
    "a1"
   ],
   "outputs": [
    {
     "data": {
      "text/plain": [
       "array([1, 2, 3])"
      ]
     },
     "execution_count": 68,
     "metadata": {},
     "output_type": "execute_result"
    }
   ],
   "execution_count": 68
  },
  {
   "cell_type": "code",
   "id": "10b029f1aa4ff8b7",
   "metadata": {
    "ExecuteTime": {
     "end_time": "2025-07-30T23:19:41.285633Z",
     "start_time": "2025-07-30T23:19:41.280326Z"
    }
   },
   "source": [
    "a2"
   ],
   "outputs": [
    {
     "data": {
      "text/plain": [
       "array([[1. , 2. , 3. ],\n",
       "       [4. , 5. , 6.5]])"
      ]
     },
     "execution_count": 69,
     "metadata": {},
     "output_type": "execute_result"
    }
   ],
   "execution_count": 69
  },
  {
   "cell_type": "code",
   "id": "baead0f84ef244d7",
   "metadata": {
    "ExecuteTime": {
     "end_time": "2025-07-30T23:19:41.410005Z",
     "start_time": "2025-07-30T23:19:41.402568Z"
    }
   },
   "source": [
    "print(a3) # 2x3x3\n",
    "a3.shape"
   ],
   "outputs": [
    {
     "name": "stdout",
     "output_type": "stream",
     "text": [
      "[[[ 1  2  3]\n",
      "  [ 4  5  6]\n",
      "  [ 7  8  9]]\n",
      "\n",
      " [[10 11 12]\n",
      "  [13 14 15]\n",
      "  [16 17 18]]]\n"
     ]
    },
    {
     "data": {
      "text/plain": [
       "(2, 3, 3)"
      ]
     },
     "execution_count": 70,
     "metadata": {},
     "output_type": "execute_result"
    }
   ],
   "execution_count": 70
  },
  {
   "cell_type": "code",
   "id": "1c3fe47d0e6e8c74",
   "metadata": {
    "ExecuteTime": {
     "end_time": "2025-07-30T23:19:41.499593Z",
     "start_time": "2025-07-30T23:19:41.494131Z"
    }
   },
   "source": [
    "print(\"Get all of the first elements\")\n",
    "print(\"****\")\n",
    "print(a1[0])\n",
    "print(\"****\")\n",
    "print(a2[0])\n",
    "print(\"****\")\n",
    "print(a3[0])\n",
    "print(\"****\")"
   ],
   "outputs": [
    {
     "name": "stdout",
     "output_type": "stream",
     "text": [
      "Get all of the first elements\n",
      "****\n",
      "1\n",
      "****\n",
      "[1. 2. 3.]\n",
      "****\n",
      "[[1 2 3]\n",
      " [4 5 6]\n",
      " [7 8 9]]\n",
      "****\n"
     ]
    }
   ],
   "execution_count": 71
  },
  {
   "cell_type": "code",
   "id": "7b63952f123e84fa",
   "metadata": {
    "ExecuteTime": {
     "end_time": "2025-07-30T23:19:41.600153Z",
     "start_time": "2025-07-30T23:19:41.593654Z"
    }
   },
   "source": [
    "a4 = np.random.randint(10, size=(2, 3, 4, 5))\n",
    "a4"
   ],
   "outputs": [
    {
     "data": {
      "text/plain": [
       "array([[[[9, 5, 7, 5, 2],\n",
       "         [6, 9, 3, 3, 9],\n",
       "         [0, 6, 2, 3, 1],\n",
       "         [8, 0, 2, 7, 6]],\n",
       "\n",
       "        [[6, 8, 2, 1, 3],\n",
       "         [2, 6, 9, 4, 6],\n",
       "         [4, 8, 6, 2, 3],\n",
       "         [1, 5, 2, 1, 8]],\n",
       "\n",
       "        [[2, 4, 4, 8, 6],\n",
       "         [0, 3, 4, 0, 5],\n",
       "         [6, 9, 7, 4, 0],\n",
       "         [6, 1, 9, 6, 7]]],\n",
       "\n",
       "\n",
       "       [[[9, 7, 6, 9, 8],\n",
       "         [8, 2, 2, 1, 5],\n",
       "         [2, 9, 7, 5, 5],\n",
       "         [9, 6, 9, 9, 5]],\n",
       "\n",
       "        [[2, 9, 6, 1, 8],\n",
       "         [1, 0, 8, 5, 0],\n",
       "         [6, 5, 4, 2, 9],\n",
       "         [9, 4, 5, 3, 9]],\n",
       "\n",
       "        [[7, 1, 2, 3, 6],\n",
       "         [5, 4, 4, 1, 8],\n",
       "         [7, 1, 9, 2, 3],\n",
       "         [4, 4, 4, 9, 0]]]])"
      ]
     },
     "execution_count": 72,
     "metadata": {},
     "output_type": "execute_result"
    }
   ],
   "execution_count": 72
  },
  {
   "cell_type": "code",
   "id": "d6486ea58af82871",
   "metadata": {
    "ExecuteTime": {
     "end_time": "2025-07-30T23:19:41.647127Z",
     "start_time": "2025-07-30T23:19:41.642133Z"
    }
   },
   "source": [
    "a4.shape, a4.ndim"
   ],
   "outputs": [
    {
     "data": {
      "text/plain": [
       "((2, 3, 4, 5), 4)"
      ]
     },
     "execution_count": 73,
     "metadata": {},
     "output_type": "execute_result"
    }
   ],
   "execution_count": 73
  },
  {
   "cell_type": "code",
   "id": "a954491ff4d0b09c",
   "metadata": {
    "ExecuteTime": {
     "end_time": "2025-07-30T23:19:41.690444Z",
     "start_time": "2025-07-30T23:19:41.684580Z"
    }
   },
   "source": [
    "a4[1][0][2][4]"
   ],
   "outputs": [
    {
     "data": {
      "text/plain": [
       "5"
      ]
     },
     "execution_count": 74,
     "metadata": {},
     "output_type": "execute_result"
    }
   ],
   "execution_count": 74
  },
  {
   "cell_type": "code",
   "id": "ac1854b84ba29e17",
   "metadata": {
    "ExecuteTime": {
     "end_time": "2025-07-30T23:19:41.737047Z",
     "start_time": "2025-07-30T23:19:41.731683Z"
    }
   },
   "source": [
    "a3"
   ],
   "outputs": [
    {
     "data": {
      "text/plain": [
       "array([[[ 1,  2,  3],\n",
       "        [ 4,  5,  6],\n",
       "        [ 7,  8,  9]],\n",
       "\n",
       "       [[10, 11, 12],\n",
       "        [13, 14, 15],\n",
       "        [16, 17, 18]]])"
      ]
     },
     "execution_count": 75,
     "metadata": {},
     "output_type": "execute_result"
    }
   ],
   "execution_count": 75
  },
  {
   "cell_type": "code",
   "id": "e2d45bea6554cf86",
   "metadata": {
    "ExecuteTime": {
     "end_time": "2025-07-30T23:19:41.784271Z",
     "start_time": "2025-07-30T23:19:41.780200Z"
    }
   },
   "source": [
    "a3_split = a3[:2, :3, 2:3]"
   ],
   "outputs": [],
   "execution_count": 76
  },
  {
   "cell_type": "code",
   "id": "ddb19457b900ab2e",
   "metadata": {
    "ExecuteTime": {
     "end_time": "2025-07-30T23:19:41.814174Z",
     "start_time": "2025-07-30T23:19:41.809700Z"
    }
   },
   "source": [
    "print(a3_split)"
   ],
   "outputs": [
    {
     "name": "stdout",
     "output_type": "stream",
     "text": [
      "[[[ 3]\n",
      "  [ 6]\n",
      "  [ 9]]\n",
      "\n",
      " [[12]\n",
      "  [15]\n",
      "  [18]]]\n"
     ]
    }
   ],
   "execution_count": 77
  },
  {
   "cell_type": "markdown",
   "id": "7e179998476042c3",
   "metadata": {},
   "source": [
    "## Manipulating and Comparing arrays"
   ]
  },
  {
   "cell_type": "code",
   "id": "5e38dffa32691bc5",
   "metadata": {
    "ExecuteTime": {
     "end_time": "2025-07-30T23:19:41.843862Z",
     "start_time": "2025-07-30T23:19:41.837617Z"
    }
   },
   "source": [
    "### Arithmetic\n",
    "a1"
   ],
   "outputs": [
    {
     "data": {
      "text/plain": [
       "array([1, 2, 3])"
      ]
     },
     "execution_count": 78,
     "metadata": {},
     "output_type": "execute_result"
    }
   ],
   "execution_count": 78
  },
  {
   "cell_type": "code",
   "id": "12efbaeefc04411e",
   "metadata": {
    "ExecuteTime": {
     "end_time": "2025-07-30T23:19:41.884145Z",
     "start_time": "2025-07-30T23:19:41.880088Z"
    }
   },
   "source": [
    "ones = np.ones(3)"
   ],
   "outputs": [],
   "execution_count": 79
  },
  {
   "cell_type": "code",
   "id": "df1403a1992edfed",
   "metadata": {
    "ExecuteTime": {
     "end_time": "2025-07-30T23:19:41.940002Z",
     "start_time": "2025-07-30T23:19:41.931027Z"
    }
   },
   "source": [
    "ones"
   ],
   "outputs": [
    {
     "data": {
      "text/plain": [
       "array([1., 1., 1.])"
      ]
     },
     "execution_count": 80,
     "metadata": {},
     "output_type": "execute_result"
    }
   ],
   "execution_count": 80
  },
  {
   "cell_type": "code",
   "id": "24fdf26d93a50618",
   "metadata": {
    "ExecuteTime": {
     "end_time": "2025-07-30T23:19:41.991172Z",
     "start_time": "2025-07-30T23:19:41.984748Z"
    }
   },
   "source": [
    "# adding and subtracting equal sized arrays\n",
    "result = a1 + ones\n",
    "result"
   ],
   "outputs": [
    {
     "data": {
      "text/plain": [
       "array([2., 3., 4.])"
      ]
     },
     "execution_count": 81,
     "metadata": {},
     "output_type": "execute_result"
    }
   ],
   "execution_count": 81
  },
  {
   "cell_type": "code",
   "id": "3602edb2775d3d97",
   "metadata": {
    "ExecuteTime": {
     "end_time": "2025-07-30T23:19:42.043078Z",
     "start_time": "2025-07-30T23:19:42.036290Z"
    }
   },
   "source": [
    "result = a1 - ones\n",
    "result"
   ],
   "outputs": [
    {
     "data": {
      "text/plain": [
       "array([0., 1., 2.])"
      ]
     },
     "execution_count": 82,
     "metadata": {},
     "output_type": "execute_result"
    }
   ],
   "execution_count": 82
  },
  {
   "cell_type": "code",
   "id": "7f1a9a0b5ffb0ead",
   "metadata": {
    "ExecuteTime": {
     "end_time": "2025-07-30T23:19:42.089282Z",
     "start_time": "2025-07-30T23:19:42.082234Z"
    }
   },
   "source": [
    "# Look at a2 it is a 2D array with 3 elements, a1 also has 3 elements, so multiplying a1*a2 should take the elements of a1 and multiply them by BOTH roews in a2 (they also have 3 elements)\n",
    "result = a1*a2\n",
    "print(a1)\n",
    "print(a2)\n",
    "print(result)"
   ],
   "outputs": [
    {
     "name": "stdout",
     "output_type": "stream",
     "text": [
      "[1 2 3]\n",
      "[[1.  2.  3. ]\n",
      " [4.  5.  6.5]]\n",
      "[[ 1.   4.   9. ]\n",
      " [ 4.  10.  19.5]]\n"
     ]
    }
   ],
   "execution_count": 83
  },
  {
   "cell_type": "code",
   "id": "99de71dc99a49323",
   "metadata": {
    "ExecuteTime": {
     "end_time": "2025-07-30T23:19:42.152173Z",
     "start_time": "2025-07-30T23:19:42.146792Z"
    }
   },
   "source": [
    "# a1 * a3 is possible because the shape is correct\n",
    "result = a1 * a3\n",
    "print(a1)\n",
    "print(a3)\n",
    "print(result)"
   ],
   "outputs": [
    {
     "name": "stdout",
     "output_type": "stream",
     "text": [
      "[1 2 3]\n",
      "[[[ 1  2  3]\n",
      "  [ 4  5  6]\n",
      "  [ 7  8  9]]\n",
      "\n",
      " [[10 11 12]\n",
      "  [13 14 15]\n",
      "  [16 17 18]]]\n",
      "[[[ 1  4  9]\n",
      "  [ 4 10 18]\n",
      "  [ 7 16 27]]\n",
      "\n",
      " [[10 22 36]\n",
      "  [13 28 45]\n",
      "  [16 34 54]]]\n"
     ]
    }
   ],
   "execution_count": 84
  },
  {
   "cell_type": "code",
   "id": "9dc56c735af2e128",
   "metadata": {
    "ExecuteTime": {
     "end_time": "2025-07-30T23:19:42.210903Z",
     "start_time": "2025-07-30T23:19:42.204636Z"
    }
   },
   "source": [
    "# Solving broad casting issues with different shapes of arrays\n",
    "# think on this problem, maybe reshape() an array\n",
    "print(a2)\n",
    "print(a3)"
   ],
   "outputs": [
    {
     "name": "stdout",
     "output_type": "stream",
     "text": [
      "[[1.  2.  3. ]\n",
      " [4.  5.  6.5]]\n",
      "[[[ 1  2  3]\n",
      "  [ 4  5  6]\n",
      "  [ 7  8  9]]\n",
      "\n",
      " [[10 11 12]\n",
      "  [13 14 15]\n",
      "  [16 17 18]]]\n"
     ]
    }
   ],
   "execution_count": 85
  },
  {
   "cell_type": "code",
   "id": "dd937c1f7cd71d5a",
   "metadata": {
    "ExecuteTime": {
     "end_time": "2025-07-30T23:19:42.272678Z",
     "start_time": "2025-07-30T23:19:42.266548Z"
    }
   },
   "source": [
    "print(a2.shape)\n",
    "print(a3.shape)"
   ],
   "outputs": [
    {
     "name": "stdout",
     "output_type": "stream",
     "text": [
      "(2, 3)\n",
      "(2, 3, 3)\n"
     ]
    }
   ],
   "execution_count": 86
  },
  {
   "cell_type": "code",
   "id": "81c6a778f02c0ca7",
   "metadata": {
    "ExecuteTime": {
     "end_time": "2025-07-30T23:19:42.348145Z",
     "start_time": "2025-07-30T23:19:42.342700Z"
    }
   },
   "source": [
    "reshaped_array = a2[:, np.newaxis] + a3\n",
    "reshaped_array"
   ],
   "outputs": [
    {
     "data": {
      "text/plain": [
       "array([[[ 2. ,  4. ,  6. ],\n",
       "        [ 5. ,  7. ,  9. ],\n",
       "        [ 8. , 10. , 12. ]],\n",
       "\n",
       "       [[14. , 16. , 18.5],\n",
       "        [17. , 19. , 21.5],\n",
       "        [20. , 22. , 24.5]]])"
      ]
     },
     "execution_count": 87,
     "metadata": {},
     "output_type": "execute_result"
    }
   ],
   "execution_count": 87
  },
  {
   "cell_type": "code",
   "id": "fd7eb98823c6959b",
   "metadata": {
    "ExecuteTime": {
     "end_time": "2025-07-30T23:19:42.432932Z",
     "start_time": "2025-07-30T23:19:42.426550Z"
    }
   },
   "source": [
    "print(\"This is a2 normal\")\n",
    "print(a2)\n",
    "print(\"This is a2 modified\")\n",
    "a2mod = a2[:, np.newaxis]\n",
    "print(a2mod)"
   ],
   "outputs": [
    {
     "name": "stdout",
     "output_type": "stream",
     "text": [
      "This is a2 normal\n",
      "[[1.  2.  3. ]\n",
      " [4.  5.  6.5]]\n",
      "This is a2 modified\n",
      "[[[1.  2.  3. ]]\n",
      "\n",
      " [[4.  5.  6.5]]]\n"
     ]
    }
   ],
   "execution_count": 88
  },
  {
   "cell_type": "code",
   "id": "3efbb13230629748",
   "metadata": {
    "ExecuteTime": {
     "end_time": "2025-07-30T23:19:42.505814Z",
     "start_time": "2025-07-30T23:19:42.499453Z"
    }
   },
   "source": [
    "a2.shape"
   ],
   "outputs": [
    {
     "data": {
      "text/plain": [
       "(2, 3)"
      ]
     },
     "execution_count": 89,
     "metadata": {},
     "output_type": "execute_result"
    }
   ],
   "execution_count": 89
  },
  {
   "cell_type": "code",
   "id": "30aed3ed6432e1a1",
   "metadata": {
    "ExecuteTime": {
     "end_time": "2025-07-30T23:19:42.572712Z",
     "start_time": "2025-07-30T23:19:42.567158Z"
    }
   },
   "source": [
    "a3.shape"
   ],
   "outputs": [
    {
     "data": {
      "text/plain": [
       "(2, 3, 3)"
      ]
     },
     "execution_count": 90,
     "metadata": {},
     "output_type": "execute_result"
    }
   ],
   "execution_count": 90
  },
  {
   "cell_type": "code",
   "id": "d1860a2d5879344b",
   "metadata": {
    "ExecuteTime": {
     "end_time": "2025-07-30T23:19:42.701854Z",
     "start_time": "2025-07-30T23:19:42.696218Z"
    }
   },
   "source": [
    "a2mod.shape"
   ],
   "outputs": [
    {
     "data": {
      "text/plain": [
       "(2, 1, 3)"
      ]
     },
     "execution_count": 91,
     "metadata": {},
     "output_type": "execute_result"
    }
   ],
   "execution_count": 91
  },
  {
   "cell_type": "markdown",
   "id": "40fa8978fc87b64d",
   "metadata": {},
   "source": [
    "### Aggregation\n",
    "Aggregation = performing the same operation on a number of things"
   ]
  },
  {
   "cell_type": "code",
   "id": "804a88f42ccba82e",
   "metadata": {
    "ExecuteTime": {
     "end_time": "2025-07-30T23:19:42.791248Z",
     "start_time": "2025-07-30T23:19:42.786879Z"
    }
   },
   "source": [
    "listy_list = [1, 2, 3]\n",
    "print(listy_list)\n",
    "print(type(listy_list))\n"
   ],
   "outputs": [
    {
     "name": "stdout",
     "output_type": "stream",
     "text": [
      "[1, 2, 3]\n",
      "<class 'list'>\n"
     ]
    }
   ],
   "execution_count": 92
  },
  {
   "cell_type": "code",
   "id": "3e8223fcd5164e28",
   "metadata": {
    "ExecuteTime": {
     "end_time": "2025-07-30T23:19:42.830418Z",
     "start_time": "2025-07-30T23:19:42.826301Z"
    }
   },
   "source": [
    "print(a1)\n",
    "print(listy_list)"
   ],
   "outputs": [
    {
     "name": "stdout",
     "output_type": "stream",
     "text": [
      "[1 2 3]\n",
      "[1, 2, 3]\n"
     ]
    }
   ],
   "execution_count": 93
  },
  {
   "cell_type": "code",
   "id": "c20ac4fa1703cc07",
   "metadata": {
    "ExecuteTime": {
     "end_time": "2025-07-30T23:19:42.866256Z",
     "start_time": "2025-07-30T23:19:42.861723Z"
    }
   },
   "source": [
    "sum(listy_list)"
   ],
   "outputs": [
    {
     "data": {
      "text/plain": [
       "6"
      ]
     },
     "execution_count": 94,
     "metadata": {},
     "output_type": "execute_result"
    }
   ],
   "execution_count": 94
  },
  {
   "cell_type": "code",
   "id": "abe4f3468cba41a5",
   "metadata": {
    "ExecuteTime": {
     "end_time": "2025-07-30T23:19:42.911580Z",
     "start_time": "2025-07-30T23:19:42.905626Z"
    }
   },
   "source": [
    "sum(a1)"
   ],
   "outputs": [
    {
     "data": {
      "text/plain": [
       "6"
      ]
     },
     "execution_count": 95,
     "metadata": {},
     "output_type": "execute_result"
    }
   ],
   "execution_count": 95
  },
  {
   "cell_type": "code",
   "id": "c717225dc8441ae4",
   "metadata": {
    "ExecuteTime": {
     "end_time": "2025-07-30T23:19:43.079975Z",
     "start_time": "2025-07-30T23:19:43.074394Z"
    }
   },
   "source": [
    "np.sum(a1)"
   ],
   "outputs": [
    {
     "data": {
      "text/plain": [
       "6"
      ]
     },
     "execution_count": 96,
     "metadata": {},
     "output_type": "execute_result"
    }
   ],
   "execution_count": 96
  },
  {
   "cell_type": "code",
   "id": "44df6bd90ba828e2",
   "metadata": {
    "ExecuteTime": {
     "end_time": "2025-07-30T23:19:43.179769Z",
     "start_time": "2025-07-30T23:19:43.172724Z"
    }
   },
   "source": [
    "massive_array = np.random.random(100000)\n",
    "massive_array.size"
   ],
   "outputs": [
    {
     "data": {
      "text/plain": [
       "100000"
      ]
     },
     "execution_count": 97,
     "metadata": {},
     "output_type": "execute_result"
    }
   ],
   "execution_count": 97
  },
  {
   "cell_type": "code",
   "id": "e3c57a203319169f",
   "metadata": {
    "ExecuteTime": {
     "end_time": "2025-07-30T23:19:43.283071Z",
     "start_time": "2025-07-30T23:19:43.277087Z"
    }
   },
   "source": [
    "massive_array[:10]"
   ],
   "outputs": [
    {
     "data": {
      "text/plain": [
       "array([0.08081596, 0.46521234, 0.67711049, 0.007521  , 0.67859914,\n",
       "       0.80201725, 0.97211109, 0.86017942, 0.42101686, 0.89977262])"
      ]
     },
     "execution_count": 98,
     "metadata": {},
     "output_type": "execute_result"
    }
   ],
   "execution_count": 98
  },
  {
   "cell_type": "code",
   "id": "fe9b63e657019e3",
   "metadata": {
    "ExecuteTime": {
     "end_time": "2025-07-30T23:19:51.395321Z",
     "start_time": "2025-07-30T23:19:43.376674Z"
    }
   },
   "source": [
    "%timeit sum(massive_array)\n",
    "%timeit np.sum(massive_array)"
   ],
   "outputs": [
    {
     "name": "stdout",
     "output_type": "stream",
     "text": [
      "6.16 ms ± 230 μs per loop (mean ± std. dev. of 7 runs, 100 loops each)\n",
      "35.9 μs ± 1.01 μs per loop (mean ± std. dev. of 7 runs, 10,000 loops each)\n"
     ]
    }
   ],
   "execution_count": 99
  },
  {
   "cell_type": "code",
   "id": "64b37a769c1932a0",
   "metadata": {
    "ExecuteTime": {
     "end_time": "2025-07-30T23:19:51.419427Z",
     "start_time": "2025-07-30T23:19:51.413880Z"
    }
   },
   "source": [
    "2910/12.8"
   ],
   "outputs": [
    {
     "data": {
      "text/plain": [
       "227.34375"
      ]
     },
     "execution_count": 100,
     "metadata": {},
     "output_type": "execute_result"
    }
   ],
   "execution_count": 100
  },
  {
   "cell_type": "code",
   "id": "ab23be21542012bb",
   "metadata": {
    "ExecuteTime": {
     "end_time": "2025-07-30T23:19:51.449503Z",
     "start_time": "2025-07-30T23:19:51.445818Z"
    }
   },
   "source": [
    "# So the np.sum is 227 times faster than the regular python sum.\n",
    "# That is why its better to use np.sum on np data and not python sum on np data"
   ],
   "outputs": [],
   "execution_count": 101
  },
  {
   "cell_type": "code",
   "id": "c921505aaf3fc577",
   "metadata": {
    "ExecuteTime": {
     "end_time": "2025-07-30T23:19:51.484768Z",
     "start_time": "2025-07-30T23:19:51.479205Z"
    }
   },
   "source": [
    "a2"
   ],
   "outputs": [
    {
     "data": {
      "text/plain": [
       "array([[1. , 2. , 3. ],\n",
       "       [4. , 5. , 6.5]])"
      ]
     },
     "execution_count": 102,
     "metadata": {},
     "output_type": "execute_result"
    }
   ],
   "execution_count": 102
  },
  {
   "cell_type": "code",
   "id": "3878917176ed832d",
   "metadata": {
    "ExecuteTime": {
     "end_time": "2025-07-30T23:19:51.600394Z",
     "start_time": "2025-07-30T23:19:51.593749Z"
    }
   },
   "source": [
    "print(np.mean(a2))\n",
    "print(21.5 / np.size(a2))"
   ],
   "outputs": [
    {
     "name": "stdout",
     "output_type": "stream",
     "text": [
      "3.5833333333333335\n",
      "3.5833333333333335\n"
     ]
    }
   ],
   "execution_count": 103
  },
  {
   "cell_type": "code",
   "id": "7d405ab235013af",
   "metadata": {
    "ExecuteTime": {
     "end_time": "2025-07-30T23:19:51.674018Z",
     "start_time": "2025-07-30T23:19:51.667662Z"
    }
   },
   "source": [
    "# Statistical Operations\n",
    "# MEAN or AVERAGE\n",
    "print(\"The Mean / average is: \")\n",
    "print(np.mean(a2))\n",
    "\n",
    "# STANDARD DEVIATION = a measure of how spread out a number is from the mean\n",
    "# and is the square root of the variant ... so sqrt(np.var(a2))\n",
    "print(\"The Standard Deviation is: \")\n",
    "print(np.std(a2))\n",
    "\n",
    "# Square root of the variant\n",
    "print(\"The sqrt of the variant is: \")\n",
    "print(np.sqrt(np.var(a2)))\n",
    "\n",
    "# VARIANCE\n",
    "# The measure of the average degree to which each number is different to the mean.\n",
    "# Higher variance = wider range of numbers\n",
    "# Lower variance = lower range of numbers\n",
    "print(\"The Variance is: \")\n",
    "print(np.var(a2))"
   ],
   "outputs": [
    {
     "name": "stdout",
     "output_type": "stream",
     "text": [
      "The Mean / average is: \n",
      "3.5833333333333335\n",
      "The Standard Deviation is: \n",
      "1.8352262954621035\n",
      "The sqrt of the variant is: \n",
      "1.8352262954621035\n",
      "The Variance is: \n",
      "3.368055555555556\n"
     ]
    }
   ],
   "execution_count": 104
  },
  {
   "cell_type": "markdown",
   "id": "fa759c34b53c5046",
   "metadata": {},
   "source": [
    "## Real World Example of calculating Means and Variances and what they are by definition"
   ]
  },
  {
   "cell_type": "markdown",
   "id": "737bb6e1e1b5c44d",
   "metadata": {},
   "source": [
    "## Problem Definition:\n",
    "![](statistics-dogs-graph.gif)\n",
    "\n",
    "To calculate the variance follow these steps:\n",
    "\n",
    "Calculate the Mean (the simple average of the numbers)\n",
    "\n",
    "Then for each number: subtract the Mean and square the result (the squared difference).\n",
    "\n",
    "Then calculate the average of those squared differences. (Why Square?)\n",
    "\n",
    "Example:\n",
    "You and your friends have just measured the heights of your dogs (in millimeters):\n",
    "\n",
    "dogs on graph shoulder heights\n",
    "\n",
    "The heights (at the shoulders) are: 600 mm, 470 mm, 170 mm, 430 mm and 300 mm.\n",
    "\n",
    "Find out the Mean, the Variance, and the Standard Deviation."
   ]
  },
  {
   "cell_type": "code",
   "id": "116a585bf33129c7",
   "metadata": {
    "ExecuteTime": {
     "end_time": "2025-07-30T23:19:51.888753Z",
     "start_time": "2025-07-30T23:19:51.761920Z"
    }
   },
   "source": [
    "# Het a Histogram of the dog height data\n",
    "import matplotlib.pyplot as plt\n",
    "dog_heights = np.array([170, 300, 430, 470, 600])\n",
    "plt.hist(dog_heights, bins=50)\n",
    "plt.show()"
   ],
   "outputs": [
    {
     "data": {
      "text/plain": [
       "<Figure size 640x480 with 1 Axes>"
      ],
      "image/png": "[encoded data removed]"
     },
     "metadata": {},
     "output_type": "display_data"
    }
   ],
   "execution_count": 105
  },
  {
   "metadata": {
    "ExecuteTime": {
     "end_time": "2025-07-30T23:19:51.922546Z",
     "start_time": "2025-07-30T23:19:51.917089Z"
    }
   },
   "cell_type": "code",
   "source": [
    "# Step 1: Calculate the mean\n",
    "print(\"The dog heights\")\n",
    "dog_heights = np.array([170, 300, 430, 470, 600])\n",
    "print(dog_heights)"
   ],
   "id": "a80dfeb0e595b6f4",
   "outputs": [
    {
     "name": "stdout",
     "output_type": "stream",
     "text": [
      "The dog heights\n",
      "[170 300 430 470 600]\n"
     ]
    }
   ],
   "execution_count": 106
  },
  {
   "cell_type": "code",
   "id": "64fa5760d3c34de4",
   "metadata": {
    "ExecuteTime": {
     "end_time": "2025-07-30T23:19:52.005888Z",
     "start_time": "2025-07-30T23:19:52.000324Z"
    }
   },
   "source": [
    "print(\"MEAN The dog heights average / mean\")\n",
    "dog_heights_mean = np.mean(dog_heights)\n",
    "print(dog_heights_mean)"
   ],
   "outputs": [
    {
     "name": "stdout",
     "output_type": "stream",
     "text": [
      "MEAN The dog heights average / mean\n",
      "394.0\n"
     ]
    }
   ],
   "execution_count": 107
  },
  {
   "cell_type": "code",
   "id": "a56d04e42b80b34c",
   "metadata": {
    "ExecuteTime": {
     "end_time": "2025-07-30T23:19:52.072282Z",
     "start_time": "2025-07-30T23:19:52.068266Z"
    }
   },
   "source": [
    "print(\"Now subtract the mean() from each number\")\n",
    "dog_heights_sub_mean = np.subtract(dog_heights, dog_heights_mean)\n",
    "print(dog_heights_sub_mean)"
   ],
   "outputs": [
    {
     "name": "stdout",
     "output_type": "stream",
     "text": [
      "Now subtract the mean() from each number\n",
      "[-224.  -94.   36.   76.  206.]\n"
     ]
    }
   ],
   "execution_count": 108
  },
  {
   "cell_type": "code",
   "id": "5aa22ef322dbb466",
   "metadata": {
    "ExecuteTime": {
     "end_time": "2025-07-30T23:19:52.146609Z",
     "start_time": "2025-07-30T23:19:52.142114Z"
    }
   },
   "source": [
    "print(\"Now square each number in the array\")\n",
    "dog_heights_sub_mean_sqrd = np.square(dog_heights_sub_mean)\n",
    "print(dog_heights_sub_mean_sqrd)"
   ],
   "outputs": [
    {
     "name": "stdout",
     "output_type": "stream",
     "text": [
      "Now square each number in the array\n",
      "[50176.  8836.  1296.  5776. 42436.]\n"
     ]
    }
   ],
   "execution_count": 109
  },
  {
   "cell_type": "code",
   "id": "93ea2aaefa7dfe78",
   "metadata": {
    "ExecuteTime": {
     "end_time": "2025-07-30T23:19:52.222325Z",
     "start_time": "2025-07-30T23:19:52.217760Z"
    }
   },
   "source": [
    "print(\"VARIANCE = Now take the average/mean of the square array [[dog_heights_sub_mean_sqrd]]\")\n",
    "dog_heights_sub_mean_sqrd_mean = np.mean(dog_heights_sub_mean_sqrd)\n",
    "print(dog_heights_sub_mean_sqrd_mean)"
   ],
   "outputs": [
    {
     "name": "stdout",
     "output_type": "stream",
     "text": [
      "VARIANCE = Now take the average/mean of the square array [[dog_heights_sub_mean_sqrd]]\n",
      "21704.0\n"
     ]
    }
   ],
   "execution_count": 110
  },
  {
   "cell_type": "code",
   "id": "3767d68681fc6af0",
   "metadata": {
    "ExecuteTime": {
     "end_time": "2025-07-30T23:19:52.291311Z",
     "start_time": "2025-07-30T23:19:52.287078Z"
    }
   },
   "source": [
    "print(\"STANDARD DEVIATION Now take the sqrt of the Variance (21704)\")\n",
    "standard_dev = np.sqrt(dog_heights_sub_mean_sqrd_mean)\n",
    "print(standard_dev)"
   ],
   "outputs": [
    {
     "name": "stdout",
     "output_type": "stream",
     "text": [
      "STANDARD DEVIATION Now take the sqrt of the Variance (21704)\n",
      "147.32277488562318\n"
     ]
    }
   ],
   "execution_count": 111
  },
  {
   "metadata": {},
   "cell_type": "markdown",
   "source": "## Demo of Standard Deviation and Variance",
   "id": "455dd708d30eb38e"
  },
  {
   "metadata": {
    "ExecuteTime": {
     "end_time": "2025-07-30T23:19:52.374892Z",
     "start_time": "2025-07-30T23:19:52.370615Z"
    }
   },
   "cell_type": "code",
   "source": [
    "high_var_array = np.array([1, 100, 200, 300, 4000, 5000])\n",
    "low_var_array = np.array([2, 4, 6, 8, 10])"
   ],
   "id": "a966ab7a4254ce4a",
   "outputs": [],
   "execution_count": 112
  },
  {
   "metadata": {
    "ExecuteTime": {
     "end_time": "2025-07-30T23:19:52.405523Z",
     "start_time": "2025-07-30T23:19:52.399773Z"
    }
   },
   "cell_type": "code",
   "source": [
    "# Get the Variance\n",
    "np.var(high_var_array), np.var(low_var_array)"
   ],
   "id": "fe6d63c3fbf5ec7d",
   "outputs": [
    {
     "data": {
      "text/plain": [
       "(4296133.472222221, 8.0)"
      ]
     },
     "execution_count": 113,
     "metadata": {},
     "output_type": "execute_result"
    }
   ],
   "execution_count": 113
  },
  {
   "metadata": {
    "ExecuteTime": {
     "end_time": "2025-07-30T23:19:52.459288Z",
     "start_time": "2025-07-30T23:19:52.452959Z"
    }
   },
   "cell_type": "code",
   "source": [
    "# SQRT of variation is the Standard Deviation\n",
    "np.sqrt(np.var(high_var_array)), np.sqrt(np.var(low_var_array))"
   ],
   "id": "e7e48613afc6e5d6",
   "outputs": [
    {
     "data": {
      "text/plain": [
       "(2072.711623024829, 2.8284271247461903)"
      ]
     },
     "execution_count": 114,
     "metadata": {},
     "output_type": "execute_result"
    }
   ],
   "execution_count": 114
  },
  {
   "metadata": {
    "ExecuteTime": {
     "end_time": "2025-07-30T23:19:52.512746Z",
     "start_time": "2025-07-30T23:19:52.507659Z"
    }
   },
   "cell_type": "code",
   "source": [
    "# SQRT'd values above show that they are the same as using the std() function\n",
    "np.std(high_var_array), np.std(low_var_array)"
   ],
   "id": "719f0b57e3b4df7b",
   "outputs": [
    {
     "data": {
      "text/plain": [
       "(2072.711623024829, 2.8284271247461903)"
      ]
     },
     "execution_count": 115,
     "metadata": {},
     "output_type": "execute_result"
    }
   ],
   "execution_count": 115
  },
  {
   "metadata": {
    "ExecuteTime": {
     "end_time": "2025-07-30T23:19:52.577421Z",
     "start_time": "2025-07-30T23:19:52.572392Z"
    }
   },
   "cell_type": "code",
   "source": [
    "# Get the mean\n",
    "np.mean(high_var_array), np.mean(low_var_array)"
   ],
   "id": "8262e87be49897cd",
   "outputs": [
    {
     "data": {
      "text/plain": [
       "(1600.1666666666667, 6.0)"
      ]
     },
     "execution_count": 116,
     "metadata": {},
     "output_type": "execute_result"
    }
   ],
   "execution_count": 116
  },
  {
   "metadata": {
    "ExecuteTime": {
     "end_time": "2025-07-30T23:19:52.737330Z",
     "start_time": "2025-07-30T23:19:52.633936Z"
    }
   },
   "cell_type": "code",
   "source": [
    "import matplotlib.pyplot as plt\n",
    "plt.hist(high_var_array)\n",
    "plt.show()"
   ],
   "id": "1d581ffbf6def952",
   "outputs": [
    {
     "data": {
      "text/plain": [
       "<Figure size 640x480 with 1 Axes>"
      ],
      "image/png": "[encoded data removed]"
     },
     "metadata": {},
     "output_type": "display_data"
    }
   ],
   "execution_count": 117
  },
  {
   "metadata": {
    "ExecuteTime": {
     "end_time": "2025-07-30T23:19:52.856689Z",
     "start_time": "2025-07-30T23:19:52.758978Z"
    }
   },
   "cell_type": "code",
   "source": [
    "plt.hist(low_var_array, bins=10)\n",
    "plt.show()"
   ],
   "id": "a5fc1aa03b693c95",
   "outputs": [
    {
     "data": {
      "text/plain": [
       "<Figure size 640x480 with 1 Axes>"
      ],
      "image/png": "[encoded data removed]"
     },
     "metadata": {},
     "output_type": "display_data"
    }
   ],
   "execution_count": 118
  },
  {
   "metadata": {},
   "cell_type": "markdown",
   "source": "### Reshaping and Transposing Arrays",
   "id": "2ffb45e402018560"
  },
  {
   "metadata": {
    "ExecuteTime": {
     "end_time": "2025-07-30T23:21:36.651172Z",
     "start_time": "2025-07-30T23:21:36.644841Z"
    }
   },
   "cell_type": "code",
   "source": [
    "print(a2)\n",
    "print(a2.shape)"
   ],
   "id": "947f94ac52caa412",
   "outputs": [
    {
     "name": "stdout",
     "output_type": "stream",
     "text": [
      "[[1.  2.  3. ]\n",
      " [4.  5.  6.5]]\n",
      "(2, 3)\n"
     ]
    }
   ],
   "execution_count": 125
  },
  {
   "metadata": {
    "ExecuteTime": {
     "end_time": "2025-07-30T23:28:10.334450Z",
     "start_time": "2025-07-30T23:28:10.329135Z"
    }
   },
   "cell_type": "code",
   "source": [
    "print(a3)\n",
    "print(a3.shape)"
   ],
   "id": "f9818251aaf38981",
   "outputs": [
    {
     "name": "stdout",
     "output_type": "stream",
     "text": [
      "[[[ 1  2  3]\n",
      "  [ 4  5  6]\n",
      "  [ 7  8  9]]\n",
      "\n",
      " [[10 11 12]\n",
      "  [13 14 15]\n",
      "  [16 17 18]]]\n",
      "(2, 3, 3)\n"
     ]
    }
   ],
   "execution_count": 131
  },
  {
   "metadata": {
    "ExecuteTime": {
     "end_time": "2025-07-30T23:56:13.195184Z",
     "start_time": "2025-07-30T23:56:13.190231Z"
    }
   },
   "cell_type": "code",
   "source": [
    "a2r = a2.reshape(2,3,1)\n",
    "print(a2.reshape(2,3,1).shape)\n",
    "print(\"***\\n\" + str(a2) + \"\\n***\")\n",
    "print(\"***\\n\" + str(a2r) + \"\\n***\")"
   ],
   "id": "fcb70be7996c60dc",
   "outputs": [
    {
     "name": "stdout",
     "output_type": "stream",
     "text": [
      "(2, 3, 1)\n",
      "***\n",
      "[[1.  2.  3. ]\n",
      " [4.  5.  6.5]]\n",
      "***\n",
      "***\n",
      "[[[1. ]\n",
      "  [2. ]\n",
      "  [3. ]]\n",
      "\n",
      " [[4. ]\n",
      "  [5. ]\n",
      "  [6.5]]]\n",
      "***\n"
     ]
    }
   ],
   "execution_count": 145
  },
  {
   "metadata": {
    "ExecuteTime": {
     "end_time": "2025-07-30T23:37:29.389961Z",
     "start_time": "2025-07-30T23:37:29.384343Z"
    }
   },
   "cell_type": "code",
   "source": [
    "result = a2r * a3\n",
    "print(\"**** a2r ****\")\n",
    "print(a2r)\n",
    "print(\"**** a3 ****\")\n",
    "print(a3)\n",
    "print(\"**** a2r * a3 ****\")\n",
    "print(result)"
   ],
   "id": "65ea06b54426b5bd",
   "outputs": [
    {
     "name": "stdout",
     "output_type": "stream",
     "text": [
      "**** a2r ****\n",
      "[[[1. ]\n",
      "  [2. ]\n",
      "  [3. ]]\n",
      "\n",
      " [[4. ]\n",
      "  [5. ]\n",
      "  [6.5]]]\n",
      "**** a3 ****\n",
      "[[[ 1  2  3]\n",
      "  [ 4  5  6]\n",
      "  [ 7  8  9]]\n",
      "\n",
      " [[10 11 12]\n",
      "  [13 14 15]\n",
      "  [16 17 18]]]\n",
      "**** a2r * a3 ****\n",
      "[[[  1.    2.    3. ]\n",
      "  [  8.   10.   12. ]\n",
      "  [ 21.   24.   27. ]]\n",
      "\n",
      " [[ 40.   44.   48. ]\n",
      "  [ 65.   70.   75. ]\n",
      "  [104.  110.5 117. ]]]\n"
     ]
    }
   ],
   "execution_count": 140
  },
  {
   "metadata": {
    "jupyter": {
     "is_executing": true
    }
   },
   "cell_type": "code",
   "source": "",
   "id": "b7a61e325e2d1900",
   "outputs": [],
   "execution_count": null
  },
  {
   "metadata": {},
   "cell_type": "code",
   "outputs": [],
   "execution_count": null,
   "source": "",
   "id": "33a70a9bc94fb244"
  }
 ],
 "metadata": {
  "kernelspec": {
   "display_name": "Python 3 (ipykernel)",
   "language": "python",
   "name": "python3"
  },
  "language_info": {
   "codemirror_mode": {
    "name": "ipython",
    "version": 3
   },
   "file_extension": ".py",
   "mimetype": "text/x-python",
   "name": "python",
   "nbconvert_exporter": "python",
   "pygments_lexer": "ipython3",
   "version": "3.12.2"
  }
 },
 "nbformat": 4,
 "nbformat_minor": 5
}
