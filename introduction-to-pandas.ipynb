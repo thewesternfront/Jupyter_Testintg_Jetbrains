{
 "cells": [
  {
   "metadata": {},
   "cell_type": "markdown",
   "source": [
    "![](6-step-ml-framework.png)\n",
    "Framework Overview"
   ],
   "id": "841cf262fa7b8ffd"
  },
  {
   "metadata": {
    "ExecuteTime": {
     "end_time": "2025-07-19T02:02:47.225812Z",
     "start_time": "2025-07-19T02:02:47.212551Z"
    }
   },
   "cell_type": "code",
   "source": [
    "import pandas as pd\n",
    "import matplotlib as plt\n"
   ],
   "id": "3993c13c81299e4e",
   "outputs": [],
   "execution_count": 329
  },
  {
   "metadata": {},
   "cell_type": "markdown",
   "source": "## Create 4 series, for cars and colours",
   "id": "7373cb2a60210bcd"
  },
  {
   "metadata": {
    "ExecuteTime": {
     "end_time": "2025-07-19T02:02:47.269904Z",
     "start_time": "2025-07-19T02:02:47.266471Z"
    }
   },
   "cell_type": "code",
   "source": [
    "# 2 main data types\n",
    "troy_series1 = pd.Series([\"BMW\", \"Toyota\", \"Mazda\"])\n",
    "troy_series2 = pd.Series([\"Ford\", \"Chevrolet\", \"Dodge\"])\n",
    "troy_series3 = pd.Series([\"Kia\", \"Fiat\", \"Mercedes\"])\n",
    "colours = pd.Series([\"Red\", \"Green\", \"Blue\"])"
   ],
   "id": "45e2f5486d3e03bf",
   "outputs": [],
   "execution_count": 330
  },
  {
   "metadata": {},
   "cell_type": "markdown",
   "source": "## Print the Series",
   "id": "4fb2593e1684c100"
  },
  {
   "metadata": {
    "ExecuteTime": {
     "end_time": "2025-07-19T02:02:47.289458Z",
     "start_time": "2025-07-19T02:02:47.285389Z"
    }
   },
   "cell_type": "code",
   "source": [
    "print(troy_series1)\n",
    "print(troy_series2)\n",
    "print(troy_series3)"
   ],
   "id": "a22e9a55369bf4a2",
   "outputs": [
    {
     "name": "stdout",
     "output_type": "stream",
     "text": [
      "0       BMW\n",
      "1    Toyota\n",
      "2     Mazda\n",
      "dtype: object\n",
      "0         Ford\n",
      "1    Chevrolet\n",
      "2        Dodge\n",
      "dtype: object\n",
      "0         Kia\n",
      "1        Fiat\n",
      "2    Mercedes\n",
      "dtype: object\n"
     ]
    }
   ],
   "execution_count": 331
  },
  {
   "metadata": {},
   "cell_type": "markdown",
   "source": "## Pass series to Data Frame and use a Python dictionary to create the data Frame",
   "id": "141d9fcac470d382"
  },
  {
   "metadata": {
    "ExecuteTime": {
     "end_time": "2025-07-19T02:02:47.313133Z",
     "start_time": "2025-07-19T02:02:47.308105Z"
    }
   },
   "cell_type": "code",
   "source": [
    "car_data = pd.DataFrame({\"Car Make 1\": troy_series1, \"Car Make 2\": troy_series2, \"Car Make 3\": troy_series3, \"Colour\": colours})\n",
    "print(car_data)"
   ],
   "id": "b6baa14014ae9c26",
   "outputs": [
    {
     "name": "stdout",
     "output_type": "stream",
     "text": [
      "  Car Make 1 Car Make 2 Car Make 3 Colour\n",
      "0        BMW       Ford        Kia    Red\n",
      "1     Toyota  Chevrolet       Fiat  Green\n",
      "2      Mazda      Dodge   Mercedes   Blue\n"
     ]
    }
   ],
   "execution_count": 332
  },
  {
   "metadata": {},
   "cell_type": "markdown",
   "source": "## Import Data instead of creating a dict()",
   "id": "dd76e9c2f26f88fa"
  },
  {
   "metadata": {
    "ExecuteTime": {
     "end_time": "2025-07-19T02:02:47.335751Z",
     "start_time": "2025-07-19T02:02:47.329276Z"
    }
   },
   "cell_type": "code",
   "source": [
    "# Import Data from file\n",
    "car_sales = pd.read_csv(\"car-sales.csv\")"
   ],
   "id": "d69fa7adb5b00505",
   "outputs": [],
   "execution_count": 333
  },
  {
   "metadata": {
    "ExecuteTime": {
     "end_time": "2025-07-19T02:02:47.352557Z",
     "start_time": "2025-07-19T02:02:47.349239Z"
    }
   },
   "cell_type": "code",
   "source": "print(car_sales)",
   "id": "3a2e6713fecd4c7d",
   "outputs": [
    {
     "name": "stdout",
     "output_type": "stream",
     "text": [
      "     Make Colour  Odometer  Doors       Price\n",
      "0  Toyota  White    150043      4   $4,000.00\n",
      "1   Honda    Red     87889      4   $5,000.00\n",
      "2  Toyota   Blue     32549      3   $7,000.00\n",
      "3     BMW  Black     11179      5  $22,000.00\n",
      "4  Nissan  White    213095      4   $3,500.00\n",
      "5  Toyota  Green     99213      4   $4,500.00\n",
      "6   Honda   Blue     45698      4   $7,500.00\n",
      "7   Honda   Blue     54738      4   $7,000.00\n",
      "8  Toyota  White     60000      4   $6,250.00\n",
      "9  Nissan  White     31600      4   $9,700.00\n"
     ]
    }
   ],
   "execution_count": 334
  },
  {
   "metadata": {},
   "cell_type": "markdown",
   "source": "## Exporting a DataFrame",
   "id": "1b2f2bafbb2f2f20"
  },
  {
   "metadata": {
    "ExecuteTime": {
     "end_time": "2025-07-19T02:02:47.376727Z",
     "start_time": "2025-07-19T02:02:47.371233Z"
    }
   },
   "cell_type": "code",
   "source": "car_sales.to_csv(\"car-sales_EXPORTED.csv\", index=False)",
   "id": "6f08d3e21859bd78",
   "outputs": [],
   "execution_count": 335
  },
  {
   "metadata": {},
   "cell_type": "markdown",
   "source": "## Import the exported car data",
   "id": "bc7fb31dbb278dde"
  },
  {
   "metadata": {
    "ExecuteTime": {
     "end_time": "2025-07-19T02:02:47.406069Z",
     "start_time": "2025-07-19T02:02:47.401704Z"
    }
   },
   "cell_type": "code",
   "source": [
    "exported_car_sales = pd.read_csv(\"car-sales_EXPORTED.csv\")\n",
    "print(exported_car_sales)"
   ],
   "id": "5d977e53d64e3470",
   "outputs": [
    {
     "name": "stdout",
     "output_type": "stream",
     "text": [
      "     Make Colour  Odometer  Doors       Price\n",
      "0  Toyota  White    150043      4   $4,000.00\n",
      "1   Honda    Red     87889      4   $5,000.00\n",
      "2  Toyota   Blue     32549      3   $7,000.00\n",
      "3     BMW  Black     11179      5  $22,000.00\n",
      "4  Nissan  White    213095      4   $3,500.00\n",
      "5  Toyota  Green     99213      4   $4,500.00\n",
      "6   Honda   Blue     45698      4   $7,500.00\n",
      "7   Honda   Blue     54738      4   $7,000.00\n",
      "8  Toyota  White     60000      4   $6,250.00\n",
      "9  Nissan  White     31600      4   $9,700.00\n"
     ]
    }
   ],
   "execution_count": 336
  },
  {
   "metadata": {},
   "cell_type": "markdown",
   "source": "## Describe Data",
   "id": "a89ab560be09a0bb"
  },
  {
   "metadata": {
    "ExecuteTime": {
     "end_time": "2025-07-19T02:02:47.428804Z",
     "start_time": "2025-07-19T02:02:47.425365Z"
    }
   },
   "cell_type": "code",
   "source": [
    "# This is an attribute\n",
    "car_sales.dtypes\n",
    "\n",
    "#This is a function\n",
    "#car_sales.to_csv()"
   ],
   "id": "8771a7defddd92ab",
   "outputs": [
    {
     "data": {
      "text/plain": [
       "Make        object\n",
       "Colour      object\n",
       "Odometer     int64\n",
       "Doors        int64\n",
       "Price       object\n",
       "dtype: object"
      ]
     },
     "execution_count": 337,
     "metadata": {},
     "output_type": "execute_result"
    }
   ],
   "execution_count": 337
  },
  {
   "metadata": {
    "ExecuteTime": {
     "end_time": "2025-07-19T02:02:47.472079Z",
     "start_time": "2025-07-19T02:02:47.468967Z"
    }
   },
   "cell_type": "code",
   "source": [
    "# Columns\n",
    "car_columns = car_sales.columns\n",
    "print(car_columns)"
   ],
   "id": "43719b2f866df9b0",
   "outputs": [
    {
     "name": "stdout",
     "output_type": "stream",
     "text": [
      "Index(['Make', 'Colour', 'Odometer', 'Doors', 'Price'], dtype='object')\n"
     ]
    }
   ],
   "execution_count": 338
  },
  {
   "metadata": {
    "ExecuteTime": {
     "end_time": "2025-07-19T02:02:47.534582Z",
     "start_time": "2025-07-19T02:02:47.531354Z"
    }
   },
   "cell_type": "code",
   "source": [
    "# Car Sales index\n",
    "print(car_sales.index)\n",
    "print(car_sales)"
   ],
   "id": "44d2adfeec084d5e",
   "outputs": [
    {
     "name": "stdout",
     "output_type": "stream",
     "text": [
      "RangeIndex(start=0, stop=10, step=1)\n",
      "     Make Colour  Odometer  Doors       Price\n",
      "0  Toyota  White    150043      4   $4,000.00\n",
      "1   Honda    Red     87889      4   $5,000.00\n",
      "2  Toyota   Blue     32549      3   $7,000.00\n",
      "3     BMW  Black     11179      5  $22,000.00\n",
      "4  Nissan  White    213095      4   $3,500.00\n",
      "5  Toyota  Green     99213      4   $4,500.00\n",
      "6   Honda   Blue     45698      4   $7,500.00\n",
      "7   Honda   Blue     54738      4   $7,000.00\n",
      "8  Toyota  White     60000      4   $6,250.00\n",
      "9  Nissan  White     31600      4   $9,700.00\n"
     ]
    }
   ],
   "execution_count": 339
  },
  {
   "metadata": {
    "ExecuteTime": {
     "end_time": "2025-07-19T02:02:47.569494Z",
     "start_time": "2025-07-19T02:02:47.554826Z"
    }
   },
   "cell_type": "code",
   "source": [
    "# Describe Car Sales - only works on numeric columns\n",
    "print(car_sales.describe())"
   ],
   "id": "ed4b7f5a55311d10",
   "outputs": [
    {
     "name": "stdout",
     "output_type": "stream",
     "text": [
      "            Odometer      Doors\n",
      "count      10.000000  10.000000\n",
      "mean    78600.400000   4.000000\n",
      "std     61983.305147   0.471405\n",
      "min     11179.000000   3.000000\n",
      "25%     35836.250000   4.000000\n",
      "50%     57369.000000   4.000000\n",
      "75%     96382.000000   4.000000\n",
      "max    213095.000000   5.000000\n"
     ]
    }
   ],
   "execution_count": 340
  },
  {
   "metadata": {
    "ExecuteTime": {
     "end_time": "2025-07-19T02:02:47.597196Z",
     "start_time": "2025-07-19T02:02:47.589989Z"
    }
   },
   "cell_type": "code",
   "source": [
    "# info\n",
    "car_sales.info()"
   ],
   "id": "56c7bd20d6910913",
   "outputs": [
    {
     "name": "stdout",
     "output_type": "stream",
     "text": [
      "<class 'pandas.core.frame.DataFrame'>\n",
      "RangeIndex: 10 entries, 0 to 9\n",
      "Data columns (total 5 columns):\n",
      " #   Column    Non-Null Count  Dtype \n",
      "---  ------    --------------  ----- \n",
      " 0   Make      10 non-null     object\n",
      " 1   Colour    10 non-null     object\n",
      " 2   Odometer  10 non-null     int64 \n",
      " 3   Doors     10 non-null     int64 \n",
      " 4   Price     10 non-null     object\n",
      "dtypes: int64(2), object(3)\n",
      "memory usage: 528.0+ bytes\n"
     ]
    }
   ],
   "execution_count": 341
  },
  {
   "metadata": {
    "ExecuteTime": {
     "end_time": "2025-07-19T02:02:47.613998Z",
     "start_time": "2025-07-19T02:02:47.611159Z"
    }
   },
   "cell_type": "code",
   "source": [
    "# the mean / average\n",
    "car_sales_mean = car_sales.mean(numeric_only=True)\n",
    "print(car_sales_mean)"
   ],
   "id": "ff01b38d85db45d4",
   "outputs": [
    {
     "name": "stdout",
     "output_type": "stream",
     "text": [
      "Odometer    78600.4\n",
      "Doors           4.0\n",
      "dtype: float64\n"
     ]
    }
   ],
   "execution_count": 342
  },
  {
   "metadata": {
    "ExecuteTime": {
     "end_time": "2025-07-19T02:02:47.630123Z",
     "start_time": "2025-07-19T02:02:47.627790Z"
    }
   },
   "cell_type": "code",
   "source": [
    "# Temporarily make prices numeric (they are objects in the original data, so need to make a test of the prices as integers to test the mean() function on the proces.\n",
    "car_prices = pd.Series([23950, 31800, 16750])\n",
    "car_prices_mean = car_prices.mean()\n",
    "print(car_prices_mean)"
   ],
   "id": "39d952f084270cbe",
   "outputs": [
    {
     "name": "stdout",
     "output_type": "stream",
     "text": [
      "24166.666666666668\n"
     ]
    }
   ],
   "execution_count": 343
  },
  {
   "metadata": {
    "ExecuteTime": {
     "end_time": "2025-07-19T02:02:47.644530Z",
     "start_time": "2025-07-19T02:02:47.642936Z"
    }
   },
   "cell_type": "code",
   "source": [
    "result = (car_prices[0] + car_prices[1] + car_prices[2])/3\n",
    "print(result)"
   ],
   "id": "ab7b6096261d493b",
   "outputs": [
    {
     "name": "stdout",
     "output_type": "stream",
     "text": [
      "24166.666666666668\n"
     ]
    }
   ],
   "execution_count": 344
  },
  {
   "metadata": {
    "ExecuteTime": {
     "end_time": "2025-07-19T02:02:47.659721Z",
     "start_time": "2025-07-19T02:02:47.657611Z"
    }
   },
   "cell_type": "code",
   "source": "car_sales[\"Doors\"].sum()",
   "id": "ae57a3493c1eaf3d",
   "outputs": [
    {
     "data": {
      "text/plain": [
       "np.int64(40)"
      ]
     },
     "execution_count": 345,
     "metadata": {},
     "output_type": "execute_result"
    }
   ],
   "execution_count": 345
  },
  {
   "metadata": {
    "ExecuteTime": {
     "end_time": "2025-07-19T02:02:47.674736Z",
     "start_time": "2025-07-19T02:02:47.672613Z"
    }
   },
   "cell_type": "code",
   "source": [
    "# length\n",
    "len(car_sales)"
   ],
   "id": "dcb7d145b4f46daf",
   "outputs": [
    {
     "data": {
      "text/plain": [
       "10"
      ]
     },
     "execution_count": 346,
     "metadata": {},
     "output_type": "execute_result"
    }
   ],
   "execution_count": 346
  },
  {
   "metadata": {
    "ExecuteTime": {
     "end_time": "2025-07-19T02:02:47.694798Z",
     "start_time": "2025-07-19T02:02:47.692141Z"
    }
   },
   "cell_type": "code",
   "source": "car_sales.shape",
   "id": "423e3a5a072fd440",
   "outputs": [
    {
     "data": {
      "text/plain": [
       "(10, 5)"
      ]
     },
     "execution_count": 347,
     "metadata": {},
     "output_type": "execute_result"
    }
   ],
   "execution_count": 347
  },
  {
   "metadata": {},
   "cell_type": "markdown",
   "source": "## Viewing and Selecting Data",
   "id": "f07faea963314376"
  },
  {
   "metadata": {
    "ExecuteTime": {
     "end_time": "2025-07-19T02:02:47.719664Z",
     "start_time": "2025-07-19T02:02:47.715393Z"
    }
   },
   "cell_type": "code",
   "source": [
    "car_sales.head()\n",
    "car_sales.tail()"
   ],
   "id": "5ef882685c805df6",
   "outputs": [
    {
     "data": {
      "text/plain": [
       "     Make Colour  Odometer  Doors      Price\n",
       "5  Toyota  Green     99213      4  $4,500.00\n",
       "6   Honda   Blue     45698      4  $7,500.00\n",
       "7   Honda   Blue     54738      4  $7,000.00\n",
       "8  Toyota  White     60000      4  $6,250.00\n",
       "9  Nissan  White     31600      4  $9,700.00"
      ],
      "text/html": [
       "<div>\n",
       "<style scoped>\n",
       "    .dataframe tbody tr th:only-of-type {\n",
       "        vertical-align: middle;\n",
       "    }\n",
       "\n",
       "    .dataframe tbody tr th {\n",
       "        vertical-align: top;\n",
       "    }\n",
       "\n",
       "    .dataframe thead th {\n",
       "        text-align: right;\n",
       "    }\n",
       "</style>\n",
       "<table border=\"1\" class=\"dataframe\">\n",
       "  <thead>\n",
       "    <tr style=\"text-align: right;\">\n",
       "      <th></th>\n",
       "      <th>Make</th>\n",
       "      <th>Colour</th>\n",
       "      <th>Odometer</th>\n",
       "      <th>Doors</th>\n",
       "      <th>Price</th>\n",
       "    </tr>\n",
       "  </thead>\n",
       "  <tbody>\n",
       "    <tr>\n",
       "      <th>5</th>\n",
       "      <td>Toyota</td>\n",
       "      <td>Green</td>\n",
       "      <td>99213</td>\n",
       "      <td>4</td>\n",
       "      <td>$4,500.00</td>\n",
       "    </tr>\n",
       "    <tr>\n",
       "      <th>6</th>\n",
       "      <td>Honda</td>\n",
       "      <td>Blue</td>\n",
       "      <td>45698</td>\n",
       "      <td>4</td>\n",
       "      <td>$7,500.00</td>\n",
       "    </tr>\n",
       "    <tr>\n",
       "      <th>7</th>\n",
       "      <td>Honda</td>\n",
       "      <td>Blue</td>\n",
       "      <td>54738</td>\n",
       "      <td>4</td>\n",
       "      <td>$7,000.00</td>\n",
       "    </tr>\n",
       "    <tr>\n",
       "      <th>8</th>\n",
       "      <td>Toyota</td>\n",
       "      <td>White</td>\n",
       "      <td>60000</td>\n",
       "      <td>4</td>\n",
       "      <td>$6,250.00</td>\n",
       "    </tr>\n",
       "    <tr>\n",
       "      <th>9</th>\n",
       "      <td>Nissan</td>\n",
       "      <td>White</td>\n",
       "      <td>31600</td>\n",
       "      <td>4</td>\n",
       "      <td>$9,700.00</td>\n",
       "    </tr>\n",
       "  </tbody>\n",
       "</table>\n",
       "</div>"
      ]
     },
     "execution_count": 348,
     "metadata": {},
     "output_type": "execute_result"
    }
   ],
   "execution_count": 348
  },
  {
   "metadata": {
    "ExecuteTime": {
     "end_time": "2025-07-19T02:02:47.759790Z",
     "start_time": "2025-07-19T02:02:47.757414Z"
    }
   },
   "cell_type": "code",
   "source": [
    "# .loc and .iloc\n",
    "animals = pd.Series([\"cat\", \"dog\", \"mouse\", \"pterydactal\", \"eohippus\"], index=[0, 3, 9, 8, 3])"
   ],
   "id": "a7984b2b8be5526a",
   "outputs": [],
   "execution_count": 349
  },
  {
   "metadata": {},
   "cell_type": "markdown",
   "source": "## Using loc and iloc as well as splitting data using [:n]",
   "id": "593ad49fc627760b"
  },
  {
   "metadata": {
    "ExecuteTime": {
     "end_time": "2025-07-19T02:02:47.804696Z",
     "start_time": "2025-07-19T02:02:47.800331Z"
    }
   },
   "cell_type": "code",
   "source": [
    "# return all animals at index value = 3 (2 results come back)\n",
    "animals.loc[3]\n"
   ],
   "id": "22b361d8eb97b806",
   "outputs": [
    {
     "data": {
      "text/plain": [
       "3         dog\n",
       "3    eohippus\n",
       "dtype: object"
      ]
     },
     "execution_count": 350,
     "metadata": {},
     "output_type": "execute_result"
    }
   ],
   "execution_count": 350
  },
  {
   "metadata": {
    "ExecuteTime": {
     "end_time": "2025-07-19T02:02:47.864616Z",
     "start_time": "2025-07-19T02:02:47.861990Z"
    }
   },
   "cell_type": "code",
   "source": [
    "# iloc refers to position\n",
    "animals.iloc[3]"
   ],
   "id": "b2b5efb94ff0365",
   "outputs": [
    {
     "data": {
      "text/plain": [
       "'pterydactal'"
      ]
     },
     "execution_count": 351,
     "metadata": {},
     "output_type": "execute_result"
    }
   ],
   "execution_count": 351
  },
  {
   "metadata": {
    "ExecuteTime": {
     "end_time": "2025-07-19T02:02:47.928440Z",
     "start_time": "2025-07-19T02:02:47.925359Z"
    }
   },
   "cell_type": "code",
   "source": [
    "# loc refers to index\n",
    "car_sales.loc[4]"
   ],
   "id": "18e4302f0b0dbb5d",
   "outputs": [
    {
     "data": {
      "text/plain": [
       "Make           Nissan\n",
       "Colour          White\n",
       "Odometer       213095\n",
       "Doors               4\n",
       "Price       $3,500.00\n",
       "Name: 4, dtype: object"
      ]
     },
     "execution_count": 352,
     "metadata": {},
     "output_type": "execute_result"
    }
   ],
   "execution_count": 352
  },
  {
   "metadata": {
    "ExecuteTime": {
     "end_time": "2025-07-19T02:02:47.980983Z",
     "start_time": "2025-07-19T02:02:47.976360Z"
    }
   },
   "cell_type": "code",
   "source": "car_sales.iloc[2]",
   "id": "cada77ba077db1c2",
   "outputs": [
    {
     "data": {
      "text/plain": [
       "Make           Toyota\n",
       "Colour           Blue\n",
       "Odometer        32549\n",
       "Doors               3\n",
       "Price       $7,000.00\n",
       "Name: 2, dtype: object"
      ]
     },
     "execution_count": 353,
     "metadata": {},
     "output_type": "execute_result"
    }
   ],
   "execution_count": 353
  },
  {
   "metadata": {
    "ExecuteTime": {
     "end_time": "2025-07-19T02:02:48.039418Z",
     "start_time": "2025-07-19T02:02:48.034674Z"
    }
   },
   "cell_type": "code",
   "source": "car_sales[\"Odometer\"]",
   "id": "af56f71b4c9dd87a",
   "outputs": [
    {
     "data": {
      "text/plain": [
       "0    150043\n",
       "1     87889\n",
       "2     32549\n",
       "3     11179\n",
       "4    213095\n",
       "5     99213\n",
       "6     45698\n",
       "7     54738\n",
       "8     60000\n",
       "9     31600\n",
       "Name: Odometer, dtype: int64"
      ]
     },
     "execution_count": 354,
     "metadata": {},
     "output_type": "execute_result"
    }
   ],
   "execution_count": 354
  },
  {
   "metadata": {
    "ExecuteTime": {
     "end_time": "2025-07-19T02:02:48.116859Z",
     "start_time": "2025-07-19T02:02:48.113875Z"
    }
   },
   "cell_type": "code",
   "source": [
    "# give animals up to but not including 3\n",
    "animals.iloc[:3]"
   ],
   "id": "578a264358a9848",
   "outputs": [
    {
     "data": {
      "text/plain": [
       "0      cat\n",
       "3      dog\n",
       "9    mouse\n",
       "dtype: object"
      ]
     },
     "execution_count": 355,
     "metadata": {},
     "output_type": "execute_result"
    }
   ],
   "execution_count": 355
  },
  {
   "metadata": {
    "ExecuteTime": {
     "end_time": "2025-07-19T02:02:48.176780Z",
     "start_time": "2025-07-19T02:02:48.173084Z"
    }
   },
   "cell_type": "code",
   "source": "car_sales.iloc[:3]",
   "id": "7e822a9687091543",
   "outputs": [
    {
     "data": {
      "text/plain": [
       "     Make Colour  Odometer  Doors      Price\n",
       "0  Toyota  White    150043      4  $4,000.00\n",
       "1   Honda    Red     87889      4  $5,000.00\n",
       "2  Toyota   Blue     32549      3  $7,000.00"
      ],
      "text/html": [
       "<div>\n",
       "<style scoped>\n",
       "    .dataframe tbody tr th:only-of-type {\n",
       "        vertical-align: middle;\n",
       "    }\n",
       "\n",
       "    .dataframe tbody tr th {\n",
       "        vertical-align: top;\n",
       "    }\n",
       "\n",
       "    .dataframe thead th {\n",
       "        text-align: right;\n",
       "    }\n",
       "</style>\n",
       "<table border=\"1\" class=\"dataframe\">\n",
       "  <thead>\n",
       "    <tr style=\"text-align: right;\">\n",
       "      <th></th>\n",
       "      <th>Make</th>\n",
       "      <th>Colour</th>\n",
       "      <th>Odometer</th>\n",
       "      <th>Doors</th>\n",
       "      <th>Price</th>\n",
       "    </tr>\n",
       "  </thead>\n",
       "  <tbody>\n",
       "    <tr>\n",
       "      <th>0</th>\n",
       "      <td>Toyota</td>\n",
       "      <td>White</td>\n",
       "      <td>150043</td>\n",
       "      <td>4</td>\n",
       "      <td>$4,000.00</td>\n",
       "    </tr>\n",
       "    <tr>\n",
       "      <th>1</th>\n",
       "      <td>Honda</td>\n",
       "      <td>Red</td>\n",
       "      <td>87889</td>\n",
       "      <td>4</td>\n",
       "      <td>$5,000.00</td>\n",
       "    </tr>\n",
       "    <tr>\n",
       "      <th>2</th>\n",
       "      <td>Toyota</td>\n",
       "      <td>Blue</td>\n",
       "      <td>32549</td>\n",
       "      <td>3</td>\n",
       "      <td>$7,000.00</td>\n",
       "    </tr>\n",
       "  </tbody>\n",
       "</table>\n",
       "</div>"
      ]
     },
     "execution_count": 356,
     "metadata": {},
     "output_type": "execute_result"
    }
   ],
   "execution_count": 356
  },
  {
   "metadata": {
    "ExecuteTime": {
     "end_time": "2025-07-19T02:02:48.259226Z",
     "start_time": "2025-07-19T02:02:48.256588Z"
    }
   },
   "cell_type": "code",
   "source": "car_sales[\"Make\"]",
   "id": "15e4943136ad7ae6",
   "outputs": [
    {
     "data": {
      "text/plain": [
       "0    Toyota\n",
       "1     Honda\n",
       "2    Toyota\n",
       "3       BMW\n",
       "4    Nissan\n",
       "5    Toyota\n",
       "6     Honda\n",
       "7     Honda\n",
       "8    Toyota\n",
       "9    Nissan\n",
       "Name: Make, dtype: object"
      ]
     },
     "execution_count": 357,
     "metadata": {},
     "output_type": "execute_result"
    }
   ],
   "execution_count": 357
  },
  {
   "metadata": {
    "ExecuteTime": {
     "end_time": "2025-07-19T02:02:48.333879Z",
     "start_time": "2025-07-19T02:02:48.330697Z"
    }
   },
   "cell_type": "code",
   "source": "car_sales.Make",
   "id": "e731206c1c5c11e1",
   "outputs": [
    {
     "data": {
      "text/plain": [
       "0    Toyota\n",
       "1     Honda\n",
       "2    Toyota\n",
       "3       BMW\n",
       "4    Nissan\n",
       "5    Toyota\n",
       "6     Honda\n",
       "7     Honda\n",
       "8    Toyota\n",
       "9    Nissan\n",
       "Name: Make, dtype: object"
      ]
     },
     "execution_count": 358,
     "metadata": {},
     "output_type": "execute_result"
    }
   ],
   "execution_count": 358
  },
  {
   "metadata": {
    "ExecuteTime": {
     "end_time": "2025-07-19T02:02:48.425746Z",
     "start_time": "2025-07-19T02:02:48.421258Z"
    }
   },
   "cell_type": "code",
   "source": [
    "# now get all car sales where the Make = 'Toyota'\n",
    "# BOOLEAN indexing\n",
    "results = car_sales[car_sales[\"Make\"] == \"Toyota\"]\n",
    "print(results)\n"
   ],
   "id": "71cca5ff58602b43",
   "outputs": [
    {
     "name": "stdout",
     "output_type": "stream",
     "text": [
      "     Make Colour  Odometer  Doors      Price\n",
      "0  Toyota  White    150043      4  $4,000.00\n",
      "2  Toyota   Blue     32549      3  $7,000.00\n",
      "5  Toyota  Green     99213      4  $4,500.00\n",
      "8  Toyota  White     60000      4  $6,250.00\n"
     ]
    }
   ],
   "execution_count": 359
  },
  {
   "metadata": {
    "ExecuteTime": {
     "end_time": "2025-07-19T02:02:48.463559Z",
     "start_time": "2025-07-19T02:02:48.460707Z"
    }
   },
   "cell_type": "code",
   "source": [
    "results2 = [results[\"Odometer\"] > 40000]\n",
    "print(results2)"
   ],
   "id": "f35309bfa547229a",
   "outputs": [
    {
     "name": "stdout",
     "output_type": "stream",
     "text": [
      "[0     True\n",
      "2    False\n",
      "5     True\n",
      "8     True\n",
      "Name: Odometer, dtype: bool]\n"
     ]
    }
   ],
   "execution_count": 360
  },
  {
   "metadata": {},
   "cell_type": "markdown",
   "source": "## Let's read in data from a CSV file located at a website and show it",
   "id": "6bf42ba26e9174b8"
  },
  {
   "metadata": {
    "ExecuteTime": {
     "end_time": "2025-07-19T02:02:48.757731Z",
     "start_time": "2025-07-19T02:02:48.493644Z"
    }
   },
   "cell_type": "code",
   "source": [
    "heart_disease = pd.read_csv(\"https://raw.githubusercontent.com/mrdbourke/zero-to-mastery-ml/master/data/heart-disease.csv\")\n",
    "# Print the first 20 patients Cholesterol values in ascending order\n",
    "print(heart_disease[\"chol\"].sort_values().head(20))"
   ],
   "id": "296b5ffa7bd8bd1",
   "outputs": [
    {
     "name": "stdout",
     "output_type": "stream",
     "text": [
      "111    126\n",
      "301    131\n",
      "53     141\n",
      "151    149\n",
      "267    149\n",
      "162    157\n",
      "94     160\n",
      "204    164\n",
      "279    166\n",
      "175    167\n",
      "9      168\n",
      "294    169\n",
      "189    172\n",
      "225    174\n",
      "164    175\n",
      "27     175\n",
      "163    175\n",
      "297    176\n",
      "209    177\n",
      "31     177\n",
      "Name: chol, dtype: int64\n"
     ]
    }
   ],
   "execution_count": 361
  },
  {
   "metadata": {
    "ExecuteTime": {
     "end_time": "2025-07-19T02:02:48.775645Z",
     "start_time": "2025-07-19T02:02:48.771618Z"
    }
   },
   "cell_type": "code",
   "source": "heart_disease.to_csv(\"WRITTEN_FROM_WEB_DATA.CSV\")",
   "id": "4cbe0b3210425c91",
   "outputs": [],
   "execution_count": 362
  },
  {
   "metadata": {},
   "cell_type": "markdown",
   "source": "## Crosstab",
   "id": "ca5618acfabd229c"
  },
  {
   "metadata": {
    "ExecuteTime": {
     "end_time": "2025-07-19T02:02:48.799649Z",
     "start_time": "2025-07-19T02:02:48.788662Z"
    }
   },
   "cell_type": "code",
   "source": "pd.crosstab(car_sales[\"Make\"], car_sales[\"Doors\"])",
   "id": "a37ff24abe359417",
   "outputs": [
    {
     "data": {
      "text/plain": [
       "Doors   3  4  5\n",
       "Make           \n",
       "BMW     0  0  1\n",
       "Honda   0  3  0\n",
       "Nissan  0  2  0\n",
       "Toyota  1  3  0"
      ],
      "text/html": [
       "<div>\n",
       "<style scoped>\n",
       "    .dataframe tbody tr th:only-of-type {\n",
       "        vertical-align: middle;\n",
       "    }\n",
       "\n",
       "    .dataframe tbody tr th {\n",
       "        vertical-align: top;\n",
       "    }\n",
       "\n",
       "    .dataframe thead th {\n",
       "        text-align: right;\n",
       "    }\n",
       "</style>\n",
       "<table border=\"1\" class=\"dataframe\">\n",
       "  <thead>\n",
       "    <tr style=\"text-align: right;\">\n",
       "      <th>Doors</th>\n",
       "      <th>3</th>\n",
       "      <th>4</th>\n",
       "      <th>5</th>\n",
       "    </tr>\n",
       "    <tr>\n",
       "      <th>Make</th>\n",
       "      <th></th>\n",
       "      <th></th>\n",
       "      <th></th>\n",
       "    </tr>\n",
       "  </thead>\n",
       "  <tbody>\n",
       "    <tr>\n",
       "      <th>BMW</th>\n",
       "      <td>0</td>\n",
       "      <td>0</td>\n",
       "      <td>1</td>\n",
       "    </tr>\n",
       "    <tr>\n",
       "      <th>Honda</th>\n",
       "      <td>0</td>\n",
       "      <td>3</td>\n",
       "      <td>0</td>\n",
       "    </tr>\n",
       "    <tr>\n",
       "      <th>Nissan</th>\n",
       "      <td>0</td>\n",
       "      <td>2</td>\n",
       "      <td>0</td>\n",
       "    </tr>\n",
       "    <tr>\n",
       "      <th>Toyota</th>\n",
       "      <td>1</td>\n",
       "      <td>3</td>\n",
       "      <td>0</td>\n",
       "    </tr>\n",
       "  </tbody>\n",
       "</table>\n",
       "</div>"
      ]
     },
     "execution_count": 363,
     "metadata": {},
     "output_type": "execute_result"
    }
   ],
   "execution_count": 363
  },
  {
   "metadata": {
    "ExecuteTime": {
     "end_time": "2025-07-19T02:02:48.837004Z",
     "start_time": "2025-07-19T02:02:48.831450Z"
    }
   },
   "cell_type": "code",
   "source": "car_sales.groupby([\"Make\"]).mean(numeric_only=True)",
   "id": "a7fa899f2304d4b3",
   "outputs": [
    {
     "data": {
      "text/plain": [
       "         Odometer  Doors\n",
       "Make                    \n",
       "BMW      11179.00   5.00\n",
       "Honda    62775.00   4.00\n",
       "Nissan  122347.50   4.00\n",
       "Toyota   85451.25   3.75"
      ],
      "text/html": [
       "<div>\n",
       "<style scoped>\n",
       "    .dataframe tbody tr th:only-of-type {\n",
       "        vertical-align: middle;\n",
       "    }\n",
       "\n",
       "    .dataframe tbody tr th {\n",
       "        vertical-align: top;\n",
       "    }\n",
       "\n",
       "    .dataframe thead th {\n",
       "        text-align: right;\n",
       "    }\n",
       "</style>\n",
       "<table border=\"1\" class=\"dataframe\">\n",
       "  <thead>\n",
       "    <tr style=\"text-align: right;\">\n",
       "      <th></th>\n",
       "      <th>Odometer</th>\n",
       "      <th>Doors</th>\n",
       "    </tr>\n",
       "    <tr>\n",
       "      <th>Make</th>\n",
       "      <th></th>\n",
       "      <th></th>\n",
       "    </tr>\n",
       "  </thead>\n",
       "  <tbody>\n",
       "    <tr>\n",
       "      <th>BMW</th>\n",
       "      <td>11179.00</td>\n",
       "      <td>5.00</td>\n",
       "    </tr>\n",
       "    <tr>\n",
       "      <th>Honda</th>\n",
       "      <td>62775.00</td>\n",
       "      <td>4.00</td>\n",
       "    </tr>\n",
       "    <tr>\n",
       "      <th>Nissan</th>\n",
       "      <td>122347.50</td>\n",
       "      <td>4.00</td>\n",
       "    </tr>\n",
       "    <tr>\n",
       "      <th>Toyota</th>\n",
       "      <td>85451.25</td>\n",
       "      <td>3.75</td>\n",
       "    </tr>\n",
       "  </tbody>\n",
       "</table>\n",
       "</div>"
      ]
     },
     "execution_count": 364,
     "metadata": {},
     "output_type": "execute_result"
    }
   ],
   "execution_count": 364
  },
  {
   "metadata": {
    "ExecuteTime": {
     "end_time": "2025-07-19T02:02:48.949339Z",
     "start_time": "2025-07-19T02:02:48.886374Z"
    }
   },
   "cell_type": "code",
   "source": "car_sales.Odometer.plot(kind=\"line\")",
   "id": "5409fd7426b2bafa",
   "outputs": [
    {
     "data": {
      "text/plain": [
       "<Axes: >"
      ]
     },
     "execution_count": 365,
     "metadata": {},
     "output_type": "execute_result"
    },
    {
     "data": {
      "text/plain": [
       "<Figure size 640x480 with 1 Axes>"
      ],
      "image/png": "[encoded data removed]"
     },
     "metadata": {},
     "output_type": "display_data"
    }
   ],
   "execution_count": 365
  },
  {
   "metadata": {
    "ExecuteTime": {
     "end_time": "2025-07-19T02:02:49.040695Z",
     "start_time": "2025-07-19T02:02:48.992957Z"
    }
   },
   "cell_type": "code",
   "source": "car_sales[\"Odometer\"].plot(kind=\"hist\", bins=10, grid=True)",
   "id": "df02736c27bcebb2",
   "outputs": [
    {
     "data": {
      "text/plain": [
       "<Axes: ylabel='Frequency'>"
      ]
     },
     "execution_count": 366,
     "metadata": {},
     "output_type": "execute_result"
    },
    {
     "data": {
      "text/plain": [
       "<Figure size 640x480 with 1 Axes>"
      ],
      "image/png": "[encoded data removed]"
     },
     "metadata": {},
     "output_type": "display_data"
    }
   ],
   "execution_count": 366
  },
  {
   "metadata": {},
   "cell_type": "markdown",
   "source": "### Using Regex to get rid of extraneous zeros and commas and dollar signs to get a Price Object converted to an integer so data can be plotted",
   "id": "6b7b0506e2fdf99d"
  },
  {
   "metadata": {
    "ExecuteTime": {
     "end_time": "2025-07-19T02:02:49.067859Z",
     "start_time": "2025-07-19T02:02:49.065199Z"
    }
   },
   "cell_type": "code",
   "source": [
    "car_sales.Price = car_sales.Price.replace('[\\$\\,\\.00,\\.]', '', regex=True).astype(int)\n",
    "print(car_sales)"
   ],
   "id": "727f19359aed6e28",
   "outputs": [
    {
     "name": "stdout",
     "output_type": "stream",
     "text": [
      "     Make Colour  Odometer  Doors  Price\n",
      "0  Toyota  White    150043      4      4\n",
      "1   Honda    Red     87889      4      5\n",
      "2  Toyota   Blue     32549      3      7\n",
      "3     BMW  Black     11179      5     22\n",
      "4  Nissan  White    213095      4     35\n",
      "5  Toyota  Green     99213      4     45\n",
      "6   Honda   Blue     45698      4     75\n",
      "7   Honda   Blue     54738      4      7\n",
      "8  Toyota  White     60000      4    625\n",
      "9  Nissan  White     31600      4     97\n"
     ]
    }
   ],
   "execution_count": 367
  },
  {
   "metadata": {
    "ExecuteTime": {
     "end_time": "2025-07-19T02:02:49.121627Z",
     "start_time": "2025-07-19T02:02:49.083540Z"
    }
   },
   "cell_type": "code",
   "source": "car_sales[\"Price\"].plot(kind=\"area\" ,grid=True)",
   "id": "8f79e9e9eb6f91a9",
   "outputs": [
    {
     "data": {
      "text/plain": [
       "<Axes: >"
      ]
     },
     "execution_count": 368,
     "metadata": {},
     "output_type": "execute_result"
    },
    {
     "data": {
      "text/plain": [
       "<Figure size 640x480 with 1 Axes>"
      ],
      "image/png": "[encoded data removed]"
     },
     "metadata": {},
     "output_type": "display_data"
    }
   ],
   "execution_count": 368
  },
  {
   "metadata": {
    "ExecuteTime": {
     "end_time": "2025-07-19T02:02:49.177702Z",
     "start_time": "2025-07-19T02:02:49.136186Z"
    }
   },
   "cell_type": "code",
   "source": "car_sales[\"Price\"].plot(kind=\"line\" ,grid=True)\n",
   "id": "29332627df5fae2a",
   "outputs": [
    {
     "data": {
      "text/plain": [
       "<Axes: >"
      ]
     },
     "execution_count": 369,
     "metadata": {},
     "output_type": "execute_result"
    },
    {
     "data": {
      "text/plain": [
       "<Figure size 640x480 with 1 Axes>"
      ],
      "image/png": "[encoded data removed]"
     },
     "metadata": {},
     "output_type": "display_data"
    }
   ],
   "execution_count": 369
  },
  {
   "metadata": {},
   "cell_type": "markdown",
   "source": [
    "## New Section - Manipulating Data in Pandas -\n",
    "Play 58. Manipulating Data"
   ],
   "id": "a58c12869f88b937"
  },
  {
   "metadata": {
    "ExecuteTime": {
     "end_time": "2025-07-19T02:02:49.190652Z",
     "start_time": "2025-07-19T02:02:49.186851Z"
    }
   },
   "cell_type": "code",
   "source": "car_sales[\"Make\"].str.lower()",
   "id": "581dae5c8e1dba08",
   "outputs": [
    {
     "data": {
      "text/plain": [
       "0    toyota\n",
       "1     honda\n",
       "2    toyota\n",
       "3       bmw\n",
       "4    nissan\n",
       "5    toyota\n",
       "6     honda\n",
       "7     honda\n",
       "8    toyota\n",
       "9    nissan\n",
       "Name: Make, dtype: object"
      ]
     },
     "execution_count": 370,
     "metadata": {},
     "output_type": "execute_result"
    }
   ],
   "execution_count": 370
  },
  {
   "metadata": {
    "ExecuteTime": {
     "end_time": "2025-07-19T02:02:49.233866Z",
     "start_time": "2025-07-19T02:02:49.231423Z"
    }
   },
   "cell_type": "code",
   "source": "car_sales[\"Make\"] = (car_sales['Make'].str.lower())",
   "id": "a81705b826272fef",
   "outputs": [],
   "execution_count": 371
  },
  {
   "metadata": {
    "ExecuteTime": {
     "end_time": "2025-07-19T02:02:49.277204Z",
     "start_time": "2025-07-19T02:02:49.273637Z"
    }
   },
   "cell_type": "code",
   "source": "car_sales",
   "id": "5d0380dcacf42c22",
   "outputs": [
    {
     "data": {
      "text/plain": [
       "     Make Colour  Odometer  Doors  Price\n",
       "0  toyota  White    150043      4      4\n",
       "1   honda    Red     87889      4      5\n",
       "2  toyota   Blue     32549      3      7\n",
       "3     bmw  Black     11179      5     22\n",
       "4  nissan  White    213095      4     35\n",
       "5  toyota  Green     99213      4     45\n",
       "6   honda   Blue     45698      4     75\n",
       "7   honda   Blue     54738      4      7\n",
       "8  toyota  White     60000      4    625\n",
       "9  nissan  White     31600      4     97"
      ],
      "text/html": [
       "<div>\n",
       "<style scoped>\n",
       "    .dataframe tbody tr th:only-of-type {\n",
       "        vertical-align: middle;\n",
       "    }\n",
       "\n",
       "    .dataframe tbody tr th {\n",
       "        vertical-align: top;\n",
       "    }\n",
       "\n",
       "    .dataframe thead th {\n",
       "        text-align: right;\n",
       "    }\n",
       "</style>\n",
       "<table border=\"1\" class=\"dataframe\">\n",
       "  <thead>\n",
       "    <tr style=\"text-align: right;\">\n",
       "      <th></th>\n",
       "      <th>Make</th>\n",
       "      <th>Colour</th>\n",
       "      <th>Odometer</th>\n",
       "      <th>Doors</th>\n",
       "      <th>Price</th>\n",
       "    </tr>\n",
       "  </thead>\n",
       "  <tbody>\n",
       "    <tr>\n",
       "      <th>0</th>\n",
       "      <td>toyota</td>\n",
       "      <td>White</td>\n",
       "      <td>150043</td>\n",
       "      <td>4</td>\n",
       "      <td>4</td>\n",
       "    </tr>\n",
       "    <tr>\n",
       "      <th>1</th>\n",
       "      <td>honda</td>\n",
       "      <td>Red</td>\n",
       "      <td>87889</td>\n",
       "      <td>4</td>\n",
       "      <td>5</td>\n",
       "    </tr>\n",
       "    <tr>\n",
       "      <th>2</th>\n",
       "      <td>toyota</td>\n",
       "      <td>Blue</td>\n",
       "      <td>32549</td>\n",
       "      <td>3</td>\n",
       "      <td>7</td>\n",
       "    </tr>\n",
       "    <tr>\n",
       "      <th>3</th>\n",
       "      <td>bmw</td>\n",
       "      <td>Black</td>\n",
       "      <td>11179</td>\n",
       "      <td>5</td>\n",
       "      <td>22</td>\n",
       "    </tr>\n",
       "    <tr>\n",
       "      <th>4</th>\n",
       "      <td>nissan</td>\n",
       "      <td>White</td>\n",
       "      <td>213095</td>\n",
       "      <td>4</td>\n",
       "      <td>35</td>\n",
       "    </tr>\n",
       "    <tr>\n",
       "      <th>5</th>\n",
       "      <td>toyota</td>\n",
       "      <td>Green</td>\n",
       "      <td>99213</td>\n",
       "      <td>4</td>\n",
       "      <td>45</td>\n",
       "    </tr>\n",
       "    <tr>\n",
       "      <th>6</th>\n",
       "      <td>honda</td>\n",
       "      <td>Blue</td>\n",
       "      <td>45698</td>\n",
       "      <td>4</td>\n",
       "      <td>75</td>\n",
       "    </tr>\n",
       "    <tr>\n",
       "      <th>7</th>\n",
       "      <td>honda</td>\n",
       "      <td>Blue</td>\n",
       "      <td>54738</td>\n",
       "      <td>4</td>\n",
       "      <td>7</td>\n",
       "    </tr>\n",
       "    <tr>\n",
       "      <th>8</th>\n",
       "      <td>toyota</td>\n",
       "      <td>White</td>\n",
       "      <td>60000</td>\n",
       "      <td>4</td>\n",
       "      <td>625</td>\n",
       "    </tr>\n",
       "    <tr>\n",
       "      <th>9</th>\n",
       "      <td>nissan</td>\n",
       "      <td>White</td>\n",
       "      <td>31600</td>\n",
       "      <td>4</td>\n",
       "      <td>97</td>\n",
       "    </tr>\n",
       "  </tbody>\n",
       "</table>\n",
       "</div>"
      ]
     },
     "execution_count": 372,
     "metadata": {},
     "output_type": "execute_result"
    }
   ],
   "execution_count": 372
  },
  {
   "metadata": {
    "ExecuteTime": {
     "end_time": "2025-07-19T02:02:49.330168Z",
     "start_time": "2025-07-19T02:02:49.328155Z"
    }
   },
   "cell_type": "code",
   "source": [
    "# Create a Series that takes a column in the data frame and assigns it to a Series\n",
    "lowercase_prices = pd.Series(car_sales['Make'].str.lower())"
   ],
   "id": "e928a51f244e10d2",
   "outputs": [],
   "execution_count": 373
  },
  {
   "metadata": {
    "ExecuteTime": {
     "end_time": "2025-07-19T02:02:49.366262Z",
     "start_time": "2025-07-19T02:02:49.363590Z"
    }
   },
   "cell_type": "code",
   "source": "print(lowercase_prices)",
   "id": "5ef20d4396eb1039",
   "outputs": [
    {
     "name": "stdout",
     "output_type": "stream",
     "text": [
      "0    toyota\n",
      "1     honda\n",
      "2    toyota\n",
      "3       bmw\n",
      "4    nissan\n",
      "5    toyota\n",
      "6     honda\n",
      "7     honda\n",
      "8    toyota\n",
      "9    nissan\n",
      "Name: Make, dtype: object\n"
     ]
    }
   ],
   "execution_count": 374
  },
  {
   "metadata": {},
   "cell_type": "markdown",
   "source": "## Dealing with missing data",
   "id": "a54ee931cc660f0a"
  },
  {
   "metadata": {
    "ExecuteTime": {
     "end_time": "2025-07-19T02:02:49.406174Z",
     "start_time": "2025-07-19T02:02:49.400668Z"
    }
   },
   "cell_type": "code",
   "source": [
    "car_data_missing = pd.read_csv(\"car-sales-missing-data.csv\")\n",
    "print(car_data_missing)"
   ],
   "id": "19337c7f3f2441b3",
   "outputs": [
    {
     "name": "stdout",
     "output_type": "stream",
     "text": [
      "     Make Colour  Odometer  Doors    Price\n",
      "0  Toyota  White  150043.0    4.0   $4,000\n",
      "1   Honda    Red   87899.0    4.0   $5,000\n",
      "2  Toyota   Blue       NaN    3.0   $7,000\n",
      "3     BMW  Black   11179.0    5.0  $22,000\n",
      "4  Nissan  White  213095.0    4.0   $3,500\n",
      "5  Toyota  Green       NaN    4.0   $4,500\n",
      "6   Honda    NaN       NaN    4.0   $7,500\n",
      "7   Honda   Blue       NaN    4.0      NaN\n",
      "8  Toyota  White   60000.0    NaN      NaN\n",
      "9     NaN  White   31600.0    4.0   $9,700\n"
     ]
    }
   ],
   "execution_count": 375
  },
  {
   "metadata": {
    "ExecuteTime": {
     "end_time": "2025-07-19T02:02:49.438791Z",
     "start_time": "2025-07-19T02:02:49.435587Z"
    }
   },
   "cell_type": "code",
   "source": [
    "# Use the fillna function to take the mean of the Odometer readings that are available and fill them into the Odometer column where the data is NaN / Missing\n",
    "car_data_missing[\"Odometer\"] = car_data_missing[\"Odometer\"].fillna(car_data_missing[\"Odometer\"].mean())\n",
    "print(car_data_missing)\n"
   ],
   "id": "b68977c3ecfa7f93",
   "outputs": [
    {
     "name": "stdout",
     "output_type": "stream",
     "text": [
      "     Make Colour       Odometer  Doors    Price\n",
      "0  Toyota  White  150043.000000    4.0   $4,000\n",
      "1   Honda    Red   87899.000000    4.0   $5,000\n",
      "2  Toyota   Blue   92302.666667    3.0   $7,000\n",
      "3     BMW  Black   11179.000000    5.0  $22,000\n",
      "4  Nissan  White  213095.000000    4.0   $3,500\n",
      "5  Toyota  Green   92302.666667    4.0   $4,500\n",
      "6   Honda    NaN   92302.666667    4.0   $7,500\n",
      "7   Honda   Blue   92302.666667    4.0      NaN\n",
      "8  Toyota  White   60000.000000    NaN      NaN\n",
      "9     NaN  White   31600.000000    4.0   $9,700\n"
     ]
    }
   ],
   "execution_count": 376
  },
  {
   "metadata": {
    "ExecuteTime": {
     "end_time": "2025-07-19T02:02:49.457871Z",
     "start_time": "2025-07-19T02:02:49.453182Z"
    }
   },
   "cell_type": "code",
   "source": [
    "car_data_missing = car_data_missing.dropna()\n",
    "car_data_missing"
   ],
   "id": "80b43738c792a00f",
   "outputs": [
    {
     "data": {
      "text/plain": [
       "     Make Colour       Odometer  Doors    Price\n",
       "0  Toyota  White  150043.000000    4.0   $4,000\n",
       "1   Honda    Red   87899.000000    4.0   $5,000\n",
       "2  Toyota   Blue   92302.666667    3.0   $7,000\n",
       "3     BMW  Black   11179.000000    5.0  $22,000\n",
       "4  Nissan  White  213095.000000    4.0   $3,500\n",
       "5  Toyota  Green   92302.666667    4.0   $4,500"
      ],
      "text/html": [
       "<div>\n",
       "<style scoped>\n",
       "    .dataframe tbody tr th:only-of-type {\n",
       "        vertical-align: middle;\n",
       "    }\n",
       "\n",
       "    .dataframe tbody tr th {\n",
       "        vertical-align: top;\n",
       "    }\n",
       "\n",
       "    .dataframe thead th {\n",
       "        text-align: right;\n",
       "    }\n",
       "</style>\n",
       "<table border=\"1\" class=\"dataframe\">\n",
       "  <thead>\n",
       "    <tr style=\"text-align: right;\">\n",
       "      <th></th>\n",
       "      <th>Make</th>\n",
       "      <th>Colour</th>\n",
       "      <th>Odometer</th>\n",
       "      <th>Doors</th>\n",
       "      <th>Price</th>\n",
       "    </tr>\n",
       "  </thead>\n",
       "  <tbody>\n",
       "    <tr>\n",
       "      <th>0</th>\n",
       "      <td>Toyota</td>\n",
       "      <td>White</td>\n",
       "      <td>150043.000000</td>\n",
       "      <td>4.0</td>\n",
       "      <td>$4,000</td>\n",
       "    </tr>\n",
       "    <tr>\n",
       "      <th>1</th>\n",
       "      <td>Honda</td>\n",
       "      <td>Red</td>\n",
       "      <td>87899.000000</td>\n",
       "      <td>4.0</td>\n",
       "      <td>$5,000</td>\n",
       "    </tr>\n",
       "    <tr>\n",
       "      <th>2</th>\n",
       "      <td>Toyota</td>\n",
       "      <td>Blue</td>\n",
       "      <td>92302.666667</td>\n",
       "      <td>3.0</td>\n",
       "      <td>$7,000</td>\n",
       "    </tr>\n",
       "    <tr>\n",
       "      <th>3</th>\n",
       "      <td>BMW</td>\n",
       "      <td>Black</td>\n",
       "      <td>11179.000000</td>\n",
       "      <td>5.0</td>\n",
       "      <td>$22,000</td>\n",
       "    </tr>\n",
       "    <tr>\n",
       "      <th>4</th>\n",
       "      <td>Nissan</td>\n",
       "      <td>White</td>\n",
       "      <td>213095.000000</td>\n",
       "      <td>4.0</td>\n",
       "      <td>$3,500</td>\n",
       "    </tr>\n",
       "    <tr>\n",
       "      <th>5</th>\n",
       "      <td>Toyota</td>\n",
       "      <td>Green</td>\n",
       "      <td>92302.666667</td>\n",
       "      <td>4.0</td>\n",
       "      <td>$4,500</td>\n",
       "    </tr>\n",
       "  </tbody>\n",
       "</table>\n",
       "</div>"
      ]
     },
     "execution_count": 377,
     "metadata": {},
     "output_type": "execute_result"
    }
   ],
   "execution_count": 377
  },
  {
   "metadata": {
    "ExecuteTime": {
     "end_time": "2025-07-19T02:02:49.495386Z",
     "start_time": "2025-07-19T02:02:49.490706Z"
    }
   },
   "cell_type": "code",
   "source": [
    "# Let's add a column of data to our Data Frame called 'Seats', we can do this with adding a pd.Series to the df\n",
    "seats_column = pd.Series([5, 5, 5, 5, 5])\n",
    "car_sales[\"Seats\"] = seats_column\n",
    "car_sales"
   ],
   "id": "6a121baa48bfca01",
   "outputs": [
    {
     "data": {
      "text/plain": [
       "     Make Colour  Odometer  Doors  Price  Seats\n",
       "0  toyota  White    150043      4      4    5.0\n",
       "1   honda    Red     87889      4      5    5.0\n",
       "2  toyota   Blue     32549      3      7    5.0\n",
       "3     bmw  Black     11179      5     22    5.0\n",
       "4  nissan  White    213095      4     35    5.0\n",
       "5  toyota  Green     99213      4     45    NaN\n",
       "6   honda   Blue     45698      4     75    NaN\n",
       "7   honda   Blue     54738      4      7    NaN\n",
       "8  toyota  White     60000      4    625    NaN\n",
       "9  nissan  White     31600      4     97    NaN"
      ],
      "text/html": [
       "<div>\n",
       "<style scoped>\n",
       "    .dataframe tbody tr th:only-of-type {\n",
       "        vertical-align: middle;\n",
       "    }\n",
       "\n",
       "    .dataframe tbody tr th {\n",
       "        vertical-align: top;\n",
       "    }\n",
       "\n",
       "    .dataframe thead th {\n",
       "        text-align: right;\n",
       "    }\n",
       "</style>\n",
       "<table border=\"1\" class=\"dataframe\">\n",
       "  <thead>\n",
       "    <tr style=\"text-align: right;\">\n",
       "      <th></th>\n",
       "      <th>Make</th>\n",
       "      <th>Colour</th>\n",
       "      <th>Odometer</th>\n",
       "      <th>Doors</th>\n",
       "      <th>Price</th>\n",
       "      <th>Seats</th>\n",
       "    </tr>\n",
       "  </thead>\n",
       "  <tbody>\n",
       "    <tr>\n",
       "      <th>0</th>\n",
       "      <td>toyota</td>\n",
       "      <td>White</td>\n",
       "      <td>150043</td>\n",
       "      <td>4</td>\n",
       "      <td>4</td>\n",
       "      <td>5.0</td>\n",
       "    </tr>\n",
       "    <tr>\n",
       "      <th>1</th>\n",
       "      <td>honda</td>\n",
       "      <td>Red</td>\n",
       "      <td>87889</td>\n",
       "      <td>4</td>\n",
       "      <td>5</td>\n",
       "      <td>5.0</td>\n",
       "    </tr>\n",
       "    <tr>\n",
       "      <th>2</th>\n",
       "      <td>toyota</td>\n",
       "      <td>Blue</td>\n",
       "      <td>32549</td>\n",
       "      <td>3</td>\n",
       "      <td>7</td>\n",
       "      <td>5.0</td>\n",
       "    </tr>\n",
       "    <tr>\n",
       "      <th>3</th>\n",
       "      <td>bmw</td>\n",
       "      <td>Black</td>\n",
       "      <td>11179</td>\n",
       "      <td>5</td>\n",
       "      <td>22</td>\n",
       "      <td>5.0</td>\n",
       "    </tr>\n",
       "    <tr>\n",
       "      <th>4</th>\n",
       "      <td>nissan</td>\n",
       "      <td>White</td>\n",
       "      <td>213095</td>\n",
       "      <td>4</td>\n",
       "      <td>35</td>\n",
       "      <td>5.0</td>\n",
       "    </tr>\n",
       "    <tr>\n",
       "      <th>5</th>\n",
       "      <td>toyota</td>\n",
       "      <td>Green</td>\n",
       "      <td>99213</td>\n",
       "      <td>4</td>\n",
       "      <td>45</td>\n",
       "      <td>NaN</td>\n",
       "    </tr>\n",
       "    <tr>\n",
       "      <th>6</th>\n",
       "      <td>honda</td>\n",
       "      <td>Blue</td>\n",
       "      <td>45698</td>\n",
       "      <td>4</td>\n",
       "      <td>75</td>\n",
       "      <td>NaN</td>\n",
       "    </tr>\n",
       "    <tr>\n",
       "      <th>7</th>\n",
       "      <td>honda</td>\n",
       "      <td>Blue</td>\n",
       "      <td>54738</td>\n",
       "      <td>4</td>\n",
       "      <td>7</td>\n",
       "      <td>NaN</td>\n",
       "    </tr>\n",
       "    <tr>\n",
       "      <th>8</th>\n",
       "      <td>toyota</td>\n",
       "      <td>White</td>\n",
       "      <td>60000</td>\n",
       "      <td>4</td>\n",
       "      <td>625</td>\n",
       "      <td>NaN</td>\n",
       "    </tr>\n",
       "    <tr>\n",
       "      <th>9</th>\n",
       "      <td>nissan</td>\n",
       "      <td>White</td>\n",
       "      <td>31600</td>\n",
       "      <td>4</td>\n",
       "      <td>97</td>\n",
       "      <td>NaN</td>\n",
       "    </tr>\n",
       "  </tbody>\n",
       "</table>\n",
       "</div>"
      ]
     },
     "execution_count": 378,
     "metadata": {},
     "output_type": "execute_result"
    }
   ],
   "execution_count": 378
  },
  {
   "metadata": {
    "ExecuteTime": {
     "end_time": "2025-07-19T02:02:49.556635Z",
     "start_time": "2025-07-19T02:02:49.550831Z"
    }
   },
   "cell_type": "code",
   "source": [
    "car_sales[\"Seats\"] = car_sales[\"Seats\"].fillna(5)\n",
    "car_sales"
   ],
   "id": "fef5195788df7093",
   "outputs": [
    {
     "data": {
      "text/plain": [
       "     Make Colour  Odometer  Doors  Price  Seats\n",
       "0  toyota  White    150043      4      4    5.0\n",
       "1   honda    Red     87889      4      5    5.0\n",
       "2  toyota   Blue     32549      3      7    5.0\n",
       "3     bmw  Black     11179      5     22    5.0\n",
       "4  nissan  White    213095      4     35    5.0\n",
       "5  toyota  Green     99213      4     45    5.0\n",
       "6   honda   Blue     45698      4     75    5.0\n",
       "7   honda   Blue     54738      4      7    5.0\n",
       "8  toyota  White     60000      4    625    5.0\n",
       "9  nissan  White     31600      4     97    5.0"
      ],
      "text/html": [
       "<div>\n",
       "<style scoped>\n",
       "    .dataframe tbody tr th:only-of-type {\n",
       "        vertical-align: middle;\n",
       "    }\n",
       "\n",
       "    .dataframe tbody tr th {\n",
       "        vertical-align: top;\n",
       "    }\n",
       "\n",
       "    .dataframe thead th {\n",
       "        text-align: right;\n",
       "    }\n",
       "</style>\n",
       "<table border=\"1\" class=\"dataframe\">\n",
       "  <thead>\n",
       "    <tr style=\"text-align: right;\">\n",
       "      <th></th>\n",
       "      <th>Make</th>\n",
       "      <th>Colour</th>\n",
       "      <th>Odometer</th>\n",
       "      <th>Doors</th>\n",
       "      <th>Price</th>\n",
       "      <th>Seats</th>\n",
       "    </tr>\n",
       "  </thead>\n",
       "  <tbody>\n",
       "    <tr>\n",
       "      <th>0</th>\n",
       "      <td>toyota</td>\n",
       "      <td>White</td>\n",
       "      <td>150043</td>\n",
       "      <td>4</td>\n",
       "      <td>4</td>\n",
       "      <td>5.0</td>\n",
       "    </tr>\n",
       "    <tr>\n",
       "      <th>1</th>\n",
       "      <td>honda</td>\n",
       "      <td>Red</td>\n",
       "      <td>87889</td>\n",
       "      <td>4</td>\n",
       "      <td>5</td>\n",
       "      <td>5.0</td>\n",
       "    </tr>\n",
       "    <tr>\n",
       "      <th>2</th>\n",
       "      <td>toyota</td>\n",
       "      <td>Blue</td>\n",
       "      <td>32549</td>\n",
       "      <td>3</td>\n",
       "      <td>7</td>\n",
       "      <td>5.0</td>\n",
       "    </tr>\n",
       "    <tr>\n",
       "      <th>3</th>\n",
       "      <td>bmw</td>\n",
       "      <td>Black</td>\n",
       "      <td>11179</td>\n",
       "      <td>5</td>\n",
       "      <td>22</td>\n",
       "      <td>5.0</td>\n",
       "    </tr>\n",
       "    <tr>\n",
       "      <th>4</th>\n",
       "      <td>nissan</td>\n",
       "      <td>White</td>\n",
       "      <td>213095</td>\n",
       "      <td>4</td>\n",
       "      <td>35</td>\n",
       "      <td>5.0</td>\n",
       "    </tr>\n",
       "    <tr>\n",
       "      <th>5</th>\n",
       "      <td>toyota</td>\n",
       "      <td>Green</td>\n",
       "      <td>99213</td>\n",
       "      <td>4</td>\n",
       "      <td>45</td>\n",
       "      <td>5.0</td>\n",
       "    </tr>\n",
       "    <tr>\n",
       "      <th>6</th>\n",
       "      <td>honda</td>\n",
       "      <td>Blue</td>\n",
       "      <td>45698</td>\n",
       "      <td>4</td>\n",
       "      <td>75</td>\n",
       "      <td>5.0</td>\n",
       "    </tr>\n",
       "    <tr>\n",
       "      <th>7</th>\n",
       "      <td>honda</td>\n",
       "      <td>Blue</td>\n",
       "      <td>54738</td>\n",
       "      <td>4</td>\n",
       "      <td>7</td>\n",
       "      <td>5.0</td>\n",
       "    </tr>\n",
       "    <tr>\n",
       "      <th>8</th>\n",
       "      <td>toyota</td>\n",
       "      <td>White</td>\n",
       "      <td>60000</td>\n",
       "      <td>4</td>\n",
       "      <td>625</td>\n",
       "      <td>5.0</td>\n",
       "    </tr>\n",
       "    <tr>\n",
       "      <th>9</th>\n",
       "      <td>nissan</td>\n",
       "      <td>White</td>\n",
       "      <td>31600</td>\n",
       "      <td>4</td>\n",
       "      <td>97</td>\n",
       "      <td>5.0</td>\n",
       "    </tr>\n",
       "  </tbody>\n",
       "</table>\n",
       "</div>"
      ]
     },
     "execution_count": 379,
     "metadata": {},
     "output_type": "execute_result"
    }
   ],
   "execution_count": 379
  },
  {
   "metadata": {
    "ExecuteTime": {
     "end_time": "2025-07-19T02:02:49.635347Z",
     "start_time": "2025-07-19T02:02:49.628968Z"
    }
   },
   "cell_type": "code",
   "source": [
    "# Add fuel_economy using a Python List - not this Python list HAS to have the same number of entries as there are rows in the Data Frame,  Unlike the \"Series\" where having fewer items that row, will fill the remaining column data with NaN.\n",
    "\n",
    "fuel_economy = [3.5, 6.9, 8.5, 4.9, 8.4, 3.7, 5.2, 4.7, 9.9, 3.7]\n",
    "car_sales[\"Fuel per 100KM\"] = fuel_economy\n",
    "car_sales\n"
   ],
   "id": "8acd770092e0ac0f",
   "outputs": [
    {
     "data": {
      "text/plain": [
       "     Make Colour  Odometer  Doors  Price  Seats  Fuel per 100KM\n",
       "0  toyota  White    150043      4      4    5.0             3.5\n",
       "1   honda    Red     87889      4      5    5.0             6.9\n",
       "2  toyota   Blue     32549      3      7    5.0             8.5\n",
       "3     bmw  Black     11179      5     22    5.0             4.9\n",
       "4  nissan  White    213095      4     35    5.0             8.4\n",
       "5  toyota  Green     99213      4     45    5.0             3.7\n",
       "6   honda   Blue     45698      4     75    5.0             5.2\n",
       "7   honda   Blue     54738      4      7    5.0             4.7\n",
       "8  toyota  White     60000      4    625    5.0             9.9\n",
       "9  nissan  White     31600      4     97    5.0             3.7"
      ],
      "text/html": [
       "<div>\n",
       "<style scoped>\n",
       "    .dataframe tbody tr th:only-of-type {\n",
       "        vertical-align: middle;\n",
       "    }\n",
       "\n",
       "    .dataframe tbody tr th {\n",
       "        vertical-align: top;\n",
       "    }\n",
       "\n",
       "    .dataframe thead th {\n",
       "        text-align: right;\n",
       "    }\n",
       "</style>\n",
       "<table border=\"1\" class=\"dataframe\">\n",
       "  <thead>\n",
       "    <tr style=\"text-align: right;\">\n",
       "      <th></th>\n",
       "      <th>Make</th>\n",
       "      <th>Colour</th>\n",
       "      <th>Odometer</th>\n",
       "      <th>Doors</th>\n",
       "      <th>Price</th>\n",
       "      <th>Seats</th>\n",
       "      <th>Fuel per 100KM</th>\n",
       "    </tr>\n",
       "  </thead>\n",
       "  <tbody>\n",
       "    <tr>\n",
       "      <th>0</th>\n",
       "      <td>toyota</td>\n",
       "      <td>White</td>\n",
       "      <td>150043</td>\n",
       "      <td>4</td>\n",
       "      <td>4</td>\n",
       "      <td>5.0</td>\n",
       "      <td>3.5</td>\n",
       "    </tr>\n",
       "    <tr>\n",
       "      <th>1</th>\n",
       "      <td>honda</td>\n",
       "      <td>Red</td>\n",
       "      <td>87889</td>\n",
       "      <td>4</td>\n",
       "      <td>5</td>\n",
       "      <td>5.0</td>\n",
       "      <td>6.9</td>\n",
       "    </tr>\n",
       "    <tr>\n",
       "      <th>2</th>\n",
       "      <td>toyota</td>\n",
       "      <td>Blue</td>\n",
       "      <td>32549</td>\n",
       "      <td>3</td>\n",
       "      <td>7</td>\n",
       "      <td>5.0</td>\n",
       "      <td>8.5</td>\n",
       "    </tr>\n",
       "    <tr>\n",
       "      <th>3</th>\n",
       "      <td>bmw</td>\n",
       "      <td>Black</td>\n",
       "      <td>11179</td>\n",
       "      <td>5</td>\n",
       "      <td>22</td>\n",
       "      <td>5.0</td>\n",
       "      <td>4.9</td>\n",
       "    </tr>\n",
       "    <tr>\n",
       "      <th>4</th>\n",
       "      <td>nissan</td>\n",
       "      <td>White</td>\n",
       "      <td>213095</td>\n",
       "      <td>4</td>\n",
       "      <td>35</td>\n",
       "      <td>5.0</td>\n",
       "      <td>8.4</td>\n",
       "    </tr>\n",
       "    <tr>\n",
       "      <th>5</th>\n",
       "      <td>toyota</td>\n",
       "      <td>Green</td>\n",
       "      <td>99213</td>\n",
       "      <td>4</td>\n",
       "      <td>45</td>\n",
       "      <td>5.0</td>\n",
       "      <td>3.7</td>\n",
       "    </tr>\n",
       "    <tr>\n",
       "      <th>6</th>\n",
       "      <td>honda</td>\n",
       "      <td>Blue</td>\n",
       "      <td>45698</td>\n",
       "      <td>4</td>\n",
       "      <td>75</td>\n",
       "      <td>5.0</td>\n",
       "      <td>5.2</td>\n",
       "    </tr>\n",
       "    <tr>\n",
       "      <th>7</th>\n",
       "      <td>honda</td>\n",
       "      <td>Blue</td>\n",
       "      <td>54738</td>\n",
       "      <td>4</td>\n",
       "      <td>7</td>\n",
       "      <td>5.0</td>\n",
       "      <td>4.7</td>\n",
       "    </tr>\n",
       "    <tr>\n",
       "      <th>8</th>\n",
       "      <td>toyota</td>\n",
       "      <td>White</td>\n",
       "      <td>60000</td>\n",
       "      <td>4</td>\n",
       "      <td>625</td>\n",
       "      <td>5.0</td>\n",
       "      <td>9.9</td>\n",
       "    </tr>\n",
       "    <tr>\n",
       "      <th>9</th>\n",
       "      <td>nissan</td>\n",
       "      <td>White</td>\n",
       "      <td>31600</td>\n",
       "      <td>4</td>\n",
       "      <td>97</td>\n",
       "      <td>5.0</td>\n",
       "      <td>3.7</td>\n",
       "    </tr>\n",
       "  </tbody>\n",
       "</table>\n",
       "</div>"
      ]
     },
     "execution_count": 380,
     "metadata": {},
     "output_type": "execute_result"
    }
   ],
   "execution_count": 380
  },
  {
   "metadata": {
    "ExecuteTime": {
     "end_time": "2025-07-19T02:02:49.708711Z",
     "start_time": "2025-07-19T02:02:49.702669Z"
    }
   },
   "cell_type": "code",
   "source": [
    "# Add a new co,umn of derived data - Fuel Used\n",
    "car_sales[\"Total Fuel Used\"] = (car_sales[\"Odometer\"]/100) * car_sales[\"Fuel per 100KM\"]\n",
    "car_sales"
   ],
   "id": "febf1ba6284ac93b",
   "outputs": [
    {
     "data": {
      "text/plain": [
       "     Make Colour  Odometer  Doors  Price  Seats  Fuel per 100KM  \\\n",
       "0  toyota  White    150043      4      4    5.0             3.5   \n",
       "1   honda    Red     87889      4      5    5.0             6.9   \n",
       "2  toyota   Blue     32549      3      7    5.0             8.5   \n",
       "3     bmw  Black     11179      5     22    5.0             4.9   \n",
       "4  nissan  White    213095      4     35    5.0             8.4   \n",
       "5  toyota  Green     99213      4     45    5.0             3.7   \n",
       "6   honda   Blue     45698      4     75    5.0             5.2   \n",
       "7   honda   Blue     54738      4      7    5.0             4.7   \n",
       "8  toyota  White     60000      4    625    5.0             9.9   \n",
       "9  nissan  White     31600      4     97    5.0             3.7   \n",
       "\n",
       "   Total Fuel Used  \n",
       "0         5251.505  \n",
       "1         6064.341  \n",
       "2         2766.665  \n",
       "3          547.771  \n",
       "4        17899.980  \n",
       "5         3670.881  \n",
       "6         2376.296  \n",
       "7         2572.686  \n",
       "8         5940.000  \n",
       "9         1169.200  "
      ],
      "text/html": [
       "<div>\n",
       "<style scoped>\n",
       "    .dataframe tbody tr th:only-of-type {\n",
       "        vertical-align: middle;\n",
       "    }\n",
       "\n",
       "    .dataframe tbody tr th {\n",
       "        vertical-align: top;\n",
       "    }\n",
       "\n",
       "    .dataframe thead th {\n",
       "        text-align: right;\n",
       "    }\n",
       "</style>\n",
       "<table border=\"1\" class=\"dataframe\">\n",
       "  <thead>\n",
       "    <tr style=\"text-align: right;\">\n",
       "      <th></th>\n",
       "      <th>Make</th>\n",
       "      <th>Colour</th>\n",
       "      <th>Odometer</th>\n",
       "      <th>Doors</th>\n",
       "      <th>Price</th>\n",
       "      <th>Seats</th>\n",
       "      <th>Fuel per 100KM</th>\n",
       "      <th>Total Fuel Used</th>\n",
       "    </tr>\n",
       "  </thead>\n",
       "  <tbody>\n",
       "    <tr>\n",
       "      <th>0</th>\n",
       "      <td>toyota</td>\n",
       "      <td>White</td>\n",
       "      <td>150043</td>\n",
       "      <td>4</td>\n",
       "      <td>4</td>\n",
       "      <td>5.0</td>\n",
       "      <td>3.5</td>\n",
       "      <td>5251.505</td>\n",
       "    </tr>\n",
       "    <tr>\n",
       "      <th>1</th>\n",
       "      <td>honda</td>\n",
       "      <td>Red</td>\n",
       "      <td>87889</td>\n",
       "      <td>4</td>\n",
       "      <td>5</td>\n",
       "      <td>5.0</td>\n",
       "      <td>6.9</td>\n",
       "      <td>6064.341</td>\n",
       "    </tr>\n",
       "    <tr>\n",
       "      <th>2</th>\n",
       "      <td>toyota</td>\n",
       "      <td>Blue</td>\n",
       "      <td>32549</td>\n",
       "      <td>3</td>\n",
       "      <td>7</td>\n",
       "      <td>5.0</td>\n",
       "      <td>8.5</td>\n",
       "      <td>2766.665</td>\n",
       "    </tr>\n",
       "    <tr>\n",
       "      <th>3</th>\n",
       "      <td>bmw</td>\n",
       "      <td>Black</td>\n",
       "      <td>11179</td>\n",
       "      <td>5</td>\n",
       "      <td>22</td>\n",
       "      <td>5.0</td>\n",
       "      <td>4.9</td>\n",
       "      <td>547.771</td>\n",
       "    </tr>\n",
       "    <tr>\n",
       "      <th>4</th>\n",
       "      <td>nissan</td>\n",
       "      <td>White</td>\n",
       "      <td>213095</td>\n",
       "      <td>4</td>\n",
       "      <td>35</td>\n",
       "      <td>5.0</td>\n",
       "      <td>8.4</td>\n",
       "      <td>17899.980</td>\n",
       "    </tr>\n",
       "    <tr>\n",
       "      <th>5</th>\n",
       "      <td>toyota</td>\n",
       "      <td>Green</td>\n",
       "      <td>99213</td>\n",
       "      <td>4</td>\n",
       "      <td>45</td>\n",
       "      <td>5.0</td>\n",
       "      <td>3.7</td>\n",
       "      <td>3670.881</td>\n",
       "    </tr>\n",
       "    <tr>\n",
       "      <th>6</th>\n",
       "      <td>honda</td>\n",
       "      <td>Blue</td>\n",
       "      <td>45698</td>\n",
       "      <td>4</td>\n",
       "      <td>75</td>\n",
       "      <td>5.0</td>\n",
       "      <td>5.2</td>\n",
       "      <td>2376.296</td>\n",
       "    </tr>\n",
       "    <tr>\n",
       "      <th>7</th>\n",
       "      <td>honda</td>\n",
       "      <td>Blue</td>\n",
       "      <td>54738</td>\n",
       "      <td>4</td>\n",
       "      <td>7</td>\n",
       "      <td>5.0</td>\n",
       "      <td>4.7</td>\n",
       "      <td>2572.686</td>\n",
       "    </tr>\n",
       "    <tr>\n",
       "      <th>8</th>\n",
       "      <td>toyota</td>\n",
       "      <td>White</td>\n",
       "      <td>60000</td>\n",
       "      <td>4</td>\n",
       "      <td>625</td>\n",
       "      <td>5.0</td>\n",
       "      <td>9.9</td>\n",
       "      <td>5940.000</td>\n",
       "    </tr>\n",
       "    <tr>\n",
       "      <th>9</th>\n",
       "      <td>nissan</td>\n",
       "      <td>White</td>\n",
       "      <td>31600</td>\n",
       "      <td>4</td>\n",
       "      <td>97</td>\n",
       "      <td>5.0</td>\n",
       "      <td>3.7</td>\n",
       "      <td>1169.200</td>\n",
       "    </tr>\n",
       "  </tbody>\n",
       "</table>\n",
       "</div>"
      ]
     },
     "execution_count": 381,
     "metadata": {},
     "output_type": "execute_result"
    }
   ],
   "execution_count": 381
  },
  {
   "metadata": {
    "ExecuteTime": {
     "end_time": "2025-07-19T02:02:49.786630Z",
     "start_time": "2025-07-19T02:02:49.782875Z"
    }
   },
   "cell_type": "code",
   "source": "car_sales[\"Number of Wheels\"] = 4",
   "id": "e501e51ae0efbad9",
   "outputs": [],
   "execution_count": 382
  },
  {
   "metadata": {
    "ExecuteTime": {
     "end_time": "2025-07-19T02:02:49.884614Z",
     "start_time": "2025-07-19T02:02:49.879845Z"
    }
   },
   "cell_type": "code",
   "source": "car_sales",
   "id": "2a98d2a96499c161",
   "outputs": [
    {
     "data": {
      "text/plain": [
       "     Make Colour  Odometer  Doors  Price  Seats  Fuel per 100KM  \\\n",
       "0  toyota  White    150043      4      4    5.0             3.5   \n",
       "1   honda    Red     87889      4      5    5.0             6.9   \n",
       "2  toyota   Blue     32549      3      7    5.0             8.5   \n",
       "3     bmw  Black     11179      5     22    5.0             4.9   \n",
       "4  nissan  White    213095      4     35    5.0             8.4   \n",
       "5  toyota  Green     99213      4     45    5.0             3.7   \n",
       "6   honda   Blue     45698      4     75    5.0             5.2   \n",
       "7   honda   Blue     54738      4      7    5.0             4.7   \n",
       "8  toyota  White     60000      4    625    5.0             9.9   \n",
       "9  nissan  White     31600      4     97    5.0             3.7   \n",
       "\n",
       "   Total Fuel Used  Number of Wheels  \n",
       "0         5251.505                 4  \n",
       "1         6064.341                 4  \n",
       "2         2766.665                 4  \n",
       "3          547.771                 4  \n",
       "4        17899.980                 4  \n",
       "5         3670.881                 4  \n",
       "6         2376.296                 4  \n",
       "7         2572.686                 4  \n",
       "8         5940.000                 4  \n",
       "9         1169.200                 4  "
      ],
      "text/html": [
       "<div>\n",
       "<style scoped>\n",
       "    .dataframe tbody tr th:only-of-type {\n",
       "        vertical-align: middle;\n",
       "    }\n",
       "\n",
       "    .dataframe tbody tr th {\n",
       "        vertical-align: top;\n",
       "    }\n",
       "\n",
       "    .dataframe thead th {\n",
       "        text-align: right;\n",
       "    }\n",
       "</style>\n",
       "<table border=\"1\" class=\"dataframe\">\n",
       "  <thead>\n",
       "    <tr style=\"text-align: right;\">\n",
       "      <th></th>\n",
       "      <th>Make</th>\n",
       "      <th>Colour</th>\n",
       "      <th>Odometer</th>\n",
       "      <th>Doors</th>\n",
       "      <th>Price</th>\n",
       "      <th>Seats</th>\n",
       "      <th>Fuel per 100KM</th>\n",
       "      <th>Total Fuel Used</th>\n",
       "      <th>Number of Wheels</th>\n",
       "    </tr>\n",
       "  </thead>\n",
       "  <tbody>\n",
       "    <tr>\n",
       "      <th>0</th>\n",
       "      <td>toyota</td>\n",
       "      <td>White</td>\n",
       "      <td>150043</td>\n",
       "      <td>4</td>\n",
       "      <td>4</td>\n",
       "      <td>5.0</td>\n",
       "      <td>3.5</td>\n",
       "      <td>5251.505</td>\n",
       "      <td>4</td>\n",
       "    </tr>\n",
       "    <tr>\n",
       "      <th>1</th>\n",
       "      <td>honda</td>\n",
       "      <td>Red</td>\n",
       "      <td>87889</td>\n",
       "      <td>4</td>\n",
       "      <td>5</td>\n",
       "      <td>5.0</td>\n",
       "      <td>6.9</td>\n",
       "      <td>6064.341</td>\n",
       "      <td>4</td>\n",
       "    </tr>\n",
       "    <tr>\n",
       "      <th>2</th>\n",
       "      <td>toyota</td>\n",
       "      <td>Blue</td>\n",
       "      <td>32549</td>\n",
       "      <td>3</td>\n",
       "      <td>7</td>\n",
       "      <td>5.0</td>\n",
       "      <td>8.5</td>\n",
       "      <td>2766.665</td>\n",
       "      <td>4</td>\n",
       "    </tr>\n",
       "    <tr>\n",
       "      <th>3</th>\n",
       "      <td>bmw</td>\n",
       "      <td>Black</td>\n",
       "      <td>11179</td>\n",
       "      <td>5</td>\n",
       "      <td>22</td>\n",
       "      <td>5.0</td>\n",
       "      <td>4.9</td>\n",
       "      <td>547.771</td>\n",
       "      <td>4</td>\n",
       "    </tr>\n",
       "    <tr>\n",
       "      <th>4</th>\n",
       "      <td>nissan</td>\n",
       "      <td>White</td>\n",
       "      <td>213095</td>\n",
       "      <td>4</td>\n",
       "      <td>35</td>\n",
       "      <td>5.0</td>\n",
       "      <td>8.4</td>\n",
       "      <td>17899.980</td>\n",
       "      <td>4</td>\n",
       "    </tr>\n",
       "    <tr>\n",
       "      <th>5</th>\n",
       "      <td>toyota</td>\n",
       "      <td>Green</td>\n",
       "      <td>99213</td>\n",
       "      <td>4</td>\n",
       "      <td>45</td>\n",
       "      <td>5.0</td>\n",
       "      <td>3.7</td>\n",
       "      <td>3670.881</td>\n",
       "      <td>4</td>\n",
       "    </tr>\n",
       "    <tr>\n",
       "      <th>6</th>\n",
       "      <td>honda</td>\n",
       "      <td>Blue</td>\n",
       "      <td>45698</td>\n",
       "      <td>4</td>\n",
       "      <td>75</td>\n",
       "      <td>5.0</td>\n",
       "      <td>5.2</td>\n",
       "      <td>2376.296</td>\n",
       "      <td>4</td>\n",
       "    </tr>\n",
       "    <tr>\n",
       "      <th>7</th>\n",
       "      <td>honda</td>\n",
       "      <td>Blue</td>\n",
       "      <td>54738</td>\n",
       "      <td>4</td>\n",
       "      <td>7</td>\n",
       "      <td>5.0</td>\n",
       "      <td>4.7</td>\n",
       "      <td>2572.686</td>\n",
       "      <td>4</td>\n",
       "    </tr>\n",
       "    <tr>\n",
       "      <th>8</th>\n",
       "      <td>toyota</td>\n",
       "      <td>White</td>\n",
       "      <td>60000</td>\n",
       "      <td>4</td>\n",
       "      <td>625</td>\n",
       "      <td>5.0</td>\n",
       "      <td>9.9</td>\n",
       "      <td>5940.000</td>\n",
       "      <td>4</td>\n",
       "    </tr>\n",
       "    <tr>\n",
       "      <th>9</th>\n",
       "      <td>nissan</td>\n",
       "      <td>White</td>\n",
       "      <td>31600</td>\n",
       "      <td>4</td>\n",
       "      <td>97</td>\n",
       "      <td>5.0</td>\n",
       "      <td>3.7</td>\n",
       "      <td>1169.200</td>\n",
       "      <td>4</td>\n",
       "    </tr>\n",
       "  </tbody>\n",
       "</table>\n",
       "</div>"
      ]
     },
     "execution_count": 383,
     "metadata": {},
     "output_type": "execute_result"
    }
   ],
   "execution_count": 383
  },
  {
   "metadata": {
    "ExecuteTime": {
     "end_time": "2025-07-19T02:02:49.936453Z",
     "start_time": "2025-07-19T02:02:49.933866Z"
    }
   },
   "cell_type": "code",
   "source": [
    "# Road Safety\n",
    "car_sales[\"Passed Road Safety\"] = True"
   ],
   "id": "6a806a9f02316e24",
   "outputs": [],
   "execution_count": 384
  },
  {
   "metadata": {
    "ExecuteTime": {
     "end_time": "2025-07-19T02:02:49.981725Z",
     "start_time": "2025-07-19T02:02:49.978881Z"
    }
   },
   "cell_type": "code",
   "source": "car_sales.dtypes",
   "id": "8aa6127e0d956940",
   "outputs": [
    {
     "data": {
      "text/plain": [
       "Make                   object\n",
       "Colour                 object\n",
       "Odometer                int64\n",
       "Doors                   int64\n",
       "Price                   int64\n",
       "Seats                 float64\n",
       "Fuel per 100KM        float64\n",
       "Total Fuel Used       float64\n",
       "Number of Wheels        int64\n",
       "Passed Road Safety       bool\n",
       "dtype: object"
      ]
     },
     "execution_count": 385,
     "metadata": {},
     "output_type": "execute_result"
    }
   ],
   "execution_count": 385
  },
  {
   "metadata": {
    "ExecuteTime": {
     "end_time": "2025-07-19T02:02:50.020129Z",
     "start_time": "2025-07-19T02:02:50.015149Z"
    }
   },
   "cell_type": "code",
   "source": "car_sales",
   "id": "b6ae685ffa6a0400",
   "outputs": [
    {
     "data": {
      "text/plain": [
       "     Make Colour  Odometer  Doors  Price  Seats  Fuel per 100KM  \\\n",
       "0  toyota  White    150043      4      4    5.0             3.5   \n",
       "1   honda    Red     87889      4      5    5.0             6.9   \n",
       "2  toyota   Blue     32549      3      7    5.0             8.5   \n",
       "3     bmw  Black     11179      5     22    5.0             4.9   \n",
       "4  nissan  White    213095      4     35    5.0             8.4   \n",
       "5  toyota  Green     99213      4     45    5.0             3.7   \n",
       "6   honda   Blue     45698      4     75    5.0             5.2   \n",
       "7   honda   Blue     54738      4      7    5.0             4.7   \n",
       "8  toyota  White     60000      4    625    5.0             9.9   \n",
       "9  nissan  White     31600      4     97    5.0             3.7   \n",
       "\n",
       "   Total Fuel Used  Number of Wheels  Passed Road Safety  \n",
       "0         5251.505                 4                True  \n",
       "1         6064.341                 4                True  \n",
       "2         2766.665                 4                True  \n",
       "3          547.771                 4                True  \n",
       "4        17899.980                 4                True  \n",
       "5         3670.881                 4                True  \n",
       "6         2376.296                 4                True  \n",
       "7         2572.686                 4                True  \n",
       "8         5940.000                 4                True  \n",
       "9         1169.200                 4                True  "
      ],
      "text/html": [
       "<div>\n",
       "<style scoped>\n",
       "    .dataframe tbody tr th:only-of-type {\n",
       "        vertical-align: middle;\n",
       "    }\n",
       "\n",
       "    .dataframe tbody tr th {\n",
       "        vertical-align: top;\n",
       "    }\n",
       "\n",
       "    .dataframe thead th {\n",
       "        text-align: right;\n",
       "    }\n",
       "</style>\n",
       "<table border=\"1\" class=\"dataframe\">\n",
       "  <thead>\n",
       "    <tr style=\"text-align: right;\">\n",
       "      <th></th>\n",
       "      <th>Make</th>\n",
       "      <th>Colour</th>\n",
       "      <th>Odometer</th>\n",
       "      <th>Doors</th>\n",
       "      <th>Price</th>\n",
       "      <th>Seats</th>\n",
       "      <th>Fuel per 100KM</th>\n",
       "      <th>Total Fuel Used</th>\n",
       "      <th>Number of Wheels</th>\n",
       "      <th>Passed Road Safety</th>\n",
       "    </tr>\n",
       "  </thead>\n",
       "  <tbody>\n",
       "    <tr>\n",
       "      <th>0</th>\n",
       "      <td>toyota</td>\n",
       "      <td>White</td>\n",
       "      <td>150043</td>\n",
       "      <td>4</td>\n",
       "      <td>4</td>\n",
       "      <td>5.0</td>\n",
       "      <td>3.5</td>\n",
       "      <td>5251.505</td>\n",
       "      <td>4</td>\n",
       "      <td>True</td>\n",
       "    </tr>\n",
       "    <tr>\n",
       "      <th>1</th>\n",
       "      <td>honda</td>\n",
       "      <td>Red</td>\n",
       "      <td>87889</td>\n",
       "      <td>4</td>\n",
       "      <td>5</td>\n",
       "      <td>5.0</td>\n",
       "      <td>6.9</td>\n",
       "      <td>6064.341</td>\n",
       "      <td>4</td>\n",
       "      <td>True</td>\n",
       "    </tr>\n",
       "    <tr>\n",
       "      <th>2</th>\n",
       "      <td>toyota</td>\n",
       "      <td>Blue</td>\n",
       "      <td>32549</td>\n",
       "      <td>3</td>\n",
       "      <td>7</td>\n",
       "      <td>5.0</td>\n",
       "      <td>8.5</td>\n",
       "      <td>2766.665</td>\n",
       "      <td>4</td>\n",
       "      <td>True</td>\n",
       "    </tr>\n",
       "    <tr>\n",
       "      <th>3</th>\n",
       "      <td>bmw</td>\n",
       "      <td>Black</td>\n",
       "      <td>11179</td>\n",
       "      <td>5</td>\n",
       "      <td>22</td>\n",
       "      <td>5.0</td>\n",
       "      <td>4.9</td>\n",
       "      <td>547.771</td>\n",
       "      <td>4</td>\n",
       "      <td>True</td>\n",
       "    </tr>\n",
       "    <tr>\n",
       "      <th>4</th>\n",
       "      <td>nissan</td>\n",
       "      <td>White</td>\n",
       "      <td>213095</td>\n",
       "      <td>4</td>\n",
       "      <td>35</td>\n",
       "      <td>5.0</td>\n",
       "      <td>8.4</td>\n",
       "      <td>17899.980</td>\n",
       "      <td>4</td>\n",
       "      <td>True</td>\n",
       "    </tr>\n",
       "    <tr>\n",
       "      <th>5</th>\n",
       "      <td>toyota</td>\n",
       "      <td>Green</td>\n",
       "      <td>99213</td>\n",
       "      <td>4</td>\n",
       "      <td>45</td>\n",
       "      <td>5.0</td>\n",
       "      <td>3.7</td>\n",
       "      <td>3670.881</td>\n",
       "      <td>4</td>\n",
       "      <td>True</td>\n",
       "    </tr>\n",
       "    <tr>\n",
       "      <th>6</th>\n",
       "      <td>honda</td>\n",
       "      <td>Blue</td>\n",
       "      <td>45698</td>\n",
       "      <td>4</td>\n",
       "      <td>75</td>\n",
       "      <td>5.0</td>\n",
       "      <td>5.2</td>\n",
       "      <td>2376.296</td>\n",
       "      <td>4</td>\n",
       "      <td>True</td>\n",
       "    </tr>\n",
       "    <tr>\n",
       "      <th>7</th>\n",
       "      <td>honda</td>\n",
       "      <td>Blue</td>\n",
       "      <td>54738</td>\n",
       "      <td>4</td>\n",
       "      <td>7</td>\n",
       "      <td>5.0</td>\n",
       "      <td>4.7</td>\n",
       "      <td>2572.686</td>\n",
       "      <td>4</td>\n",
       "      <td>True</td>\n",
       "    </tr>\n",
       "    <tr>\n",
       "      <th>8</th>\n",
       "      <td>toyota</td>\n",
       "      <td>White</td>\n",
       "      <td>60000</td>\n",
       "      <td>4</td>\n",
       "      <td>625</td>\n",
       "      <td>5.0</td>\n",
       "      <td>9.9</td>\n",
       "      <td>5940.000</td>\n",
       "      <td>4</td>\n",
       "      <td>True</td>\n",
       "    </tr>\n",
       "    <tr>\n",
       "      <th>9</th>\n",
       "      <td>nissan</td>\n",
       "      <td>White</td>\n",
       "      <td>31600</td>\n",
       "      <td>4</td>\n",
       "      <td>97</td>\n",
       "      <td>5.0</td>\n",
       "      <td>3.7</td>\n",
       "      <td>1169.200</td>\n",
       "      <td>4</td>\n",
       "      <td>True</td>\n",
       "    </tr>\n",
       "  </tbody>\n",
       "</table>\n",
       "</div>"
      ]
     },
     "execution_count": 386,
     "metadata": {},
     "output_type": "execute_result"
    }
   ],
   "execution_count": 386
  },
  {
   "metadata": {
    "ExecuteTime": {
     "end_time": "2025-07-19T02:02:50.091559Z",
     "start_time": "2025-07-19T02:02:50.085046Z"
    }
   },
   "cell_type": "code",
   "source": [
    "car_sales[\"Avg Fuel Used\"] = car_sales[\"Total Fuel Used\"].mean()\n",
    "car_sales"
   ],
   "id": "130152fe77992c7b",
   "outputs": [
    {
     "data": {
      "text/plain": [
       "     Make Colour  Odometer  Doors  Price  Seats  Fuel per 100KM  \\\n",
       "0  toyota  White    150043      4      4    5.0             3.5   \n",
       "1   honda    Red     87889      4      5    5.0             6.9   \n",
       "2  toyota   Blue     32549      3      7    5.0             8.5   \n",
       "3     bmw  Black     11179      5     22    5.0             4.9   \n",
       "4  nissan  White    213095      4     35    5.0             8.4   \n",
       "5  toyota  Green     99213      4     45    5.0             3.7   \n",
       "6   honda   Blue     45698      4     75    5.0             5.2   \n",
       "7   honda   Blue     54738      4      7    5.0             4.7   \n",
       "8  toyota  White     60000      4    625    5.0             9.9   \n",
       "9  nissan  White     31600      4     97    5.0             3.7   \n",
       "\n",
       "   Total Fuel Used  Number of Wheels  Passed Road Safety  Avg Fuel Used  \n",
       "0         5251.505                 4                True      4825.9325  \n",
       "1         6064.341                 4                True      4825.9325  \n",
       "2         2766.665                 4                True      4825.9325  \n",
       "3          547.771                 4                True      4825.9325  \n",
       "4        17899.980                 4                True      4825.9325  \n",
       "5         3670.881                 4                True      4825.9325  \n",
       "6         2376.296                 4                True      4825.9325  \n",
       "7         2572.686                 4                True      4825.9325  \n",
       "8         5940.000                 4                True      4825.9325  \n",
       "9         1169.200                 4                True      4825.9325  "
      ],
      "text/html": [
       "<div>\n",
       "<style scoped>\n",
       "    .dataframe tbody tr th:only-of-type {\n",
       "        vertical-align: middle;\n",
       "    }\n",
       "\n",
       "    .dataframe tbody tr th {\n",
       "        vertical-align: top;\n",
       "    }\n",
       "\n",
       "    .dataframe thead th {\n",
       "        text-align: right;\n",
       "    }\n",
       "</style>\n",
       "<table border=\"1\" class=\"dataframe\">\n",
       "  <thead>\n",
       "    <tr style=\"text-align: right;\">\n",
       "      <th></th>\n",
       "      <th>Make</th>\n",
       "      <th>Colour</th>\n",
       "      <th>Odometer</th>\n",
       "      <th>Doors</th>\n",
       "      <th>Price</th>\n",
       "      <th>Seats</th>\n",
       "      <th>Fuel per 100KM</th>\n",
       "      <th>Total Fuel Used</th>\n",
       "      <th>Number of Wheels</th>\n",
       "      <th>Passed Road Safety</th>\n",
       "      <th>Avg Fuel Used</th>\n",
       "    </tr>\n",
       "  </thead>\n",
       "  <tbody>\n",
       "    <tr>\n",
       "      <th>0</th>\n",
       "      <td>toyota</td>\n",
       "      <td>White</td>\n",
       "      <td>150043</td>\n",
       "      <td>4</td>\n",
       "      <td>4</td>\n",
       "      <td>5.0</td>\n",
       "      <td>3.5</td>\n",
       "      <td>5251.505</td>\n",
       "      <td>4</td>\n",
       "      <td>True</td>\n",
       "      <td>4825.9325</td>\n",
       "    </tr>\n",
       "    <tr>\n",
       "      <th>1</th>\n",
       "      <td>honda</td>\n",
       "      <td>Red</td>\n",
       "      <td>87889</td>\n",
       "      <td>4</td>\n",
       "      <td>5</td>\n",
       "      <td>5.0</td>\n",
       "      <td>6.9</td>\n",
       "      <td>6064.341</td>\n",
       "      <td>4</td>\n",
       "      <td>True</td>\n",
       "      <td>4825.9325</td>\n",
       "    </tr>\n",
       "    <tr>\n",
       "      <th>2</th>\n",
       "      <td>toyota</td>\n",
       "      <td>Blue</td>\n",
       "      <td>32549</td>\n",
       "      <td>3</td>\n",
       "      <td>7</td>\n",
       "      <td>5.0</td>\n",
       "      <td>8.5</td>\n",
       "      <td>2766.665</td>\n",
       "      <td>4</td>\n",
       "      <td>True</td>\n",
       "      <td>4825.9325</td>\n",
       "    </tr>\n",
       "    <tr>\n",
       "      <th>3</th>\n",
       "      <td>bmw</td>\n",
       "      <td>Black</td>\n",
       "      <td>11179</td>\n",
       "      <td>5</td>\n",
       "      <td>22</td>\n",
       "      <td>5.0</td>\n",
       "      <td>4.9</td>\n",
       "      <td>547.771</td>\n",
       "      <td>4</td>\n",
       "      <td>True</td>\n",
       "      <td>4825.9325</td>\n",
       "    </tr>\n",
       "    <tr>\n",
       "      <th>4</th>\n",
       "      <td>nissan</td>\n",
       "      <td>White</td>\n",
       "      <td>213095</td>\n",
       "      <td>4</td>\n",
       "      <td>35</td>\n",
       "      <td>5.0</td>\n",
       "      <td>8.4</td>\n",
       "      <td>17899.980</td>\n",
       "      <td>4</td>\n",
       "      <td>True</td>\n",
       "      <td>4825.9325</td>\n",
       "    </tr>\n",
       "    <tr>\n",
       "      <th>5</th>\n",
       "      <td>toyota</td>\n",
       "      <td>Green</td>\n",
       "      <td>99213</td>\n",
       "      <td>4</td>\n",
       "      <td>45</td>\n",
       "      <td>5.0</td>\n",
       "      <td>3.7</td>\n",
       "      <td>3670.881</td>\n",
       "      <td>4</td>\n",
       "      <td>True</td>\n",
       "      <td>4825.9325</td>\n",
       "    </tr>\n",
       "    <tr>\n",
       "      <th>6</th>\n",
       "      <td>honda</td>\n",
       "      <td>Blue</td>\n",
       "      <td>45698</td>\n",
       "      <td>4</td>\n",
       "      <td>75</td>\n",
       "      <td>5.0</td>\n",
       "      <td>5.2</td>\n",
       "      <td>2376.296</td>\n",
       "      <td>4</td>\n",
       "      <td>True</td>\n",
       "      <td>4825.9325</td>\n",
       "    </tr>\n",
       "    <tr>\n",
       "      <th>7</th>\n",
       "      <td>honda</td>\n",
       "      <td>Blue</td>\n",
       "      <td>54738</td>\n",
       "      <td>4</td>\n",
       "      <td>7</td>\n",
       "      <td>5.0</td>\n",
       "      <td>4.7</td>\n",
       "      <td>2572.686</td>\n",
       "      <td>4</td>\n",
       "      <td>True</td>\n",
       "      <td>4825.9325</td>\n",
       "    </tr>\n",
       "    <tr>\n",
       "      <th>8</th>\n",
       "      <td>toyota</td>\n",
       "      <td>White</td>\n",
       "      <td>60000</td>\n",
       "      <td>4</td>\n",
       "      <td>625</td>\n",
       "      <td>5.0</td>\n",
       "      <td>9.9</td>\n",
       "      <td>5940.000</td>\n",
       "      <td>4</td>\n",
       "      <td>True</td>\n",
       "      <td>4825.9325</td>\n",
       "    </tr>\n",
       "    <tr>\n",
       "      <th>9</th>\n",
       "      <td>nissan</td>\n",
       "      <td>White</td>\n",
       "      <td>31600</td>\n",
       "      <td>4</td>\n",
       "      <td>97</td>\n",
       "      <td>5.0</td>\n",
       "      <td>3.7</td>\n",
       "      <td>1169.200</td>\n",
       "      <td>4</td>\n",
       "      <td>True</td>\n",
       "      <td>4825.9325</td>\n",
       "    </tr>\n",
       "  </tbody>\n",
       "</table>\n",
       "</div>"
      ]
     },
     "execution_count": 387,
     "metadata": {},
     "output_type": "execute_result"
    }
   ],
   "execution_count": 387
  },
  {
   "metadata": {
    "ExecuteTime": {
     "end_time": "2025-07-19T02:02:50.166959Z",
     "start_time": "2025-07-19T02:02:50.159424Z"
    }
   },
   "cell_type": "code",
   "source": [
    "# Shuffle the rows of data randomly, observe the index values in the index column\n",
    "car_sales_shuffled = car_sales.sample(frac=1)\n",
    "car_sales_shuffled"
   ],
   "id": "596e5d165dcea6d3",
   "outputs": [
    {
     "data": {
      "text/plain": [
       "     Make Colour  Odometer  Doors  Price  Seats  Fuel per 100KM  \\\n",
       "9  nissan  White     31600      4     97    5.0             3.7   \n",
       "2  toyota   Blue     32549      3      7    5.0             8.5   \n",
       "3     bmw  Black     11179      5     22    5.0             4.9   \n",
       "6   honda   Blue     45698      4     75    5.0             5.2   \n",
       "4  nissan  White    213095      4     35    5.0             8.4   \n",
       "5  toyota  Green     99213      4     45    5.0             3.7   \n",
       "7   honda   Blue     54738      4      7    5.0             4.7   \n",
       "0  toyota  White    150043      4      4    5.0             3.5   \n",
       "8  toyota  White     60000      4    625    5.0             9.9   \n",
       "1   honda    Red     87889      4      5    5.0             6.9   \n",
       "\n",
       "   Total Fuel Used  Number of Wheels  Passed Road Safety  Avg Fuel Used  \n",
       "9         1169.200                 4                True      4825.9325  \n",
       "2         2766.665                 4                True      4825.9325  \n",
       "3          547.771                 4                True      4825.9325  \n",
       "6         2376.296                 4                True      4825.9325  \n",
       "4        17899.980                 4                True      4825.9325  \n",
       "5         3670.881                 4                True      4825.9325  \n",
       "7         2572.686                 4                True      4825.9325  \n",
       "0         5251.505                 4                True      4825.9325  \n",
       "8         5940.000                 4                True      4825.9325  \n",
       "1         6064.341                 4                True      4825.9325  "
      ],
      "text/html": [
       "<div>\n",
       "<style scoped>\n",
       "    .dataframe tbody tr th:only-of-type {\n",
       "        vertical-align: middle;\n",
       "    }\n",
       "\n",
       "    .dataframe tbody tr th {\n",
       "        vertical-align: top;\n",
       "    }\n",
       "\n",
       "    .dataframe thead th {\n",
       "        text-align: right;\n",
       "    }\n",
       "</style>\n",
       "<table border=\"1\" class=\"dataframe\">\n",
       "  <thead>\n",
       "    <tr style=\"text-align: right;\">\n",
       "      <th></th>\n",
       "      <th>Make</th>\n",
       "      <th>Colour</th>\n",
       "      <th>Odometer</th>\n",
       "      <th>Doors</th>\n",
       "      <th>Price</th>\n",
       "      <th>Seats</th>\n",
       "      <th>Fuel per 100KM</th>\n",
       "      <th>Total Fuel Used</th>\n",
       "      <th>Number of Wheels</th>\n",
       "      <th>Passed Road Safety</th>\n",
       "      <th>Avg Fuel Used</th>\n",
       "    </tr>\n",
       "  </thead>\n",
       "  <tbody>\n",
       "    <tr>\n",
       "      <th>9</th>\n",
       "      <td>nissan</td>\n",
       "      <td>White</td>\n",
       "      <td>31600</td>\n",
       "      <td>4</td>\n",
       "      <td>97</td>\n",
       "      <td>5.0</td>\n",
       "      <td>3.7</td>\n",
       "      <td>1169.200</td>\n",
       "      <td>4</td>\n",
       "      <td>True</td>\n",
       "      <td>4825.9325</td>\n",
       "    </tr>\n",
       "    <tr>\n",
       "      <th>2</th>\n",
       "      <td>toyota</td>\n",
       "      <td>Blue</td>\n",
       "      <td>32549</td>\n",
       "      <td>3</td>\n",
       "      <td>7</td>\n",
       "      <td>5.0</td>\n",
       "      <td>8.5</td>\n",
       "      <td>2766.665</td>\n",
       "      <td>4</td>\n",
       "      <td>True</td>\n",
       "      <td>4825.9325</td>\n",
       "    </tr>\n",
       "    <tr>\n",
       "      <th>3</th>\n",
       "      <td>bmw</td>\n",
       "      <td>Black</td>\n",
       "      <td>11179</td>\n",
       "      <td>5</td>\n",
       "      <td>22</td>\n",
       "      <td>5.0</td>\n",
       "      <td>4.9</td>\n",
       "      <td>547.771</td>\n",
       "      <td>4</td>\n",
       "      <td>True</td>\n",
       "      <td>4825.9325</td>\n",
       "    </tr>\n",
       "    <tr>\n",
       "      <th>6</th>\n",
       "      <td>honda</td>\n",
       "      <td>Blue</td>\n",
       "      <td>45698</td>\n",
       "      <td>4</td>\n",
       "      <td>75</td>\n",
       "      <td>5.0</td>\n",
       "      <td>5.2</td>\n",
       "      <td>2376.296</td>\n",
       "      <td>4</td>\n",
       "      <td>True</td>\n",
       "      <td>4825.9325</td>\n",
       "    </tr>\n",
       "    <tr>\n",
       "      <th>4</th>\n",
       "      <td>nissan</td>\n",
       "      <td>White</td>\n",
       "      <td>213095</td>\n",
       "      <td>4</td>\n",
       "      <td>35</td>\n",
       "      <td>5.0</td>\n",
       "      <td>8.4</td>\n",
       "      <td>17899.980</td>\n",
       "      <td>4</td>\n",
       "      <td>True</td>\n",
       "      <td>4825.9325</td>\n",
       "    </tr>\n",
       "    <tr>\n",
       "      <th>5</th>\n",
       "      <td>toyota</td>\n",
       "      <td>Green</td>\n",
       "      <td>99213</td>\n",
       "      <td>4</td>\n",
       "      <td>45</td>\n",
       "      <td>5.0</td>\n",
       "      <td>3.7</td>\n",
       "      <td>3670.881</td>\n",
       "      <td>4</td>\n",
       "      <td>True</td>\n",
       "      <td>4825.9325</td>\n",
       "    </tr>\n",
       "    <tr>\n",
       "      <th>7</th>\n",
       "      <td>honda</td>\n",
       "      <td>Blue</td>\n",
       "      <td>54738</td>\n",
       "      <td>4</td>\n",
       "      <td>7</td>\n",
       "      <td>5.0</td>\n",
       "      <td>4.7</td>\n",
       "      <td>2572.686</td>\n",
       "      <td>4</td>\n",
       "      <td>True</td>\n",
       "      <td>4825.9325</td>\n",
       "    </tr>\n",
       "    <tr>\n",
       "      <th>0</th>\n",
       "      <td>toyota</td>\n",
       "      <td>White</td>\n",
       "      <td>150043</td>\n",
       "      <td>4</td>\n",
       "      <td>4</td>\n",
       "      <td>5.0</td>\n",
       "      <td>3.5</td>\n",
       "      <td>5251.505</td>\n",
       "      <td>4</td>\n",
       "      <td>True</td>\n",
       "      <td>4825.9325</td>\n",
       "    </tr>\n",
       "    <tr>\n",
       "      <th>8</th>\n",
       "      <td>toyota</td>\n",
       "      <td>White</td>\n",
       "      <td>60000</td>\n",
       "      <td>4</td>\n",
       "      <td>625</td>\n",
       "      <td>5.0</td>\n",
       "      <td>9.9</td>\n",
       "      <td>5940.000</td>\n",
       "      <td>4</td>\n",
       "      <td>True</td>\n",
       "      <td>4825.9325</td>\n",
       "    </tr>\n",
       "    <tr>\n",
       "      <th>1</th>\n",
       "      <td>honda</td>\n",
       "      <td>Red</td>\n",
       "      <td>87889</td>\n",
       "      <td>4</td>\n",
       "      <td>5</td>\n",
       "      <td>5.0</td>\n",
       "      <td>6.9</td>\n",
       "      <td>6064.341</td>\n",
       "      <td>4</td>\n",
       "      <td>True</td>\n",
       "      <td>4825.9325</td>\n",
       "    </tr>\n",
       "  </tbody>\n",
       "</table>\n",
       "</div>"
      ]
     },
     "execution_count": 388,
     "metadata": {},
     "output_type": "execute_result"
    }
   ],
   "execution_count": 388
  },
  {
   "metadata": {
    "ExecuteTime": {
     "end_time": "2025-07-19T02:02:50.237283Z",
     "start_time": "2025-07-19T02:02:50.231345Z"
    }
   },
   "cell_type": "code",
   "source": "car_sales",
   "id": "cc80eb8d1b9d6747",
   "outputs": [
    {
     "data": {
      "text/plain": [
       "     Make Colour  Odometer  Doors  Price  Seats  Fuel per 100KM  \\\n",
       "0  toyota  White    150043      4      4    5.0             3.5   \n",
       "1   honda    Red     87889      4      5    5.0             6.9   \n",
       "2  toyota   Blue     32549      3      7    5.0             8.5   \n",
       "3     bmw  Black     11179      5     22    5.0             4.9   \n",
       "4  nissan  White    213095      4     35    5.0             8.4   \n",
       "5  toyota  Green     99213      4     45    5.0             3.7   \n",
       "6   honda   Blue     45698      4     75    5.0             5.2   \n",
       "7   honda   Blue     54738      4      7    5.0             4.7   \n",
       "8  toyota  White     60000      4    625    5.0             9.9   \n",
       "9  nissan  White     31600      4     97    5.0             3.7   \n",
       "\n",
       "   Total Fuel Used  Number of Wheels  Passed Road Safety  Avg Fuel Used  \n",
       "0         5251.505                 4                True      4825.9325  \n",
       "1         6064.341                 4                True      4825.9325  \n",
       "2         2766.665                 4                True      4825.9325  \n",
       "3          547.771                 4                True      4825.9325  \n",
       "4        17899.980                 4                True      4825.9325  \n",
       "5         3670.881                 4                True      4825.9325  \n",
       "6         2376.296                 4                True      4825.9325  \n",
       "7         2572.686                 4                True      4825.9325  \n",
       "8         5940.000                 4                True      4825.9325  \n",
       "9         1169.200                 4                True      4825.9325  "
      ],
      "text/html": [
       "<div>\n",
       "<style scoped>\n",
       "    .dataframe tbody tr th:only-of-type {\n",
       "        vertical-align: middle;\n",
       "    }\n",
       "\n",
       "    .dataframe tbody tr th {\n",
       "        vertical-align: top;\n",
       "    }\n",
       "\n",
       "    .dataframe thead th {\n",
       "        text-align: right;\n",
       "    }\n",
       "</style>\n",
       "<table border=\"1\" class=\"dataframe\">\n",
       "  <thead>\n",
       "    <tr style=\"text-align: right;\">\n",
       "      <th></th>\n",
       "      <th>Make</th>\n",
       "      <th>Colour</th>\n",
       "      <th>Odometer</th>\n",
       "      <th>Doors</th>\n",
       "      <th>Price</th>\n",
       "      <th>Seats</th>\n",
       "      <th>Fuel per 100KM</th>\n",
       "      <th>Total Fuel Used</th>\n",
       "      <th>Number of Wheels</th>\n",
       "      <th>Passed Road Safety</th>\n",
       "      <th>Avg Fuel Used</th>\n",
       "    </tr>\n",
       "  </thead>\n",
       "  <tbody>\n",
       "    <tr>\n",
       "      <th>0</th>\n",
       "      <td>toyota</td>\n",
       "      <td>White</td>\n",
       "      <td>150043</td>\n",
       "      <td>4</td>\n",
       "      <td>4</td>\n",
       "      <td>5.0</td>\n",
       "      <td>3.5</td>\n",
       "      <td>5251.505</td>\n",
       "      <td>4</td>\n",
       "      <td>True</td>\n",
       "      <td>4825.9325</td>\n",
       "    </tr>\n",
       "    <tr>\n",
       "      <th>1</th>\n",
       "      <td>honda</td>\n",
       "      <td>Red</td>\n",
       "      <td>87889</td>\n",
       "      <td>4</td>\n",
       "      <td>5</td>\n",
       "      <td>5.0</td>\n",
       "      <td>6.9</td>\n",
       "      <td>6064.341</td>\n",
       "      <td>4</td>\n",
       "      <td>True</td>\n",
       "      <td>4825.9325</td>\n",
       "    </tr>\n",
       "    <tr>\n",
       "      <th>2</th>\n",
       "      <td>toyota</td>\n",
       "      <td>Blue</td>\n",
       "      <td>32549</td>\n",
       "      <td>3</td>\n",
       "      <td>7</td>\n",
       "      <td>5.0</td>\n",
       "      <td>8.5</td>\n",
       "      <td>2766.665</td>\n",
       "      <td>4</td>\n",
       "      <td>True</td>\n",
       "      <td>4825.9325</td>\n",
       "    </tr>\n",
       "    <tr>\n",
       "      <th>3</th>\n",
       "      <td>bmw</td>\n",
       "      <td>Black</td>\n",
       "      <td>11179</td>\n",
       "      <td>5</td>\n",
       "      <td>22</td>\n",
       "      <td>5.0</td>\n",
       "      <td>4.9</td>\n",
       "      <td>547.771</td>\n",
       "      <td>4</td>\n",
       "      <td>True</td>\n",
       "      <td>4825.9325</td>\n",
       "    </tr>\n",
       "    <tr>\n",
       "      <th>4</th>\n",
       "      <td>nissan</td>\n",
       "      <td>White</td>\n",
       "      <td>213095</td>\n",
       "      <td>4</td>\n",
       "      <td>35</td>\n",
       "      <td>5.0</td>\n",
       "      <td>8.4</td>\n",
       "      <td>17899.980</td>\n",
       "      <td>4</td>\n",
       "      <td>True</td>\n",
       "      <td>4825.9325</td>\n",
       "    </tr>\n",
       "    <tr>\n",
       "      <th>5</th>\n",
       "      <td>toyota</td>\n",
       "      <td>Green</td>\n",
       "      <td>99213</td>\n",
       "      <td>4</td>\n",
       "      <td>45</td>\n",
       "      <td>5.0</td>\n",
       "      <td>3.7</td>\n",
       "      <td>3670.881</td>\n",
       "      <td>4</td>\n",
       "      <td>True</td>\n",
       "      <td>4825.9325</td>\n",
       "    </tr>\n",
       "    <tr>\n",
       "      <th>6</th>\n",
       "      <td>honda</td>\n",
       "      <td>Blue</td>\n",
       "      <td>45698</td>\n",
       "      <td>4</td>\n",
       "      <td>75</td>\n",
       "      <td>5.0</td>\n",
       "      <td>5.2</td>\n",
       "      <td>2376.296</td>\n",
       "      <td>4</td>\n",
       "      <td>True</td>\n",
       "      <td>4825.9325</td>\n",
       "    </tr>\n",
       "    <tr>\n",
       "      <th>7</th>\n",
       "      <td>honda</td>\n",
       "      <td>Blue</td>\n",
       "      <td>54738</td>\n",
       "      <td>4</td>\n",
       "      <td>7</td>\n",
       "      <td>5.0</td>\n",
       "      <td>4.7</td>\n",
       "      <td>2572.686</td>\n",
       "      <td>4</td>\n",
       "      <td>True</td>\n",
       "      <td>4825.9325</td>\n",
       "    </tr>\n",
       "    <tr>\n",
       "      <th>8</th>\n",
       "      <td>toyota</td>\n",
       "      <td>White</td>\n",
       "      <td>60000</td>\n",
       "      <td>4</td>\n",
       "      <td>625</td>\n",
       "      <td>5.0</td>\n",
       "      <td>9.9</td>\n",
       "      <td>5940.000</td>\n",
       "      <td>4</td>\n",
       "      <td>True</td>\n",
       "      <td>4825.9325</td>\n",
       "    </tr>\n",
       "    <tr>\n",
       "      <th>9</th>\n",
       "      <td>nissan</td>\n",
       "      <td>White</td>\n",
       "      <td>31600</td>\n",
       "      <td>4</td>\n",
       "      <td>97</td>\n",
       "      <td>5.0</td>\n",
       "      <td>3.7</td>\n",
       "      <td>1169.200</td>\n",
       "      <td>4</td>\n",
       "      <td>True</td>\n",
       "      <td>4825.9325</td>\n",
       "    </tr>\n",
       "  </tbody>\n",
       "</table>\n",
       "</div>"
      ]
     },
     "execution_count": 389,
     "metadata": {},
     "output_type": "execute_result"
    }
   ],
   "execution_count": 389
  },
  {
   "metadata": {
    "ExecuteTime": {
     "end_time": "2025-07-19T02:02:50.339643Z",
     "start_time": "2025-07-19T02:02:50.334706Z"
    }
   },
   "cell_type": "code",
   "source": [
    "# Let's operate on 20% of hte shuffled data\n",
    "car_sales_shuffled.sample(frac=0.2)"
   ],
   "id": "56054fe151c47dee",
   "outputs": [
    {
     "data": {
      "text/plain": [
       "     Make Colour  Odometer  Doors  Price  Seats  Fuel per 100KM  \\\n",
       "9  nissan  White     31600      4     97    5.0             3.7   \n",
       "3     bmw  Black     11179      5     22    5.0             4.9   \n",
       "\n",
       "   Total Fuel Used  Number of Wheels  Passed Road Safety  Avg Fuel Used  \n",
       "9         1169.200                 4                True      4825.9325  \n",
       "3          547.771                 4                True      4825.9325  "
      ],
      "text/html": [
       "<div>\n",
       "<style scoped>\n",
       "    .dataframe tbody tr th:only-of-type {\n",
       "        vertical-align: middle;\n",
       "    }\n",
       "\n",
       "    .dataframe tbody tr th {\n",
       "        vertical-align: top;\n",
       "    }\n",
       "\n",
       "    .dataframe thead th {\n",
       "        text-align: right;\n",
       "    }\n",
       "</style>\n",
       "<table border=\"1\" class=\"dataframe\">\n",
       "  <thead>\n",
       "    <tr style=\"text-align: right;\">\n",
       "      <th></th>\n",
       "      <th>Make</th>\n",
       "      <th>Colour</th>\n",
       "      <th>Odometer</th>\n",
       "      <th>Doors</th>\n",
       "      <th>Price</th>\n",
       "      <th>Seats</th>\n",
       "      <th>Fuel per 100KM</th>\n",
       "      <th>Total Fuel Used</th>\n",
       "      <th>Number of Wheels</th>\n",
       "      <th>Passed Road Safety</th>\n",
       "      <th>Avg Fuel Used</th>\n",
       "    </tr>\n",
       "  </thead>\n",
       "  <tbody>\n",
       "    <tr>\n",
       "      <th>9</th>\n",
       "      <td>nissan</td>\n",
       "      <td>White</td>\n",
       "      <td>31600</td>\n",
       "      <td>4</td>\n",
       "      <td>97</td>\n",
       "      <td>5.0</td>\n",
       "      <td>3.7</td>\n",
       "      <td>1169.200</td>\n",
       "      <td>4</td>\n",
       "      <td>True</td>\n",
       "      <td>4825.9325</td>\n",
       "    </tr>\n",
       "    <tr>\n",
       "      <th>3</th>\n",
       "      <td>bmw</td>\n",
       "      <td>Black</td>\n",
       "      <td>11179</td>\n",
       "      <td>5</td>\n",
       "      <td>22</td>\n",
       "      <td>5.0</td>\n",
       "      <td>4.9</td>\n",
       "      <td>547.771</td>\n",
       "      <td>4</td>\n",
       "      <td>True</td>\n",
       "      <td>4825.9325</td>\n",
       "    </tr>\n",
       "  </tbody>\n",
       "</table>\n",
       "</div>"
      ]
     },
     "execution_count": 390,
     "metadata": {},
     "output_type": "execute_result"
    }
   ],
   "execution_count": 390
  },
  {
   "metadata": {
    "ExecuteTime": {
     "end_time": "2025-07-19T02:02:50.412886Z",
     "start_time": "2025-07-19T02:02:50.407473Z"
    }
   },
   "cell_type": "code",
   "source": [
    "# Reset and drop the additional previous index with drop=True\n",
    "car_sales_shuffled.reset_index(drop=True)"
   ],
   "id": "2e001c8891a3fc82",
   "outputs": [
    {
     "data": {
      "text/plain": [
       "     Make Colour  Odometer  Doors  Price  Seats  Fuel per 100KM  \\\n",
       "0  nissan  White     31600      4     97    5.0             3.7   \n",
       "1  toyota   Blue     32549      3      7    5.0             8.5   \n",
       "2     bmw  Black     11179      5     22    5.0             4.9   \n",
       "3   honda   Blue     45698      4     75    5.0             5.2   \n",
       "4  nissan  White    213095      4     35    5.0             8.4   \n",
       "5  toyota  Green     99213      4     45    5.0             3.7   \n",
       "6   honda   Blue     54738      4      7    5.0             4.7   \n",
       "7  toyota  White    150043      4      4    5.0             3.5   \n",
       "8  toyota  White     60000      4    625    5.0             9.9   \n",
       "9   honda    Red     87889      4      5    5.0             6.9   \n",
       "\n",
       "   Total Fuel Used  Number of Wheels  Passed Road Safety  Avg Fuel Used  \n",
       "0         1169.200                 4                True      4825.9325  \n",
       "1         2766.665                 4                True      4825.9325  \n",
       "2          547.771                 4                True      4825.9325  \n",
       "3         2376.296                 4                True      4825.9325  \n",
       "4        17899.980                 4                True      4825.9325  \n",
       "5         3670.881                 4                True      4825.9325  \n",
       "6         2572.686                 4                True      4825.9325  \n",
       "7         5251.505                 4                True      4825.9325  \n",
       "8         5940.000                 4                True      4825.9325  \n",
       "9         6064.341                 4                True      4825.9325  "
      ],
      "text/html": [
       "<div>\n",
       "<style scoped>\n",
       "    .dataframe tbody tr th:only-of-type {\n",
       "        vertical-align: middle;\n",
       "    }\n",
       "\n",
       "    .dataframe tbody tr th {\n",
       "        vertical-align: top;\n",
       "    }\n",
       "\n",
       "    .dataframe thead th {\n",
       "        text-align: right;\n",
       "    }\n",
       "</style>\n",
       "<table border=\"1\" class=\"dataframe\">\n",
       "  <thead>\n",
       "    <tr style=\"text-align: right;\">\n",
       "      <th></th>\n",
       "      <th>Make</th>\n",
       "      <th>Colour</th>\n",
       "      <th>Odometer</th>\n",
       "      <th>Doors</th>\n",
       "      <th>Price</th>\n",
       "      <th>Seats</th>\n",
       "      <th>Fuel per 100KM</th>\n",
       "      <th>Total Fuel Used</th>\n",
       "      <th>Number of Wheels</th>\n",
       "      <th>Passed Road Safety</th>\n",
       "      <th>Avg Fuel Used</th>\n",
       "    </tr>\n",
       "  </thead>\n",
       "  <tbody>\n",
       "    <tr>\n",
       "      <th>0</th>\n",
       "      <td>nissan</td>\n",
       "      <td>White</td>\n",
       "      <td>31600</td>\n",
       "      <td>4</td>\n",
       "      <td>97</td>\n",
       "      <td>5.0</td>\n",
       "      <td>3.7</td>\n",
       "      <td>1169.200</td>\n",
       "      <td>4</td>\n",
       "      <td>True</td>\n",
       "      <td>4825.9325</td>\n",
       "    </tr>\n",
       "    <tr>\n",
       "      <th>1</th>\n",
       "      <td>toyota</td>\n",
       "      <td>Blue</td>\n",
       "      <td>32549</td>\n",
       "      <td>3</td>\n",
       "      <td>7</td>\n",
       "      <td>5.0</td>\n",
       "      <td>8.5</td>\n",
       "      <td>2766.665</td>\n",
       "      <td>4</td>\n",
       "      <td>True</td>\n",
       "      <td>4825.9325</td>\n",
       "    </tr>\n",
       "    <tr>\n",
       "      <th>2</th>\n",
       "      <td>bmw</td>\n",
       "      <td>Black</td>\n",
       "      <td>11179</td>\n",
       "      <td>5</td>\n",
       "      <td>22</td>\n",
       "      <td>5.0</td>\n",
       "      <td>4.9</td>\n",
       "      <td>547.771</td>\n",
       "      <td>4</td>\n",
       "      <td>True</td>\n",
       "      <td>4825.9325</td>\n",
       "    </tr>\n",
       "    <tr>\n",
       "      <th>3</th>\n",
       "      <td>honda</td>\n",
       "      <td>Blue</td>\n",
       "      <td>45698</td>\n",
       "      <td>4</td>\n",
       "      <td>75</td>\n",
       "      <td>5.0</td>\n",
       "      <td>5.2</td>\n",
       "      <td>2376.296</td>\n",
       "      <td>4</td>\n",
       "      <td>True</td>\n",
       "      <td>4825.9325</td>\n",
       "    </tr>\n",
       "    <tr>\n",
       "      <th>4</th>\n",
       "      <td>nissan</td>\n",
       "      <td>White</td>\n",
       "      <td>213095</td>\n",
       "      <td>4</td>\n",
       "      <td>35</td>\n",
       "      <td>5.0</td>\n",
       "      <td>8.4</td>\n",
       "      <td>17899.980</td>\n",
       "      <td>4</td>\n",
       "      <td>True</td>\n",
       "      <td>4825.9325</td>\n",
       "    </tr>\n",
       "    <tr>\n",
       "      <th>5</th>\n",
       "      <td>toyota</td>\n",
       "      <td>Green</td>\n",
       "      <td>99213</td>\n",
       "      <td>4</td>\n",
       "      <td>45</td>\n",
       "      <td>5.0</td>\n",
       "      <td>3.7</td>\n",
       "      <td>3670.881</td>\n",
       "      <td>4</td>\n",
       "      <td>True</td>\n",
       "      <td>4825.9325</td>\n",
       "    </tr>\n",
       "    <tr>\n",
       "      <th>6</th>\n",
       "      <td>honda</td>\n",
       "      <td>Blue</td>\n",
       "      <td>54738</td>\n",
       "      <td>4</td>\n",
       "      <td>7</td>\n",
       "      <td>5.0</td>\n",
       "      <td>4.7</td>\n",
       "      <td>2572.686</td>\n",
       "      <td>4</td>\n",
       "      <td>True</td>\n",
       "      <td>4825.9325</td>\n",
       "    </tr>\n",
       "    <tr>\n",
       "      <th>7</th>\n",
       "      <td>toyota</td>\n",
       "      <td>White</td>\n",
       "      <td>150043</td>\n",
       "      <td>4</td>\n",
       "      <td>4</td>\n",
       "      <td>5.0</td>\n",
       "      <td>3.5</td>\n",
       "      <td>5251.505</td>\n",
       "      <td>4</td>\n",
       "      <td>True</td>\n",
       "      <td>4825.9325</td>\n",
       "    </tr>\n",
       "    <tr>\n",
       "      <th>8</th>\n",
       "      <td>toyota</td>\n",
       "      <td>White</td>\n",
       "      <td>60000</td>\n",
       "      <td>4</td>\n",
       "      <td>625</td>\n",
       "      <td>5.0</td>\n",
       "      <td>9.9</td>\n",
       "      <td>5940.000</td>\n",
       "      <td>4</td>\n",
       "      <td>True</td>\n",
       "      <td>4825.9325</td>\n",
       "    </tr>\n",
       "    <tr>\n",
       "      <th>9</th>\n",
       "      <td>honda</td>\n",
       "      <td>Red</td>\n",
       "      <td>87889</td>\n",
       "      <td>4</td>\n",
       "      <td>5</td>\n",
       "      <td>5.0</td>\n",
       "      <td>6.9</td>\n",
       "      <td>6064.341</td>\n",
       "      <td>4</td>\n",
       "      <td>True</td>\n",
       "      <td>4825.9325</td>\n",
       "    </tr>\n",
       "  </tbody>\n",
       "</table>\n",
       "</div>"
      ]
     },
     "execution_count": 391,
     "metadata": {},
     "output_type": "execute_result"
    }
   ],
   "execution_count": 391
  },
  {
   "metadata": {
    "ExecuteTime": {
     "end_time": "2025-07-19T02:02:50.482036Z",
     "start_time": "2025-07-19T02:02:50.475729Z"
    }
   },
   "cell_type": "code",
   "source": [
    "# User a lambda function to convert hte Odometer in KM to Miles\n",
    "conversion_lambda = lambda x: x/1.6\n",
    "car_sales[\"Odometer_Miles\"] = car_sales[\"Odometer\"].apply(conversion_lambda)\n",
    "car_sales"
   ],
   "id": "c07b6325168e68cd",
   "outputs": [
    {
     "data": {
      "text/plain": [
       "     Make Colour  Odometer  Doors  Price  Seats  Fuel per 100KM  \\\n",
       "0  toyota  White    150043      4      4    5.0             3.5   \n",
       "1   honda    Red     87889      4      5    5.0             6.9   \n",
       "2  toyota   Blue     32549      3      7    5.0             8.5   \n",
       "3     bmw  Black     11179      5     22    5.0             4.9   \n",
       "4  nissan  White    213095      4     35    5.0             8.4   \n",
       "5  toyota  Green     99213      4     45    5.0             3.7   \n",
       "6   honda   Blue     45698      4     75    5.0             5.2   \n",
       "7   honda   Blue     54738      4      7    5.0             4.7   \n",
       "8  toyota  White     60000      4    625    5.0             9.9   \n",
       "9  nissan  White     31600      4     97    5.0             3.7   \n",
       "\n",
       "   Total Fuel Used  Number of Wheels  Passed Road Safety  Avg Fuel Used  \\\n",
       "0         5251.505                 4                True      4825.9325   \n",
       "1         6064.341                 4                True      4825.9325   \n",
       "2         2766.665                 4                True      4825.9325   \n",
       "3          547.771                 4                True      4825.9325   \n",
       "4        17899.980                 4                True      4825.9325   \n",
       "5         3670.881                 4                True      4825.9325   \n",
       "6         2376.296                 4                True      4825.9325   \n",
       "7         2572.686                 4                True      4825.9325   \n",
       "8         5940.000                 4                True      4825.9325   \n",
       "9         1169.200                 4                True      4825.9325   \n",
       "\n",
       "   Odometer_Miles  \n",
       "0       93776.875  \n",
       "1       54930.625  \n",
       "2       20343.125  \n",
       "3        6986.875  \n",
       "4      133184.375  \n",
       "5       62008.125  \n",
       "6       28561.250  \n",
       "7       34211.250  \n",
       "8       37500.000  \n",
       "9       19750.000  "
      ],
      "text/html": [
       "<div>\n",
       "<style scoped>\n",
       "    .dataframe tbody tr th:only-of-type {\n",
       "        vertical-align: middle;\n",
       "    }\n",
       "\n",
       "    .dataframe tbody tr th {\n",
       "        vertical-align: top;\n",
       "    }\n",
       "\n",
       "    .dataframe thead th {\n",
       "        text-align: right;\n",
       "    }\n",
       "</style>\n",
       "<table border=\"1\" class=\"dataframe\">\n",
       "  <thead>\n",
       "    <tr style=\"text-align: right;\">\n",
       "      <th></th>\n",
       "      <th>Make</th>\n",
       "      <th>Colour</th>\n",
       "      <th>Odometer</th>\n",
       "      <th>Doors</th>\n",
       "      <th>Price</th>\n",
       "      <th>Seats</th>\n",
       "      <th>Fuel per 100KM</th>\n",
       "      <th>Total Fuel Used</th>\n",
       "      <th>Number of Wheels</th>\n",
       "      <th>Passed Road Safety</th>\n",
       "      <th>Avg Fuel Used</th>\n",
       "      <th>Odometer_Miles</th>\n",
       "    </tr>\n",
       "  </thead>\n",
       "  <tbody>\n",
       "    <tr>\n",
       "      <th>0</th>\n",
       "      <td>toyota</td>\n",
       "      <td>White</td>\n",
       "      <td>150043</td>\n",
       "      <td>4</td>\n",
       "      <td>4</td>\n",
       "      <td>5.0</td>\n",
       "      <td>3.5</td>\n",
       "      <td>5251.505</td>\n",
       "      <td>4</td>\n",
       "      <td>True</td>\n",
       "      <td>4825.9325</td>\n",
       "      <td>93776.875</td>\n",
       "    </tr>\n",
       "    <tr>\n",
       "      <th>1</th>\n",
       "      <td>honda</td>\n",
       "      <td>Red</td>\n",
       "      <td>87889</td>\n",
       "      <td>4</td>\n",
       "      <td>5</td>\n",
       "      <td>5.0</td>\n",
       "      <td>6.9</td>\n",
       "      <td>6064.341</td>\n",
       "      <td>4</td>\n",
       "      <td>True</td>\n",
       "      <td>4825.9325</td>\n",
       "      <td>54930.625</td>\n",
       "    </tr>\n",
       "    <tr>\n",
       "      <th>2</th>\n",
       "      <td>toyota</td>\n",
       "      <td>Blue</td>\n",
       "      <td>32549</td>\n",
       "      <td>3</td>\n",
       "      <td>7</td>\n",
       "      <td>5.0</td>\n",
       "      <td>8.5</td>\n",
       "      <td>2766.665</td>\n",
       "      <td>4</td>\n",
       "      <td>True</td>\n",
       "      <td>4825.9325</td>\n",
       "      <td>20343.125</td>\n",
       "    </tr>\n",
       "    <tr>\n",
       "      <th>3</th>\n",
       "      <td>bmw</td>\n",
       "      <td>Black</td>\n",
       "      <td>11179</td>\n",
       "      <td>5</td>\n",
       "      <td>22</td>\n",
       "      <td>5.0</td>\n",
       "      <td>4.9</td>\n",
       "      <td>547.771</td>\n",
       "      <td>4</td>\n",
       "      <td>True</td>\n",
       "      <td>4825.9325</td>\n",
       "      <td>6986.875</td>\n",
       "    </tr>\n",
       "    <tr>\n",
       "      <th>4</th>\n",
       "      <td>nissan</td>\n",
       "      <td>White</td>\n",
       "      <td>213095</td>\n",
       "      <td>4</td>\n",
       "      <td>35</td>\n",
       "      <td>5.0</td>\n",
       "      <td>8.4</td>\n",
       "      <td>17899.980</td>\n",
       "      <td>4</td>\n",
       "      <td>True</td>\n",
       "      <td>4825.9325</td>\n",
       "      <td>133184.375</td>\n",
       "    </tr>\n",
       "    <tr>\n",
       "      <th>5</th>\n",
       "      <td>toyota</td>\n",
       "      <td>Green</td>\n",
       "      <td>99213</td>\n",
       "      <td>4</td>\n",
       "      <td>45</td>\n",
       "      <td>5.0</td>\n",
       "      <td>3.7</td>\n",
       "      <td>3670.881</td>\n",
       "      <td>4</td>\n",
       "      <td>True</td>\n",
       "      <td>4825.9325</td>\n",
       "      <td>62008.125</td>\n",
       "    </tr>\n",
       "    <tr>\n",
       "      <th>6</th>\n",
       "      <td>honda</td>\n",
       "      <td>Blue</td>\n",
       "      <td>45698</td>\n",
       "      <td>4</td>\n",
       "      <td>75</td>\n",
       "      <td>5.0</td>\n",
       "      <td>5.2</td>\n",
       "      <td>2376.296</td>\n",
       "      <td>4</td>\n",
       "      <td>True</td>\n",
       "      <td>4825.9325</td>\n",
       "      <td>28561.250</td>\n",
       "    </tr>\n",
       "    <tr>\n",
       "      <th>7</th>\n",
       "      <td>honda</td>\n",
       "      <td>Blue</td>\n",
       "      <td>54738</td>\n",
       "      <td>4</td>\n",
       "      <td>7</td>\n",
       "      <td>5.0</td>\n",
       "      <td>4.7</td>\n",
       "      <td>2572.686</td>\n",
       "      <td>4</td>\n",
       "      <td>True</td>\n",
       "      <td>4825.9325</td>\n",
       "      <td>34211.250</td>\n",
       "    </tr>\n",
       "    <tr>\n",
       "      <th>8</th>\n",
       "      <td>toyota</td>\n",
       "      <td>White</td>\n",
       "      <td>60000</td>\n",
       "      <td>4</td>\n",
       "      <td>625</td>\n",
       "      <td>5.0</td>\n",
       "      <td>9.9</td>\n",
       "      <td>5940.000</td>\n",
       "      <td>4</td>\n",
       "      <td>True</td>\n",
       "      <td>4825.9325</td>\n",
       "      <td>37500.000</td>\n",
       "    </tr>\n",
       "    <tr>\n",
       "      <th>9</th>\n",
       "      <td>nissan</td>\n",
       "      <td>White</td>\n",
       "      <td>31600</td>\n",
       "      <td>4</td>\n",
       "      <td>97</td>\n",
       "      <td>5.0</td>\n",
       "      <td>3.7</td>\n",
       "      <td>1169.200</td>\n",
       "      <td>4</td>\n",
       "      <td>True</td>\n",
       "      <td>4825.9325</td>\n",
       "      <td>19750.000</td>\n",
       "    </tr>\n",
       "  </tbody>\n",
       "</table>\n",
       "</div>"
      ]
     },
     "execution_count": 392,
     "metadata": {},
     "output_type": "execute_result"
    }
   ],
   "execution_count": 392
  },
  {
   "metadata": {
    "ExecuteTime": {
     "end_time": "2025-07-19T02:02:50.708020Z",
     "start_time": "2025-07-19T02:02:50.706030Z"
    }
   },
   "cell_type": "code",
   "source": "",
   "id": "51fa1562ef5088ff",
   "outputs": [],
   "execution_count": null
  }
 ],
 "metadata": {
  "kernelspec": {
   "display_name": "Python 3",
   "language": "python",
   "name": "python3"
  },
  "language_info": {
   "codemirror_mode": {
    "name": "ipython",
    "version": 2
   },
   "file_extension": ".py",
   "mimetype": "text/x-python",
   "name": "python",
   "nbconvert_exporter": "python",
   "pygments_lexer": "ipython2",
   "version": "2.7.6"
  }
 },
 "nbformat": 4,
 "nbformat_minor": 5
}
