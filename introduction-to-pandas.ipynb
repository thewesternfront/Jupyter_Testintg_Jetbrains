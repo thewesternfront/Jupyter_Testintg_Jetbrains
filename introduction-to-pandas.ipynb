{
 "cells": [
  {
   "cell_type": "markdown",
   "id": "ed2fe5fc7e72d9aa",
   "metadata": {},
   "source": [
    " ![](6-step-ml-framework.png)\n",
    "Framework Overview"
   ]
  },
  {
   "cell_type": "code",
   "id": "7a8d6e26f2e12662",
   "metadata": {
    "ExecuteTime": {
     "end_time": "2025-07-25T11:06:13.992514Z",
     "start_time": "2025-07-25T11:06:13.988492Z"
    }
   },
   "source": [
    "import pandas as pd"
   ],
   "outputs": [],
   "execution_count": 39
  },
  {
   "cell_type": "markdown",
   "id": "82704ff0fc478373",
   "metadata": {},
   "source": [
    "## Create 4 series, for cars and colours"
   ]
  },
  {
   "cell_type": "code",
   "id": "6abec45074d41ac6",
   "metadata": {
    "ExecuteTime": {
     "end_time": "2025-07-25T11:06:14.212406Z",
     "start_time": "2025-07-25T11:06:14.206386Z"
    }
   },
   "source": [
    "# 2 main data types\n",
    "troy_series1 = pd.Series([\"BMW\", \"Toyota\", \"Mazda\"])\n",
    "troy_series2 = pd.Series([\"Ford\", \"Chevrolet\", \"Dodge\"])\n",
    "troy_series3 = pd.Series([\"Kia\", \"Fiat\", \"Mercedes\"])\n",
    "colours = pd.Series([\"Red\", \"Green\", \"Blue\"])"
   ],
   "outputs": [],
   "execution_count": 40
  },
  {
   "cell_type": "markdown",
   "id": "fe07f64fe62cf3f9",
   "metadata": {},
   "source": [
    "## Print the Series"
   ]
  },
  {
   "cell_type": "code",
   "id": "484f33cc1d3d553c",
   "metadata": {
    "ExecuteTime": {
     "end_time": "2025-07-25T11:06:14.339217Z",
     "start_time": "2025-07-25T11:06:14.331731Z"
    }
   },
   "source": [
    "print(troy_series1)\n",
    "print(troy_series2)\n",
    "print(troy_series3)"
   ],
   "outputs": [
    {
     "name": "stdout",
     "output_type": "stream",
     "text": [
      "0       BMW\n",
      "1    Toyota\n",
      "2     Mazda\n",
      "dtype: object\n",
      "0         Ford\n",
      "1    Chevrolet\n",
      "2        Dodge\n",
      "dtype: object\n",
      "0         Kia\n",
      "1        Fiat\n",
      "2    Mercedes\n",
      "dtype: object\n"
     ]
    }
   ],
   "execution_count": 41
  },
  {
   "cell_type": "markdown",
   "id": "d65b56855532d197",
   "metadata": {},
   "source": [
    "## Pass series to Data Frame and use a Python dictionary to create the data Frame"
   ]
  },
  {
   "cell_type": "code",
   "id": "d12b9e23160556c7",
   "metadata": {
    "ExecuteTime": {
     "end_time": "2025-07-25T11:06:14.484380Z",
     "start_time": "2025-07-25T11:06:14.475751Z"
    }
   },
   "source": [
    "car_data = pd.DataFrame({\"Car Make 1\": troy_series1, \"Car Make 2\": troy_series2, \"Car Make 3\": troy_series3, \"Colour\": colours})\n",
    "print(car_data)"
   ],
   "outputs": [
    {
     "name": "stdout",
     "output_type": "stream",
     "text": [
      "  Car Make 1 Car Make 2 Car Make 3 Colour\n",
      "0        BMW       Ford        Kia    Red\n",
      "1     Toyota  Chevrolet       Fiat  Green\n",
      "2      Mazda      Dodge   Mercedes   Blue\n"
     ]
    }
   ],
   "execution_count": 42
  },
  {
   "cell_type": "markdown",
   "id": "d829caebe033a816",
   "metadata": {},
   "source": [
    "## Import Data instead of creating a dict()"
   ]
  },
  {
   "cell_type": "code",
   "id": "c0a799ed55bb4a5f",
   "metadata": {
    "ExecuteTime": {
     "end_time": "2025-07-25T11:06:14.631168Z",
     "start_time": "2025-07-25T11:06:14.622130Z"
    }
   },
   "source": [
    "# Import Data from file\n",
    "car_sales = pd.read_csv(\"car-sales.csv\")"
   ],
   "outputs": [],
   "execution_count": 43
  },
  {
   "cell_type": "code",
   "id": "3eeb18a88284ee60",
   "metadata": {
    "ExecuteTime": {
     "end_time": "2025-07-25T11:06:14.718383Z",
     "start_time": "2025-07-25T11:06:14.708253Z"
    }
   },
   "source": [
    "print(car_sales)"
   ],
   "outputs": [
    {
     "name": "stdout",
     "output_type": "stream",
     "text": [
      "     Make Colour  Odometer  Doors       Price\n",
      "0  Toyota  White    150043      4   $4,000.00\n",
      "1   Honda    Red     87889      4   $5,000.00\n",
      "2  Toyota   Blue     32549      3   $7,000.00\n",
      "3     BMW  Black     11179      5  $22,000.00\n",
      "4  Nissan  White    213095      4   $3,500.00\n",
      "5  Toyota  Green     99213      4   $4,500.00\n",
      "6   Honda   Blue     45698      4   $7,500.00\n",
      "7   Honda   Blue     54738      4   $7,000.00\n",
      "8  Toyota  White     60000      4   $6,250.00\n",
      "9  Nissan  White     31600      4   $9,700.00\n"
     ]
    }
   ],
   "execution_count": 44
  },
  {
   "cell_type": "markdown",
   "id": "998f3853369b3f2f",
   "metadata": {},
   "source": [
    "## Exporting a DataFrame"
   ]
  },
  {
   "cell_type": "code",
   "id": "b32f2d7a67979db9",
   "metadata": {
    "ExecuteTime": {
     "end_time": "2025-07-25T11:06:14.853595Z",
     "start_time": "2025-07-25T11:06:14.841933Z"
    }
   },
   "source": [
    "car_sales.to_csv(\"car-sales_EXPORTED.csv\", index=False)"
   ],
   "outputs": [],
   "execution_count": 45
  },
  {
   "cell_type": "markdown",
   "id": "13a7c60167fcc84e",
   "metadata": {},
   "source": [
    "## Import the exported car data"
   ]
  },
  {
   "cell_type": "code",
   "id": "5eb04bdba635098c",
   "metadata": {
    "ExecuteTime": {
     "end_time": "2025-07-25T11:06:14.951594Z",
     "start_time": "2025-07-25T11:06:14.941001Z"
    }
   },
   "source": [
    "exported_car_sales = pd.read_csv(\"car-sales_EXPORTED.csv\")\n",
    "print(exported_car_sales)"
   ],
   "outputs": [
    {
     "name": "stdout",
     "output_type": "stream",
     "text": [
      "     Make Colour  Odometer  Doors       Price\n",
      "0  Toyota  White    150043      4   $4,000.00\n",
      "1   Honda    Red     87889      4   $5,000.00\n",
      "2  Toyota   Blue     32549      3   $7,000.00\n",
      "3     BMW  Black     11179      5  $22,000.00\n",
      "4  Nissan  White    213095      4   $3,500.00\n",
      "5  Toyota  Green     99213      4   $4,500.00\n",
      "6   Honda   Blue     45698      4   $7,500.00\n",
      "7   Honda   Blue     54738      4   $7,000.00\n",
      "8  Toyota  White     60000      4   $6,250.00\n",
      "9  Nissan  White     31600      4   $9,700.00\n"
     ]
    }
   ],
   "execution_count": 46
  },
  {
   "cell_type": "markdown",
   "id": "85743cd04beb3aee",
   "metadata": {},
   "source": [
    "## Describe Data"
   ]
  },
  {
   "cell_type": "code",
   "id": "6566a475b8a854d6",
   "metadata": {
    "ExecuteTime": {
     "end_time": "2025-07-25T11:06:15.037573Z",
     "start_time": "2025-07-25T11:06:15.027517Z"
    }
   },
   "source": [
    "# This is an attribute\n",
    "car_sales.dtypes\n",
    "\n",
    "#This is a function\n",
    "#car_sales.to_csv()"
   ],
   "outputs": [
    {
     "data": {
      "text/plain": [
       "Make        object\n",
       "Colour      object\n",
       "Odometer     int64\n",
       "Doors        int64\n",
       "Price       object\n",
       "dtype: object"
      ]
     },
     "execution_count": 47,
     "metadata": {},
     "output_type": "execute_result"
    }
   ],
   "execution_count": 47
  },
  {
   "cell_type": "code",
   "id": "36850a90c0684ede",
   "metadata": {
    "ExecuteTime": {
     "end_time": "2025-07-25T11:06:15.173575Z",
     "start_time": "2025-07-25T11:06:15.166893Z"
    }
   },
   "source": [
    "# Columns\n",
    "car_columns = car_sales.columns\n",
    "print(car_columns)"
   ],
   "outputs": [
    {
     "name": "stdout",
     "output_type": "stream",
     "text": [
      "Index(['Make', 'Colour', 'Odometer', 'Doors', 'Price'], dtype='object')\n"
     ]
    }
   ],
   "execution_count": 48
  },
  {
   "cell_type": "code",
   "id": "3ed6e6afda696335",
   "metadata": {
    "ExecuteTime": {
     "end_time": "2025-07-25T11:06:15.548431Z",
     "start_time": "2025-07-25T11:06:15.538047Z"
    }
   },
   "source": [
    "# Car Sales index\n",
    "print(car_sales.index)\n",
    "print(car_sales)"
   ],
   "outputs": [
    {
     "name": "stdout",
     "output_type": "stream",
     "text": [
      "RangeIndex(start=0, stop=10, step=1)\n",
      "     Make Colour  Odometer  Doors       Price\n",
      "0  Toyota  White    150043      4   $4,000.00\n",
      "1   Honda    Red     87889      4   $5,000.00\n",
      "2  Toyota   Blue     32549      3   $7,000.00\n",
      "3     BMW  Black     11179      5  $22,000.00\n",
      "4  Nissan  White    213095      4   $3,500.00\n",
      "5  Toyota  Green     99213      4   $4,500.00\n",
      "6   Honda   Blue     45698      4   $7,500.00\n",
      "7   Honda   Blue     54738      4   $7,000.00\n",
      "8  Toyota  White     60000      4   $6,250.00\n",
      "9  Nissan  White     31600      4   $9,700.00\n"
     ]
    }
   ],
   "execution_count": 49
  },
  {
   "cell_type": "code",
   "id": "ce9e5ecc6d9a7abc",
   "metadata": {
    "ExecuteTime": {
     "end_time": "2025-07-25T11:06:15.849393Z",
     "start_time": "2025-07-25T11:06:15.834717Z"
    }
   },
   "source": [
    "# Describe Car Sales - only works on numeric columns\n",
    "print(car_sales.describe())"
   ],
   "outputs": [
    {
     "name": "stdout",
     "output_type": "stream",
     "text": [
      "            Odometer      Doors\n",
      "count      10.000000  10.000000\n",
      "mean    78600.400000   4.000000\n",
      "std     61983.305147   0.471405\n",
      "min     11179.000000   3.000000\n",
      "25%     35836.250000   4.000000\n",
      "50%     57369.000000   4.000000\n",
      "75%     96382.000000   4.000000\n",
      "max    213095.000000   5.000000\n"
     ]
    }
   ],
   "execution_count": 50
  },
  {
   "cell_type": "code",
   "id": "c464eb7fff1fc138",
   "metadata": {
    "ExecuteTime": {
     "end_time": "2025-07-25T11:06:16.030364Z",
     "start_time": "2025-07-25T11:06:16.011542Z"
    }
   },
   "source": [
    "# info\n",
    "car_sales.info()"
   ],
   "outputs": [
    {
     "name": "stdout",
     "output_type": "stream",
     "text": [
      "<class 'pandas.core.frame.DataFrame'>\n",
      "RangeIndex: 10 entries, 0 to 9\n",
      "Data columns (total 5 columns):\n",
      " #   Column    Non-Null Count  Dtype \n",
      "---  ------    --------------  ----- \n",
      " 0   Make      10 non-null     object\n",
      " 1   Colour    10 non-null     object\n",
      " 2   Odometer  10 non-null     int64 \n",
      " 3   Doors     10 non-null     int64 \n",
      " 4   Price     10 non-null     object\n",
      "dtypes: int64(2), object(3)\n",
      "memory usage: 532.0+ bytes\n"
     ]
    }
   ],
   "execution_count": 51
  },
  {
   "cell_type": "code",
   "id": "6829db8720e2736a",
   "metadata": {
    "ExecuteTime": {
     "end_time": "2025-07-25T11:06:16.233043Z",
     "start_time": "2025-07-25T11:06:16.225024Z"
    }
   },
   "source": [
    "# the mean / average\n",
    "car_sales_mean = car_sales.mean(numeric_only=True)\n",
    "print(car_sales_mean)"
   ],
   "outputs": [
    {
     "name": "stdout",
     "output_type": "stream",
     "text": [
      "Odometer    78600.4\n",
      "Doors           4.0\n",
      "dtype: float64\n"
     ]
    }
   ],
   "execution_count": 52
  },
  {
   "cell_type": "code",
   "id": "8feda5370043a1cd",
   "metadata": {
    "ExecuteTime": {
     "end_time": "2025-07-25T11:06:16.495576Z",
     "start_time": "2025-07-25T11:06:16.489504Z"
    }
   },
   "source": [
    "# Temporarily make prices numeric (they are objects in the original data, so need to make a test of the proices as integers to test the mean() function on the proces.\n",
    "car_prices = pd.Series([23950, 31800, 16750])\n",
    "car_prices_mean = car_prices.mean()\n",
    "print(car_prices_mean)"
   ],
   "outputs": [
    {
     "name": "stdout",
     "output_type": "stream",
     "text": [
      "24166.666666666668\n"
     ]
    }
   ],
   "execution_count": 53
  },
  {
   "cell_type": "code",
   "id": "aa2fefce9902dc8",
   "metadata": {
    "ExecuteTime": {
     "end_time": "2025-07-25T11:06:16.648306Z",
     "start_time": "2025-07-25T11:06:16.640420Z"
    }
   },
   "source": [
    "result = (car_prices[0] + car_prices[1] + car_prices[2])/3\n",
    "print(result)"
   ],
   "outputs": [
    {
     "name": "stdout",
     "output_type": "stream",
     "text": [
      "24166.666666666668\n"
     ]
    }
   ],
   "execution_count": 54
  },
  {
   "cell_type": "code",
   "id": "3533a2d608dfe715",
   "metadata": {
    "ExecuteTime": {
     "end_time": "2025-07-25T11:06:16.866438Z",
     "start_time": "2025-07-25T11:06:16.855577Z"
    }
   },
   "source": [
    "car_sales[\"Doors\"].sum()"
   ],
   "outputs": [
    {
     "data": {
      "text/plain": [
       "40"
      ]
     },
     "execution_count": 55,
     "metadata": {},
     "output_type": "execute_result"
    }
   ],
   "execution_count": 55
  },
  {
   "cell_type": "code",
   "id": "6e65fcbfecd5edaa",
   "metadata": {
    "ExecuteTime": {
     "end_time": "2025-07-25T11:06:16.997402Z",
     "start_time": "2025-07-25T11:06:16.990849Z"
    }
   },
   "source": [
    "# length\n",
    "len(car_sales)"
   ],
   "outputs": [
    {
     "data": {
      "text/plain": [
       "10"
      ]
     },
     "execution_count": 56,
     "metadata": {},
     "output_type": "execute_result"
    }
   ],
   "execution_count": 56
  },
  {
   "cell_type": "code",
   "id": "e3834586a4153b6f",
   "metadata": {
    "ExecuteTime": {
     "end_time": "2025-07-25T11:06:17.100594Z",
     "start_time": "2025-07-25T11:06:17.094320Z"
    }
   },
   "source": [
    "car_sales.shape"
   ],
   "outputs": [
    {
     "data": {
      "text/plain": [
       "(10, 5)"
      ]
     },
     "execution_count": 57,
     "metadata": {},
     "output_type": "execute_result"
    }
   ],
   "execution_count": 57
  },
  {
   "cell_type": "markdown",
   "id": "9bd986d23aee89cf",
   "metadata": {},
   "source": [
    "## Viewing and Selecting Data"
   ]
  },
  {
   "cell_type": "code",
   "id": "929c7477c6b557de",
   "metadata": {
    "ExecuteTime": {
     "end_time": "2025-07-25T11:06:17.213512Z",
     "start_time": "2025-07-25T11:06:17.199660Z"
    }
   },
   "source": [
    "car_sales.head()\n",
    "car_sales.tail()"
   ],
   "outputs": [
    {
     "data": {
      "text/plain": [
       "     Make Colour  Odometer  Doors      Price\n",
       "5  Toyota  Green     99213      4  $4,500.00\n",
       "6   Honda   Blue     45698      4  $7,500.00\n",
       "7   Honda   Blue     54738      4  $7,000.00\n",
       "8  Toyota  White     60000      4  $6,250.00\n",
       "9  Nissan  White     31600      4  $9,700.00"
      ],
      "text/html": [
       "<div>\n",
       "<style scoped>\n",
       "    .dataframe tbody tr th:only-of-type {\n",
       "        vertical-align: middle;\n",
       "    }\n",
       "\n",
       "    .dataframe tbody tr th {\n",
       "        vertical-align: top;\n",
       "    }\n",
       "\n",
       "    .dataframe thead th {\n",
       "        text-align: right;\n",
       "    }\n",
       "</style>\n",
       "<table border=\"1\" class=\"dataframe\">\n",
       "  <thead>\n",
       "    <tr style=\"text-align: right;\">\n",
       "      <th></th>\n",
       "      <th>Make</th>\n",
       "      <th>Colour</th>\n",
       "      <th>Odometer</th>\n",
       "      <th>Doors</th>\n",
       "      <th>Price</th>\n",
       "    </tr>\n",
       "  </thead>\n",
       "  <tbody>\n",
       "    <tr>\n",
       "      <th>5</th>\n",
       "      <td>Toyota</td>\n",
       "      <td>Green</td>\n",
       "      <td>99213</td>\n",
       "      <td>4</td>\n",
       "      <td>$4,500.00</td>\n",
       "    </tr>\n",
       "    <tr>\n",
       "      <th>6</th>\n",
       "      <td>Honda</td>\n",
       "      <td>Blue</td>\n",
       "      <td>45698</td>\n",
       "      <td>4</td>\n",
       "      <td>$7,500.00</td>\n",
       "    </tr>\n",
       "    <tr>\n",
       "      <th>7</th>\n",
       "      <td>Honda</td>\n",
       "      <td>Blue</td>\n",
       "      <td>54738</td>\n",
       "      <td>4</td>\n",
       "      <td>$7,000.00</td>\n",
       "    </tr>\n",
       "    <tr>\n",
       "      <th>8</th>\n",
       "      <td>Toyota</td>\n",
       "      <td>White</td>\n",
       "      <td>60000</td>\n",
       "      <td>4</td>\n",
       "      <td>$6,250.00</td>\n",
       "    </tr>\n",
       "    <tr>\n",
       "      <th>9</th>\n",
       "      <td>Nissan</td>\n",
       "      <td>White</td>\n",
       "      <td>31600</td>\n",
       "      <td>4</td>\n",
       "      <td>$9,700.00</td>\n",
       "    </tr>\n",
       "  </tbody>\n",
       "</table>\n",
       "</div>"
      ]
     },
     "execution_count": 58,
     "metadata": {},
     "output_type": "execute_result"
    }
   ],
   "execution_count": 58
  },
  {
   "cell_type": "code",
   "id": "71578573c3477606",
   "metadata": {
    "ExecuteTime": {
     "end_time": "2025-07-25T11:06:17.346314Z",
     "start_time": "2025-07-25T11:06:17.339041Z"
    }
   },
   "source": [
    "# .loc and .iloc\n",
    "animals = pd.Series([\"cat\", \"dog\", \"mouse\", \"pterydactal\", \"eohippus\"], index=[0, 3, 9, 8, 3])"
   ],
   "outputs": [],
   "execution_count": 59
  },
  {
   "cell_type": "markdown",
   "id": "ddca0bf5e8a226d2",
   "metadata": {},
   "source": [
    "## Using loc and iloc as well as splitting data using [:n]"
   ]
  },
  {
   "cell_type": "code",
   "id": "86551e3fccfd706f",
   "metadata": {
    "ExecuteTime": {
     "end_time": "2025-07-25T11:06:17.583100Z",
     "start_time": "2025-07-25T11:06:17.574054Z"
    }
   },
   "source": [
    "# return all animals at index value = 3 (2 results come back)\n",
    "animals.loc[3]\n"
   ],
   "outputs": [
    {
     "data": {
      "text/plain": [
       "3         dog\n",
       "3    eohippus\n",
       "dtype: object"
      ]
     },
     "execution_count": 60,
     "metadata": {},
     "output_type": "execute_result"
    }
   ],
   "execution_count": 60
  },
  {
   "cell_type": "code",
   "id": "1411b96edc5a7245",
   "metadata": {
    "ExecuteTime": {
     "end_time": "2025-07-25T11:06:17.758241Z",
     "start_time": "2025-07-25T11:06:17.747797Z"
    }
   },
   "source": [
    "# iloc refers to position\n",
    "animals.iloc[3]"
   ],
   "outputs": [
    {
     "data": {
      "text/plain": [
       "'pterydactal'"
      ]
     },
     "execution_count": 61,
     "metadata": {},
     "output_type": "execute_result"
    }
   ],
   "execution_count": 61
  },
  {
   "cell_type": "code",
   "id": "778f17d694551f96",
   "metadata": {
    "ExecuteTime": {
     "end_time": "2025-07-25T11:06:17.977121Z",
     "start_time": "2025-07-25T11:06:17.968084Z"
    }
   },
   "source": [
    "# loc refers to index\n",
    "car_sales.loc[4]"
   ],
   "outputs": [
    {
     "data": {
      "text/plain": [
       "Make           Nissan\n",
       "Colour          White\n",
       "Odometer       213095\n",
       "Doors               4\n",
       "Price       $3,500.00\n",
       "Name: 4, dtype: object"
      ]
     },
     "execution_count": 62,
     "metadata": {},
     "output_type": "execute_result"
    }
   ],
   "execution_count": 62
  },
  {
   "cell_type": "code",
   "id": "14e42acea8042e05",
   "metadata": {
    "ExecuteTime": {
     "end_time": "2025-07-25T11:06:18.176855Z",
     "start_time": "2025-07-25T11:06:18.160738Z"
    }
   },
   "source": [
    "car_sales.iloc[2]"
   ],
   "outputs": [
    {
     "data": {
      "text/plain": [
       "Make           Toyota\n",
       "Colour           Blue\n",
       "Odometer        32549\n",
       "Doors               3\n",
       "Price       $7,000.00\n",
       "Name: 2, dtype: object"
      ]
     },
     "execution_count": 63,
     "metadata": {},
     "output_type": "execute_result"
    }
   ],
   "execution_count": 63
  },
  {
   "cell_type": "code",
   "id": "6dcd619f3c3e8f03",
   "metadata": {
    "ExecuteTime": {
     "end_time": "2025-07-25T11:06:18.415162Z",
     "start_time": "2025-07-25T11:06:18.407961Z"
    }
   },
   "source": [
    "car_sales[\"Odometer\"]"
   ],
   "outputs": [
    {
     "data": {
      "text/plain": [
       "0    150043\n",
       "1     87889\n",
       "2     32549\n",
       "3     11179\n",
       "4    213095\n",
       "5     99213\n",
       "6     45698\n",
       "7     54738\n",
       "8     60000\n",
       "9     31600\n",
       "Name: Odometer, dtype: int64"
      ]
     },
     "execution_count": 64,
     "metadata": {},
     "output_type": "execute_result"
    }
   ],
   "execution_count": 64
  },
  {
   "cell_type": "code",
   "id": "bda72537b0b97aeb",
   "metadata": {
    "ExecuteTime": {
     "end_time": "2025-07-25T11:06:18.648025Z",
     "start_time": "2025-07-25T11:06:18.640879Z"
    }
   },
   "source": [
    "# give animals up to but not including 3\n",
    "animals.iloc[:3]"
   ],
   "outputs": [
    {
     "data": {
      "text/plain": [
       "0      cat\n",
       "3      dog\n",
       "9    mouse\n",
       "dtype: object"
      ]
     },
     "execution_count": 65,
     "metadata": {},
     "output_type": "execute_result"
    }
   ],
   "execution_count": 65
  },
  {
   "cell_type": "code",
   "id": "c3c3e51a2e2281bf",
   "metadata": {
    "ExecuteTime": {
     "end_time": "2025-07-25T11:06:18.907128Z",
     "start_time": "2025-07-25T11:06:18.897298Z"
    }
   },
   "source": [
    "car_sales.iloc[:3]"
   ],
   "outputs": [
    {
     "data": {
      "text/plain": [
       "     Make Colour  Odometer  Doors      Price\n",
       "0  Toyota  White    150043      4  $4,000.00\n",
       "1   Honda    Red     87889      4  $5,000.00\n",
       "2  Toyota   Blue     32549      3  $7,000.00"
      ],
      "text/html": [
       "<div>\n",
       "<style scoped>\n",
       "    .dataframe tbody tr th:only-of-type {\n",
       "        vertical-align: middle;\n",
       "    }\n",
       "\n",
       "    .dataframe tbody tr th {\n",
       "        vertical-align: top;\n",
       "    }\n",
       "\n",
       "    .dataframe thead th {\n",
       "        text-align: right;\n",
       "    }\n",
       "</style>\n",
       "<table border=\"1\" class=\"dataframe\">\n",
       "  <thead>\n",
       "    <tr style=\"text-align: right;\">\n",
       "      <th></th>\n",
       "      <th>Make</th>\n",
       "      <th>Colour</th>\n",
       "      <th>Odometer</th>\n",
       "      <th>Doors</th>\n",
       "      <th>Price</th>\n",
       "    </tr>\n",
       "  </thead>\n",
       "  <tbody>\n",
       "    <tr>\n",
       "      <th>0</th>\n",
       "      <td>Toyota</td>\n",
       "      <td>White</td>\n",
       "      <td>150043</td>\n",
       "      <td>4</td>\n",
       "      <td>$4,000.00</td>\n",
       "    </tr>\n",
       "    <tr>\n",
       "      <th>1</th>\n",
       "      <td>Honda</td>\n",
       "      <td>Red</td>\n",
       "      <td>87889</td>\n",
       "      <td>4</td>\n",
       "      <td>$5,000.00</td>\n",
       "    </tr>\n",
       "    <tr>\n",
       "      <th>2</th>\n",
       "      <td>Toyota</td>\n",
       "      <td>Blue</td>\n",
       "      <td>32549</td>\n",
       "      <td>3</td>\n",
       "      <td>$7,000.00</td>\n",
       "    </tr>\n",
       "  </tbody>\n",
       "</table>\n",
       "</div>"
      ]
     },
     "execution_count": 66,
     "metadata": {},
     "output_type": "execute_result"
    }
   ],
   "execution_count": 66
  },
  {
   "cell_type": "code",
   "id": "39bc3c55a7b3c659",
   "metadata": {
    "ExecuteTime": {
     "end_time": "2025-07-25T11:06:19.149108Z",
     "start_time": "2025-07-25T11:06:19.141822Z"
    }
   },
   "source": [
    "car_sales[\"Make\"]"
   ],
   "outputs": [
    {
     "data": {
      "text/plain": [
       "0    Toyota\n",
       "1     Honda\n",
       "2    Toyota\n",
       "3       BMW\n",
       "4    Nissan\n",
       "5    Toyota\n",
       "6     Honda\n",
       "7     Honda\n",
       "8    Toyota\n",
       "9    Nissan\n",
       "Name: Make, dtype: object"
      ]
     },
     "execution_count": 67,
     "metadata": {},
     "output_type": "execute_result"
    }
   ],
   "execution_count": 67
  },
  {
   "cell_type": "code",
   "id": "1f922a9b7da26d94",
   "metadata": {
    "ExecuteTime": {
     "end_time": "2025-07-25T11:06:19.441261Z",
     "start_time": "2025-07-25T11:06:19.431842Z"
    }
   },
   "source": [
    "car_sales.Make"
   ],
   "outputs": [
    {
     "data": {
      "text/plain": [
       "0    Toyota\n",
       "1     Honda\n",
       "2    Toyota\n",
       "3       BMW\n",
       "4    Nissan\n",
       "5    Toyota\n",
       "6     Honda\n",
       "7     Honda\n",
       "8    Toyota\n",
       "9    Nissan\n",
       "Name: Make, dtype: object"
      ]
     },
     "execution_count": 68,
     "metadata": {},
     "output_type": "execute_result"
    }
   ],
   "execution_count": 68
  },
  {
   "cell_type": "code",
   "id": "b354e29aaac08a3",
   "metadata": {
    "ExecuteTime": {
     "end_time": "2025-07-25T11:06:19.790909Z",
     "start_time": "2025-07-25T11:06:19.785034Z"
    }
   },
   "source": [
    "# now get all car sales where the Make = 'Toyota'\n",
    "# BOOLEAN indexing\n",
    "results = car_sales[car_sales[\"Make\"] == \"Toyota\"]\n",
    "print(results)\n"
   ],
   "outputs": [
    {
     "name": "stdout",
     "output_type": "stream",
     "text": [
      "     Make Colour  Odometer  Doors      Price\n",
      "0  Toyota  White    150043      4  $4,000.00\n",
      "2  Toyota   Blue     32549      3  $7,000.00\n",
      "5  Toyota  Green     99213      4  $4,500.00\n",
      "8  Toyota  White     60000      4  $6,250.00\n"
     ]
    }
   ],
   "execution_count": 69
  },
  {
   "cell_type": "code",
   "id": "a55d6d32f2ba6ecd",
   "metadata": {
    "ExecuteTime": {
     "end_time": "2025-07-25T11:06:19.995157Z",
     "start_time": "2025-07-25T11:06:19.989493Z"
    }
   },
   "source": [
    "results2 = [results[\"Odometer\"] > 40000]\n",
    "print(results2)"
   ],
   "outputs": [
    {
     "name": "stdout",
     "output_type": "stream",
     "text": [
      "[0     True\n",
      "2    False\n",
      "5     True\n",
      "8     True\n",
      "Name: Odometer, dtype: bool]\n"
     ]
    }
   ],
   "execution_count": 70
  },
  {
   "cell_type": "code",
   "id": "e4bdc16d6a0e05fe",
   "metadata": {
    "ExecuteTime": {
     "end_time": "2025-07-25T11:06:20.225212Z",
     "start_time": "2025-07-25T11:06:20.204925Z"
    }
   },
   "source": [
    "pd.crosstab(car_sales[\"Make\"], car_sales[\"Doors\"])"
   ],
   "outputs": [
    {
     "data": {
      "text/plain": [
       "Doors   3  4  5\n",
       "Make           \n",
       "BMW     0  0  1\n",
       "Honda   0  3  0\n",
       "Nissan  0  2  0\n",
       "Toyota  1  3  0"
      ],
      "text/html": [
       "<div>\n",
       "<style scoped>\n",
       "    .dataframe tbody tr th:only-of-type {\n",
       "        vertical-align: middle;\n",
       "    }\n",
       "\n",
       "    .dataframe tbody tr th {\n",
       "        vertical-align: top;\n",
       "    }\n",
       "\n",
       "    .dataframe thead th {\n",
       "        text-align: right;\n",
       "    }\n",
       "</style>\n",
       "<table border=\"1\" class=\"dataframe\">\n",
       "  <thead>\n",
       "    <tr style=\"text-align: right;\">\n",
       "      <th>Doors</th>\n",
       "      <th>3</th>\n",
       "      <th>4</th>\n",
       "      <th>5</th>\n",
       "    </tr>\n",
       "    <tr>\n",
       "      <th>Make</th>\n",
       "      <th></th>\n",
       "      <th></th>\n",
       "      <th></th>\n",
       "    </tr>\n",
       "  </thead>\n",
       "  <tbody>\n",
       "    <tr>\n",
       "      <th>BMW</th>\n",
       "      <td>0</td>\n",
       "      <td>0</td>\n",
       "      <td>1</td>\n",
       "    </tr>\n",
       "    <tr>\n",
       "      <th>Honda</th>\n",
       "      <td>0</td>\n",
       "      <td>3</td>\n",
       "      <td>0</td>\n",
       "    </tr>\n",
       "    <tr>\n",
       "      <th>Nissan</th>\n",
       "      <td>0</td>\n",
       "      <td>2</td>\n",
       "      <td>0</td>\n",
       "    </tr>\n",
       "    <tr>\n",
       "      <th>Toyota</th>\n",
       "      <td>1</td>\n",
       "      <td>3</td>\n",
       "      <td>0</td>\n",
       "    </tr>\n",
       "  </tbody>\n",
       "</table>\n",
       "</div>"
      ]
     },
     "execution_count": 71,
     "metadata": {},
     "output_type": "execute_result"
    }
   ],
   "execution_count": 71
  },
  {
   "cell_type": "code",
   "id": "e04ee0a705a36f72",
   "metadata": {
    "ExecuteTime": {
     "end_time": "2025-07-25T11:06:20.386800Z",
     "start_time": "2025-07-25T11:06:20.375773Z"
    }
   },
   "source": [
    "car_sales"
   ],
   "outputs": [
    {
     "data": {
      "text/plain": [
       "     Make Colour  Odometer  Doors       Price\n",
       "0  Toyota  White    150043      4   $4,000.00\n",
       "1   Honda    Red     87889      4   $5,000.00\n",
       "2  Toyota   Blue     32549      3   $7,000.00\n",
       "3     BMW  Black     11179      5  $22,000.00\n",
       "4  Nissan  White    213095      4   $3,500.00\n",
       "5  Toyota  Green     99213      4   $4,500.00\n",
       "6   Honda   Blue     45698      4   $7,500.00\n",
       "7   Honda   Blue     54738      4   $7,000.00\n",
       "8  Toyota  White     60000      4   $6,250.00\n",
       "9  Nissan  White     31600      4   $9,700.00"
      ],
      "text/html": [
       "<div>\n",
       "<style scoped>\n",
       "    .dataframe tbody tr th:only-of-type {\n",
       "        vertical-align: middle;\n",
       "    }\n",
       "\n",
       "    .dataframe tbody tr th {\n",
       "        vertical-align: top;\n",
       "    }\n",
       "\n",
       "    .dataframe thead th {\n",
       "        text-align: right;\n",
       "    }\n",
       "</style>\n",
       "<table border=\"1\" class=\"dataframe\">\n",
       "  <thead>\n",
       "    <tr style=\"text-align: right;\">\n",
       "      <th></th>\n",
       "      <th>Make</th>\n",
       "      <th>Colour</th>\n",
       "      <th>Odometer</th>\n",
       "      <th>Doors</th>\n",
       "      <th>Price</th>\n",
       "    </tr>\n",
       "  </thead>\n",
       "  <tbody>\n",
       "    <tr>\n",
       "      <th>0</th>\n",
       "      <td>Toyota</td>\n",
       "      <td>White</td>\n",
       "      <td>150043</td>\n",
       "      <td>4</td>\n",
       "      <td>$4,000.00</td>\n",
       "    </tr>\n",
       "    <tr>\n",
       "      <th>1</th>\n",
       "      <td>Honda</td>\n",
       "      <td>Red</td>\n",
       "      <td>87889</td>\n",
       "      <td>4</td>\n",
       "      <td>$5,000.00</td>\n",
       "    </tr>\n",
       "    <tr>\n",
       "      <th>2</th>\n",
       "      <td>Toyota</td>\n",
       "      <td>Blue</td>\n",
       "      <td>32549</td>\n",
       "      <td>3</td>\n",
       "      <td>$7,000.00</td>\n",
       "    </tr>\n",
       "    <tr>\n",
       "      <th>3</th>\n",
       "      <td>BMW</td>\n",
       "      <td>Black</td>\n",
       "      <td>11179</td>\n",
       "      <td>5</td>\n",
       "      <td>$22,000.00</td>\n",
       "    </tr>\n",
       "    <tr>\n",
       "      <th>4</th>\n",
       "      <td>Nissan</td>\n",
       "      <td>White</td>\n",
       "      <td>213095</td>\n",
       "      <td>4</td>\n",
       "      <td>$3,500.00</td>\n",
       "    </tr>\n",
       "    <tr>\n",
       "      <th>5</th>\n",
       "      <td>Toyota</td>\n",
       "      <td>Green</td>\n",
       "      <td>99213</td>\n",
       "      <td>4</td>\n",
       "      <td>$4,500.00</td>\n",
       "    </tr>\n",
       "    <tr>\n",
       "      <th>6</th>\n",
       "      <td>Honda</td>\n",
       "      <td>Blue</td>\n",
       "      <td>45698</td>\n",
       "      <td>4</td>\n",
       "      <td>$7,500.00</td>\n",
       "    </tr>\n",
       "    <tr>\n",
       "      <th>7</th>\n",
       "      <td>Honda</td>\n",
       "      <td>Blue</td>\n",
       "      <td>54738</td>\n",
       "      <td>4</td>\n",
       "      <td>$7,000.00</td>\n",
       "    </tr>\n",
       "    <tr>\n",
       "      <th>8</th>\n",
       "      <td>Toyota</td>\n",
       "      <td>White</td>\n",
       "      <td>60000</td>\n",
       "      <td>4</td>\n",
       "      <td>$6,250.00</td>\n",
       "    </tr>\n",
       "    <tr>\n",
       "      <th>9</th>\n",
       "      <td>Nissan</td>\n",
       "      <td>White</td>\n",
       "      <td>31600</td>\n",
       "      <td>4</td>\n",
       "      <td>$9,700.00</td>\n",
       "    </tr>\n",
       "  </tbody>\n",
       "</table>\n",
       "</div>"
      ]
     },
     "execution_count": 72,
     "metadata": {},
     "output_type": "execute_result"
    }
   ],
   "execution_count": 72
  },
  {
   "cell_type": "code",
   "id": "45831bd48810a4bb",
   "metadata": {
    "ExecuteTime": {
     "end_time": "2025-07-25T11:06:20.657214Z",
     "start_time": "2025-07-25T11:06:20.649837Z"
    }
   },
   "source": [
    "# GroupBy\n",
    "# This gives the mean() for the 'Doors' column\n",
    "grouped_by_make_doors_mean = car_sales.groupby('Make')[\"Doors\"].mean()"
   ],
   "outputs": [],
   "execution_count": 73
  },
  {
   "cell_type": "code",
   "id": "34f0582d812c1faa",
   "metadata": {
    "ExecuteTime": {
     "end_time": "2025-07-25T11:06:21.126764Z",
     "start_time": "2025-07-25T11:06:21.119741Z"
    }
   },
   "source": "grouped_by_make_doors_mean",
   "outputs": [
    {
     "data": {
      "text/plain": [
       "Make\n",
       "BMW       5.00\n",
       "Honda     4.00\n",
       "Nissan    4.00\n",
       "Toyota    3.75\n",
       "Name: Doors, dtype: float64"
      ]
     },
     "execution_count": 74,
     "metadata": {},
     "output_type": "execute_result"
    }
   ],
   "execution_count": 74
  },
  {
   "cell_type": "code",
   "id": "29df4bc9dff866cb",
   "metadata": {
    "ExecuteTime": {
     "end_time": "2025-07-25T11:06:21.340694Z",
     "start_time": "2025-07-25T11:06:21.334517Z"
    }
   },
   "source": [
    "# GroupBy\n",
    "# This gives the sum() for the 'Odometer' column\n",
    "grouped_by_make_odometer_sum = car_sales.groupby('Make')[\"Odometer\"].sum()"
   ],
   "outputs": [],
   "execution_count": 75
  },
  {
   "cell_type": "code",
   "id": "f81033ea2b8c0dbd",
   "metadata": {
    "ExecuteTime": {
     "end_time": "2025-07-25T11:06:21.503538Z",
     "start_time": "2025-07-25T11:06:21.495842Z"
    }
   },
   "source": "grouped_by_make_odometer_sum",
   "outputs": [
    {
     "data": {
      "text/plain": [
       "Make\n",
       "BMW        11179\n",
       "Honda     188325\n",
       "Nissan    244695\n",
       "Toyota    341805\n",
       "Name: Odometer, dtype: int64"
      ]
     },
     "execution_count": 76,
     "metadata": {},
     "output_type": "execute_result"
    }
   ],
   "execution_count": 76
  }
 ],
 "metadata": {
  "kernelspec": {
   "display_name": "Python 3 (ipykernel)",
   "language": "python",
   "name": "python3"
  },
  "language_info": {
   "codemirror_mode": {
    "name": "ipython",
    "version": 3
   },
   "file_extension": ".py",
   "mimetype": "text/x-python",
   "name": "python",
   "nbconvert_exporter": "python",
   "pygments_lexer": "ipython3",
   "version": "3.12.2"
  }
 },
 "nbformat": 4,
 "nbformat_minor": 5
}
