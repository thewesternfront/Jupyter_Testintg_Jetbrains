{
 "cells": [
  {
   "cell_type": "markdown",
   "id": "ed2fe5fc7e72d9aa",
   "metadata": {},
   "source": [
    " ![](6-step-ml-framework.png)\n",
    "Framework Overview"
   ]
  },
  {
   "cell_type": "code",
   "execution_count": 109,
   "id": "7a8d6e26f2e12662",
   "metadata": {
    "ExecuteTime": {
     "end_time": "2025-07-05T02:12:28.462115Z",
     "start_time": "2025-07-05T02:12:28.458525Z"
    }
   },
   "outputs": [],
   "source": [
    "import pandas as pd"
   ]
  },
  {
   "cell_type": "markdown",
   "id": "82704ff0fc478373",
   "metadata": {},
   "source": [
    "## Create 4 series, for cars and colours"
   ]
  },
  {
   "cell_type": "code",
   "execution_count": 110,
   "id": "6abec45074d41ac6",
   "metadata": {
    "ExecuteTime": {
     "end_time": "2025-07-05T02:12:28.486771Z",
     "start_time": "2025-07-05T02:12:28.481898Z"
    }
   },
   "outputs": [],
   "source": [
    "# 2 main data types\n",
    "troy_series1 = pd.Series([\"BMW\", \"Toyota\", \"Mazda\"])\n",
    "troy_series2 = pd.Series([\"Ford\", \"Chevrolet\", \"Dodge\"])\n",
    "troy_series3 = pd.Series([\"Kia\", \"Fiat\", \"Mercedes\"])\n",
    "colours = pd.Series([\"Red\", \"Green\", \"Blue\"])"
   ]
  },
  {
   "cell_type": "markdown",
   "id": "fe07f64fe62cf3f9",
   "metadata": {},
   "source": [
    "## Print the Series"
   ]
  },
  {
   "cell_type": "code",
   "execution_count": 111,
   "id": "484f33cc1d3d553c",
   "metadata": {
    "ExecuteTime": {
     "end_time": "2025-07-05T02:12:28.507628Z",
     "start_time": "2025-07-05T02:12:28.500189Z"
    }
   },
   "outputs": [
    {
     "name": "stdout",
     "output_type": "stream",
     "text": [
      "0       BMW\n",
      "1    Toyota\n",
      "2     Mazda\n",
      "dtype: object\n",
      "0         Ford\n",
      "1    Chevrolet\n",
      "2        Dodge\n",
      "dtype: object\n",
      "0         Kia\n",
      "1        Fiat\n",
      "2    Mercedes\n",
      "dtype: object\n"
     ]
    }
   ],
   "source": [
    "print(troy_series1)\n",
    "print(troy_series2)\n",
    "print(troy_series3)"
   ]
  },
  {
   "cell_type": "markdown",
   "id": "d65b56855532d197",
   "metadata": {},
   "source": [
    "## Pass series to Data Frame and use a Python dictionary to create the data Frame"
   ]
  },
  {
   "cell_type": "code",
   "execution_count": 112,
   "id": "d12b9e23160556c7",
   "metadata": {
    "ExecuteTime": {
     "end_time": "2025-07-05T02:12:28.529387Z",
     "start_time": "2025-07-05T02:12:28.522500Z"
    }
   },
   "outputs": [
    {
     "name": "stdout",
     "output_type": "stream",
     "text": [
      "  Car Make 1 Car Make 2 Car Make 3 Colour\n",
      "0        BMW       Ford        Kia    Red\n",
      "1     Toyota  Chevrolet       Fiat  Green\n",
      "2      Mazda      Dodge   Mercedes   Blue\n"
     ]
    }
   ],
   "source": [
    "car_data = pd.DataFrame({\"Car Make 1\": troy_series1, \"Car Make 2\": troy_series2, \"Car Make 3\": troy_series3, \"Colour\": colours})\n",
    "print(car_data)"
   ]
  },
  {
   "cell_type": "markdown",
   "id": "d829caebe033a816",
   "metadata": {},
   "source": [
    "## Import Data instead of creating a dict()"
   ]
  },
  {
   "cell_type": "code",
   "execution_count": 113,
   "id": "c0a799ed55bb4a5f",
   "metadata": {
    "ExecuteTime": {
     "end_time": "2025-07-05T02:12:28.564452Z",
     "start_time": "2025-07-05T02:12:28.557776Z"
    }
   },
   "outputs": [],
   "source": [
    "# Import Data from file\n",
    "car_sales = pd.read_csv(\"car-sales.csv\")"
   ]
  },
  {
   "cell_type": "code",
   "execution_count": 114,
   "id": "3eeb18a88284ee60",
   "metadata": {
    "ExecuteTime": {
     "end_time": "2025-07-05T02:12:28.575588Z",
     "start_time": "2025-07-05T02:12:28.569470Z"
    }
   },
   "outputs": [
    {
     "name": "stdout",
     "output_type": "stream",
     "text": [
      "     Make Colour  Odometer  Doors       Price\n",
      "0  Toyota  White    150043      4   $4,000.00\n",
      "1   Honda    Red     87889      4   $5,000.00\n",
      "2  Toyota   Blue     32549      3   $7,000.00\n",
      "3     BMW  Black     11179      5  $22,000.00\n",
      "4  Nissan  White    213095      4   $3,500.00\n",
      "5  Toyota  Green     99213      4   $4,500.00\n",
      "6   Honda   Blue     45698      4   $7,500.00\n",
      "7   Honda   Blue     54738      4   $7,000.00\n",
      "8  Toyota  White     60000      4   $6,250.00\n",
      "9  Nissan  White     31600      4   $9,700.00\n"
     ]
    }
   ],
   "source": [
    "print(car_sales)"
   ]
  },
  {
   "cell_type": "markdown",
   "id": "998f3853369b3f2f",
   "metadata": {},
   "source": [
    "## Exporting a DataFrame"
   ]
  },
  {
   "cell_type": "code",
   "execution_count": 115,
   "id": "b32f2d7a67979db9",
   "metadata": {
    "ExecuteTime": {
     "end_time": "2025-07-05T02:12:28.599498Z",
     "start_time": "2025-07-05T02:12:28.594146Z"
    }
   },
   "outputs": [],
   "source": [
    "car_sales.to_csv(\"car-sales_EXPORTED.csv\", index=False)"
   ]
  },
  {
   "cell_type": "markdown",
   "id": "13a7c60167fcc84e",
   "metadata": {},
   "source": [
    "## Import the exported car data"
   ]
  },
  {
   "cell_type": "code",
   "execution_count": 116,
   "id": "5eb04bdba635098c",
   "metadata": {
    "ExecuteTime": {
     "end_time": "2025-07-05T02:12:28.622931Z",
     "start_time": "2025-07-05T02:12:28.614251Z"
    }
   },
   "outputs": [
    {
     "name": "stdout",
     "output_type": "stream",
     "text": [
      "     Make Colour  Odometer  Doors       Price\n",
      "0  Toyota  White    150043      4   $4,000.00\n",
      "1   Honda    Red     87889      4   $5,000.00\n",
      "2  Toyota   Blue     32549      3   $7,000.00\n",
      "3     BMW  Black     11179      5  $22,000.00\n",
      "4  Nissan  White    213095      4   $3,500.00\n",
      "5  Toyota  Green     99213      4   $4,500.00\n",
      "6   Honda   Blue     45698      4   $7,500.00\n",
      "7   Honda   Blue     54738      4   $7,000.00\n",
      "8  Toyota  White     60000      4   $6,250.00\n",
      "9  Nissan  White     31600      4   $9,700.00\n"
     ]
    }
   ],
   "source": [
    "exported_car_sales = pd.read_csv(\"car-sales_EXPORTED.csv\")\n",
    "print(exported_car_sales)"
   ]
  },
  {
   "cell_type": "markdown",
   "id": "85743cd04beb3aee",
   "metadata": {},
   "source": [
    "## Describe Data"
   ]
  },
  {
   "cell_type": "code",
   "execution_count": 117,
   "id": "6566a475b8a854d6",
   "metadata": {
    "ExecuteTime": {
     "end_time": "2025-07-05T02:12:28.643322Z",
     "start_time": "2025-07-05T02:12:28.638738Z"
    }
   },
   "outputs": [
    {
     "data": {
      "text/plain": [
       "Make        object\n",
       "Colour      object\n",
       "Odometer     int64\n",
       "Doors        int64\n",
       "Price       object\n",
       "dtype: object"
      ]
     },
     "execution_count": 117,
     "metadata": {},
     "output_type": "execute_result"
    }
   ],
   "source": [
    "# This is an attribute\n",
    "car_sales.dtypes\n",
    "\n",
    "#This is a function\n",
    "#car_sales.to_csv()"
   ]
  },
  {
   "cell_type": "code",
   "execution_count": 118,
   "id": "36850a90c0684ede",
   "metadata": {
    "ExecuteTime": {
     "end_time": "2025-07-05T02:12:28.691097Z",
     "start_time": "2025-07-05T02:12:28.685758Z"
    }
   },
   "outputs": [
    {
     "name": "stdout",
     "output_type": "stream",
     "text": [
      "Index(['Make', 'Colour', 'Odometer', 'Doors', 'Price'], dtype='object')\n"
     ]
    }
   ],
   "source": [
    "# Columns\n",
    "car_columns = car_sales.columns\n",
    "print(car_columns)"
   ]
  },
  {
   "cell_type": "code",
   "execution_count": 119,
   "id": "3ed6e6afda696335",
   "metadata": {
    "ExecuteTime": {
     "end_time": "2025-07-05T02:12:28.740036Z",
     "start_time": "2025-07-05T02:12:28.733836Z"
    }
   },
   "outputs": [
    {
     "name": "stdout",
     "output_type": "stream",
     "text": [
      "RangeIndex(start=0, stop=10, step=1)\n",
      "     Make Colour  Odometer  Doors       Price\n",
      "0  Toyota  White    150043      4   $4,000.00\n",
      "1   Honda    Red     87889      4   $5,000.00\n",
      "2  Toyota   Blue     32549      3   $7,000.00\n",
      "3     BMW  Black     11179      5  $22,000.00\n",
      "4  Nissan  White    213095      4   $3,500.00\n",
      "5  Toyota  Green     99213      4   $4,500.00\n",
      "6   Honda   Blue     45698      4   $7,500.00\n",
      "7   Honda   Blue     54738      4   $7,000.00\n",
      "8  Toyota  White     60000      4   $6,250.00\n",
      "9  Nissan  White     31600      4   $9,700.00\n"
     ]
    }
   ],
   "source": [
    "# Car Sales index\n",
    "print(car_sales.index)\n",
    "print(car_sales)"
   ]
  },
  {
   "cell_type": "code",
   "execution_count": 120,
   "id": "ce9e5ecc6d9a7abc",
   "metadata": {
    "ExecuteTime": {
     "end_time": "2025-07-05T02:12:28.783779Z",
     "start_time": "2025-07-05T02:12:28.775808Z"
    }
   },
   "outputs": [
    {
     "name": "stdout",
     "output_type": "stream",
     "text": [
      "            Odometer      Doors\n",
      "count      10.000000  10.000000\n",
      "mean    78600.400000   4.000000\n",
      "std     61983.305147   0.471405\n",
      "min     11179.000000   3.000000\n",
      "25%     35836.250000   4.000000\n",
      "50%     57369.000000   4.000000\n",
      "75%     96382.000000   4.000000\n",
      "max    213095.000000   5.000000\n"
     ]
    }
   ],
   "source": [
    "# Describe Car Sales - only works on numeric columns\n",
    "print(car_sales.describe())"
   ]
  },
  {
   "cell_type": "code",
   "execution_count": 121,
   "id": "c464eb7fff1fc138",
   "metadata": {
    "ExecuteTime": {
     "end_time": "2025-07-05T02:12:28.815919Z",
     "start_time": "2025-07-05T02:12:28.807227Z"
    }
   },
   "outputs": [
    {
     "name": "stdout",
     "output_type": "stream",
     "text": [
      "<class 'pandas.core.frame.DataFrame'>\n",
      "RangeIndex: 10 entries, 0 to 9\n",
      "Data columns (total 5 columns):\n",
      " #   Column    Non-Null Count  Dtype \n",
      "---  ------    --------------  ----- \n",
      " 0   Make      10 non-null     object\n",
      " 1   Colour    10 non-null     object\n",
      " 2   Odometer  10 non-null     int64 \n",
      " 3   Doors     10 non-null     int64 \n",
      " 4   Price     10 non-null     object\n",
      "dtypes: int64(2), object(3)\n",
      "memory usage: 532.0+ bytes\n"
     ]
    }
   ],
   "source": [
    "# info\n",
    "car_sales.info()"
   ]
  },
  {
   "cell_type": "code",
   "execution_count": 122,
   "id": "6829db8720e2736a",
   "metadata": {
    "ExecuteTime": {
     "end_time": "2025-07-05T02:12:28.843385Z",
     "start_time": "2025-07-05T02:12:28.837927Z"
    }
   },
   "outputs": [
    {
     "name": "stdout",
     "output_type": "stream",
     "text": [
      "Odometer    78600.4\n",
      "Doors           4.0\n",
      "dtype: float64\n"
     ]
    }
   ],
   "source": [
    "# the mean / average\n",
    "car_sales_mean = car_sales.mean(numeric_only=True)\n",
    "print(car_sales_mean)"
   ]
  },
  {
   "cell_type": "code",
   "execution_count": 123,
   "id": "8feda5370043a1cd",
   "metadata": {
    "ExecuteTime": {
     "end_time": "2025-07-05T02:12:28.888221Z",
     "start_time": "2025-07-05T02:12:28.883756Z"
    }
   },
   "outputs": [
    {
     "name": "stdout",
     "output_type": "stream",
     "text": [
      "24166.666666666668\n"
     ]
    }
   ],
   "source": [
    "# Temporarily make prices numeric (they are objects in the original data, so need to make a test of the proices as integers to test the mean() function on the proces.\n",
    "car_prices = pd.Series([23950, 31800, 16750])\n",
    "car_prices_mean = car_prices.mean()\n",
    "print(car_prices_mean)"
   ]
  },
  {
   "cell_type": "code",
   "execution_count": 124,
   "id": "aa2fefce9902dc8",
   "metadata": {
    "ExecuteTime": {
     "end_time": "2025-07-05T02:12:28.905223Z",
     "start_time": "2025-07-05T02:12:28.902048Z"
    }
   },
   "outputs": [
    {
     "name": "stdout",
     "output_type": "stream",
     "text": [
      "24166.666666666668\n"
     ]
    }
   ],
   "source": [
    "result = (car_prices[0] + car_prices[1] + car_prices[2])/3\n",
    "print(result)"
   ]
  },
  {
   "cell_type": "code",
   "execution_count": 125,
   "id": "3533a2d608dfe715",
   "metadata": {
    "ExecuteTime": {
     "end_time": "2025-07-05T02:12:28.932227Z",
     "start_time": "2025-07-05T02:12:28.926727Z"
    }
   },
   "outputs": [
    {
     "data": {
      "text/plain": [
       "40"
      ]
     },
     "execution_count": 125,
     "metadata": {},
     "output_type": "execute_result"
    }
   ],
   "source": [
    "car_sales[\"Doors\"].sum()"
   ]
  },
  {
   "cell_type": "code",
   "execution_count": 126,
   "id": "6e65fcbfecd5edaa",
   "metadata": {
    "ExecuteTime": {
     "end_time": "2025-07-05T02:12:28.962092Z",
     "start_time": "2025-07-05T02:12:28.957759Z"
    }
   },
   "outputs": [
    {
     "data": {
      "text/plain": [
       "10"
      ]
     },
     "execution_count": 126,
     "metadata": {},
     "output_type": "execute_result"
    }
   ],
   "source": [
    "# length\n",
    "len(car_sales)"
   ]
  },
  {
   "cell_type": "code",
   "execution_count": 127,
   "id": "e3834586a4153b6f",
   "metadata": {
    "ExecuteTime": {
     "end_time": "2025-07-05T02:12:28.992805Z",
     "start_time": "2025-07-05T02:12:28.986083Z"
    }
   },
   "outputs": [
    {
     "data": {
      "text/plain": [
       "(10, 5)"
      ]
     },
     "execution_count": 127,
     "metadata": {},
     "output_type": "execute_result"
    }
   ],
   "source": [
    "car_sales.shape"
   ]
  },
  {
   "cell_type": "markdown",
   "id": "9bd986d23aee89cf",
   "metadata": {},
   "source": [
    "## Viewing and Selecting Data"
   ]
  },
  {
   "cell_type": "code",
   "execution_count": 128,
   "id": "929c7477c6b557de",
   "metadata": {
    "ExecuteTime": {
     "end_time": "2025-07-05T02:12:29.050177Z",
     "start_time": "2025-07-05T02:12:29.039513Z"
    }
   },
   "outputs": [
    {
     "data": {
      "text/html": [
       "<div>\n",
       "<style scoped>\n",
       "    .dataframe tbody tr th:only-of-type {\n",
       "        vertical-align: middle;\n",
       "    }\n",
       "\n",
       "    .dataframe tbody tr th {\n",
       "        vertical-align: top;\n",
       "    }\n",
       "\n",
       "    .dataframe thead th {\n",
       "        text-align: right;\n",
       "    }\n",
       "</style>\n",
       "<table border=\"1\" class=\"dataframe\">\n",
       "  <thead>\n",
       "    <tr style=\"text-align: right;\">\n",
       "      <th></th>\n",
       "      <th>Make</th>\n",
       "      <th>Colour</th>\n",
       "      <th>Odometer</th>\n",
       "      <th>Doors</th>\n",
       "      <th>Price</th>\n",
       "    </tr>\n",
       "  </thead>\n",
       "  <tbody>\n",
       "    <tr>\n",
       "      <th>5</th>\n",
       "      <td>Toyota</td>\n",
       "      <td>Green</td>\n",
       "      <td>99213</td>\n",
       "      <td>4</td>\n",
       "      <td>$4,500.00</td>\n",
       "    </tr>\n",
       "    <tr>\n",
       "      <th>6</th>\n",
       "      <td>Honda</td>\n",
       "      <td>Blue</td>\n",
       "      <td>45698</td>\n",
       "      <td>4</td>\n",
       "      <td>$7,500.00</td>\n",
       "    </tr>\n",
       "    <tr>\n",
       "      <th>7</th>\n",
       "      <td>Honda</td>\n",
       "      <td>Blue</td>\n",
       "      <td>54738</td>\n",
       "      <td>4</td>\n",
       "      <td>$7,000.00</td>\n",
       "    </tr>\n",
       "    <tr>\n",
       "      <th>8</th>\n",
       "      <td>Toyota</td>\n",
       "      <td>White</td>\n",
       "      <td>60000</td>\n",
       "      <td>4</td>\n",
       "      <td>$6,250.00</td>\n",
       "    </tr>\n",
       "    <tr>\n",
       "      <th>9</th>\n",
       "      <td>Nissan</td>\n",
       "      <td>White</td>\n",
       "      <td>31600</td>\n",
       "      <td>4</td>\n",
       "      <td>$9,700.00</td>\n",
       "    </tr>\n",
       "  </tbody>\n",
       "</table>\n",
       "</div>"
      ],
      "text/plain": [
       "     Make Colour  Odometer  Doors      Price\n",
       "5  Toyota  Green     99213      4  $4,500.00\n",
       "6   Honda   Blue     45698      4  $7,500.00\n",
       "7   Honda   Blue     54738      4  $7,000.00\n",
       "8  Toyota  White     60000      4  $6,250.00\n",
       "9  Nissan  White     31600      4  $9,700.00"
      ]
     },
     "execution_count": 128,
     "metadata": {},
     "output_type": "execute_result"
    }
   ],
   "source": [
    "car_sales.head()\n",
    "car_sales.tail()"
   ]
  },
  {
   "cell_type": "code",
   "execution_count": 129,
   "id": "71578573c3477606",
   "metadata": {
    "ExecuteTime": {
     "end_time": "2025-07-05T02:12:29.106514Z",
     "start_time": "2025-07-05T02:12:29.099530Z"
    }
   },
   "outputs": [],
   "source": [
    "# .loc and .iloc\n",
    "animals = pd.Series([\"cat\", \"dog\", \"mouse\", \"pterydactal\", \"eohippus\"], index=[0, 3, 9, 8, 3])"
   ]
  },
  {
   "cell_type": "markdown",
   "id": "ddca0bf5e8a226d2",
   "metadata": {},
   "source": [
    "## Using loc and iloc as well as splitting data using [:n]"
   ]
  },
  {
   "cell_type": "code",
   "execution_count": 130,
   "id": "86551e3fccfd706f",
   "metadata": {
    "ExecuteTime": {
     "end_time": "2025-07-05T02:12:29.157642Z",
     "start_time": "2025-07-05T02:12:29.151777Z"
    }
   },
   "outputs": [
    {
     "data": {
      "text/plain": [
       "3         dog\n",
       "3    eohippus\n",
       "dtype: object"
      ]
     },
     "execution_count": 130,
     "metadata": {},
     "output_type": "execute_result"
    }
   ],
   "source": [
    "# return all animals at index value = 3 (2 results come back)\n",
    "animals.loc[3]\n"
   ]
  },
  {
   "cell_type": "code",
   "execution_count": 131,
   "id": "1411b96edc5a7245",
   "metadata": {
    "ExecuteTime": {
     "end_time": "2025-07-05T02:12:29.242833Z",
     "start_time": "2025-07-05T02:12:29.237235Z"
    }
   },
   "outputs": [
    {
     "data": {
      "text/plain": [
       "'pterydactal'"
      ]
     },
     "execution_count": 131,
     "metadata": {},
     "output_type": "execute_result"
    }
   ],
   "source": [
    "# iloc refers to position\n",
    "animals.iloc[3]"
   ]
  },
  {
   "cell_type": "code",
   "execution_count": 132,
   "id": "778f17d694551f96",
   "metadata": {
    "ExecuteTime": {
     "end_time": "2025-07-05T02:12:29.299704Z",
     "start_time": "2025-07-05T02:12:29.292140Z"
    }
   },
   "outputs": [
    {
     "data": {
      "text/plain": [
       "Make           Nissan\n",
       "Colour          White\n",
       "Odometer       213095\n",
       "Doors               4\n",
       "Price       $3,500.00\n",
       "Name: 4, dtype: object"
      ]
     },
     "execution_count": 132,
     "metadata": {},
     "output_type": "execute_result"
    }
   ],
   "source": [
    "# loc refers to index\n",
    "car_sales.loc[4]"
   ]
  },
  {
   "cell_type": "code",
   "execution_count": 133,
   "id": "14e42acea8042e05",
   "metadata": {
    "ExecuteTime": {
     "end_time": "2025-07-05T02:12:29.464288Z",
     "start_time": "2025-07-05T02:12:29.443930Z"
    }
   },
   "outputs": [
    {
     "data": {
      "text/plain": [
       "Make           Toyota\n",
       "Colour           Blue\n",
       "Odometer        32549\n",
       "Doors               3\n",
       "Price       $7,000.00\n",
       "Name: 2, dtype: object"
      ]
     },
     "execution_count": 133,
     "metadata": {},
     "output_type": "execute_result"
    }
   ],
   "source": [
    "car_sales.iloc[2]"
   ]
  },
  {
   "cell_type": "code",
   "execution_count": 134,
   "id": "6dcd619f3c3e8f03",
   "metadata": {
    "ExecuteTime": {
     "end_time": "2025-07-05T02:12:29.555545Z",
     "start_time": "2025-07-05T02:12:29.546806Z"
    }
   },
   "outputs": [
    {
     "data": {
      "text/plain": [
       "0    150043\n",
       "1     87889\n",
       "2     32549\n",
       "3     11179\n",
       "4    213095\n",
       "5     99213\n",
       "6     45698\n",
       "7     54738\n",
       "8     60000\n",
       "9     31600\n",
       "Name: Odometer, dtype: int64"
      ]
     },
     "execution_count": 134,
     "metadata": {},
     "output_type": "execute_result"
    }
   ],
   "source": [
    "car_sales[\"Odometer\"]"
   ]
  },
  {
   "cell_type": "code",
   "execution_count": 135,
   "id": "bda72537b0b97aeb",
   "metadata": {
    "ExecuteTime": {
     "end_time": "2025-07-05T02:12:29.680758Z",
     "start_time": "2025-07-05T02:12:29.675219Z"
    }
   },
   "outputs": [
    {
     "data": {
      "text/plain": [
       "0      cat\n",
       "3      dog\n",
       "9    mouse\n",
       "dtype: object"
      ]
     },
     "execution_count": 135,
     "metadata": {},
     "output_type": "execute_result"
    }
   ],
   "source": [
    "# give animals up to but not including 3\n",
    "animals.iloc[:3]"
   ]
  },
  {
   "cell_type": "code",
   "execution_count": 136,
   "id": "c3c3e51a2e2281bf",
   "metadata": {
    "ExecuteTime": {
     "end_time": "2025-07-05T02:12:29.792840Z",
     "start_time": "2025-07-05T02:12:29.781859Z"
    }
   },
   "outputs": [
    {
     "data": {
      "text/html": [
       "<div>\n",
       "<style scoped>\n",
       "    .dataframe tbody tr th:only-of-type {\n",
       "        vertical-align: middle;\n",
       "    }\n",
       "\n",
       "    .dataframe tbody tr th {\n",
       "        vertical-align: top;\n",
       "    }\n",
       "\n",
       "    .dataframe thead th {\n",
       "        text-align: right;\n",
       "    }\n",
       "</style>\n",
       "<table border=\"1\" class=\"dataframe\">\n",
       "  <thead>\n",
       "    <tr style=\"text-align: right;\">\n",
       "      <th></th>\n",
       "      <th>Make</th>\n",
       "      <th>Colour</th>\n",
       "      <th>Odometer</th>\n",
       "      <th>Doors</th>\n",
       "      <th>Price</th>\n",
       "    </tr>\n",
       "  </thead>\n",
       "  <tbody>\n",
       "    <tr>\n",
       "      <th>0</th>\n",
       "      <td>Toyota</td>\n",
       "      <td>White</td>\n",
       "      <td>150043</td>\n",
       "      <td>4</td>\n",
       "      <td>$4,000.00</td>\n",
       "    </tr>\n",
       "    <tr>\n",
       "      <th>1</th>\n",
       "      <td>Honda</td>\n",
       "      <td>Red</td>\n",
       "      <td>87889</td>\n",
       "      <td>4</td>\n",
       "      <td>$5,000.00</td>\n",
       "    </tr>\n",
       "    <tr>\n",
       "      <th>2</th>\n",
       "      <td>Toyota</td>\n",
       "      <td>Blue</td>\n",
       "      <td>32549</td>\n",
       "      <td>3</td>\n",
       "      <td>$7,000.00</td>\n",
       "    </tr>\n",
       "  </tbody>\n",
       "</table>\n",
       "</div>"
      ],
      "text/plain": [
       "     Make Colour  Odometer  Doors      Price\n",
       "0  Toyota  White    150043      4  $4,000.00\n",
       "1   Honda    Red     87889      4  $5,000.00\n",
       "2  Toyota   Blue     32549      3  $7,000.00"
      ]
     },
     "execution_count": 136,
     "metadata": {},
     "output_type": "execute_result"
    }
   ],
   "source": [
    "car_sales.iloc[:3]"
   ]
  },
  {
   "cell_type": "code",
   "execution_count": 137,
   "id": "39bc3c55a7b3c659",
   "metadata": {
    "ExecuteTime": {
     "end_time": "2025-07-05T02:12:29.906203Z",
     "start_time": "2025-07-05T02:12:29.900312Z"
    }
   },
   "outputs": [
    {
     "data": {
      "text/plain": [
       "0    Toyota\n",
       "1     Honda\n",
       "2    Toyota\n",
       "3       BMW\n",
       "4    Nissan\n",
       "5    Toyota\n",
       "6     Honda\n",
       "7     Honda\n",
       "8    Toyota\n",
       "9    Nissan\n",
       "Name: Make, dtype: object"
      ]
     },
     "execution_count": 137,
     "metadata": {},
     "output_type": "execute_result"
    }
   ],
   "source": [
    "car_sales[\"Make\"]"
   ]
  },
  {
   "cell_type": "code",
   "execution_count": 138,
   "id": "1f922a9b7da26d94",
   "metadata": {
    "ExecuteTime": {
     "end_time": "2025-07-05T02:12:30.034658Z",
     "start_time": "2025-07-05T02:12:30.028378Z"
    }
   },
   "outputs": [
    {
     "data": {
      "text/plain": [
       "0    Toyota\n",
       "1     Honda\n",
       "2    Toyota\n",
       "3       BMW\n",
       "4    Nissan\n",
       "5    Toyota\n",
       "6     Honda\n",
       "7     Honda\n",
       "8    Toyota\n",
       "9    Nissan\n",
       "Name: Make, dtype: object"
      ]
     },
     "execution_count": 138,
     "metadata": {},
     "output_type": "execute_result"
    }
   ],
   "source": [
    "car_sales.Make"
   ]
  },
  {
   "cell_type": "code",
   "execution_count": 139,
   "id": "b354e29aaac08a3",
   "metadata": {
    "ExecuteTime": {
     "end_time": "2025-07-05T02:12:30.131058Z",
     "start_time": "2025-07-05T02:12:30.124474Z"
    }
   },
   "outputs": [
    {
     "name": "stdout",
     "output_type": "stream",
     "text": [
      "     Make Colour  Odometer  Doors      Price\n",
      "0  Toyota  White    150043      4  $4,000.00\n",
      "2  Toyota   Blue     32549      3  $7,000.00\n",
      "5  Toyota  Green     99213      4  $4,500.00\n",
      "8  Toyota  White     60000      4  $6,250.00\n"
     ]
    }
   ],
   "source": [
    "# now get all car sales where the Make = 'Toyota'\n",
    "# BOOLEAN indexing\n",
    "results = car_sales[car_sales[\"Make\"] == \"Toyota\"]\n",
    "print(results)\n"
   ]
  },
  {
   "cell_type": "code",
   "execution_count": 140,
   "id": "a55d6d32f2ba6ecd",
   "metadata": {
    "ExecuteTime": {
     "end_time": "2025-07-05T02:12:30.216518Z",
     "start_time": "2025-07-05T02:12:30.211643Z"
    }
   },
   "outputs": [
    {
     "name": "stdout",
     "output_type": "stream",
     "text": [
      "[0     True\n",
      "2    False\n",
      "5     True\n",
      "8     True\n",
      "Name: Odometer, dtype: bool]\n"
     ]
    }
   ],
   "source": [
    "results2 = [results[\"Odometer\"] > 40000]\n",
    "print(results2)"
   ]
  },
  {
   "cell_type": "code",
   "execution_count": 141,
   "id": "e4bdc16d6a0e05fe",
   "metadata": {
    "ExecuteTime": {
     "end_time": "2025-07-05T02:12:30.284256Z",
     "start_time": "2025-07-05T02:12:30.271143Z"
    }
   },
   "outputs": [
    {
     "data": {
      "text/html": [
       "<div>\n",
       "<style scoped>\n",
       "    .dataframe tbody tr th:only-of-type {\n",
       "        vertical-align: middle;\n",
       "    }\n",
       "\n",
       "    .dataframe tbody tr th {\n",
       "        vertical-align: top;\n",
       "    }\n",
       "\n",
       "    .dataframe thead th {\n",
       "        text-align: right;\n",
       "    }\n",
       "</style>\n",
       "<table border=\"1\" class=\"dataframe\">\n",
       "  <thead>\n",
       "    <tr style=\"text-align: right;\">\n",
       "      <th>Doors</th>\n",
       "      <th>3</th>\n",
       "      <th>4</th>\n",
       "      <th>5</th>\n",
       "    </tr>\n",
       "    <tr>\n",
       "      <th>Make</th>\n",
       "      <th></th>\n",
       "      <th></th>\n",
       "      <th></th>\n",
       "    </tr>\n",
       "  </thead>\n",
       "  <tbody>\n",
       "    <tr>\n",
       "      <th>BMW</th>\n",
       "      <td>0</td>\n",
       "      <td>0</td>\n",
       "      <td>1</td>\n",
       "    </tr>\n",
       "    <tr>\n",
       "      <th>Honda</th>\n",
       "      <td>0</td>\n",
       "      <td>3</td>\n",
       "      <td>0</td>\n",
       "    </tr>\n",
       "    <tr>\n",
       "      <th>Nissan</th>\n",
       "      <td>0</td>\n",
       "      <td>2</td>\n",
       "      <td>0</td>\n",
       "    </tr>\n",
       "    <tr>\n",
       "      <th>Toyota</th>\n",
       "      <td>1</td>\n",
       "      <td>3</td>\n",
       "      <td>0</td>\n",
       "    </tr>\n",
       "  </tbody>\n",
       "</table>\n",
       "</div>"
      ],
      "text/plain": [
       "Doors   3  4  5\n",
       "Make           \n",
       "BMW     0  0  1\n",
       "Honda   0  3  0\n",
       "Nissan  0  2  0\n",
       "Toyota  1  3  0"
      ]
     },
     "execution_count": 141,
     "metadata": {},
     "output_type": "execute_result"
    }
   ],
   "source": [
    "pd.crosstab(car_sales[\"Make\"], car_sales[\"Doors\"])"
   ]
  },
  {
   "cell_type": "code",
   "execution_count": 144,
   "id": "e04ee0a705a36f72",
   "metadata": {
    "ExecuteTime": {
     "end_time": "2025-07-05T02:13:23.894889Z",
     "start_time": "2025-07-05T02:13:23.885237Z"
    }
   },
   "outputs": [
    {
     "data": {
      "text/html": [
       "<div>\n",
       "<style scoped>\n",
       "    .dataframe tbody tr th:only-of-type {\n",
       "        vertical-align: middle;\n",
       "    }\n",
       "\n",
       "    .dataframe tbody tr th {\n",
       "        vertical-align: top;\n",
       "    }\n",
       "\n",
       "    .dataframe thead th {\n",
       "        text-align: right;\n",
       "    }\n",
       "</style>\n",
       "<table border=\"1\" class=\"dataframe\">\n",
       "  <thead>\n",
       "    <tr style=\"text-align: right;\">\n",
       "      <th></th>\n",
       "      <th>Make</th>\n",
       "      <th>Colour</th>\n",
       "      <th>Odometer</th>\n",
       "      <th>Doors</th>\n",
       "      <th>Price</th>\n",
       "    </tr>\n",
       "  </thead>\n",
       "  <tbody>\n",
       "    <tr>\n",
       "      <th>0</th>\n",
       "      <td>Toyota</td>\n",
       "      <td>White</td>\n",
       "      <td>150043</td>\n",
       "      <td>4</td>\n",
       "      <td>$4,000.00</td>\n",
       "    </tr>\n",
       "    <tr>\n",
       "      <th>1</th>\n",
       "      <td>Honda</td>\n",
       "      <td>Red</td>\n",
       "      <td>87889</td>\n",
       "      <td>4</td>\n",
       "      <td>$5,000.00</td>\n",
       "    </tr>\n",
       "    <tr>\n",
       "      <th>2</th>\n",
       "      <td>Toyota</td>\n",
       "      <td>Blue</td>\n",
       "      <td>32549</td>\n",
       "      <td>3</td>\n",
       "      <td>$7,000.00</td>\n",
       "    </tr>\n",
       "    <tr>\n",
       "      <th>3</th>\n",
       "      <td>BMW</td>\n",
       "      <td>Black</td>\n",
       "      <td>11179</td>\n",
       "      <td>5</td>\n",
       "      <td>$22,000.00</td>\n",
       "    </tr>\n",
       "    <tr>\n",
       "      <th>4</th>\n",
       "      <td>Nissan</td>\n",
       "      <td>White</td>\n",
       "      <td>213095</td>\n",
       "      <td>4</td>\n",
       "      <td>$3,500.00</td>\n",
       "    </tr>\n",
       "    <tr>\n",
       "      <th>5</th>\n",
       "      <td>Toyota</td>\n",
       "      <td>Green</td>\n",
       "      <td>99213</td>\n",
       "      <td>4</td>\n",
       "      <td>$4,500.00</td>\n",
       "    </tr>\n",
       "    <tr>\n",
       "      <th>6</th>\n",
       "      <td>Honda</td>\n",
       "      <td>Blue</td>\n",
       "      <td>45698</td>\n",
       "      <td>4</td>\n",
       "      <td>$7,500.00</td>\n",
       "    </tr>\n",
       "    <tr>\n",
       "      <th>7</th>\n",
       "      <td>Honda</td>\n",
       "      <td>Blue</td>\n",
       "      <td>54738</td>\n",
       "      <td>4</td>\n",
       "      <td>$7,000.00</td>\n",
       "    </tr>\n",
       "    <tr>\n",
       "      <th>8</th>\n",
       "      <td>Toyota</td>\n",
       "      <td>White</td>\n",
       "      <td>60000</td>\n",
       "      <td>4</td>\n",
       "      <td>$6,250.00</td>\n",
       "    </tr>\n",
       "    <tr>\n",
       "      <th>9</th>\n",
       "      <td>Nissan</td>\n",
       "      <td>White</td>\n",
       "      <td>31600</td>\n",
       "      <td>4</td>\n",
       "      <td>$9,700.00</td>\n",
       "    </tr>\n",
       "  </tbody>\n",
       "</table>\n",
       "</div>"
      ],
      "text/plain": [
       "     Make Colour  Odometer  Doors       Price\n",
       "0  Toyota  White    150043      4   $4,000.00\n",
       "1   Honda    Red     87889      4   $5,000.00\n",
       "2  Toyota   Blue     32549      3   $7,000.00\n",
       "3     BMW  Black     11179      5  $22,000.00\n",
       "4  Nissan  White    213095      4   $3,500.00\n",
       "5  Toyota  Green     99213      4   $4,500.00\n",
       "6   Honda   Blue     45698      4   $7,500.00\n",
       "7   Honda   Blue     54738      4   $7,000.00\n",
       "8  Toyota  White     60000      4   $6,250.00\n",
       "9  Nissan  White     31600      4   $9,700.00"
      ]
     },
     "execution_count": 144,
     "metadata": {},
     "output_type": "execute_result"
    }
   ],
   "source": [
    "car_sales"
   ]
  },
  {
   "cell_type": "code",
   "execution_count": 169,
   "id": "45831bd48810a4bb",
   "metadata": {
    "ExecuteTime": {
     "end_time": "2025-07-05T02:25:13.627404Z",
     "start_time": "2025-07-05T02:25:13.622310Z"
    }
   },
   "outputs": [],
   "source": [
    "# GroupBy\n",
    "# This gives the mean() for the 'Doors' column\n",
    "grouped_by_make_doors_mean = car_sales.groupby('Make')[\"Doors\"].mean()"
   ]
  },
  {
   "cell_type": "code",
   "execution_count": 170,
   "id": "34f0582d812c1faa",
   "metadata": {
    "ExecuteTime": {
     "end_time": "2025-07-05T02:25:14.188458Z",
     "start_time": "2025-07-05T02:25:14.182904Z"
    }
   },
   "outputs": [
    {
     "data": {
      "text/plain": [
       "Make\n",
       "BMW       5.00\n",
       "Honda     4.00\n",
       "Nissan    4.00\n",
       "Toyota    3.75\n",
       "Name: Doors, dtype: float64"
      ]
     },
     "execution_count": 170,
     "metadata": {},
     "output_type": "execute_result"
    }
   ],
   "source": [
    "grouped_by_make_doors_mean"
   ]
  },
  {
   "cell_type": "code",
   "execution_count": 171,
   "id": "29df4bc9dff866cb",
   "metadata": {
    "ExecuteTime": {
     "end_time": "2025-07-05T02:25:14.798635Z",
     "start_time": "2025-07-05T02:25:14.793829Z"
    }
   },
   "outputs": [],
   "source": [
    "# GroupBy\n",
    "# This gives the sum() for the 'Odometer' column\n",
    "grouped_by_make_odometer_sum = car_sales.groupby('Make')[\"Odometer\"].sum()"
   ]
  },
  {
   "cell_type": "code",
   "execution_count": 172,
   "id": "f81033ea2b8c0dbd",
   "metadata": {
    "ExecuteTime": {
     "end_time": "2025-07-05T02:25:15.007490Z",
     "start_time": "2025-07-05T02:25:15.003361Z"
    }
   },
   "outputs": [
    {
     "data": {
      "text/plain": [
       "Make\n",
       "BMW        11179\n",
       "Honda     188325\n",
       "Nissan    244695\n",
       "Toyota    341805\n",
       "Name: Odometer, dtype: int64"
      ]
     },
     "execution_count": 172,
     "metadata": {},
     "output_type": "execute_result"
    }
   ],
   "source": [
    "grouped_by_make_odometer_sum"
   ]
  }
 ],
 "metadata": {
  "kernelspec": {
   "display_name": "Python 3 (ipykernel)",
   "language": "python",
   "name": "python3"
  },
  "language_info": {
   "codemirror_mode": {
    "name": "ipython",
    "version": 3
   },
   "file_extension": ".py",
   "mimetype": "text/x-python",
   "name": "python",
   "nbconvert_exporter": "python",
   "pygments_lexer": "ipython3",
   "version": "3.12.2"
  }
 },
 "nbformat": 4,
 "nbformat_minor": 5
}
