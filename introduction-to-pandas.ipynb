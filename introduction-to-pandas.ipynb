{
 "cells": [
  {
   "metadata": {},
   "cell_type": "markdown",
   "source": [
    " ![](6-step-ml-framework.png)\n",
    "Framework Overview"
   ],
   "id": "ed2fe5fc7e72d9aa"
  },
  {
   "metadata": {
    "ExecuteTime": {
     "end_time": "2025-07-04T22:24:34.863323Z",
     "start_time": "2025-07-04T22:24:34.859930Z"
    }
   },
   "cell_type": "code",
   "source": "import pandas as pd",
   "id": "7a8d6e26f2e12662",
   "outputs": [],
   "execution_count": 18
  },
  {
   "metadata": {},
   "cell_type": "markdown",
   "source": "## Create 4 series, for cars and colours",
   "id": "82704ff0fc478373"
  },
  {
   "metadata": {
    "ExecuteTime": {
     "end_time": "2025-07-04T22:24:34.886953Z",
     "start_time": "2025-07-04T22:24:34.881891Z"
    }
   },
   "cell_type": "code",
   "source": [
    "# 2 main data types\n",
    "troy_series1 = pd.Series([\"BMW\", \"Toyota\", \"Mazda\"])\n",
    "troy_series2 = pd.Series([\"Ford\", \"Chevrolet\", \"Dodge\"])\n",
    "troy_series3 = pd.Series([\"Kia\", \"Fiat\", \"Mercedes\"])\n",
    "colours = pd.Series([\"Red\", \"Green\", \"Blue\"])"
   ],
   "id": "6abec45074d41ac6",
   "outputs": [],
   "execution_count": 19
  },
  {
   "metadata": {},
   "cell_type": "markdown",
   "source": "## Print the Series",
   "id": "fe07f64fe62cf3f9"
  },
  {
   "metadata": {
    "ExecuteTime": {
     "end_time": "2025-07-04T22:24:34.902939Z",
     "start_time": "2025-07-04T22:24:34.896156Z"
    }
   },
   "cell_type": "code",
   "source": [
    "print(troy_series1)\n",
    "print(troy_series2)\n",
    "print(troy_series3)"
   ],
   "id": "484f33cc1d3d553c",
   "outputs": [
    {
     "name": "stdout",
     "output_type": "stream",
     "text": [
      "0       BMW\n",
      "1    Toyota\n",
      "2     Mazda\n",
      "dtype: object\n",
      "0         Ford\n",
      "1    Chevrolet\n",
      "2        Dodge\n",
      "dtype: object\n",
      "0         Kia\n",
      "1        Fiat\n",
      "2    Mercedes\n",
      "dtype: object\n"
     ]
    }
   ],
   "execution_count": 20
  },
  {
   "metadata": {},
   "cell_type": "markdown",
   "source": "## Pass series to Data Frame and use a Python dictionary to create the data Frame",
   "id": "d65b56855532d197"
  },
  {
   "metadata": {
    "ExecuteTime": {
     "end_time": "2025-07-04T22:24:34.984841Z",
     "start_time": "2025-07-04T22:24:34.979029Z"
    }
   },
   "cell_type": "code",
   "source": [
    "car_data = pd.DataFrame({\"Car Make 1\": troy_series1, \"Car Make 2\": troy_series2, \"Car Make 3\": troy_series3, \"Colour\": colours})\n",
    "print(car_data)"
   ],
   "id": "d12b9e23160556c7",
   "outputs": [
    {
     "name": "stdout",
     "output_type": "stream",
     "text": [
      "  Car Make 1 Car Make 2 Car Make 3 Colour\n",
      "0        BMW       Ford        Kia    Red\n",
      "1     Toyota  Chevrolet       Fiat  Green\n",
      "2      Mazda      Dodge   Mercedes   Blue\n"
     ]
    }
   ],
   "execution_count": 21
  },
  {
   "metadata": {},
   "cell_type": "markdown",
   "source": "## Import Data instead of creating a dict()",
   "id": "d829caebe033a816"
  },
  {
   "metadata": {
    "ExecuteTime": {
     "end_time": "2025-07-04T22:25:07.286197Z",
     "start_time": "2025-07-04T22:25:07.279419Z"
    }
   },
   "cell_type": "code",
   "source": [
    "# Import Data from file\n",
    "car_sales = pd.read_csv(\"car-sales.csv\")"
   ],
   "id": "c0a799ed55bb4a5f",
   "outputs": [],
   "execution_count": 25
  },
  {
   "metadata": {
    "ExecuteTime": {
     "end_time": "2025-07-04T22:25:07.835007Z",
     "start_time": "2025-07-04T22:25:07.828374Z"
    }
   },
   "cell_type": "code",
   "source": "print(car_sales)",
   "id": "3eeb18a88284ee60",
   "outputs": [
    {
     "name": "stdout",
     "output_type": "stream",
     "text": [
      "     Make Colour  Odometer  Doors       Price\n",
      "0  Toyota  White    150043      4   $4,000.00\n",
      "1   Honda    Red     87889      4   $5,000.00\n",
      "2  Toyota   Blue     32549      3   $7,000.00\n",
      "3     BMW  Black     11179      5  $22,000.00\n",
      "4  Nissan  White    213095      4   $3,500.00\n",
      "5  Toyota  Green     99213      4   $4,500.00\n",
      "6   Honda   Blue     45698      4   $7,500.00\n",
      "7   Honda   Blue     54738      4   $7,000.00\n",
      "8  Toyota  White     60000      4   $6,250.00\n",
      "9  Nissan  White     31600      4   $9,700.00\n"
     ]
    }
   ],
   "execution_count": 26
  },
  {
   "metadata": {},
   "cell_type": "markdown",
   "source": "## Exporting a DataFrame",
   "id": "998f3853369b3f2f"
  },
  {
   "metadata": {
    "ExecuteTime": {
     "end_time": "2025-07-04T22:25:09.683115Z",
     "start_time": "2025-07-04T22:25:09.677616Z"
    }
   },
   "cell_type": "code",
   "source": "car_sales.to_csv(\"car-sales_EXPORTED.csv\", index=False)",
   "id": "b32f2d7a67979db9",
   "outputs": [],
   "execution_count": 27
  },
  {
   "metadata": {},
   "cell_type": "markdown",
   "source": "## Import the exported car data",
   "id": "13a7c60167fcc84e"
  },
  {
   "metadata": {
    "ExecuteTime": {
     "end_time": "2025-07-04T22:25:32.589423Z",
     "start_time": "2025-07-04T22:25:32.580472Z"
    }
   },
   "cell_type": "code",
   "source": [
    "exported_car_sales = pd.read_csv(\"car-sales_EXPORTED.csv\")\n",
    "print(exported_car_sales)"
   ],
   "id": "5eb04bdba635098c",
   "outputs": [
    {
     "name": "stdout",
     "output_type": "stream",
     "text": [
      "     Make Colour  Odometer  Doors       Price\n",
      "0  Toyota  White    150043      4   $4,000.00\n",
      "1   Honda    Red     87889      4   $5,000.00\n",
      "2  Toyota   Blue     32549      3   $7,000.00\n",
      "3     BMW  Black     11179      5  $22,000.00\n",
      "4  Nissan  White    213095      4   $3,500.00\n",
      "5  Toyota  Green     99213      4   $4,500.00\n",
      "6   Honda   Blue     45698      4   $7,500.00\n",
      "7   Honda   Blue     54738      4   $7,000.00\n",
      "8  Toyota  White     60000      4   $6,250.00\n",
      "9  Nissan  White     31600      4   $9,700.00\n"
     ]
    }
   ],
   "execution_count": 29
  },
  {
   "metadata": {},
   "cell_type": "markdown",
   "source": "## Describe Data",
   "id": "85743cd04beb3aee"
  },
  {
   "metadata": {
    "ExecuteTime": {
     "end_time": "2025-07-04T22:32:51.088929Z",
     "start_time": "2025-07-04T22:32:51.080212Z"
    }
   },
   "cell_type": "code",
   "source": [
    "# This is an attribute\n",
    "car_sales.dtypes\n",
    "\n",
    "#This is a function\n",
    "#car_sales.to_csv()"
   ],
   "id": "6566a475b8a854d6",
   "outputs": [
    {
     "data": {
      "text/plain": [
       "Make        object\n",
       "Colour      object\n",
       "Odometer     int64\n",
       "Doors        int64\n",
       "Price       object\n",
       "dtype: object"
      ]
     },
     "execution_count": 30,
     "metadata": {},
     "output_type": "execute_result"
    }
   ],
   "execution_count": 30
  },
  {
   "metadata": {
    "ExecuteTime": {
     "end_time": "2025-07-04T22:40:55.658888Z",
     "start_time": "2025-07-04T22:40:55.654055Z"
    }
   },
   "cell_type": "code",
   "source": [
    "# Columns\n",
    "car_columns = car_sales.columns\n",
    "print(car_columns)"
   ],
   "id": "36850a90c0684ede",
   "outputs": [
    {
     "name": "stdout",
     "output_type": "stream",
     "text": [
      "Index(['Make', 'Colour', 'Odometer', 'Doors', 'Price'], dtype='object')\n"
     ]
    }
   ],
   "execution_count": 33
  },
  {
   "metadata": {
    "ExecuteTime": {
     "end_time": "2025-07-04T22:44:23.304742Z",
     "start_time": "2025-07-04T22:44:23.296530Z"
    }
   },
   "cell_type": "code",
   "source": [
    "# Car Sales index\n",
    "print(car_sales.index)\n",
    "print(car_sales)"
   ],
   "id": "3ed6e6afda696335",
   "outputs": [
    {
     "name": "stdout",
     "output_type": "stream",
     "text": [
      "RangeIndex(start=0, stop=10, step=1)\n",
      "     Make Colour  Odometer  Doors       Price\n",
      "0  Toyota  White    150043      4   $4,000.00\n",
      "1   Honda    Red     87889      4   $5,000.00\n",
      "2  Toyota   Blue     32549      3   $7,000.00\n",
      "3     BMW  Black     11179      5  $22,000.00\n",
      "4  Nissan  White    213095      4   $3,500.00\n",
      "5  Toyota  Green     99213      4   $4,500.00\n",
      "6   Honda   Blue     45698      4   $7,500.00\n",
      "7   Honda   Blue     54738      4   $7,000.00\n",
      "8  Toyota  White     60000      4   $6,250.00\n",
      "9  Nissan  White     31600      4   $9,700.00\n"
     ]
    }
   ],
   "execution_count": 37
  },
  {
   "metadata": {
    "ExecuteTime": {
     "end_time": "2025-07-04T22:45:38.493348Z",
     "start_time": "2025-07-04T22:45:38.475467Z"
    }
   },
   "cell_type": "code",
   "source": [
    "# Describe Car Sales - only works on numeric columns\n",
    "print(car_sales.describe())"
   ],
   "id": "ce9e5ecc6d9a7abc",
   "outputs": [
    {
     "name": "stdout",
     "output_type": "stream",
     "text": [
      "            Odometer      Doors\n",
      "count      10.000000  10.000000\n",
      "mean    78600.400000   4.000000\n",
      "std     61983.305147   0.471405\n",
      "min     11179.000000   3.000000\n",
      "25%     35836.250000   4.000000\n",
      "50%     57369.000000   4.000000\n",
      "75%     96382.000000   4.000000\n",
      "max    213095.000000   5.000000\n"
     ]
    }
   ],
   "execution_count": 38
  },
  {
   "metadata": {
    "ExecuteTime": {
     "end_time": "2025-07-04T22:52:11.112137Z",
     "start_time": "2025-07-04T22:52:11.096047Z"
    }
   },
   "cell_type": "code",
   "source": [
    "# info\n",
    "car_sales.info()"
   ],
   "id": "c464eb7fff1fc138",
   "outputs": [
    {
     "name": "stdout",
     "output_type": "stream",
     "text": [
      "<class 'pandas.core.frame.DataFrame'>\n",
      "RangeIndex: 10 entries, 0 to 9\n",
      "Data columns (total 5 columns):\n",
      " #   Column    Non-Null Count  Dtype \n",
      "---  ------    --------------  ----- \n",
      " 0   Make      10 non-null     object\n",
      " 1   Colour    10 non-null     object\n",
      " 2   Odometer  10 non-null     int64 \n",
      " 3   Doors     10 non-null     int64 \n",
      " 4   Price     10 non-null     object\n",
      "dtypes: int64(2), object(3)\n",
      "memory usage: 532.0+ bytes\n"
     ]
    }
   ],
   "execution_count": 40
  },
  {
   "metadata": {
    "ExecuteTime": {
     "end_time": "2025-07-04T22:56:13.504928Z",
     "start_time": "2025-07-04T22:56:13.499677Z"
    }
   },
   "cell_type": "code",
   "source": [
    "# the mean / average\n",
    "car_sales_mean = car_sales.mean(numeric_only=True)\n",
    "print(car_sales_mean)"
   ],
   "id": "6829db8720e2736a",
   "outputs": [
    {
     "name": "stdout",
     "output_type": "stream",
     "text": [
      "Odometer    78600.4\n",
      "Doors           4.0\n",
      "dtype: float64\n"
     ]
    }
   ],
   "execution_count": 43
  },
  {
   "metadata": {
    "ExecuteTime": {
     "end_time": "2025-07-04T22:58:32.692831Z",
     "start_time": "2025-07-04T22:58:32.688632Z"
    }
   },
   "cell_type": "code",
   "source": [
    "# Temporarily make prices numeric (they are objects in the original data, so need to make a test of the proices as integers to test the mean() function on the proces.\n",
    "car_prices = pd.Series([23950, 31800, 16750])\n",
    "car_prices_mean = car_prices.mean()\n",
    "print(car_prices_mean)"
   ],
   "id": "8feda5370043a1cd",
   "outputs": [
    {
     "name": "stdout",
     "output_type": "stream",
     "text": [
      "24166.666666666668\n"
     ]
    }
   ],
   "execution_count": 44
  },
  {
   "metadata": {
    "ExecuteTime": {
     "end_time": "2025-07-04T22:59:51.423049Z",
     "start_time": "2025-07-04T22:59:51.418761Z"
    }
   },
   "cell_type": "code",
   "source": [
    "result = (car_prices[0] + car_prices[1] + car_prices[2])/3\n",
    "print(result)"
   ],
   "id": "aa2fefce9902dc8",
   "outputs": [
    {
     "name": "stdout",
     "output_type": "stream",
     "text": [
      "24166.666666666668\n"
     ]
    }
   ],
   "execution_count": 45
  },
  {
   "metadata": {
    "ExecuteTime": {
     "end_time": "2025-07-04T23:01:07.781852Z",
     "start_time": "2025-07-04T23:01:07.777240Z"
    }
   },
   "cell_type": "code",
   "source": "car_sales[\"Doors\"].sum()",
   "id": "3533a2d608dfe715",
   "outputs": [
    {
     "data": {
      "text/plain": [
       "40"
      ]
     },
     "execution_count": 46,
     "metadata": {},
     "output_type": "execute_result"
    }
   ],
   "execution_count": 46
  },
  {
   "metadata": {
    "ExecuteTime": {
     "end_time": "2025-07-04T23:54:21.850988Z",
     "start_time": "2025-07-04T23:54:21.845550Z"
    }
   },
   "cell_type": "code",
   "source": [
    "# length\n",
    "len(car_sales)"
   ],
   "id": "6e65fcbfecd5edaa",
   "outputs": [
    {
     "data": {
      "text/plain": [
       "10"
      ]
     },
     "execution_count": 47,
     "metadata": {},
     "output_type": "execute_result"
    }
   ],
   "execution_count": 47
  },
  {
   "metadata": {
    "ExecuteTime": {
     "end_time": "2025-07-04T23:56:35.710971Z",
     "start_time": "2025-07-04T23:56:35.706151Z"
    }
   },
   "cell_type": "code",
   "source": "car_sales.shape",
   "id": "e3834586a4153b6f",
   "outputs": [
    {
     "data": {
      "text/plain": [
       "(10, 5)"
      ]
     },
     "execution_count": 49,
     "metadata": {},
     "output_type": "execute_result"
    }
   ],
   "execution_count": 49
  },
  {
   "metadata": {},
   "cell_type": "markdown",
   "source": "## Viewing and Selecting Data",
   "id": "9bd986d23aee89cf"
  },
  {
   "metadata": {
    "ExecuteTime": {
     "end_time": "2025-07-05T00:02:00.836966Z",
     "start_time": "2025-07-05T00:02:00.827580Z"
    }
   },
   "cell_type": "code",
   "source": [
    "car_sales.head()\n",
    "car_sales.tail()"
   ],
   "id": "929c7477c6b557de",
   "outputs": [
    {
     "data": {
      "text/plain": [
       "     Make Colour  Odometer  Doors      Price\n",
       "5  Toyota  Green     99213      4  $4,500.00\n",
       "6   Honda   Blue     45698      4  $7,500.00\n",
       "7   Honda   Blue     54738      4  $7,000.00\n",
       "8  Toyota  White     60000      4  $6,250.00\n",
       "9  Nissan  White     31600      4  $9,700.00"
      ],
      "text/html": [
       "<div>\n",
       "<style scoped>\n",
       "    .dataframe tbody tr th:only-of-type {\n",
       "        vertical-align: middle;\n",
       "    }\n",
       "\n",
       "    .dataframe tbody tr th {\n",
       "        vertical-align: top;\n",
       "    }\n",
       "\n",
       "    .dataframe thead th {\n",
       "        text-align: right;\n",
       "    }\n",
       "</style>\n",
       "<table border=\"1\" class=\"dataframe\">\n",
       "  <thead>\n",
       "    <tr style=\"text-align: right;\">\n",
       "      <th></th>\n",
       "      <th>Make</th>\n",
       "      <th>Colour</th>\n",
       "      <th>Odometer</th>\n",
       "      <th>Doors</th>\n",
       "      <th>Price</th>\n",
       "    </tr>\n",
       "  </thead>\n",
       "  <tbody>\n",
       "    <tr>\n",
       "      <th>5</th>\n",
       "      <td>Toyota</td>\n",
       "      <td>Green</td>\n",
       "      <td>99213</td>\n",
       "      <td>4</td>\n",
       "      <td>$4,500.00</td>\n",
       "    </tr>\n",
       "    <tr>\n",
       "      <th>6</th>\n",
       "      <td>Honda</td>\n",
       "      <td>Blue</td>\n",
       "      <td>45698</td>\n",
       "      <td>4</td>\n",
       "      <td>$7,500.00</td>\n",
       "    </tr>\n",
       "    <tr>\n",
       "      <th>7</th>\n",
       "      <td>Honda</td>\n",
       "      <td>Blue</td>\n",
       "      <td>54738</td>\n",
       "      <td>4</td>\n",
       "      <td>$7,000.00</td>\n",
       "    </tr>\n",
       "    <tr>\n",
       "      <th>8</th>\n",
       "      <td>Toyota</td>\n",
       "      <td>White</td>\n",
       "      <td>60000</td>\n",
       "      <td>4</td>\n",
       "      <td>$6,250.00</td>\n",
       "    </tr>\n",
       "    <tr>\n",
       "      <th>9</th>\n",
       "      <td>Nissan</td>\n",
       "      <td>White</td>\n",
       "      <td>31600</td>\n",
       "      <td>4</td>\n",
       "      <td>$9,700.00</td>\n",
       "    </tr>\n",
       "  </tbody>\n",
       "</table>\n",
       "</div>"
      ]
     },
     "execution_count": 51,
     "metadata": {},
     "output_type": "execute_result"
    }
   ],
   "execution_count": 51
  },
  {
   "metadata": {
    "ExecuteTime": {
     "end_time": "2025-07-05T00:18:54.382828Z",
     "start_time": "2025-07-05T00:18:54.378275Z"
    }
   },
   "cell_type": "code",
   "source": [
    "# .loc and .iloc\n",
    "animals = pd.Series([\"cat\", \"dog\", \"mouse\", \"pterydactal\", \"eohippus\"], index=[0, 3, 9, 8, 3])"
   ],
   "id": "71578573c3477606",
   "outputs": [],
   "execution_count": 68
  },
  {
   "metadata": {},
   "cell_type": "markdown",
   "source": "## Using loc and iloc as well as splitting data using [:n]",
   "id": "ddca0bf5e8a226d2"
  },
  {
   "metadata": {
    "ExecuteTime": {
     "end_time": "2025-07-05T00:09:32.134942Z",
     "start_time": "2025-07-05T00:09:32.121794Z"
    }
   },
   "cell_type": "code",
   "source": [
    "# return all animals at index value = 3 (2 results come back)\n",
    "animals.loc[3]\n"
   ],
   "id": "86551e3fccfd706f",
   "outputs": [
    {
     "data": {
      "text/plain": [
       "3         dog\n",
       "3    eohippus\n",
       "dtype: object"
      ]
     },
     "execution_count": 54,
     "metadata": {},
     "output_type": "execute_result"
    }
   ],
   "execution_count": 54
  },
  {
   "metadata": {
    "ExecuteTime": {
     "end_time": "2025-07-05T00:10:19.780111Z",
     "start_time": "2025-07-05T00:10:19.775956Z"
    }
   },
   "cell_type": "code",
   "source": [
    "# iloc refers to position\n",
    "animals.iloc[3]"
   ],
   "id": "1411b96edc5a7245",
   "outputs": [
    {
     "data": {
      "text/plain": [
       "'pterydactal'"
      ]
     },
     "execution_count": 57,
     "metadata": {},
     "output_type": "execute_result"
    }
   ],
   "execution_count": 57
  },
  {
   "metadata": {
    "ExecuteTime": {
     "end_time": "2025-07-05T00:11:00.083902Z",
     "start_time": "2025-07-05T00:11:00.077339Z"
    }
   },
   "cell_type": "code",
   "source": [
    "# loc refers to index\n",
    "car_sales.loc[4]"
   ],
   "id": "778f17d694551f96",
   "outputs": [
    {
     "data": {
      "text/plain": [
       "Make           Nissan\n",
       "Colour          White\n",
       "Odometer       213095\n",
       "Doors               4\n",
       "Price       $3,500.00\n",
       "Name: 4, dtype: object"
      ]
     },
     "execution_count": 58,
     "metadata": {},
     "output_type": "execute_result"
    }
   ],
   "execution_count": 58
  },
  {
   "metadata": {
    "ExecuteTime": {
     "end_time": "2025-07-05T00:11:21.718320Z",
     "start_time": "2025-07-05T00:11:21.713289Z"
    }
   },
   "cell_type": "code",
   "source": "car_sales.iloc[2]",
   "id": "14e42acea8042e05",
   "outputs": [
    {
     "data": {
      "text/plain": [
       "Make           Toyota\n",
       "Colour           Blue\n",
       "Odometer        32549\n",
       "Doors               3\n",
       "Price       $7,000.00\n",
       "Name: 2, dtype: object"
      ]
     },
     "execution_count": 59,
     "metadata": {},
     "output_type": "execute_result"
    }
   ],
   "execution_count": 59
  },
  {
   "metadata": {
    "ExecuteTime": {
     "end_time": "2025-07-05T01:22:41.849409Z",
     "start_time": "2025-07-05T01:22:41.843729Z"
    }
   },
   "cell_type": "code",
   "source": "car_sales[\"Odometer\"]",
   "id": "6dcd619f3c3e8f03",
   "outputs": [
    {
     "data": {
      "text/plain": [
       "0    150043\n",
       "1     87889\n",
       "2     32549\n",
       "3     11179\n",
       "4    213095\n",
       "5     99213\n",
       "6     45698\n",
       "7     54738\n",
       "8     60000\n",
       "9     31600\n",
       "Name: Odometer, dtype: int64"
      ]
     },
     "execution_count": 71,
     "metadata": {},
     "output_type": "execute_result"
    }
   ],
   "execution_count": 71
  },
  {
   "metadata": {
    "ExecuteTime": {
     "end_time": "2025-07-05T00:15:42.403894Z",
     "start_time": "2025-07-05T00:15:42.397277Z"
    }
   },
   "cell_type": "code",
   "source": [
    "# give animals up to but not including 3\n",
    "animals.iloc[:3]"
   ],
   "id": "bda72537b0b97aeb",
   "outputs": [
    {
     "data": {
      "text/plain": [
       "0      cat\n",
       "3      dog\n",
       "9    mouse\n",
       "dtype: object"
      ]
     },
     "execution_count": 63,
     "metadata": {},
     "output_type": "execute_result"
    }
   ],
   "execution_count": 63
  },
  {
   "metadata": {
    "ExecuteTime": {
     "end_time": "2025-07-05T00:16:36.301952Z",
     "start_time": "2025-07-05T00:16:36.294029Z"
    }
   },
   "cell_type": "code",
   "source": "car_sales.iloc[:3]",
   "id": "c3c3e51a2e2281bf",
   "outputs": [
    {
     "data": {
      "text/plain": [
       "     Make Colour  Odometer  Doors      Price\n",
       "0  Toyota  White    150043      4  $4,000.00\n",
       "1   Honda    Red     87889      4  $5,000.00\n",
       "2  Toyota   Blue     32549      3  $7,000.00"
      ],
      "text/html": [
       "<div>\n",
       "<style scoped>\n",
       "    .dataframe tbody tr th:only-of-type {\n",
       "        vertical-align: middle;\n",
       "    }\n",
       "\n",
       "    .dataframe tbody tr th {\n",
       "        vertical-align: top;\n",
       "    }\n",
       "\n",
       "    .dataframe thead th {\n",
       "        text-align: right;\n",
       "    }\n",
       "</style>\n",
       "<table border=\"1\" class=\"dataframe\">\n",
       "  <thead>\n",
       "    <tr style=\"text-align: right;\">\n",
       "      <th></th>\n",
       "      <th>Make</th>\n",
       "      <th>Colour</th>\n",
       "      <th>Odometer</th>\n",
       "      <th>Doors</th>\n",
       "      <th>Price</th>\n",
       "    </tr>\n",
       "  </thead>\n",
       "  <tbody>\n",
       "    <tr>\n",
       "      <th>0</th>\n",
       "      <td>Toyota</td>\n",
       "      <td>White</td>\n",
       "      <td>150043</td>\n",
       "      <td>4</td>\n",
       "      <td>$4,000.00</td>\n",
       "    </tr>\n",
       "    <tr>\n",
       "      <th>1</th>\n",
       "      <td>Honda</td>\n",
       "      <td>Red</td>\n",
       "      <td>87889</td>\n",
       "      <td>4</td>\n",
       "      <td>$5,000.00</td>\n",
       "    </tr>\n",
       "    <tr>\n",
       "      <th>2</th>\n",
       "      <td>Toyota</td>\n",
       "      <td>Blue</td>\n",
       "      <td>32549</td>\n",
       "      <td>3</td>\n",
       "      <td>$7,000.00</td>\n",
       "    </tr>\n",
       "  </tbody>\n",
       "</table>\n",
       "</div>"
      ]
     },
     "execution_count": 65,
     "metadata": {},
     "output_type": "execute_result"
    }
   ],
   "execution_count": 65
  },
  {
   "metadata": {
    "ExecuteTime": {
     "end_time": "2025-07-05T00:17:04.435210Z",
     "start_time": "2025-07-05T00:17:04.428104Z"
    }
   },
   "cell_type": "code",
   "source": "car_sales[\"Make\"]",
   "id": "39bc3c55a7b3c659",
   "outputs": [
    {
     "data": {
      "text/plain": [
       "0    Toyota\n",
       "1     Honda\n",
       "2    Toyota\n",
       "3       BMW\n",
       "4    Nissan\n",
       "5    Toyota\n",
       "6     Honda\n",
       "7     Honda\n",
       "8    Toyota\n",
       "9    Nissan\n",
       "Name: Make, dtype: object"
      ]
     },
     "execution_count": 66,
     "metadata": {},
     "output_type": "execute_result"
    }
   ],
   "execution_count": 66
  },
  {
   "metadata": {
    "ExecuteTime": {
     "end_time": "2025-07-05T00:17:34.109541Z",
     "start_time": "2025-07-05T00:17:34.105032Z"
    }
   },
   "cell_type": "code",
   "source": "car_sales.Make",
   "id": "1f922a9b7da26d94",
   "outputs": [
    {
     "data": {
      "text/plain": [
       "0    Toyota\n",
       "1     Honda\n",
       "2    Toyota\n",
       "3       BMW\n",
       "4    Nissan\n",
       "5    Toyota\n",
       "6     Honda\n",
       "7     Honda\n",
       "8    Toyota\n",
       "9    Nissan\n",
       "Name: Make, dtype: object"
      ]
     },
     "execution_count": 67,
     "metadata": {},
     "output_type": "execute_result"
    }
   ],
   "execution_count": 67
  },
  {
   "metadata": {
    "ExecuteTime": {
     "end_time": "2025-07-05T01:38:38.331916Z",
     "start_time": "2025-07-05T01:38:38.325106Z"
    }
   },
   "cell_type": "code",
   "source": [
    "# now get all car sales where the Make = 'Toyota'\n",
    "# BOOLEAN indexing\n",
    "results = car_sales[car_sales[\"Make\"] == \"Toyota\"]\n",
    "print(results)\n"
   ],
   "id": "b354e29aaac08a3",
   "outputs": [
    {
     "name": "stdout",
     "output_type": "stream",
     "text": [
      "     Make Colour  Odometer  Doors      Price\n",
      "0  Toyota  White    150043      4  $4,000.00\n",
      "2  Toyota   Blue     32549      3  $7,000.00\n",
      "5  Toyota  Green     99213      4  $4,500.00\n",
      "8  Toyota  White     60000      4  $6,250.00\n"
     ]
    }
   ],
   "execution_count": 95
  },
  {
   "metadata": {
    "ExecuteTime": {
     "end_time": "2025-07-05T01:38:38.985314Z",
     "start_time": "2025-07-05T01:38:38.980803Z"
    }
   },
   "cell_type": "code",
   "source": [
    "results2 = [results[\"Odometer\"] > 40000]\n",
    "print(results2)"
   ],
   "id": "a55d6d32f2ba6ecd",
   "outputs": [
    {
     "name": "stdout",
     "output_type": "stream",
     "text": [
      "[0     True\n",
      "2    False\n",
      "5     True\n",
      "8     True\n",
      "Name: Odometer, dtype: bool]\n"
     ]
    }
   ],
   "execution_count": 96
  }
 ],
 "metadata": {
  "kernelspec": {
   "display_name": "Python 3",
   "language": "python",
   "name": "python3"
  },
  "language_info": {
   "codemirror_mode": {
    "name": "ipython",
    "version": 2
   },
   "file_extension": ".py",
   "mimetype": "text/x-python",
   "name": "python",
   "nbconvert_exporter": "python",
   "pygments_lexer": "ipython2",
   "version": "2.7.6"
  }
 },
 "nbformat": 4,
 "nbformat_minor": 5
}
