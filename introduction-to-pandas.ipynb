{
 "cells": [
  {
   "metadata": {},
   "cell_type": "markdown",
   "source": [
    "![](6-step-ml-framework.png)\n",
    "Framework Overview"
   ],
   "id": "ed2fe5fc7e72d9aa"
  },
  {
   "metadata": {
    "ExecuteTime": {
     "end_time": "2025-07-01T21:32:25.336901Z",
     "start_time": "2025-07-01T21:32:25.054472Z"
    }
   },
   "cell_type": "code",
   "source": "import pandas as pd",
   "id": "7a8d6e26f2e12662",
   "outputs": [],
   "execution_count": 3
  },
  {
   "metadata": {
    "ExecuteTime": {
     "end_time": "2025-07-01T21:33:50.528122Z",
     "start_time": "2025-07-01T21:33:50.517925Z"
    }
   },
   "cell_type": "code",
   "source": [
    "# 2 main data types\n",
    "troy_series = pd.Series([\"BMW\", \"Toyota\", \"Mazda\"])"
   ],
   "id": "6abec45074d41ac6",
   "outputs": [],
   "execution_count": 5
  },
  {
   "metadata": {
    "ExecuteTime": {
     "end_time": "2025-07-01T21:34:07.678492Z",
     "start_time": "2025-07-01T21:34:07.673110Z"
    }
   },
   "cell_type": "code",
   "source": "print(troy_series)",
   "id": "484f33cc1d3d553c",
   "outputs": [
    {
     "name": "stdout",
     "output_type": "stream",
     "text": [
      "0       BMW\n",
      "1    Toyota\n",
      "2     Mazda\n",
      "dtype: object\n"
     ]
    }
   ],
   "execution_count": 6
  },
  {
   "metadata": {},
   "cell_type": "code",
   "outputs": [],
   "execution_count": null,
   "source": "",
   "id": "d12b9e23160556c7"
  }
 ],
 "metadata": {
  "kernelspec": {
   "display_name": "Python 3",
   "language": "python",
   "name": "python3"
  },
  "language_info": {
   "codemirror_mode": {
    "name": "ipython",
    "version": 2
   },
   "file_extension": ".py",
   "mimetype": "text/x-python",
   "name": "python",
   "nbconvert_exporter": "python",
   "pygments_lexer": "ipython2",
   "version": "2.7.6"
  }
 },
 "nbformat": 4,
 "nbformat_minor": 5
}
