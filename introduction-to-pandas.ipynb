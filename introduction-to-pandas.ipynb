{
 "cells": [
  {
   "metadata": {},
   "cell_type": "markdown",
   "source": [
    " ![](6-step-ml-framework.png)\n",
    "Framework Overview"
   ],
   "id": "ed2fe5fc7e72d9aa"
  },
  {
   "metadata": {
    "ExecuteTime": {
     "end_time": "2025-07-04T22:24:34.863323Z",
     "start_time": "2025-07-04T22:24:34.859930Z"
    }
   },
   "cell_type": "code",
   "source": "import pandas as pd",
   "id": "7a8d6e26f2e12662",
   "outputs": [],
   "execution_count": 18
  },
  {
   "metadata": {},
   "cell_type": "markdown",
   "source": "## Create 4 series, for cars and colours",
   "id": "82704ff0fc478373"
  },
  {
   "metadata": {
    "ExecuteTime": {
     "end_time": "2025-07-04T22:24:34.886953Z",
     "start_time": "2025-07-04T22:24:34.881891Z"
    }
   },
   "cell_type": "code",
   "source": [
    "# 2 main data types\n",
    "troy_series1 = pd.Series([\"BMW\", \"Toyota\", \"Mazda\"])\n",
    "troy_series2 = pd.Series([\"Ford\", \"Chevrolet\", \"Dodge\"])\n",
    "troy_series3 = pd.Series([\"Kia\", \"Fiat\", \"Mercedes\"])\n",
    "colours = pd.Series([\"Red\", \"Green\", \"Blue\"])"
   ],
   "id": "6abec45074d41ac6",
   "outputs": [],
   "execution_count": 19
  },
  {
   "metadata": {},
   "cell_type": "markdown",
   "source": "## Print the Series",
   "id": "fe07f64fe62cf3f9"
  },
  {
   "metadata": {
    "ExecuteTime": {
     "end_time": "2025-07-04T22:24:34.902939Z",
     "start_time": "2025-07-04T22:24:34.896156Z"
    }
   },
   "cell_type": "code",
   "source": [
    "print(troy_series1)\n",
    "print(troy_series2)\n",
    "print(troy_series3)"
   ],
   "id": "484f33cc1d3d553c",
   "outputs": [
    {
     "name": "stdout",
     "output_type": "stream",
     "text": [
      "0       BMW\n",
      "1    Toyota\n",
      "2     Mazda\n",
      "dtype: object\n",
      "0         Ford\n",
      "1    Chevrolet\n",
      "2        Dodge\n",
      "dtype: object\n",
      "0         Kia\n",
      "1        Fiat\n",
      "2    Mercedes\n",
      "dtype: object\n"
     ]
    }
   ],
   "execution_count": 20
  },
  {
   "metadata": {},
   "cell_type": "markdown",
   "source": "## Pass series to Data Frame and use a Python dictionary to create the data Frame",
   "id": "d65b56855532d197"
  },
  {
   "metadata": {
    "ExecuteTime": {
     "end_time": "2025-07-04T22:24:34.984841Z",
     "start_time": "2025-07-04T22:24:34.979029Z"
    }
   },
   "cell_type": "code",
   "source": [
    "car_data = pd.DataFrame({\"Car Make 1\": troy_series1, \"Car Make 2\": troy_series2, \"Car Make 3\": troy_series3, \"Colour\": colours})\n",
    "print(car_data)"
   ],
   "id": "d12b9e23160556c7",
   "outputs": [
    {
     "name": "stdout",
     "output_type": "stream",
     "text": [
      "  Car Make 1 Car Make 2 Car Make 3 Colour\n",
      "0        BMW       Ford        Kia    Red\n",
      "1     Toyota  Chevrolet       Fiat  Green\n",
      "2      Mazda      Dodge   Mercedes   Blue\n"
     ]
    }
   ],
   "execution_count": 21
  },
  {
   "metadata": {},
   "cell_type": "markdown",
   "source": "## Import Data instead of creating a dict()",
   "id": "d829caebe033a816"
  },
  {
   "metadata": {
    "ExecuteTime": {
     "end_time": "2025-07-04T22:25:07.286197Z",
     "start_time": "2025-07-04T22:25:07.279419Z"
    }
   },
   "cell_type": "code",
   "source": [
    "# Import Data from file\n",
    "car_sales = pd.read_csv(\"car-sales.csv\")"
   ],
   "id": "c0a799ed55bb4a5f",
   "outputs": [],
   "execution_count": 25
  },
  {
   "metadata": {
    "ExecuteTime": {
     "end_time": "2025-07-04T22:25:07.835007Z",
     "start_time": "2025-07-04T22:25:07.828374Z"
    }
   },
   "cell_type": "code",
   "source": "print(car_sales)",
   "id": "3eeb18a88284ee60",
   "outputs": [
    {
     "name": "stdout",
     "output_type": "stream",
     "text": [
      "     Make Colour  Odometer  Doors       Price\n",
      "0  Toyota  White    150043      4   $4,000.00\n",
      "1   Honda    Red     87889      4   $5,000.00\n",
      "2  Toyota   Blue     32549      3   $7,000.00\n",
      "3     BMW  Black     11179      5  $22,000.00\n",
      "4  Nissan  White    213095      4   $3,500.00\n",
      "5  Toyota  Green     99213      4   $4,500.00\n",
      "6   Honda   Blue     45698      4   $7,500.00\n",
      "7   Honda   Blue     54738      4   $7,000.00\n",
      "8  Toyota  White     60000      4   $6,250.00\n",
      "9  Nissan  White     31600      4   $9,700.00\n"
     ]
    }
   ],
   "execution_count": 26
  },
  {
   "metadata": {},
   "cell_type": "markdown",
   "source": "## Exporting a DataFrame",
   "id": "998f3853369b3f2f"
  },
  {
   "metadata": {
    "ExecuteTime": {
     "end_time": "2025-07-04T22:25:09.683115Z",
     "start_time": "2025-07-04T22:25:09.677616Z"
    }
   },
   "cell_type": "code",
   "source": "car_sales.to_csv(\"car-sales_EXPORTED.csv\", index=False)",
   "id": "b32f2d7a67979db9",
   "outputs": [],
   "execution_count": 27
  },
  {
   "metadata": {},
   "cell_type": "markdown",
   "source": "## Import the exported car data",
   "id": "13a7c60167fcc84e"
  },
  {
   "metadata": {
    "ExecuteTime": {
     "end_time": "2025-07-04T22:25:32.589423Z",
     "start_time": "2025-07-04T22:25:32.580472Z"
    }
   },
   "cell_type": "code",
   "source": [
    "exported_car_sales = pd.read_csv(\"car-sales_EXPORTED.csv\")\n",
    "print(exported_car_sales)"
   ],
   "id": "5eb04bdba635098c",
   "outputs": [
    {
     "name": "stdout",
     "output_type": "stream",
     "text": [
      "     Make Colour  Odometer  Doors       Price\n",
      "0  Toyota  White    150043      4   $4,000.00\n",
      "1   Honda    Red     87889      4   $5,000.00\n",
      "2  Toyota   Blue     32549      3   $7,000.00\n",
      "3     BMW  Black     11179      5  $22,000.00\n",
      "4  Nissan  White    213095      4   $3,500.00\n",
      "5  Toyota  Green     99213      4   $4,500.00\n",
      "6   Honda   Blue     45698      4   $7,500.00\n",
      "7   Honda   Blue     54738      4   $7,000.00\n",
      "8  Toyota  White     60000      4   $6,250.00\n",
      "9  Nissan  White     31600      4   $9,700.00\n"
     ]
    }
   ],
   "execution_count": 29
  },
  {
   "metadata": {},
   "cell_type": "markdown",
   "source": "## Describe Data",
   "id": "85743cd04beb3aee"
  },
  {
   "metadata": {
    "ExecuteTime": {
     "end_time": "2025-07-04T22:32:51.088929Z",
     "start_time": "2025-07-04T22:32:51.080212Z"
    }
   },
   "cell_type": "code",
   "source": [
    "# This is an attribute\n",
    "car_sales.dtypes\n",
    "\n",
    "#This is a function\n",
    "#car_sales.to_csv()"
   ],
   "id": "6566a475b8a854d6",
   "outputs": [
    {
     "data": {
      "text/plain": [
       "Make        object\n",
       "Colour      object\n",
       "Odometer     int64\n",
       "Doors        int64\n",
       "Price       object\n",
       "dtype: object"
      ]
     },
     "execution_count": 30,
     "metadata": {},
     "output_type": "execute_result"
    }
   ],
   "execution_count": 30
  },
  {
   "metadata": {
    "ExecuteTime": {
     "end_time": "2025-07-04T22:40:55.658888Z",
     "start_time": "2025-07-04T22:40:55.654055Z"
    }
   },
   "cell_type": "code",
   "source": [
    "# Columns\n",
    "car_columns = car_sales.columns\n",
    "print(car_columns)"
   ],
   "id": "36850a90c0684ede",
   "outputs": [
    {
     "name": "stdout",
     "output_type": "stream",
     "text": [
      "Index(['Make', 'Colour', 'Odometer', 'Doors', 'Price'], dtype='object')\n"
     ]
    }
   ],
   "execution_count": 33
  },
  {
   "metadata": {
    "ExecuteTime": {
     "end_time": "2025-07-04T22:44:23.304742Z",
     "start_time": "2025-07-04T22:44:23.296530Z"
    }
   },
   "cell_type": "code",
   "source": [
    "# Car Sales index\n",
    "print(car_sales.index)\n",
    "print(car_sales)"
   ],
   "id": "3ed6e6afda696335",
   "outputs": [
    {
     "name": "stdout",
     "output_type": "stream",
     "text": [
      "RangeIndex(start=0, stop=10, step=1)\n",
      "     Make Colour  Odometer  Doors       Price\n",
      "0  Toyota  White    150043      4   $4,000.00\n",
      "1   Honda    Red     87889      4   $5,000.00\n",
      "2  Toyota   Blue     32549      3   $7,000.00\n",
      "3     BMW  Black     11179      5  $22,000.00\n",
      "4  Nissan  White    213095      4   $3,500.00\n",
      "5  Toyota  Green     99213      4   $4,500.00\n",
      "6   Honda   Blue     45698      4   $7,500.00\n",
      "7   Honda   Blue     54738      4   $7,000.00\n",
      "8  Toyota  White     60000      4   $6,250.00\n",
      "9  Nissan  White     31600      4   $9,700.00\n"
     ]
    }
   ],
   "execution_count": 37
  },
  {
   "metadata": {
    "ExecuteTime": {
     "end_time": "2025-07-04T22:45:38.493348Z",
     "start_time": "2025-07-04T22:45:38.475467Z"
    }
   },
   "cell_type": "code",
   "source": [
    "# Describe Car Sales - only works on numeric columns\n",
    "print(car_sales.describe())"
   ],
   "id": "ce9e5ecc6d9a7abc",
   "outputs": [
    {
     "name": "stdout",
     "output_type": "stream",
     "text": [
      "            Odometer      Doors\n",
      "count      10.000000  10.000000\n",
      "mean    78600.400000   4.000000\n",
      "std     61983.305147   0.471405\n",
      "min     11179.000000   3.000000\n",
      "25%     35836.250000   4.000000\n",
      "50%     57369.000000   4.000000\n",
      "75%     96382.000000   4.000000\n",
      "max    213095.000000   5.000000\n"
     ]
    }
   ],
   "execution_count": 38
  },
  {
   "metadata": {},
   "cell_type": "code",
   "outputs": [],
   "execution_count": null,
   "source": "",
   "id": "c464eb7fff1fc138"
  }
 ],
 "metadata": {
  "kernelspec": {
   "display_name": "Python 3",
   "language": "python",
   "name": "python3"
  },
  "language_info": {
   "codemirror_mode": {
    "name": "ipython",
    "version": 2
   },
   "file_extension": ".py",
   "mimetype": "text/x-python",
   "name": "python",
   "nbconvert_exporter": "python",
   "pygments_lexer": "ipython2",
   "version": "2.7.6"
  }
 },
 "nbformat": 4,
 "nbformat_minor": 5
}
